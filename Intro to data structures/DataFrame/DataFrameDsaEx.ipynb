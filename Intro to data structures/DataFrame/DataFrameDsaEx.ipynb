{
 "cells": [
  {
   "cell_type": "markdown",
   "id": "8695e02f-31c9-4d1a-bf44-9da149509245",
   "metadata": {},
   "source": [
    "# DataFrame"
   ]
  },
  {
   "cell_type": "markdown",
   "id": "ee27b050-b9cb-4b1f-89d5-0ffe45b1889e",
   "metadata": {},
   "source": [
    "# DataFrame is a 2 diamenetional labled data stucture with coloumn of diffrent data type."
   ]
  },
  {
   "cell_type": "markdown",
   "id": "9cc7c00a-efda-4ac8-8dd3-fba5fd07dd55",
   "metadata": {},
   "source": [
    "Its like a spredsheet or sql table or dict of series of obj. The most commanly used pandas obj like Series, DataFrame aceept many kind of i/p\n",
    "Dict of 1D ndarray, list, dict or series\n",
    "2D numpy.ndarray \n",
    "Stucture or record ndarray\n",
    "a series or another datafrane"
   ]
  },
  {
   "cell_type": "markdown",
   "id": "c2273935-bc7e-4f0a-9c8d-207d6464902f",
   "metadata": {},
   "source": [
    "optionally pass index(row lable), columns (column lable) arg. If you pass and index or columns it show the resulting dataframe "
   ]
  },
  {
   "cell_type": "markdown",
   "id": "14acb6c3-e9c9-4ec9-9df1-ff195eabdfb5",
   "metadata": {},
   "source": [
    "If axis labels are not passed, they will be constructed from the input data based on common sense rules"
   ]
  },
  {
   "cell_type": "markdown",
   "id": "808580c7-ddda-433b-9c06-f17d3e341b3a",
   "metadata": {},
   "source": [
    "# From dict of Series or dicts"
   ]
  },
  {
   "cell_type": "markdown",
   "id": "b9bde889-6f4b-4040-89d8-357fe62120df",
   "metadata": {},
   "source": [
    "The resulting index will be union of the indexes of varies series. if there will be nasted dict, these will be first converted to series . If no coloumn are passed the coulmn will be the oreded list od dict."
   ]
  },
  {
   "cell_type": "code",
   "execution_count": 5,
   "id": "adc2aece-5e05-4f9a-8e08-c3d53b52e9ad",
   "metadata": {},
   "outputs": [],
   "source": [
    "import numpy as np\n",
    "import pandas as pd"
   ]
  },
  {
   "cell_type": "code",
   "execution_count": 6,
   "id": "d65b2db5-f8f1-4839-98e0-622796697fe4",
   "metadata": {},
   "outputs": [],
   "source": [
    "d = {\n",
    "    'one': pd.Series([1.0, 2.0, 3.0], index=['a', 'b', 'c']),\n",
    "    'two': pd.Series([1.0, 2.0, 3.0, 4.0], index=['a', 'b', 'c', 'd'])\n",
    "}"
   ]
  },
  {
   "cell_type": "code",
   "execution_count": 7,
   "id": "c7ba4f05-3b17-4668-b385-aca7737159e0",
   "metadata": {},
   "outputs": [
    {
     "data": {
      "text/plain": [
       "{'one': a    1.0\n",
       " b    2.0\n",
       " c    3.0\n",
       " dtype: float64,\n",
       " 'two': a    1.0\n",
       " b    2.0\n",
       " c    3.0\n",
       " d    4.0\n",
       " dtype: float64}"
      ]
     },
     "execution_count": 7,
     "metadata": {},
     "output_type": "execute_result"
    }
   ],
   "source": [
    "d"
   ]
  },
  {
   "cell_type": "code",
   "execution_count": 8,
   "id": "d57db0be-5358-451c-8caa-9d38ebe35786",
   "metadata": {},
   "outputs": [],
   "source": [
    "df = pd.DataFrame(d)"
   ]
  },
  {
   "cell_type": "markdown",
   "id": "38b47a10-c9fc-4d44-8e03-918e26a42589",
   "metadata": {},
   "source": [
    "df"
   ]
  },
  {
   "cell_type": "code",
   "execution_count": 9,
   "id": "d63403d3-8871-41b6-bcdf-43a29c2a8819",
   "metadata": {},
   "outputs": [
    {
     "data": {
      "text/html": [
       "<div>\n",
       "<style scoped>\n",
       "    .dataframe tbody tr th:only-of-type {\n",
       "        vertical-align: middle;\n",
       "    }\n",
       "\n",
       "    .dataframe tbody tr th {\n",
       "        vertical-align: top;\n",
       "    }\n",
       "\n",
       "    .dataframe thead th {\n",
       "        text-align: right;\n",
       "    }\n",
       "</style>\n",
       "<table border=\"1\" class=\"dataframe\">\n",
       "  <thead>\n",
       "    <tr style=\"text-align: right;\">\n",
       "      <th></th>\n",
       "      <th>one</th>\n",
       "      <th>two</th>\n",
       "    </tr>\n",
       "  </thead>\n",
       "  <tbody>\n",
       "    <tr>\n",
       "      <th>d</th>\n",
       "      <td>NaN</td>\n",
       "      <td>4.0</td>\n",
       "    </tr>\n",
       "    <tr>\n",
       "      <th>b</th>\n",
       "      <td>2.0</td>\n",
       "      <td>2.0</td>\n",
       "    </tr>\n",
       "    <tr>\n",
       "      <th>A</th>\n",
       "      <td>NaN</td>\n",
       "      <td>NaN</td>\n",
       "    </tr>\n",
       "  </tbody>\n",
       "</table>\n",
       "</div>"
      ],
      "text/plain": [
       "   one  two\n",
       "d  NaN  4.0\n",
       "b  2.0  2.0\n",
       "A  NaN  NaN"
      ]
     },
     "execution_count": 9,
     "metadata": {},
     "output_type": "execute_result"
    }
   ],
   "source": [
    "pd.DataFrame(d, index=[\"d\", \"b\" ,\"A\"])"
   ]
  },
  {
   "cell_type": "code",
   "execution_count": 10,
   "id": "2e7b0121-14be-4f42-a898-350a579a98e8",
   "metadata": {},
   "outputs": [
    {
     "data": {
      "text/html": [
       "<div>\n",
       "<style scoped>\n",
       "    .dataframe tbody tr th:only-of-type {\n",
       "        vertical-align: middle;\n",
       "    }\n",
       "\n",
       "    .dataframe tbody tr th {\n",
       "        vertical-align: top;\n",
       "    }\n",
       "\n",
       "    .dataframe thead th {\n",
       "        text-align: right;\n",
       "    }\n",
       "</style>\n",
       "<table border=\"1\" class=\"dataframe\">\n",
       "  <thead>\n",
       "    <tr style=\"text-align: right;\">\n",
       "      <th></th>\n",
       "      <th>two</th>\n",
       "      <th>three</th>\n",
       "    </tr>\n",
       "  </thead>\n",
       "  <tbody>\n",
       "    <tr>\n",
       "      <th>d</th>\n",
       "      <td>4.0</td>\n",
       "      <td>NaN</td>\n",
       "    </tr>\n",
       "    <tr>\n",
       "      <th>b</th>\n",
       "      <td>2.0</td>\n",
       "      <td>NaN</td>\n",
       "    </tr>\n",
       "    <tr>\n",
       "      <th>a</th>\n",
       "      <td>1.0</td>\n",
       "      <td>NaN</td>\n",
       "    </tr>\n",
       "  </tbody>\n",
       "</table>\n",
       "</div>"
      ],
      "text/plain": [
       "   two three\n",
       "d  4.0   NaN\n",
       "b  2.0   NaN\n",
       "a  1.0   NaN"
      ]
     },
     "execution_count": 10,
     "metadata": {},
     "output_type": "execute_result"
    }
   ],
   "source": [
    "pd.DataFrame(d, index=[\"d\", \"b\", \"a\"], columns = [\"two\", \"three\"])"
   ]
  },
  {
   "cell_type": "markdown",
   "id": "937fe201-eda6-4d33-8121-e52cefa784db",
   "metadata": {},
   "source": [
    "The row and column labels can be accessed respectively by accessing the index and columns attributes:"
   ]
  },
  {
   "cell_type": "markdown",
   "id": "301fc299-62d4-4ce9-9f3b-c8b78ef17eb7",
   "metadata": {},
   "source": [
    "# Note"
   ]
  },
  {
   "cell_type": "markdown",
   "id": "d73d390d-24af-4fc7-841b-12b8837ca8a3",
   "metadata": {},
   "source": [
    "When a particular set of columns is passed along with a dict of data, the passed columns override the keys in the dict."
   ]
  },
  {
   "cell_type": "code",
   "execution_count": 11,
   "id": "b569cb49-4fb5-47c0-b34c-13414043eee7",
   "metadata": {},
   "outputs": [
    {
     "data": {
      "text/plain": [
       "Index(['a', 'b', 'c', 'd'], dtype='object')"
      ]
     },
     "execution_count": 11,
     "metadata": {},
     "output_type": "execute_result"
    }
   ],
   "source": [
    "df.index"
   ]
  },
  {
   "cell_type": "code",
   "execution_count": 12,
   "id": "e9c72be5-931d-4ac7-8041-dc5f111332ab",
   "metadata": {},
   "outputs": [
    {
     "data": {
      "text/plain": [
       "Index(['one', 'two'], dtype='object')"
      ]
     },
     "execution_count": 12,
     "metadata": {},
     "output_type": "execute_result"
    }
   ],
   "source": [
    "df.columns"
   ]
  },
  {
   "cell_type": "markdown",
   "id": "778c4e3f-dad6-4306-9cbd-00c70eb208e0",
   "metadata": {},
   "source": [
    "# From dict of ndarray / List"
   ]
  },
  {
   "cell_type": "markdown",
   "id": "345fafad-c1d5-4388-819b-3fae4fb689e6",
   "metadata": {},
   "source": [
    "All ndarray must share same length, if an index passee thedn the inded six be a length array\n",
    "if no array pass then then the it will take range(n)  n is length array."
   ]
  },
  {
   "cell_type": "code",
   "execution_count": 13,
   "id": "f8236f46-9503-4ff0-a6b0-a252de96b120",
   "metadata": {},
   "outputs": [],
   "source": [
    "d ={\n",
    "    \"one\": [1.0,2.0,3.0,4.0],\n",
    "    \"two\": [4.0,3.0,2.0,1.0],\n",
    "}"
   ]
  },
  {
   "cell_type": "code",
   "execution_count": 14,
   "id": "cfe6ec46-28ab-4152-b1a5-25129b8514e3",
   "metadata": {},
   "outputs": [
    {
     "data": {
      "text/plain": [
       "{'one': [1.0, 2.0, 3.0, 4.0], 'two': [4.0, 3.0, 2.0, 1.0]}"
      ]
     },
     "execution_count": 14,
     "metadata": {},
     "output_type": "execute_result"
    }
   ],
   "source": [
    "d"
   ]
  },
  {
   "cell_type": "code",
   "execution_count": 16,
   "id": "36d294c7-5316-4e6e-920a-6c4d1b502591",
   "metadata": {},
   "outputs": [
    {
     "data": {
      "text/html": [
       "<div>\n",
       "<style scoped>\n",
       "    .dataframe tbody tr th:only-of-type {\n",
       "        vertical-align: middle;\n",
       "    }\n",
       "\n",
       "    .dataframe tbody tr th {\n",
       "        vertical-align: top;\n",
       "    }\n",
       "\n",
       "    .dataframe thead th {\n",
       "        text-align: right;\n",
       "    }\n",
       "</style>\n",
       "<table border=\"1\" class=\"dataframe\">\n",
       "  <thead>\n",
       "    <tr style=\"text-align: right;\">\n",
       "      <th></th>\n",
       "      <th>one</th>\n",
       "      <th>two</th>\n",
       "    </tr>\n",
       "  </thead>\n",
       "  <tbody>\n",
       "    <tr>\n",
       "      <th>0</th>\n",
       "      <td>1.0</td>\n",
       "      <td>4.0</td>\n",
       "    </tr>\n",
       "    <tr>\n",
       "      <th>1</th>\n",
       "      <td>2.0</td>\n",
       "      <td>3.0</td>\n",
       "    </tr>\n",
       "    <tr>\n",
       "      <th>2</th>\n",
       "      <td>3.0</td>\n",
       "      <td>2.0</td>\n",
       "    </tr>\n",
       "    <tr>\n",
       "      <th>3</th>\n",
       "      <td>4.0</td>\n",
       "      <td>1.0</td>\n",
       "    </tr>\n",
       "  </tbody>\n",
       "</table>\n",
       "</div>"
      ],
      "text/plain": [
       "   one  two\n",
       "0  1.0  4.0\n",
       "1  2.0  3.0\n",
       "2  3.0  2.0\n",
       "3  4.0  1.0"
      ]
     },
     "execution_count": 16,
     "metadata": {},
     "output_type": "execute_result"
    }
   ],
   "source": [
    "pd.DataFrame(d) # lenth of index in by defaul and it range(n) , row "
   ]
  },
  {
   "cell_type": "code",
   "execution_count": 18,
   "id": "29648330-fe7b-4a40-a65e-1be0e0a6600b",
   "metadata": {},
   "outputs": [
    {
     "data": {
      "text/html": [
       "<div>\n",
       "<style scoped>\n",
       "    .dataframe tbody tr th:only-of-type {\n",
       "        vertical-align: middle;\n",
       "    }\n",
       "\n",
       "    .dataframe tbody tr th {\n",
       "        vertical-align: top;\n",
       "    }\n",
       "\n",
       "    .dataframe thead th {\n",
       "        text-align: right;\n",
       "    }\n",
       "</style>\n",
       "<table border=\"1\" class=\"dataframe\">\n",
       "  <thead>\n",
       "    <tr style=\"text-align: right;\">\n",
       "      <th></th>\n",
       "      <th>one</th>\n",
       "      <th>two</th>\n",
       "    </tr>\n",
       "  </thead>\n",
       "  <tbody>\n",
       "    <tr>\n",
       "      <th>a</th>\n",
       "      <td>1.0</td>\n",
       "      <td>4.0</td>\n",
       "    </tr>\n",
       "    <tr>\n",
       "      <th>b</th>\n",
       "      <td>2.0</td>\n",
       "      <td>3.0</td>\n",
       "    </tr>\n",
       "    <tr>\n",
       "      <th>c</th>\n",
       "      <td>3.0</td>\n",
       "      <td>2.0</td>\n",
       "    </tr>\n",
       "    <tr>\n",
       "      <th>d</th>\n",
       "      <td>4.0</td>\n",
       "      <td>1.0</td>\n",
       "    </tr>\n",
       "  </tbody>\n",
       "</table>\n",
       "</div>"
      ],
      "text/plain": [
       "   one  two\n",
       "a  1.0  4.0\n",
       "b  2.0  3.0\n",
       "c  3.0  2.0\n",
       "d  4.0  1.0"
      ]
     },
     "execution_count": 18,
     "metadata": {},
     "output_type": "execute_result"
    }
   ],
   "source": [
    "pd.DataFrame(d, index=[\"a\",\"b\",\"c\",\"d\"]) # passed index and it length is lengh of dict value"
   ]
  },
  {
   "cell_type": "code",
   "execution_count": null,
   "id": "4c9e810b-4aa6-480c-be72-1a49a256f241",
   "metadata": {},
   "outputs": [],
   "source": []
  }
 ],
 "metadata": {
  "kernelspec": {
   "display_name": "Python 3 (ipykernel)",
   "language": "python",
   "name": "python3"
  },
  "language_info": {
   "codemirror_mode": {
    "name": "ipython",
    "version": 3
   },
   "file_extension": ".py",
   "mimetype": "text/x-python",
   "name": "python",
   "nbconvert_exporter": "python",
   "pygments_lexer": "ipython3",
   "version": "3.12.4"
  }
 },
 "nbformat": 4,
 "nbformat_minor": 5
}
