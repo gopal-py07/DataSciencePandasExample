{
 "cells": [
  {
   "cell_type": "markdown",
   "id": "a7ec7c2f-ebb8-4146-9e28-421bc8d13379",
   "metadata": {},
   "source": [
    "This notebook wile cover Series DataStucture of pandas with examples"
   ]
  },
  {
   "cell_type": "code",
   "execution_count": 3,
   "id": "05dec945-c452-4133-9f1c-620bae7bb7b3",
   "metadata": {},
   "outputs": [],
   "source": [
    "import pandas as pd\n",
    "import numpy as np"
   ]
  },
  {
   "cell_type": "markdown",
   "id": "741d564e-9f12-4592-a1f3-f1248a1bd39a",
   "metadata": {},
   "source": [
    "# Series"
   ]
  },
  {
   "cell_type": "markdown",
   "id": "ed8cffe8-01dc-48c3-be85-203cdf1f3755",
   "metadata": {},
   "source": [
    "Series is one-dimenstional array and capable to holding any type of data (integer, String, Flot, python obj)\n",
    "The axis lable is konw as index.\n",
    "Baic way to create is to call Series() "
   ]
  },
  {
   "cell_type": "markdown",
   "id": "43878d56-f69f-4686-9f0b-f9b62d72f98b",
   "metadata": {},
   "source": [
    "# s = pd.Series(data, index=index)\n",
    "\n",
    "data can be many different things:\n",
    "\n",
    "a Python dict\n",
    "\n",
    "an ndarray\n",
    "\n",
    "a scalar value (like 5)\n",
    "\n",
    "The passed index is a list of axis labels. Thus, this separates into a few cases depending on what data is:\n",
    "\n"
   ]
  },
  {
   "cell_type": "markdown",
   "id": "d885a1fa-ff54-4460-9676-6cb6d9bbede9",
   "metadata": {},
   "source": [
    "# From ndarray\n",
    "data is an ndarray, then index must be the same length as data.\n",
    "if If no index is passed the defau;lt it will  tak [0, ..., len(data) - 1]"
   ]
  },
  {
   "cell_type": "code",
   "execution_count": 6,
   "id": "0a502acb-7692-44ec-abc5-e411c0e5f468",
   "metadata": {},
   "outputs": [],
   "source": [
    "s = pd.Series(np.random.randn(5), index=[\"A\",\"B\",\"C\",\"D\",\"E\"]) # data and lenth of index same"
   ]
  },
  {
   "cell_type": "markdown",
   "id": "841582d3-3c78-4563-b131-f25c734a9d72",
   "metadata": {},
   "source": [
    "s3"
   ]
  },
  {
   "cell_type": "code",
   "execution_count": 8,
   "id": "2c76c68a-d8ca-465e-8885-657b914e12bf",
   "metadata": {},
   "outputs": [],
   "source": [
    "s = pd.Series(np.random.randn(5)) # data() i.e o...len(data)-1 [0..4]"
   ]
  },
  {
   "cell_type": "code",
   "execution_count": 9,
   "id": "f705a485-f725-440e-af63-b6a877d19f6d",
   "metadata": {},
   "outputs": [
    {
     "data": {
      "text/plain": [
       "0    0.673980\n",
       "1    1.651832\n",
       "2   -1.326252\n",
       "3   -0.528301\n",
       "4    0.013618\n",
       "dtype: float64"
      ]
     },
     "execution_count": 9,
     "metadata": {},
     "output_type": "execute_result"
    }
   ],
   "source": [
    "s"
   ]
  },
  {
   "cell_type": "markdown",
   "id": "60689711-618f-4f5b-90b9-320ed3cc6e72",
   "metadata": {},
   "source": [
    "# Note\n",
    "    pandas supports non-unique index values\n",
    "    exception will be raised at that time. when  an operation that does not support duplicate index values is attempted"
   ]
  },
  {
   "cell_type": "markdown",
   "id": "f365edbc-e904-4e20-a738-4278b0db41ce",
   "metadata": {},
   "source": [
    "# From dict"
   ]
  },
  {
   "cell_type": "markdown",
   "id": "79e5a79a-0f77-46a9-aafb-741312ab3fe0",
   "metadata": {},
   "source": [
    "Series can be instantiated from dicts:"
   ]
  },
  {
   "cell_type": "code",
   "execution_count": 12,
   "id": "7cb46ac4-3f31-4f0b-8f2a-0ff08d07e4e4",
   "metadata": {},
   "outputs": [],
   "source": [
    "d = {\"b\": 1, \"a\": 0, \"c\": 2}"
   ]
  },
  {
   "cell_type": "code",
   "execution_count": 14,
   "id": "b1fb65c6-9f45-4f0e-850f-cf7c3cb66923",
   "metadata": {},
   "outputs": [
    {
     "data": {
      "text/plain": [
       "b    1\n",
       "a    0\n",
       "c    2\n",
       "dtype: int64"
      ]
     },
     "execution_count": 14,
     "metadata": {},
     "output_type": "execute_result"
    }
   ],
   "source": [
    "pd.Series(d) #key is act as index"
   ]
  },
  {
   "cell_type": "markdown",
   "id": "ee5ea18b-3d81-417e-b95e-4de62f7b38e6",
   "metadata": {},
   "source": [
    "If an index is passed, the values in data corresponding to the labels in the index will be pulled out"
   ]
  },
  {
   "cell_type": "code",
   "execution_count": 15,
   "id": "09870c47-76f3-4b6e-974a-f0287bed0b6f",
   "metadata": {},
   "outputs": [],
   "source": [
    "d = {\"a\": 0.0, \"b\": 1.0 ,\"c\":2.0}"
   ]
  },
  {
   "cell_type": "code",
   "execution_count": 16,
   "id": "c2d99e4e-c6ed-4a1e-9280-b5934e37f7fe",
   "metadata": {},
   "outputs": [
    {
     "data": {
      "text/plain": [
       "a    0.0\n",
       "b    1.0\n",
       "c    2.0\n",
       "dtype: float64"
      ]
     },
     "execution_count": 16,
     "metadata": {},
     "output_type": "execute_result"
    }
   ],
   "source": [
    "pd.Series(d) "
   ]
  },
  {
   "cell_type": "code",
   "execution_count": 17,
   "id": "c1d557d9-5108-4991-bdce-66dff53986c4",
   "metadata": {},
   "outputs": [
    {
     "data": {
      "text/plain": [
       "a    0.0\n",
       "b    1.0\n",
       "c    2.0\n",
       "d    NaN\n",
       "dtype: float64"
      ]
     },
     "execution_count": 17,
     "metadata": {},
     "output_type": "execute_result"
    }
   ],
   "source": [
    "pd.Series(d, index= [\"a\",\"b\",\"c\",\"d\"])"
   ]
  },
  {
   "cell_type": "markdown",
   "id": "aa9273f7-4c82-4fab-8a84-1744e58552d3",
   "metadata": {},
   "source": [
    "# Note\n",
    "    NAN(not a number)  is messing data marker"
   ]
  },
  {
   "cell_type": "markdown",
   "id": "945bee08-5266-43d8-9eb8-ead57b34661e",
   "metadata": {},
   "source": [
    "# From scalar value"
   ]
  },
  {
   "cell_type": "markdown",
   "id": "e0c7fea1-572b-403a-b38f-270642661756",
   "metadata": {},
   "source": [
    "data is a scalar value :- index neeed to given , value and or data macth to index"
   ]
  },
  {
   "cell_type": "code",
   "execution_count": 18,
   "id": "e18c47c8-fe80-46d3-96d6-85d0d36a45b3",
   "metadata": {},
   "outputs": [
    {
     "data": {
      "text/plain": [
       "a    5.0\n",
       "b    5.0\n",
       "c    5.0\n",
       "dtype: float64"
      ]
     },
     "execution_count": 18,
     "metadata": {},
     "output_type": "execute_result"
    }
   ],
   "source": [
    "pd.Series(5.0, index=[\"a\",\"b\",\"c\"])"
   ]
  },
  {
   "cell_type": "markdown",
   "id": "f41b9183-3d9f-427f-a95f-d1435aa25b9a",
   "metadata": {},
   "source": [
    "# Series is ndarray-like\n"
   ]
  },
  {
   "cell_type": "markdown",
   "id": "b4d4761f-153b-48b3-acf4-decc2a70a8ab",
   "metadata": {},
   "source": [
    "Series is smiler act as ndarray  valide argument fo most fo numpy funtiom ex slicing :-slicing will also slice the index."
   ]
  },
  {
   "cell_type": "code",
   "execution_count": 20,
   "id": "c048a81e-622b-4660-bf51-58ba325f793e",
   "metadata": {},
   "outputs": [
    {
     "data": {
      "text/plain": [
       "0.6739799047354093"
      ]
     },
     "execution_count": 20,
     "metadata": {},
     "output_type": "execute_result"
    }
   ],
   "source": [
    "s.iloc[0]"
   ]
  },
  {
   "cell_type": "code",
   "execution_count": 21,
   "id": "ae54729b-44fc-4a5f-8972-fb5704301c59",
   "metadata": {},
   "outputs": [
    {
     "data": {
      "text/plain": [
       "0    0.673980\n",
       "1    1.651832\n",
       "2   -1.326252\n",
       "dtype: float64"
      ]
     },
     "execution_count": 21,
     "metadata": {},
     "output_type": "execute_result"
    }
   ],
   "source": [
    "s.iloc[:3]"
   ]
  },
  {
   "cell_type": "code",
   "execution_count": 22,
   "id": "db00f9f2-1ec2-4b10-bcd6-7866ea46bbd1",
   "metadata": {},
   "outputs": [
    {
     "data": {
      "text/plain": [
       "0    0.673980\n",
       "1    1.651832\n",
       "dtype: float64"
      ]
     },
     "execution_count": 22,
     "metadata": {},
     "output_type": "execute_result"
    }
   ],
   "source": [
    "s[s>s.median()]"
   ]
  },
  {
   "cell_type": "code",
   "execution_count": 23,
   "id": "2bef9b6c-772a-4b80-9250-e940ccaef6a5",
   "metadata": {},
   "outputs": [
    {
     "data": {
      "text/plain": [
       "4    0.013618\n",
       "3   -0.528301\n",
       "2   -1.326252\n",
       "1    1.651832\n",
       "dtype: float64"
      ]
     },
     "execution_count": 23,
     "metadata": {},
     "output_type": "execute_result"
    }
   ],
   "source": [
    "s.iloc[[4,3,2,1]]"
   ]
  },
  {
   "cell_type": "code",
   "execution_count": 24,
   "id": "85316528-c20c-43a7-aa4e-5ca5550591d4",
   "metadata": {},
   "outputs": [
    {
     "data": {
      "text/plain": [
       "0    1.962030\n",
       "1    5.216529\n",
       "2    0.265470\n",
       "3    0.589606\n",
       "4    1.013711\n",
       "dtype: float64"
      ]
     },
     "execution_count": 24,
     "metadata": {},
     "output_type": "execute_result"
    }
   ],
   "source": [
    "np.exp(s)"
   ]
  },
  {
   "cell_type": "markdown",
   "id": "f190875c-c470-40c9-9897-683b12b91c19",
   "metadata": {},
   "source": [
    "# Like a NumPy array, a pandas Series has a single dtype."
   ]
  },
  {
   "cell_type": "code",
   "execution_count": 26,
   "id": "ddf94df4-ae3c-4f61-9edc-98d145739437",
   "metadata": {},
   "outputs": [
    {
     "data": {
      "text/plain": [
       "dtype('float64')"
      ]
     },
     "execution_count": 26,
     "metadata": {},
     "output_type": "execute_result"
    }
   ],
   "source": [
    "s.dtype"
   ]
  },
  {
   "cell_type": "markdown",
   "id": "b56531ae-c210-4ee2-8e59-6697af5d701e",
   "metadata": {},
   "source": [
    "pandas and 3rd-party libraries extend NumPy’s type system in a few places, in which case the dtype would be an ExtensionDtype.\n",
    "example within pandas are:- categoriakl data"
   ]
  },
  {
   "cell_type": "markdown",
   "id": "e223456a-fb70-4bf5-87fc-b0c1f8c319ea",
   "metadata": {},
   "source": [
    "If you need the actual array backing a Series, use Series.array."
   ]
  },
  {
   "cell_type": "code",
   "execution_count": 27,
   "id": "d7fab498-12f5-483e-9345-7865a5989305",
   "metadata": {},
   "outputs": [
    {
     "data": {
      "text/plain": [
       "<NumpyExtensionArray>\n",
       "[  0.6739799047354093,    1.651832306700293,   -1.326252358569455,\n",
       "  -0.5283007459169574, 0.013618072152654977]\n",
       "Length: 5, dtype: float64"
      ]
     },
     "execution_count": 27,
     "metadata": {},
     "output_type": "execute_result"
    }
   ],
   "source": [
    "s.array"
   ]
  },
  {
   "cell_type": "markdown",
   "id": "b52b119f-a2ee-4bd5-ab4b-737fdb605ed7",
   "metadata": {},
   "source": [
    "Series.array willcbe an ExtentionArray an Extention array is thin wrapper arrounf on more concrete array like numpy.array\n",
    "pandas know how to take an extention array and store it in series or column of DataFrame.\n",
    "Series is ndarray-like, if you need an actual ndarray, then use Series.to_numpy().\n"
   ]
  },
  {
   "cell_type": "code",
   "execution_count": 28,
   "id": "d0bbb79d-4166-49da-b62d-776e2a7767bc",
   "metadata": {},
   "outputs": [
    {
     "data": {
      "text/plain": [
       "array([ 0.6739799 ,  1.65183231, -1.32625236, -0.52830075,  0.01361807])"
      ]
     },
     "execution_count": 28,
     "metadata": {},
     "output_type": "execute_result"
    }
   ],
   "source": [
    "s.to_numpy()"
   ]
  },
  {
   "cell_type": "markdown",
   "id": "86f0b359-eabb-48cd-ba9d-0156e6396386",
   "metadata": {},
   "source": [
    "# Series is dict-like"
   ]
  },
  {
   "cell_type": "markdown",
   "id": "51040595-3de7-460a-a9de-2b8890b8a0bb",
   "metadata": {},
   "source": [
    "A Series is also like a fixed-size dict in that you can get and set values by index label:"
   ]
  },
  {
   "cell_type": "code",
   "execution_count": 29,
   "id": "99fcb80f-49dc-4e91-b51e-b7e1c0501ad7",
   "metadata": {},
   "outputs": [
    {
     "ename": "KeyError",
     "evalue": "'a'",
     "output_type": "error",
     "traceback": [
      "\u001b[1;31m---------------------------------------------------------------------------\u001b[0m",
      "\u001b[1;31mKeyError\u001b[0m                                  Traceback (most recent call last)",
      "Cell \u001b[1;32mIn[29], line 1\u001b[0m\n\u001b[1;32m----> 1\u001b[0m s[\u001b[38;5;124m\"\u001b[39m\u001b[38;5;124ma\u001b[39m\u001b[38;5;124m\"\u001b[39m]\n",
      "File \u001b[1;32m~\\AppData\\Local\\anaconda3\\Lib\\site-packages\\pandas\\core\\series.py:1121\u001b[0m, in \u001b[0;36mSeries.__getitem__\u001b[1;34m(self, key)\u001b[0m\n\u001b[0;32m   1118\u001b[0m     \u001b[38;5;28;01mreturn\u001b[39;00m \u001b[38;5;28mself\u001b[39m\u001b[38;5;241m.\u001b[39m_values[key]\n\u001b[0;32m   1120\u001b[0m \u001b[38;5;28;01melif\u001b[39;00m key_is_scalar:\n\u001b[1;32m-> 1121\u001b[0m     \u001b[38;5;28;01mreturn\u001b[39;00m \u001b[38;5;28mself\u001b[39m\u001b[38;5;241m.\u001b[39m_get_value(key)\n\u001b[0;32m   1123\u001b[0m \u001b[38;5;66;03m# Convert generator to list before going through hashable part\u001b[39;00m\n\u001b[0;32m   1124\u001b[0m \u001b[38;5;66;03m# (We will iterate through the generator there to check for slices)\u001b[39;00m\n\u001b[0;32m   1125\u001b[0m \u001b[38;5;28;01mif\u001b[39;00m is_iterator(key):\n",
      "File \u001b[1;32m~\\AppData\\Local\\anaconda3\\Lib\\site-packages\\pandas\\core\\series.py:1237\u001b[0m, in \u001b[0;36mSeries._get_value\u001b[1;34m(self, label, takeable)\u001b[0m\n\u001b[0;32m   1234\u001b[0m     \u001b[38;5;28;01mreturn\u001b[39;00m \u001b[38;5;28mself\u001b[39m\u001b[38;5;241m.\u001b[39m_values[label]\n\u001b[0;32m   1236\u001b[0m \u001b[38;5;66;03m# Similar to Index.get_value, but we do not fall back to positional\u001b[39;00m\n\u001b[1;32m-> 1237\u001b[0m loc \u001b[38;5;241m=\u001b[39m \u001b[38;5;28mself\u001b[39m\u001b[38;5;241m.\u001b[39mindex\u001b[38;5;241m.\u001b[39mget_loc(label)\n\u001b[0;32m   1239\u001b[0m \u001b[38;5;28;01mif\u001b[39;00m is_integer(loc):\n\u001b[0;32m   1240\u001b[0m     \u001b[38;5;28;01mreturn\u001b[39;00m \u001b[38;5;28mself\u001b[39m\u001b[38;5;241m.\u001b[39m_values[loc]\n",
      "File \u001b[1;32m~\\AppData\\Local\\anaconda3\\Lib\\site-packages\\pandas\\core\\indexes\\range.py:417\u001b[0m, in \u001b[0;36mRangeIndex.get_loc\u001b[1;34m(self, key)\u001b[0m\n\u001b[0;32m    415\u001b[0m         \u001b[38;5;28;01mraise\u001b[39;00m \u001b[38;5;167;01mKeyError\u001b[39;00m(key) \u001b[38;5;28;01mfrom\u001b[39;00m \u001b[38;5;21;01merr\u001b[39;00m\n\u001b[0;32m    416\u001b[0m \u001b[38;5;28;01mif\u001b[39;00m \u001b[38;5;28misinstance\u001b[39m(key, Hashable):\n\u001b[1;32m--> 417\u001b[0m     \u001b[38;5;28;01mraise\u001b[39;00m \u001b[38;5;167;01mKeyError\u001b[39;00m(key)\n\u001b[0;32m    418\u001b[0m \u001b[38;5;28mself\u001b[39m\u001b[38;5;241m.\u001b[39m_check_indexing_error(key)\n\u001b[0;32m    419\u001b[0m \u001b[38;5;28;01mraise\u001b[39;00m \u001b[38;5;167;01mKeyError\u001b[39;00m(key)\n",
      "\u001b[1;31mKeyError\u001b[0m: 'a'"
     ]
    }
   ],
   "source": [
    "s[\"a\"]"
   ]
  },
  {
   "cell_type": "code",
   "execution_count": 30,
   "id": "66fea1eb-bb32-4672-81e7-b22e64686a61",
   "metadata": {},
   "outputs": [],
   "source": [
    "# Using the Series.get() method, a missing label will return None or specified default:"
   ]
  },
  {
   "cell_type": "code",
   "execution_count": 31,
   "id": "133d6a21-8927-4c0f-82d5-bc47b61a61e4",
   "metadata": {},
   "outputs": [
    {
     "ename": "TypeError",
     "evalue": "'method' object is not subscriptable",
     "output_type": "error",
     "traceback": [
      "\u001b[1;31m---------------------------------------------------------------------------\u001b[0m",
      "\u001b[1;31mTypeError\u001b[0m                                 Traceback (most recent call last)",
      "Cell \u001b[1;32mIn[31], line 1\u001b[0m\n\u001b[1;32m----> 1\u001b[0m s\u001b[38;5;241m.\u001b[39mget[\u001b[38;5;124m\"\u001b[39m\u001b[38;5;124ma\u001b[39m\u001b[38;5;124m\"\u001b[39m]\n",
      "\u001b[1;31mTypeError\u001b[0m: 'method' object is not subscriptable"
     ]
    }
   ],
   "source": [
    "s.get[\"a\"]"
   ]
  },
  {
   "cell_type": "code",
   "execution_count": 32,
   "id": "91083476-7aed-4db1-963c-91a4dbc9a28d",
   "metadata": {},
   "outputs": [
    {
     "data": {
      "text/plain": [
       "nan"
      ]
     },
     "execution_count": 32,
     "metadata": {},
     "output_type": "execute_result"
    }
   ],
   "source": [
    "s.get(\"f\", np.nan)"
   ]
  },
  {
   "cell_type": "markdown",
   "id": "37aed6c6-cdf9-4d89-9f7b-d8e7f3eec0d9",
   "metadata": {},
   "source": [
    "# Vectorized operations and label alignment with Series"
   ]
  },
  {
   "cell_type": "markdown",
   "id": "a3bbc089-39fe-4bbf-b809-2bb58f3488e1",
   "metadata": {},
   "source": [
    "when you woring with raw numpy array ,lopping through value-by-value is usallly not necessary.\n",
    "same is working with series in panda\n",
    "sereis can br in numppy expected ndarray"
   ]
  },
  {
   "cell_type": "code",
   "execution_count": 35,
   "id": "cea8ca47-dbd4-4405-aaf2-ec15a86e3cba",
   "metadata": {},
   "outputs": [
    {
     "data": {
      "text/plain": [
       "0    1.347960\n",
       "1    3.303665\n",
       "2   -2.652505\n",
       "3   -1.056601\n",
       "4    0.027236\n",
       "dtype: float64"
      ]
     },
     "execution_count": 35,
     "metadata": {},
     "output_type": "execute_result"
    }
   ],
   "source": [
    "s+s"
   ]
  },
  {
   "cell_type": "code",
   "execution_count": 36,
   "id": "0399c7d6-c655-400a-abfd-7e6d75c3b231",
   "metadata": {},
   "outputs": [
    {
     "data": {
      "text/plain": [
       "0    1.347960\n",
       "1    3.303665\n",
       "2   -2.652505\n",
       "3   -1.056601\n",
       "4    0.027236\n",
       "dtype: float64"
      ]
     },
     "execution_count": 36,
     "metadata": {},
     "output_type": "execute_result"
    }
   ],
   "source": [
    "s*2"
   ]
  },
  {
   "cell_type": "code",
   "execution_count": 37,
   "id": "b60b6b37-83fd-4071-8b10-ee629f54b88e",
   "metadata": {},
   "outputs": [
    {
     "data": {
      "text/plain": [
       "0    1.962030\n",
       "1    5.216529\n",
       "2    0.265470\n",
       "3    0.589606\n",
       "4    1.013711\n",
       "dtype: float64"
      ]
     },
     "execution_count": 37,
     "metadata": {},
     "output_type": "execute_result"
    }
   ],
   "source": [
    "np.exp(s)"
   ]
  },
  {
   "cell_type": "markdown",
   "id": "44c22134-3c36-4510-a3f2-d6a871cc9d58",
   "metadata": {},
   "source": [
    "diff bent series and ndarray is  series is automatically align th data based on lable \n",
    "Thus, you can write computations without giving consideration to whether the Series involved have the same labeles"
   ]
  },
  {
   "cell_type": "code",
   "execution_count": 39,
   "id": "2cc988a0-b391-4e4a-bc02-7817a5c666bf",
   "metadata": {},
   "outputs": [
    {
     "data": {
      "text/plain": [
       "0         NaN\n",
       "1    3.303665\n",
       "2   -2.652505\n",
       "3   -1.056601\n",
       "4         NaN\n",
       "dtype: float64"
      ]
     },
     "execution_count": 39,
     "metadata": {},
     "output_type": "execute_result"
    }
   ],
   "source": [
    "s.iloc[1:] + s.iloc[:-1]"
   ]
  },
  {
   "cell_type": "markdown",
   "id": "3bddb477-fada-4f91-8882-10de8a5c8cef",
   "metadata": {},
   "source": [
    "The result of an operation between unaligned Series will have the union of the indexes involved. If a label is not found in one Series or the other, the result will be marked as missing NaN. Being able to write code without doing any explicit data alignment grants immense freedom and flexibility in interactive data analysis and research. The integrated data alignment features of the pandas data structures set pandas apart from the majority of related tools for working with labeled data."
   ]
  },
  {
   "cell_type": "markdown",
   "id": "5e330a68-4c08-4076-bb34-c4b7790a929e",
   "metadata": {},
   "source": [
    "# Note\n",
    "In general, we chose to make the default result of operations between differently indexed objects yield the union of the indexes in order to avoid loss of information. Having an index label, though the data is missing, is typically important information as part of a computation. You of course have the option of dropping labels with missing data via the dropna function."
   ]
  },
  {
   "cell_type": "markdown",
   "id": "b042ed55-9929-43ac-8ad1-f2abd59df001",
   "metadata": {},
   "source": [
    "# Name attribute"
   ]
  },
  {
   "cell_type": "markdown",
   "id": "2486876c-a791-4798-ab5b-01e02b37955a",
   "metadata": {},
   "source": [
    "Series also has a name attribute:"
   ]
  },
  {
   "cell_type": "code",
   "execution_count": 43,
   "id": "bdce8e2f-ca37-4f2c-ab67-9877931ce25e",
   "metadata": {},
   "outputs": [],
   "source": [
    "s =pd.Series(np.random.randn(5), name='something')"
   ]
  },
  {
   "cell_type": "code",
   "execution_count": 44,
   "id": "70b9f7f4-69d3-4310-8566-5488f233b89a",
   "metadata": {},
   "outputs": [
    {
     "data": {
      "text/plain": [
       "0   -0.503970\n",
       "1    0.735704\n",
       "2   -0.469296\n",
       "3    1.113218\n",
       "4    2.045765\n",
       "Name: something, dtype: float64"
      ]
     },
     "execution_count": 44,
     "metadata": {},
     "output_type": "execute_result"
    }
   ],
   "source": [
    "s"
   ]
  },
  {
   "cell_type": "markdown",
   "id": "da553940-83cd-4c0c-b098-28bbbd45599a",
   "metadata": {},
   "source": [
    "The Series name can be assigned automatically in many cases, in particular, when selecting a single column from a DataFrame, the name will be assigned the column label"
   ]
  },
  {
   "cell_type": "markdown",
   "id": "5fb3d097-f4aa-49b6-8e9f-1863b5e9f1e1",
   "metadata": {},
   "source": [
    "You can rename a Series with the pandas.Series.rename() method."
   ]
  },
  {
   "cell_type": "code",
   "execution_count": 45,
   "id": "02d31e8d-1306-4960-a9d1-fac7b6668872",
   "metadata": {},
   "outputs": [],
   "source": [
    "s2 = s.rename('diffent')"
   ]
  },
  {
   "cell_type": "code",
   "execution_count": 46,
   "id": "26bbdf21-a9d8-4668-bcae-56bb7f4c4697",
   "metadata": {},
   "outputs": [
    {
     "data": {
      "text/plain": [
       "0   -0.503970\n",
       "1    0.735704\n",
       "2   -0.469296\n",
       "3    1.113218\n",
       "4    2.045765\n",
       "Name: diffent, dtype: float64"
      ]
     },
     "execution_count": 46,
     "metadata": {},
     "output_type": "execute_result"
    }
   ],
   "source": [
    "s2"
   ]
  },
  {
   "cell_type": "markdown",
   "id": "dfe09a48-501e-46de-b214-0db1e738cfe0",
   "metadata": {},
   "source": [
    "Note that s and s2 refer to different objects."
   ]
  }
 ],
 "metadata": {
  "kernelspec": {
   "display_name": "Python 3 (ipykernel)",
   "language": "python",
   "name": "python3"
  },
  "language_info": {
   "codemirror_mode": {
    "name": "ipython",
    "version": 3
   },
   "file_extension": ".py",
   "mimetype": "text/x-python",
   "name": "python",
   "nbconvert_exporter": "python",
   "pygments_lexer": "ipython3",
   "version": "3.12.4"
  }
 },
 "nbformat": 4,
 "nbformat_minor": 5
}
