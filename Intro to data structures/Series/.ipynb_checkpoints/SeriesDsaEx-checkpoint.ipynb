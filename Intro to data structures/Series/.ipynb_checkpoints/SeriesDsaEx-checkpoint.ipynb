{
 "cells": [
  {
   "cell_type": "markdown",
   "id": "a7ec7c2f-ebb8-4146-9e28-421bc8d13379",
   "metadata": {},
   "source": [
    "This notebook wile cover Series DataStucture of pandas with examples"
   ]
  },
  {
   "cell_type": "code",
   "execution_count": 3,
   "id": "05dec945-c452-4133-9f1c-620bae7bb7b3",
   "metadata": {},
   "outputs": [],
   "source": [
    "import pandas as pd\n",
    "import numpy as np"
   ]
  },
  {
   "cell_type": "markdown",
   "id": "741d564e-9f12-4592-a1f3-f1248a1bd39a",
   "metadata": {},
   "source": [
    "# Series"
   ]
  },
  {
   "cell_type": "markdown",
   "id": "ed8cffe8-01dc-48c3-be85-203cdf1f3755",
   "metadata": {},
   "source": [
    "Series is one-dimenstional array and capable to holding any type of data (integer, String, Flot, python obj)\n",
    "The axis lable is konw as index.\n",
    "Baic way to create is to call Series() "
   ]
  },
  {
   "cell_type": "markdown",
   "id": "43878d56-f69f-4686-9f0b-f9b62d72f98b",
   "metadata": {},
   "source": [
    "# s = pd.Series(data, index=index)\n",
    "\n",
    "data can be many different things:\n",
    "\n",
    "a Python dict\n",
    "\n",
    "an ndarray\n",
    "\n",
    "a scalar value (like 5)\n",
    "\n",
    "The passed index is a list of axis labels. Thus, this separates into a few cases depending on what data is:\n",
    "\n"
   ]
  },
  {
   "cell_type": "markdown",
   "id": "d885a1fa-ff54-4460-9676-6cb6d9bbede9",
   "metadata": {},
   "source": [
    "# From ndarray\n",
    "data is an ndarray, then index must be the same length as data.\n",
    "if If no index is passed the defau;lt it will  tak [0, ..., len(data) - 1]"
   ]
  },
  {
   "cell_type": "code",
   "execution_count": 6,
   "id": "0a502acb-7692-44ec-abc5-e411c0e5f468",
   "metadata": {},
   "outputs": [],
   "source": [
    "s = pd.Series(np.random.randn(5), index=[\"A\",\"B\",\"C\",\"D\",\"E\"]) # data and lenth of index same"
   ]
  },
  {
   "cell_type": "markdown",
   "id": "841582d3-3c78-4563-b131-f25c734a9d72",
   "metadata": {},
   "source": [
    "s3"
   ]
  },
  {
   "cell_type": "code",
   "execution_count": 8,
   "id": "2c76c68a-d8ca-465e-8885-657b914e12bf",
   "metadata": {},
   "outputs": [],
   "source": [
    "s = pd.Series(np.random.randn(5)) # data() i.e o...len(data)-1 [0..4]"
   ]
  },
  {
   "cell_type": "code",
   "execution_count": 9,
   "id": "f705a485-f725-440e-af63-b6a877d19f6d",
   "metadata": {},
   "outputs": [
    {
     "data": {
      "text/plain": [
       "0    0.673980\n",
       "1    1.651832\n",
       "2   -1.326252\n",
       "3   -0.528301\n",
       "4    0.013618\n",
       "dtype: float64"
      ]
     },
     "execution_count": 9,
     "metadata": {},
     "output_type": "execute_result"
    }
   ],
   "source": [
    "s"
   ]
  },
  {
   "cell_type": "markdown",
   "id": "60689711-618f-4f5b-90b9-320ed3cc6e72",
   "metadata": {},
   "source": [
    "# Note\n",
    "    pandas supports non-unique index values\n",
    "    exception will be raised at that time. when  an operation that does not support duplicate index values is attempted"
   ]
  },
  {
   "cell_type": "markdown",
   "id": "f365edbc-e904-4e20-a738-4278b0db41ce",
   "metadata": {},
   "source": [
    "# From dict"
   ]
  },
  {
   "cell_type": "markdown",
   "id": "79e5a79a-0f77-46a9-aafb-741312ab3fe0",
   "metadata": {},
   "source": [
    "Series can be instantiated from dicts:"
   ]
  },
  {
   "cell_type": "code",
   "execution_count": 12,
   "id": "7cb46ac4-3f31-4f0b-8f2a-0ff08d07e4e4",
   "metadata": {},
   "outputs": [],
   "source": [
    "d = {\"b\": 1, \"a\": 0, \"c\": 2}"
   ]
  },
  {
   "cell_type": "code",
   "execution_count": 14,
   "id": "b1fb65c6-9f45-4f0e-850f-cf7c3cb66923",
   "metadata": {},
   "outputs": [
    {
     "data": {
      "text/plain": [
       "b    1\n",
       "a    0\n",
       "c    2\n",
       "dtype: int64"
      ]
     },
     "execution_count": 14,
     "metadata": {},
     "output_type": "execute_result"
    }
   ],
   "source": [
    "pd.Series(d) #key is act as index"
   ]
  },
  {
   "cell_type": "markdown",
   "id": "ee5ea18b-3d81-417e-b95e-4de62f7b38e6",
   "metadata": {},
   "source": [
    "If an index is passed, the values in data corresponding to the labels in the index will be pulled out"
   ]
  },
  {
   "cell_type": "code",
   "execution_count": 15,
   "id": "09870c47-76f3-4b6e-974a-f0287bed0b6f",
   "metadata": {},
   "outputs": [],
   "source": [
    "d = {\"a\": 0.0, \"b\": 1.0 ,\"c\":2.0}"
   ]
  },
  {
   "cell_type": "code",
   "execution_count": 16,
   "id": "c2d99e4e-c6ed-4a1e-9280-b5934e37f7fe",
   "metadata": {},
   "outputs": [
    {
     "data": {
      "text/plain": [
       "a    0.0\n",
       "b    1.0\n",
       "c    2.0\n",
       "dtype: float64"
      ]
     },
     "execution_count": 16,
     "metadata": {},
     "output_type": "execute_result"
    }
   ],
   "source": [
    "pd.Series(d) "
   ]
  },
  {
   "cell_type": "code",
   "execution_count": 17,
   "id": "c1d557d9-5108-4991-bdce-66dff53986c4",
   "metadata": {},
   "outputs": [
    {
     "data": {
      "text/plain": [
       "a    0.0\n",
       "b    1.0\n",
       "c    2.0\n",
       "d    NaN\n",
       "dtype: float64"
      ]
     },
     "execution_count": 17,
     "metadata": {},
     "output_type": "execute_result"
    }
   ],
   "source": [
    "pd.Series(d, index= [\"a\",\"b\",\"c\",\"d\"])"
   ]
  },
  {
   "cell_type": "markdown",
   "id": "aa9273f7-4c82-4fab-8a84-1744e58552d3",
   "metadata": {},
   "source": [
    "# Note\n",
    "    NAN(not a number)  is messing data marker"
   ]
  },
  {
   "cell_type": "markdown",
   "id": "945bee08-5266-43d8-9eb8-ead57b34661e",
   "metadata": {},
   "source": [
    "# From scalar value"
   ]
  },
  {
   "cell_type": "markdown",
   "id": "e0c7fea1-572b-403a-b38f-270642661756",
   "metadata": {},
   "source": [
    "data is a scalar value :- index neeed to given , value and or data macth to index"
   ]
  },
  {
   "cell_type": "code",
   "execution_count": 18,
   "id": "e18c47c8-fe80-46d3-96d6-85d0d36a45b3",
   "metadata": {},
   "outputs": [
    {
     "data": {
      "text/plain": [
       "a    5.0\n",
       "b    5.0\n",
       "c    5.0\n",
       "dtype: float64"
      ]
     },
     "execution_count": 18,
     "metadata": {},
     "output_type": "execute_result"
    }
   ],
   "source": [
    "pd.Series(5.0, index=[\"a\",\"b\",\"c\"])"
   ]
  },
  {
   "cell_type": "code",
   "execution_count": null,
   "id": "b24dfc85-b5ae-4a92-8e05-5c846b11bd77",
   "metadata": {},
   "outputs": [],
   "source": [
    "#test"
   ]
  }
 ],
 "metadata": {
  "kernelspec": {
   "display_name": "Python 3 (ipykernel)",
   "language": "python",
   "name": "python3"
  },
  "language_info": {
   "codemirror_mode": {
    "name": "ipython",
    "version": 3
   },
   "file_extension": ".py",
   "mimetype": "text/x-python",
   "name": "python",
   "nbconvert_exporter": "python",
   "pygments_lexer": "ipython3",
   "version": "3.12.4"
  }
 },
 "nbformat": 4,
 "nbformat_minor": 5
}
