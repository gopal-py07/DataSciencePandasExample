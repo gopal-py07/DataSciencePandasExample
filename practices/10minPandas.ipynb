{
 "cells": [
  {
   "cell_type": "markdown",
   "id": "a479be16-a313-4fb7-8d85-bcab26d2f194",
   "metadata": {},
   "source": [
    "# Basic data structures in pandas"
   ]
  },
  {
   "cell_type": "code",
   "execution_count": 3,
   "id": "535c479c-c57e-44b1-a37a-352c2725ffa7",
   "metadata": {},
   "outputs": [],
   "source": [
    "import pandas as pd\n",
    "import numpy as np"
   ]
  },
  {
   "cell_type": "markdown",
   "id": "e5dac33a-f89e-41b9-a4d8-1d4024cf7db9",
   "metadata": {},
   "source": [
    "Pandas provides two types of classes for handling data:\n",
    "\n",
    "# Series: \n",
    "    A one-dimensional labeled array holding data of any type such as integers, strings, Python objects etc.\n",
    "\n",
    "# DataFrame:\n",
    "    A two-dimensional data structure that holds data like a two-dimension array or a table with rows and columns."
   ]
  },
  {
   "cell_type": "markdown",
   "id": "30469968-04c7-4629-8594-5de13eecd115",
   "metadata": {},
   "source": [
    "# Object Creation\n"
   ]
  },
  {
   "cell_type": "markdown",
   "id": "dacb4c70-849b-4289-a1ba-d59624481181",
   "metadata": {},
   "source": [
    "Creating a Series by passing a list of values, letting pandas create a default RangeIndex."
   ]
  },
  {
   "cell_type": "code",
   "execution_count": 4,
   "id": "532d2c1f-058d-4615-b00c-cb2aa8c7693f",
   "metadata": {},
   "outputs": [],
   "source": [
    "s = pd.Series([1,3,5,np.nan,6,8])"
   ]
  },
  {
   "cell_type": "code",
   "execution_count": 5,
   "id": "fb72cee5-3199-49b0-aabd-ccd7538406ec",
   "metadata": {},
   "outputs": [
    {
     "data": {
      "text/plain": [
       "0    1.0\n",
       "1    3.0\n",
       "2    5.0\n",
       "3    NaN\n",
       "4    6.0\n",
       "5    8.0\n",
       "dtype: float64"
      ]
     },
     "execution_count": 5,
     "metadata": {},
     "output_type": "execute_result"
    }
   ],
   "source": [
    "s"
   ]
  },
  {
   "cell_type": "markdown",
   "id": "2b1324e2-7f6e-4c97-b4df-62a38ac9dce6",
   "metadata": {},
   "source": [
    "Creating a DataFrame by passing a NumPy array with a datetime index using date_range() and labeled columns:"
   ]
  },
  {
   "cell_type": "code",
   "execution_count": 6,
   "id": "a530c624-28e4-4ee5-ab51-929f561968d4",
   "metadata": {},
   "outputs": [],
   "source": [
    "dates = pd.date_range(\"20240824\",periods=8)"
   ]
  },
  {
   "cell_type": "code",
   "execution_count": 7,
   "id": "323b8576-1256-4c99-8935-1e4ce47a5f37",
   "metadata": {},
   "outputs": [
    {
     "data": {
      "text/plain": [
       "DatetimeIndex(['2024-08-24', '2024-08-25', '2024-08-26', '2024-08-27',\n",
       "               '2024-08-28', '2024-08-29', '2024-08-30', '2024-08-31'],\n",
       "              dtype='datetime64[ns]', freq='D')"
      ]
     },
     "execution_count": 7,
     "metadata": {},
     "output_type": "execute_result"
    }
   ],
   "source": [
    "dates"
   ]
  },
  {
   "cell_type": "code",
   "execution_count": 8,
   "id": "e5c9c154-8c58-475e-845c-80d589b81f8a",
   "metadata": {},
   "outputs": [
    {
     "ename": "ValueError",
     "evalue": "Shape of passed values is (6, 4), indices imply (8, 4)",
     "output_type": "error",
     "traceback": [
      "\u001b[1;31m---------------------------------------------------------------------------\u001b[0m",
      "\u001b[1;31mValueError\u001b[0m                                Traceback (most recent call last)",
      "Cell \u001b[1;32mIn[8], line 1\u001b[0m\n\u001b[1;32m----> 1\u001b[0m df \u001b[38;5;241m=\u001b[39m pd\u001b[38;5;241m.\u001b[39mDataFrame(np\u001b[38;5;241m.\u001b[39mrandom\u001b[38;5;241m.\u001b[39mrandn(\u001b[38;5;241m6\u001b[39m,\u001b[38;5;241m4\u001b[39m), index\u001b[38;5;241m=\u001b[39mdates, columns\u001b[38;5;241m=\u001b[39m\u001b[38;5;28mlist\u001b[39m(\u001b[38;5;124m\"\u001b[39m\u001b[38;5;124mABCD\u001b[39m\u001b[38;5;124m\"\u001b[39m))\n",
      "File \u001b[1;32m~\\AppData\\Local\\anaconda3\\Lib\\site-packages\\pandas\\core\\frame.py:827\u001b[0m, in \u001b[0;36mDataFrame.__init__\u001b[1;34m(self, data, index, columns, dtype, copy)\u001b[0m\n\u001b[0;32m    816\u001b[0m         mgr \u001b[38;5;241m=\u001b[39m dict_to_mgr(\n\u001b[0;32m    817\u001b[0m             \u001b[38;5;66;03m# error: Item \"ndarray\" of \"Union[ndarray, Series, Index]\" has no\u001b[39;00m\n\u001b[0;32m    818\u001b[0m             \u001b[38;5;66;03m# attribute \"name\"\u001b[39;00m\n\u001b[1;32m   (...)\u001b[0m\n\u001b[0;32m    824\u001b[0m             copy\u001b[38;5;241m=\u001b[39m_copy,\n\u001b[0;32m    825\u001b[0m         )\n\u001b[0;32m    826\u001b[0m     \u001b[38;5;28;01melse\u001b[39;00m:\n\u001b[1;32m--> 827\u001b[0m         mgr \u001b[38;5;241m=\u001b[39m ndarray_to_mgr(\n\u001b[0;32m    828\u001b[0m             data,\n\u001b[0;32m    829\u001b[0m             index,\n\u001b[0;32m    830\u001b[0m             columns,\n\u001b[0;32m    831\u001b[0m             dtype\u001b[38;5;241m=\u001b[39mdtype,\n\u001b[0;32m    832\u001b[0m             copy\u001b[38;5;241m=\u001b[39mcopy,\n\u001b[0;32m    833\u001b[0m             typ\u001b[38;5;241m=\u001b[39mmanager,\n\u001b[0;32m    834\u001b[0m         )\n\u001b[0;32m    836\u001b[0m \u001b[38;5;66;03m# For data is list-like, or Iterable (will consume into list)\u001b[39;00m\n\u001b[0;32m    837\u001b[0m \u001b[38;5;28;01melif\u001b[39;00m is_list_like(data):\n",
      "File \u001b[1;32m~\\AppData\\Local\\anaconda3\\Lib\\site-packages\\pandas\\core\\internals\\construction.py:336\u001b[0m, in \u001b[0;36mndarray_to_mgr\u001b[1;34m(values, index, columns, dtype, copy, typ)\u001b[0m\n\u001b[0;32m    331\u001b[0m \u001b[38;5;66;03m# _prep_ndarraylike ensures that values.ndim == 2 at this point\u001b[39;00m\n\u001b[0;32m    332\u001b[0m index, columns \u001b[38;5;241m=\u001b[39m _get_axes(\n\u001b[0;32m    333\u001b[0m     values\u001b[38;5;241m.\u001b[39mshape[\u001b[38;5;241m0\u001b[39m], values\u001b[38;5;241m.\u001b[39mshape[\u001b[38;5;241m1\u001b[39m], index\u001b[38;5;241m=\u001b[39mindex, columns\u001b[38;5;241m=\u001b[39mcolumns\n\u001b[0;32m    334\u001b[0m )\n\u001b[1;32m--> 336\u001b[0m _check_values_indices_shape_match(values, index, columns)\n\u001b[0;32m    338\u001b[0m \u001b[38;5;28;01mif\u001b[39;00m typ \u001b[38;5;241m==\u001b[39m \u001b[38;5;124m\"\u001b[39m\u001b[38;5;124marray\u001b[39m\u001b[38;5;124m\"\u001b[39m:\n\u001b[0;32m    339\u001b[0m     \u001b[38;5;28;01mif\u001b[39;00m \u001b[38;5;28missubclass\u001b[39m(values\u001b[38;5;241m.\u001b[39mdtype\u001b[38;5;241m.\u001b[39mtype, \u001b[38;5;28mstr\u001b[39m):\n",
      "File \u001b[1;32m~\\AppData\\Local\\anaconda3\\Lib\\site-packages\\pandas\\core\\internals\\construction.py:420\u001b[0m, in \u001b[0;36m_check_values_indices_shape_match\u001b[1;34m(values, index, columns)\u001b[0m\n\u001b[0;32m    418\u001b[0m passed \u001b[38;5;241m=\u001b[39m values\u001b[38;5;241m.\u001b[39mshape\n\u001b[0;32m    419\u001b[0m implied \u001b[38;5;241m=\u001b[39m (\u001b[38;5;28mlen\u001b[39m(index), \u001b[38;5;28mlen\u001b[39m(columns))\n\u001b[1;32m--> 420\u001b[0m \u001b[38;5;28;01mraise\u001b[39;00m \u001b[38;5;167;01mValueError\u001b[39;00m(\u001b[38;5;124mf\u001b[39m\u001b[38;5;124m\"\u001b[39m\u001b[38;5;124mShape of passed values is \u001b[39m\u001b[38;5;132;01m{\u001b[39;00mpassed\u001b[38;5;132;01m}\u001b[39;00m\u001b[38;5;124m, indices imply \u001b[39m\u001b[38;5;132;01m{\u001b[39;00mimplied\u001b[38;5;132;01m}\u001b[39;00m\u001b[38;5;124m\"\u001b[39m)\n",
      "\u001b[1;31mValueError\u001b[0m: Shape of passed values is (6, 4), indices imply (8, 4)"
     ]
    }
   ],
   "source": [
    "    df = pd.DataFrame(np.random.randn(6,4), index=dates, columns=list(\"ABCD\"))"
   ]
  },
  {
   "cell_type": "code",
   "execution_count": 17,
   "id": "0de77d12-9d24-4619-b22a-a6addb0cef2d",
   "metadata": {},
   "outputs": [],
   "source": [
    "    df = pd.DataFrame(np.random.randn(8,4), index=dates, columns=list(\"ABCD\"))"
   ]
  },
  {
   "cell_type": "code",
   "execution_count": 18,
   "id": "a99645c9-afb0-4063-bca7-84c7b41f5f3c",
   "metadata": {},
   "outputs": [
    {
     "data": {
      "text/html": [
       "<div>\n",
       "<style scoped>\n",
       "    .dataframe tbody tr th:only-of-type {\n",
       "        vertical-align: middle;\n",
       "    }\n",
       "\n",
       "    .dataframe tbody tr th {\n",
       "        vertical-align: top;\n",
       "    }\n",
       "\n",
       "    .dataframe thead th {\n",
       "        text-align: right;\n",
       "    }\n",
       "</style>\n",
       "<table border=\"1\" class=\"dataframe\">\n",
       "  <thead>\n",
       "    <tr style=\"text-align: right;\">\n",
       "      <th></th>\n",
       "      <th>A</th>\n",
       "      <th>B</th>\n",
       "      <th>C</th>\n",
       "      <th>D</th>\n",
       "    </tr>\n",
       "  </thead>\n",
       "  <tbody>\n",
       "    <tr>\n",
       "      <th>2024-08-24</th>\n",
       "      <td>-1.033007</td>\n",
       "      <td>-1.667544</td>\n",
       "      <td>2.096441</td>\n",
       "      <td>-0.036855</td>\n",
       "    </tr>\n",
       "    <tr>\n",
       "      <th>2024-08-25</th>\n",
       "      <td>-0.012070</td>\n",
       "      <td>-1.445879</td>\n",
       "      <td>-2.331113</td>\n",
       "      <td>1.212528</td>\n",
       "    </tr>\n",
       "    <tr>\n",
       "      <th>2024-08-26</th>\n",
       "      <td>-0.485586</td>\n",
       "      <td>-1.228904</td>\n",
       "      <td>-0.087372</td>\n",
       "      <td>0.013137</td>\n",
       "    </tr>\n",
       "    <tr>\n",
       "      <th>2024-08-27</th>\n",
       "      <td>-1.002947</td>\n",
       "      <td>0.352637</td>\n",
       "      <td>0.088708</td>\n",
       "      <td>-2.734828</td>\n",
       "    </tr>\n",
       "    <tr>\n",
       "      <th>2024-08-28</th>\n",
       "      <td>-1.200074</td>\n",
       "      <td>-0.012750</td>\n",
       "      <td>1.175856</td>\n",
       "      <td>0.363554</td>\n",
       "    </tr>\n",
       "    <tr>\n",
       "      <th>2024-08-29</th>\n",
       "      <td>0.844610</td>\n",
       "      <td>-0.206573</td>\n",
       "      <td>-0.650745</td>\n",
       "      <td>0.584913</td>\n",
       "    </tr>\n",
       "    <tr>\n",
       "      <th>2024-08-30</th>\n",
       "      <td>-0.083206</td>\n",
       "      <td>0.111281</td>\n",
       "      <td>0.741105</td>\n",
       "      <td>0.841217</td>\n",
       "    </tr>\n",
       "    <tr>\n",
       "      <th>2024-08-31</th>\n",
       "      <td>0.002045</td>\n",
       "      <td>0.758266</td>\n",
       "      <td>0.227393</td>\n",
       "      <td>-0.129223</td>\n",
       "    </tr>\n",
       "  </tbody>\n",
       "</table>\n",
       "</div>"
      ],
      "text/plain": [
       "                   A         B         C         D\n",
       "2024-08-24 -1.033007 -1.667544  2.096441 -0.036855\n",
       "2024-08-25 -0.012070 -1.445879 -2.331113  1.212528\n",
       "2024-08-26 -0.485586 -1.228904 -0.087372  0.013137\n",
       "2024-08-27 -1.002947  0.352637  0.088708 -2.734828\n",
       "2024-08-28 -1.200074 -0.012750  1.175856  0.363554\n",
       "2024-08-29  0.844610 -0.206573 -0.650745  0.584913\n",
       "2024-08-30 -0.083206  0.111281  0.741105  0.841217\n",
       "2024-08-31  0.002045  0.758266  0.227393 -0.129223"
      ]
     },
     "execution_count": 18,
     "metadata": {},
     "output_type": "execute_result"
    }
   ],
   "source": [
    "df"
   ]
  },
  {
   "cell_type": "markdown",
   "id": "47509cac-cba4-4ee9-aed7-0e247abf7760",
   "metadata": {},
   "source": [
    "Creating a DataFrame by passing a dictionary of objects where the keys are the column labels and the values are the column values."
   ]
  },
  {
   "cell_type": "code",
   "execution_count": 19,
   "id": "4ac07d26-4ee7-4fbc-98cf-1d3a00ed35bd",
   "metadata": {},
   "outputs": [
    {
     "ename": "ValueError",
     "evalue": "If using all scalar values, you must pass an index",
     "output_type": "error",
     "traceback": [
      "\u001b[1;31m---------------------------------------------------------------------------\u001b[0m",
      "\u001b[1;31mValueError\u001b[0m                                Traceback (most recent call last)",
      "Cell \u001b[1;32mIn[19], line 1\u001b[0m\n\u001b[1;32m----> 1\u001b[0m df2 \u001b[38;5;241m=\u001b[39m pd\u001b[38;5;241m.\u001b[39mDataFrame({\n\u001b[0;32m      2\u001b[0m     \u001b[38;5;124m\"\u001b[39m\u001b[38;5;124mA\u001b[39m\u001b[38;5;124m\"\u001b[39m:\u001b[38;5;241m1.0\u001b[39m,\n\u001b[0;32m      3\u001b[0m })\n",
      "File \u001b[1;32m~\\AppData\\Local\\anaconda3\\Lib\\site-packages\\pandas\\core\\frame.py:778\u001b[0m, in \u001b[0;36mDataFrame.__init__\u001b[1;34m(self, data, index, columns, dtype, copy)\u001b[0m\n\u001b[0;32m    772\u001b[0m     mgr \u001b[38;5;241m=\u001b[39m \u001b[38;5;28mself\u001b[39m\u001b[38;5;241m.\u001b[39m_init_mgr(\n\u001b[0;32m    773\u001b[0m         data, axes\u001b[38;5;241m=\u001b[39m{\u001b[38;5;124m\"\u001b[39m\u001b[38;5;124mindex\u001b[39m\u001b[38;5;124m\"\u001b[39m: index, \u001b[38;5;124m\"\u001b[39m\u001b[38;5;124mcolumns\u001b[39m\u001b[38;5;124m\"\u001b[39m: columns}, dtype\u001b[38;5;241m=\u001b[39mdtype, copy\u001b[38;5;241m=\u001b[39mcopy\n\u001b[0;32m    774\u001b[0m     )\n\u001b[0;32m    776\u001b[0m \u001b[38;5;28;01melif\u001b[39;00m \u001b[38;5;28misinstance\u001b[39m(data, \u001b[38;5;28mdict\u001b[39m):\n\u001b[0;32m    777\u001b[0m     \u001b[38;5;66;03m# GH#38939 de facto copy defaults to False only in non-dict cases\u001b[39;00m\n\u001b[1;32m--> 778\u001b[0m     mgr \u001b[38;5;241m=\u001b[39m dict_to_mgr(data, index, columns, dtype\u001b[38;5;241m=\u001b[39mdtype, copy\u001b[38;5;241m=\u001b[39mcopy, typ\u001b[38;5;241m=\u001b[39mmanager)\n\u001b[0;32m    779\u001b[0m \u001b[38;5;28;01melif\u001b[39;00m \u001b[38;5;28misinstance\u001b[39m(data, ma\u001b[38;5;241m.\u001b[39mMaskedArray):\n\u001b[0;32m    780\u001b[0m     \u001b[38;5;28;01mfrom\u001b[39;00m \u001b[38;5;21;01mnumpy\u001b[39;00m\u001b[38;5;21;01m.\u001b[39;00m\u001b[38;5;21;01mma\u001b[39;00m \u001b[38;5;28;01mimport\u001b[39;00m mrecords\n",
      "File \u001b[1;32m~\\AppData\\Local\\anaconda3\\Lib\\site-packages\\pandas\\core\\internals\\construction.py:503\u001b[0m, in \u001b[0;36mdict_to_mgr\u001b[1;34m(data, index, columns, dtype, typ, copy)\u001b[0m\n\u001b[0;32m    499\u001b[0m     \u001b[38;5;28;01melse\u001b[39;00m:\n\u001b[0;32m    500\u001b[0m         \u001b[38;5;66;03m# dtype check to exclude e.g. range objects, scalars\u001b[39;00m\n\u001b[0;32m    501\u001b[0m         arrays \u001b[38;5;241m=\u001b[39m [x\u001b[38;5;241m.\u001b[39mcopy() \u001b[38;5;28;01mif\u001b[39;00m \u001b[38;5;28mhasattr\u001b[39m(x, \u001b[38;5;124m\"\u001b[39m\u001b[38;5;124mdtype\u001b[39m\u001b[38;5;124m\"\u001b[39m) \u001b[38;5;28;01melse\u001b[39;00m x \u001b[38;5;28;01mfor\u001b[39;00m x \u001b[38;5;129;01min\u001b[39;00m arrays]\n\u001b[1;32m--> 503\u001b[0m \u001b[38;5;28;01mreturn\u001b[39;00m arrays_to_mgr(arrays, columns, index, dtype\u001b[38;5;241m=\u001b[39mdtype, typ\u001b[38;5;241m=\u001b[39mtyp, consolidate\u001b[38;5;241m=\u001b[39mcopy)\n",
      "File \u001b[1;32m~\\AppData\\Local\\anaconda3\\Lib\\site-packages\\pandas\\core\\internals\\construction.py:114\u001b[0m, in \u001b[0;36marrays_to_mgr\u001b[1;34m(arrays, columns, index, dtype, verify_integrity, typ, consolidate)\u001b[0m\n\u001b[0;32m    111\u001b[0m \u001b[38;5;28;01mif\u001b[39;00m verify_integrity:\n\u001b[0;32m    112\u001b[0m     \u001b[38;5;66;03m# figure out the index, if necessary\u001b[39;00m\n\u001b[0;32m    113\u001b[0m     \u001b[38;5;28;01mif\u001b[39;00m index \u001b[38;5;129;01mis\u001b[39;00m \u001b[38;5;28;01mNone\u001b[39;00m:\n\u001b[1;32m--> 114\u001b[0m         index \u001b[38;5;241m=\u001b[39m _extract_index(arrays)\n\u001b[0;32m    115\u001b[0m     \u001b[38;5;28;01melse\u001b[39;00m:\n\u001b[0;32m    116\u001b[0m         index \u001b[38;5;241m=\u001b[39m ensure_index(index)\n",
      "File \u001b[1;32m~\\AppData\\Local\\anaconda3\\Lib\\site-packages\\pandas\\core\\internals\\construction.py:667\u001b[0m, in \u001b[0;36m_extract_index\u001b[1;34m(data)\u001b[0m\n\u001b[0;32m    664\u001b[0m         \u001b[38;5;28;01mraise\u001b[39;00m \u001b[38;5;167;01mValueError\u001b[39;00m(\u001b[38;5;124m\"\u001b[39m\u001b[38;5;124mPer-column arrays must each be 1-dimensional\u001b[39m\u001b[38;5;124m\"\u001b[39m)\n\u001b[0;32m    666\u001b[0m \u001b[38;5;28;01mif\u001b[39;00m \u001b[38;5;129;01mnot\u001b[39;00m indexes \u001b[38;5;129;01mand\u001b[39;00m \u001b[38;5;129;01mnot\u001b[39;00m raw_lengths:\n\u001b[1;32m--> 667\u001b[0m     \u001b[38;5;28;01mraise\u001b[39;00m \u001b[38;5;167;01mValueError\u001b[39;00m(\u001b[38;5;124m\"\u001b[39m\u001b[38;5;124mIf using all scalar values, you must pass an index\u001b[39m\u001b[38;5;124m\"\u001b[39m)\n\u001b[0;32m    669\u001b[0m \u001b[38;5;28;01mif\u001b[39;00m have_series:\n\u001b[0;32m    670\u001b[0m     index \u001b[38;5;241m=\u001b[39m union_indexes(indexes)\n",
      "\u001b[1;31mValueError\u001b[0m: If using all scalar values, you must pass an index"
     ]
    }
   ],
   "source": [
    "df2 = pd.DataFrame({\n",
    "    \"A\":1.0,\n",
    "})"
   ]
  },
  {
   "cell_type": "code",
   "execution_count": 20,
   "id": "e6a087a7-a42c-4168-addb-6c284d14a716",
   "metadata": {},
   "outputs": [
    {
     "ename": "AttributeError",
     "evalue": "module 'pandas' has no attribute 'TimeStamp'",
     "output_type": "error",
     "traceback": [
      "\u001b[1;31m---------------------------------------------------------------------------\u001b[0m",
      "\u001b[1;31mAttributeError\u001b[0m                            Traceback (most recent call last)",
      "Cell \u001b[1;32mIn[20], line 3\u001b[0m\n\u001b[0;32m      1\u001b[0m df2 \u001b[38;5;241m=\u001b[39m pd\u001b[38;5;241m.\u001b[39mDataFrame({\n\u001b[0;32m      2\u001b[0m     \u001b[38;5;124m\"\u001b[39m\u001b[38;5;124mA\u001b[39m\u001b[38;5;124m\"\u001b[39m:\u001b[38;5;241m1.0\u001b[39m,\n\u001b[1;32m----> 3\u001b[0m     \u001b[38;5;124m\"\u001b[39m\u001b[38;5;124mB\u001b[39m\u001b[38;5;124m\"\u001b[39m:pd\u001b[38;5;241m.\u001b[39mTimeStamp(\u001b[38;5;124m\"\u001b[39m\u001b[38;5;124m20240822\u001b[39m\u001b[38;5;124m\"\u001b[39m),\n\u001b[0;32m      4\u001b[0m })\n",
      "\u001b[1;31mAttributeError\u001b[0m: module 'pandas' has no attribute 'TimeStamp'"
     ]
    }
   ],
   "source": [
    "df2 = pd.DataFrame({\n",
    "    \"A\":1.0,\n",
    "    \"B\":pd.TimeStamp(\"20240822\"),\n",
    "})"
   ]
  },
  {
   "cell_type": "code",
   "execution_count": 21,
   "id": "9fadb7b9-fc99-4a92-ade0-ec8cdfbe461d",
   "metadata": {},
   "outputs": [
    {
     "ename": "SyntaxError",
     "evalue": "closing parenthesis '}' does not match opening parenthesis '(' on line 4 (3630114223.py, line 7)",
     "output_type": "error",
     "traceback": [
      "\u001b[1;36m  Cell \u001b[1;32mIn[21], line 7\u001b[1;36m\u001b[0m\n\u001b[1;33m    })\u001b[0m\n\u001b[1;37m    ^\u001b[0m\n\u001b[1;31mSyntaxError\u001b[0m\u001b[1;31m:\u001b[0m closing parenthesis '}' does not match opening parenthesis '(' on line 4\n"
     ]
    }
   ],
   "source": [
    "df2 = pd.DataFrame({\n",
    "    \"A\":1.0,\n",
    "    \"B\":pd.Timestamp(\"20240822\"),\n",
    "    \"C\":pd.Series(1,index=list(range(4),dtype=\"float32\"),\n",
    "    \"D\":np.array([3]*4, dtype=\"int32\"),\n",
    "    \"F\":\"Foo\"\n",
    "})"
   ]
  },
  {
   "cell_type": "code",
   "execution_count": 22,
   "id": "72f6ac6b-8a4e-4885-84a4-a362c14b7021",
   "metadata": {},
   "outputs": [],
   "source": [
    "df2 = pd.DataFrame({\n",
    "    \"A\":1.0,\n",
    "    \"B\":pd.Timestamp(\"20240822\"),\n",
    "    \"C\":pd.Series(1,index=list(range(4)),dtype=\"float32\"),\n",
    "    \"D\":np.array([3]*4, dtype=\"int32\"),\n",
    "    \"F\":\"Foo\"\n",
    "})"
   ]
  },
  {
   "cell_type": "code",
   "execution_count": 23,
   "id": "cbf21b68-1833-47ca-942c-46f04937b4bb",
   "metadata": {},
   "outputs": [
    {
     "data": {
      "text/html": [
       "<div>\n",
       "<style scoped>\n",
       "    .dataframe tbody tr th:only-of-type {\n",
       "        vertical-align: middle;\n",
       "    }\n",
       "\n",
       "    .dataframe tbody tr th {\n",
       "        vertical-align: top;\n",
       "    }\n",
       "\n",
       "    .dataframe thead th {\n",
       "        text-align: right;\n",
       "    }\n",
       "</style>\n",
       "<table border=\"1\" class=\"dataframe\">\n",
       "  <thead>\n",
       "    <tr style=\"text-align: right;\">\n",
       "      <th></th>\n",
       "      <th>A</th>\n",
       "      <th>B</th>\n",
       "      <th>C</th>\n",
       "      <th>D</th>\n",
       "      <th>F</th>\n",
       "    </tr>\n",
       "  </thead>\n",
       "  <tbody>\n",
       "    <tr>\n",
       "      <th>0</th>\n",
       "      <td>1.0</td>\n",
       "      <td>2024-08-22</td>\n",
       "      <td>1.0</td>\n",
       "      <td>3</td>\n",
       "      <td>Foo</td>\n",
       "    </tr>\n",
       "    <tr>\n",
       "      <th>1</th>\n",
       "      <td>1.0</td>\n",
       "      <td>2024-08-22</td>\n",
       "      <td>1.0</td>\n",
       "      <td>3</td>\n",
       "      <td>Foo</td>\n",
       "    </tr>\n",
       "    <tr>\n",
       "      <th>2</th>\n",
       "      <td>1.0</td>\n",
       "      <td>2024-08-22</td>\n",
       "      <td>1.0</td>\n",
       "      <td>3</td>\n",
       "      <td>Foo</td>\n",
       "    </tr>\n",
       "    <tr>\n",
       "      <th>3</th>\n",
       "      <td>1.0</td>\n",
       "      <td>2024-08-22</td>\n",
       "      <td>1.0</td>\n",
       "      <td>3</td>\n",
       "      <td>Foo</td>\n",
       "    </tr>\n",
       "  </tbody>\n",
       "</table>\n",
       "</div>"
      ],
      "text/plain": [
       "     A          B    C  D    F\n",
       "0  1.0 2024-08-22  1.0  3  Foo\n",
       "1  1.0 2024-08-22  1.0  3  Foo\n",
       "2  1.0 2024-08-22  1.0  3  Foo\n",
       "3  1.0 2024-08-22  1.0  3  Foo"
      ]
     },
     "execution_count": 23,
     "metadata": {},
     "output_type": "execute_result"
    }
   ],
   "source": [
    "df2"
   ]
  },
  {
   "cell_type": "code",
   "execution_count": 24,
   "id": "f94f7301-2361-4aa6-919b-844a7b4d00ab",
   "metadata": {},
   "outputs": [
    {
     "data": {
      "text/plain": [
       "A          float64\n",
       "B    datetime64[s]\n",
       "C          float32\n",
       "D            int32\n",
       "F           object\n",
       "dtype: object"
      ]
     },
     "execution_count": 24,
     "metadata": {},
     "output_type": "execute_result"
    }
   ],
   "source": [
    "df2.dtypes"
   ]
  },
  {
   "cell_type": "markdown",
   "id": "742ef357-6c69-47c8-b8e1-b7aa74c47631",
   "metadata": {},
   "source": [
    "# Viewing data"
   ]
  },
  {
   "cell_type": "markdown",
   "id": "7b96cc19-6cc7-4f7e-8f09-bdb125c13e1f",
   "metadata": {},
   "source": [
    "# Use DataFrame.head()  to view the top rows of frame"
   ]
  },
  {
   "cell_type": "code",
   "execution_count": 25,
   "id": "b5f187b3-535b-4325-a306-71eb563fa7aa",
   "metadata": {},
   "outputs": [
    {
     "data": {
      "text/plain": [
       "<bound method NDFrame.head of                    A         B         C         D\n",
       "2024-08-24 -1.033007 -1.667544  2.096441 -0.036855\n",
       "2024-08-25 -0.012070 -1.445879 -2.331113  1.212528\n",
       "2024-08-26 -0.485586 -1.228904 -0.087372  0.013137\n",
       "2024-08-27 -1.002947  0.352637  0.088708 -2.734828\n",
       "2024-08-28 -1.200074 -0.012750  1.175856  0.363554\n",
       "2024-08-29  0.844610 -0.206573 -0.650745  0.584913\n",
       "2024-08-30 -0.083206  0.111281  0.741105  0.841217\n",
       "2024-08-31  0.002045  0.758266  0.227393 -0.129223>"
      ]
     },
     "execution_count": 25,
     "metadata": {},
     "output_type": "execute_result"
    }
   ],
   "source": [
    "df.head"
   ]
  },
  {
   "cell_type": "code",
   "execution_count": 26,
   "id": "183e7705-cd48-457e-890f-e931ded958ef",
   "metadata": {},
   "outputs": [
    {
     "data": {
      "text/html": [
       "<div>\n",
       "<style scoped>\n",
       "    .dataframe tbody tr th:only-of-type {\n",
       "        vertical-align: middle;\n",
       "    }\n",
       "\n",
       "    .dataframe tbody tr th {\n",
       "        vertical-align: top;\n",
       "    }\n",
       "\n",
       "    .dataframe thead th {\n",
       "        text-align: right;\n",
       "    }\n",
       "</style>\n",
       "<table border=\"1\" class=\"dataframe\">\n",
       "  <thead>\n",
       "    <tr style=\"text-align: right;\">\n",
       "      <th></th>\n",
       "      <th>A</th>\n",
       "      <th>B</th>\n",
       "      <th>C</th>\n",
       "      <th>D</th>\n",
       "    </tr>\n",
       "  </thead>\n",
       "  <tbody>\n",
       "    <tr>\n",
       "      <th>2024-08-24</th>\n",
       "      <td>-1.033007</td>\n",
       "      <td>-1.667544</td>\n",
       "      <td>2.096441</td>\n",
       "      <td>-0.036855</td>\n",
       "    </tr>\n",
       "    <tr>\n",
       "      <th>2024-08-25</th>\n",
       "      <td>-0.012070</td>\n",
       "      <td>-1.445879</td>\n",
       "      <td>-2.331113</td>\n",
       "      <td>1.212528</td>\n",
       "    </tr>\n",
       "    <tr>\n",
       "      <th>2024-08-26</th>\n",
       "      <td>-0.485586</td>\n",
       "      <td>-1.228904</td>\n",
       "      <td>-0.087372</td>\n",
       "      <td>0.013137</td>\n",
       "    </tr>\n",
       "  </tbody>\n",
       "</table>\n",
       "</div>"
      ],
      "text/plain": [
       "                   A         B         C         D\n",
       "2024-08-24 -1.033007 -1.667544  2.096441 -0.036855\n",
       "2024-08-25 -0.012070 -1.445879 -2.331113  1.212528\n",
       "2024-08-26 -0.485586 -1.228904 -0.087372  0.013137"
      ]
     },
     "execution_count": 26,
     "metadata": {},
     "output_type": "execute_result"
    }
   ],
   "source": [
    "df.head(3)"
   ]
  },
  {
   "cell_type": "markdown",
   "id": "58126b30-47b5-4fed-92fe-50a2923ecb1c",
   "metadata": {},
   "source": [
    "# Use  DataFrame.tail() to view the botoom rows of frame"
   ]
  },
  {
   "cell_type": "code",
   "execution_count": 27,
   "id": "9f9d9cb5-0613-47ff-be15-17f61fc69025",
   "metadata": {},
   "outputs": [
    {
     "data": {
      "text/plain": [
       "<bound method NDFrame.tail of                    A         B         C         D\n",
       "2024-08-24 -1.033007 -1.667544  2.096441 -0.036855\n",
       "2024-08-25 -0.012070 -1.445879 -2.331113  1.212528\n",
       "2024-08-26 -0.485586 -1.228904 -0.087372  0.013137\n",
       "2024-08-27 -1.002947  0.352637  0.088708 -2.734828\n",
       "2024-08-28 -1.200074 -0.012750  1.175856  0.363554\n",
       "2024-08-29  0.844610 -0.206573 -0.650745  0.584913\n",
       "2024-08-30 -0.083206  0.111281  0.741105  0.841217\n",
       "2024-08-31  0.002045  0.758266  0.227393 -0.129223>"
      ]
     },
     "execution_count": 27,
     "metadata": {},
     "output_type": "execute_result"
    }
   ],
   "source": [
    "df.tail"
   ]
  },
  {
   "cell_type": "code",
   "execution_count": 28,
   "id": "85ccff62-1832-4311-999e-4b25e6e7a86e",
   "metadata": {},
   "outputs": [
    {
     "data": {
      "text/html": [
       "<div>\n",
       "<style scoped>\n",
       "    .dataframe tbody tr th:only-of-type {\n",
       "        vertical-align: middle;\n",
       "    }\n",
       "\n",
       "    .dataframe tbody tr th {\n",
       "        vertical-align: top;\n",
       "    }\n",
       "\n",
       "    .dataframe thead th {\n",
       "        text-align: right;\n",
       "    }\n",
       "</style>\n",
       "<table border=\"1\" class=\"dataframe\">\n",
       "  <thead>\n",
       "    <tr style=\"text-align: right;\">\n",
       "      <th></th>\n",
       "      <th>A</th>\n",
       "      <th>B</th>\n",
       "      <th>C</th>\n",
       "      <th>D</th>\n",
       "    </tr>\n",
       "  </thead>\n",
       "  <tbody>\n",
       "    <tr>\n",
       "      <th>2024-08-28</th>\n",
       "      <td>-1.200074</td>\n",
       "      <td>-0.012750</td>\n",
       "      <td>1.175856</td>\n",
       "      <td>0.363554</td>\n",
       "    </tr>\n",
       "    <tr>\n",
       "      <th>2024-08-29</th>\n",
       "      <td>0.844610</td>\n",
       "      <td>-0.206573</td>\n",
       "      <td>-0.650745</td>\n",
       "      <td>0.584913</td>\n",
       "    </tr>\n",
       "    <tr>\n",
       "      <th>2024-08-30</th>\n",
       "      <td>-0.083206</td>\n",
       "      <td>0.111281</td>\n",
       "      <td>0.741105</td>\n",
       "      <td>0.841217</td>\n",
       "    </tr>\n",
       "    <tr>\n",
       "      <th>2024-08-31</th>\n",
       "      <td>0.002045</td>\n",
       "      <td>0.758266</td>\n",
       "      <td>0.227393</td>\n",
       "      <td>-0.129223</td>\n",
       "    </tr>\n",
       "  </tbody>\n",
       "</table>\n",
       "</div>"
      ],
      "text/plain": [
       "                   A         B         C         D\n",
       "2024-08-28 -1.200074 -0.012750  1.175856  0.363554\n",
       "2024-08-29  0.844610 -0.206573 -0.650745  0.584913\n",
       "2024-08-30 -0.083206  0.111281  0.741105  0.841217\n",
       "2024-08-31  0.002045  0.758266  0.227393 -0.129223"
      ]
     },
     "execution_count": 28,
     "metadata": {},
     "output_type": "execute_result"
    }
   ],
   "source": [
    "df.tail(4)"
   ]
  },
  {
   "cell_type": "markdown",
   "id": "7025984b-006c-48de-822c-2493f1a75212",
   "metadata": {},
   "source": [
    "# To Display the DataFrame.index"
   ]
  },
  {
   "cell_type": "code",
   "execution_count": 29,
   "id": "9743c93a-1e1a-4b15-becb-a319be23efd3",
   "metadata": {},
   "outputs": [
    {
     "data": {
      "text/plain": [
       "DatetimeIndex(['2024-08-24', '2024-08-25', '2024-08-26', '2024-08-27',\n",
       "               '2024-08-28', '2024-08-29', '2024-08-30', '2024-08-31'],\n",
       "              dtype='datetime64[ns]', freq='D')"
      ]
     },
     "execution_count": 29,
     "metadata": {},
     "output_type": "execute_result"
    }
   ],
   "source": [
    "df.index"
   ]
  },
  {
   "cell_type": "markdown",
   "id": "a7c31ea2-4833-4114-b753-dea57b539ef4",
   "metadata": {},
   "source": [
    "# To Display the DataFrame.columns"
   ]
  },
  {
   "cell_type": "code",
   "execution_count": 30,
   "id": "716353ce-b5c1-4a35-a49e-00a7c218acb3",
   "metadata": {},
   "outputs": [
    {
     "data": {
      "text/plain": [
       "Index(['A', 'B', 'C', 'D'], dtype='object')"
      ]
     },
     "execution_count": 30,
     "metadata": {},
     "output_type": "execute_result"
    }
   ],
   "source": [
    "df.columns"
   ]
  },
  {
   "cell_type": "markdown",
   "id": "39bde0dd-051f-462d-88bc-e668e5106e65",
   "metadata": {},
   "source": [
    "# Return a NumPy representation of the underlying data with DataFrame.to_numpy() without the index or column labels:\r",
    "()"
   ]
  },
  {
   "cell_type": "code",
   "execution_count": 31,
   "id": "ac01980d-d060-4699-9375-d288fe6827c1",
   "metadata": {},
   "outputs": [
    {
     "data": {
      "text/plain": [
       "array([[-1.03300732e+00, -1.66754388e+00,  2.09644136e+00,\n",
       "        -3.68550487e-02],\n",
       "       [-1.20699477e-02, -1.44587902e+00, -2.33111287e+00,\n",
       "         1.21252837e+00],\n",
       "       [-4.85585565e-01, -1.22890373e+00, -8.73716804e-02,\n",
       "         1.31369982e-02],\n",
       "       [-1.00294728e+00,  3.52636760e-01,  8.87080106e-02,\n",
       "        -2.73482767e+00],\n",
       "       [-1.20007412e+00, -1.27500441e-02,  1.17585595e+00,\n",
       "         3.63553691e-01],\n",
       "       [ 8.44610456e-01, -2.06572882e-01, -6.50744542e-01,\n",
       "         5.84913284e-01],\n",
       "       [-8.32059824e-02,  1.11281389e-01,  7.41105186e-01,\n",
       "         8.41217020e-01],\n",
       "       [ 2.04481104e-03,  7.58266207e-01,  2.27393024e-01,\n",
       "        -1.29222984e-01]])"
      ]
     },
     "execution_count": 31,
     "metadata": {},
     "output_type": "execute_result"
    }
   ],
   "source": [
    "df.to_numpy()"
   ]
  },
  {
   "cell_type": "markdown",
   "id": "7b71775e-74ad-4fe1-850b-0721e67edb59",
   "metadata": {},
   "source": [
    "# NumPy arrays have one dtype for the entire array while pandas DataFrames have one dtype per column\n",
    " When you call DataFrame.to_numpy(), pandas will find the NumPy dtype that can hold all of the dtypes in the DataFrame. If the common data type is object, DataFrame.to_numpy() will require copying data.\n"
   ]
  },
  {
   "cell_type": "code",
   "execution_count": 32,
   "id": "b586fe26-0c8f-45de-9483-4282a454554b",
   "metadata": {},
   "outputs": [
    {
     "data": {
      "text/plain": [
       "A          float64\n",
       "B    datetime64[s]\n",
       "C          float32\n",
       "D            int32\n",
       "F           object\n",
       "dtype: object"
      ]
     },
     "execution_count": 32,
     "metadata": {},
     "output_type": "execute_result"
    }
   ],
   "source": [
    "df2.dtypes"
   ]
  },
  {
   "cell_type": "markdown",
   "id": "8f4d18fa-8d82-4eeb-bf3c-223f5618184e",
   "metadata": {},
   "source": [
    "# describe() shows a quick statistic summary of your data"
   ]
  },
  {
   "cell_type": "code",
   "execution_count": 33,
   "id": "b39da49e-8edf-4d05-8ad5-49ac2055f4fc",
   "metadata": {},
   "outputs": [
    {
     "data": {
      "text/html": [
       "<div>\n",
       "<style scoped>\n",
       "    .dataframe tbody tr th:only-of-type {\n",
       "        vertical-align: middle;\n",
       "    }\n",
       "\n",
       "    .dataframe tbody tr th {\n",
       "        vertical-align: top;\n",
       "    }\n",
       "\n",
       "    .dataframe thead th {\n",
       "        text-align: right;\n",
       "    }\n",
       "</style>\n",
       "<table border=\"1\" class=\"dataframe\">\n",
       "  <thead>\n",
       "    <tr style=\"text-align: right;\">\n",
       "      <th></th>\n",
       "      <th>A</th>\n",
       "      <th>B</th>\n",
       "      <th>C</th>\n",
       "      <th>D</th>\n",
       "    </tr>\n",
       "  </thead>\n",
       "  <tbody>\n",
       "    <tr>\n",
       "      <th>count</th>\n",
       "      <td>8.000000</td>\n",
       "      <td>8.000000</td>\n",
       "      <td>8.000000</td>\n",
       "      <td>8.000000</td>\n",
       "    </tr>\n",
       "    <tr>\n",
       "      <th>mean</th>\n",
       "      <td>-0.371279</td>\n",
       "      <td>-0.417433</td>\n",
       "      <td>0.157534</td>\n",
       "      <td>0.014305</td>\n",
       "    </tr>\n",
       "    <tr>\n",
       "      <th>std</th>\n",
       "      <td>0.693504</td>\n",
       "      <td>0.905697</td>\n",
       "      <td>1.312205</td>\n",
       "      <td>1.204043</td>\n",
       "    </tr>\n",
       "    <tr>\n",
       "      <th>min</th>\n",
       "      <td>-1.200074</td>\n",
       "      <td>-1.667544</td>\n",
       "      <td>-2.331113</td>\n",
       "      <td>-2.734828</td>\n",
       "    </tr>\n",
       "    <tr>\n",
       "      <th>25%</th>\n",
       "      <td>-1.010462</td>\n",
       "      <td>-1.283148</td>\n",
       "      <td>-0.228215</td>\n",
       "      <td>-0.059947</td>\n",
       "    </tr>\n",
       "    <tr>\n",
       "      <th>50%</th>\n",
       "      <td>-0.284396</td>\n",
       "      <td>-0.109661</td>\n",
       "      <td>0.158051</td>\n",
       "      <td>0.188345</td>\n",
       "    </tr>\n",
       "    <tr>\n",
       "      <th>75%</th>\n",
       "      <td>-0.008541</td>\n",
       "      <td>0.171620</td>\n",
       "      <td>0.849793</td>\n",
       "      <td>0.648989</td>\n",
       "    </tr>\n",
       "    <tr>\n",
       "      <th>max</th>\n",
       "      <td>0.844610</td>\n",
       "      <td>0.758266</td>\n",
       "      <td>2.096441</td>\n",
       "      <td>1.212528</td>\n",
       "    </tr>\n",
       "  </tbody>\n",
       "</table>\n",
       "</div>"
      ],
      "text/plain": [
       "              A         B         C         D\n",
       "count  8.000000  8.000000  8.000000  8.000000\n",
       "mean  -0.371279 -0.417433  0.157534  0.014305\n",
       "std    0.693504  0.905697  1.312205  1.204043\n",
       "min   -1.200074 -1.667544 -2.331113 -2.734828\n",
       "25%   -1.010462 -1.283148 -0.228215 -0.059947\n",
       "50%   -0.284396 -0.109661  0.158051  0.188345\n",
       "75%   -0.008541  0.171620  0.849793  0.648989\n",
       "max    0.844610  0.758266  2.096441  1.212528"
      ]
     },
     "execution_count": 33,
     "metadata": {},
     "output_type": "execute_result"
    }
   ],
   "source": [
    "df.describe()"
   ]
  },
  {
   "cell_type": "markdown",
   "id": "55f62789-55af-44c3-8b89-80610cdfc20f",
   "metadata": {},
   "source": [
    "# Transposing your data:"
   ]
  },
  {
   "cell_type": "code",
   "execution_count": 34,
   "id": "4d012687-9f9d-425d-a5ba-fe25f34d85e6",
   "metadata": {},
   "outputs": [
    {
     "data": {
      "text/html": [
       "<div>\n",
       "<style scoped>\n",
       "    .dataframe tbody tr th:only-of-type {\n",
       "        vertical-align: middle;\n",
       "    }\n",
       "\n",
       "    .dataframe tbody tr th {\n",
       "        vertical-align: top;\n",
       "    }\n",
       "\n",
       "    .dataframe thead th {\n",
       "        text-align: right;\n",
       "    }\n",
       "</style>\n",
       "<table border=\"1\" class=\"dataframe\">\n",
       "  <thead>\n",
       "    <tr style=\"text-align: right;\">\n",
       "      <th></th>\n",
       "      <th>2024-08-24</th>\n",
       "      <th>2024-08-25</th>\n",
       "      <th>2024-08-26</th>\n",
       "      <th>2024-08-27</th>\n",
       "      <th>2024-08-28</th>\n",
       "      <th>2024-08-29</th>\n",
       "      <th>2024-08-30</th>\n",
       "      <th>2024-08-31</th>\n",
       "    </tr>\n",
       "  </thead>\n",
       "  <tbody>\n",
       "    <tr>\n",
       "      <th>A</th>\n",
       "      <td>-1.033007</td>\n",
       "      <td>-0.012070</td>\n",
       "      <td>-0.485586</td>\n",
       "      <td>-1.002947</td>\n",
       "      <td>-1.200074</td>\n",
       "      <td>0.844610</td>\n",
       "      <td>-0.083206</td>\n",
       "      <td>0.002045</td>\n",
       "    </tr>\n",
       "    <tr>\n",
       "      <th>B</th>\n",
       "      <td>-1.667544</td>\n",
       "      <td>-1.445879</td>\n",
       "      <td>-1.228904</td>\n",
       "      <td>0.352637</td>\n",
       "      <td>-0.012750</td>\n",
       "      <td>-0.206573</td>\n",
       "      <td>0.111281</td>\n",
       "      <td>0.758266</td>\n",
       "    </tr>\n",
       "    <tr>\n",
       "      <th>C</th>\n",
       "      <td>2.096441</td>\n",
       "      <td>-2.331113</td>\n",
       "      <td>-0.087372</td>\n",
       "      <td>0.088708</td>\n",
       "      <td>1.175856</td>\n",
       "      <td>-0.650745</td>\n",
       "      <td>0.741105</td>\n",
       "      <td>0.227393</td>\n",
       "    </tr>\n",
       "    <tr>\n",
       "      <th>D</th>\n",
       "      <td>-0.036855</td>\n",
       "      <td>1.212528</td>\n",
       "      <td>0.013137</td>\n",
       "      <td>-2.734828</td>\n",
       "      <td>0.363554</td>\n",
       "      <td>0.584913</td>\n",
       "      <td>0.841217</td>\n",
       "      <td>-0.129223</td>\n",
       "    </tr>\n",
       "  </tbody>\n",
       "</table>\n",
       "</div>"
      ],
      "text/plain": [
       "   2024-08-24  2024-08-25  2024-08-26  2024-08-27  2024-08-28  2024-08-29  \\\n",
       "A   -1.033007   -0.012070   -0.485586   -1.002947   -1.200074    0.844610   \n",
       "B   -1.667544   -1.445879   -1.228904    0.352637   -0.012750   -0.206573   \n",
       "C    2.096441   -2.331113   -0.087372    0.088708    1.175856   -0.650745   \n",
       "D   -0.036855    1.212528    0.013137   -2.734828    0.363554    0.584913   \n",
       "\n",
       "   2024-08-30  2024-08-31  \n",
       "A   -0.083206    0.002045  \n",
       "B    0.111281    0.758266  \n",
       "C    0.741105    0.227393  \n",
       "D    0.841217   -0.129223  "
      ]
     },
     "execution_count": 34,
     "metadata": {},
     "output_type": "execute_result"
    }
   ],
   "source": [
    "df.T"
   ]
  },
  {
   "cell_type": "markdown",
   "id": "f1f0881a-e9ec-478e-bdcb-838976ba7f12",
   "metadata": {},
   "source": [
    "# DataFrame.sort_index() sorts by an axis:"
   ]
  },
  {
   "cell_type": "code",
   "execution_count": 35,
   "id": "ca611ec8-c160-4220-8081-1b14c53f7869",
   "metadata": {},
   "outputs": [
    {
     "data": {
      "text/html": [
       "<div>\n",
       "<style scoped>\n",
       "    .dataframe tbody tr th:only-of-type {\n",
       "        vertical-align: middle;\n",
       "    }\n",
       "\n",
       "    .dataframe tbody tr th {\n",
       "        vertical-align: top;\n",
       "    }\n",
       "\n",
       "    .dataframe thead th {\n",
       "        text-align: right;\n",
       "    }\n",
       "</style>\n",
       "<table border=\"1\" class=\"dataframe\">\n",
       "  <thead>\n",
       "    <tr style=\"text-align: right;\">\n",
       "      <th></th>\n",
       "      <th>D</th>\n",
       "      <th>C</th>\n",
       "      <th>B</th>\n",
       "      <th>A</th>\n",
       "    </tr>\n",
       "  </thead>\n",
       "  <tbody>\n",
       "    <tr>\n",
       "      <th>2024-08-24</th>\n",
       "      <td>-0.036855</td>\n",
       "      <td>2.096441</td>\n",
       "      <td>-1.667544</td>\n",
       "      <td>-1.033007</td>\n",
       "    </tr>\n",
       "    <tr>\n",
       "      <th>2024-08-25</th>\n",
       "      <td>1.212528</td>\n",
       "      <td>-2.331113</td>\n",
       "      <td>-1.445879</td>\n",
       "      <td>-0.012070</td>\n",
       "    </tr>\n",
       "    <tr>\n",
       "      <th>2024-08-26</th>\n",
       "      <td>0.013137</td>\n",
       "      <td>-0.087372</td>\n",
       "      <td>-1.228904</td>\n",
       "      <td>-0.485586</td>\n",
       "    </tr>\n",
       "    <tr>\n",
       "      <th>2024-08-27</th>\n",
       "      <td>-2.734828</td>\n",
       "      <td>0.088708</td>\n",
       "      <td>0.352637</td>\n",
       "      <td>-1.002947</td>\n",
       "    </tr>\n",
       "    <tr>\n",
       "      <th>2024-08-28</th>\n",
       "      <td>0.363554</td>\n",
       "      <td>1.175856</td>\n",
       "      <td>-0.012750</td>\n",
       "      <td>-1.200074</td>\n",
       "    </tr>\n",
       "    <tr>\n",
       "      <th>2024-08-29</th>\n",
       "      <td>0.584913</td>\n",
       "      <td>-0.650745</td>\n",
       "      <td>-0.206573</td>\n",
       "      <td>0.844610</td>\n",
       "    </tr>\n",
       "    <tr>\n",
       "      <th>2024-08-30</th>\n",
       "      <td>0.841217</td>\n",
       "      <td>0.741105</td>\n",
       "      <td>0.111281</td>\n",
       "      <td>-0.083206</td>\n",
       "    </tr>\n",
       "    <tr>\n",
       "      <th>2024-08-31</th>\n",
       "      <td>-0.129223</td>\n",
       "      <td>0.227393</td>\n",
       "      <td>0.758266</td>\n",
       "      <td>0.002045</td>\n",
       "    </tr>\n",
       "  </tbody>\n",
       "</table>\n",
       "</div>"
      ],
      "text/plain": [
       "                   D         C         B         A\n",
       "2024-08-24 -0.036855  2.096441 -1.667544 -1.033007\n",
       "2024-08-25  1.212528 -2.331113 -1.445879 -0.012070\n",
       "2024-08-26  0.013137 -0.087372 -1.228904 -0.485586\n",
       "2024-08-27 -2.734828  0.088708  0.352637 -1.002947\n",
       "2024-08-28  0.363554  1.175856 -0.012750 -1.200074\n",
       "2024-08-29  0.584913 -0.650745 -0.206573  0.844610\n",
       "2024-08-30  0.841217  0.741105  0.111281 -0.083206\n",
       "2024-08-31 -0.129223  0.227393  0.758266  0.002045"
      ]
     },
     "execution_count": 35,
     "metadata": {},
     "output_type": "execute_result"
    }
   ],
   "source": [
    "df.sort_index(axis=1, ascending=False)"
   ]
  },
  {
   "cell_type": "markdown",
   "id": "0a1bb5fd-c446-4e65-921e-d57fe76e2f47",
   "metadata": {},
   "source": [
    "# Dataframe.sort_values() sorts by values:"
   ]
  },
  {
   "cell_type": "code",
   "execution_count": 36,
   "id": "8be6cff4-b62d-4672-916e-d8474c8b504f",
   "metadata": {},
   "outputs": [
    {
     "data": {
      "text/html": [
       "<div>\n",
       "<style scoped>\n",
       "    .dataframe tbody tr th:only-of-type {\n",
       "        vertical-align: middle;\n",
       "    }\n",
       "\n",
       "    .dataframe tbody tr th {\n",
       "        vertical-align: top;\n",
       "    }\n",
       "\n",
       "    .dataframe thead th {\n",
       "        text-align: right;\n",
       "    }\n",
       "</style>\n",
       "<table border=\"1\" class=\"dataframe\">\n",
       "  <thead>\n",
       "    <tr style=\"text-align: right;\">\n",
       "      <th></th>\n",
       "      <th>A</th>\n",
       "      <th>B</th>\n",
       "      <th>C</th>\n",
       "      <th>D</th>\n",
       "    </tr>\n",
       "  </thead>\n",
       "  <tbody>\n",
       "    <tr>\n",
       "      <th>2024-08-24</th>\n",
       "      <td>-1.033007</td>\n",
       "      <td>-1.667544</td>\n",
       "      <td>2.096441</td>\n",
       "      <td>-0.036855</td>\n",
       "    </tr>\n",
       "    <tr>\n",
       "      <th>2024-08-25</th>\n",
       "      <td>-0.012070</td>\n",
       "      <td>-1.445879</td>\n",
       "      <td>-2.331113</td>\n",
       "      <td>1.212528</td>\n",
       "    </tr>\n",
       "    <tr>\n",
       "      <th>2024-08-26</th>\n",
       "      <td>-0.485586</td>\n",
       "      <td>-1.228904</td>\n",
       "      <td>-0.087372</td>\n",
       "      <td>0.013137</td>\n",
       "    </tr>\n",
       "    <tr>\n",
       "      <th>2024-08-29</th>\n",
       "      <td>0.844610</td>\n",
       "      <td>-0.206573</td>\n",
       "      <td>-0.650745</td>\n",
       "      <td>0.584913</td>\n",
       "    </tr>\n",
       "    <tr>\n",
       "      <th>2024-08-28</th>\n",
       "      <td>-1.200074</td>\n",
       "      <td>-0.012750</td>\n",
       "      <td>1.175856</td>\n",
       "      <td>0.363554</td>\n",
       "    </tr>\n",
       "    <tr>\n",
       "      <th>2024-08-30</th>\n",
       "      <td>-0.083206</td>\n",
       "      <td>0.111281</td>\n",
       "      <td>0.741105</td>\n",
       "      <td>0.841217</td>\n",
       "    </tr>\n",
       "    <tr>\n",
       "      <th>2024-08-27</th>\n",
       "      <td>-1.002947</td>\n",
       "      <td>0.352637</td>\n",
       "      <td>0.088708</td>\n",
       "      <td>-2.734828</td>\n",
       "    </tr>\n",
       "    <tr>\n",
       "      <th>2024-08-31</th>\n",
       "      <td>0.002045</td>\n",
       "      <td>0.758266</td>\n",
       "      <td>0.227393</td>\n",
       "      <td>-0.129223</td>\n",
       "    </tr>\n",
       "  </tbody>\n",
       "</table>\n",
       "</div>"
      ],
      "text/plain": [
       "                   A         B         C         D\n",
       "2024-08-24 -1.033007 -1.667544  2.096441 -0.036855\n",
       "2024-08-25 -0.012070 -1.445879 -2.331113  1.212528\n",
       "2024-08-26 -0.485586 -1.228904 -0.087372  0.013137\n",
       "2024-08-29  0.844610 -0.206573 -0.650745  0.584913\n",
       "2024-08-28 -1.200074 -0.012750  1.175856  0.363554\n",
       "2024-08-30 -0.083206  0.111281  0.741105  0.841217\n",
       "2024-08-27 -1.002947  0.352637  0.088708 -2.734828\n",
       "2024-08-31  0.002045  0.758266  0.227393 -0.129223"
      ]
     },
     "execution_count": 36,
     "metadata": {},
     "output_type": "execute_result"
    }
   ],
   "source": [
    "df.sort_values(by=\"B\")"
   ]
  },
  {
   "cell_type": "markdown",
   "id": "e3a623d6-63aa-4b32-8b5b-4aa1df9dec57",
   "metadata": {},
   "source": [
    "# Selection"
   ]
  },
  {
   "cell_type": "markdown",
   "id": "798844d0-ce3d-4c0d-8cd1-ddc2cb82ca7c",
   "metadata": {},
   "source": [
    "# Note\n",
    "     standard Python / NumPy expressions for selecting and setting are intuitive and come in handy for interactive work, for production code, we recommend the optimized pandas data access methods, DataFrame.at(), DataFrame.iat(), DataFrame.loc() and DataFrame.iloc()."
   ]
  },
  {
   "cell_type": "markdown",
   "id": "076346cc-02fa-4614-a615-322ed5283c75",
   "metadata": {},
   "source": [
    "for more use See the indexing documentation Indexing and Selecting Data and MultiIndex / Advanced Indexing."
   ]
  },
  {
   "cell_type": "markdown",
   "id": "03b3c690-0a3f-498b-9ca3-ae7cf314817f",
   "metadata": {},
   "source": [
    "# Getitem ([])"
   ]
  },
  {
   "cell_type": "markdown",
   "id": "df7207f4-e48b-430d-9cdb-1e5dd601f8df",
   "metadata": {},
   "source": [
    "For a DataFrame, passing a single label selects a columns and yields a Series equivalent to df.A:"
   ]
  },
  {
   "cell_type": "code",
   "execution_count": 37,
   "id": "89c7a871-a722-4896-b093-21ee263be6b0",
   "metadata": {},
   "outputs": [
    {
     "data": {
      "text/plain": [
       "2024-08-24   -1.033007\n",
       "2024-08-25   -0.012070\n",
       "2024-08-26   -0.485586\n",
       "2024-08-27   -1.002947\n",
       "2024-08-28   -1.200074\n",
       "2024-08-29    0.844610\n",
       "2024-08-30   -0.083206\n",
       "2024-08-31    0.002045\n",
       "Freq: D, Name: A, dtype: float64"
      ]
     },
     "execution_count": 37,
     "metadata": {},
     "output_type": "execute_result"
    }
   ],
   "source": [
    "df[\"A\"]"
   ]
  },
  {
   "cell_type": "markdown",
   "id": "935e286d-f498-4bb4-abdd-77f880abf22d",
   "metadata": {},
   "source": [
    "# For a DataFrame, passing a slice : selects matching rows:"
   ]
  },
  {
   "cell_type": "code",
   "execution_count": 38,
   "id": "17492d62-444a-442b-912b-646fd98b1db9",
   "metadata": {},
   "outputs": [
    {
     "data": {
      "text/html": [
       "<div>\n",
       "<style scoped>\n",
       "    .dataframe tbody tr th:only-of-type {\n",
       "        vertical-align: middle;\n",
       "    }\n",
       "\n",
       "    .dataframe tbody tr th {\n",
       "        vertical-align: top;\n",
       "    }\n",
       "\n",
       "    .dataframe thead th {\n",
       "        text-align: right;\n",
       "    }\n",
       "</style>\n",
       "<table border=\"1\" class=\"dataframe\">\n",
       "  <thead>\n",
       "    <tr style=\"text-align: right;\">\n",
       "      <th></th>\n",
       "      <th>A</th>\n",
       "      <th>B</th>\n",
       "      <th>C</th>\n",
       "      <th>D</th>\n",
       "    </tr>\n",
       "  </thead>\n",
       "  <tbody>\n",
       "    <tr>\n",
       "      <th>2024-08-24</th>\n",
       "      <td>-1.033007</td>\n",
       "      <td>-1.667544</td>\n",
       "      <td>2.096441</td>\n",
       "      <td>-0.036855</td>\n",
       "    </tr>\n",
       "    <tr>\n",
       "      <th>2024-08-25</th>\n",
       "      <td>-0.012070</td>\n",
       "      <td>-1.445879</td>\n",
       "      <td>-2.331113</td>\n",
       "      <td>1.212528</td>\n",
       "    </tr>\n",
       "    <tr>\n",
       "      <th>2024-08-26</th>\n",
       "      <td>-0.485586</td>\n",
       "      <td>-1.228904</td>\n",
       "      <td>-0.087372</td>\n",
       "      <td>0.013137</td>\n",
       "    </tr>\n",
       "  </tbody>\n",
       "</table>\n",
       "</div>"
      ],
      "text/plain": [
       "                   A         B         C         D\n",
       "2024-08-24 -1.033007 -1.667544  2.096441 -0.036855\n",
       "2024-08-25 -0.012070 -1.445879 -2.331113  1.212528\n",
       "2024-08-26 -0.485586 -1.228904 -0.087372  0.013137"
      ]
     },
     "execution_count": 38,
     "metadata": {},
     "output_type": "execute_result"
    }
   ],
   "source": [
    "df[0:3]"
   ]
  },
  {
   "cell_type": "code",
   "execution_count": 39,
   "id": "7f014f51-dd93-4864-8ab6-ca6451669eb9",
   "metadata": {},
   "outputs": [
    {
     "data": {
      "text/html": [
       "<div>\n",
       "<style scoped>\n",
       "    .dataframe tbody tr th:only-of-type {\n",
       "        vertical-align: middle;\n",
       "    }\n",
       "\n",
       "    .dataframe tbody tr th {\n",
       "        vertical-align: top;\n",
       "    }\n",
       "\n",
       "    .dataframe thead th {\n",
       "        text-align: right;\n",
       "    }\n",
       "</style>\n",
       "<table border=\"1\" class=\"dataframe\">\n",
       "  <thead>\n",
       "    <tr style=\"text-align: right;\">\n",
       "      <th></th>\n",
       "      <th>A</th>\n",
       "      <th>B</th>\n",
       "      <th>C</th>\n",
       "      <th>D</th>\n",
       "    </tr>\n",
       "  </thead>\n",
       "  <tbody>\n",
       "    <tr>\n",
       "      <th>2024-08-25</th>\n",
       "      <td>-0.012070</td>\n",
       "      <td>-1.445879</td>\n",
       "      <td>-2.331113</td>\n",
       "      <td>1.212528</td>\n",
       "    </tr>\n",
       "    <tr>\n",
       "      <th>2024-08-26</th>\n",
       "      <td>-0.485586</td>\n",
       "      <td>-1.228904</td>\n",
       "      <td>-0.087372</td>\n",
       "      <td>0.013137</td>\n",
       "    </tr>\n",
       "    <tr>\n",
       "      <th>2024-08-27</th>\n",
       "      <td>-1.002947</td>\n",
       "      <td>0.352637</td>\n",
       "      <td>0.088708</td>\n",
       "      <td>-2.734828</td>\n",
       "    </tr>\n",
       "    <tr>\n",
       "      <th>2024-08-28</th>\n",
       "      <td>-1.200074</td>\n",
       "      <td>-0.012750</td>\n",
       "      <td>1.175856</td>\n",
       "      <td>0.363554</td>\n",
       "    </tr>\n",
       "    <tr>\n",
       "      <th>2024-08-29</th>\n",
       "      <td>0.844610</td>\n",
       "      <td>-0.206573</td>\n",
       "      <td>-0.650745</td>\n",
       "      <td>0.584913</td>\n",
       "    </tr>\n",
       "    <tr>\n",
       "      <th>2024-08-30</th>\n",
       "      <td>-0.083206</td>\n",
       "      <td>0.111281</td>\n",
       "      <td>0.741105</td>\n",
       "      <td>0.841217</td>\n",
       "    </tr>\n",
       "    <tr>\n",
       "      <th>2024-08-31</th>\n",
       "      <td>0.002045</td>\n",
       "      <td>0.758266</td>\n",
       "      <td>0.227393</td>\n",
       "      <td>-0.129223</td>\n",
       "    </tr>\n",
       "  </tbody>\n",
       "</table>\n",
       "</div>"
      ],
      "text/plain": [
       "                   A         B         C         D\n",
       "2024-08-25 -0.012070 -1.445879 -2.331113  1.212528\n",
       "2024-08-26 -0.485586 -1.228904 -0.087372  0.013137\n",
       "2024-08-27 -1.002947  0.352637  0.088708 -2.734828\n",
       "2024-08-28 -1.200074 -0.012750  1.175856  0.363554\n",
       "2024-08-29  0.844610 -0.206573 -0.650745  0.584913\n",
       "2024-08-30 -0.083206  0.111281  0.741105  0.841217\n",
       "2024-08-31  0.002045  0.758266  0.227393 -0.129223"
      ]
     },
     "execution_count": 39,
     "metadata": {},
     "output_type": "execute_result"
    }
   ],
   "source": [
    "df[\"2024-08-25\":\"2024-08-31\"]"
   ]
  },
  {
   "cell_type": "markdown",
   "id": "07849a4f-0681-4911-bcff-0ec9a652c570",
   "metadata": {},
   "source": [
    "# Selection by label"
   ]
  },
  {
   "cell_type": "markdown",
   "id": "3451ee84-1bf9-45de-8209-f0694c9aff7a",
   "metadata": {},
   "source": [
    "See more in Selection by Label using DataFrame.loc() or DataFrame.at()."
   ]
  },
  {
   "cell_type": "markdown",
   "id": "0bf40467-3e84-4660-a631-4fffb33668c1",
   "metadata": {},
   "source": [
    "# Selecting a row matching a label"
   ]
  },
  {
   "cell_type": "code",
   "execution_count": 40,
   "id": "da30b73b-d4b9-4e8b-bd29-7dad2c358f77",
   "metadata": {},
   "outputs": [
    {
     "ename": "NameError",
     "evalue": "name 'date' is not defined",
     "output_type": "error",
     "traceback": [
      "\u001b[1;31m---------------------------------------------------------------------------\u001b[0m",
      "\u001b[1;31mNameError\u001b[0m                                 Traceback (most recent call last)",
      "Cell \u001b[1;32mIn[40], line 1\u001b[0m\n\u001b[1;32m----> 1\u001b[0m df\u001b[38;5;241m.\u001b[39mloc(date[\u001b[38;5;241m0\u001b[39m])\n",
      "\u001b[1;31mNameError\u001b[0m: name 'date' is not defined"
     ]
    }
   ],
   "source": [
    "df.loc(date[0])"
   ]
  },
  {
   "cell_type": "code",
   "execution_count": 41,
   "id": "d7c583a0-c936-4cf0-a431-4367a4b4d4b9",
   "metadata": {},
   "outputs": [
    {
     "ename": "ValueError",
     "evalue": "No axis named 2024-08-24 00:00:00 for object type DataFrame",
     "output_type": "error",
     "traceback": [
      "\u001b[1;31m---------------------------------------------------------------------------\u001b[0m",
      "\u001b[1;31mKeyError\u001b[0m                                  Traceback (most recent call last)",
      "\u001b[1;32m~\\AppData\\Local\\anaconda3\\Lib\\site-packages\\pandas\\core\\generic.py\u001b[0m in \u001b[0;36m?\u001b[1;34m(cls, axis)\u001b[0m\n\u001b[0;32m    576\u001b[0m             \u001b[1;32mreturn\u001b[0m \u001b[0mcls\u001b[0m\u001b[1;33m.\u001b[0m\u001b[0m_AXIS_TO_AXIS_NUMBER\u001b[0m\u001b[1;33m[\u001b[0m\u001b[0maxis\u001b[0m\u001b[1;33m]\u001b[0m\u001b[1;33m\u001b[0m\u001b[1;33m\u001b[0m\u001b[0m\n\u001b[0;32m    577\u001b[0m         \u001b[1;32mexcept\u001b[0m \u001b[0mKeyError\u001b[0m\u001b[1;33m:\u001b[0m\u001b[1;33m\u001b[0m\u001b[1;33m\u001b[0m\u001b[0m\n\u001b[1;32m--> 578\u001b[1;33m             \u001b[1;32mraise\u001b[0m \u001b[0mValueError\u001b[0m\u001b[1;33m(\u001b[0m\u001b[1;33mf\"\u001b[0m\u001b[1;33mNo axis named \u001b[0m\u001b[1;33m{\u001b[0m\u001b[0maxis\u001b[0m\u001b[1;33m}\u001b[0m\u001b[1;33m for object type \u001b[0m\u001b[1;33m{\u001b[0m\u001b[0mcls\u001b[0m\u001b[1;33m.\u001b[0m\u001b[0m__name__\u001b[0m\u001b[1;33m}\u001b[0m\u001b[1;33m\"\u001b[0m\u001b[1;33m)\u001b[0m\u001b[1;33m\u001b[0m\u001b[1;33m\u001b[0m\u001b[0m\n\u001b[0m",
      "\u001b[1;31mKeyError\u001b[0m: Timestamp('2024-08-24 00:00:00')",
      "\nDuring handling of the above exception, another exception occurred:\n",
      "\u001b[1;31mValueError\u001b[0m                                Traceback (most recent call last)",
      "\u001b[1;32m~\\AppData\\Local\\Temp\\ipykernel_12076\\1720747199.py\u001b[0m in \u001b[0;36m?\u001b[1;34m()\u001b[0m\n\u001b[1;32m----> 1\u001b[1;33m \u001b[0mdf\u001b[0m\u001b[1;33m.\u001b[0m\u001b[0mloc\u001b[0m\u001b[1;33m(\u001b[0m\u001b[0mdates\u001b[0m\u001b[1;33m[\u001b[0m\u001b[1;36m0\u001b[0m\u001b[1;33m]\u001b[0m\u001b[1;33m)\u001b[0m\u001b[1;33m\u001b[0m\u001b[1;33m\u001b[0m\u001b[0m\n\u001b[0m",
      "\u001b[1;32m~\\AppData\\Local\\anaconda3\\Lib\\site-packages\\pandas\\core\\indexing.py\u001b[0m in \u001b[0;36m?\u001b[1;34m(self, axis)\u001b[0m\n\u001b[0;32m    734\u001b[0m         \u001b[1;31m# we need to return a copy of ourselves\u001b[0m\u001b[1;33m\u001b[0m\u001b[1;33m\u001b[0m\u001b[0m\n\u001b[0;32m    735\u001b[0m         \u001b[0mnew_self\u001b[0m \u001b[1;33m=\u001b[0m \u001b[0mtype\u001b[0m\u001b[1;33m(\u001b[0m\u001b[0mself\u001b[0m\u001b[1;33m)\u001b[0m\u001b[1;33m(\u001b[0m\u001b[0mself\u001b[0m\u001b[1;33m.\u001b[0m\u001b[0mname\u001b[0m\u001b[1;33m,\u001b[0m \u001b[0mself\u001b[0m\u001b[1;33m.\u001b[0m\u001b[0mobj\u001b[0m\u001b[1;33m)\u001b[0m\u001b[1;33m\u001b[0m\u001b[1;33m\u001b[0m\u001b[0m\n\u001b[0;32m    736\u001b[0m \u001b[1;33m\u001b[0m\u001b[0m\n\u001b[0;32m    737\u001b[0m         \u001b[1;32mif\u001b[0m \u001b[0maxis\u001b[0m \u001b[1;32mis\u001b[0m \u001b[1;32mnot\u001b[0m \u001b[1;32mNone\u001b[0m\u001b[1;33m:\u001b[0m\u001b[1;33m\u001b[0m\u001b[1;33m\u001b[0m\u001b[0m\n\u001b[1;32m--> 738\u001b[1;33m             \u001b[0maxis_int_none\u001b[0m \u001b[1;33m=\u001b[0m \u001b[0mself\u001b[0m\u001b[1;33m.\u001b[0m\u001b[0mobj\u001b[0m\u001b[1;33m.\u001b[0m\u001b[0m_get_axis_number\u001b[0m\u001b[1;33m(\u001b[0m\u001b[0maxis\u001b[0m\u001b[1;33m)\u001b[0m\u001b[1;33m\u001b[0m\u001b[1;33m\u001b[0m\u001b[0m\n\u001b[0m\u001b[0;32m    739\u001b[0m         \u001b[1;32melse\u001b[0m\u001b[1;33m:\u001b[0m\u001b[1;33m\u001b[0m\u001b[1;33m\u001b[0m\u001b[0m\n\u001b[0;32m    740\u001b[0m             \u001b[0maxis_int_none\u001b[0m \u001b[1;33m=\u001b[0m \u001b[0maxis\u001b[0m\u001b[1;33m\u001b[0m\u001b[1;33m\u001b[0m\u001b[0m\n\u001b[0;32m    741\u001b[0m         \u001b[0mnew_self\u001b[0m\u001b[1;33m.\u001b[0m\u001b[0maxis\u001b[0m \u001b[1;33m=\u001b[0m \u001b[0maxis_int_none\u001b[0m\u001b[1;33m\u001b[0m\u001b[1;33m\u001b[0m\u001b[0m\n",
      "\u001b[1;32m~\\AppData\\Local\\anaconda3\\Lib\\site-packages\\pandas\\core\\generic.py\u001b[0m in \u001b[0;36m?\u001b[1;34m(cls, axis)\u001b[0m\n\u001b[0;32m    574\u001b[0m     \u001b[1;32mdef\u001b[0m \u001b[0m_get_axis_number\u001b[0m\u001b[1;33m(\u001b[0m\u001b[0mcls\u001b[0m\u001b[1;33m,\u001b[0m \u001b[0maxis\u001b[0m\u001b[1;33m:\u001b[0m \u001b[0mAxis\u001b[0m\u001b[1;33m)\u001b[0m \u001b[1;33m->\u001b[0m \u001b[0mAxisInt\u001b[0m\u001b[1;33m:\u001b[0m\u001b[1;33m\u001b[0m\u001b[1;33m\u001b[0m\u001b[0m\n\u001b[0;32m    575\u001b[0m         \u001b[1;32mtry\u001b[0m\u001b[1;33m:\u001b[0m\u001b[1;33m\u001b[0m\u001b[1;33m\u001b[0m\u001b[0m\n\u001b[0;32m    576\u001b[0m             \u001b[1;32mreturn\u001b[0m \u001b[0mcls\u001b[0m\u001b[1;33m.\u001b[0m\u001b[0m_AXIS_TO_AXIS_NUMBER\u001b[0m\u001b[1;33m[\u001b[0m\u001b[0maxis\u001b[0m\u001b[1;33m]\u001b[0m\u001b[1;33m\u001b[0m\u001b[1;33m\u001b[0m\u001b[0m\n\u001b[0;32m    577\u001b[0m         \u001b[1;32mexcept\u001b[0m \u001b[0mKeyError\u001b[0m\u001b[1;33m:\u001b[0m\u001b[1;33m\u001b[0m\u001b[1;33m\u001b[0m\u001b[0m\n\u001b[1;32m--> 578\u001b[1;33m             \u001b[1;32mraise\u001b[0m \u001b[0mValueError\u001b[0m\u001b[1;33m(\u001b[0m\u001b[1;33mf\"\u001b[0m\u001b[1;33mNo axis named \u001b[0m\u001b[1;33m{\u001b[0m\u001b[0maxis\u001b[0m\u001b[1;33m}\u001b[0m\u001b[1;33m for object type \u001b[0m\u001b[1;33m{\u001b[0m\u001b[0mcls\u001b[0m\u001b[1;33m.\u001b[0m\u001b[0m__name__\u001b[0m\u001b[1;33m}\u001b[0m\u001b[1;33m\"\u001b[0m\u001b[1;33m)\u001b[0m\u001b[1;33m\u001b[0m\u001b[1;33m\u001b[0m\u001b[0m\n\u001b[0m",
      "\u001b[1;31mValueError\u001b[0m: No axis named 2024-08-24 00:00:00 for object type DataFrame"
     ]
    }
   ],
   "source": [
    "df.loc(dates[0])"
   ]
  },
  {
   "cell_type": "code",
   "execution_count": 42,
   "id": "a31e3de2-a9e9-40bb-be64-b3243396bb1b",
   "metadata": {},
   "outputs": [
    {
     "data": {
      "text/plain": [
       "A   -1.033007\n",
       "B   -1.667544\n",
       "C    2.096441\n",
       "D   -0.036855\n",
       "Name: 2024-08-24 00:00:00, dtype: float64"
      ]
     },
     "execution_count": 42,
     "metadata": {},
     "output_type": "execute_result"
    }
   ],
   "source": [
    "df.loc[dates[0]]"
   ]
  },
  {
   "cell_type": "markdown",
   "id": "c5760a5e-6ccd-4f48-a0bd-a3adfa80cdce",
   "metadata": {},
   "source": [
    "# Selecting all rows (:) with a select column labels:"
   ]
  },
  {
   "cell_type": "code",
   "execution_count": 43,
   "id": "f6ab2aba-f8f9-4167-bfb9-a828bd2430f9",
   "metadata": {},
   "outputs": [
    {
     "data": {
      "text/html": [
       "<div>\n",
       "<style scoped>\n",
       "    .dataframe tbody tr th:only-of-type {\n",
       "        vertical-align: middle;\n",
       "    }\n",
       "\n",
       "    .dataframe tbody tr th {\n",
       "        vertical-align: top;\n",
       "    }\n",
       "\n",
       "    .dataframe thead th {\n",
       "        text-align: right;\n",
       "    }\n",
       "</style>\n",
       "<table border=\"1\" class=\"dataframe\">\n",
       "  <thead>\n",
       "    <tr style=\"text-align: right;\">\n",
       "      <th></th>\n",
       "      <th>A</th>\n",
       "      <th>B</th>\n",
       "    </tr>\n",
       "  </thead>\n",
       "  <tbody>\n",
       "    <tr>\n",
       "      <th>2024-08-24</th>\n",
       "      <td>-1.033007</td>\n",
       "      <td>-1.667544</td>\n",
       "    </tr>\n",
       "    <tr>\n",
       "      <th>2024-08-25</th>\n",
       "      <td>-0.012070</td>\n",
       "      <td>-1.445879</td>\n",
       "    </tr>\n",
       "    <tr>\n",
       "      <th>2024-08-26</th>\n",
       "      <td>-0.485586</td>\n",
       "      <td>-1.228904</td>\n",
       "    </tr>\n",
       "    <tr>\n",
       "      <th>2024-08-27</th>\n",
       "      <td>-1.002947</td>\n",
       "      <td>0.352637</td>\n",
       "    </tr>\n",
       "    <tr>\n",
       "      <th>2024-08-28</th>\n",
       "      <td>-1.200074</td>\n",
       "      <td>-0.012750</td>\n",
       "    </tr>\n",
       "    <tr>\n",
       "      <th>2024-08-29</th>\n",
       "      <td>0.844610</td>\n",
       "      <td>-0.206573</td>\n",
       "    </tr>\n",
       "    <tr>\n",
       "      <th>2024-08-30</th>\n",
       "      <td>-0.083206</td>\n",
       "      <td>0.111281</td>\n",
       "    </tr>\n",
       "    <tr>\n",
       "      <th>2024-08-31</th>\n",
       "      <td>0.002045</td>\n",
       "      <td>0.758266</td>\n",
       "    </tr>\n",
       "  </tbody>\n",
       "</table>\n",
       "</div>"
      ],
      "text/plain": [
       "                   A         B\n",
       "2024-08-24 -1.033007 -1.667544\n",
       "2024-08-25 -0.012070 -1.445879\n",
       "2024-08-26 -0.485586 -1.228904\n",
       "2024-08-27 -1.002947  0.352637\n",
       "2024-08-28 -1.200074 -0.012750\n",
       "2024-08-29  0.844610 -0.206573\n",
       "2024-08-30 -0.083206  0.111281\n",
       "2024-08-31  0.002045  0.758266"
      ]
     },
     "execution_count": 43,
     "metadata": {},
     "output_type": "execute_result"
    }
   ],
   "source": [
    "df.loc[:, [\"A\",\"B\"]]"
   ]
  },
  {
   "cell_type": "markdown",
   "id": "9f52d9c8-93c6-44b7-b0a6-cb8c33bd0da3",
   "metadata": {},
   "source": [
    "the : slice all row and the selecting the cloumn that we want to selecte(A,B)"
   ]
  },
  {
   "cell_type": "code",
   "execution_count": 44,
   "id": "5dfd8930-ac77-4eb8-8f9f-68d89610f661",
   "metadata": {},
   "outputs": [
    {
     "data": {
      "text/html": [
       "<div>\n",
       "<style scoped>\n",
       "    .dataframe tbody tr th:only-of-type {\n",
       "        vertical-align: middle;\n",
       "    }\n",
       "\n",
       "    .dataframe tbody tr th {\n",
       "        vertical-align: top;\n",
       "    }\n",
       "\n",
       "    .dataframe thead th {\n",
       "        text-align: right;\n",
       "    }\n",
       "</style>\n",
       "<table border=\"1\" class=\"dataframe\">\n",
       "  <thead>\n",
       "    <tr style=\"text-align: right;\">\n",
       "      <th></th>\n",
       "      <th>A</th>\n",
       "      <th>B</th>\n",
       "      <th>C</th>\n",
       "      <th>D</th>\n",
       "    </tr>\n",
       "  </thead>\n",
       "  <tbody>\n",
       "    <tr>\n",
       "      <th>2024-08-24</th>\n",
       "      <td>-1.033007</td>\n",
       "      <td>-1.667544</td>\n",
       "      <td>2.096441</td>\n",
       "      <td>-0.036855</td>\n",
       "    </tr>\n",
       "    <tr>\n",
       "      <th>2024-08-25</th>\n",
       "      <td>-0.012070</td>\n",
       "      <td>-1.445879</td>\n",
       "      <td>-2.331113</td>\n",
       "      <td>1.212528</td>\n",
       "    </tr>\n",
       "    <tr>\n",
       "      <th>2024-08-26</th>\n",
       "      <td>-0.485586</td>\n",
       "      <td>-1.228904</td>\n",
       "      <td>-0.087372</td>\n",
       "      <td>0.013137</td>\n",
       "    </tr>\n",
       "    <tr>\n",
       "      <th>2024-08-27</th>\n",
       "      <td>-1.002947</td>\n",
       "      <td>0.352637</td>\n",
       "      <td>0.088708</td>\n",
       "      <td>-2.734828</td>\n",
       "    </tr>\n",
       "    <tr>\n",
       "      <th>2024-08-28</th>\n",
       "      <td>-1.200074</td>\n",
       "      <td>-0.012750</td>\n",
       "      <td>1.175856</td>\n",
       "      <td>0.363554</td>\n",
       "    </tr>\n",
       "    <tr>\n",
       "      <th>2024-08-29</th>\n",
       "      <td>0.844610</td>\n",
       "      <td>-0.206573</td>\n",
       "      <td>-0.650745</td>\n",
       "      <td>0.584913</td>\n",
       "    </tr>\n",
       "    <tr>\n",
       "      <th>2024-08-30</th>\n",
       "      <td>-0.083206</td>\n",
       "      <td>0.111281</td>\n",
       "      <td>0.741105</td>\n",
       "      <td>0.841217</td>\n",
       "    </tr>\n",
       "    <tr>\n",
       "      <th>2024-08-31</th>\n",
       "      <td>0.002045</td>\n",
       "      <td>0.758266</td>\n",
       "      <td>0.227393</td>\n",
       "      <td>-0.129223</td>\n",
       "    </tr>\n",
       "  </tbody>\n",
       "</table>\n",
       "</div>"
      ],
      "text/plain": [
       "                   A         B         C         D\n",
       "2024-08-24 -1.033007 -1.667544  2.096441 -0.036855\n",
       "2024-08-25 -0.012070 -1.445879 -2.331113  1.212528\n",
       "2024-08-26 -0.485586 -1.228904 -0.087372  0.013137\n",
       "2024-08-27 -1.002947  0.352637  0.088708 -2.734828\n",
       "2024-08-28 -1.200074 -0.012750  1.175856  0.363554\n",
       "2024-08-29  0.844610 -0.206573 -0.650745  0.584913\n",
       "2024-08-30 -0.083206  0.111281  0.741105  0.841217\n",
       "2024-08-31  0.002045  0.758266  0.227393 -0.129223"
      ]
     },
     "execution_count": 44,
     "metadata": {},
     "output_type": "execute_result"
    }
   ],
   "source": [
    "df.loc[:, :]"
   ]
  },
  {
   "cell_type": "code",
   "execution_count": 46,
   "id": "96362c7d-e5ad-4880-ba66-5a0359e72bb6",
   "metadata": {},
   "outputs": [
    {
     "data": {
      "text/html": [
       "<div>\n",
       "<style scoped>\n",
       "    .dataframe tbody tr th:only-of-type {\n",
       "        vertical-align: middle;\n",
       "    }\n",
       "\n",
       "    .dataframe tbody tr th {\n",
       "        vertical-align: top;\n",
       "    }\n",
       "\n",
       "    .dataframe thead th {\n",
       "        text-align: right;\n",
       "    }\n",
       "</style>\n",
       "<table border=\"1\" class=\"dataframe\">\n",
       "  <thead>\n",
       "    <tr style=\"text-align: right;\">\n",
       "      <th></th>\n",
       "      <th>A</th>\n",
       "      <th>B</th>\n",
       "      <th>C</th>\n",
       "      <th>D</th>\n",
       "    </tr>\n",
       "  </thead>\n",
       "  <tbody>\n",
       "    <tr>\n",
       "      <th>2024-08-24</th>\n",
       "      <td>-1.033007</td>\n",
       "      <td>-1.667544</td>\n",
       "      <td>2.096441</td>\n",
       "      <td>-0.036855</td>\n",
       "    </tr>\n",
       "    <tr>\n",
       "      <th>2024-08-26</th>\n",
       "      <td>-0.485586</td>\n",
       "      <td>-1.228904</td>\n",
       "      <td>-0.087372</td>\n",
       "      <td>0.013137</td>\n",
       "    </tr>\n",
       "  </tbody>\n",
       "</table>\n",
       "</div>"
      ],
      "text/plain": [
       "                   A         B         C         D\n",
       "2024-08-24 -1.033007 -1.667544  2.096441 -0.036855\n",
       "2024-08-26 -0.485586 -1.228904 -0.087372  0.013137"
      ]
     },
     "execution_count": 46,
     "metadata": {},
     "output_type": "execute_result"
    }
   ],
   "source": [
    "df.loc[[\"2024-08-24\", \"2024-08-26\t\"], :]"
   ]
  },
  {
   "cell_type": "code",
   "execution_count": 47,
   "id": "3ee95caf-27a9-45f3-800d-59ddab187934",
   "metadata": {},
   "outputs": [
    {
     "data": {
      "text/html": [
       "<div>\n",
       "<style scoped>\n",
       "    .dataframe tbody tr th:only-of-type {\n",
       "        vertical-align: middle;\n",
       "    }\n",
       "\n",
       "    .dataframe tbody tr th {\n",
       "        vertical-align: top;\n",
       "    }\n",
       "\n",
       "    .dataframe thead th {\n",
       "        text-align: right;\n",
       "    }\n",
       "</style>\n",
       "<table border=\"1\" class=\"dataframe\">\n",
       "  <thead>\n",
       "    <tr style=\"text-align: right;\">\n",
       "      <th></th>\n",
       "      <th>C</th>\n",
       "      <th>D</th>\n",
       "    </tr>\n",
       "  </thead>\n",
       "  <tbody>\n",
       "    <tr>\n",
       "      <th>2024-08-24</th>\n",
       "      <td>2.096441</td>\n",
       "      <td>-0.036855</td>\n",
       "    </tr>\n",
       "    <tr>\n",
       "      <th>2024-08-26</th>\n",
       "      <td>-0.087372</td>\n",
       "      <td>0.013137</td>\n",
       "    </tr>\n",
       "  </tbody>\n",
       "</table>\n",
       "</div>"
      ],
      "text/plain": [
       "                   C         D\n",
       "2024-08-24  2.096441 -0.036855\n",
       "2024-08-26 -0.087372  0.013137"
      ]
     },
     "execution_count": 47,
     "metadata": {},
     "output_type": "execute_result"
    }
   ],
   "source": [
    "df.loc[[\"2024-08-24\", \"2024-08-26\"], [\"C\",\"D\"]]"
   ]
  },
  {
   "cell_type": "markdown",
   "id": "c2f17c6f-4a4a-4b1e-981d-fe4e14997474",
   "metadata": {},
   "source": [
    "# For label slicing, both endpoints are included:"
   ]
  },
  {
   "cell_type": "code",
   "execution_count": 48,
   "id": "f82229e9-2701-4e16-9932-d874fed7fda1",
   "metadata": {},
   "outputs": [
    {
     "data": {
      "text/html": [
       "<div>\n",
       "<style scoped>\n",
       "    .dataframe tbody tr th:only-of-type {\n",
       "        vertical-align: middle;\n",
       "    }\n",
       "\n",
       "    .dataframe tbody tr th {\n",
       "        vertical-align: top;\n",
       "    }\n",
       "\n",
       "    .dataframe thead th {\n",
       "        text-align: right;\n",
       "    }\n",
       "</style>\n",
       "<table border=\"1\" class=\"dataframe\">\n",
       "  <thead>\n",
       "    <tr style=\"text-align: right;\">\n",
       "      <th></th>\n",
       "      <th>A</th>\n",
       "      <th>D</th>\n",
       "    </tr>\n",
       "  </thead>\n",
       "  <tbody>\n",
       "    <tr>\n",
       "      <th>2024-08-24</th>\n",
       "      <td>-1.033007</td>\n",
       "      <td>-0.036855</td>\n",
       "    </tr>\n",
       "    <tr>\n",
       "      <th>2024-08-25</th>\n",
       "      <td>-0.012070</td>\n",
       "      <td>1.212528</td>\n",
       "    </tr>\n",
       "    <tr>\n",
       "      <th>2024-08-26</th>\n",
       "      <td>-0.485586</td>\n",
       "      <td>0.013137</td>\n",
       "    </tr>\n",
       "    <tr>\n",
       "      <th>2024-08-27</th>\n",
       "      <td>-1.002947</td>\n",
       "      <td>-2.734828</td>\n",
       "    </tr>\n",
       "    <tr>\n",
       "      <th>2024-08-28</th>\n",
       "      <td>-1.200074</td>\n",
       "      <td>0.363554</td>\n",
       "    </tr>\n",
       "  </tbody>\n",
       "</table>\n",
       "</div>"
      ],
      "text/plain": [
       "                   A         D\n",
       "2024-08-24 -1.033007 -0.036855\n",
       "2024-08-25 -0.012070  1.212528\n",
       "2024-08-26 -0.485586  0.013137\n",
       "2024-08-27 -1.002947 -2.734828\n",
       "2024-08-28 -1.200074  0.363554"
      ]
     },
     "execution_count": 48,
     "metadata": {},
     "output_type": "execute_result"
    }
   ],
   "source": [
    "df.loc[\"2024-08-24\":\"2024-08-28\", [\"A\",\"D\"]]"
   ]
  },
  {
   "cell_type": "markdown",
   "id": "aba0adc2-57bd-4c92-9094-b15d01b4378a",
   "metadata": {},
   "source": [
    "Selecting a single row and column label returns a scalar:"
   ]
  },
  {
   "cell_type": "code",
   "execution_count": 49,
   "id": "762df944-e234-4967-b8e2-6df54e6e9911",
   "metadata": {},
   "outputs": [
    {
     "data": {
      "text/plain": [
       "-1.0330073208772472"
      ]
     },
     "execution_count": 49,
     "metadata": {},
     "output_type": "execute_result"
    }
   ],
   "source": [
    "df.loc[dates[0], \"A\"]"
   ]
  },
  {
   "cell_type": "markdown",
   "id": "d92e14c8-c942-4d0a-8821-52f8b0fea00d",
   "metadata": {},
   "source": [
    "# For getting fast access to a scalar (equivalent to the prior method):"
   ]
  },
  {
   "cell_type": "code",
   "execution_count": 50,
   "id": "a390e8b4-1284-42d5-bfeb-259638743837",
   "metadata": {},
   "outputs": [
    {
     "data": {
      "text/plain": [
       "-1.0330073208772472"
      ]
     },
     "execution_count": 50,
     "metadata": {},
     "output_type": "execute_result"
    }
   ],
   "source": [
    "df.at[dates[0], \"A\"]"
   ]
  },
  {
   "cell_type": "markdown",
   "id": "8cae4983-639b-4b65-b8b8-49af1ac8ddae",
   "metadata": {},
   "source": [
    "# Selection by position"
   ]
  },
  {
   "cell_type": "markdown",
   "id": "a4dcfc32-74f4-4bd3-b232-82d45d4b458c",
   "metadata": {},
   "source": [
    "See more in Selection by Position using DataFrame.iloc() or DataFrame.iat()."
   ]
  },
  {
   "cell_type": "markdown",
   "id": "8517beac-7cd2-4441-889b-adcffc24603c",
   "metadata": {},
   "source": [
    "# Select via the position of the passed integers:"
   ]
  },
  {
   "cell_type": "code",
   "execution_count": 51,
   "id": "3f5458c8-750f-44ab-86f5-d6ab0da56d30",
   "metadata": {},
   "outputs": [
    {
     "ename": "AttributeError",
     "evalue": "'DataFrame' object has no attribute 'ioc'",
     "output_type": "error",
     "traceback": [
      "\u001b[1;31m---------------------------------------------------------------------------\u001b[0m",
      "\u001b[1;31mAttributeError\u001b[0m                            Traceback (most recent call last)",
      "\u001b[1;32m~\\AppData\\Local\\Temp\\ipykernel_12076\\4256100742.py\u001b[0m in \u001b[0;36m?\u001b[1;34m()\u001b[0m\n\u001b[1;32m----> 1\u001b[1;33m \u001b[0mdf\u001b[0m\u001b[1;33m.\u001b[0m\u001b[0mioc\u001b[0m\u001b[1;33m[\u001b[0m\u001b[1;36m3\u001b[0m\u001b[1;33m]\u001b[0m\u001b[1;33m\u001b[0m\u001b[1;33m\u001b[0m\u001b[0m\n\u001b[0m",
      "\u001b[1;32m~\\AppData\\Local\\anaconda3\\Lib\\site-packages\\pandas\\core\\generic.py\u001b[0m in \u001b[0;36m?\u001b[1;34m(self, name)\u001b[0m\n\u001b[0;32m   6295\u001b[0m             \u001b[1;32mand\u001b[0m \u001b[0mname\u001b[0m \u001b[1;32mnot\u001b[0m \u001b[1;32min\u001b[0m \u001b[0mself\u001b[0m\u001b[1;33m.\u001b[0m\u001b[0m_accessors\u001b[0m\u001b[1;33m\u001b[0m\u001b[1;33m\u001b[0m\u001b[0m\n\u001b[0;32m   6296\u001b[0m             \u001b[1;32mand\u001b[0m \u001b[0mself\u001b[0m\u001b[1;33m.\u001b[0m\u001b[0m_info_axis\u001b[0m\u001b[1;33m.\u001b[0m\u001b[0m_can_hold_identifiers_and_holds_name\u001b[0m\u001b[1;33m(\u001b[0m\u001b[0mname\u001b[0m\u001b[1;33m)\u001b[0m\u001b[1;33m\u001b[0m\u001b[1;33m\u001b[0m\u001b[0m\n\u001b[0;32m   6297\u001b[0m         \u001b[1;33m)\u001b[0m\u001b[1;33m:\u001b[0m\u001b[1;33m\u001b[0m\u001b[1;33m\u001b[0m\u001b[0m\n\u001b[0;32m   6298\u001b[0m             \u001b[1;32mreturn\u001b[0m \u001b[0mself\u001b[0m\u001b[1;33m[\u001b[0m\u001b[0mname\u001b[0m\u001b[1;33m]\u001b[0m\u001b[1;33m\u001b[0m\u001b[1;33m\u001b[0m\u001b[0m\n\u001b[1;32m-> 6299\u001b[1;33m         \u001b[1;32mreturn\u001b[0m \u001b[0mobject\u001b[0m\u001b[1;33m.\u001b[0m\u001b[0m__getattribute__\u001b[0m\u001b[1;33m(\u001b[0m\u001b[0mself\u001b[0m\u001b[1;33m,\u001b[0m \u001b[0mname\u001b[0m\u001b[1;33m)\u001b[0m\u001b[1;33m\u001b[0m\u001b[1;33m\u001b[0m\u001b[0m\n\u001b[0m",
      "\u001b[1;31mAttributeError\u001b[0m: 'DataFrame' object has no attribute 'ioc'"
     ]
    }
   ],
   "source": [
    "df.ioc[3]"
   ]
  },
  {
   "cell_type": "code",
   "execution_count": 52,
   "id": "84f291bc-0355-4bd8-b1ee-d59d8fac65b6",
   "metadata": {},
   "outputs": [
    {
     "data": {
      "text/plain": [
       "A   -1.002947\n",
       "B    0.352637\n",
       "C    0.088708\n",
       "D   -2.734828\n",
       "Name: 2024-08-27 00:00:00, dtype: float64"
      ]
     },
     "execution_count": 52,
     "metadata": {},
     "output_type": "execute_result"
    }
   ],
   "source": [
    "df.iloc[3]"
   ]
  },
  {
   "cell_type": "markdown",
   "id": "4f1af257-6042-45de-a568-e23815bc74c5",
   "metadata": {},
   "source": [
    "# Integer slices acts similar to NumPy/Python:"
   ]
  },
  {
   "cell_type": "code",
   "execution_count": 53,
   "id": "b64d07a8-d7ab-42ff-b8bb-c6cd0bc00a81",
   "metadata": {},
   "outputs": [
    {
     "data": {
      "text/html": [
       "<div>\n",
       "<style scoped>\n",
       "    .dataframe tbody tr th:only-of-type {\n",
       "        vertical-align: middle;\n",
       "    }\n",
       "\n",
       "    .dataframe tbody tr th {\n",
       "        vertical-align: top;\n",
       "    }\n",
       "\n",
       "    .dataframe thead th {\n",
       "        text-align: right;\n",
       "    }\n",
       "</style>\n",
       "<table border=\"1\" class=\"dataframe\">\n",
       "  <thead>\n",
       "    <tr style=\"text-align: right;\">\n",
       "      <th></th>\n",
       "      <th>A</th>\n",
       "      <th>B</th>\n",
       "    </tr>\n",
       "  </thead>\n",
       "  <tbody>\n",
       "    <tr>\n",
       "      <th>2024-08-27</th>\n",
       "      <td>-1.002947</td>\n",
       "      <td>0.352637</td>\n",
       "    </tr>\n",
       "    <tr>\n",
       "      <th>2024-08-28</th>\n",
       "      <td>-1.200074</td>\n",
       "      <td>-0.012750</td>\n",
       "    </tr>\n",
       "  </tbody>\n",
       "</table>\n",
       "</div>"
      ],
      "text/plain": [
       "                   A         B\n",
       "2024-08-27 -1.002947  0.352637\n",
       "2024-08-28 -1.200074 -0.012750"
      ]
     },
     "execution_count": 53,
     "metadata": {},
     "output_type": "execute_result"
    }
   ],
   "source": [
    "df.iloc[3:5, 0:2]"
   ]
  },
  {
   "cell_type": "markdown",
   "id": "6d6c72e0-479e-4072-a249-1492678251b2",
   "metadata": {},
   "source": [
    "# Lists of integer position locations:"
   ]
  },
  {
   "cell_type": "code",
   "execution_count": 54,
   "id": "eaf4b2fe-6f08-4a09-b658-7fdfb41e913c",
   "metadata": {},
   "outputs": [
    {
     "data": {
      "text/html": [
       "<div>\n",
       "<style scoped>\n",
       "    .dataframe tbody tr th:only-of-type {\n",
       "        vertical-align: middle;\n",
       "    }\n",
       "\n",
       "    .dataframe tbody tr th {\n",
       "        vertical-align: top;\n",
       "    }\n",
       "\n",
       "    .dataframe thead th {\n",
       "        text-align: right;\n",
       "    }\n",
       "</style>\n",
       "<table border=\"1\" class=\"dataframe\">\n",
       "  <thead>\n",
       "    <tr style=\"text-align: right;\">\n",
       "      <th></th>\n",
       "      <th>A</th>\n",
       "      <th>D</th>\n",
       "    </tr>\n",
       "  </thead>\n",
       "  <tbody>\n",
       "    <tr>\n",
       "      <th>2024-08-25</th>\n",
       "      <td>-0.012070</td>\n",
       "      <td>1.212528</td>\n",
       "    </tr>\n",
       "    <tr>\n",
       "      <th>2024-08-26</th>\n",
       "      <td>-0.485586</td>\n",
       "      <td>0.013137</td>\n",
       "    </tr>\n",
       "    <tr>\n",
       "      <th>2024-08-27</th>\n",
       "      <td>-1.002947</td>\n",
       "      <td>-2.734828</td>\n",
       "    </tr>\n",
       "    <tr>\n",
       "      <th>2024-08-28</th>\n",
       "      <td>-1.200074</td>\n",
       "      <td>0.363554</td>\n",
       "    </tr>\n",
       "  </tbody>\n",
       "</table>\n",
       "</div>"
      ],
      "text/plain": [
       "                   A         D\n",
       "2024-08-25 -0.012070  1.212528\n",
       "2024-08-26 -0.485586  0.013137\n",
       "2024-08-27 -1.002947 -2.734828\n",
       "2024-08-28 -1.200074  0.363554"
      ]
     },
     "execution_count": 54,
     "metadata": {},
     "output_type": "execute_result"
    }
   ],
   "source": [
    "df.iloc[[1,2,3,4],[0,3]]"
   ]
  },
  {
   "cell_type": "markdown",
   "id": "f2750842-78f3-47cc-aa71-f8bb700276a1",
   "metadata": {},
   "source": [
    "# For slicing rows explicitly"
   ]
  },
  {
   "cell_type": "code",
   "execution_count": 55,
   "id": "df067e48-3e77-4304-a9d4-abe59326101f",
   "metadata": {},
   "outputs": [
    {
     "data": {
      "text/html": [
       "<div>\n",
       "<style scoped>\n",
       "    .dataframe tbody tr th:only-of-type {\n",
       "        vertical-align: middle;\n",
       "    }\n",
       "\n",
       "    .dataframe tbody tr th {\n",
       "        vertical-align: top;\n",
       "    }\n",
       "\n",
       "    .dataframe thead th {\n",
       "        text-align: right;\n",
       "    }\n",
       "</style>\n",
       "<table border=\"1\" class=\"dataframe\">\n",
       "  <thead>\n",
       "    <tr style=\"text-align: right;\">\n",
       "      <th></th>\n",
       "      <th>A</th>\n",
       "      <th>B</th>\n",
       "      <th>C</th>\n",
       "      <th>D</th>\n",
       "    </tr>\n",
       "  </thead>\n",
       "  <tbody>\n",
       "    <tr>\n",
       "      <th>2024-08-25</th>\n",
       "      <td>-0.012070</td>\n",
       "      <td>-1.445879</td>\n",
       "      <td>-2.331113</td>\n",
       "      <td>1.212528</td>\n",
       "    </tr>\n",
       "    <tr>\n",
       "      <th>2024-08-26</th>\n",
       "      <td>-0.485586</td>\n",
       "      <td>-1.228904</td>\n",
       "      <td>-0.087372</td>\n",
       "      <td>0.013137</td>\n",
       "    </tr>\n",
       "  </tbody>\n",
       "</table>\n",
       "</div>"
      ],
      "text/plain": [
       "                   A         B         C         D\n",
       "2024-08-25 -0.012070 -1.445879 -2.331113  1.212528\n",
       "2024-08-26 -0.485586 -1.228904 -0.087372  0.013137"
      ]
     },
     "execution_count": 55,
     "metadata": {},
     "output_type": "execute_result"
    }
   ],
   "source": [
    "df.iloc[1:3, :]"
   ]
  },
  {
   "cell_type": "markdown",
   "id": "780ee9a2-e00f-46f2-a0e5-8769777446dc",
   "metadata": {},
   "source": [
    "# For slicing columns explicitly:"
   ]
  },
  {
   "cell_type": "code",
   "execution_count": 56,
   "id": "d4269da7-a283-46ff-8ae9-25a7ceb9ce22",
   "metadata": {},
   "outputs": [
    {
     "data": {
      "text/html": [
       "<div>\n",
       "<style scoped>\n",
       "    .dataframe tbody tr th:only-of-type {\n",
       "        vertical-align: middle;\n",
       "    }\n",
       "\n",
       "    .dataframe tbody tr th {\n",
       "        vertical-align: top;\n",
       "    }\n",
       "\n",
       "    .dataframe thead th {\n",
       "        text-align: right;\n",
       "    }\n",
       "</style>\n",
       "<table border=\"1\" class=\"dataframe\">\n",
       "  <thead>\n",
       "    <tr style=\"text-align: right;\">\n",
       "      <th></th>\n",
       "      <th>B</th>\n",
       "      <th>C</th>\n",
       "    </tr>\n",
       "  </thead>\n",
       "  <tbody>\n",
       "    <tr>\n",
       "      <th>2024-08-24</th>\n",
       "      <td>-1.667544</td>\n",
       "      <td>2.096441</td>\n",
       "    </tr>\n",
       "    <tr>\n",
       "      <th>2024-08-25</th>\n",
       "      <td>-1.445879</td>\n",
       "      <td>-2.331113</td>\n",
       "    </tr>\n",
       "    <tr>\n",
       "      <th>2024-08-26</th>\n",
       "      <td>-1.228904</td>\n",
       "      <td>-0.087372</td>\n",
       "    </tr>\n",
       "    <tr>\n",
       "      <th>2024-08-27</th>\n",
       "      <td>0.352637</td>\n",
       "      <td>0.088708</td>\n",
       "    </tr>\n",
       "    <tr>\n",
       "      <th>2024-08-28</th>\n",
       "      <td>-0.012750</td>\n",
       "      <td>1.175856</td>\n",
       "    </tr>\n",
       "    <tr>\n",
       "      <th>2024-08-29</th>\n",
       "      <td>-0.206573</td>\n",
       "      <td>-0.650745</td>\n",
       "    </tr>\n",
       "    <tr>\n",
       "      <th>2024-08-30</th>\n",
       "      <td>0.111281</td>\n",
       "      <td>0.741105</td>\n",
       "    </tr>\n",
       "    <tr>\n",
       "      <th>2024-08-31</th>\n",
       "      <td>0.758266</td>\n",
       "      <td>0.227393</td>\n",
       "    </tr>\n",
       "  </tbody>\n",
       "</table>\n",
       "</div>"
      ],
      "text/plain": [
       "                   B         C\n",
       "2024-08-24 -1.667544  2.096441\n",
       "2024-08-25 -1.445879 -2.331113\n",
       "2024-08-26 -1.228904 -0.087372\n",
       "2024-08-27  0.352637  0.088708\n",
       "2024-08-28 -0.012750  1.175856\n",
       "2024-08-29 -0.206573 -0.650745\n",
       "2024-08-30  0.111281  0.741105\n",
       "2024-08-31  0.758266  0.227393"
      ]
     },
     "execution_count": 56,
     "metadata": {},
     "output_type": "execute_result"
    }
   ],
   "source": [
    "df.iloc[:, 1:3]"
   ]
  },
  {
   "cell_type": "markdown",
   "id": "063569a2-f033-4a3f-9b97-73b4ac8372dd",
   "metadata": {},
   "source": [
    "# For getting a value explicitly:"
   ]
  },
  {
   "cell_type": "code",
   "execution_count": 57,
   "id": "e7c790b6-2358-4368-8173-f40cac319787",
   "metadata": {},
   "outputs": [
    {
     "data": {
      "text/plain": [
       "-1.445879020664728"
      ]
     },
     "execution_count": 57,
     "metadata": {},
     "output_type": "execute_result"
    }
   ],
   "source": [
    "df.iloc[1,1]"
   ]
  },
  {
   "cell_type": "code",
   "execution_count": 58,
   "id": "5c6c5376-696f-4d6b-bb17-aeac77f3cfe4",
   "metadata": {},
   "outputs": [
    {
     "data": {
      "text/plain": [
       "0.01313699818811606"
      ]
     },
     "execution_count": 58,
     "metadata": {},
     "output_type": "execute_result"
    }
   ],
   "source": [
    "df.iloc[2,3]"
   ]
  },
  {
   "cell_type": "code",
   "execution_count": 59,
   "id": "5617a599-2d91-4019-aeb9-ac75a3743321",
   "metadata": {},
   "outputs": [
    {
     "ename": "IndexError",
     "evalue": "index 9 is out of bounds for axis 0 with size 4",
     "output_type": "error",
     "traceback": [
      "\u001b[1;31m---------------------------------------------------------------------------\u001b[0m",
      "\u001b[1;31mIndexError\u001b[0m                                Traceback (most recent call last)",
      "Cell \u001b[1;32mIn[59], line 1\u001b[0m\n\u001b[1;32m----> 1\u001b[0m df\u001b[38;5;241m.\u001b[39miloc[\u001b[38;5;241m1\u001b[39m,\u001b[38;5;241m9\u001b[39m]\n",
      "File \u001b[1;32m~\\AppData\\Local\\anaconda3\\Lib\\site-packages\\pandas\\core\\indexing.py:1183\u001b[0m, in \u001b[0;36m_LocationIndexer.__getitem__\u001b[1;34m(self, key)\u001b[0m\n\u001b[0;32m   1181\u001b[0m     key \u001b[38;5;241m=\u001b[39m \u001b[38;5;28mtuple\u001b[39m(com\u001b[38;5;241m.\u001b[39mapply_if_callable(x, \u001b[38;5;28mself\u001b[39m\u001b[38;5;241m.\u001b[39mobj) \u001b[38;5;28;01mfor\u001b[39;00m x \u001b[38;5;129;01min\u001b[39;00m key)\n\u001b[0;32m   1182\u001b[0m     \u001b[38;5;28;01mif\u001b[39;00m \u001b[38;5;28mself\u001b[39m\u001b[38;5;241m.\u001b[39m_is_scalar_access(key):\n\u001b[1;32m-> 1183\u001b[0m         \u001b[38;5;28;01mreturn\u001b[39;00m \u001b[38;5;28mself\u001b[39m\u001b[38;5;241m.\u001b[39mobj\u001b[38;5;241m.\u001b[39m_get_value(\u001b[38;5;241m*\u001b[39mkey, takeable\u001b[38;5;241m=\u001b[39m\u001b[38;5;28mself\u001b[39m\u001b[38;5;241m.\u001b[39m_takeable)\n\u001b[0;32m   1184\u001b[0m     \u001b[38;5;28;01mreturn\u001b[39;00m \u001b[38;5;28mself\u001b[39m\u001b[38;5;241m.\u001b[39m_getitem_tuple(key)\n\u001b[0;32m   1185\u001b[0m \u001b[38;5;28;01melse\u001b[39;00m:\n\u001b[0;32m   1186\u001b[0m     \u001b[38;5;66;03m# we by definition only have the 0th axis\u001b[39;00m\n",
      "File \u001b[1;32m~\\AppData\\Local\\anaconda3\\Lib\\site-packages\\pandas\\core\\frame.py:4211\u001b[0m, in \u001b[0;36mDataFrame._get_value\u001b[1;34m(self, index, col, takeable)\u001b[0m\n\u001b[0;32m   4192\u001b[0m \u001b[38;5;250m\u001b[39m\u001b[38;5;124;03m\"\"\"\u001b[39;00m\n\u001b[0;32m   4193\u001b[0m \u001b[38;5;124;03mQuickly retrieve single value at passed column and index.\u001b[39;00m\n\u001b[0;32m   4194\u001b[0m \n\u001b[1;32m   (...)\u001b[0m\n\u001b[0;32m   4208\u001b[0m \u001b[38;5;124;03m`self.columns._index_as_unique`; Caller is responsible for checking.\u001b[39;00m\n\u001b[0;32m   4209\u001b[0m \u001b[38;5;124;03m\"\"\"\u001b[39;00m\n\u001b[0;32m   4210\u001b[0m \u001b[38;5;28;01mif\u001b[39;00m takeable:\n\u001b[1;32m-> 4211\u001b[0m     series \u001b[38;5;241m=\u001b[39m \u001b[38;5;28mself\u001b[39m\u001b[38;5;241m.\u001b[39m_ixs(col, axis\u001b[38;5;241m=\u001b[39m\u001b[38;5;241m1\u001b[39m)\n\u001b[0;32m   4212\u001b[0m     \u001b[38;5;28;01mreturn\u001b[39;00m series\u001b[38;5;241m.\u001b[39m_values[index]\n\u001b[0;32m   4214\u001b[0m series \u001b[38;5;241m=\u001b[39m \u001b[38;5;28mself\u001b[39m\u001b[38;5;241m.\u001b[39m_get_item_cache(col)\n",
      "File \u001b[1;32m~\\AppData\\Local\\anaconda3\\Lib\\site-packages\\pandas\\core\\frame.py:4008\u001b[0m, in \u001b[0;36mDataFrame._ixs\u001b[1;34m(self, i, axis)\u001b[0m\n\u001b[0;32m   4004\u001b[0m     \u001b[38;5;28;01mreturn\u001b[39;00m result\n\u001b[0;32m   4006\u001b[0m \u001b[38;5;66;03m# icol\u001b[39;00m\n\u001b[0;32m   4007\u001b[0m \u001b[38;5;28;01melse\u001b[39;00m:\n\u001b[1;32m-> 4008\u001b[0m     label \u001b[38;5;241m=\u001b[39m \u001b[38;5;28mself\u001b[39m\u001b[38;5;241m.\u001b[39mcolumns[i]\n\u001b[0;32m   4010\u001b[0m     col_mgr \u001b[38;5;241m=\u001b[39m \u001b[38;5;28mself\u001b[39m\u001b[38;5;241m.\u001b[39m_mgr\u001b[38;5;241m.\u001b[39miget(i)\n\u001b[0;32m   4011\u001b[0m     result \u001b[38;5;241m=\u001b[39m \u001b[38;5;28mself\u001b[39m\u001b[38;5;241m.\u001b[39m_box_col_values(col_mgr, i)\n",
      "File \u001b[1;32m~\\AppData\\Local\\anaconda3\\Lib\\site-packages\\pandas\\core\\indexes\\base.py:5389\u001b[0m, in \u001b[0;36mIndex.__getitem__\u001b[1;34m(self, key)\u001b[0m\n\u001b[0;32m   5386\u001b[0m \u001b[38;5;28;01mif\u001b[39;00m is_integer(key) \u001b[38;5;129;01mor\u001b[39;00m is_float(key):\n\u001b[0;32m   5387\u001b[0m     \u001b[38;5;66;03m# GH#44051 exclude bool, which would return a 2d ndarray\u001b[39;00m\n\u001b[0;32m   5388\u001b[0m     key \u001b[38;5;241m=\u001b[39m com\u001b[38;5;241m.\u001b[39mcast_scalar_indexer(key)\n\u001b[1;32m-> 5389\u001b[0m     \u001b[38;5;28;01mreturn\u001b[39;00m getitem(key)\n\u001b[0;32m   5391\u001b[0m \u001b[38;5;28;01mif\u001b[39;00m \u001b[38;5;28misinstance\u001b[39m(key, \u001b[38;5;28mslice\u001b[39m):\n\u001b[0;32m   5392\u001b[0m     \u001b[38;5;66;03m# This case is separated from the conditional above to avoid\u001b[39;00m\n\u001b[0;32m   5393\u001b[0m     \u001b[38;5;66;03m# pessimization com.is_bool_indexer and ndim checks.\u001b[39;00m\n\u001b[0;32m   5394\u001b[0m     \u001b[38;5;28;01mreturn\u001b[39;00m \u001b[38;5;28mself\u001b[39m\u001b[38;5;241m.\u001b[39m_getitem_slice(key)\n",
      "\u001b[1;31mIndexError\u001b[0m: index 9 is out of bounds for axis 0 with size 4"
     ]
    }
   ],
   "source": [
    "df.iloc[1,9]"
   ]
  },
  {
   "cell_type": "code",
   "execution_count": 60,
   "id": "23b4765c-eae1-4c5a-8d08-32b6a2cf820a",
   "metadata": {},
   "outputs": [
    {
     "data": {
      "text/plain": [
       "0.3635536905095935"
      ]
     },
     "execution_count": 60,
     "metadata": {},
     "output_type": "execute_result"
    }
   ],
   "source": [
    "df.iloc[4,3]"
   ]
  },
  {
   "cell_type": "markdown",
   "id": "805ad61b-6cd7-4d39-97e4-f435f75ace14",
   "metadata": {},
   "source": [
    "# For getting fast access to a scalar (equivalent to the prior method):"
   ]
  },
  {
   "cell_type": "code",
   "execution_count": 61,
   "id": "136d2f0d-0fa9-4f4a-85cf-3c9fcd877ca5",
   "metadata": {},
   "outputs": [
    {
     "data": {
      "text/plain": [
       "-1.445879020664728"
      ]
     },
     "execution_count": 61,
     "metadata": {},
     "output_type": "execute_result"
    }
   ],
   "source": [
    "df.iat[1,1]"
   ]
  },
  {
   "cell_type": "markdown",
   "id": "e6245756-c4cc-4f85-983f-3791624420c3",
   "metadata": {},
   "source": [
    "# Boolean indexing"
   ]
  },
  {
   "cell_type": "markdown",
   "id": "a53b18b3-da20-4d88-90e1-26c0b662b28b",
   "metadata": {},
   "source": [
    "# Select rows where df.A is greater than 0."
   ]
  },
  {
   "cell_type": "code",
   "execution_count": 62,
   "id": "584bb5d0-d9ab-42ce-9525-2e44a6953917",
   "metadata": {},
   "outputs": [
    {
     "data": {
      "text/html": [
       "<div>\n",
       "<style scoped>\n",
       "    .dataframe tbody tr th:only-of-type {\n",
       "        vertical-align: middle;\n",
       "    }\n",
       "\n",
       "    .dataframe tbody tr th {\n",
       "        vertical-align: top;\n",
       "    }\n",
       "\n",
       "    .dataframe thead th {\n",
       "        text-align: right;\n",
       "    }\n",
       "</style>\n",
       "<table border=\"1\" class=\"dataframe\">\n",
       "  <thead>\n",
       "    <tr style=\"text-align: right;\">\n",
       "      <th></th>\n",
       "      <th>A</th>\n",
       "      <th>B</th>\n",
       "      <th>C</th>\n",
       "      <th>D</th>\n",
       "    </tr>\n",
       "  </thead>\n",
       "  <tbody>\n",
       "    <tr>\n",
       "      <th>2024-08-29</th>\n",
       "      <td>0.844610</td>\n",
       "      <td>-0.206573</td>\n",
       "      <td>-0.650745</td>\n",
       "      <td>0.584913</td>\n",
       "    </tr>\n",
       "    <tr>\n",
       "      <th>2024-08-31</th>\n",
       "      <td>0.002045</td>\n",
       "      <td>0.758266</td>\n",
       "      <td>0.227393</td>\n",
       "      <td>-0.129223</td>\n",
       "    </tr>\n",
       "  </tbody>\n",
       "</table>\n",
       "</div>"
      ],
      "text/plain": [
       "                   A         B         C         D\n",
       "2024-08-29  0.844610 -0.206573 -0.650745  0.584913\n",
       "2024-08-31  0.002045  0.758266  0.227393 -0.129223"
      ]
     },
     "execution_count": 62,
     "metadata": {},
     "output_type": "execute_result"
    }
   ],
   "source": [
    "df[df[\"A\"] > 0]"
   ]
  },
  {
   "cell_type": "markdown",
   "id": "7c498397-374f-4d8d-aa84-9e56f85add31",
   "metadata": {},
   "source": [
    "# Selecting values from a DataFrame where a boolean condition is met:"
   ]
  },
  {
   "cell_type": "code",
   "execution_count": 63,
   "id": "4e24a09f-b1c8-4175-94ab-f34773510e3a",
   "metadata": {},
   "outputs": [
    {
     "data": {
      "text/html": [
       "<div>\n",
       "<style scoped>\n",
       "    .dataframe tbody tr th:only-of-type {\n",
       "        vertical-align: middle;\n",
       "    }\n",
       "\n",
       "    .dataframe tbody tr th {\n",
       "        vertical-align: top;\n",
       "    }\n",
       "\n",
       "    .dataframe thead th {\n",
       "        text-align: right;\n",
       "    }\n",
       "</style>\n",
       "<table border=\"1\" class=\"dataframe\">\n",
       "  <thead>\n",
       "    <tr style=\"text-align: right;\">\n",
       "      <th></th>\n",
       "      <th>A</th>\n",
       "      <th>B</th>\n",
       "      <th>C</th>\n",
       "      <th>D</th>\n",
       "    </tr>\n",
       "  </thead>\n",
       "  <tbody>\n",
       "    <tr>\n",
       "      <th>2024-08-24</th>\n",
       "      <td>NaN</td>\n",
       "      <td>NaN</td>\n",
       "      <td>2.096441</td>\n",
       "      <td>NaN</td>\n",
       "    </tr>\n",
       "    <tr>\n",
       "      <th>2024-08-25</th>\n",
       "      <td>NaN</td>\n",
       "      <td>NaN</td>\n",
       "      <td>NaN</td>\n",
       "      <td>1.212528</td>\n",
       "    </tr>\n",
       "    <tr>\n",
       "      <th>2024-08-26</th>\n",
       "      <td>NaN</td>\n",
       "      <td>NaN</td>\n",
       "      <td>NaN</td>\n",
       "      <td>0.013137</td>\n",
       "    </tr>\n",
       "    <tr>\n",
       "      <th>2024-08-27</th>\n",
       "      <td>NaN</td>\n",
       "      <td>0.352637</td>\n",
       "      <td>0.088708</td>\n",
       "      <td>NaN</td>\n",
       "    </tr>\n",
       "    <tr>\n",
       "      <th>2024-08-28</th>\n",
       "      <td>NaN</td>\n",
       "      <td>NaN</td>\n",
       "      <td>1.175856</td>\n",
       "      <td>0.363554</td>\n",
       "    </tr>\n",
       "    <tr>\n",
       "      <th>2024-08-29</th>\n",
       "      <td>0.844610</td>\n",
       "      <td>NaN</td>\n",
       "      <td>NaN</td>\n",
       "      <td>0.584913</td>\n",
       "    </tr>\n",
       "    <tr>\n",
       "      <th>2024-08-30</th>\n",
       "      <td>NaN</td>\n",
       "      <td>0.111281</td>\n",
       "      <td>0.741105</td>\n",
       "      <td>0.841217</td>\n",
       "    </tr>\n",
       "    <tr>\n",
       "      <th>2024-08-31</th>\n",
       "      <td>0.002045</td>\n",
       "      <td>0.758266</td>\n",
       "      <td>0.227393</td>\n",
       "      <td>NaN</td>\n",
       "    </tr>\n",
       "  </tbody>\n",
       "</table>\n",
       "</div>"
      ],
      "text/plain": [
       "                   A         B         C         D\n",
       "2024-08-24       NaN       NaN  2.096441       NaN\n",
       "2024-08-25       NaN       NaN       NaN  1.212528\n",
       "2024-08-26       NaN       NaN       NaN  0.013137\n",
       "2024-08-27       NaN  0.352637  0.088708       NaN\n",
       "2024-08-28       NaN       NaN  1.175856  0.363554\n",
       "2024-08-29  0.844610       NaN       NaN  0.584913\n",
       "2024-08-30       NaN  0.111281  0.741105  0.841217\n",
       "2024-08-31  0.002045  0.758266  0.227393       NaN"
      ]
     },
     "execution_count": 63,
     "metadata": {},
     "output_type": "execute_result"
    }
   ],
   "source": [
    "df[df > 0]"
   ]
  },
  {
   "cell_type": "markdown",
   "id": "7f25ff56-7059-4aa2-81fd-0b389538120b",
   "metadata": {},
   "source": [
    "# Using isin() method for filtering:"
   ]
  },
  {
   "cell_type": "code",
   "execution_count": 64,
   "id": "eebd70f3-aa8a-4db6-bc1e-54ed23229ea3",
   "metadata": {},
   "outputs": [],
   "source": [
    "df2 = df.copy()"
   ]
  },
  {
   "cell_type": "code",
   "execution_count": 65,
   "id": "b175592e-cb95-4dd8-bdc0-9f2e4ffd1835",
   "metadata": {},
   "outputs": [
    {
     "ename": "ValueError",
     "evalue": "Length of values (7) does not match length of index (8)",
     "output_type": "error",
     "traceback": [
      "\u001b[1;31m---------------------------------------------------------------------------\u001b[0m",
      "\u001b[1;31mValueError\u001b[0m                                Traceback (most recent call last)",
      "Cell \u001b[1;32mIn[65], line 1\u001b[0m\n\u001b[1;32m----> 1\u001b[0m df2[\u001b[38;5;124m\"\u001b[39m\u001b[38;5;124mE\u001b[39m\u001b[38;5;124m\"\u001b[39m] \u001b[38;5;241m=\u001b[39m [\u001b[38;5;124m\"\u001b[39m\u001b[38;5;124mone\u001b[39m\u001b[38;5;124m\"\u001b[39m, \u001b[38;5;124m\"\u001b[39m\u001b[38;5;124mtwo\u001b[39m\u001b[38;5;124m\"\u001b[39m, \u001b[38;5;124m\"\u001b[39m\u001b[38;5;124mthree\u001b[39m\u001b[38;5;124m\"\u001b[39m, \u001b[38;5;124m\"\u001b[39m\u001b[38;5;124mfoure\u001b[39m\u001b[38;5;124m\"\u001b[39m, \u001b[38;5;124m\"\u001b[39m\u001b[38;5;124mfive\u001b[39m\u001b[38;5;124m\"\u001b[39m, \u001b[38;5;124m\"\u001b[39m\u001b[38;5;124msix\u001b[39m\u001b[38;5;124m\"\u001b[39m, \u001b[38;5;124m\"\u001b[39m\u001b[38;5;124mseven\u001b[39m\u001b[38;5;124m\"\u001b[39m]\n",
      "File \u001b[1;32m~\\AppData\\Local\\anaconda3\\Lib\\site-packages\\pandas\\core\\frame.py:4311\u001b[0m, in \u001b[0;36mDataFrame.__setitem__\u001b[1;34m(self, key, value)\u001b[0m\n\u001b[0;32m   4308\u001b[0m     \u001b[38;5;28mself\u001b[39m\u001b[38;5;241m.\u001b[39m_setitem_array([key], value)\n\u001b[0;32m   4309\u001b[0m \u001b[38;5;28;01melse\u001b[39;00m:\n\u001b[0;32m   4310\u001b[0m     \u001b[38;5;66;03m# set column\u001b[39;00m\n\u001b[1;32m-> 4311\u001b[0m     \u001b[38;5;28mself\u001b[39m\u001b[38;5;241m.\u001b[39m_set_item(key, value)\n",
      "File \u001b[1;32m~\\AppData\\Local\\anaconda3\\Lib\\site-packages\\pandas\\core\\frame.py:4524\u001b[0m, in \u001b[0;36mDataFrame._set_item\u001b[1;34m(self, key, value)\u001b[0m\n\u001b[0;32m   4514\u001b[0m \u001b[38;5;28;01mdef\u001b[39;00m \u001b[38;5;21m_set_item\u001b[39m(\u001b[38;5;28mself\u001b[39m, key, value) \u001b[38;5;241m-\u001b[39m\u001b[38;5;241m>\u001b[39m \u001b[38;5;28;01mNone\u001b[39;00m:\n\u001b[0;32m   4515\u001b[0m \u001b[38;5;250m    \u001b[39m\u001b[38;5;124;03m\"\"\"\u001b[39;00m\n\u001b[0;32m   4516\u001b[0m \u001b[38;5;124;03m    Add series to DataFrame in specified column.\u001b[39;00m\n\u001b[0;32m   4517\u001b[0m \n\u001b[1;32m   (...)\u001b[0m\n\u001b[0;32m   4522\u001b[0m \u001b[38;5;124;03m    ensure homogeneity.\u001b[39;00m\n\u001b[0;32m   4523\u001b[0m \u001b[38;5;124;03m    \"\"\"\u001b[39;00m\n\u001b[1;32m-> 4524\u001b[0m     value, refs \u001b[38;5;241m=\u001b[39m \u001b[38;5;28mself\u001b[39m\u001b[38;5;241m.\u001b[39m_sanitize_column(value)\n\u001b[0;32m   4526\u001b[0m     \u001b[38;5;28;01mif\u001b[39;00m (\n\u001b[0;32m   4527\u001b[0m         key \u001b[38;5;129;01min\u001b[39;00m \u001b[38;5;28mself\u001b[39m\u001b[38;5;241m.\u001b[39mcolumns\n\u001b[0;32m   4528\u001b[0m         \u001b[38;5;129;01mand\u001b[39;00m value\u001b[38;5;241m.\u001b[39mndim \u001b[38;5;241m==\u001b[39m \u001b[38;5;241m1\u001b[39m\n\u001b[0;32m   4529\u001b[0m         \u001b[38;5;129;01mand\u001b[39;00m \u001b[38;5;129;01mnot\u001b[39;00m \u001b[38;5;28misinstance\u001b[39m(value\u001b[38;5;241m.\u001b[39mdtype, ExtensionDtype)\n\u001b[0;32m   4530\u001b[0m     ):\n\u001b[0;32m   4531\u001b[0m         \u001b[38;5;66;03m# broadcast across multiple columns if necessary\u001b[39;00m\n\u001b[0;32m   4532\u001b[0m         \u001b[38;5;28;01mif\u001b[39;00m \u001b[38;5;129;01mnot\u001b[39;00m \u001b[38;5;28mself\u001b[39m\u001b[38;5;241m.\u001b[39mcolumns\u001b[38;5;241m.\u001b[39mis_unique \u001b[38;5;129;01mor\u001b[39;00m \u001b[38;5;28misinstance\u001b[39m(\u001b[38;5;28mself\u001b[39m\u001b[38;5;241m.\u001b[39mcolumns, MultiIndex):\n",
      "File \u001b[1;32m~\\AppData\\Local\\anaconda3\\Lib\\site-packages\\pandas\\core\\frame.py:5266\u001b[0m, in \u001b[0;36mDataFrame._sanitize_column\u001b[1;34m(self, value)\u001b[0m\n\u001b[0;32m   5263\u001b[0m     \u001b[38;5;28;01mreturn\u001b[39;00m _reindex_for_setitem(value, \u001b[38;5;28mself\u001b[39m\u001b[38;5;241m.\u001b[39mindex)\n\u001b[0;32m   5265\u001b[0m \u001b[38;5;28;01mif\u001b[39;00m is_list_like(value):\n\u001b[1;32m-> 5266\u001b[0m     com\u001b[38;5;241m.\u001b[39mrequire_length_match(value, \u001b[38;5;28mself\u001b[39m\u001b[38;5;241m.\u001b[39mindex)\n\u001b[0;32m   5267\u001b[0m arr \u001b[38;5;241m=\u001b[39m sanitize_array(value, \u001b[38;5;28mself\u001b[39m\u001b[38;5;241m.\u001b[39mindex, copy\u001b[38;5;241m=\u001b[39m\u001b[38;5;28;01mTrue\u001b[39;00m, allow_2d\u001b[38;5;241m=\u001b[39m\u001b[38;5;28;01mTrue\u001b[39;00m)\n\u001b[0;32m   5268\u001b[0m \u001b[38;5;28;01mif\u001b[39;00m (\n\u001b[0;32m   5269\u001b[0m     \u001b[38;5;28misinstance\u001b[39m(value, Index)\n\u001b[0;32m   5270\u001b[0m     \u001b[38;5;129;01mand\u001b[39;00m value\u001b[38;5;241m.\u001b[39mdtype \u001b[38;5;241m==\u001b[39m \u001b[38;5;124m\"\u001b[39m\u001b[38;5;124mobject\u001b[39m\u001b[38;5;124m\"\u001b[39m\n\u001b[1;32m   (...)\u001b[0m\n\u001b[0;32m   5273\u001b[0m     \u001b[38;5;66;03m# TODO: Remove kludge in sanitize_array for string mode when enforcing\u001b[39;00m\n\u001b[0;32m   5274\u001b[0m     \u001b[38;5;66;03m# this deprecation\u001b[39;00m\n",
      "File \u001b[1;32m~\\AppData\\Local\\anaconda3\\Lib\\site-packages\\pandas\\core\\common.py:573\u001b[0m, in \u001b[0;36mrequire_length_match\u001b[1;34m(data, index)\u001b[0m\n\u001b[0;32m    569\u001b[0m \u001b[38;5;250m\u001b[39m\u001b[38;5;124;03m\"\"\"\u001b[39;00m\n\u001b[0;32m    570\u001b[0m \u001b[38;5;124;03mCheck the length of data matches the length of the index.\u001b[39;00m\n\u001b[0;32m    571\u001b[0m \u001b[38;5;124;03m\"\"\"\u001b[39;00m\n\u001b[0;32m    572\u001b[0m \u001b[38;5;28;01mif\u001b[39;00m \u001b[38;5;28mlen\u001b[39m(data) \u001b[38;5;241m!=\u001b[39m \u001b[38;5;28mlen\u001b[39m(index):\n\u001b[1;32m--> 573\u001b[0m     \u001b[38;5;28;01mraise\u001b[39;00m \u001b[38;5;167;01mValueError\u001b[39;00m(\n\u001b[0;32m    574\u001b[0m         \u001b[38;5;124m\"\u001b[39m\u001b[38;5;124mLength of values \u001b[39m\u001b[38;5;124m\"\u001b[39m\n\u001b[0;32m    575\u001b[0m         \u001b[38;5;124mf\u001b[39m\u001b[38;5;124m\"\u001b[39m\u001b[38;5;124m(\u001b[39m\u001b[38;5;132;01m{\u001b[39;00m\u001b[38;5;28mlen\u001b[39m(data)\u001b[38;5;132;01m}\u001b[39;00m\u001b[38;5;124m) \u001b[39m\u001b[38;5;124m\"\u001b[39m\n\u001b[0;32m    576\u001b[0m         \u001b[38;5;124m\"\u001b[39m\u001b[38;5;124mdoes not match length of index \u001b[39m\u001b[38;5;124m\"\u001b[39m\n\u001b[0;32m    577\u001b[0m         \u001b[38;5;124mf\u001b[39m\u001b[38;5;124m\"\u001b[39m\u001b[38;5;124m(\u001b[39m\u001b[38;5;132;01m{\u001b[39;00m\u001b[38;5;28mlen\u001b[39m(index)\u001b[38;5;132;01m}\u001b[39;00m\u001b[38;5;124m)\u001b[39m\u001b[38;5;124m\"\u001b[39m\n\u001b[0;32m    578\u001b[0m     )\n",
      "\u001b[1;31mValueError\u001b[0m: Length of values (7) does not match length of index (8)"
     ]
    }
   ],
   "source": [
    "df2[\"E\"] = [\"one\", \"two\", \"three\", \"foure\", \"five\", \"six\", \"seven\"]"
   ]
  },
  {
   "cell_type": "code",
   "execution_count": 66,
   "id": "244387fe-df55-4521-b82d-0c65c17788a1",
   "metadata": {},
   "outputs": [],
   "source": [
    "df2[\"E\"] = [\"Zero\",\"one\", \"two\", \"three\", \"foure\", \"five\", \"six\", \"seven\"]"
   ]
  },
  {
   "cell_type": "code",
   "execution_count": 67,
   "id": "b4c616b0-a678-4a46-b42b-eecfe8b4a204",
   "metadata": {},
   "outputs": [
    {
     "data": {
      "text/html": [
       "<div>\n",
       "<style scoped>\n",
       "    .dataframe tbody tr th:only-of-type {\n",
       "        vertical-align: middle;\n",
       "    }\n",
       "\n",
       "    .dataframe tbody tr th {\n",
       "        vertical-align: top;\n",
       "    }\n",
       "\n",
       "    .dataframe thead th {\n",
       "        text-align: right;\n",
       "    }\n",
       "</style>\n",
       "<table border=\"1\" class=\"dataframe\">\n",
       "  <thead>\n",
       "    <tr style=\"text-align: right;\">\n",
       "      <th></th>\n",
       "      <th>A</th>\n",
       "      <th>B</th>\n",
       "      <th>C</th>\n",
       "      <th>D</th>\n",
       "      <th>E</th>\n",
       "    </tr>\n",
       "  </thead>\n",
       "  <tbody>\n",
       "    <tr>\n",
       "      <th>2024-08-24</th>\n",
       "      <td>-1.033007</td>\n",
       "      <td>-1.667544</td>\n",
       "      <td>2.096441</td>\n",
       "      <td>-0.036855</td>\n",
       "      <td>Zero</td>\n",
       "    </tr>\n",
       "    <tr>\n",
       "      <th>2024-08-25</th>\n",
       "      <td>-0.012070</td>\n",
       "      <td>-1.445879</td>\n",
       "      <td>-2.331113</td>\n",
       "      <td>1.212528</td>\n",
       "      <td>one</td>\n",
       "    </tr>\n",
       "    <tr>\n",
       "      <th>2024-08-26</th>\n",
       "      <td>-0.485586</td>\n",
       "      <td>-1.228904</td>\n",
       "      <td>-0.087372</td>\n",
       "      <td>0.013137</td>\n",
       "      <td>two</td>\n",
       "    </tr>\n",
       "    <tr>\n",
       "      <th>2024-08-27</th>\n",
       "      <td>-1.002947</td>\n",
       "      <td>0.352637</td>\n",
       "      <td>0.088708</td>\n",
       "      <td>-2.734828</td>\n",
       "      <td>three</td>\n",
       "    </tr>\n",
       "    <tr>\n",
       "      <th>2024-08-28</th>\n",
       "      <td>-1.200074</td>\n",
       "      <td>-0.012750</td>\n",
       "      <td>1.175856</td>\n",
       "      <td>0.363554</td>\n",
       "      <td>foure</td>\n",
       "    </tr>\n",
       "    <tr>\n",
       "      <th>2024-08-29</th>\n",
       "      <td>0.844610</td>\n",
       "      <td>-0.206573</td>\n",
       "      <td>-0.650745</td>\n",
       "      <td>0.584913</td>\n",
       "      <td>five</td>\n",
       "    </tr>\n",
       "    <tr>\n",
       "      <th>2024-08-30</th>\n",
       "      <td>-0.083206</td>\n",
       "      <td>0.111281</td>\n",
       "      <td>0.741105</td>\n",
       "      <td>0.841217</td>\n",
       "      <td>six</td>\n",
       "    </tr>\n",
       "    <tr>\n",
       "      <th>2024-08-31</th>\n",
       "      <td>0.002045</td>\n",
       "      <td>0.758266</td>\n",
       "      <td>0.227393</td>\n",
       "      <td>-0.129223</td>\n",
       "      <td>seven</td>\n",
       "    </tr>\n",
       "  </tbody>\n",
       "</table>\n",
       "</div>"
      ],
      "text/plain": [
       "                   A         B         C         D      E\n",
       "2024-08-24 -1.033007 -1.667544  2.096441 -0.036855   Zero\n",
       "2024-08-25 -0.012070 -1.445879 -2.331113  1.212528    one\n",
       "2024-08-26 -0.485586 -1.228904 -0.087372  0.013137    two\n",
       "2024-08-27 -1.002947  0.352637  0.088708 -2.734828  three\n",
       "2024-08-28 -1.200074 -0.012750  1.175856  0.363554  foure\n",
       "2024-08-29  0.844610 -0.206573 -0.650745  0.584913   five\n",
       "2024-08-30 -0.083206  0.111281  0.741105  0.841217    six\n",
       "2024-08-31  0.002045  0.758266  0.227393 -0.129223  seven"
      ]
     },
     "execution_count": 67,
     "metadata": {},
     "output_type": "execute_result"
    }
   ],
   "source": [
    "df2"
   ]
  },
  {
   "cell_type": "code",
   "execution_count": 68,
   "id": "90b49ac3-1405-4a94-af83-b16b700075ff",
   "metadata": {},
   "outputs": [
    {
     "data": {
      "text/html": [
       "<div>\n",
       "<style scoped>\n",
       "    .dataframe tbody tr th:only-of-type {\n",
       "        vertical-align: middle;\n",
       "    }\n",
       "\n",
       "    .dataframe tbody tr th {\n",
       "        vertical-align: top;\n",
       "    }\n",
       "\n",
       "    .dataframe thead th {\n",
       "        text-align: right;\n",
       "    }\n",
       "</style>\n",
       "<table border=\"1\" class=\"dataframe\">\n",
       "  <thead>\n",
       "    <tr style=\"text-align: right;\">\n",
       "      <th></th>\n",
       "      <th>A</th>\n",
       "      <th>B</th>\n",
       "      <th>C</th>\n",
       "      <th>D</th>\n",
       "      <th>E</th>\n",
       "    </tr>\n",
       "  </thead>\n",
       "  <tbody>\n",
       "    <tr>\n",
       "      <th>2024-08-26</th>\n",
       "      <td>-0.485586</td>\n",
       "      <td>-1.228904</td>\n",
       "      <td>-0.087372</td>\n",
       "      <td>0.013137</td>\n",
       "      <td>two</td>\n",
       "    </tr>\n",
       "    <tr>\n",
       "      <th>2024-08-30</th>\n",
       "      <td>-0.083206</td>\n",
       "      <td>0.111281</td>\n",
       "      <td>0.741105</td>\n",
       "      <td>0.841217</td>\n",
       "      <td>six</td>\n",
       "    </tr>\n",
       "  </tbody>\n",
       "</table>\n",
       "</div>"
      ],
      "text/plain": [
       "                   A         B         C         D    E\n",
       "2024-08-26 -0.485586 -1.228904 -0.087372  0.013137  two\n",
       "2024-08-30 -0.083206  0.111281  0.741105  0.841217  six"
      ]
     },
     "execution_count": 68,
     "metadata": {},
     "output_type": "execute_result"
    }
   ],
   "source": [
    "df2[df2[\"E\"].isin([\"two\", \"six\"])]"
   ]
  },
  {
   "cell_type": "markdown",
   "id": "a4c3cc80-398c-4d13-b755-b09ee8c40abe",
   "metadata": {},
   "source": [
    "# Setting"
   ]
  },
  {
   "cell_type": "markdown",
   "id": "f47868ad-2457-4cf8-b5ad-63a5f0e63394",
   "metadata": {},
   "source": [
    "# Setting a new coloum automaticaly aligns the dara by the indexes"
   ]
  },
  {
   "cell_type": "code",
   "execution_count": 69,
   "id": "4595cc6e-dfa8-4b50-bfa5-c5a08c21a534",
   "metadata": {},
   "outputs": [],
   "source": [
    "s1 = pd.Series([1,2,3,4,5,6], index = pd.date_range(\"20240828\", periods=6 ))"
   ]
  },
  {
   "cell_type": "code",
   "execution_count": 70,
   "id": "190be09f-266f-404c-966b-955d3e74dc7d",
   "metadata": {},
   "outputs": [
    {
     "data": {
      "text/plain": [
       "2024-08-28    1\n",
       "2024-08-29    2\n",
       "2024-08-30    3\n",
       "2024-08-31    4\n",
       "2024-09-01    5\n",
       "2024-09-02    6\n",
       "Freq: D, dtype: int64"
      ]
     },
     "execution_count": 70,
     "metadata": {},
     "output_type": "execute_result"
    }
   ],
   "source": [
    "s1"
   ]
  },
  {
   "cell_type": "code",
   "execution_count": 71,
   "id": "c8f87212-98bf-46e9-80bc-fe7e7d6f49a6",
   "metadata": {},
   "outputs": [],
   "source": [
    "df[\"f\"]  = s1"
   ]
  },
  {
   "cell_type": "code",
   "execution_count": 72,
   "id": "732ab862-3d2a-4652-b063-b3e25d2d5d11",
   "metadata": {},
   "outputs": [
    {
     "data": {
      "text/html": [
       "<div>\n",
       "<style scoped>\n",
       "    .dataframe tbody tr th:only-of-type {\n",
       "        vertical-align: middle;\n",
       "    }\n",
       "\n",
       "    .dataframe tbody tr th {\n",
       "        vertical-align: top;\n",
       "    }\n",
       "\n",
       "    .dataframe thead th {\n",
       "        text-align: right;\n",
       "    }\n",
       "</style>\n",
       "<table border=\"1\" class=\"dataframe\">\n",
       "  <thead>\n",
       "    <tr style=\"text-align: right;\">\n",
       "      <th></th>\n",
       "      <th>A</th>\n",
       "      <th>B</th>\n",
       "      <th>C</th>\n",
       "      <th>D</th>\n",
       "      <th>f</th>\n",
       "    </tr>\n",
       "  </thead>\n",
       "  <tbody>\n",
       "    <tr>\n",
       "      <th>2024-08-24</th>\n",
       "      <td>-1.033007</td>\n",
       "      <td>-1.667544</td>\n",
       "      <td>2.096441</td>\n",
       "      <td>-0.036855</td>\n",
       "      <td>NaN</td>\n",
       "    </tr>\n",
       "    <tr>\n",
       "      <th>2024-08-25</th>\n",
       "      <td>-0.012070</td>\n",
       "      <td>-1.445879</td>\n",
       "      <td>-2.331113</td>\n",
       "      <td>1.212528</td>\n",
       "      <td>NaN</td>\n",
       "    </tr>\n",
       "    <tr>\n",
       "      <th>2024-08-26</th>\n",
       "      <td>-0.485586</td>\n",
       "      <td>-1.228904</td>\n",
       "      <td>-0.087372</td>\n",
       "      <td>0.013137</td>\n",
       "      <td>NaN</td>\n",
       "    </tr>\n",
       "    <tr>\n",
       "      <th>2024-08-27</th>\n",
       "      <td>-1.002947</td>\n",
       "      <td>0.352637</td>\n",
       "      <td>0.088708</td>\n",
       "      <td>-2.734828</td>\n",
       "      <td>NaN</td>\n",
       "    </tr>\n",
       "    <tr>\n",
       "      <th>2024-08-28</th>\n",
       "      <td>-1.200074</td>\n",
       "      <td>-0.012750</td>\n",
       "      <td>1.175856</td>\n",
       "      <td>0.363554</td>\n",
       "      <td>1.0</td>\n",
       "    </tr>\n",
       "    <tr>\n",
       "      <th>2024-08-29</th>\n",
       "      <td>0.844610</td>\n",
       "      <td>-0.206573</td>\n",
       "      <td>-0.650745</td>\n",
       "      <td>0.584913</td>\n",
       "      <td>2.0</td>\n",
       "    </tr>\n",
       "    <tr>\n",
       "      <th>2024-08-30</th>\n",
       "      <td>-0.083206</td>\n",
       "      <td>0.111281</td>\n",
       "      <td>0.741105</td>\n",
       "      <td>0.841217</td>\n",
       "      <td>3.0</td>\n",
       "    </tr>\n",
       "    <tr>\n",
       "      <th>2024-08-31</th>\n",
       "      <td>0.002045</td>\n",
       "      <td>0.758266</td>\n",
       "      <td>0.227393</td>\n",
       "      <td>-0.129223</td>\n",
       "      <td>4.0</td>\n",
       "    </tr>\n",
       "  </tbody>\n",
       "</table>\n",
       "</div>"
      ],
      "text/plain": [
       "                   A         B         C         D    f\n",
       "2024-08-24 -1.033007 -1.667544  2.096441 -0.036855  NaN\n",
       "2024-08-25 -0.012070 -1.445879 -2.331113  1.212528  NaN\n",
       "2024-08-26 -0.485586 -1.228904 -0.087372  0.013137  NaN\n",
       "2024-08-27 -1.002947  0.352637  0.088708 -2.734828  NaN\n",
       "2024-08-28 -1.200074 -0.012750  1.175856  0.363554  1.0\n",
       "2024-08-29  0.844610 -0.206573 -0.650745  0.584913  2.0\n",
       "2024-08-30 -0.083206  0.111281  0.741105  0.841217  3.0\n",
       "2024-08-31  0.002045  0.758266  0.227393 -0.129223  4.0"
      ]
     },
     "execution_count": 72,
     "metadata": {},
     "output_type": "execute_result"
    }
   ],
   "source": [
    "df"
   ]
  },
  {
   "cell_type": "markdown",
   "id": "285d65d3-fda0-4643-b364-33fc5d4962b7",
   "metadata": {},
   "source": [
    "# Setting values by label:"
   ]
  },
  {
   "cell_type": "code",
   "execution_count": 73,
   "id": "18b626af-933a-4957-89af-7487d2f6dc15",
   "metadata": {},
   "outputs": [],
   "source": [
    "df.at[dates[0], \"A\"] = 0"
   ]
  },
  {
   "cell_type": "code",
   "execution_count": 74,
   "id": "a9f69a45-1137-499b-b224-949813440527",
   "metadata": {},
   "outputs": [
    {
     "data": {
      "text/html": [
       "<div>\n",
       "<style scoped>\n",
       "    .dataframe tbody tr th:only-of-type {\n",
       "        vertical-align: middle;\n",
       "    }\n",
       "\n",
       "    .dataframe tbody tr th {\n",
       "        vertical-align: top;\n",
       "    }\n",
       "\n",
       "    .dataframe thead th {\n",
       "        text-align: right;\n",
       "    }\n",
       "</style>\n",
       "<table border=\"1\" class=\"dataframe\">\n",
       "  <thead>\n",
       "    <tr style=\"text-align: right;\">\n",
       "      <th></th>\n",
       "      <th>A</th>\n",
       "      <th>B</th>\n",
       "      <th>C</th>\n",
       "      <th>D</th>\n",
       "      <th>f</th>\n",
       "    </tr>\n",
       "  </thead>\n",
       "  <tbody>\n",
       "    <tr>\n",
       "      <th>2024-08-24</th>\n",
       "      <td>0.000000</td>\n",
       "      <td>-1.667544</td>\n",
       "      <td>2.096441</td>\n",
       "      <td>-0.036855</td>\n",
       "      <td>NaN</td>\n",
       "    </tr>\n",
       "    <tr>\n",
       "      <th>2024-08-25</th>\n",
       "      <td>-0.012070</td>\n",
       "      <td>-1.445879</td>\n",
       "      <td>-2.331113</td>\n",
       "      <td>1.212528</td>\n",
       "      <td>NaN</td>\n",
       "    </tr>\n",
       "    <tr>\n",
       "      <th>2024-08-26</th>\n",
       "      <td>-0.485586</td>\n",
       "      <td>-1.228904</td>\n",
       "      <td>-0.087372</td>\n",
       "      <td>0.013137</td>\n",
       "      <td>NaN</td>\n",
       "    </tr>\n",
       "    <tr>\n",
       "      <th>2024-08-27</th>\n",
       "      <td>-1.002947</td>\n",
       "      <td>0.352637</td>\n",
       "      <td>0.088708</td>\n",
       "      <td>-2.734828</td>\n",
       "      <td>NaN</td>\n",
       "    </tr>\n",
       "    <tr>\n",
       "      <th>2024-08-28</th>\n",
       "      <td>-1.200074</td>\n",
       "      <td>-0.012750</td>\n",
       "      <td>1.175856</td>\n",
       "      <td>0.363554</td>\n",
       "      <td>1.0</td>\n",
       "    </tr>\n",
       "    <tr>\n",
       "      <th>2024-08-29</th>\n",
       "      <td>0.844610</td>\n",
       "      <td>-0.206573</td>\n",
       "      <td>-0.650745</td>\n",
       "      <td>0.584913</td>\n",
       "      <td>2.0</td>\n",
       "    </tr>\n",
       "    <tr>\n",
       "      <th>2024-08-30</th>\n",
       "      <td>-0.083206</td>\n",
       "      <td>0.111281</td>\n",
       "      <td>0.741105</td>\n",
       "      <td>0.841217</td>\n",
       "      <td>3.0</td>\n",
       "    </tr>\n",
       "    <tr>\n",
       "      <th>2024-08-31</th>\n",
       "      <td>0.002045</td>\n",
       "      <td>0.758266</td>\n",
       "      <td>0.227393</td>\n",
       "      <td>-0.129223</td>\n",
       "      <td>4.0</td>\n",
       "    </tr>\n",
       "  </tbody>\n",
       "</table>\n",
       "</div>"
      ],
      "text/plain": [
       "                   A         B         C         D    f\n",
       "2024-08-24  0.000000 -1.667544  2.096441 -0.036855  NaN\n",
       "2024-08-25 -0.012070 -1.445879 -2.331113  1.212528  NaN\n",
       "2024-08-26 -0.485586 -1.228904 -0.087372  0.013137  NaN\n",
       "2024-08-27 -1.002947  0.352637  0.088708 -2.734828  NaN\n",
       "2024-08-28 -1.200074 -0.012750  1.175856  0.363554  1.0\n",
       "2024-08-29  0.844610 -0.206573 -0.650745  0.584913  2.0\n",
       "2024-08-30 -0.083206  0.111281  0.741105  0.841217  3.0\n",
       "2024-08-31  0.002045  0.758266  0.227393 -0.129223  4.0"
      ]
     },
     "execution_count": 74,
     "metadata": {},
     "output_type": "execute_result"
    }
   ],
   "source": [
    "df"
   ]
  },
  {
   "cell_type": "markdown",
   "id": "3b73df5d-2253-475c-ba9b-35e7c4451c29",
   "metadata": {},
   "source": [
    "# Setting values by position:"
   ]
  },
  {
   "cell_type": "code",
   "execution_count": 75,
   "id": "aa7bedbb-6a78-450b-a1f6-9f506206c323",
   "metadata": {},
   "outputs": [],
   "source": [
    "df.iat[0 , 1] = 0"
   ]
  },
  {
   "cell_type": "code",
   "execution_count": 76,
   "id": "b58d9deb-b188-49ee-9dcb-75acb9d2037b",
   "metadata": {},
   "outputs": [
    {
     "data": {
      "text/html": [
       "<div>\n",
       "<style scoped>\n",
       "    .dataframe tbody tr th:only-of-type {\n",
       "        vertical-align: middle;\n",
       "    }\n",
       "\n",
       "    .dataframe tbody tr th {\n",
       "        vertical-align: top;\n",
       "    }\n",
       "\n",
       "    .dataframe thead th {\n",
       "        text-align: right;\n",
       "    }\n",
       "</style>\n",
       "<table border=\"1\" class=\"dataframe\">\n",
       "  <thead>\n",
       "    <tr style=\"text-align: right;\">\n",
       "      <th></th>\n",
       "      <th>A</th>\n",
       "      <th>B</th>\n",
       "      <th>C</th>\n",
       "      <th>D</th>\n",
       "      <th>f</th>\n",
       "    </tr>\n",
       "  </thead>\n",
       "  <tbody>\n",
       "    <tr>\n",
       "      <th>2024-08-24</th>\n",
       "      <td>0.000000</td>\n",
       "      <td>0.000000</td>\n",
       "      <td>2.096441</td>\n",
       "      <td>-0.036855</td>\n",
       "      <td>NaN</td>\n",
       "    </tr>\n",
       "    <tr>\n",
       "      <th>2024-08-25</th>\n",
       "      <td>-0.012070</td>\n",
       "      <td>-1.445879</td>\n",
       "      <td>-2.331113</td>\n",
       "      <td>1.212528</td>\n",
       "      <td>NaN</td>\n",
       "    </tr>\n",
       "    <tr>\n",
       "      <th>2024-08-26</th>\n",
       "      <td>-0.485586</td>\n",
       "      <td>-1.228904</td>\n",
       "      <td>-0.087372</td>\n",
       "      <td>0.013137</td>\n",
       "      <td>NaN</td>\n",
       "    </tr>\n",
       "    <tr>\n",
       "      <th>2024-08-27</th>\n",
       "      <td>-1.002947</td>\n",
       "      <td>0.352637</td>\n",
       "      <td>0.088708</td>\n",
       "      <td>-2.734828</td>\n",
       "      <td>NaN</td>\n",
       "    </tr>\n",
       "    <tr>\n",
       "      <th>2024-08-28</th>\n",
       "      <td>-1.200074</td>\n",
       "      <td>-0.012750</td>\n",
       "      <td>1.175856</td>\n",
       "      <td>0.363554</td>\n",
       "      <td>1.0</td>\n",
       "    </tr>\n",
       "    <tr>\n",
       "      <th>2024-08-29</th>\n",
       "      <td>0.844610</td>\n",
       "      <td>-0.206573</td>\n",
       "      <td>-0.650745</td>\n",
       "      <td>0.584913</td>\n",
       "      <td>2.0</td>\n",
       "    </tr>\n",
       "    <tr>\n",
       "      <th>2024-08-30</th>\n",
       "      <td>-0.083206</td>\n",
       "      <td>0.111281</td>\n",
       "      <td>0.741105</td>\n",
       "      <td>0.841217</td>\n",
       "      <td>3.0</td>\n",
       "    </tr>\n",
       "    <tr>\n",
       "      <th>2024-08-31</th>\n",
       "      <td>0.002045</td>\n",
       "      <td>0.758266</td>\n",
       "      <td>0.227393</td>\n",
       "      <td>-0.129223</td>\n",
       "      <td>4.0</td>\n",
       "    </tr>\n",
       "  </tbody>\n",
       "</table>\n",
       "</div>"
      ],
      "text/plain": [
       "                   A         B         C         D    f\n",
       "2024-08-24  0.000000  0.000000  2.096441 -0.036855  NaN\n",
       "2024-08-25 -0.012070 -1.445879 -2.331113  1.212528  NaN\n",
       "2024-08-26 -0.485586 -1.228904 -0.087372  0.013137  NaN\n",
       "2024-08-27 -1.002947  0.352637  0.088708 -2.734828  NaN\n",
       "2024-08-28 -1.200074 -0.012750  1.175856  0.363554  1.0\n",
       "2024-08-29  0.844610 -0.206573 -0.650745  0.584913  2.0\n",
       "2024-08-30 -0.083206  0.111281  0.741105  0.841217  3.0\n",
       "2024-08-31  0.002045  0.758266  0.227393 -0.129223  4.0"
      ]
     },
     "execution_count": 76,
     "metadata": {},
     "output_type": "execute_result"
    }
   ],
   "source": [
    "df"
   ]
  },
  {
   "cell_type": "markdown",
   "id": "81b6481a-bd95-4e27-968a-7b91b042a2c2",
   "metadata": {},
   "source": [
    "# Setting by assigning with a NumPy array:"
   ]
  },
  {
   "cell_type": "code",
   "execution_count": 77,
   "id": "f8f15574-8809-4f32-97a7-870b2edd1e96",
   "metadata": {},
   "outputs": [],
   "source": [
    "df.loc[:, \"D\"]= np.array([5]*len(df))"
   ]
  },
  {
   "cell_type": "code",
   "execution_count": 78,
   "id": "03443776-9a5c-4b2f-a6ec-0fd52ad589a5",
   "metadata": {},
   "outputs": [
    {
     "data": {
      "text/html": [
       "<div>\n",
       "<style scoped>\n",
       "    .dataframe tbody tr th:only-of-type {\n",
       "        vertical-align: middle;\n",
       "    }\n",
       "\n",
       "    .dataframe tbody tr th {\n",
       "        vertical-align: top;\n",
       "    }\n",
       "\n",
       "    .dataframe thead th {\n",
       "        text-align: right;\n",
       "    }\n",
       "</style>\n",
       "<table border=\"1\" class=\"dataframe\">\n",
       "  <thead>\n",
       "    <tr style=\"text-align: right;\">\n",
       "      <th></th>\n",
       "      <th>A</th>\n",
       "      <th>B</th>\n",
       "      <th>C</th>\n",
       "      <th>D</th>\n",
       "      <th>f</th>\n",
       "    </tr>\n",
       "  </thead>\n",
       "  <tbody>\n",
       "    <tr>\n",
       "      <th>2024-08-24</th>\n",
       "      <td>0.000000</td>\n",
       "      <td>0.000000</td>\n",
       "      <td>2.096441</td>\n",
       "      <td>5.0</td>\n",
       "      <td>NaN</td>\n",
       "    </tr>\n",
       "    <tr>\n",
       "      <th>2024-08-25</th>\n",
       "      <td>-0.012070</td>\n",
       "      <td>-1.445879</td>\n",
       "      <td>-2.331113</td>\n",
       "      <td>5.0</td>\n",
       "      <td>NaN</td>\n",
       "    </tr>\n",
       "    <tr>\n",
       "      <th>2024-08-26</th>\n",
       "      <td>-0.485586</td>\n",
       "      <td>-1.228904</td>\n",
       "      <td>-0.087372</td>\n",
       "      <td>5.0</td>\n",
       "      <td>NaN</td>\n",
       "    </tr>\n",
       "    <tr>\n",
       "      <th>2024-08-27</th>\n",
       "      <td>-1.002947</td>\n",
       "      <td>0.352637</td>\n",
       "      <td>0.088708</td>\n",
       "      <td>5.0</td>\n",
       "      <td>NaN</td>\n",
       "    </tr>\n",
       "    <tr>\n",
       "      <th>2024-08-28</th>\n",
       "      <td>-1.200074</td>\n",
       "      <td>-0.012750</td>\n",
       "      <td>1.175856</td>\n",
       "      <td>5.0</td>\n",
       "      <td>1.0</td>\n",
       "    </tr>\n",
       "    <tr>\n",
       "      <th>2024-08-29</th>\n",
       "      <td>0.844610</td>\n",
       "      <td>-0.206573</td>\n",
       "      <td>-0.650745</td>\n",
       "      <td>5.0</td>\n",
       "      <td>2.0</td>\n",
       "    </tr>\n",
       "    <tr>\n",
       "      <th>2024-08-30</th>\n",
       "      <td>-0.083206</td>\n",
       "      <td>0.111281</td>\n",
       "      <td>0.741105</td>\n",
       "      <td>5.0</td>\n",
       "      <td>3.0</td>\n",
       "    </tr>\n",
       "    <tr>\n",
       "      <th>2024-08-31</th>\n",
       "      <td>0.002045</td>\n",
       "      <td>0.758266</td>\n",
       "      <td>0.227393</td>\n",
       "      <td>5.0</td>\n",
       "      <td>4.0</td>\n",
       "    </tr>\n",
       "  </tbody>\n",
       "</table>\n",
       "</div>"
      ],
      "text/plain": [
       "                   A         B         C    D    f\n",
       "2024-08-24  0.000000  0.000000  2.096441  5.0  NaN\n",
       "2024-08-25 -0.012070 -1.445879 -2.331113  5.0  NaN\n",
       "2024-08-26 -0.485586 -1.228904 -0.087372  5.0  NaN\n",
       "2024-08-27 -1.002947  0.352637  0.088708  5.0  NaN\n",
       "2024-08-28 -1.200074 -0.012750  1.175856  5.0  1.0\n",
       "2024-08-29  0.844610 -0.206573 -0.650745  5.0  2.0\n",
       "2024-08-30 -0.083206  0.111281  0.741105  5.0  3.0\n",
       "2024-08-31  0.002045  0.758266  0.227393  5.0  4.0"
      ]
     },
     "execution_count": 78,
     "metadata": {},
     "output_type": "execute_result"
    }
   ],
   "source": [
    "df"
   ]
  },
  {
   "cell_type": "markdown",
   "id": "888da7ab-e198-4927-8289-1b35339200f9",
   "metadata": {},
   "source": [
    "# where operation with setting:"
   ]
  },
  {
   "cell_type": "code",
   "execution_count": 79,
   "id": "3176a953-69e4-4cba-aa1f-b350743e1c21",
   "metadata": {},
   "outputs": [],
   "source": [
    "df2 = df.copy()"
   ]
  },
  {
   "cell_type": "code",
   "execution_count": 80,
   "id": "3129b981-7f83-4d13-b2c2-e725afc77f0f",
   "metadata": {},
   "outputs": [],
   "source": [
    "df2[df2>0] = -df2"
   ]
  },
  {
   "cell_type": "code",
   "execution_count": 81,
   "id": "8850b4e7-fc80-45fa-a70b-f5937394fbe8",
   "metadata": {},
   "outputs": [
    {
     "data": {
      "text/html": [
       "<div>\n",
       "<style scoped>\n",
       "    .dataframe tbody tr th:only-of-type {\n",
       "        vertical-align: middle;\n",
       "    }\n",
       "\n",
       "    .dataframe tbody tr th {\n",
       "        vertical-align: top;\n",
       "    }\n",
       "\n",
       "    .dataframe thead th {\n",
       "        text-align: right;\n",
       "    }\n",
       "</style>\n",
       "<table border=\"1\" class=\"dataframe\">\n",
       "  <thead>\n",
       "    <tr style=\"text-align: right;\">\n",
       "      <th></th>\n",
       "      <th>A</th>\n",
       "      <th>B</th>\n",
       "      <th>C</th>\n",
       "      <th>D</th>\n",
       "      <th>f</th>\n",
       "    </tr>\n",
       "  </thead>\n",
       "  <tbody>\n",
       "    <tr>\n",
       "      <th>2024-08-24</th>\n",
       "      <td>0.000000</td>\n",
       "      <td>0.000000</td>\n",
       "      <td>-2.096441</td>\n",
       "      <td>-5.0</td>\n",
       "      <td>NaN</td>\n",
       "    </tr>\n",
       "    <tr>\n",
       "      <th>2024-08-25</th>\n",
       "      <td>-0.012070</td>\n",
       "      <td>-1.445879</td>\n",
       "      <td>-2.331113</td>\n",
       "      <td>-5.0</td>\n",
       "      <td>NaN</td>\n",
       "    </tr>\n",
       "    <tr>\n",
       "      <th>2024-08-26</th>\n",
       "      <td>-0.485586</td>\n",
       "      <td>-1.228904</td>\n",
       "      <td>-0.087372</td>\n",
       "      <td>-5.0</td>\n",
       "      <td>NaN</td>\n",
       "    </tr>\n",
       "    <tr>\n",
       "      <th>2024-08-27</th>\n",
       "      <td>-1.002947</td>\n",
       "      <td>-0.352637</td>\n",
       "      <td>-0.088708</td>\n",
       "      <td>-5.0</td>\n",
       "      <td>NaN</td>\n",
       "    </tr>\n",
       "    <tr>\n",
       "      <th>2024-08-28</th>\n",
       "      <td>-1.200074</td>\n",
       "      <td>-0.012750</td>\n",
       "      <td>-1.175856</td>\n",
       "      <td>-5.0</td>\n",
       "      <td>-1.0</td>\n",
       "    </tr>\n",
       "    <tr>\n",
       "      <th>2024-08-29</th>\n",
       "      <td>-0.844610</td>\n",
       "      <td>-0.206573</td>\n",
       "      <td>-0.650745</td>\n",
       "      <td>-5.0</td>\n",
       "      <td>-2.0</td>\n",
       "    </tr>\n",
       "    <tr>\n",
       "      <th>2024-08-30</th>\n",
       "      <td>-0.083206</td>\n",
       "      <td>-0.111281</td>\n",
       "      <td>-0.741105</td>\n",
       "      <td>-5.0</td>\n",
       "      <td>-3.0</td>\n",
       "    </tr>\n",
       "    <tr>\n",
       "      <th>2024-08-31</th>\n",
       "      <td>-0.002045</td>\n",
       "      <td>-0.758266</td>\n",
       "      <td>-0.227393</td>\n",
       "      <td>-5.0</td>\n",
       "      <td>-4.0</td>\n",
       "    </tr>\n",
       "  </tbody>\n",
       "</table>\n",
       "</div>"
      ],
      "text/plain": [
       "                   A         B         C    D    f\n",
       "2024-08-24  0.000000  0.000000 -2.096441 -5.0  NaN\n",
       "2024-08-25 -0.012070 -1.445879 -2.331113 -5.0  NaN\n",
       "2024-08-26 -0.485586 -1.228904 -0.087372 -5.0  NaN\n",
       "2024-08-27 -1.002947 -0.352637 -0.088708 -5.0  NaN\n",
       "2024-08-28 -1.200074 -0.012750 -1.175856 -5.0 -1.0\n",
       "2024-08-29 -0.844610 -0.206573 -0.650745 -5.0 -2.0\n",
       "2024-08-30 -0.083206 -0.111281 -0.741105 -5.0 -3.0\n",
       "2024-08-31 -0.002045 -0.758266 -0.227393 -5.0 -4.0"
      ]
     },
     "execution_count": 81,
     "metadata": {},
     "output_type": "execute_result"
    }
   ],
   "source": [
    "df2"
   ]
  },
  {
   "cell_type": "markdown",
   "id": "26540b13-96b8-4b35-8296-edd91d4e70a8",
   "metadata": {},
   "source": [
    "# -------------------------------------------------------"
   ]
  },
  {
   "cell_type": "markdown",
   "id": "b6b20b34-1ede-4acc-9910-c1dce2c268be",
   "metadata": {},
   "source": [
    "# Missing data"
   ]
  },
  {
   "cell_type": "markdown",
   "id": "4098111c-e295-485e-9ad1-cde0c37015e6",
   "metadata": {},
   "source": [
    "For NumPy data types, np.nan represents missing data. It is by default not included in computations. See the Missing Data section."
   ]
  },
  {
   "cell_type": "markdown",
   "id": "901d013e-2f0b-4820-8993-88206ae906c2",
   "metadata": {},
   "source": [
    "# Reindexing allows you to change/add/delete the index on a specified axis. This returns a copy of the data:"
   ]
  },
  {
   "cell_type": "code",
   "execution_count": 82,
   "id": "63fe788a-1dca-4c6d-a192-000a2c056270",
   "metadata": {},
   "outputs": [],
   "source": [
    "df1 = df.reindex(index=dates[0:4], columns=list(df.columns) + [\"E\"])"
   ]
  },
  {
   "cell_type": "code",
   "execution_count": 83,
   "id": "328b6c45-52d7-4dcc-8e7c-f1fb86578f1c",
   "metadata": {},
   "outputs": [
    {
     "data": {
      "text/html": [
       "<div>\n",
       "<style scoped>\n",
       "    .dataframe tbody tr th:only-of-type {\n",
       "        vertical-align: middle;\n",
       "    }\n",
       "\n",
       "    .dataframe tbody tr th {\n",
       "        vertical-align: top;\n",
       "    }\n",
       "\n",
       "    .dataframe thead th {\n",
       "        text-align: right;\n",
       "    }\n",
       "</style>\n",
       "<table border=\"1\" class=\"dataframe\">\n",
       "  <thead>\n",
       "    <tr style=\"text-align: right;\">\n",
       "      <th></th>\n",
       "      <th>A</th>\n",
       "      <th>B</th>\n",
       "      <th>C</th>\n",
       "      <th>D</th>\n",
       "      <th>f</th>\n",
       "      <th>E</th>\n",
       "    </tr>\n",
       "  </thead>\n",
       "  <tbody>\n",
       "    <tr>\n",
       "      <th>2024-08-24</th>\n",
       "      <td>0.000000</td>\n",
       "      <td>0.000000</td>\n",
       "      <td>2.096441</td>\n",
       "      <td>5.0</td>\n",
       "      <td>NaN</td>\n",
       "      <td>NaN</td>\n",
       "    </tr>\n",
       "    <tr>\n",
       "      <th>2024-08-25</th>\n",
       "      <td>-0.012070</td>\n",
       "      <td>-1.445879</td>\n",
       "      <td>-2.331113</td>\n",
       "      <td>5.0</td>\n",
       "      <td>NaN</td>\n",
       "      <td>NaN</td>\n",
       "    </tr>\n",
       "    <tr>\n",
       "      <th>2024-08-26</th>\n",
       "      <td>-0.485586</td>\n",
       "      <td>-1.228904</td>\n",
       "      <td>-0.087372</td>\n",
       "      <td>5.0</td>\n",
       "      <td>NaN</td>\n",
       "      <td>NaN</td>\n",
       "    </tr>\n",
       "    <tr>\n",
       "      <th>2024-08-27</th>\n",
       "      <td>-1.002947</td>\n",
       "      <td>0.352637</td>\n",
       "      <td>0.088708</td>\n",
       "      <td>5.0</td>\n",
       "      <td>NaN</td>\n",
       "      <td>NaN</td>\n",
       "    </tr>\n",
       "  </tbody>\n",
       "</table>\n",
       "</div>"
      ],
      "text/plain": [
       "                   A         B         C    D   f   E\n",
       "2024-08-24  0.000000  0.000000  2.096441  5.0 NaN NaN\n",
       "2024-08-25 -0.012070 -1.445879 -2.331113  5.0 NaN NaN\n",
       "2024-08-26 -0.485586 -1.228904 -0.087372  5.0 NaN NaN\n",
       "2024-08-27 -1.002947  0.352637  0.088708  5.0 NaN NaN"
      ]
     },
     "execution_count": 83,
     "metadata": {},
     "output_type": "execute_result"
    }
   ],
   "source": [
    "df1"
   ]
  },
  {
   "cell_type": "code",
   "execution_count": 84,
   "id": "f5a4eba5-0bc2-4836-b0ac-ed8230b99a74",
   "metadata": {},
   "outputs": [],
   "source": [
    "df1.loc[dates[0] : dates[1], \"E\"]=1"
   ]
  },
  {
   "cell_type": "code",
   "execution_count": 85,
   "id": "965f24a6-0b39-4b1b-9998-9ab4b79174cd",
   "metadata": {},
   "outputs": [
    {
     "data": {
      "text/html": [
       "<div>\n",
       "<style scoped>\n",
       "    .dataframe tbody tr th:only-of-type {\n",
       "        vertical-align: middle;\n",
       "    }\n",
       "\n",
       "    .dataframe tbody tr th {\n",
       "        vertical-align: top;\n",
       "    }\n",
       "\n",
       "    .dataframe thead th {\n",
       "        text-align: right;\n",
       "    }\n",
       "</style>\n",
       "<table border=\"1\" class=\"dataframe\">\n",
       "  <thead>\n",
       "    <tr style=\"text-align: right;\">\n",
       "      <th></th>\n",
       "      <th>A</th>\n",
       "      <th>B</th>\n",
       "      <th>C</th>\n",
       "      <th>D</th>\n",
       "      <th>f</th>\n",
       "      <th>E</th>\n",
       "    </tr>\n",
       "  </thead>\n",
       "  <tbody>\n",
       "    <tr>\n",
       "      <th>2024-08-24</th>\n",
       "      <td>0.000000</td>\n",
       "      <td>0.000000</td>\n",
       "      <td>2.096441</td>\n",
       "      <td>5.0</td>\n",
       "      <td>NaN</td>\n",
       "      <td>1.0</td>\n",
       "    </tr>\n",
       "    <tr>\n",
       "      <th>2024-08-25</th>\n",
       "      <td>-0.012070</td>\n",
       "      <td>-1.445879</td>\n",
       "      <td>-2.331113</td>\n",
       "      <td>5.0</td>\n",
       "      <td>NaN</td>\n",
       "      <td>1.0</td>\n",
       "    </tr>\n",
       "    <tr>\n",
       "      <th>2024-08-26</th>\n",
       "      <td>-0.485586</td>\n",
       "      <td>-1.228904</td>\n",
       "      <td>-0.087372</td>\n",
       "      <td>5.0</td>\n",
       "      <td>NaN</td>\n",
       "      <td>NaN</td>\n",
       "    </tr>\n",
       "    <tr>\n",
       "      <th>2024-08-27</th>\n",
       "      <td>-1.002947</td>\n",
       "      <td>0.352637</td>\n",
       "      <td>0.088708</td>\n",
       "      <td>5.0</td>\n",
       "      <td>NaN</td>\n",
       "      <td>NaN</td>\n",
       "    </tr>\n",
       "  </tbody>\n",
       "</table>\n",
       "</div>"
      ],
      "text/plain": [
       "                   A         B         C    D   f    E\n",
       "2024-08-24  0.000000  0.000000  2.096441  5.0 NaN  1.0\n",
       "2024-08-25 -0.012070 -1.445879 -2.331113  5.0 NaN  1.0\n",
       "2024-08-26 -0.485586 -1.228904 -0.087372  5.0 NaN  NaN\n",
       "2024-08-27 -1.002947  0.352637  0.088708  5.0 NaN  NaN"
      ]
     },
     "execution_count": 85,
     "metadata": {},
     "output_type": "execute_result"
    }
   ],
   "source": [
    "df1"
   ]
  },
  {
   "cell_type": "markdown",
   "id": "f3bd2268-f7a2-43c3-b047-ee1bc9727cb9",
   "metadata": {},
   "source": [
    "# DataFrame.dropna() drops any rows that have missing data:"
   ]
  },
  {
   "cell_type": "code",
   "execution_count": 86,
   "id": "5d1688fe-b8c0-4815-8a60-b23ce80235bc",
   "metadata": {},
   "outputs": [
    {
     "data": {
      "text/html": [
       "<div>\n",
       "<style scoped>\n",
       "    .dataframe tbody tr th:only-of-type {\n",
       "        vertical-align: middle;\n",
       "    }\n",
       "\n",
       "    .dataframe tbody tr th {\n",
       "        vertical-align: top;\n",
       "    }\n",
       "\n",
       "    .dataframe thead th {\n",
       "        text-align: right;\n",
       "    }\n",
       "</style>\n",
       "<table border=\"1\" class=\"dataframe\">\n",
       "  <thead>\n",
       "    <tr style=\"text-align: right;\">\n",
       "      <th></th>\n",
       "      <th>A</th>\n",
       "      <th>B</th>\n",
       "      <th>C</th>\n",
       "      <th>D</th>\n",
       "      <th>f</th>\n",
       "      <th>E</th>\n",
       "    </tr>\n",
       "  </thead>\n",
       "  <tbody>\n",
       "  </tbody>\n",
       "</table>\n",
       "</div>"
      ],
      "text/plain": [
       "Empty DataFrame\n",
       "Columns: [A, B, C, D, f, E]\n",
       "Index: []"
      ]
     },
     "execution_count": 86,
     "metadata": {},
     "output_type": "execute_result"
    }
   ],
   "source": [
    "df1.dropna(how='any')"
   ]
  },
  {
   "cell_type": "markdown",
   "id": "9512a0fd-8912-40d1-a4f8-2802446cc0be",
   "metadata": {},
   "source": [
    "# DataFrame.fillna() fills missing data:"
   ]
  },
  {
   "cell_type": "code",
   "execution_count": 87,
   "id": "55dbf00b-89ec-4969-aa0c-969334ae7080",
   "metadata": {},
   "outputs": [
    {
     "data": {
      "text/html": [
       "<div>\n",
       "<style scoped>\n",
       "    .dataframe tbody tr th:only-of-type {\n",
       "        vertical-align: middle;\n",
       "    }\n",
       "\n",
       "    .dataframe tbody tr th {\n",
       "        vertical-align: top;\n",
       "    }\n",
       "\n",
       "    .dataframe thead th {\n",
       "        text-align: right;\n",
       "    }\n",
       "</style>\n",
       "<table border=\"1\" class=\"dataframe\">\n",
       "  <thead>\n",
       "    <tr style=\"text-align: right;\">\n",
       "      <th></th>\n",
       "      <th>A</th>\n",
       "      <th>B</th>\n",
       "      <th>C</th>\n",
       "      <th>D</th>\n",
       "      <th>f</th>\n",
       "      <th>E</th>\n",
       "    </tr>\n",
       "  </thead>\n",
       "  <tbody>\n",
       "    <tr>\n",
       "      <th>2024-08-24</th>\n",
       "      <td>0.000000</td>\n",
       "      <td>0.000000</td>\n",
       "      <td>2.096441</td>\n",
       "      <td>5.0</td>\n",
       "      <td>5.0</td>\n",
       "      <td>1.0</td>\n",
       "    </tr>\n",
       "    <tr>\n",
       "      <th>2024-08-25</th>\n",
       "      <td>-0.012070</td>\n",
       "      <td>-1.445879</td>\n",
       "      <td>-2.331113</td>\n",
       "      <td>5.0</td>\n",
       "      <td>5.0</td>\n",
       "      <td>1.0</td>\n",
       "    </tr>\n",
       "    <tr>\n",
       "      <th>2024-08-26</th>\n",
       "      <td>-0.485586</td>\n",
       "      <td>-1.228904</td>\n",
       "      <td>-0.087372</td>\n",
       "      <td>5.0</td>\n",
       "      <td>5.0</td>\n",
       "      <td>5.0</td>\n",
       "    </tr>\n",
       "    <tr>\n",
       "      <th>2024-08-27</th>\n",
       "      <td>-1.002947</td>\n",
       "      <td>0.352637</td>\n",
       "      <td>0.088708</td>\n",
       "      <td>5.0</td>\n",
       "      <td>5.0</td>\n",
       "      <td>5.0</td>\n",
       "    </tr>\n",
       "  </tbody>\n",
       "</table>\n",
       "</div>"
      ],
      "text/plain": [
       "                   A         B         C    D    f    E\n",
       "2024-08-24  0.000000  0.000000  2.096441  5.0  5.0  1.0\n",
       "2024-08-25 -0.012070 -1.445879 -2.331113  5.0  5.0  1.0\n",
       "2024-08-26 -0.485586 -1.228904 -0.087372  5.0  5.0  5.0\n",
       "2024-08-27 -1.002947  0.352637  0.088708  5.0  5.0  5.0"
      ]
     },
     "execution_count": 87,
     "metadata": {},
     "output_type": "execute_result"
    }
   ],
   "source": [
    "df1.fillna(value=5)"
   ]
  },
  {
   "cell_type": "markdown",
   "id": "8d168fe0-f233-49cc-8516-f4363dbd70d0",
   "metadata": {},
   "source": [
    "# isna() gets the boolean mask where values are nan:"
   ]
  },
  {
   "cell_type": "code",
   "execution_count": 88,
   "id": "6103db7b-13e2-4c66-8695-0c0c5691e25c",
   "metadata": {},
   "outputs": [
    {
     "data": {
      "text/html": [
       "<div>\n",
       "<style scoped>\n",
       "    .dataframe tbody tr th:only-of-type {\n",
       "        vertical-align: middle;\n",
       "    }\n",
       "\n",
       "    .dataframe tbody tr th {\n",
       "        vertical-align: top;\n",
       "    }\n",
       "\n",
       "    .dataframe thead th {\n",
       "        text-align: right;\n",
       "    }\n",
       "</style>\n",
       "<table border=\"1\" class=\"dataframe\">\n",
       "  <thead>\n",
       "    <tr style=\"text-align: right;\">\n",
       "      <th></th>\n",
       "      <th>A</th>\n",
       "      <th>B</th>\n",
       "      <th>C</th>\n",
       "      <th>D</th>\n",
       "      <th>f</th>\n",
       "      <th>E</th>\n",
       "    </tr>\n",
       "  </thead>\n",
       "  <tbody>\n",
       "    <tr>\n",
       "      <th>2024-08-24</th>\n",
       "      <td>False</td>\n",
       "      <td>False</td>\n",
       "      <td>False</td>\n",
       "      <td>False</td>\n",
       "      <td>True</td>\n",
       "      <td>False</td>\n",
       "    </tr>\n",
       "    <tr>\n",
       "      <th>2024-08-25</th>\n",
       "      <td>False</td>\n",
       "      <td>False</td>\n",
       "      <td>False</td>\n",
       "      <td>False</td>\n",
       "      <td>True</td>\n",
       "      <td>False</td>\n",
       "    </tr>\n",
       "    <tr>\n",
       "      <th>2024-08-26</th>\n",
       "      <td>False</td>\n",
       "      <td>False</td>\n",
       "      <td>False</td>\n",
       "      <td>False</td>\n",
       "      <td>True</td>\n",
       "      <td>True</td>\n",
       "    </tr>\n",
       "    <tr>\n",
       "      <th>2024-08-27</th>\n",
       "      <td>False</td>\n",
       "      <td>False</td>\n",
       "      <td>False</td>\n",
       "      <td>False</td>\n",
       "      <td>True</td>\n",
       "      <td>True</td>\n",
       "    </tr>\n",
       "  </tbody>\n",
       "</table>\n",
       "</div>"
      ],
      "text/plain": [
       "                A      B      C      D     f      E\n",
       "2024-08-24  False  False  False  False  True  False\n",
       "2024-08-25  False  False  False  False  True  False\n",
       "2024-08-26  False  False  False  False  True   True\n",
       "2024-08-27  False  False  False  False  True   True"
      ]
     },
     "execution_count": 88,
     "metadata": {},
     "output_type": "execute_result"
    }
   ],
   "source": [
    "pd.isna(df1)"
   ]
  },
  {
   "cell_type": "markdown",
   "id": "038e35af-8b16-4f7b-81cd-b1aaef01c22d",
   "metadata": {},
   "source": [
    "# Operations"
   ]
  },
  {
   "cell_type": "markdown",
   "id": "10f939f8-a676-4115-bd67-514aa105a678",
   "metadata": {},
   "source": [
    "# Stats\n",
    "\n",
    "Operations in general exclude missing data"
   ]
  },
  {
   "cell_type": "markdown",
   "id": "33d2fac4-7d07-4f3c-bea5-0dd2bdba3c45",
   "metadata": {},
   "source": [
    "# Calculate the mean value for each column:"
   ]
  },
  {
   "cell_type": "code",
   "execution_count": 89,
   "id": "5be3fffd-231c-43a8-a366-6456bb8da8a8",
   "metadata": {},
   "outputs": [
    {
     "data": {
      "text/plain": [
       "A   -0.242153\n",
       "B   -0.208990\n",
       "C    0.157534\n",
       "D    5.000000\n",
       "f    2.500000\n",
       "dtype: float64"
      ]
     },
     "execution_count": 89,
     "metadata": {},
     "output_type": "execute_result"
    }
   ],
   "source": [
    "df.mean()"
   ]
  },
  {
   "cell_type": "markdown",
   "id": "49cdda03-4b96-452a-978c-cd1614080cc8",
   "metadata": {},
   "source": [
    "# Calculate the mean value for each row:"
   ]
  },
  {
   "cell_type": "code",
   "execution_count": 90,
   "id": "4f4400fc-303e-4897-be2e-f48daaf6818c",
   "metadata": {},
   "outputs": [
    {
     "data": {
      "text/plain": [
       "2024-08-24    1.774110\n",
       "2024-08-25    0.302735\n",
       "2024-08-26    0.799535\n",
       "2024-08-27    1.109599\n",
       "2024-08-28    1.192606\n",
       "2024-08-29    1.397459\n",
       "2024-08-30    1.753836\n",
       "2024-08-31    1.997541\n",
       "Freq: D, dtype: float64"
      ]
     },
     "execution_count": 90,
     "metadata": {},
     "output_type": "execute_result"
    }
   ],
   "source": [
    "df.mean(axis=1)"
   ]
  },
  {
   "cell_type": "markdown",
   "id": "0a2146f4-4466-4d13-b7f6-458bd8480500",
   "metadata": {},
   "source": [
    "When operating with another dataframe with diffent index and column will align result with union of the index or column lable ,in adding pandas brodcast alog the specified dimenstion and filed lable with unline labled with np.nan"
   ]
  },
  {
   "cell_type": "code",
   "execution_count": 91,
   "id": "7b8db28c-538d-4f57-a816-7f8e5ba9735b",
   "metadata": {},
   "outputs": [],
   "source": [
    "s = pd.Series([1,3,5,np.nan,6,8,7,8], index=dates).shift(2)"
   ]
  },
  {
   "cell_type": "code",
   "execution_count": 92,
   "id": "c5682995-08b4-4263-9565-0327d97fa399",
   "metadata": {},
   "outputs": [
    {
     "data": {
      "text/plain": [
       "2024-08-24    NaN\n",
       "2024-08-25    NaN\n",
       "2024-08-26    1.0\n",
       "2024-08-27    3.0\n",
       "2024-08-28    5.0\n",
       "2024-08-29    NaN\n",
       "2024-08-30    6.0\n",
       "2024-08-31    8.0\n",
       "Freq: D, dtype: float64"
      ]
     },
     "execution_count": 92,
     "metadata": {},
     "output_type": "execute_result"
    }
   ],
   "source": [
    "s"
   ]
  },
  {
   "cell_type": "code",
   "execution_count": 93,
   "id": "b11960ca-40c4-4dbf-a8d5-c24305abbd40",
   "metadata": {},
   "outputs": [
    {
     "data": {
      "text/html": [
       "<div>\n",
       "<style scoped>\n",
       "    .dataframe tbody tr th:only-of-type {\n",
       "        vertical-align: middle;\n",
       "    }\n",
       "\n",
       "    .dataframe tbody tr th {\n",
       "        vertical-align: top;\n",
       "    }\n",
       "\n",
       "    .dataframe thead th {\n",
       "        text-align: right;\n",
       "    }\n",
       "</style>\n",
       "<table border=\"1\" class=\"dataframe\">\n",
       "  <thead>\n",
       "    <tr style=\"text-align: right;\">\n",
       "      <th></th>\n",
       "      <th>A</th>\n",
       "      <th>B</th>\n",
       "      <th>C</th>\n",
       "      <th>D</th>\n",
       "      <th>f</th>\n",
       "    </tr>\n",
       "  </thead>\n",
       "  <tbody>\n",
       "    <tr>\n",
       "      <th>2024-08-24</th>\n",
       "      <td>NaN</td>\n",
       "      <td>NaN</td>\n",
       "      <td>NaN</td>\n",
       "      <td>NaN</td>\n",
       "      <td>NaN</td>\n",
       "    </tr>\n",
       "    <tr>\n",
       "      <th>2024-08-25</th>\n",
       "      <td>NaN</td>\n",
       "      <td>NaN</td>\n",
       "      <td>NaN</td>\n",
       "      <td>NaN</td>\n",
       "      <td>NaN</td>\n",
       "    </tr>\n",
       "    <tr>\n",
       "      <th>2024-08-26</th>\n",
       "      <td>-1.485586</td>\n",
       "      <td>-2.228904</td>\n",
       "      <td>-1.087372</td>\n",
       "      <td>4.0</td>\n",
       "      <td>NaN</td>\n",
       "    </tr>\n",
       "    <tr>\n",
       "      <th>2024-08-27</th>\n",
       "      <td>-4.002947</td>\n",
       "      <td>-2.647363</td>\n",
       "      <td>-2.911292</td>\n",
       "      <td>2.0</td>\n",
       "      <td>NaN</td>\n",
       "    </tr>\n",
       "    <tr>\n",
       "      <th>2024-08-28</th>\n",
       "      <td>-6.200074</td>\n",
       "      <td>-5.012750</td>\n",
       "      <td>-3.824144</td>\n",
       "      <td>0.0</td>\n",
       "      <td>-4.0</td>\n",
       "    </tr>\n",
       "    <tr>\n",
       "      <th>2024-08-29</th>\n",
       "      <td>NaN</td>\n",
       "      <td>NaN</td>\n",
       "      <td>NaN</td>\n",
       "      <td>NaN</td>\n",
       "      <td>NaN</td>\n",
       "    </tr>\n",
       "    <tr>\n",
       "      <th>2024-08-30</th>\n",
       "      <td>-6.083206</td>\n",
       "      <td>-5.888719</td>\n",
       "      <td>-5.258895</td>\n",
       "      <td>-1.0</td>\n",
       "      <td>-3.0</td>\n",
       "    </tr>\n",
       "    <tr>\n",
       "      <th>2024-08-31</th>\n",
       "      <td>-7.997955</td>\n",
       "      <td>-7.241734</td>\n",
       "      <td>-7.772607</td>\n",
       "      <td>-3.0</td>\n",
       "      <td>-4.0</td>\n",
       "    </tr>\n",
       "  </tbody>\n",
       "</table>\n",
       "</div>"
      ],
      "text/plain": [
       "                   A         B         C    D    f\n",
       "2024-08-24       NaN       NaN       NaN  NaN  NaN\n",
       "2024-08-25       NaN       NaN       NaN  NaN  NaN\n",
       "2024-08-26 -1.485586 -2.228904 -1.087372  4.0  NaN\n",
       "2024-08-27 -4.002947 -2.647363 -2.911292  2.0  NaN\n",
       "2024-08-28 -6.200074 -5.012750 -3.824144  0.0 -4.0\n",
       "2024-08-29       NaN       NaN       NaN  NaN  NaN\n",
       "2024-08-30 -6.083206 -5.888719 -5.258895 -1.0 -3.0\n",
       "2024-08-31 -7.997955 -7.241734 -7.772607 -3.0 -4.0"
      ]
     },
     "execution_count": 93,
     "metadata": {},
     "output_type": "execute_result"
    }
   ],
   "source": [
    "df.sub(s,axis=\"index\")"
   ]
  },
  {
   "cell_type": "markdown",
   "id": "64987648-beae-4bf2-82e3-a4bbbe424428",
   "metadata": {},
   "source": [
    "# User defined functions"
   ]
  },
  {
   "cell_type": "markdown",
   "id": "351471de-4662-4414-a777-e6054191e301",
   "metadata": {},
   "source": [
    "# DateFrame.agg() and DateFrame.transform()  apply a user defined funtion tha reduced or braodcast it result respectively."
   ]
  },
  {
   "cell_type": "code",
   "execution_count": 94,
   "id": "0dcd2b7d-381a-42a8-a4c8-ca1d748cedea",
   "metadata": {},
   "outputs": [
    {
     "data": {
      "text/plain": [
       "A    -1.356059\n",
       "B    -1.170345\n",
       "C     0.882192\n",
       "D    28.000000\n",
       "f    14.000000\n",
       "dtype: float64"
      ]
     },
     "execution_count": 94,
     "metadata": {},
     "output_type": "execute_result"
    }
   ],
   "source": [
    "df.agg(lambda x : np.mean(x) *5.6)"
   ]
  },
  {
   "cell_type": "code",
   "execution_count": 95,
   "id": "0a876f23-6898-4cb3-8c25-fc9d702ac2d8",
   "metadata": {},
   "outputs": [
    {
     "data": {
      "text/html": [
       "<div>\n",
       "<style scoped>\n",
       "    .dataframe tbody tr th:only-of-type {\n",
       "        vertical-align: middle;\n",
       "    }\n",
       "\n",
       "    .dataframe tbody tr th {\n",
       "        vertical-align: top;\n",
       "    }\n",
       "\n",
       "    .dataframe thead th {\n",
       "        text-align: right;\n",
       "    }\n",
       "</style>\n",
       "<table border=\"1\" class=\"dataframe\">\n",
       "  <thead>\n",
       "    <tr style=\"text-align: right;\">\n",
       "      <th></th>\n",
       "      <th>A</th>\n",
       "      <th>B</th>\n",
       "      <th>C</th>\n",
       "      <th>D</th>\n",
       "      <th>f</th>\n",
       "    </tr>\n",
       "  </thead>\n",
       "  <tbody>\n",
       "    <tr>\n",
       "      <th>2024-08-24</th>\n",
       "      <td>0.000000</td>\n",
       "      <td>0.000000</td>\n",
       "      <td>212.159866</td>\n",
       "      <td>506.0</td>\n",
       "      <td>NaN</td>\n",
       "    </tr>\n",
       "    <tr>\n",
       "      <th>2024-08-25</th>\n",
       "      <td>-1.221479</td>\n",
       "      <td>-146.322957</td>\n",
       "      <td>-235.908623</td>\n",
       "      <td>506.0</td>\n",
       "      <td>NaN</td>\n",
       "    </tr>\n",
       "    <tr>\n",
       "      <th>2024-08-26</th>\n",
       "      <td>-49.141259</td>\n",
       "      <td>-124.365057</td>\n",
       "      <td>-8.842014</td>\n",
       "      <td>506.0</td>\n",
       "      <td>NaN</td>\n",
       "    </tr>\n",
       "    <tr>\n",
       "      <th>2024-08-27</th>\n",
       "      <td>-101.498265</td>\n",
       "      <td>35.686840</td>\n",
       "      <td>8.977251</td>\n",
       "      <td>506.0</td>\n",
       "      <td>NaN</td>\n",
       "    </tr>\n",
       "    <tr>\n",
       "      <th>2024-08-28</th>\n",
       "      <td>-121.447501</td>\n",
       "      <td>-1.290304</td>\n",
       "      <td>118.996622</td>\n",
       "      <td>506.0</td>\n",
       "      <td>101.2</td>\n",
       "    </tr>\n",
       "    <tr>\n",
       "      <th>2024-08-29</th>\n",
       "      <td>85.474578</td>\n",
       "      <td>-20.905176</td>\n",
       "      <td>-65.855348</td>\n",
       "      <td>506.0</td>\n",
       "      <td>202.4</td>\n",
       "    </tr>\n",
       "    <tr>\n",
       "      <th>2024-08-30</th>\n",
       "      <td>-8.420445</td>\n",
       "      <td>11.261677</td>\n",
       "      <td>74.999845</td>\n",
       "      <td>506.0</td>\n",
       "      <td>303.6</td>\n",
       "    </tr>\n",
       "    <tr>\n",
       "      <th>2024-08-31</th>\n",
       "      <td>0.206935</td>\n",
       "      <td>76.736540</td>\n",
       "      <td>23.012174</td>\n",
       "      <td>506.0</td>\n",
       "      <td>404.8</td>\n",
       "    </tr>\n",
       "  </tbody>\n",
       "</table>\n",
       "</div>"
      ],
      "text/plain": [
       "                     A           B           C      D      f\n",
       "2024-08-24    0.000000    0.000000  212.159866  506.0    NaN\n",
       "2024-08-25   -1.221479 -146.322957 -235.908623  506.0    NaN\n",
       "2024-08-26  -49.141259 -124.365057   -8.842014  506.0    NaN\n",
       "2024-08-27 -101.498265   35.686840    8.977251  506.0    NaN\n",
       "2024-08-28 -121.447501   -1.290304  118.996622  506.0  101.2\n",
       "2024-08-29   85.474578  -20.905176  -65.855348  506.0  202.4\n",
       "2024-08-30   -8.420445   11.261677   74.999845  506.0  303.6\n",
       "2024-08-31    0.206935   76.736540   23.012174  506.0  404.8"
      ]
     },
     "execution_count": 95,
     "metadata": {},
     "output_type": "execute_result"
    }
   ],
   "source": [
    "df.transform(lambda x : x * 101.2 )"
   ]
  },
  {
   "cell_type": "markdown",
   "id": "dbd6790f-7dec-4cae-b6b0-c14126731800",
   "metadata": {},
   "source": [
    "# Value Counts"
   ]
  },
  {
   "cell_type": "code",
   "execution_count": 96,
   "id": "37964ed4-2378-469b-a98b-76a1634b089f",
   "metadata": {},
   "outputs": [],
   "source": [
    "s = pd.Series(np.random.randint(0, 7 , size=10))"
   ]
  },
  {
   "cell_type": "code",
   "execution_count": 97,
   "id": "9593f84e-6a2d-43fe-bcb9-a1d0b7ca1c28",
   "metadata": {},
   "outputs": [
    {
     "data": {
      "text/plain": [
       "0    1\n",
       "1    3\n",
       "2    6\n",
       "3    2\n",
       "4    0\n",
       "5    6\n",
       "6    0\n",
       "7    4\n",
       "8    1\n",
       "9    3\n",
       "dtype: int32"
      ]
     },
     "execution_count": 97,
     "metadata": {},
     "output_type": "execute_result"
    }
   ],
   "source": [
    "s"
   ]
  },
  {
   "cell_type": "code",
   "execution_count": 98,
   "id": "27ffad36-3153-48ca-8310-3312a4b121a2",
   "metadata": {},
   "outputs": [
    {
     "data": {
      "text/plain": [
       "1    2\n",
       "3    2\n",
       "6    2\n",
       "0    2\n",
       "2    1\n",
       "4    1\n",
       "Name: count, dtype: int64"
      ]
     },
     "execution_count": 98,
     "metadata": {},
     "output_type": "execute_result"
    }
   ],
   "source": [
    "s.value_counts()"
   ]
  },
  {
   "cell_type": "markdown",
   "id": "05d691ed-fccf-45dd-937e-71d6db992a24",
   "metadata": {},
   "source": [
    "# String Methods"
   ]
  },
  {
   "cell_type": "markdown",
   "id": "019c712d-0568-4db7-a07b-65cfa7c5e38c",
   "metadata": {},
   "source": [
    "series has some set of methods in str attribue that will easy to operate on each and every element of array"
   ]
  },
  {
   "cell_type": "code",
   "execution_count": 99,
   "id": "bfab1f96-143c-48b2-b48d-65da2fdca2f8",
   "metadata": {},
   "outputs": [],
   "source": [
    "s = pd.Series([\"A\", \"B\", \"C\", \"ABC\", np.nan, \"cddfe\", \"CBA\", \"cba\" ])"
   ]
  },
  {
   "cell_type": "code",
   "execution_count": 100,
   "id": "aa11a2f4-3832-4ba1-835c-f2b491496399",
   "metadata": {},
   "outputs": [
    {
     "data": {
      "text/plain": [
       "0        A\n",
       "1        B\n",
       "2        C\n",
       "3      ABC\n",
       "4      NaN\n",
       "5    cddfe\n",
       "6      CBA\n",
       "7      cba\n",
       "dtype: object"
      ]
     },
     "execution_count": 100,
     "metadata": {},
     "output_type": "execute_result"
    }
   ],
   "source": [
    "s"
   ]
  },
  {
   "cell_type": "code",
   "execution_count": 101,
   "id": "5b95372a-9d58-49d7-b14f-caeaecf35f7c",
   "metadata": {},
   "outputs": [
    {
     "data": {
      "text/plain": [
       "0        a\n",
       "1        b\n",
       "2        c\n",
       "3      abc\n",
       "4      NaN\n",
       "5    cddfe\n",
       "6      cba\n",
       "7      cba\n",
       "dtype: object"
      ]
     },
     "execution_count": 101,
     "metadata": {},
     "output_type": "execute_result"
    }
   ],
   "source": [
    "s.str.lower()"
   ]
  },
  {
   "cell_type": "markdown",
   "id": "a39e7470-d84f-4727-9b3e-50d48adb0f36",
   "metadata": {},
   "source": [
    "# Merge"
   ]
  },
  {
   "cell_type": "markdown",
   "id": "2a3738bf-8f62-45dd-a8f2-cffb11008585",
   "metadata": {},
   "source": [
    "# concat"
   ]
  },
  {
   "cell_type": "markdown",
   "id": "e9bf5498-0b0d-49a0-9b1e-803761766dff",
   "metadata": {},
   "source": [
    " pandas provide facility to easly combine series datframe object wihr set of some logics the indexes and relational algebra functionality in the case of join / merge-type operations."
   ]
  },
  {
   "cell_type": "markdown",
   "id": "62f2ce9d-cd04-4538-9fcd-f4a9f409574c",
   "metadata": {},
   "source": [
    "# Concatenating pandas objects together row-wise with concat():"
   ]
  },
  {
   "cell_type": "code",
   "execution_count": 102,
   "id": "2d015e6c-d951-4b33-b976-3df28171b5d9",
   "metadata": {},
   "outputs": [],
   "source": [
    "df  = pd.DataFrame(np.random.randn(10, 4))"
   ]
  },
  {
   "cell_type": "code",
   "execution_count": 103,
   "id": "49ce8418-6e73-42eb-b99c-ac9661420e5a",
   "metadata": {},
   "outputs": [
    {
     "data": {
      "text/html": [
       "<div>\n",
       "<style scoped>\n",
       "    .dataframe tbody tr th:only-of-type {\n",
       "        vertical-align: middle;\n",
       "    }\n",
       "\n",
       "    .dataframe tbody tr th {\n",
       "        vertical-align: top;\n",
       "    }\n",
       "\n",
       "    .dataframe thead th {\n",
       "        text-align: right;\n",
       "    }\n",
       "</style>\n",
       "<table border=\"1\" class=\"dataframe\">\n",
       "  <thead>\n",
       "    <tr style=\"text-align: right;\">\n",
       "      <th></th>\n",
       "      <th>0</th>\n",
       "      <th>1</th>\n",
       "      <th>2</th>\n",
       "      <th>3</th>\n",
       "    </tr>\n",
       "  </thead>\n",
       "  <tbody>\n",
       "    <tr>\n",
       "      <th>0</th>\n",
       "      <td>0.224781</td>\n",
       "      <td>-0.061970</td>\n",
       "      <td>-0.218245</td>\n",
       "      <td>-0.380740</td>\n",
       "    </tr>\n",
       "    <tr>\n",
       "      <th>1</th>\n",
       "      <td>1.580293</td>\n",
       "      <td>-0.019790</td>\n",
       "      <td>-0.994003</td>\n",
       "      <td>-2.009322</td>\n",
       "    </tr>\n",
       "    <tr>\n",
       "      <th>2</th>\n",
       "      <td>0.079680</td>\n",
       "      <td>-0.062576</td>\n",
       "      <td>-0.919110</td>\n",
       "      <td>-0.291828</td>\n",
       "    </tr>\n",
       "    <tr>\n",
       "      <th>3</th>\n",
       "      <td>-0.506243</td>\n",
       "      <td>1.759041</td>\n",
       "      <td>0.094370</td>\n",
       "      <td>-0.039795</td>\n",
       "    </tr>\n",
       "    <tr>\n",
       "      <th>4</th>\n",
       "      <td>0.506807</td>\n",
       "      <td>-0.953568</td>\n",
       "      <td>1.068022</td>\n",
       "      <td>-0.290955</td>\n",
       "    </tr>\n",
       "    <tr>\n",
       "      <th>5</th>\n",
       "      <td>-0.866885</td>\n",
       "      <td>-0.428479</td>\n",
       "      <td>-1.294554</td>\n",
       "      <td>0.428869</td>\n",
       "    </tr>\n",
       "    <tr>\n",
       "      <th>6</th>\n",
       "      <td>0.290618</td>\n",
       "      <td>0.330683</td>\n",
       "      <td>-0.103341</td>\n",
       "      <td>0.641319</td>\n",
       "    </tr>\n",
       "    <tr>\n",
       "      <th>7</th>\n",
       "      <td>0.904335</td>\n",
       "      <td>0.509974</td>\n",
       "      <td>1.496831</td>\n",
       "      <td>0.844201</td>\n",
       "    </tr>\n",
       "    <tr>\n",
       "      <th>8</th>\n",
       "      <td>-1.733721</td>\n",
       "      <td>0.775409</td>\n",
       "      <td>-0.808348</td>\n",
       "      <td>0.106304</td>\n",
       "    </tr>\n",
       "    <tr>\n",
       "      <th>9</th>\n",
       "      <td>-1.928312</td>\n",
       "      <td>-0.221968</td>\n",
       "      <td>0.766765</td>\n",
       "      <td>0.676316</td>\n",
       "    </tr>\n",
       "  </tbody>\n",
       "</table>\n",
       "</div>"
      ],
      "text/plain": [
       "          0         1         2         3\n",
       "0  0.224781 -0.061970 -0.218245 -0.380740\n",
       "1  1.580293 -0.019790 -0.994003 -2.009322\n",
       "2  0.079680 -0.062576 -0.919110 -0.291828\n",
       "3 -0.506243  1.759041  0.094370 -0.039795\n",
       "4  0.506807 -0.953568  1.068022 -0.290955\n",
       "5 -0.866885 -0.428479 -1.294554  0.428869\n",
       "6  0.290618  0.330683 -0.103341  0.641319\n",
       "7  0.904335  0.509974  1.496831  0.844201\n",
       "8 -1.733721  0.775409 -0.808348  0.106304\n",
       "9 -1.928312 -0.221968  0.766765  0.676316"
      ]
     },
     "execution_count": 103,
     "metadata": {},
     "output_type": "execute_result"
    }
   ],
   "source": [
    "df"
   ]
  },
  {
   "cell_type": "code",
   "execution_count": 104,
   "id": "a9ed2727-c137-47f0-aa63-23e94fd6d414",
   "metadata": {},
   "outputs": [],
   "source": [
    "# Breck into pices\n",
    "pieces = [df[:3], df[3:7], df[7:]]"
   ]
  },
  {
   "cell_type": "code",
   "execution_count": 105,
   "id": "de3e9c0f-c9b6-4e57-a767-a5a4497bdd6d",
   "metadata": {},
   "outputs": [
    {
     "data": {
      "text/plain": [
       "[          0         1         2         3\n",
       " 0  0.224781 -0.061970 -0.218245 -0.380740\n",
       " 1  1.580293 -0.019790 -0.994003 -2.009322\n",
       " 2  0.079680 -0.062576 -0.919110 -0.291828,\n",
       "           0         1         2         3\n",
       " 3 -0.506243  1.759041  0.094370 -0.039795\n",
       " 4  0.506807 -0.953568  1.068022 -0.290955\n",
       " 5 -0.866885 -0.428479 -1.294554  0.428869\n",
       " 6  0.290618  0.330683 -0.103341  0.641319,\n",
       "           0         1         2         3\n",
       " 7  0.904335  0.509974  1.496831  0.844201\n",
       " 8 -1.733721  0.775409 -0.808348  0.106304\n",
       " 9 -1.928312 -0.221968  0.766765  0.676316]"
      ]
     },
     "execution_count": 105,
     "metadata": {},
     "output_type": "execute_result"
    }
   ],
   "source": [
    "pieces"
   ]
  },
  {
   "cell_type": "code",
   "execution_count": 106,
   "id": "92fbf13a-2edc-4517-81e9-688bc0db3268",
   "metadata": {},
   "outputs": [
    {
     "data": {
      "text/html": [
       "<div>\n",
       "<style scoped>\n",
       "    .dataframe tbody tr th:only-of-type {\n",
       "        vertical-align: middle;\n",
       "    }\n",
       "\n",
       "    .dataframe tbody tr th {\n",
       "        vertical-align: top;\n",
       "    }\n",
       "\n",
       "    .dataframe thead th {\n",
       "        text-align: right;\n",
       "    }\n",
       "</style>\n",
       "<table border=\"1\" class=\"dataframe\">\n",
       "  <thead>\n",
       "    <tr style=\"text-align: right;\">\n",
       "      <th></th>\n",
       "      <th>0</th>\n",
       "      <th>1</th>\n",
       "      <th>2</th>\n",
       "      <th>3</th>\n",
       "    </tr>\n",
       "  </thead>\n",
       "  <tbody>\n",
       "    <tr>\n",
       "      <th>0</th>\n",
       "      <td>0.224781</td>\n",
       "      <td>-0.061970</td>\n",
       "      <td>-0.218245</td>\n",
       "      <td>-0.380740</td>\n",
       "    </tr>\n",
       "    <tr>\n",
       "      <th>1</th>\n",
       "      <td>1.580293</td>\n",
       "      <td>-0.019790</td>\n",
       "      <td>-0.994003</td>\n",
       "      <td>-2.009322</td>\n",
       "    </tr>\n",
       "    <tr>\n",
       "      <th>2</th>\n",
       "      <td>0.079680</td>\n",
       "      <td>-0.062576</td>\n",
       "      <td>-0.919110</td>\n",
       "      <td>-0.291828</td>\n",
       "    </tr>\n",
       "    <tr>\n",
       "      <th>3</th>\n",
       "      <td>-0.506243</td>\n",
       "      <td>1.759041</td>\n",
       "      <td>0.094370</td>\n",
       "      <td>-0.039795</td>\n",
       "    </tr>\n",
       "    <tr>\n",
       "      <th>4</th>\n",
       "      <td>0.506807</td>\n",
       "      <td>-0.953568</td>\n",
       "      <td>1.068022</td>\n",
       "      <td>-0.290955</td>\n",
       "    </tr>\n",
       "    <tr>\n",
       "      <th>5</th>\n",
       "      <td>-0.866885</td>\n",
       "      <td>-0.428479</td>\n",
       "      <td>-1.294554</td>\n",
       "      <td>0.428869</td>\n",
       "    </tr>\n",
       "    <tr>\n",
       "      <th>6</th>\n",
       "      <td>0.290618</td>\n",
       "      <td>0.330683</td>\n",
       "      <td>-0.103341</td>\n",
       "      <td>0.641319</td>\n",
       "    </tr>\n",
       "    <tr>\n",
       "      <th>7</th>\n",
       "      <td>0.904335</td>\n",
       "      <td>0.509974</td>\n",
       "      <td>1.496831</td>\n",
       "      <td>0.844201</td>\n",
       "    </tr>\n",
       "    <tr>\n",
       "      <th>8</th>\n",
       "      <td>-1.733721</td>\n",
       "      <td>0.775409</td>\n",
       "      <td>-0.808348</td>\n",
       "      <td>0.106304</td>\n",
       "    </tr>\n",
       "    <tr>\n",
       "      <th>9</th>\n",
       "      <td>-1.928312</td>\n",
       "      <td>-0.221968</td>\n",
       "      <td>0.766765</td>\n",
       "      <td>0.676316</td>\n",
       "    </tr>\n",
       "  </tbody>\n",
       "</table>\n",
       "</div>"
      ],
      "text/plain": [
       "          0         1         2         3\n",
       "0  0.224781 -0.061970 -0.218245 -0.380740\n",
       "1  1.580293 -0.019790 -0.994003 -2.009322\n",
       "2  0.079680 -0.062576 -0.919110 -0.291828\n",
       "3 -0.506243  1.759041  0.094370 -0.039795\n",
       "4  0.506807 -0.953568  1.068022 -0.290955\n",
       "5 -0.866885 -0.428479 -1.294554  0.428869\n",
       "6  0.290618  0.330683 -0.103341  0.641319\n",
       "7  0.904335  0.509974  1.496831  0.844201\n",
       "8 -1.733721  0.775409 -0.808348  0.106304\n",
       "9 -1.928312 -0.221968  0.766765  0.676316"
      ]
     },
     "execution_count": 106,
     "metadata": {},
     "output_type": "execute_result"
    }
   ],
   "source": [
    "pd.concat(pieces)"
   ]
  },
  {
   "cell_type": "markdown",
   "id": "1490c15a-7d6d-4097-a967-e53af04f70d1",
   "metadata": {},
   "source": [
    "# Note\n",
    "    Adding a column to a DataFrame is relatively fast. However, adding a row requires a copy, and may be expensive and  recommend passing a pre-built list of records to the DataFrame constructor instead of building a DataFrame by iteratively appending records to it"
   ]
  },
  {
   "cell_type": "markdown",
   "id": "f95fc18f-9829-44bd-bb20-378244861e71",
   "metadata": {},
   "source": [
    "# Join"
   ]
  },
  {
   "cell_type": "markdown",
   "id": "cb1a0518-e4d4-404a-aa38-a12f013ecf8e",
   "metadata": {},
   "source": [
    "# merge() enable sql style join types alog with specific column "
   ]
  },
  {
   "cell_type": "code",
   "execution_count": 107,
   "id": "71f3fcb6-e2ba-490b-a879-1dba3a007a0b",
   "metadata": {},
   "outputs": [],
   "source": [
    "left = pd.DataFrame({\"key\": [\"foo\", \"foo\"], \"lval\": [1, 2]})\n",
    "\n",
    "right = pd.DataFrame({\"key\": [\"foo\", \"foo\"], \"rval\": [4, 5]})\n"
   ]
  },
  {
   "cell_type": "code",
   "execution_count": 108,
   "id": "92b7b9e8-0bcb-4a8e-b217-6e6907cc8f9d",
   "metadata": {},
   "outputs": [
    {
     "data": {
      "text/html": [
       "<div>\n",
       "<style scoped>\n",
       "    .dataframe tbody tr th:only-of-type {\n",
       "        vertical-align: middle;\n",
       "    }\n",
       "\n",
       "    .dataframe tbody tr th {\n",
       "        vertical-align: top;\n",
       "    }\n",
       "\n",
       "    .dataframe thead th {\n",
       "        text-align: right;\n",
       "    }\n",
       "</style>\n",
       "<table border=\"1\" class=\"dataframe\">\n",
       "  <thead>\n",
       "    <tr style=\"text-align: right;\">\n",
       "      <th></th>\n",
       "      <th>key</th>\n",
       "      <th>lval</th>\n",
       "    </tr>\n",
       "  </thead>\n",
       "  <tbody>\n",
       "    <tr>\n",
       "      <th>0</th>\n",
       "      <td>foo</td>\n",
       "      <td>1</td>\n",
       "    </tr>\n",
       "    <tr>\n",
       "      <th>1</th>\n",
       "      <td>foo</td>\n",
       "      <td>2</td>\n",
       "    </tr>\n",
       "  </tbody>\n",
       "</table>\n",
       "</div>"
      ],
      "text/plain": [
       "   key  lval\n",
       "0  foo     1\n",
       "1  foo     2"
      ]
     },
     "execution_count": 108,
     "metadata": {},
     "output_type": "execute_result"
    }
   ],
   "source": [
    "left"
   ]
  },
  {
   "cell_type": "code",
   "execution_count": 109,
   "id": "5675b1df-5e2f-47f8-8a47-9a051b7b8dc6",
   "metadata": {},
   "outputs": [
    {
     "data": {
      "text/html": [
       "<div>\n",
       "<style scoped>\n",
       "    .dataframe tbody tr th:only-of-type {\n",
       "        vertical-align: middle;\n",
       "    }\n",
       "\n",
       "    .dataframe tbody tr th {\n",
       "        vertical-align: top;\n",
       "    }\n",
       "\n",
       "    .dataframe thead th {\n",
       "        text-align: right;\n",
       "    }\n",
       "</style>\n",
       "<table border=\"1\" class=\"dataframe\">\n",
       "  <thead>\n",
       "    <tr style=\"text-align: right;\">\n",
       "      <th></th>\n",
       "      <th>key</th>\n",
       "      <th>rval</th>\n",
       "    </tr>\n",
       "  </thead>\n",
       "  <tbody>\n",
       "    <tr>\n",
       "      <th>0</th>\n",
       "      <td>foo</td>\n",
       "      <td>4</td>\n",
       "    </tr>\n",
       "    <tr>\n",
       "      <th>1</th>\n",
       "      <td>foo</td>\n",
       "      <td>5</td>\n",
       "    </tr>\n",
       "  </tbody>\n",
       "</table>\n",
       "</div>"
      ],
      "text/plain": [
       "   key  rval\n",
       "0  foo     4\n",
       "1  foo     5"
      ]
     },
     "execution_count": 109,
     "metadata": {},
     "output_type": "execute_result"
    }
   ],
   "source": [
    "right"
   ]
  },
  {
   "cell_type": "code",
   "execution_count": 110,
   "id": "695eb269-4c05-4fe7-a4a5-f7c5fdecb105",
   "metadata": {},
   "outputs": [
    {
     "data": {
      "text/html": [
       "<div>\n",
       "<style scoped>\n",
       "    .dataframe tbody tr th:only-of-type {\n",
       "        vertical-align: middle;\n",
       "    }\n",
       "\n",
       "    .dataframe tbody tr th {\n",
       "        vertical-align: top;\n",
       "    }\n",
       "\n",
       "    .dataframe thead th {\n",
       "        text-align: right;\n",
       "    }\n",
       "</style>\n",
       "<table border=\"1\" class=\"dataframe\">\n",
       "  <thead>\n",
       "    <tr style=\"text-align: right;\">\n",
       "      <th></th>\n",
       "      <th>key</th>\n",
       "      <th>lval</th>\n",
       "      <th>rval</th>\n",
       "    </tr>\n",
       "  </thead>\n",
       "  <tbody>\n",
       "    <tr>\n",
       "      <th>0</th>\n",
       "      <td>foo</td>\n",
       "      <td>1</td>\n",
       "      <td>4</td>\n",
       "    </tr>\n",
       "    <tr>\n",
       "      <th>1</th>\n",
       "      <td>foo</td>\n",
       "      <td>1</td>\n",
       "      <td>5</td>\n",
       "    </tr>\n",
       "    <tr>\n",
       "      <th>2</th>\n",
       "      <td>foo</td>\n",
       "      <td>2</td>\n",
       "      <td>4</td>\n",
       "    </tr>\n",
       "    <tr>\n",
       "      <th>3</th>\n",
       "      <td>foo</td>\n",
       "      <td>2</td>\n",
       "      <td>5</td>\n",
       "    </tr>\n",
       "  </tbody>\n",
       "</table>\n",
       "</div>"
      ],
      "text/plain": [
       "   key  lval  rval\n",
       "0  foo     1     4\n",
       "1  foo     1     5\n",
       "2  foo     2     4\n",
       "3  foo     2     5"
      ]
     },
     "execution_count": 110,
     "metadata": {},
     "output_type": "execute_result"
    }
   ],
   "source": [
    "pd.merge(left, right, on=\"key\")"
   ]
  },
  {
   "cell_type": "markdown",
   "id": "5352c30f-5072-411b-9e67-f4ae177c7420",
   "metadata": {},
   "source": [
    "# merge() on unique keys:"
   ]
  },
  {
   "cell_type": "code",
   "execution_count": 111,
   "id": "766fe4d2-00e5-42ce-becd-96fbe3ba066d",
   "metadata": {},
   "outputs": [],
   "source": [
    "left = pd.DataFrame({\"key\": [\"foo\", \"bar\"], \"lval\": [1, 2]})\n",
    "right = pd.DataFrame({\"key\": [\"foo\", \"bar\"], \"rval\": [4, 5]})"
   ]
  },
  {
   "cell_type": "code",
   "execution_count": 112,
   "id": "bf117261-c1dd-4d68-a102-1b44a57aec50",
   "metadata": {},
   "outputs": [
    {
     "data": {
      "text/html": [
       "<div>\n",
       "<style scoped>\n",
       "    .dataframe tbody tr th:only-of-type {\n",
       "        vertical-align: middle;\n",
       "    }\n",
       "\n",
       "    .dataframe tbody tr th {\n",
       "        vertical-align: top;\n",
       "    }\n",
       "\n",
       "    .dataframe thead th {\n",
       "        text-align: right;\n",
       "    }\n",
       "</style>\n",
       "<table border=\"1\" class=\"dataframe\">\n",
       "  <thead>\n",
       "    <tr style=\"text-align: right;\">\n",
       "      <th></th>\n",
       "      <th>key</th>\n",
       "      <th>lval</th>\n",
       "    </tr>\n",
       "  </thead>\n",
       "  <tbody>\n",
       "    <tr>\n",
       "      <th>0</th>\n",
       "      <td>foo</td>\n",
       "      <td>1</td>\n",
       "    </tr>\n",
       "    <tr>\n",
       "      <th>1</th>\n",
       "      <td>bar</td>\n",
       "      <td>2</td>\n",
       "    </tr>\n",
       "  </tbody>\n",
       "</table>\n",
       "</div>"
      ],
      "text/plain": [
       "   key  lval\n",
       "0  foo     1\n",
       "1  bar     2"
      ]
     },
     "execution_count": 112,
     "metadata": {},
     "output_type": "execute_result"
    }
   ],
   "source": [
    "left"
   ]
  },
  {
   "cell_type": "code",
   "execution_count": 113,
   "id": "57364881-93db-42a5-bb53-e92bcf629e14",
   "metadata": {},
   "outputs": [
    {
     "data": {
      "text/html": [
       "<div>\n",
       "<style scoped>\n",
       "    .dataframe tbody tr th:only-of-type {\n",
       "        vertical-align: middle;\n",
       "    }\n",
       "\n",
       "    .dataframe tbody tr th {\n",
       "        vertical-align: top;\n",
       "    }\n",
       "\n",
       "    .dataframe thead th {\n",
       "        text-align: right;\n",
       "    }\n",
       "</style>\n",
       "<table border=\"1\" class=\"dataframe\">\n",
       "  <thead>\n",
       "    <tr style=\"text-align: right;\">\n",
       "      <th></th>\n",
       "      <th>key</th>\n",
       "      <th>rval</th>\n",
       "    </tr>\n",
       "  </thead>\n",
       "  <tbody>\n",
       "    <tr>\n",
       "      <th>0</th>\n",
       "      <td>foo</td>\n",
       "      <td>4</td>\n",
       "    </tr>\n",
       "    <tr>\n",
       "      <th>1</th>\n",
       "      <td>bar</td>\n",
       "      <td>5</td>\n",
       "    </tr>\n",
       "  </tbody>\n",
       "</table>\n",
       "</div>"
      ],
      "text/plain": [
       "   key  rval\n",
       "0  foo     4\n",
       "1  bar     5"
      ]
     },
     "execution_count": 113,
     "metadata": {},
     "output_type": "execute_result"
    }
   ],
   "source": [
    "right"
   ]
  },
  {
   "cell_type": "code",
   "execution_count": 114,
   "id": "2e3c6a4c-718d-4575-a106-6d182ccc6777",
   "metadata": {},
   "outputs": [
    {
     "data": {
      "text/html": [
       "<div>\n",
       "<style scoped>\n",
       "    .dataframe tbody tr th:only-of-type {\n",
       "        vertical-align: middle;\n",
       "    }\n",
       "\n",
       "    .dataframe tbody tr th {\n",
       "        vertical-align: top;\n",
       "    }\n",
       "\n",
       "    .dataframe thead th {\n",
       "        text-align: right;\n",
       "    }\n",
       "</style>\n",
       "<table border=\"1\" class=\"dataframe\">\n",
       "  <thead>\n",
       "    <tr style=\"text-align: right;\">\n",
       "      <th></th>\n",
       "      <th>key</th>\n",
       "      <th>lval</th>\n",
       "      <th>rval</th>\n",
       "    </tr>\n",
       "  </thead>\n",
       "  <tbody>\n",
       "    <tr>\n",
       "      <th>0</th>\n",
       "      <td>foo</td>\n",
       "      <td>1</td>\n",
       "      <td>4</td>\n",
       "    </tr>\n",
       "    <tr>\n",
       "      <th>1</th>\n",
       "      <td>bar</td>\n",
       "      <td>2</td>\n",
       "      <td>5</td>\n",
       "    </tr>\n",
       "  </tbody>\n",
       "</table>\n",
       "</div>"
      ],
      "text/plain": [
       "   key  lval  rval\n",
       "0  foo     1     4\n",
       "1  bar     2     5"
      ]
     },
     "execution_count": 114,
     "metadata": {},
     "output_type": "execute_result"
    }
   ],
   "source": [
    "pd.merge(left, right, on=\"key\")"
   ]
  },
  {
   "cell_type": "markdown",
   "id": "4bea26c5-025b-4de3-8c28-b3421a4e798d",
   "metadata": {},
   "source": [
    "# Grouping "
   ]
  },
  {
   "cell_type": "markdown",
   "id": "90a67dea-9021-40b4-9588-f61a75d4a35c",
   "metadata": {},
   "source": [
    "By “group by” we are referring to a process involving one or more of the following steps:\n",
    "    \n",
    "Splitting the data into groups based on some criteria\n",
    "\n",
    "Applying a function to each group independently\n",
    "\n",
    "Combining the results into a data structure"
   ]
  },
  {
   "cell_type": "code",
   "execution_count": 115,
   "id": "2374f9d0-4eed-4da3-b6d5-4bbed2fa2e9f",
   "metadata": {},
   "outputs": [],
   "source": [
    "df = pd.DataFrame(\n",
    "    {\n",
    "        \"A\" : [\"foo\", \"bar\", \"foo\", \"bar\", \"foo\", \"bar\", \"foo\", \"fod\"],    \n",
    "        \"B\": [\"one\", \"two\", \"three\", \"two\", \"one\", \"two\", \"one\", \"three\"],\n",
    "        \"C\": np.random.randn(8),\n",
    "        \"D\": np.random.randn(8)\n",
    "    }\n",
    ")"
   ]
  },
  {
   "cell_type": "code",
   "execution_count": 133,
   "id": "702d2279-e6cb-4a5c-a82c-16bf3f79dce4",
   "metadata": {},
   "outputs": [
    {
     "data": {
      "text/html": [
       "<div>\n",
       "<style scoped>\n",
       "    .dataframe tbody tr th:only-of-type {\n",
       "        vertical-align: middle;\n",
       "    }\n",
       "\n",
       "    .dataframe tbody tr th {\n",
       "        vertical-align: top;\n",
       "    }\n",
       "\n",
       "    .dataframe thead th {\n",
       "        text-align: right;\n",
       "    }\n",
       "</style>\n",
       "<table border=\"1\" class=\"dataframe\">\n",
       "  <thead>\n",
       "    <tr style=\"text-align: right;\">\n",
       "      <th></th>\n",
       "      <th>A</th>\n",
       "      <th>B</th>\n",
       "      <th>C</th>\n",
       "      <th>D</th>\n",
       "    </tr>\n",
       "  </thead>\n",
       "  <tbody>\n",
       "    <tr>\n",
       "      <th>0</th>\n",
       "      <td>foo</td>\n",
       "      <td>one</td>\n",
       "      <td>0.046349</td>\n",
       "      <td>1.187331</td>\n",
       "    </tr>\n",
       "    <tr>\n",
       "      <th>1</th>\n",
       "      <td>bar</td>\n",
       "      <td>two</td>\n",
       "      <td>-0.767999</td>\n",
       "      <td>1.439198</td>\n",
       "    </tr>\n",
       "    <tr>\n",
       "      <th>2</th>\n",
       "      <td>foo</td>\n",
       "      <td>three</td>\n",
       "      <td>-0.361995</td>\n",
       "      <td>-0.478264</td>\n",
       "    </tr>\n",
       "    <tr>\n",
       "      <th>3</th>\n",
       "      <td>bar</td>\n",
       "      <td>two</td>\n",
       "      <td>1.547868</td>\n",
       "      <td>0.022889</td>\n",
       "    </tr>\n",
       "    <tr>\n",
       "      <th>4</th>\n",
       "      <td>foo</td>\n",
       "      <td>one</td>\n",
       "      <td>-1.346767</td>\n",
       "      <td>-1.752230</td>\n",
       "    </tr>\n",
       "    <tr>\n",
       "      <th>5</th>\n",
       "      <td>bar</td>\n",
       "      <td>two</td>\n",
       "      <td>-0.109695</td>\n",
       "      <td>-0.195742</td>\n",
       "    </tr>\n",
       "    <tr>\n",
       "      <th>6</th>\n",
       "      <td>foo</td>\n",
       "      <td>one</td>\n",
       "      <td>0.169742</td>\n",
       "      <td>0.551144</td>\n",
       "    </tr>\n",
       "    <tr>\n",
       "      <th>7</th>\n",
       "      <td>fod</td>\n",
       "      <td>three</td>\n",
       "      <td>0.338828</td>\n",
       "      <td>-0.367399</td>\n",
       "    </tr>\n",
       "  </tbody>\n",
       "</table>\n",
       "</div>"
      ],
      "text/plain": [
       "     A      B         C         D\n",
       "0  foo    one  0.046349  1.187331\n",
       "1  bar    two -0.767999  1.439198\n",
       "2  foo  three -0.361995 -0.478264\n",
       "3  bar    two  1.547868  0.022889\n",
       "4  foo    one -1.346767 -1.752230\n",
       "5  bar    two -0.109695 -0.195742\n",
       "6  foo    one  0.169742  0.551144\n",
       "7  fod  three  0.338828 -0.367399"
      ]
     },
     "execution_count": 133,
     "metadata": {},
     "output_type": "execute_result"
    }
   ],
   "source": [
    "df"
   ]
  },
  {
   "cell_type": "markdown",
   "id": "61b3c7f3-b082-4802-9a31-b5ee77b22833",
   "metadata": {},
   "source": [
    "# Grouping by a column label, selecting column labels, and then applying the DataFrameGroupBy.sum() function to the resulting groups:"
   ]
  },
  {
   "cell_type": "code",
   "execution_count": 116,
   "id": "398e65be-e6bc-47c3-8e54-2fae9d1c70d4",
   "metadata": {},
   "outputs": [
    {
     "data": {
      "text/plain": [
       "<pandas.core.groupby.generic.DataFrameGroupBy object at 0x0000023F698B70B0>"
      ]
     },
     "execution_count": 116,
     "metadata": {},
     "output_type": "execute_result"
    }
   ],
   "source": [
    "df.groupby(\"A\")"
   ]
  },
  {
   "cell_type": "code",
   "execution_count": 117,
   "id": "3ceb6874-e292-4e5a-bfca-5ce426437c1f",
   "metadata": {},
   "outputs": [
    {
     "data": {
      "text/plain": [
       "<pandas.core.groupby.generic.DataFrameGroupBy object at 0x0000023F6971A990>"
      ]
     },
     "execution_count": 117,
     "metadata": {},
     "output_type": "execute_result"
    }
   ],
   "source": [
    "df.groupby(\"A\")[[\"C\", \"D\"]]"
   ]
  },
  {
   "cell_type": "code",
   "execution_count": 118,
   "id": "320f8e1e-11aa-49db-b148-b53b9f84f7bc",
   "metadata": {},
   "outputs": [
    {
     "data": {
      "text/html": [
       "<div>\n",
       "<style scoped>\n",
       "    .dataframe tbody tr th:only-of-type {\n",
       "        vertical-align: middle;\n",
       "    }\n",
       "\n",
       "    .dataframe tbody tr th {\n",
       "        vertical-align: top;\n",
       "    }\n",
       "\n",
       "    .dataframe thead th {\n",
       "        text-align: right;\n",
       "    }\n",
       "</style>\n",
       "<table border=\"1\" class=\"dataframe\">\n",
       "  <thead>\n",
       "    <tr style=\"text-align: right;\">\n",
       "      <th></th>\n",
       "      <th>C</th>\n",
       "      <th>D</th>\n",
       "    </tr>\n",
       "    <tr>\n",
       "      <th>A</th>\n",
       "      <th></th>\n",
       "      <th></th>\n",
       "    </tr>\n",
       "  </thead>\n",
       "  <tbody>\n",
       "    <tr>\n",
       "      <th>bar</th>\n",
       "      <td>0.354824</td>\n",
       "      <td>0.208721</td>\n",
       "    </tr>\n",
       "    <tr>\n",
       "      <th>fod</th>\n",
       "      <td>-0.327974</td>\n",
       "      <td>-1.574325</td>\n",
       "    </tr>\n",
       "    <tr>\n",
       "      <th>foo</th>\n",
       "      <td>-0.788109</td>\n",
       "      <td>-0.192052</td>\n",
       "    </tr>\n",
       "  </tbody>\n",
       "</table>\n",
       "</div>"
      ],
      "text/plain": [
       "            C         D\n",
       "A                      \n",
       "bar  0.354824  0.208721\n",
       "fod -0.327974 -1.574325\n",
       "foo -0.788109 -0.192052"
      ]
     },
     "execution_count": 118,
     "metadata": {},
     "output_type": "execute_result"
    }
   ],
   "source": [
    "df.groupby(\"A\")[[\"C\", \"D\"]].sum()"
   ]
  },
  {
   "cell_type": "markdown",
   "id": "3794c1c5-628a-4f30-889e-5b713957d0db",
   "metadata": {},
   "source": [
    "# Grouping by multiple columns label forms MultiIndex."
   ]
  },
  {
   "cell_type": "code",
   "execution_count": 119,
   "id": "b27c8d1a-e230-4251-b976-e13a6c5de486",
   "metadata": {},
   "outputs": [
    {
     "data": {
      "text/html": [
       "<div>\n",
       "<style scoped>\n",
       "    .dataframe tbody tr th:only-of-type {\n",
       "        vertical-align: middle;\n",
       "    }\n",
       "\n",
       "    .dataframe tbody tr th {\n",
       "        vertical-align: top;\n",
       "    }\n",
       "\n",
       "    .dataframe thead th {\n",
       "        text-align: right;\n",
       "    }\n",
       "</style>\n",
       "<table border=\"1\" class=\"dataframe\">\n",
       "  <thead>\n",
       "    <tr style=\"text-align: right;\">\n",
       "      <th></th>\n",
       "      <th></th>\n",
       "      <th>C</th>\n",
       "      <th>D</th>\n",
       "    </tr>\n",
       "    <tr>\n",
       "      <th>A</th>\n",
       "      <th>B</th>\n",
       "      <th></th>\n",
       "      <th></th>\n",
       "    </tr>\n",
       "  </thead>\n",
       "  <tbody>\n",
       "    <tr>\n",
       "      <th>bar</th>\n",
       "      <th>two</th>\n",
       "      <td>0.354824</td>\n",
       "      <td>0.208721</td>\n",
       "    </tr>\n",
       "    <tr>\n",
       "      <th>fod</th>\n",
       "      <th>three</th>\n",
       "      <td>-0.327974</td>\n",
       "      <td>-1.574325</td>\n",
       "    </tr>\n",
       "    <tr>\n",
       "      <th rowspan=\"2\" valign=\"top\">foo</th>\n",
       "      <th>one</th>\n",
       "      <td>-0.127592</td>\n",
       "      <td>0.793011</td>\n",
       "    </tr>\n",
       "    <tr>\n",
       "      <th>three</th>\n",
       "      <td>-0.660517</td>\n",
       "      <td>-0.985063</td>\n",
       "    </tr>\n",
       "  </tbody>\n",
       "</table>\n",
       "</div>"
      ],
      "text/plain": [
       "                  C         D\n",
       "A   B                        \n",
       "bar two    0.354824  0.208721\n",
       "fod three -0.327974 -1.574325\n",
       "foo one   -0.127592  0.793011\n",
       "    three -0.660517 -0.985063"
      ]
     },
     "execution_count": 119,
     "metadata": {},
     "output_type": "execute_result"
    }
   ],
   "source": [
    "df.groupby([\"A\", \"B\"]).sum()"
   ]
  },
  {
   "cell_type": "code",
   "execution_count": 120,
   "id": "b0503c03-6d50-47f5-a367-6233e2ead4c1",
   "metadata": {},
   "outputs": [
    {
     "data": {
      "text/html": [
       "<div>\n",
       "<style scoped>\n",
       "    .dataframe tbody tr th:only-of-type {\n",
       "        vertical-align: middle;\n",
       "    }\n",
       "\n",
       "    .dataframe tbody tr th {\n",
       "        vertical-align: top;\n",
       "    }\n",
       "\n",
       "    .dataframe thead th {\n",
       "        text-align: right;\n",
       "    }\n",
       "</style>\n",
       "<table border=\"1\" class=\"dataframe\">\n",
       "  <thead>\n",
       "    <tr style=\"text-align: right;\">\n",
       "      <th></th>\n",
       "      <th>B</th>\n",
       "      <th>C</th>\n",
       "      <th>D</th>\n",
       "    </tr>\n",
       "    <tr>\n",
       "      <th>A</th>\n",
       "      <th></th>\n",
       "      <th></th>\n",
       "      <th></th>\n",
       "    </tr>\n",
       "  </thead>\n",
       "  <tbody>\n",
       "    <tr>\n",
       "      <th>bar</th>\n",
       "      <td>twotwotwo</td>\n",
       "      <td>0.354824</td>\n",
       "      <td>0.208721</td>\n",
       "    </tr>\n",
       "    <tr>\n",
       "      <th>fod</th>\n",
       "      <td>three</td>\n",
       "      <td>-0.327974</td>\n",
       "      <td>-1.574325</td>\n",
       "    </tr>\n",
       "    <tr>\n",
       "      <th>foo</th>\n",
       "      <td>onethreeoneone</td>\n",
       "      <td>-0.788109</td>\n",
       "      <td>-0.192052</td>\n",
       "    </tr>\n",
       "  </tbody>\n",
       "</table>\n",
       "</div>"
      ],
      "text/plain": [
       "                  B         C         D\n",
       "A                                      \n",
       "bar       twotwotwo  0.354824  0.208721\n",
       "fod           three -0.327974 -1.574325\n",
       "foo  onethreeoneone -0.788109 -0.192052"
      ]
     },
     "execution_count": 120,
     "metadata": {},
     "output_type": "execute_result"
    }
   ],
   "source": [
    "df.groupby(\"A\").sum()"
   ]
  },
  {
   "cell_type": "markdown",
   "id": "8d3bda9a-b79a-4c78-b120-e0c4a5f7c89e",
   "metadata": {},
   "source": [
    "# Reshaping"
   ]
  },
  {
   "cell_type": "markdown",
   "id": "d9c6e85e-8404-44dd-889e-424219679066",
   "metadata": {},
   "source": [
    "# Stack"
   ]
  },
  {
   "cell_type": "code",
   "execution_count": 121,
   "id": "9c772d23-9f17-4e0f-a5b2-92c69bd0d010",
   "metadata": {},
   "outputs": [],
   "source": [
    "arrays = [\n",
    "    [\"bar\", \"bar\", \"baz\", \"baz\", \"foo\", \"foo\", \"qux\", \"qux\"],\n",
    "    [\"one\", \"two\",\"one\", \"two\", \"one\", \"two\", \"one\", \"two\" ],\n",
    "]"
   ]
  },
  {
   "cell_type": "code",
   "execution_count": 122,
   "id": "a5bb21ea-eb06-4f8f-b301-10ace62d51b7",
   "metadata": {},
   "outputs": [
    {
     "data": {
      "text/plain": [
       "[['bar', 'bar', 'baz', 'baz', 'foo', 'foo', 'qux', 'qux'],\n",
       " ['one', 'two', 'one', 'two', 'one', 'two', 'one', 'two']]"
      ]
     },
     "execution_count": 122,
     "metadata": {},
     "output_type": "execute_result"
    }
   ],
   "source": [
    "arrays"
   ]
  },
  {
   "cell_type": "code",
   "execution_count": 123,
   "id": "ced66eca-3742-4868-8546-f96bdcc4a0de",
   "metadata": {},
   "outputs": [],
   "source": [
    "index = pd.MultiIndex.from_arrays(arrays, names= [\"first\", \"second\"])"
   ]
  },
  {
   "cell_type": "code",
   "execution_count": 124,
   "id": "eeba3ce0-761c-4df7-86c6-3cd61756965c",
   "metadata": {},
   "outputs": [
    {
     "data": {
      "text/plain": [
       "MultiIndex([('bar', 'one'),\n",
       "            ('bar', 'two'),\n",
       "            ('baz', 'one'),\n",
       "            ('baz', 'two'),\n",
       "            ('foo', 'one'),\n",
       "            ('foo', 'two'),\n",
       "            ('qux', 'one'),\n",
       "            ('qux', 'two')],\n",
       "           names=['first', 'second'])"
      ]
     },
     "execution_count": 124,
     "metadata": {},
     "output_type": "execute_result"
    }
   ],
   "source": [
    "index"
   ]
  },
  {
   "cell_type": "code",
   "execution_count": 125,
   "id": "8d8b23ef-2182-4e12-8b8f-3b0114a47d4d",
   "metadata": {},
   "outputs": [],
   "source": [
    "df = pd.DataFrame(np.random.randn(8,2), index=arrays, columns=[\"A\",\"B\"])"
   ]
  },
  {
   "cell_type": "code",
   "execution_count": 126,
   "id": "0ad13f68-b492-4edf-af39-b0fdba7a7218",
   "metadata": {},
   "outputs": [
    {
     "data": {
      "text/html": [
       "<div>\n",
       "<style scoped>\n",
       "    .dataframe tbody tr th:only-of-type {\n",
       "        vertical-align: middle;\n",
       "    }\n",
       "\n",
       "    .dataframe tbody tr th {\n",
       "        vertical-align: top;\n",
       "    }\n",
       "\n",
       "    .dataframe thead th {\n",
       "        text-align: right;\n",
       "    }\n",
       "</style>\n",
       "<table border=\"1\" class=\"dataframe\">\n",
       "  <thead>\n",
       "    <tr style=\"text-align: right;\">\n",
       "      <th></th>\n",
       "      <th></th>\n",
       "      <th>A</th>\n",
       "      <th>B</th>\n",
       "    </tr>\n",
       "  </thead>\n",
       "  <tbody>\n",
       "    <tr>\n",
       "      <th rowspan=\"2\" valign=\"top\">bar</th>\n",
       "      <th>one</th>\n",
       "      <td>0.545020</td>\n",
       "      <td>1.393998</td>\n",
       "    </tr>\n",
       "    <tr>\n",
       "      <th>two</th>\n",
       "      <td>0.875886</td>\n",
       "      <td>0.882796</td>\n",
       "    </tr>\n",
       "    <tr>\n",
       "      <th rowspan=\"2\" valign=\"top\">baz</th>\n",
       "      <th>one</th>\n",
       "      <td>0.327301</td>\n",
       "      <td>-0.913651</td>\n",
       "    </tr>\n",
       "    <tr>\n",
       "      <th>two</th>\n",
       "      <td>0.290790</td>\n",
       "      <td>1.097551</td>\n",
       "    </tr>\n",
       "    <tr>\n",
       "      <th rowspan=\"2\" valign=\"top\">foo</th>\n",
       "      <th>one</th>\n",
       "      <td>-1.207219</td>\n",
       "      <td>0.132546</td>\n",
       "    </tr>\n",
       "    <tr>\n",
       "      <th>two</th>\n",
       "      <td>0.122857</td>\n",
       "      <td>0.475165</td>\n",
       "    </tr>\n",
       "    <tr>\n",
       "      <th rowspan=\"2\" valign=\"top\">qux</th>\n",
       "      <th>one</th>\n",
       "      <td>-0.088930</td>\n",
       "      <td>-0.280366</td>\n",
       "    </tr>\n",
       "    <tr>\n",
       "      <th>two</th>\n",
       "      <td>-0.886544</td>\n",
       "      <td>-0.163250</td>\n",
       "    </tr>\n",
       "  </tbody>\n",
       "</table>\n",
       "</div>"
      ],
      "text/plain": [
       "                A         B\n",
       "bar one  0.545020  1.393998\n",
       "    two  0.875886  0.882796\n",
       "baz one  0.327301 -0.913651\n",
       "    two  0.290790  1.097551\n",
       "foo one -1.207219  0.132546\n",
       "    two  0.122857  0.475165\n",
       "qux one -0.088930 -0.280366\n",
       "    two -0.886544 -0.163250"
      ]
     },
     "execution_count": 126,
     "metadata": {},
     "output_type": "execute_result"
    }
   ],
   "source": [
    "df"
   ]
  },
  {
   "cell_type": "code",
   "execution_count": 127,
   "id": "167cec47-8653-446a-aff9-9f7add1283bd",
   "metadata": {},
   "outputs": [],
   "source": [
    "df2 = df[:4]"
   ]
  },
  {
   "cell_type": "code",
   "execution_count": 128,
   "id": "280ec2ac-5836-4a0b-81a4-aa2ddb84b8b3",
   "metadata": {},
   "outputs": [
    {
     "data": {
      "text/html": [
       "<div>\n",
       "<style scoped>\n",
       "    .dataframe tbody tr th:only-of-type {\n",
       "        vertical-align: middle;\n",
       "    }\n",
       "\n",
       "    .dataframe tbody tr th {\n",
       "        vertical-align: top;\n",
       "    }\n",
       "\n",
       "    .dataframe thead th {\n",
       "        text-align: right;\n",
       "    }\n",
       "</style>\n",
       "<table border=\"1\" class=\"dataframe\">\n",
       "  <thead>\n",
       "    <tr style=\"text-align: right;\">\n",
       "      <th></th>\n",
       "      <th></th>\n",
       "      <th>A</th>\n",
       "      <th>B</th>\n",
       "    </tr>\n",
       "  </thead>\n",
       "  <tbody>\n",
       "    <tr>\n",
       "      <th rowspan=\"2\" valign=\"top\">bar</th>\n",
       "      <th>one</th>\n",
       "      <td>0.545020</td>\n",
       "      <td>1.393998</td>\n",
       "    </tr>\n",
       "    <tr>\n",
       "      <th>two</th>\n",
       "      <td>0.875886</td>\n",
       "      <td>0.882796</td>\n",
       "    </tr>\n",
       "    <tr>\n",
       "      <th rowspan=\"2\" valign=\"top\">baz</th>\n",
       "      <th>one</th>\n",
       "      <td>0.327301</td>\n",
       "      <td>-0.913651</td>\n",
       "    </tr>\n",
       "    <tr>\n",
       "      <th>two</th>\n",
       "      <td>0.290790</td>\n",
       "      <td>1.097551</td>\n",
       "    </tr>\n",
       "  </tbody>\n",
       "</table>\n",
       "</div>"
      ],
      "text/plain": [
       "                A         B\n",
       "bar one  0.545020  1.393998\n",
       "    two  0.875886  0.882796\n",
       "baz one  0.327301 -0.913651\n",
       "    two  0.290790  1.097551"
      ]
     },
     "execution_count": 128,
     "metadata": {},
     "output_type": "execute_result"
    }
   ],
   "source": [
    "df2"
   ]
  },
  {
   "cell_type": "markdown",
   "id": "4972c5c2-49e8-41b3-8ab0-a7227da413b6",
   "metadata": {},
   "source": [
    "# The stack() method “compresses” a level in the DataFrame’s columns:"
   ]
  },
  {
   "cell_type": "code",
   "execution_count": 129,
   "id": "4eb933e4-37c0-43c5-b2f1-9d9777d911ee",
   "metadata": {},
   "outputs": [],
   "source": [
    "staked  = df.stack()"
   ]
  },
  {
   "cell_type": "code",
   "execution_count": 130,
   "id": "d66e1e99-8fcc-41d2-94b0-a7e60a05f6f3",
   "metadata": {},
   "outputs": [
    {
     "data": {
      "text/plain": [
       "bar  one  A    0.545020\n",
       "          B    1.393998\n",
       "     two  A    0.875886\n",
       "          B    0.882796\n",
       "baz  one  A    0.327301\n",
       "          B   -0.913651\n",
       "     two  A    0.290790\n",
       "          B    1.097551\n",
       "foo  one  A   -1.207219\n",
       "          B    0.132546\n",
       "     two  A    0.122857\n",
       "          B    0.475165\n",
       "qux  one  A   -0.088930\n",
       "          B   -0.280366\n",
       "     two  A   -0.886544\n",
       "          B   -0.163250\n",
       "dtype: float64"
      ]
     },
     "execution_count": 130,
     "metadata": {},
     "output_type": "execute_result"
    }
   ],
   "source": [
    "staked"
   ]
  },
  {
   "cell_type": "code",
   "execution_count": 131,
   "id": "abdaf222-697a-4f7d-8234-6c0d69aadcd2",
   "metadata": {},
   "outputs": [],
   "source": [
    "staked1 = df.stack(future_stack=False)"
   ]
  },
  {
   "cell_type": "code",
   "execution_count": 132,
   "id": "26ef962e-b80b-409b-8248-712be1c8936c",
   "metadata": {},
   "outputs": [
    {
     "data": {
      "text/plain": [
       "bar  one  A    0.545020\n",
       "          B    1.393998\n",
       "     two  A    0.875886\n",
       "          B    0.882796\n",
       "baz  one  A    0.327301\n",
       "          B   -0.913651\n",
       "     two  A    0.290790\n",
       "          B    1.097551\n",
       "foo  one  A   -1.207219\n",
       "          B    0.132546\n",
       "     two  A    0.122857\n",
       "          B    0.475165\n",
       "qux  one  A   -0.088930\n",
       "          B   -0.280366\n",
       "     two  A   -0.886544\n",
       "          B   -0.163250\n",
       "dtype: float64"
      ]
     },
     "execution_count": 132,
     "metadata": {},
     "output_type": "execute_result"
    }
   ],
   "source": [
    "staked1"
   ]
  },
  {
   "cell_type": "code",
   "execution_count": 133,
   "id": "375696a8-a0b9-4e7b-932e-365c6f0fd0e0",
   "metadata": {},
   "outputs": [],
   "source": [
    "staked2 = df.stack(future_stack=True)"
   ]
  },
  {
   "cell_type": "code",
   "execution_count": 134,
   "id": "99608dfd-562d-4aad-844e-09002749c247",
   "metadata": {},
   "outputs": [
    {
     "data": {
      "text/plain": [
       "bar  one  A    0.545020\n",
       "          B    1.393998\n",
       "     two  A    0.875886\n",
       "          B    0.882796\n",
       "baz  one  A    0.327301\n",
       "          B   -0.913651\n",
       "     two  A    0.290790\n",
       "          B    1.097551\n",
       "foo  one  A   -1.207219\n",
       "          B    0.132546\n",
       "     two  A    0.122857\n",
       "          B    0.475165\n",
       "qux  one  A   -0.088930\n",
       "          B   -0.280366\n",
       "     two  A   -0.886544\n",
       "          B   -0.163250\n",
       "dtype: float64"
      ]
     },
     "execution_count": 134,
     "metadata": {},
     "output_type": "execute_result"
    }
   ],
   "source": [
    "staked2"
   ]
  },
  {
   "cell_type": "code",
   "execution_count": 135,
   "id": "c965bc68-5b2c-48d8-b43e-3d684bd3ae94",
   "metadata": {},
   "outputs": [],
   "source": [
    "staked3 = df2.stack(future_stack=True)"
   ]
  },
  {
   "cell_type": "code",
   "execution_count": 136,
   "id": "ad0c09a1-8c03-45cb-a765-5285b6ed90b7",
   "metadata": {},
   "outputs": [
    {
     "data": {
      "text/plain": [
       "bar  one  A    0.545020\n",
       "          B    1.393998\n",
       "     two  A    0.875886\n",
       "          B    0.882796\n",
       "baz  one  A    0.327301\n",
       "          B   -0.913651\n",
       "     two  A    0.290790\n",
       "          B    1.097551\n",
       "dtype: float64"
      ]
     },
     "execution_count": 136,
     "metadata": {},
     "output_type": "execute_result"
    }
   ],
   "source": [
    "staked3"
   ]
  },
  {
   "cell_type": "markdown",
   "id": "f1cac5d2-0b08-4874-9a13-824b22ca0396",
   "metadata": {},
   "source": [
    "# a “stacked” DataFrame or Series (having a MultiIndex as the index), the inverse operation of stack() is unstack(), which by default unstacks the last level:"
   ]
  },
  {
   "cell_type": "code",
   "execution_count": 137,
   "id": "035fdeee-a257-42c1-9439-1fa39adfe113",
   "metadata": {},
   "outputs": [
    {
     "data": {
      "text/html": [
       "<div>\n",
       "<style scoped>\n",
       "    .dataframe tbody tr th:only-of-type {\n",
       "        vertical-align: middle;\n",
       "    }\n",
       "\n",
       "    .dataframe tbody tr th {\n",
       "        vertical-align: top;\n",
       "    }\n",
       "\n",
       "    .dataframe thead th {\n",
       "        text-align: right;\n",
       "    }\n",
       "</style>\n",
       "<table border=\"1\" class=\"dataframe\">\n",
       "  <thead>\n",
       "    <tr style=\"text-align: right;\">\n",
       "      <th></th>\n",
       "      <th></th>\n",
       "      <th>A</th>\n",
       "      <th>B</th>\n",
       "    </tr>\n",
       "  </thead>\n",
       "  <tbody>\n",
       "    <tr>\n",
       "      <th rowspan=\"2\" valign=\"top\">bar</th>\n",
       "      <th>one</th>\n",
       "      <td>0.545020</td>\n",
       "      <td>1.393998</td>\n",
       "    </tr>\n",
       "    <tr>\n",
       "      <th>two</th>\n",
       "      <td>0.875886</td>\n",
       "      <td>0.882796</td>\n",
       "    </tr>\n",
       "    <tr>\n",
       "      <th rowspan=\"2\" valign=\"top\">baz</th>\n",
       "      <th>one</th>\n",
       "      <td>0.327301</td>\n",
       "      <td>-0.913651</td>\n",
       "    </tr>\n",
       "    <tr>\n",
       "      <th>two</th>\n",
       "      <td>0.290790</td>\n",
       "      <td>1.097551</td>\n",
       "    </tr>\n",
       "  </tbody>\n",
       "</table>\n",
       "</div>"
      ],
      "text/plain": [
       "                A         B\n",
       "bar one  0.545020  1.393998\n",
       "    two  0.875886  0.882796\n",
       "baz one  0.327301 -0.913651\n",
       "    two  0.290790  1.097551"
      ]
     },
     "execution_count": 137,
     "metadata": {},
     "output_type": "execute_result"
    }
   ],
   "source": [
    "staked3.unstack()"
   ]
  },
  {
   "cell_type": "code",
   "execution_count": 138,
   "id": "7a6a89cf-a9fe-4cf8-8cc2-16405fc8af4d",
   "metadata": {},
   "outputs": [
    {
     "data": {
      "text/html": [
       "<div>\n",
       "<style scoped>\n",
       "    .dataframe tbody tr th:only-of-type {\n",
       "        vertical-align: middle;\n",
       "    }\n",
       "\n",
       "    .dataframe tbody tr th {\n",
       "        vertical-align: top;\n",
       "    }\n",
       "\n",
       "    .dataframe thead th {\n",
       "        text-align: right;\n",
       "    }\n",
       "</style>\n",
       "<table border=\"1\" class=\"dataframe\">\n",
       "  <thead>\n",
       "    <tr style=\"text-align: right;\">\n",
       "      <th></th>\n",
       "      <th></th>\n",
       "      <th>bar</th>\n",
       "      <th>baz</th>\n",
       "    </tr>\n",
       "  </thead>\n",
       "  <tbody>\n",
       "    <tr>\n",
       "      <th rowspan=\"2\" valign=\"top\">one</th>\n",
       "      <th>A</th>\n",
       "      <td>0.545020</td>\n",
       "      <td>0.327301</td>\n",
       "    </tr>\n",
       "    <tr>\n",
       "      <th>B</th>\n",
       "      <td>1.393998</td>\n",
       "      <td>-0.913651</td>\n",
       "    </tr>\n",
       "    <tr>\n",
       "      <th rowspan=\"2\" valign=\"top\">two</th>\n",
       "      <th>A</th>\n",
       "      <td>0.875886</td>\n",
       "      <td>0.290790</td>\n",
       "    </tr>\n",
       "    <tr>\n",
       "      <th>B</th>\n",
       "      <td>0.882796</td>\n",
       "      <td>1.097551</td>\n",
       "    </tr>\n",
       "  </tbody>\n",
       "</table>\n",
       "</div>"
      ],
      "text/plain": [
       "            bar       baz\n",
       "one A  0.545020  0.327301\n",
       "    B  1.393998 -0.913651\n",
       "two A  0.875886  0.290790\n",
       "    B  0.882796  1.097551"
      ]
     },
     "execution_count": 138,
     "metadata": {},
     "output_type": "execute_result"
    }
   ],
   "source": [
    "staked3.unstack(0)"
   ]
  },
  {
   "cell_type": "code",
   "execution_count": 139,
   "id": "88ef119b-77cb-42bb-85fa-1b8ff12be7f4",
   "metadata": {},
   "outputs": [
    {
     "data": {
      "text/html": [
       "<div>\n",
       "<style scoped>\n",
       "    .dataframe tbody tr th:only-of-type {\n",
       "        vertical-align: middle;\n",
       "    }\n",
       "\n",
       "    .dataframe tbody tr th {\n",
       "        vertical-align: top;\n",
       "    }\n",
       "\n",
       "    .dataframe thead th {\n",
       "        text-align: right;\n",
       "    }\n",
       "</style>\n",
       "<table border=\"1\" class=\"dataframe\">\n",
       "  <thead>\n",
       "    <tr style=\"text-align: right;\">\n",
       "      <th></th>\n",
       "      <th></th>\n",
       "      <th>one</th>\n",
       "      <th>two</th>\n",
       "    </tr>\n",
       "  </thead>\n",
       "  <tbody>\n",
       "    <tr>\n",
       "      <th rowspan=\"2\" valign=\"top\">bar</th>\n",
       "      <th>A</th>\n",
       "      <td>0.545020</td>\n",
       "      <td>0.875886</td>\n",
       "    </tr>\n",
       "    <tr>\n",
       "      <th>B</th>\n",
       "      <td>1.393998</td>\n",
       "      <td>0.882796</td>\n",
       "    </tr>\n",
       "    <tr>\n",
       "      <th rowspan=\"2\" valign=\"top\">baz</th>\n",
       "      <th>A</th>\n",
       "      <td>0.327301</td>\n",
       "      <td>0.290790</td>\n",
       "    </tr>\n",
       "    <tr>\n",
       "      <th>B</th>\n",
       "      <td>-0.913651</td>\n",
       "      <td>1.097551</td>\n",
       "    </tr>\n",
       "  </tbody>\n",
       "</table>\n",
       "</div>"
      ],
      "text/plain": [
       "            one       two\n",
       "bar A  0.545020  0.875886\n",
       "    B  1.393998  0.882796\n",
       "baz A  0.327301  0.290790\n",
       "    B -0.913651  1.097551"
      ]
     },
     "execution_count": 139,
     "metadata": {},
     "output_type": "execute_result"
    }
   ],
   "source": [
    "staked3.unstack(1)"
   ]
  },
  {
   "cell_type": "markdown",
   "id": "b739339b-777b-4023-9738-913d56e49478",
   "metadata": {},
   "source": [
    "# Pivot tables"
   ]
  },
  {
   "cell_type": "code",
   "execution_count": 140,
   "id": "89d2354d-7e8e-4d86-95c0-55fd772592dd",
   "metadata": {},
   "outputs": [],
   "source": [
    "df = pd.DataFrame(\n",
    "    {\n",
    "        \"A\":[\"one\", \"one\", \"two\", \"three\"]*3,\n",
    "        \"B\":[\"A\", \"B\", \"C\"]*4,\n",
    "        \"C\":[\"foo\", \"foo\", \"foo\", \"bar\", \"bar\", \"bar\"]*2,\n",
    "        \"D\":np.random.randn(12),\n",
    "        \"D\":np.random.randn(12)\n",
    "        \n",
    "    }\n",
    ")"
   ]
  },
  {
   "cell_type": "code",
   "execution_count": 141,
   "id": "120b5f43-e11c-4f64-b05f-c56ea594e4a8",
   "metadata": {},
   "outputs": [
    {
     "data": {
      "text/html": [
       "<div>\n",
       "<style scoped>\n",
       "    .dataframe tbody tr th:only-of-type {\n",
       "        vertical-align: middle;\n",
       "    }\n",
       "\n",
       "    .dataframe tbody tr th {\n",
       "        vertical-align: top;\n",
       "    }\n",
       "\n",
       "    .dataframe thead th {\n",
       "        text-align: right;\n",
       "    }\n",
       "</style>\n",
       "<table border=\"1\" class=\"dataframe\">\n",
       "  <thead>\n",
       "    <tr style=\"text-align: right;\">\n",
       "      <th></th>\n",
       "      <th>A</th>\n",
       "      <th>B</th>\n",
       "      <th>C</th>\n",
       "      <th>D</th>\n",
       "    </tr>\n",
       "  </thead>\n",
       "  <tbody>\n",
       "    <tr>\n",
       "      <th>0</th>\n",
       "      <td>one</td>\n",
       "      <td>A</td>\n",
       "      <td>foo</td>\n",
       "      <td>0.203670</td>\n",
       "    </tr>\n",
       "    <tr>\n",
       "      <th>1</th>\n",
       "      <td>one</td>\n",
       "      <td>B</td>\n",
       "      <td>foo</td>\n",
       "      <td>-0.044313</td>\n",
       "    </tr>\n",
       "    <tr>\n",
       "      <th>2</th>\n",
       "      <td>two</td>\n",
       "      <td>C</td>\n",
       "      <td>foo</td>\n",
       "      <td>-0.341603</td>\n",
       "    </tr>\n",
       "    <tr>\n",
       "      <th>3</th>\n",
       "      <td>three</td>\n",
       "      <td>A</td>\n",
       "      <td>bar</td>\n",
       "      <td>-0.637150</td>\n",
       "    </tr>\n",
       "    <tr>\n",
       "      <th>4</th>\n",
       "      <td>one</td>\n",
       "      <td>B</td>\n",
       "      <td>bar</td>\n",
       "      <td>-2.723553</td>\n",
       "    </tr>\n",
       "    <tr>\n",
       "      <th>5</th>\n",
       "      <td>one</td>\n",
       "      <td>C</td>\n",
       "      <td>bar</td>\n",
       "      <td>-1.797048</td>\n",
       "    </tr>\n",
       "    <tr>\n",
       "      <th>6</th>\n",
       "      <td>two</td>\n",
       "      <td>A</td>\n",
       "      <td>foo</td>\n",
       "      <td>1.303724</td>\n",
       "    </tr>\n",
       "    <tr>\n",
       "      <th>7</th>\n",
       "      <td>three</td>\n",
       "      <td>B</td>\n",
       "      <td>foo</td>\n",
       "      <td>-0.322246</td>\n",
       "    </tr>\n",
       "    <tr>\n",
       "      <th>8</th>\n",
       "      <td>one</td>\n",
       "      <td>C</td>\n",
       "      <td>foo</td>\n",
       "      <td>-1.691875</td>\n",
       "    </tr>\n",
       "    <tr>\n",
       "      <th>9</th>\n",
       "      <td>one</td>\n",
       "      <td>A</td>\n",
       "      <td>bar</td>\n",
       "      <td>0.258761</td>\n",
       "    </tr>\n",
       "    <tr>\n",
       "      <th>10</th>\n",
       "      <td>two</td>\n",
       "      <td>B</td>\n",
       "      <td>bar</td>\n",
       "      <td>1.278074</td>\n",
       "    </tr>\n",
       "    <tr>\n",
       "      <th>11</th>\n",
       "      <td>three</td>\n",
       "      <td>C</td>\n",
       "      <td>bar</td>\n",
       "      <td>1.572018</td>\n",
       "    </tr>\n",
       "  </tbody>\n",
       "</table>\n",
       "</div>"
      ],
      "text/plain": [
       "        A  B    C         D\n",
       "0     one  A  foo  0.203670\n",
       "1     one  B  foo -0.044313\n",
       "2     two  C  foo -0.341603\n",
       "3   three  A  bar -0.637150\n",
       "4     one  B  bar -2.723553\n",
       "5     one  C  bar -1.797048\n",
       "6     two  A  foo  1.303724\n",
       "7   three  B  foo -0.322246\n",
       "8     one  C  foo -1.691875\n",
       "9     one  A  bar  0.258761\n",
       "10    two  B  bar  1.278074\n",
       "11  three  C  bar  1.572018"
      ]
     },
     "execution_count": 141,
     "metadata": {},
     "output_type": "execute_result"
    }
   ],
   "source": [
    "df"
   ]
  },
  {
   "cell_type": "markdown",
   "id": "67766ad2-3684-4800-a57a-618dc8853609",
   "metadata": {},
   "source": [
    "# pivot_table() pivots a DataFrame specifying the values, index and columns"
   ]
  },
  {
   "cell_type": "code",
   "execution_count": 142,
   "id": "0e247f96-7b4a-491e-959f-09985f9370c3",
   "metadata": {},
   "outputs": [
    {
     "data": {
      "text/html": [
       "<div>\n",
       "<style scoped>\n",
       "    .dataframe tbody tr th:only-of-type {\n",
       "        vertical-align: middle;\n",
       "    }\n",
       "\n",
       "    .dataframe tbody tr th {\n",
       "        vertical-align: top;\n",
       "    }\n",
       "\n",
       "    .dataframe thead th {\n",
       "        text-align: right;\n",
       "    }\n",
       "</style>\n",
       "<table border=\"1\" class=\"dataframe\">\n",
       "  <thead>\n",
       "    <tr style=\"text-align: right;\">\n",
       "      <th></th>\n",
       "      <th>C</th>\n",
       "      <th>bar</th>\n",
       "      <th>foo</th>\n",
       "    </tr>\n",
       "    <tr>\n",
       "      <th>A</th>\n",
       "      <th>B</th>\n",
       "      <th></th>\n",
       "      <th></th>\n",
       "    </tr>\n",
       "  </thead>\n",
       "  <tbody>\n",
       "    <tr>\n",
       "      <th rowspan=\"3\" valign=\"top\">one</th>\n",
       "      <th>A</th>\n",
       "      <td>0.258761</td>\n",
       "      <td>0.203670</td>\n",
       "    </tr>\n",
       "    <tr>\n",
       "      <th>B</th>\n",
       "      <td>-2.723553</td>\n",
       "      <td>-0.044313</td>\n",
       "    </tr>\n",
       "    <tr>\n",
       "      <th>C</th>\n",
       "      <td>-1.797048</td>\n",
       "      <td>-1.691875</td>\n",
       "    </tr>\n",
       "    <tr>\n",
       "      <th rowspan=\"3\" valign=\"top\">three</th>\n",
       "      <th>A</th>\n",
       "      <td>-0.637150</td>\n",
       "      <td>NaN</td>\n",
       "    </tr>\n",
       "    <tr>\n",
       "      <th>B</th>\n",
       "      <td>NaN</td>\n",
       "      <td>-0.322246</td>\n",
       "    </tr>\n",
       "    <tr>\n",
       "      <th>C</th>\n",
       "      <td>1.572018</td>\n",
       "      <td>NaN</td>\n",
       "    </tr>\n",
       "    <tr>\n",
       "      <th rowspan=\"3\" valign=\"top\">two</th>\n",
       "      <th>A</th>\n",
       "      <td>NaN</td>\n",
       "      <td>1.303724</td>\n",
       "    </tr>\n",
       "    <tr>\n",
       "      <th>B</th>\n",
       "      <td>1.278074</td>\n",
       "      <td>NaN</td>\n",
       "    </tr>\n",
       "    <tr>\n",
       "      <th>C</th>\n",
       "      <td>NaN</td>\n",
       "      <td>-0.341603</td>\n",
       "    </tr>\n",
       "  </tbody>\n",
       "</table>\n",
       "</div>"
      ],
      "text/plain": [
       "C             bar       foo\n",
       "A     B                    \n",
       "one   A  0.258761  0.203670\n",
       "      B -2.723553 -0.044313\n",
       "      C -1.797048 -1.691875\n",
       "three A -0.637150       NaN\n",
       "      B       NaN -0.322246\n",
       "      C  1.572018       NaN\n",
       "two   A       NaN  1.303724\n",
       "      B  1.278074       NaN\n",
       "      C       NaN -0.341603"
      ]
     },
     "execution_count": 142,
     "metadata": {},
     "output_type": "execute_result"
    }
   ],
   "source": [
    "pd.pivot_table(df, values=\"D\", index = [\"A\" ,\"B\"], columns=[\"C\"])"
   ]
  },
  {
   "cell_type": "markdown",
   "id": "ec31cc53-314a-4528-83da-c578e7e065ca",
   "metadata": {},
   "source": [
    "# Time Series"
   ]
  },
  {
   "cell_type": "markdown",
   "id": "42ab4e61-fa61-4305-8a90-3a66b18182f6",
   "metadata": {},
   "source": [
    "pandas has simple, powerful, and efficient functionality for performing resampling operations during frequency conversion (e.g., converting secondly data into 5-minutely data). This is extremely common in, but not limited to, financial application."
   ]
  },
  {
   "cell_type": "code",
   "execution_count": 143,
   "id": "66dba222-576b-41df-95e8-09cf92f9f33d",
   "metadata": {},
   "outputs": [],
   "source": [
    "rng = pd.date_range(\"28/8/2024\", periods=100, freq=\"s\")"
   ]
  },
  {
   "cell_type": "code",
   "execution_count": 202,
   "id": "cda3b402-2b84-400a-a5a2-5064916bdbe3",
   "metadata": {},
   "outputs": [
    {
     "data": {
      "text/plain": [
       "DatetimeIndex(['2024-08-28 00:00:00', '2024-08-28 00:00:01',\n",
       "               '2024-08-28 00:00:02', '2024-08-28 00:00:03',\n",
       "               '2024-08-28 00:00:04', '2024-08-28 00:00:05',\n",
       "               '2024-08-28 00:00:06', '2024-08-28 00:00:07',\n",
       "               '2024-08-28 00:00:08', '2024-08-28 00:00:09',\n",
       "               '2024-08-28 00:00:10', '2024-08-28 00:00:11',\n",
       "               '2024-08-28 00:00:12', '2024-08-28 00:00:13',\n",
       "               '2024-08-28 00:00:14', '2024-08-28 00:00:15',\n",
       "               '2024-08-28 00:00:16', '2024-08-28 00:00:17',\n",
       "               '2024-08-28 00:00:18', '2024-08-28 00:00:19',\n",
       "               '2024-08-28 00:00:20', '2024-08-28 00:00:21',\n",
       "               '2024-08-28 00:00:22', '2024-08-28 00:00:23',\n",
       "               '2024-08-28 00:00:24', '2024-08-28 00:00:25',\n",
       "               '2024-08-28 00:00:26', '2024-08-28 00:00:27',\n",
       "               '2024-08-28 00:00:28', '2024-08-28 00:00:29',\n",
       "               '2024-08-28 00:00:30', '2024-08-28 00:00:31',\n",
       "               '2024-08-28 00:00:32', '2024-08-28 00:00:33',\n",
       "               '2024-08-28 00:00:34', '2024-08-28 00:00:35',\n",
       "               '2024-08-28 00:00:36', '2024-08-28 00:00:37',\n",
       "               '2024-08-28 00:00:38', '2024-08-28 00:00:39',\n",
       "               '2024-08-28 00:00:40', '2024-08-28 00:00:41',\n",
       "               '2024-08-28 00:00:42', '2024-08-28 00:00:43',\n",
       "               '2024-08-28 00:00:44', '2024-08-28 00:00:45',\n",
       "               '2024-08-28 00:00:46', '2024-08-28 00:00:47',\n",
       "               '2024-08-28 00:00:48', '2024-08-28 00:00:49',\n",
       "               '2024-08-28 00:00:50', '2024-08-28 00:00:51',\n",
       "               '2024-08-28 00:00:52', '2024-08-28 00:00:53',\n",
       "               '2024-08-28 00:00:54', '2024-08-28 00:00:55',\n",
       "               '2024-08-28 00:00:56', '2024-08-28 00:00:57',\n",
       "               '2024-08-28 00:00:58', '2024-08-28 00:00:59',\n",
       "               '2024-08-28 00:01:00', '2024-08-28 00:01:01',\n",
       "               '2024-08-28 00:01:02', '2024-08-28 00:01:03',\n",
       "               '2024-08-28 00:01:04', '2024-08-28 00:01:05',\n",
       "               '2024-08-28 00:01:06', '2024-08-28 00:01:07',\n",
       "               '2024-08-28 00:01:08', '2024-08-28 00:01:09',\n",
       "               '2024-08-28 00:01:10', '2024-08-28 00:01:11',\n",
       "               '2024-08-28 00:01:12', '2024-08-28 00:01:13',\n",
       "               '2024-08-28 00:01:14', '2024-08-28 00:01:15',\n",
       "               '2024-08-28 00:01:16', '2024-08-28 00:01:17',\n",
       "               '2024-08-28 00:01:18', '2024-08-28 00:01:19',\n",
       "               '2024-08-28 00:01:20', '2024-08-28 00:01:21',\n",
       "               '2024-08-28 00:01:22', '2024-08-28 00:01:23',\n",
       "               '2024-08-28 00:01:24', '2024-08-28 00:01:25',\n",
       "               '2024-08-28 00:01:26', '2024-08-28 00:01:27',\n",
       "               '2024-08-28 00:01:28', '2024-08-28 00:01:29',\n",
       "               '2024-08-28 00:01:30', '2024-08-28 00:01:31',\n",
       "               '2024-08-28 00:01:32', '2024-08-28 00:01:33',\n",
       "               '2024-08-28 00:01:34', '2024-08-28 00:01:35',\n",
       "               '2024-08-28 00:01:36', '2024-08-28 00:01:37',\n",
       "               '2024-08-28 00:01:38', '2024-08-28 00:01:39'],\n",
       "              dtype='datetime64[ns]', freq='s')"
      ]
     },
     "execution_count": 202,
     "metadata": {},
     "output_type": "execute_result"
    }
   ],
   "source": [
    "rng"
   ]
  },
  {
   "cell_type": "code",
   "execution_count": 144,
   "id": "a8d58b60-4657-4a96-8c2b-d25cb1e8000a",
   "metadata": {},
   "outputs": [],
   "source": [
    "ts = pd.Series(np.random.randint(0, 300, len(rng)), index=rng)"
   ]
  },
  {
   "cell_type": "code",
   "execution_count": 145,
   "id": "df6e40b1-76aa-4378-a2b9-6def94815146",
   "metadata": {},
   "outputs": [
    {
     "data": {
      "text/plain": [
       "2024-08-28 00:00:00    127\n",
       "2024-08-28 00:00:01     96\n",
       "2024-08-28 00:00:02    150\n",
       "2024-08-28 00:00:03    109\n",
       "2024-08-28 00:00:04    100\n",
       "                      ... \n",
       "2024-08-28 00:01:35    100\n",
       "2024-08-28 00:01:36     50\n",
       "2024-08-28 00:01:37    152\n",
       "2024-08-28 00:01:38    105\n",
       "2024-08-28 00:01:39     72\n",
       "Freq: s, Length: 100, dtype: int32"
      ]
     },
     "execution_count": 145,
     "metadata": {},
     "output_type": "execute_result"
    }
   ],
   "source": [
    "ts"
   ]
  },
  {
   "cell_type": "code",
   "execution_count": 146,
   "id": "1cba7922-dcf6-49b0-89bb-7280bb0c36ae",
   "metadata": {},
   "outputs": [
    {
     "data": {
      "text/plain": [
       "2024-08-28    14357\n",
       "Freq: 5min, dtype: int32"
      ]
     },
     "execution_count": 146,
     "metadata": {},
     "output_type": "execute_result"
    }
   ],
   "source": [
    "ts.resample(\"5min\").sum()"
   ]
  },
  {
   "cell_type": "markdown",
   "id": "2d455dbb-0cc9-4e52-bc85-3d74a3212345",
   "metadata": {},
   "source": [
    "# Series.tz_localize() localizes a time series to a time zone:"
   ]
  },
  {
   "cell_type": "code",
   "execution_count": 149,
   "id": "d268fc93-6f32-43d6-b724-47beb390a5a8",
   "metadata": {},
   "outputs": [],
   "source": [
    "rng = pd.date_range(\"3/8/2024 00:00\", periods=5, freq=\"D\")"
   ]
  },
  {
   "cell_type": "code",
   "execution_count": 150,
   "id": "09697f96-b667-44df-8bbc-8e9ef2a90856",
   "metadata": {},
   "outputs": [
    {
     "data": {
      "text/plain": [
       "DatetimeIndex(['2024-03-08', '2024-03-09', '2024-03-10', '2024-03-11',\n",
       "               '2024-03-12'],\n",
       "              dtype='datetime64[ns]', freq='D')"
      ]
     },
     "execution_count": 150,
     "metadata": {},
     "output_type": "execute_result"
    }
   ],
   "source": [
    "rng"
   ]
  },
  {
   "cell_type": "code",
   "execution_count": 151,
   "id": "ca1a5fd7-e653-43d2-bc59-b935726a3be9",
   "metadata": {},
   "outputs": [],
   "source": [
    "ts = pd.Series(np.random.randn(len(rng)), rng)"
   ]
  },
  {
   "cell_type": "code",
   "execution_count": 152,
   "id": "418d405d-dfc5-4987-a862-4912e16c254d",
   "metadata": {},
   "outputs": [
    {
     "data": {
      "text/plain": [
       "2024-03-08   -0.716794\n",
       "2024-03-09   -1.637133\n",
       "2024-03-10    0.818341\n",
       "2024-03-11    0.678338\n",
       "2024-03-12   -0.290729\n",
       "Freq: D, dtype: float64"
      ]
     },
     "execution_count": 152,
     "metadata": {},
     "output_type": "execute_result"
    }
   ],
   "source": [
    "ts"
   ]
  },
  {
   "cell_type": "code",
   "execution_count": 153,
   "id": "ccde82cf-1e46-402f-a243-1fdfc2b1bb1a",
   "metadata": {},
   "outputs": [],
   "source": [
    "ts_utc = ts.tz_localize(\"UTC\")"
   ]
  },
  {
   "cell_type": "code",
   "execution_count": 154,
   "id": "7ccf10b3-798c-457b-92cc-7f45cb86725a",
   "metadata": {},
   "outputs": [
    {
     "data": {
      "text/plain": [
       "2024-03-08 00:00:00+00:00   -0.716794\n",
       "2024-03-09 00:00:00+00:00   -1.637133\n",
       "2024-03-10 00:00:00+00:00    0.818341\n",
       "2024-03-11 00:00:00+00:00    0.678338\n",
       "2024-03-12 00:00:00+00:00   -0.290729\n",
       "Freq: D, dtype: float64"
      ]
     },
     "execution_count": 154,
     "metadata": {},
     "output_type": "execute_result"
    }
   ],
   "source": [
    "ts_utc"
   ]
  },
  {
   "cell_type": "markdown",
   "id": "3a2343e5-dd3e-4e5b-9278-dee756ce213b",
   "metadata": {},
   "source": [
    "# Adding a non-fixed duration (BusinessDay) to a time series:"
   ]
  },
  {
   "cell_type": "code",
   "execution_count": 155,
   "id": "8b8ee6d5-b864-4dad-879e-bb4cc3f19fec",
   "metadata": {},
   "outputs": [
    {
     "data": {
      "text/plain": [
       "DatetimeIndex(['2024-03-08', '2024-03-09', '2024-03-10', '2024-03-11',\n",
       "               '2024-03-12'],\n",
       "              dtype='datetime64[ns]', freq='D')"
      ]
     },
     "execution_count": 155,
     "metadata": {},
     "output_type": "execute_result"
    }
   ],
   "source": [
    "rng"
   ]
  },
  {
   "cell_type": "code",
   "execution_count": 156,
   "id": "12ead0c6-4afd-4ae9-bba7-09bbda082bdd",
   "metadata": {},
   "outputs": [
    {
     "data": {
      "text/plain": [
       "DatetimeIndex(['2024-03-15', '2024-03-15', '2024-03-15', '2024-03-18',\n",
       "               '2024-03-19'],\n",
       "              dtype='datetime64[ns]', freq=None)"
      ]
     },
     "execution_count": 156,
     "metadata": {},
     "output_type": "execute_result"
    }
   ],
   "source": [
    "rng+pd.offsets.BusinessDay(5)"
   ]
  },
  {
   "cell_type": "markdown",
   "id": "ccc98820-354a-426d-aed7-c53bf2d7ee48",
   "metadata": {},
   "source": [
    "# Categoricals"
   ]
  },
  {
   "cell_type": "markdown",
   "id": "3f9878e6-90c8-4d52-8a5b-97e0fffafa9c",
   "metadata": {},
   "source": [
    "pandas can include categorical data in a DataFrame"
   ]
  },
  {
   "cell_type": "code",
   "execution_count": 157,
   "id": "dd5348e1-5f01-4f89-a970-9525888fd9ff",
   "metadata": {},
   "outputs": [],
   "source": [
    "df = pd.DataFrame({\n",
    "    \"id\": [1,2,3,4,5,6],\n",
    "    \"raw_grade\": [\"a\",\"b\",\"b\",\"a\",\"a\",\"e\"]\n",
    "})"
   ]
  },
  {
   "cell_type": "code",
   "execution_count": 158,
   "id": "3fdf26a3-c901-4515-ad82-793beb70530b",
   "metadata": {},
   "outputs": [
    {
     "data": {
      "text/html": [
       "<div>\n",
       "<style scoped>\n",
       "    .dataframe tbody tr th:only-of-type {\n",
       "        vertical-align: middle;\n",
       "    }\n",
       "\n",
       "    .dataframe tbody tr th {\n",
       "        vertical-align: top;\n",
       "    }\n",
       "\n",
       "    .dataframe thead th {\n",
       "        text-align: right;\n",
       "    }\n",
       "</style>\n",
       "<table border=\"1\" class=\"dataframe\">\n",
       "  <thead>\n",
       "    <tr style=\"text-align: right;\">\n",
       "      <th></th>\n",
       "      <th>id</th>\n",
       "      <th>raw_grade</th>\n",
       "    </tr>\n",
       "  </thead>\n",
       "  <tbody>\n",
       "    <tr>\n",
       "      <th>0</th>\n",
       "      <td>1</td>\n",
       "      <td>a</td>\n",
       "    </tr>\n",
       "    <tr>\n",
       "      <th>1</th>\n",
       "      <td>2</td>\n",
       "      <td>b</td>\n",
       "    </tr>\n",
       "    <tr>\n",
       "      <th>2</th>\n",
       "      <td>3</td>\n",
       "      <td>b</td>\n",
       "    </tr>\n",
       "    <tr>\n",
       "      <th>3</th>\n",
       "      <td>4</td>\n",
       "      <td>a</td>\n",
       "    </tr>\n",
       "    <tr>\n",
       "      <th>4</th>\n",
       "      <td>5</td>\n",
       "      <td>a</td>\n",
       "    </tr>\n",
       "    <tr>\n",
       "      <th>5</th>\n",
       "      <td>6</td>\n",
       "      <td>e</td>\n",
       "    </tr>\n",
       "  </tbody>\n",
       "</table>\n",
       "</div>"
      ],
      "text/plain": [
       "   id raw_grade\n",
       "0   1         a\n",
       "1   2         b\n",
       "2   3         b\n",
       "3   4         a\n",
       "4   5         a\n",
       "5   6         e"
      ]
     },
     "execution_count": 158,
     "metadata": {},
     "output_type": "execute_result"
    }
   ],
   "source": [
    "df"
   ]
  },
  {
   "cell_type": "markdown",
   "id": "5a6be647-5e01-4d5c-adf7-878700b85f4a",
   "metadata": {},
   "source": [
    "# Converting the raw grades to a categorical data type:"
   ]
  },
  {
   "cell_type": "code",
   "execution_count": 159,
   "id": "8fa1f93f-22e9-4d16-a38c-45ad2294ed6c",
   "metadata": {},
   "outputs": [],
   "source": [
    "df[\"grade\"] = df[\"raw_grade\"].astype(\"category\")"
   ]
  },
  {
   "cell_type": "code",
   "execution_count": 160,
   "id": "588c02d6-3774-432f-93b0-5d4552e5b866",
   "metadata": {},
   "outputs": [
    {
     "data": {
      "text/plain": [
       "0    a\n",
       "1    b\n",
       "2    b\n",
       "3    a\n",
       "4    a\n",
       "5    e\n",
       "Name: grade, dtype: category\n",
       "Categories (3, object): ['a', 'b', 'e']"
      ]
     },
     "execution_count": 160,
     "metadata": {},
     "output_type": "execute_result"
    }
   ],
   "source": [
    "df[\"grade\"]"
   ]
  },
  {
   "cell_type": "markdown",
   "id": "be30b3f9-0cc8-4932-8b43-590780dd8fd0",
   "metadata": {},
   "source": [
    "# Rename the categories to more meaningful names:"
   ]
  },
  {
   "cell_type": "code",
   "execution_count": 161,
   "id": "77608cb5-1d20-4a07-8b30-77b13e40c3d1",
   "metadata": {},
   "outputs": [],
   "source": [
    "new_categories = [\"vary good\",\"good\", \"vary bad\"]"
   ]
  },
  {
   "cell_type": "code",
   "execution_count": 162,
   "id": "781a4bb9-ba52-40eb-95b5-17993d01ea8a",
   "metadata": {},
   "outputs": [],
   "source": [
    "df[\"grade\"] = df[\"grade\"].cat.rename_categories(new_categories) "
   ]
  },
  {
   "cell_type": "code",
   "execution_count": 163,
   "id": "9fcbb49d-9f68-4e72-a035-e96f8e49f3eb",
   "metadata": {},
   "outputs": [
    {
     "data": {
      "text/plain": [
       "0    vary good\n",
       "1         good\n",
       "2         good\n",
       "3    vary good\n",
       "4    vary good\n",
       "5     vary bad\n",
       "Name: grade, dtype: category\n",
       "Categories (3, object): ['vary good', 'good', 'vary bad']"
      ]
     },
     "execution_count": 163,
     "metadata": {},
     "output_type": "execute_result"
    }
   ],
   "source": [
    "df[\"grade\"]"
   ]
  },
  {
   "cell_type": "markdown",
   "id": "7c6dd6fc-62fb-4459-9dc9-e41cd7c93c8a",
   "metadata": {},
   "source": [
    "# Reorder the categories and simultaneously add the missing categories (methods under Series.cat() return a new Series by default):"
   ]
  },
  {
   "cell_type": "code",
   "execution_count": 164,
   "id": "3d27d9eb-0eda-4d47-beaa-fcea96cf5bd1",
   "metadata": {},
   "outputs": [],
   "source": [
    "df[\"grade\"]= df[\"grade\"].cat.set_categories([\"vary good\", \"bad\", \"medium\", \"good\", \"vary bad\"]) "
   ]
  },
  {
   "cell_type": "code",
   "execution_count": 165,
   "id": "46fd546f-caab-4773-9e30-3624eec8b9dd",
   "metadata": {},
   "outputs": [
    {
     "data": {
      "text/plain": [
       "0    vary good\n",
       "1         good\n",
       "2         good\n",
       "3    vary good\n",
       "4    vary good\n",
       "5     vary bad\n",
       "Name: grade, dtype: category\n",
       "Categories (5, object): ['vary good', 'bad', 'medium', 'good', 'vary bad']"
      ]
     },
     "execution_count": 165,
     "metadata": {},
     "output_type": "execute_result"
    }
   ],
   "source": [
    "df[\"grade\"]"
   ]
  },
  {
   "cell_type": "markdown",
   "id": "da6ac047-478a-4f38-84c5-aa534f53d5c0",
   "metadata": {},
   "source": [
    "# Sorting is per order in the categories, not lexical order:"
   ]
  },
  {
   "cell_type": "code",
   "execution_count": 166,
   "id": "69f779b2-abaf-460d-9448-6abda824ded9",
   "metadata": {},
   "outputs": [
    {
     "data": {
      "text/html": [
       "<div>\n",
       "<style scoped>\n",
       "    .dataframe tbody tr th:only-of-type {\n",
       "        vertical-align: middle;\n",
       "    }\n",
       "\n",
       "    .dataframe tbody tr th {\n",
       "        vertical-align: top;\n",
       "    }\n",
       "\n",
       "    .dataframe thead th {\n",
       "        text-align: right;\n",
       "    }\n",
       "</style>\n",
       "<table border=\"1\" class=\"dataframe\">\n",
       "  <thead>\n",
       "    <tr style=\"text-align: right;\">\n",
       "      <th></th>\n",
       "      <th>id</th>\n",
       "      <th>raw_grade</th>\n",
       "      <th>grade</th>\n",
       "    </tr>\n",
       "  </thead>\n",
       "  <tbody>\n",
       "    <tr>\n",
       "      <th>0</th>\n",
       "      <td>1</td>\n",
       "      <td>a</td>\n",
       "      <td>vary good</td>\n",
       "    </tr>\n",
       "    <tr>\n",
       "      <th>3</th>\n",
       "      <td>4</td>\n",
       "      <td>a</td>\n",
       "      <td>vary good</td>\n",
       "    </tr>\n",
       "    <tr>\n",
       "      <th>4</th>\n",
       "      <td>5</td>\n",
       "      <td>a</td>\n",
       "      <td>vary good</td>\n",
       "    </tr>\n",
       "    <tr>\n",
       "      <th>1</th>\n",
       "      <td>2</td>\n",
       "      <td>b</td>\n",
       "      <td>good</td>\n",
       "    </tr>\n",
       "    <tr>\n",
       "      <th>2</th>\n",
       "      <td>3</td>\n",
       "      <td>b</td>\n",
       "      <td>good</td>\n",
       "    </tr>\n",
       "    <tr>\n",
       "      <th>5</th>\n",
       "      <td>6</td>\n",
       "      <td>e</td>\n",
       "      <td>vary bad</td>\n",
       "    </tr>\n",
       "  </tbody>\n",
       "</table>\n",
       "</div>"
      ],
      "text/plain": [
       "   id raw_grade      grade\n",
       "0   1         a  vary good\n",
       "3   4         a  vary good\n",
       "4   5         a  vary good\n",
       "1   2         b       good\n",
       "2   3         b       good\n",
       "5   6         e   vary bad"
      ]
     },
     "execution_count": 166,
     "metadata": {},
     "output_type": "execute_result"
    }
   ],
   "source": [
    "df.sort_values(by=\"grade\")"
   ]
  },
  {
   "cell_type": "markdown",
   "id": "d16c9bd5-bf36-4197-8e9d-90a2ab59e1d9",
   "metadata": {},
   "source": [
    "# Grouping by a categorical column with observed=False also shows empty categories:"
   ]
  },
  {
   "cell_type": "code",
   "execution_count": 167,
   "id": "61715dd2-a1a5-4df8-9bc0-6844a53daca3",
   "metadata": {},
   "outputs": [
    {
     "data": {
      "text/plain": [
       "grade\n",
       "vary good    3\n",
       "bad          0\n",
       "medium       0\n",
       "good         2\n",
       "vary bad     1\n",
       "dtype: int64"
      ]
     },
     "execution_count": 167,
     "metadata": {},
     "output_type": "execute_result"
    }
   ],
   "source": [
    "df.groupby(\"grade\", observed= False).size()"
   ]
  },
  {
   "cell_type": "markdown",
   "id": "4822aa2e-f0c6-442e-8d6c-2e5ce5f6b61c",
   "metadata": {},
   "source": [
    "# Plotting"
   ]
  },
  {
   "cell_type": "markdown",
   "id": "ea347d7f-cf6b-48ed-8969-7ddc35f8e808",
   "metadata": {},
   "source": [
    "We use the standard convention for referencing the matplotlib API:"
   ]
  },
  {
   "cell_type": "code",
   "execution_count": 168,
   "id": "c5df3ac8-e1ea-4260-9ef5-e71180aaca44",
   "metadata": {},
   "outputs": [],
   "source": [
    "import matplotlib.pyplot as plt\n",
    "plt.close(\"all\")"
   ]
  },
  {
   "cell_type": "code",
   "execution_count": 257,
   "id": "0bca1866-d67c-404e-92a4-232b8c14f511",
   "metadata": {},
   "outputs": [],
   "source": [
    "# The plt.close method is used to close a figure window:"
   ]
  },
  {
   "cell_type": "code",
   "execution_count": 169,
   "id": "cb864c1a-0b01-430d-b337-53cedba997cd",
   "metadata": {},
   "outputs": [],
   "source": [
    "ts = pd.Series(np.random.randn(1000), index=pd.date_range(\"28/8/2024\", periods=1000))"
   ]
  },
  {
   "cell_type": "code",
   "execution_count": 170,
   "id": "f0368a50-96cd-47a2-b044-a2ae55db352d",
   "metadata": {},
   "outputs": [
    {
     "data": {
      "text/plain": [
       "2024-08-28   -1.552247\n",
       "2024-08-29    0.881310\n",
       "2024-08-30   -0.292903\n",
       "2024-08-31   -0.696562\n",
       "2024-09-01   -0.462554\n",
       "                ...   \n",
       "2027-05-20   -0.098674\n",
       "2027-05-21   -1.741997\n",
       "2027-05-22    1.450032\n",
       "2027-05-23    1.695325\n",
       "2027-05-24   -1.173073\n",
       "Freq: D, Length: 1000, dtype: float64"
      ]
     },
     "execution_count": 170,
     "metadata": {},
     "output_type": "execute_result"
    }
   ],
   "source": [
    "ts"
   ]
  },
  {
   "cell_type": "code",
   "execution_count": 171,
   "id": "ba617439-115a-482f-bdeb-d9ca4dec614f",
   "metadata": {},
   "outputs": [],
   "source": [
    "ts = ts.cumsum()"
   ]
  },
  {
   "cell_type": "code",
   "execution_count": 172,
   "id": "ba5d471b-ba60-405a-b58f-bb4e3d440710",
   "metadata": {},
   "outputs": [
    {
     "data": {
      "text/plain": [
       "2024-08-28    -1.552247\n",
       "2024-08-29    -0.670937\n",
       "2024-08-30    -0.963840\n",
       "2024-08-31    -1.660402\n",
       "2024-09-01    -2.122955\n",
       "                ...    \n",
       "2027-05-20   -16.625176\n",
       "2027-05-21   -18.367173\n",
       "2027-05-22   -16.917141\n",
       "2027-05-23   -15.221816\n",
       "2027-05-24   -16.394890\n",
       "Freq: D, Length: 1000, dtype: float64"
      ]
     },
     "execution_count": 172,
     "metadata": {},
     "output_type": "execute_result"
    }
   ],
   "source": [
    "ts"
   ]
  },
  {
   "cell_type": "code",
   "execution_count": 264,
   "id": "123ff44d-0506-468c-b388-1416a90007f8",
   "metadata": {},
   "outputs": [
    {
     "data": {
      "text/plain": [
       "<Axes: >"
      ]
     },
     "execution_count": 264,
     "metadata": {},
     "output_type": "execute_result"
    },
    {
     "data": {
      "image/png": "[encoded data removed]",
      "text/plain": [
       "<Figure size 640x480 with 1 Axes>"
      ]
     },
     "metadata": {},
     "output_type": "display_data"
    }
   ],
   "source": [
    "ts.plot()"
   ]
  },
  {
   "cell_type": "markdown",
   "id": "87023bb6-87e3-4b96-9c7b-6615481b3908",
   "metadata": {},
   "source": [
    "# Note\n",
    "    When using Jupyter, the plot will appear using plot(). Otherwise use matplotlib.pyplot.show to show it or matplotlib.pyplot.savefig to write it to a file."
   ]
  },
  {
   "cell_type": "markdown",
   "id": "c3c53f42-0aec-4862-a4a4-d07363d493f0",
   "metadata": {},
   "source": [
    "# plot() plots all columns:"
   ]
  },
  {
   "cell_type": "code",
   "execution_count": 173,
   "id": "38732d64-28f1-4640-8a8c-c46b7a813da9",
   "metadata": {},
   "outputs": [],
   "source": [
    "df = pd.DataFrame(np.random.randn(1000, 4), index=ts.index, columns=[\"A\",\"B\",\"C\",\"D\"])"
   ]
  },
  {
   "cell_type": "code",
   "execution_count": 174,
   "id": "5d1e8438-4c8b-42cc-9263-046d50ae01dc",
   "metadata": {},
   "outputs": [
    {
     "data": {
      "text/html": [
       "<div>\n",
       "<style scoped>\n",
       "    .dataframe tbody tr th:only-of-type {\n",
       "        vertical-align: middle;\n",
       "    }\n",
       "\n",
       "    .dataframe tbody tr th {\n",
       "        vertical-align: top;\n",
       "    }\n",
       "\n",
       "    .dataframe thead th {\n",
       "        text-align: right;\n",
       "    }\n",
       "</style>\n",
       "<table border=\"1\" class=\"dataframe\">\n",
       "  <thead>\n",
       "    <tr style=\"text-align: right;\">\n",
       "      <th></th>\n",
       "      <th>A</th>\n",
       "      <th>B</th>\n",
       "      <th>C</th>\n",
       "      <th>D</th>\n",
       "    </tr>\n",
       "  </thead>\n",
       "  <tbody>\n",
       "    <tr>\n",
       "      <th>2024-08-28</th>\n",
       "      <td>-0.361554</td>\n",
       "      <td>1.809638</td>\n",
       "      <td>0.556188</td>\n",
       "      <td>-1.013751</td>\n",
       "    </tr>\n",
       "    <tr>\n",
       "      <th>2024-08-29</th>\n",
       "      <td>-1.013990</td>\n",
       "      <td>0.258796</td>\n",
       "      <td>1.064451</td>\n",
       "      <td>0.746375</td>\n",
       "    </tr>\n",
       "    <tr>\n",
       "      <th>2024-08-30</th>\n",
       "      <td>-0.366779</td>\n",
       "      <td>-0.084172</td>\n",
       "      <td>-1.107131</td>\n",
       "      <td>1.856604</td>\n",
       "    </tr>\n",
       "    <tr>\n",
       "      <th>2024-08-31</th>\n",
       "      <td>-1.117940</td>\n",
       "      <td>-0.983946</td>\n",
       "      <td>0.057477</td>\n",
       "      <td>0.679052</td>\n",
       "    </tr>\n",
       "    <tr>\n",
       "      <th>2024-09-01</th>\n",
       "      <td>0.039835</td>\n",
       "      <td>-2.016273</td>\n",
       "      <td>-0.112721</td>\n",
       "      <td>0.595304</td>\n",
       "    </tr>\n",
       "    <tr>\n",
       "      <th>...</th>\n",
       "      <td>...</td>\n",
       "      <td>...</td>\n",
       "      <td>...</td>\n",
       "      <td>...</td>\n",
       "    </tr>\n",
       "    <tr>\n",
       "      <th>2027-05-20</th>\n",
       "      <td>-0.093763</td>\n",
       "      <td>1.557366</td>\n",
       "      <td>-1.128405</td>\n",
       "      <td>-0.401962</td>\n",
       "    </tr>\n",
       "    <tr>\n",
       "      <th>2027-05-21</th>\n",
       "      <td>0.561879</td>\n",
       "      <td>-0.422970</td>\n",
       "      <td>-0.416499</td>\n",
       "      <td>-0.198508</td>\n",
       "    </tr>\n",
       "    <tr>\n",
       "      <th>2027-05-22</th>\n",
       "      <td>1.006850</td>\n",
       "      <td>1.303658</td>\n",
       "      <td>0.427609</td>\n",
       "      <td>-0.062909</td>\n",
       "    </tr>\n",
       "    <tr>\n",
       "      <th>2027-05-23</th>\n",
       "      <td>0.586684</td>\n",
       "      <td>-1.223226</td>\n",
       "      <td>0.794096</td>\n",
       "      <td>-0.511025</td>\n",
       "    </tr>\n",
       "    <tr>\n",
       "      <th>2027-05-24</th>\n",
       "      <td>0.139262</td>\n",
       "      <td>-0.748696</td>\n",
       "      <td>-0.256665</td>\n",
       "      <td>1.592646</td>\n",
       "    </tr>\n",
       "  </tbody>\n",
       "</table>\n",
       "<p>1000 rows × 4 columns</p>\n",
       "</div>"
      ],
      "text/plain": [
       "                   A         B         C         D\n",
       "2024-08-28 -0.361554  1.809638  0.556188 -1.013751\n",
       "2024-08-29 -1.013990  0.258796  1.064451  0.746375\n",
       "2024-08-30 -0.366779 -0.084172 -1.107131  1.856604\n",
       "2024-08-31 -1.117940 -0.983946  0.057477  0.679052\n",
       "2024-09-01  0.039835 -2.016273 -0.112721  0.595304\n",
       "...              ...       ...       ...       ...\n",
       "2027-05-20 -0.093763  1.557366 -1.128405 -0.401962\n",
       "2027-05-21  0.561879 -0.422970 -0.416499 -0.198508\n",
       "2027-05-22  1.006850  1.303658  0.427609 -0.062909\n",
       "2027-05-23  0.586684 -1.223226  0.794096 -0.511025\n",
       "2027-05-24  0.139262 -0.748696 -0.256665  1.592646\n",
       "\n",
       "[1000 rows x 4 columns]"
      ]
     },
     "execution_count": 174,
     "metadata": {},
     "output_type": "execute_result"
    }
   ],
   "source": [
    "df"
   ]
  },
  {
   "cell_type": "code",
   "execution_count": 175,
   "id": "ab14f107-cc8e-4f00-9da3-e6b4583693d9",
   "metadata": {},
   "outputs": [],
   "source": [
    "df =df.cumsum()"
   ]
  },
  {
   "cell_type": "code",
   "execution_count": 176,
   "id": "2d869048-5e9f-4c2b-804b-3f54229c42bd",
   "metadata": {},
   "outputs": [
    {
     "data": {
      "text/html": [
       "<div>\n",
       "<style scoped>\n",
       "    .dataframe tbody tr th:only-of-type {\n",
       "        vertical-align: middle;\n",
       "    }\n",
       "\n",
       "    .dataframe tbody tr th {\n",
       "        vertical-align: top;\n",
       "    }\n",
       "\n",
       "    .dataframe thead th {\n",
       "        text-align: right;\n",
       "    }\n",
       "</style>\n",
       "<table border=\"1\" class=\"dataframe\">\n",
       "  <thead>\n",
       "    <tr style=\"text-align: right;\">\n",
       "      <th></th>\n",
       "      <th>A</th>\n",
       "      <th>B</th>\n",
       "      <th>C</th>\n",
       "      <th>D</th>\n",
       "    </tr>\n",
       "  </thead>\n",
       "  <tbody>\n",
       "    <tr>\n",
       "      <th>2024-08-28</th>\n",
       "      <td>-0.361554</td>\n",
       "      <td>1.809638</td>\n",
       "      <td>0.556188</td>\n",
       "      <td>-1.013751</td>\n",
       "    </tr>\n",
       "    <tr>\n",
       "      <th>2024-08-29</th>\n",
       "      <td>-1.375544</td>\n",
       "      <td>2.068435</td>\n",
       "      <td>1.620639</td>\n",
       "      <td>-0.267376</td>\n",
       "    </tr>\n",
       "    <tr>\n",
       "      <th>2024-08-30</th>\n",
       "      <td>-1.742323</td>\n",
       "      <td>1.984262</td>\n",
       "      <td>0.513508</td>\n",
       "      <td>1.589228</td>\n",
       "    </tr>\n",
       "    <tr>\n",
       "      <th>2024-08-31</th>\n",
       "      <td>-2.860263</td>\n",
       "      <td>1.000317</td>\n",
       "      <td>0.570984</td>\n",
       "      <td>2.268280</td>\n",
       "    </tr>\n",
       "    <tr>\n",
       "      <th>2024-09-01</th>\n",
       "      <td>-2.820428</td>\n",
       "      <td>-1.015956</td>\n",
       "      <td>0.458263</td>\n",
       "      <td>2.863584</td>\n",
       "    </tr>\n",
       "    <tr>\n",
       "      <th>...</th>\n",
       "      <td>...</td>\n",
       "      <td>...</td>\n",
       "      <td>...</td>\n",
       "      <td>...</td>\n",
       "    </tr>\n",
       "    <tr>\n",
       "      <th>2027-05-20</th>\n",
       "      <td>87.240203</td>\n",
       "      <td>19.905577</td>\n",
       "      <td>10.026752</td>\n",
       "      <td>-8.264362</td>\n",
       "    </tr>\n",
       "    <tr>\n",
       "      <th>2027-05-21</th>\n",
       "      <td>87.802082</td>\n",
       "      <td>19.482607</td>\n",
       "      <td>9.610253</td>\n",
       "      <td>-8.462870</td>\n",
       "    </tr>\n",
       "    <tr>\n",
       "      <th>2027-05-22</th>\n",
       "      <td>88.808933</td>\n",
       "      <td>20.786265</td>\n",
       "      <td>10.037863</td>\n",
       "      <td>-8.525779</td>\n",
       "    </tr>\n",
       "    <tr>\n",
       "      <th>2027-05-23</th>\n",
       "      <td>89.395616</td>\n",
       "      <td>19.563038</td>\n",
       "      <td>10.831959</td>\n",
       "      <td>-9.036805</td>\n",
       "    </tr>\n",
       "    <tr>\n",
       "      <th>2027-05-24</th>\n",
       "      <td>89.534878</td>\n",
       "      <td>18.814342</td>\n",
       "      <td>10.575294</td>\n",
       "      <td>-7.444158</td>\n",
       "    </tr>\n",
       "  </tbody>\n",
       "</table>\n",
       "<p>1000 rows × 4 columns</p>\n",
       "</div>"
      ],
      "text/plain": [
       "                    A          B          C         D\n",
       "2024-08-28  -0.361554   1.809638   0.556188 -1.013751\n",
       "2024-08-29  -1.375544   2.068435   1.620639 -0.267376\n",
       "2024-08-30  -1.742323   1.984262   0.513508  1.589228\n",
       "2024-08-31  -2.860263   1.000317   0.570984  2.268280\n",
       "2024-09-01  -2.820428  -1.015956   0.458263  2.863584\n",
       "...               ...        ...        ...       ...\n",
       "2027-05-20  87.240203  19.905577  10.026752 -8.264362\n",
       "2027-05-21  87.802082  19.482607   9.610253 -8.462870\n",
       "2027-05-22  88.808933  20.786265  10.037863 -8.525779\n",
       "2027-05-23  89.395616  19.563038  10.831959 -9.036805\n",
       "2027-05-24  89.534878  18.814342  10.575294 -7.444158\n",
       "\n",
       "[1000 rows x 4 columns]"
      ]
     },
     "execution_count": 176,
     "metadata": {},
     "output_type": "execute_result"
    }
   ],
   "source": [
    "df"
   ]
  },
  {
   "cell_type": "code",
   "execution_count": 177,
   "id": "4d3d4702-266c-441e-b611-ae2006dbb2e8",
   "metadata": {},
   "outputs": [
    {
     "data": {
      "text/plain": [
       "<Figure size 640x480 with 0 Axes>"
      ]
     },
     "metadata": {},
     "output_type": "display_data"
    }
   ],
   "source": [
    "plt.figure();"
   ]
  },
  {
   "cell_type": "code",
   "execution_count": 178,
   "id": "34b6e1a0-101e-4170-90cc-ce7ec1211202",
   "metadata": {},
   "outputs": [
    {
     "data": {
      "image/png": "[encoded data removed]",
      "text/plain": [
       "<Figure size 640x480 with 1 Axes>"
      ]
     },
     "metadata": {},
     "output_type": "display_data"
    }
   ],
   "source": [
    "df.plot();"
   ]
  },
  {
   "cell_type": "code",
   "execution_count": 182,
   "id": "f8fe75f8-6410-4a0b-a320-81f5cf85e57f",
   "metadata": {},
   "outputs": [
    {
     "name": "stderr",
     "output_type": "stream",
     "text": [
      "No artists with labels found to put in legend.  Note that artists whose label start with an underscore are ignored when legend() is called with no argument.\n"
     ]
    },
    {
     "data": {
      "image/png": "[encoded data removed]",
      "text/plain": [
       "<Figure size 640x480 with 1 Axes>"
      ]
     },
     "metadata": {},
     "output_type": "display_data"
    }
   ],
   "source": [
    "plt.legend(fontsize='large', loc=\"best\");"
   ]
  },
  {
   "cell_type": "markdown",
   "id": "576741ae-70ed-4ac5-8c0a-77882533b39d",
   "metadata": {},
   "source": [
    "# Importing and exporting data"
   ]
  },
  {
   "cell_type": "markdown",
   "id": "96008e80-2992-4123-8a67-23608ba49f59",
   "metadata": {},
   "source": [
    "Input and output tools\n"
   ]
  },
  {
   "cell_type": "markdown",
   "id": "8d8627f2-1947-4c88-9d16-df0024ede7a2",
   "metadata": {},
   "source": [
    "# CSV"
   ]
  },
  {
   "cell_type": "markdown",
   "id": "35967938-1938-49f6-9d18-6295f1c98391",
   "metadata": {},
   "source": [
    " Writing to a csv file: using DataFrame.to_csv()"
   ]
  },
  {
   "cell_type": "code",
   "execution_count": 184,
   "id": "e1021923-f969-43e2-89e4-55874b2219d3",
   "metadata": {},
   "outputs": [],
   "source": [
    "df = pd.DataFrame(np.random.randint(0, 5,(10,5)))"
   ]
  },
  {
   "cell_type": "code",
   "execution_count": 185,
   "id": "7278a606-265d-4e10-8cf1-b349f19a3712",
   "metadata": {},
   "outputs": [
    {
     "data": {
      "text/html": [
       "<div>\n",
       "<style scoped>\n",
       "    .dataframe tbody tr th:only-of-type {\n",
       "        vertical-align: middle;\n",
       "    }\n",
       "\n",
       "    .dataframe tbody tr th {\n",
       "        vertical-align: top;\n",
       "    }\n",
       "\n",
       "    .dataframe thead th {\n",
       "        text-align: right;\n",
       "    }\n",
       "</style>\n",
       "<table border=\"1\" class=\"dataframe\">\n",
       "  <thead>\n",
       "    <tr style=\"text-align: right;\">\n",
       "      <th></th>\n",
       "      <th>0</th>\n",
       "      <th>1</th>\n",
       "      <th>2</th>\n",
       "      <th>3</th>\n",
       "      <th>4</th>\n",
       "    </tr>\n",
       "  </thead>\n",
       "  <tbody>\n",
       "    <tr>\n",
       "      <th>0</th>\n",
       "      <td>2</td>\n",
       "      <td>2</td>\n",
       "      <td>2</td>\n",
       "      <td>2</td>\n",
       "      <td>1</td>\n",
       "    </tr>\n",
       "    <tr>\n",
       "      <th>1</th>\n",
       "      <td>0</td>\n",
       "      <td>0</td>\n",
       "      <td>0</td>\n",
       "      <td>1</td>\n",
       "      <td>0</td>\n",
       "    </tr>\n",
       "    <tr>\n",
       "      <th>2</th>\n",
       "      <td>0</td>\n",
       "      <td>0</td>\n",
       "      <td>0</td>\n",
       "      <td>2</td>\n",
       "      <td>4</td>\n",
       "    </tr>\n",
       "    <tr>\n",
       "      <th>3</th>\n",
       "      <td>4</td>\n",
       "      <td>3</td>\n",
       "      <td>4</td>\n",
       "      <td>1</td>\n",
       "      <td>4</td>\n",
       "    </tr>\n",
       "    <tr>\n",
       "      <th>4</th>\n",
       "      <td>1</td>\n",
       "      <td>1</td>\n",
       "      <td>1</td>\n",
       "      <td>1</td>\n",
       "      <td>2</td>\n",
       "    </tr>\n",
       "    <tr>\n",
       "      <th>5</th>\n",
       "      <td>3</td>\n",
       "      <td>0</td>\n",
       "      <td>0</td>\n",
       "      <td>0</td>\n",
       "      <td>0</td>\n",
       "    </tr>\n",
       "    <tr>\n",
       "      <th>6</th>\n",
       "      <td>2</td>\n",
       "      <td>0</td>\n",
       "      <td>0</td>\n",
       "      <td>1</td>\n",
       "      <td>3</td>\n",
       "    </tr>\n",
       "    <tr>\n",
       "      <th>7</th>\n",
       "      <td>2</td>\n",
       "      <td>3</td>\n",
       "      <td>1</td>\n",
       "      <td>0</td>\n",
       "      <td>1</td>\n",
       "    </tr>\n",
       "    <tr>\n",
       "      <th>8</th>\n",
       "      <td>4</td>\n",
       "      <td>4</td>\n",
       "      <td>3</td>\n",
       "      <td>0</td>\n",
       "      <td>0</td>\n",
       "    </tr>\n",
       "    <tr>\n",
       "      <th>9</th>\n",
       "      <td>2</td>\n",
       "      <td>0</td>\n",
       "      <td>3</td>\n",
       "      <td>1</td>\n",
       "      <td>4</td>\n",
       "    </tr>\n",
       "  </tbody>\n",
       "</table>\n",
       "</div>"
      ],
      "text/plain": [
       "   0  1  2  3  4\n",
       "0  2  2  2  2  1\n",
       "1  0  0  0  1  0\n",
       "2  0  0  0  2  4\n",
       "3  4  3  4  1  4\n",
       "4  1  1  1  1  2\n",
       "5  3  0  0  0  0\n",
       "6  2  0  0  1  3\n",
       "7  2  3  1  0  1\n",
       "8  4  4  3  0  0\n",
       "9  2  0  3  1  4"
      ]
     },
     "execution_count": 185,
     "metadata": {},
     "output_type": "execute_result"
    }
   ],
   "source": [
    "df"
   ]
  },
  {
   "cell_type": "code",
   "execution_count": 186,
   "id": "bd66c795-ce57-4026-877a-a7bb9c00418a",
   "metadata": {},
   "outputs": [],
   "source": [
    "df.to_csv(\"foo.csv\")"
   ]
  },
  {
   "cell_type": "markdown",
   "id": "d264e1c5-ee9a-4fda-88f0-0bca105f0763",
   "metadata": {},
   "source": [
    "Reading from a csv file: using read_csv()"
   ]
  },
  {
   "cell_type": "code",
   "execution_count": 188,
   "id": "782185d5-8137-4d25-b76a-4dd8b1c207f6",
   "metadata": {},
   "outputs": [
    {
     "data": {
      "text/html": [
       "<div>\n",
       "<style scoped>\n",
       "    .dataframe tbody tr th:only-of-type {\n",
       "        vertical-align: middle;\n",
       "    }\n",
       "\n",
       "    .dataframe tbody tr th {\n",
       "        vertical-align: top;\n",
       "    }\n",
       "\n",
       "    .dataframe thead th {\n",
       "        text-align: right;\n",
       "    }\n",
       "</style>\n",
       "<table border=\"1\" class=\"dataframe\">\n",
       "  <thead>\n",
       "    <tr style=\"text-align: right;\">\n",
       "      <th></th>\n",
       "      <th>Unnamed: 0</th>\n",
       "      <th>0</th>\n",
       "      <th>1</th>\n",
       "      <th>2</th>\n",
       "      <th>3</th>\n",
       "      <th>4</th>\n",
       "    </tr>\n",
       "  </thead>\n",
       "  <tbody>\n",
       "    <tr>\n",
       "      <th>0</th>\n",
       "      <td>0</td>\n",
       "      <td>2</td>\n",
       "      <td>2</td>\n",
       "      <td>2</td>\n",
       "      <td>2</td>\n",
       "      <td>1</td>\n",
       "    </tr>\n",
       "    <tr>\n",
       "      <th>1</th>\n",
       "      <td>1</td>\n",
       "      <td>0</td>\n",
       "      <td>0</td>\n",
       "      <td>0</td>\n",
       "      <td>1</td>\n",
       "      <td>0</td>\n",
       "    </tr>\n",
       "    <tr>\n",
       "      <th>2</th>\n",
       "      <td>2</td>\n",
       "      <td>0</td>\n",
       "      <td>0</td>\n",
       "      <td>0</td>\n",
       "      <td>2</td>\n",
       "      <td>4</td>\n",
       "    </tr>\n",
       "    <tr>\n",
       "      <th>3</th>\n",
       "      <td>3</td>\n",
       "      <td>4</td>\n",
       "      <td>3</td>\n",
       "      <td>4</td>\n",
       "      <td>1</td>\n",
       "      <td>4</td>\n",
       "    </tr>\n",
       "    <tr>\n",
       "      <th>4</th>\n",
       "      <td>4</td>\n",
       "      <td>1</td>\n",
       "      <td>1</td>\n",
       "      <td>1</td>\n",
       "      <td>1</td>\n",
       "      <td>2</td>\n",
       "    </tr>\n",
       "    <tr>\n",
       "      <th>5</th>\n",
       "      <td>5</td>\n",
       "      <td>3</td>\n",
       "      <td>0</td>\n",
       "      <td>0</td>\n",
       "      <td>0</td>\n",
       "      <td>0</td>\n",
       "    </tr>\n",
       "    <tr>\n",
       "      <th>6</th>\n",
       "      <td>6</td>\n",
       "      <td>2</td>\n",
       "      <td>0</td>\n",
       "      <td>0</td>\n",
       "      <td>1</td>\n",
       "      <td>3</td>\n",
       "    </tr>\n",
       "    <tr>\n",
       "      <th>7</th>\n",
       "      <td>7</td>\n",
       "      <td>2</td>\n",
       "      <td>3</td>\n",
       "      <td>1</td>\n",
       "      <td>0</td>\n",
       "      <td>1</td>\n",
       "    </tr>\n",
       "    <tr>\n",
       "      <th>8</th>\n",
       "      <td>8</td>\n",
       "      <td>4</td>\n",
       "      <td>4</td>\n",
       "      <td>3</td>\n",
       "      <td>0</td>\n",
       "      <td>0</td>\n",
       "    </tr>\n",
       "    <tr>\n",
       "      <th>9</th>\n",
       "      <td>9</td>\n",
       "      <td>2</td>\n",
       "      <td>0</td>\n",
       "      <td>3</td>\n",
       "      <td>1</td>\n",
       "      <td>4</td>\n",
       "    </tr>\n",
       "  </tbody>\n",
       "</table>\n",
       "</div>"
      ],
      "text/plain": [
       "   Unnamed: 0  0  1  2  3  4\n",
       "0           0  2  2  2  2  1\n",
       "1           1  0  0  0  1  0\n",
       "2           2  0  0  0  2  4\n",
       "3           3  4  3  4  1  4\n",
       "4           4  1  1  1  1  2\n",
       "5           5  3  0  0  0  0\n",
       "6           6  2  0  0  1  3\n",
       "7           7  2  3  1  0  1\n",
       "8           8  4  4  3  0  0\n",
       "9           9  2  0  3  1  4"
      ]
     },
     "execution_count": 188,
     "metadata": {},
     "output_type": "execute_result"
    }
   ],
   "source": [
    "pd.read_csv(\"foo.csv\")"
   ]
  },
  {
   "cell_type": "markdown",
   "id": "ab514491-24f0-4e4a-8a63-b451c30c654a",
   "metadata": {},
   "source": [
    "# Parquet"
   ]
  },
  {
   "cell_type": "markdown",
   "id": "b75fb513-229b-4057-ae54-b5b785d9d0b5",
   "metadata": {},
   "source": [
    "Writing to a Parquet file:"
   ]
  },
  {
   "cell_type": "code",
   "execution_count": 192,
   "id": "0e5ac357-4609-4ec4-a694-6f836ab13ab2",
   "metadata": {},
   "outputs": [],
   "source": [
    "df.to_parquet(\"foo.parquet\")"
   ]
  },
  {
   "cell_type": "markdown",
   "id": "39e66a56-3323-4de0-85b3-a3f56933a2e7",
   "metadata": {},
   "source": [
    "Reading from a Parquet file Store using read_parquet():"
   ]
  },
  {
   "cell_type": "code",
   "execution_count": 194,
   "id": "2357857b-74b5-4813-9208-4c162ad9ed0a",
   "metadata": {},
   "outputs": [
    {
     "data": {
      "text/html": [
       "<div>\n",
       "<style scoped>\n",
       "    .dataframe tbody tr th:only-of-type {\n",
       "        vertical-align: middle;\n",
       "    }\n",
       "\n",
       "    .dataframe tbody tr th {\n",
       "        vertical-align: top;\n",
       "    }\n",
       "\n",
       "    .dataframe thead th {\n",
       "        text-align: right;\n",
       "    }\n",
       "</style>\n",
       "<table border=\"1\" class=\"dataframe\">\n",
       "  <thead>\n",
       "    <tr style=\"text-align: right;\">\n",
       "      <th></th>\n",
       "      <th>0</th>\n",
       "      <th>1</th>\n",
       "      <th>2</th>\n",
       "      <th>3</th>\n",
       "      <th>4</th>\n",
       "    </tr>\n",
       "  </thead>\n",
       "  <tbody>\n",
       "    <tr>\n",
       "      <th>0</th>\n",
       "      <td>2</td>\n",
       "      <td>2</td>\n",
       "      <td>2</td>\n",
       "      <td>2</td>\n",
       "      <td>1</td>\n",
       "    </tr>\n",
       "    <tr>\n",
       "      <th>1</th>\n",
       "      <td>0</td>\n",
       "      <td>0</td>\n",
       "      <td>0</td>\n",
       "      <td>1</td>\n",
       "      <td>0</td>\n",
       "    </tr>\n",
       "    <tr>\n",
       "      <th>2</th>\n",
       "      <td>0</td>\n",
       "      <td>0</td>\n",
       "      <td>0</td>\n",
       "      <td>2</td>\n",
       "      <td>4</td>\n",
       "    </tr>\n",
       "    <tr>\n",
       "      <th>3</th>\n",
       "      <td>4</td>\n",
       "      <td>3</td>\n",
       "      <td>4</td>\n",
       "      <td>1</td>\n",
       "      <td>4</td>\n",
       "    </tr>\n",
       "    <tr>\n",
       "      <th>4</th>\n",
       "      <td>1</td>\n",
       "      <td>1</td>\n",
       "      <td>1</td>\n",
       "      <td>1</td>\n",
       "      <td>2</td>\n",
       "    </tr>\n",
       "    <tr>\n",
       "      <th>5</th>\n",
       "      <td>3</td>\n",
       "      <td>0</td>\n",
       "      <td>0</td>\n",
       "      <td>0</td>\n",
       "      <td>0</td>\n",
       "    </tr>\n",
       "    <tr>\n",
       "      <th>6</th>\n",
       "      <td>2</td>\n",
       "      <td>0</td>\n",
       "      <td>0</td>\n",
       "      <td>1</td>\n",
       "      <td>3</td>\n",
       "    </tr>\n",
       "    <tr>\n",
       "      <th>7</th>\n",
       "      <td>2</td>\n",
       "      <td>3</td>\n",
       "      <td>1</td>\n",
       "      <td>0</td>\n",
       "      <td>1</td>\n",
       "    </tr>\n",
       "    <tr>\n",
       "      <th>8</th>\n",
       "      <td>4</td>\n",
       "      <td>4</td>\n",
       "      <td>3</td>\n",
       "      <td>0</td>\n",
       "      <td>0</td>\n",
       "    </tr>\n",
       "    <tr>\n",
       "      <th>9</th>\n",
       "      <td>2</td>\n",
       "      <td>0</td>\n",
       "      <td>3</td>\n",
       "      <td>1</td>\n",
       "      <td>4</td>\n",
       "    </tr>\n",
       "  </tbody>\n",
       "</table>\n",
       "</div>"
      ],
      "text/plain": [
       "   0  1  2  3  4\n",
       "0  2  2  2  2  1\n",
       "1  0  0  0  1  0\n",
       "2  0  0  0  2  4\n",
       "3  4  3  4  1  4\n",
       "4  1  1  1  1  2\n",
       "5  3  0  0  0  0\n",
       "6  2  0  0  1  3\n",
       "7  2  3  1  0  1\n",
       "8  4  4  3  0  0\n",
       "9  2  0  3  1  4"
      ]
     },
     "execution_count": 194,
     "metadata": {},
     "output_type": "execute_result"
    }
   ],
   "source": [
    "pd.read_parquet(\"foo.parquet\")"
   ]
  },
  {
   "cell_type": "markdown",
   "id": "1eb66523-7b8f-4068-9be3-7e1226f98152",
   "metadata": {},
   "source": [
    "# Excel"
   ]
  },
  {
   "cell_type": "markdown",
   "id": "bd24daf3-36e8-4f88-8425-a7f44d947c3f",
   "metadata": {},
   "source": [
    "Reading and writing to Excel."
   ]
  },
  {
   "cell_type": "markdown",
   "id": "60f8ffd1-3b17-4e0c-8bc2-1877ce1bdf08",
   "metadata": {},
   "source": [
    "# Writing to an excel file using DataFrame.to_excel():"
   ]
  },
  {
   "cell_type": "code",
   "execution_count": 196,
   "id": "953860f9-134c-47bf-8205-4f35bd468922",
   "metadata": {},
   "outputs": [
    {
     "ename": "TypeError",
     "evalue": "NDFrame.to_excel() missing 1 required positional argument: 'excel_writer'",
     "output_type": "error",
     "traceback": [
      "\u001b[1;31m---------------------------------------------------------------------------\u001b[0m",
      "\u001b[1;31mTypeError\u001b[0m                                 Traceback (most recent call last)",
      "Cell \u001b[1;32mIn[196], line 1\u001b[0m\n\u001b[1;32m----> 1\u001b[0m df\u001b[38;5;241m.\u001b[39mto_excel()\n",
      "File \u001b[1;32m~\\AppData\\Local\\anaconda3\\Lib\\site-packages\\pandas\\util\\_decorators.py:333\u001b[0m, in \u001b[0;36mdeprecate_nonkeyword_arguments.<locals>.decorate.<locals>.wrapper\u001b[1;34m(*args, **kwargs)\u001b[0m\n\u001b[0;32m    327\u001b[0m \u001b[38;5;28;01mif\u001b[39;00m \u001b[38;5;28mlen\u001b[39m(args) \u001b[38;5;241m>\u001b[39m num_allow_args:\n\u001b[0;32m    328\u001b[0m     warnings\u001b[38;5;241m.\u001b[39mwarn(\n\u001b[0;32m    329\u001b[0m         msg\u001b[38;5;241m.\u001b[39mformat(arguments\u001b[38;5;241m=\u001b[39m_format_argument_list(allow_args)),\n\u001b[0;32m    330\u001b[0m         \u001b[38;5;167;01mFutureWarning\u001b[39;00m,\n\u001b[0;32m    331\u001b[0m         stacklevel\u001b[38;5;241m=\u001b[39mfind_stack_level(),\n\u001b[0;32m    332\u001b[0m     )\n\u001b[1;32m--> 333\u001b[0m \u001b[38;5;28;01mreturn\u001b[39;00m func(\u001b[38;5;241m*\u001b[39margs, \u001b[38;5;241m*\u001b[39m\u001b[38;5;241m*\u001b[39mkwargs)\n",
      "\u001b[1;31mTypeError\u001b[0m: NDFrame.to_excel() missing 1 required positional argument: 'excel_writer'"
     ]
    }
   ],
   "source": [
    "df.to_excel()"
   ]
  },
  {
   "cell_type": "code",
   "execution_count": 214,
   "id": "082fa332-7f08-422d-a76a-a48784b1fff6",
   "metadata": {},
   "outputs": [],
   "source": [
    "df.to_excel(\"foo.xlsx\")"
   ]
  },
  {
   "cell_type": "code",
   "execution_count": 215,
   "id": "3f2dc8ba-843e-4d8e-9591-245f1ca6907b",
   "metadata": {},
   "outputs": [],
   "source": [
    "df.to_excel(\"foo1.xlsx\", sheet_name=\"sheet1\")"
   ]
  },
  {
   "cell_type": "markdown",
   "id": "8220c9e9-d1d1-4c0c-a431-e67df51fdde8",
   "metadata": {},
   "source": [
    "# Reading from an excel file using read_excel():"
   ]
  },
  {
   "cell_type": "code",
   "execution_count": 216,
   "id": "534ee52d-efd6-4561-862d-9b8ed2b6e270",
   "metadata": {},
   "outputs": [
    {
     "ename": "TypeError",
     "evalue": "read_excel() missing 1 required positional argument: 'io'",
     "output_type": "error",
     "traceback": [
      "\u001b[1;31m---------------------------------------------------------------------------\u001b[0m",
      "\u001b[1;31mTypeError\u001b[0m                                 Traceback (most recent call last)",
      "Cell \u001b[1;32mIn[216], line 1\u001b[0m\n\u001b[1;32m----> 1\u001b[0m pd\u001b[38;5;241m.\u001b[39mread_excel()\n",
      "\u001b[1;31mTypeError\u001b[0m: read_excel() missing 1 required positional argument: 'io'"
     ]
    }
   ],
   "source": [
    "pd.read_excel()"
   ]
  },
  {
   "cell_type": "code",
   "execution_count": 201,
   "id": "e1537147-9091-4ea9-b750-89661f187cbe",
   "metadata": {},
   "outputs": [
    {
     "data": {
      "text/html": [
       "<div>\n",
       "<style scoped>\n",
       "    .dataframe tbody tr th:only-of-type {\n",
       "        vertical-align: middle;\n",
       "    }\n",
       "\n",
       "    .dataframe tbody tr th {\n",
       "        vertical-align: top;\n",
       "    }\n",
       "\n",
       "    .dataframe thead th {\n",
       "        text-align: right;\n",
       "    }\n",
       "</style>\n",
       "<table border=\"1\" class=\"dataframe\">\n",
       "  <thead>\n",
       "    <tr style=\"text-align: right;\">\n",
       "      <th></th>\n",
       "      <th>Unnamed: 0</th>\n",
       "      <th>0</th>\n",
       "      <th>1</th>\n",
       "      <th>2</th>\n",
       "      <th>3</th>\n",
       "      <th>4</th>\n",
       "    </tr>\n",
       "  </thead>\n",
       "  <tbody>\n",
       "    <tr>\n",
       "      <th>0</th>\n",
       "      <td>0</td>\n",
       "      <td>2</td>\n",
       "      <td>2</td>\n",
       "      <td>2</td>\n",
       "      <td>2</td>\n",
       "      <td>1</td>\n",
       "    </tr>\n",
       "    <tr>\n",
       "      <th>1</th>\n",
       "      <td>1</td>\n",
       "      <td>0</td>\n",
       "      <td>0</td>\n",
       "      <td>0</td>\n",
       "      <td>1</td>\n",
       "      <td>0</td>\n",
       "    </tr>\n",
       "    <tr>\n",
       "      <th>2</th>\n",
       "      <td>2</td>\n",
       "      <td>0</td>\n",
       "      <td>0</td>\n",
       "      <td>0</td>\n",
       "      <td>2</td>\n",
       "      <td>4</td>\n",
       "    </tr>\n",
       "    <tr>\n",
       "      <th>3</th>\n",
       "      <td>3</td>\n",
       "      <td>4</td>\n",
       "      <td>3</td>\n",
       "      <td>4</td>\n",
       "      <td>1</td>\n",
       "      <td>4</td>\n",
       "    </tr>\n",
       "    <tr>\n",
       "      <th>4</th>\n",
       "      <td>4</td>\n",
       "      <td>1</td>\n",
       "      <td>1</td>\n",
       "      <td>1</td>\n",
       "      <td>1</td>\n",
       "      <td>2</td>\n",
       "    </tr>\n",
       "    <tr>\n",
       "      <th>5</th>\n",
       "      <td>5</td>\n",
       "      <td>3</td>\n",
       "      <td>0</td>\n",
       "      <td>0</td>\n",
       "      <td>0</td>\n",
       "      <td>0</td>\n",
       "    </tr>\n",
       "    <tr>\n",
       "      <th>6</th>\n",
       "      <td>6</td>\n",
       "      <td>2</td>\n",
       "      <td>0</td>\n",
       "      <td>0</td>\n",
       "      <td>1</td>\n",
       "      <td>3</td>\n",
       "    </tr>\n",
       "    <tr>\n",
       "      <th>7</th>\n",
       "      <td>7</td>\n",
       "      <td>2</td>\n",
       "      <td>3</td>\n",
       "      <td>1</td>\n",
       "      <td>0</td>\n",
       "      <td>1</td>\n",
       "    </tr>\n",
       "    <tr>\n",
       "      <th>8</th>\n",
       "      <td>8</td>\n",
       "      <td>4</td>\n",
       "      <td>4</td>\n",
       "      <td>3</td>\n",
       "      <td>0</td>\n",
       "      <td>0</td>\n",
       "    </tr>\n",
       "    <tr>\n",
       "      <th>9</th>\n",
       "      <td>9</td>\n",
       "      <td>2</td>\n",
       "      <td>0</td>\n",
       "      <td>3</td>\n",
       "      <td>1</td>\n",
       "      <td>4</td>\n",
       "    </tr>\n",
       "  </tbody>\n",
       "</table>\n",
       "</div>"
      ],
      "text/plain": [
       "   Unnamed: 0  0  1  2  3  4\n",
       "0           0  2  2  2  2  1\n",
       "1           1  0  0  0  1  0\n",
       "2           2  0  0  0  2  4\n",
       "3           3  4  3  4  1  4\n",
       "4           4  1  1  1  1  2\n",
       "5           5  3  0  0  0  0\n",
       "6           6  2  0  0  1  3\n",
       "7           7  2  3  1  0  1\n",
       "8           8  4  4  3  0  0\n",
       "9           9  2  0  3  1  4"
      ]
     },
     "execution_count": 201,
     "metadata": {},
     "output_type": "execute_result"
    }
   ],
   "source": [
    "pd.read_excel(\"foo.xlsx\")"
   ]
  },
  {
   "cell_type": "code",
   "execution_count": 210,
   "id": "55bf2c9c-53da-40e7-be75-2c18bf93b72b",
   "metadata": {},
   "outputs": [
    {
     "data": {
      "text/html": [
       "<div>\n",
       "<style scoped>\n",
       "    .dataframe tbody tr th:only-of-type {\n",
       "        vertical-align: middle;\n",
       "    }\n",
       "\n",
       "    .dataframe tbody tr th {\n",
       "        vertical-align: top;\n",
       "    }\n",
       "\n",
       "    .dataframe thead th {\n",
       "        text-align: right;\n",
       "    }\n",
       "</style>\n",
       "<table border=\"1\" class=\"dataframe\">\n",
       "  <thead>\n",
       "    <tr style=\"text-align: right;\">\n",
       "      <th></th>\n",
       "      <th>Unnamed: 0</th>\n",
       "      <th>0</th>\n",
       "      <th>1</th>\n",
       "      <th>2</th>\n",
       "      <th>3</th>\n",
       "      <th>4</th>\n",
       "    </tr>\n",
       "  </thead>\n",
       "  <tbody>\n",
       "    <tr>\n",
       "      <th>0</th>\n",
       "      <td>0</td>\n",
       "      <td>2</td>\n",
       "      <td>2</td>\n",
       "      <td>2</td>\n",
       "      <td>2</td>\n",
       "      <td>1</td>\n",
       "    </tr>\n",
       "    <tr>\n",
       "      <th>1</th>\n",
       "      <td>1</td>\n",
       "      <td>0</td>\n",
       "      <td>0</td>\n",
       "      <td>0</td>\n",
       "      <td>1</td>\n",
       "      <td>0</td>\n",
       "    </tr>\n",
       "    <tr>\n",
       "      <th>2</th>\n",
       "      <td>2</td>\n",
       "      <td>0</td>\n",
       "      <td>0</td>\n",
       "      <td>0</td>\n",
       "      <td>2</td>\n",
       "      <td>4</td>\n",
       "    </tr>\n",
       "    <tr>\n",
       "      <th>3</th>\n",
       "      <td>3</td>\n",
       "      <td>4</td>\n",
       "      <td>3</td>\n",
       "      <td>4</td>\n",
       "      <td>1</td>\n",
       "      <td>4</td>\n",
       "    </tr>\n",
       "    <tr>\n",
       "      <th>4</th>\n",
       "      <td>4</td>\n",
       "      <td>1</td>\n",
       "      <td>1</td>\n",
       "      <td>1</td>\n",
       "      <td>1</td>\n",
       "      <td>2</td>\n",
       "    </tr>\n",
       "    <tr>\n",
       "      <th>5</th>\n",
       "      <td>5</td>\n",
       "      <td>3</td>\n",
       "      <td>0</td>\n",
       "      <td>0</td>\n",
       "      <td>0</td>\n",
       "      <td>0</td>\n",
       "    </tr>\n",
       "    <tr>\n",
       "      <th>6</th>\n",
       "      <td>6</td>\n",
       "      <td>2</td>\n",
       "      <td>0</td>\n",
       "      <td>0</td>\n",
       "      <td>1</td>\n",
       "      <td>3</td>\n",
       "    </tr>\n",
       "    <tr>\n",
       "      <th>7</th>\n",
       "      <td>7</td>\n",
       "      <td>2</td>\n",
       "      <td>3</td>\n",
       "      <td>1</td>\n",
       "      <td>0</td>\n",
       "      <td>1</td>\n",
       "    </tr>\n",
       "    <tr>\n",
       "      <th>8</th>\n",
       "      <td>8</td>\n",
       "      <td>4</td>\n",
       "      <td>4</td>\n",
       "      <td>3</td>\n",
       "      <td>0</td>\n",
       "      <td>0</td>\n",
       "    </tr>\n",
       "    <tr>\n",
       "      <th>9</th>\n",
       "      <td>9</td>\n",
       "      <td>2</td>\n",
       "      <td>0</td>\n",
       "      <td>3</td>\n",
       "      <td>1</td>\n",
       "      <td>4</td>\n",
       "    </tr>\n",
       "  </tbody>\n",
       "</table>\n",
       "</div>"
      ],
      "text/plain": [
       "   Unnamed: 0  0  1  2  3  4\n",
       "0           0  2  2  2  2  1\n",
       "1           1  0  0  0  1  0\n",
       "2           2  0  0  0  2  4\n",
       "3           3  4  3  4  1  4\n",
       "4           4  1  1  1  1  2\n",
       "5           5  3  0  0  0  0\n",
       "6           6  2  0  0  1  3\n",
       "7           7  2  3  1  0  1\n",
       "8           8  4  4  3  0  0\n",
       "9           9  2  0  3  1  4"
      ]
     },
     "execution_count": 210,
     "metadata": {},
     "output_type": "execute_result"
    }
   ],
   "source": [
    "pd.read_excel('foo1.xlsx', \"sheet1\", index_col=None, na_values = [\"NA\"])"
   ]
  },
  {
   "cell_type": "markdown",
   "id": "eaf0d293-7e2d-4e7c-a9e6-413a742c6228",
   "metadata": {},
   "source": [
    "Done"
   ]
  },
  {
   "cell_type": "markdown",
   "id": "429fce3b-84ae-413f-9d8a-8c08b37fc01c",
   "metadata": {},
   "source": [
    "# Thank you for reading !!!!!!"
   ]
  }
 ],
 "metadata": {
  "kernelspec": {
   "display_name": "Python 3 (ipykernel)",
   "language": "python",
   "name": "python3"
  },
  "language_info": {
   "codemirror_mode": {
    "name": "ipython",
    "version": 3
   },
   "file_extension": ".py",
   "mimetype": "text/x-python",
   "name": "python",
   "nbconvert_exporter": "python",
   "pygments_lexer": "ipython3",
   "version": "3.12.4"
  }
 },
 "nbformat": 4,
 "nbformat_minor": 5
}
