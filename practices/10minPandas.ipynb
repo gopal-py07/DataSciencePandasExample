{
 "cells": [
  {
   "cell_type": "code",
   "execution_count": 8,
   "id": "b2192663-787e-4c34-b54b-1c2549bd2d85",
   "metadata": {},
   "outputs": [],
   "source": [
    "# Basic data structures in pandas"
   ]
  },
  {
   "cell_type": "code",
   "execution_count": 16,
   "id": "535c479c-c57e-44b1-a37a-352c2725ffa7",
   "metadata": {},
   "outputs": [],
   "source": [
    "import pandas as pd\n",
    "import numpy as np"
   ]
  },
  {
   "cell_type": "markdown",
   "id": "e5dac33a-f89e-41b9-a4d8-1d4024cf7db9",
   "metadata": {},
   "source": [
    "Pandas provides two types of classes for handling data:\n",
    "\n",
    "# Series: \n",
    "    A one-dimensional labeled array holding data of any type such as integers, strings, Python objects etc.\n",
    "\n",
    "# DataFrame:\n",
    "    A two-dimensional data structure that holds data like a two-dimension array or a table with rows and columns."
   ]
  },
  {
   "cell_type": "markdown",
   "id": "30469968-04c7-4629-8594-5de13eecd115",
   "metadata": {},
   "source": [
    "# Object Creation\n"
   ]
  },
  {
   "cell_type": "markdown",
   "id": "dacb4c70-849b-4289-a1ba-d59624481181",
   "metadata": {},
   "source": [
    "Creating a Series by passing a list of values, letting pandas create a default RangeIndex."
   ]
  },
  {
   "cell_type": "code",
   "execution_count": 17,
   "id": "532d2c1f-058d-4615-b00c-cb2aa8c7693f",
   "metadata": {},
   "outputs": [],
   "source": [
    "s = pd.Series([1,3,5,np.nan,6,8])"
   ]
  },
  {
   "cell_type": "code",
   "execution_count": 11,
   "id": "fb72cee5-3199-49b0-aabd-ccd7538406ec",
   "metadata": {},
   "outputs": [
    {
     "data": {
      "text/plain": [
       "0    1.0\n",
       "1    3.0\n",
       "2    5.0\n",
       "3    NaN\n",
       "4    6.0\n",
       "5    8.0\n",
       "dtype: float64"
      ]
     },
     "execution_count": 11,
     "metadata": {},
     "output_type": "execute_result"
    }
   ],
   "source": [
    "s"
   ]
  },
  {
   "cell_type": "markdown",
   "id": "2b1324e2-7f6e-4c97-b4df-62a38ac9dce6",
   "metadata": {},
   "source": [
    "Creating a DataFrame by passing a NumPy array with a datetime index using date_range() and labeled columns:"
   ]
  },
  {
   "cell_type": "code",
   "execution_count": 18,
   "id": "a530c624-28e4-4ee5-ab51-929f561968d4",
   "metadata": {},
   "outputs": [],
   "source": [
    "dates = pd.date_range(\"20240824\",periods=8)"
   ]
  },
  {
   "cell_type": "code",
   "execution_count": 19,
   "id": "323b8576-1256-4c99-8935-1e4ce47a5f37",
   "metadata": {},
   "outputs": [
    {
     "data": {
      "text/plain": [
       "DatetimeIndex(['2024-08-24', '2024-08-25', '2024-08-26', '2024-08-27',\n",
       "               '2024-08-28', '2024-08-29', '2024-08-30', '2024-08-31'],\n",
       "              dtype='datetime64[ns]', freq='D')"
      ]
     },
     "execution_count": 19,
     "metadata": {},
     "output_type": "execute_result"
    }
   ],
   "source": [
    "dates"
   ]
  },
  {
   "cell_type": "code",
   "execution_count": 20,
   "id": "e5c9c154-8c58-475e-845c-80d589b81f8a",
   "metadata": {},
   "outputs": [
    {
     "ename": "ValueError",
     "evalue": "Shape of passed values is (6, 4), indices imply (8, 4)",
     "output_type": "error",
     "traceback": [
      "\u001b[1;31m---------------------------------------------------------------------------\u001b[0m",
      "\u001b[1;31mValueError\u001b[0m                                Traceback (most recent call last)",
      "Cell \u001b[1;32mIn[20], line 1\u001b[0m\n\u001b[1;32m----> 1\u001b[0m df \u001b[38;5;241m=\u001b[39m pd\u001b[38;5;241m.\u001b[39mDataFrame(np\u001b[38;5;241m.\u001b[39mrandom\u001b[38;5;241m.\u001b[39mrandn(\u001b[38;5;241m6\u001b[39m,\u001b[38;5;241m4\u001b[39m), index\u001b[38;5;241m=\u001b[39mdates, columns\u001b[38;5;241m=\u001b[39m\u001b[38;5;28mlist\u001b[39m(\u001b[38;5;124m\"\u001b[39m\u001b[38;5;124mABCD\u001b[39m\u001b[38;5;124m\"\u001b[39m))\n",
      "File \u001b[1;32m~\\AppData\\Local\\anaconda3\\Lib\\site-packages\\pandas\\core\\frame.py:827\u001b[0m, in \u001b[0;36mDataFrame.__init__\u001b[1;34m(self, data, index, columns, dtype, copy)\u001b[0m\n\u001b[0;32m    816\u001b[0m         mgr \u001b[38;5;241m=\u001b[39m dict_to_mgr(\n\u001b[0;32m    817\u001b[0m             \u001b[38;5;66;03m# error: Item \"ndarray\" of \"Union[ndarray, Series, Index]\" has no\u001b[39;00m\n\u001b[0;32m    818\u001b[0m             \u001b[38;5;66;03m# attribute \"name\"\u001b[39;00m\n\u001b[1;32m   (...)\u001b[0m\n\u001b[0;32m    824\u001b[0m             copy\u001b[38;5;241m=\u001b[39m_copy,\n\u001b[0;32m    825\u001b[0m         )\n\u001b[0;32m    826\u001b[0m     \u001b[38;5;28;01melse\u001b[39;00m:\n\u001b[1;32m--> 827\u001b[0m         mgr \u001b[38;5;241m=\u001b[39m ndarray_to_mgr(\n\u001b[0;32m    828\u001b[0m             data,\n\u001b[0;32m    829\u001b[0m             index,\n\u001b[0;32m    830\u001b[0m             columns,\n\u001b[0;32m    831\u001b[0m             dtype\u001b[38;5;241m=\u001b[39mdtype,\n\u001b[0;32m    832\u001b[0m             copy\u001b[38;5;241m=\u001b[39mcopy,\n\u001b[0;32m    833\u001b[0m             typ\u001b[38;5;241m=\u001b[39mmanager,\n\u001b[0;32m    834\u001b[0m         )\n\u001b[0;32m    836\u001b[0m \u001b[38;5;66;03m# For data is list-like, or Iterable (will consume into list)\u001b[39;00m\n\u001b[0;32m    837\u001b[0m \u001b[38;5;28;01melif\u001b[39;00m is_list_like(data):\n",
      "File \u001b[1;32m~\\AppData\\Local\\anaconda3\\Lib\\site-packages\\pandas\\core\\internals\\construction.py:336\u001b[0m, in \u001b[0;36mndarray_to_mgr\u001b[1;34m(values, index, columns, dtype, copy, typ)\u001b[0m\n\u001b[0;32m    331\u001b[0m \u001b[38;5;66;03m# _prep_ndarraylike ensures that values.ndim == 2 at this point\u001b[39;00m\n\u001b[0;32m    332\u001b[0m index, columns \u001b[38;5;241m=\u001b[39m _get_axes(\n\u001b[0;32m    333\u001b[0m     values\u001b[38;5;241m.\u001b[39mshape[\u001b[38;5;241m0\u001b[39m], values\u001b[38;5;241m.\u001b[39mshape[\u001b[38;5;241m1\u001b[39m], index\u001b[38;5;241m=\u001b[39mindex, columns\u001b[38;5;241m=\u001b[39mcolumns\n\u001b[0;32m    334\u001b[0m )\n\u001b[1;32m--> 336\u001b[0m _check_values_indices_shape_match(values, index, columns)\n\u001b[0;32m    338\u001b[0m \u001b[38;5;28;01mif\u001b[39;00m typ \u001b[38;5;241m==\u001b[39m \u001b[38;5;124m\"\u001b[39m\u001b[38;5;124marray\u001b[39m\u001b[38;5;124m\"\u001b[39m:\n\u001b[0;32m    339\u001b[0m     \u001b[38;5;28;01mif\u001b[39;00m \u001b[38;5;28missubclass\u001b[39m(values\u001b[38;5;241m.\u001b[39mdtype\u001b[38;5;241m.\u001b[39mtype, \u001b[38;5;28mstr\u001b[39m):\n",
      "File \u001b[1;32m~\\AppData\\Local\\anaconda3\\Lib\\site-packages\\pandas\\core\\internals\\construction.py:420\u001b[0m, in \u001b[0;36m_check_values_indices_shape_match\u001b[1;34m(values, index, columns)\u001b[0m\n\u001b[0;32m    418\u001b[0m passed \u001b[38;5;241m=\u001b[39m values\u001b[38;5;241m.\u001b[39mshape\n\u001b[0;32m    419\u001b[0m implied \u001b[38;5;241m=\u001b[39m (\u001b[38;5;28mlen\u001b[39m(index), \u001b[38;5;28mlen\u001b[39m(columns))\n\u001b[1;32m--> 420\u001b[0m \u001b[38;5;28;01mraise\u001b[39;00m \u001b[38;5;167;01mValueError\u001b[39;00m(\u001b[38;5;124mf\u001b[39m\u001b[38;5;124m\"\u001b[39m\u001b[38;5;124mShape of passed values is \u001b[39m\u001b[38;5;132;01m{\u001b[39;00mpassed\u001b[38;5;132;01m}\u001b[39;00m\u001b[38;5;124m, indices imply \u001b[39m\u001b[38;5;132;01m{\u001b[39;00mimplied\u001b[38;5;132;01m}\u001b[39;00m\u001b[38;5;124m\"\u001b[39m)\n",
      "\u001b[1;31mValueError\u001b[0m: Shape of passed values is (6, 4), indices imply (8, 4)"
     ]
    }
   ],
   "source": [
    "    df = pd.DataFrame(np.random.randn(6,4), index=dates, columns=list(\"ABCD\"))"
   ]
  },
  {
   "cell_type": "code",
   "execution_count": 21,
   "id": "0de77d12-9d24-4619-b22a-a6addb0cef2d",
   "metadata": {},
   "outputs": [],
   "source": [
    "    df = pd.DataFrame(np.random.randn(8,4), index=dates, columns=list(\"ABCD\"))"
   ]
  },
  {
   "cell_type": "code",
   "execution_count": 22,
   "id": "a99645c9-afb0-4063-bca7-84c7b41f5f3c",
   "metadata": {},
   "outputs": [
    {
     "data": {
      "text/html": [
       "<div>\n",
       "<style scoped>\n",
       "    .dataframe tbody tr th:only-of-type {\n",
       "        vertical-align: middle;\n",
       "    }\n",
       "\n",
       "    .dataframe tbody tr th {\n",
       "        vertical-align: top;\n",
       "    }\n",
       "\n",
       "    .dataframe thead th {\n",
       "        text-align: right;\n",
       "    }\n",
       "</style>\n",
       "<table border=\"1\" class=\"dataframe\">\n",
       "  <thead>\n",
       "    <tr style=\"text-align: right;\">\n",
       "      <th></th>\n",
       "      <th>A</th>\n",
       "      <th>B</th>\n",
       "      <th>C</th>\n",
       "      <th>D</th>\n",
       "    </tr>\n",
       "  </thead>\n",
       "  <tbody>\n",
       "    <tr>\n",
       "      <th>2024-08-24</th>\n",
       "      <td>-0.271736</td>\n",
       "      <td>-0.489213</td>\n",
       "      <td>-1.905769</td>\n",
       "      <td>0.604402</td>\n",
       "    </tr>\n",
       "    <tr>\n",
       "      <th>2024-08-25</th>\n",
       "      <td>-0.417909</td>\n",
       "      <td>0.153747</td>\n",
       "      <td>0.816140</td>\n",
       "      <td>2.077354</td>\n",
       "    </tr>\n",
       "    <tr>\n",
       "      <th>2024-08-26</th>\n",
       "      <td>-0.707825</td>\n",
       "      <td>-0.101105</td>\n",
       "      <td>0.107873</td>\n",
       "      <td>-0.582570</td>\n",
       "    </tr>\n",
       "    <tr>\n",
       "      <th>2024-08-27</th>\n",
       "      <td>-1.323593</td>\n",
       "      <td>-0.341142</td>\n",
       "      <td>-1.228217</td>\n",
       "      <td>0.246336</td>\n",
       "    </tr>\n",
       "    <tr>\n",
       "      <th>2024-08-28</th>\n",
       "      <td>1.813231</td>\n",
       "      <td>-0.503493</td>\n",
       "      <td>0.765582</td>\n",
       "      <td>-1.735425</td>\n",
       "    </tr>\n",
       "    <tr>\n",
       "      <th>2024-08-29</th>\n",
       "      <td>1.476087</td>\n",
       "      <td>1.068679</td>\n",
       "      <td>-0.855993</td>\n",
       "      <td>1.176333</td>\n",
       "    </tr>\n",
       "    <tr>\n",
       "      <th>2024-08-30</th>\n",
       "      <td>0.641927</td>\n",
       "      <td>-0.505017</td>\n",
       "      <td>0.978035</td>\n",
       "      <td>-0.221271</td>\n",
       "    </tr>\n",
       "    <tr>\n",
       "      <th>2024-08-31</th>\n",
       "      <td>-0.620606</td>\n",
       "      <td>-1.555799</td>\n",
       "      <td>-0.358539</td>\n",
       "      <td>1.095704</td>\n",
       "    </tr>\n",
       "  </tbody>\n",
       "</table>\n",
       "</div>"
      ],
      "text/plain": [
       "                   A         B         C         D\n",
       "2024-08-24 -0.271736 -0.489213 -1.905769  0.604402\n",
       "2024-08-25 -0.417909  0.153747  0.816140  2.077354\n",
       "2024-08-26 -0.707825 -0.101105  0.107873 -0.582570\n",
       "2024-08-27 -1.323593 -0.341142 -1.228217  0.246336\n",
       "2024-08-28  1.813231 -0.503493  0.765582 -1.735425\n",
       "2024-08-29  1.476087  1.068679 -0.855993  1.176333\n",
       "2024-08-30  0.641927 -0.505017  0.978035 -0.221271\n",
       "2024-08-31 -0.620606 -1.555799 -0.358539  1.095704"
      ]
     },
     "execution_count": 22,
     "metadata": {},
     "output_type": "execute_result"
    }
   ],
   "source": [
    "df"
   ]
  },
  {
   "cell_type": "markdown",
   "id": "47509cac-cba4-4ee9-aed7-0e247abf7760",
   "metadata": {},
   "source": [
    "Creating a DataFrame by passing a dictionary of objects where the keys are the column labels and the values are the column values."
   ]
  },
  {
   "cell_type": "code",
   "execution_count": 23,
   "id": "4ac07d26-4ee7-4fbc-98cf-1d3a00ed35bd",
   "metadata": {},
   "outputs": [
    {
     "ename": "ValueError",
     "evalue": "If using all scalar values, you must pass an index",
     "output_type": "error",
     "traceback": [
      "\u001b[1;31m---------------------------------------------------------------------------\u001b[0m",
      "\u001b[1;31mValueError\u001b[0m                                Traceback (most recent call last)",
      "Cell \u001b[1;32mIn[23], line 1\u001b[0m\n\u001b[1;32m----> 1\u001b[0m df2 \u001b[38;5;241m=\u001b[39m pd\u001b[38;5;241m.\u001b[39mDataFrame({\n\u001b[0;32m      2\u001b[0m     \u001b[38;5;124m\"\u001b[39m\u001b[38;5;124mA\u001b[39m\u001b[38;5;124m\"\u001b[39m:\u001b[38;5;241m1.0\u001b[39m,\n\u001b[0;32m      3\u001b[0m })\n",
      "File \u001b[1;32m~\\AppData\\Local\\anaconda3\\Lib\\site-packages\\pandas\\core\\frame.py:778\u001b[0m, in \u001b[0;36mDataFrame.__init__\u001b[1;34m(self, data, index, columns, dtype, copy)\u001b[0m\n\u001b[0;32m    772\u001b[0m     mgr \u001b[38;5;241m=\u001b[39m \u001b[38;5;28mself\u001b[39m\u001b[38;5;241m.\u001b[39m_init_mgr(\n\u001b[0;32m    773\u001b[0m         data, axes\u001b[38;5;241m=\u001b[39m{\u001b[38;5;124m\"\u001b[39m\u001b[38;5;124mindex\u001b[39m\u001b[38;5;124m\"\u001b[39m: index, \u001b[38;5;124m\"\u001b[39m\u001b[38;5;124mcolumns\u001b[39m\u001b[38;5;124m\"\u001b[39m: columns}, dtype\u001b[38;5;241m=\u001b[39mdtype, copy\u001b[38;5;241m=\u001b[39mcopy\n\u001b[0;32m    774\u001b[0m     )\n\u001b[0;32m    776\u001b[0m \u001b[38;5;28;01melif\u001b[39;00m \u001b[38;5;28misinstance\u001b[39m(data, \u001b[38;5;28mdict\u001b[39m):\n\u001b[0;32m    777\u001b[0m     \u001b[38;5;66;03m# GH#38939 de facto copy defaults to False only in non-dict cases\u001b[39;00m\n\u001b[1;32m--> 778\u001b[0m     mgr \u001b[38;5;241m=\u001b[39m dict_to_mgr(data, index, columns, dtype\u001b[38;5;241m=\u001b[39mdtype, copy\u001b[38;5;241m=\u001b[39mcopy, typ\u001b[38;5;241m=\u001b[39mmanager)\n\u001b[0;32m    779\u001b[0m \u001b[38;5;28;01melif\u001b[39;00m \u001b[38;5;28misinstance\u001b[39m(data, ma\u001b[38;5;241m.\u001b[39mMaskedArray):\n\u001b[0;32m    780\u001b[0m     \u001b[38;5;28;01mfrom\u001b[39;00m \u001b[38;5;21;01mnumpy\u001b[39;00m\u001b[38;5;21;01m.\u001b[39;00m\u001b[38;5;21;01mma\u001b[39;00m \u001b[38;5;28;01mimport\u001b[39;00m mrecords\n",
      "File \u001b[1;32m~\\AppData\\Local\\anaconda3\\Lib\\site-packages\\pandas\\core\\internals\\construction.py:503\u001b[0m, in \u001b[0;36mdict_to_mgr\u001b[1;34m(data, index, columns, dtype, typ, copy)\u001b[0m\n\u001b[0;32m    499\u001b[0m     \u001b[38;5;28;01melse\u001b[39;00m:\n\u001b[0;32m    500\u001b[0m         \u001b[38;5;66;03m# dtype check to exclude e.g. range objects, scalars\u001b[39;00m\n\u001b[0;32m    501\u001b[0m         arrays \u001b[38;5;241m=\u001b[39m [x\u001b[38;5;241m.\u001b[39mcopy() \u001b[38;5;28;01mif\u001b[39;00m \u001b[38;5;28mhasattr\u001b[39m(x, \u001b[38;5;124m\"\u001b[39m\u001b[38;5;124mdtype\u001b[39m\u001b[38;5;124m\"\u001b[39m) \u001b[38;5;28;01melse\u001b[39;00m x \u001b[38;5;28;01mfor\u001b[39;00m x \u001b[38;5;129;01min\u001b[39;00m arrays]\n\u001b[1;32m--> 503\u001b[0m \u001b[38;5;28;01mreturn\u001b[39;00m arrays_to_mgr(arrays, columns, index, dtype\u001b[38;5;241m=\u001b[39mdtype, typ\u001b[38;5;241m=\u001b[39mtyp, consolidate\u001b[38;5;241m=\u001b[39mcopy)\n",
      "File \u001b[1;32m~\\AppData\\Local\\anaconda3\\Lib\\site-packages\\pandas\\core\\internals\\construction.py:114\u001b[0m, in \u001b[0;36marrays_to_mgr\u001b[1;34m(arrays, columns, index, dtype, verify_integrity, typ, consolidate)\u001b[0m\n\u001b[0;32m    111\u001b[0m \u001b[38;5;28;01mif\u001b[39;00m verify_integrity:\n\u001b[0;32m    112\u001b[0m     \u001b[38;5;66;03m# figure out the index, if necessary\u001b[39;00m\n\u001b[0;32m    113\u001b[0m     \u001b[38;5;28;01mif\u001b[39;00m index \u001b[38;5;129;01mis\u001b[39;00m \u001b[38;5;28;01mNone\u001b[39;00m:\n\u001b[1;32m--> 114\u001b[0m         index \u001b[38;5;241m=\u001b[39m _extract_index(arrays)\n\u001b[0;32m    115\u001b[0m     \u001b[38;5;28;01melse\u001b[39;00m:\n\u001b[0;32m    116\u001b[0m         index \u001b[38;5;241m=\u001b[39m ensure_index(index)\n",
      "File \u001b[1;32m~\\AppData\\Local\\anaconda3\\Lib\\site-packages\\pandas\\core\\internals\\construction.py:667\u001b[0m, in \u001b[0;36m_extract_index\u001b[1;34m(data)\u001b[0m\n\u001b[0;32m    664\u001b[0m         \u001b[38;5;28;01mraise\u001b[39;00m \u001b[38;5;167;01mValueError\u001b[39;00m(\u001b[38;5;124m\"\u001b[39m\u001b[38;5;124mPer-column arrays must each be 1-dimensional\u001b[39m\u001b[38;5;124m\"\u001b[39m)\n\u001b[0;32m    666\u001b[0m \u001b[38;5;28;01mif\u001b[39;00m \u001b[38;5;129;01mnot\u001b[39;00m indexes \u001b[38;5;129;01mand\u001b[39;00m \u001b[38;5;129;01mnot\u001b[39;00m raw_lengths:\n\u001b[1;32m--> 667\u001b[0m     \u001b[38;5;28;01mraise\u001b[39;00m \u001b[38;5;167;01mValueError\u001b[39;00m(\u001b[38;5;124m\"\u001b[39m\u001b[38;5;124mIf using all scalar values, you must pass an index\u001b[39m\u001b[38;5;124m\"\u001b[39m)\n\u001b[0;32m    669\u001b[0m \u001b[38;5;28;01mif\u001b[39;00m have_series:\n\u001b[0;32m    670\u001b[0m     index \u001b[38;5;241m=\u001b[39m union_indexes(indexes)\n",
      "\u001b[1;31mValueError\u001b[0m: If using all scalar values, you must pass an index"
     ]
    }
   ],
   "source": [
    "df2 = pd.DataFrame({\n",
    "    \"A\":1.0,\n",
    "})"
   ]
  },
  {
   "cell_type": "code",
   "execution_count": 24,
   "id": "e6a087a7-a42c-4168-addb-6c284d14a716",
   "metadata": {},
   "outputs": [
    {
     "ename": "AttributeError",
     "evalue": "module 'pandas' has no attribute 'TimeStamp'",
     "output_type": "error",
     "traceback": [
      "\u001b[1;31m---------------------------------------------------------------------------\u001b[0m",
      "\u001b[1;31mAttributeError\u001b[0m                            Traceback (most recent call last)",
      "Cell \u001b[1;32mIn[24], line 3\u001b[0m\n\u001b[0;32m      1\u001b[0m df2 \u001b[38;5;241m=\u001b[39m pd\u001b[38;5;241m.\u001b[39mDataFrame({\n\u001b[0;32m      2\u001b[0m     \u001b[38;5;124m\"\u001b[39m\u001b[38;5;124mA\u001b[39m\u001b[38;5;124m\"\u001b[39m:\u001b[38;5;241m1.0\u001b[39m,\n\u001b[1;32m----> 3\u001b[0m     \u001b[38;5;124m\"\u001b[39m\u001b[38;5;124mB\u001b[39m\u001b[38;5;124m\"\u001b[39m:pd\u001b[38;5;241m.\u001b[39mTimeStamp(\u001b[38;5;124m\"\u001b[39m\u001b[38;5;124m20240822\u001b[39m\u001b[38;5;124m\"\u001b[39m),\n\u001b[0;32m      4\u001b[0m })\n",
      "\u001b[1;31mAttributeError\u001b[0m: module 'pandas' has no attribute 'TimeStamp'"
     ]
    }
   ],
   "source": [
    "df2 = pd.DataFrame({\n",
    "    \"A\":1.0,\n",
    "    \"B\":pd.TimeStamp(\"20240822\"),\n",
    "})"
   ]
  },
  {
   "cell_type": "code",
   "execution_count": 25,
   "id": "9fadb7b9-fc99-4a92-ade0-ec8cdfbe461d",
   "metadata": {},
   "outputs": [
    {
     "ename": "SyntaxError",
     "evalue": "closing parenthesis '}' does not match opening parenthesis '(' on line 4 (3630114223.py, line 7)",
     "output_type": "error",
     "traceback": [
      "\u001b[1;36m  Cell \u001b[1;32mIn[25], line 7\u001b[1;36m\u001b[0m\n\u001b[1;33m    })\u001b[0m\n\u001b[1;37m    ^\u001b[0m\n\u001b[1;31mSyntaxError\u001b[0m\u001b[1;31m:\u001b[0m closing parenthesis '}' does not match opening parenthesis '(' on line 4\n"
     ]
    }
   ],
   "source": [
    "df2 = pd.DataFrame({\n",
    "    \"A\":1.0,\n",
    "    \"B\":pd.Timestamp(\"20240822\"),\n",
    "    \"C\":pd.Series(1,index=list(range(4),dtype=\"float32\"),\n",
    "    \"D\":np.array([3]*4, dtype=\"int32\"),\n",
    "    \"F\":\"Foo\"\n",
    "})"
   ]
  },
  {
   "cell_type": "code",
   "execution_count": 26,
   "id": "72f6ac6b-8a4e-4885-84a4-a362c14b7021",
   "metadata": {},
   "outputs": [],
   "source": [
    "df2 = pd.DataFrame({\n",
    "    \"A\":1.0,\n",
    "    \"B\":pd.Timestamp(\"20240822\"),\n",
    "    \"C\":pd.Series(1,index=list(range(4)),dtype=\"float32\"),\n",
    "    \"D\":np.array([3]*4, dtype=\"int32\"),\n",
    "    \"F\":\"Foo\"\n",
    "})"
   ]
  },
  {
   "cell_type": "code",
   "execution_count": 27,
   "id": "cbf21b68-1833-47ca-942c-46f04937b4bb",
   "metadata": {},
   "outputs": [
    {
     "data": {
      "text/html": [
       "<div>\n",
       "<style scoped>\n",
       "    .dataframe tbody tr th:only-of-type {\n",
       "        vertical-align: middle;\n",
       "    }\n",
       "\n",
       "    .dataframe tbody tr th {\n",
       "        vertical-align: top;\n",
       "    }\n",
       "\n",
       "    .dataframe thead th {\n",
       "        text-align: right;\n",
       "    }\n",
       "</style>\n",
       "<table border=\"1\" class=\"dataframe\">\n",
       "  <thead>\n",
       "    <tr style=\"text-align: right;\">\n",
       "      <th></th>\n",
       "      <th>A</th>\n",
       "      <th>B</th>\n",
       "      <th>C</th>\n",
       "      <th>D</th>\n",
       "      <th>F</th>\n",
       "    </tr>\n",
       "  </thead>\n",
       "  <tbody>\n",
       "    <tr>\n",
       "      <th>0</th>\n",
       "      <td>1.0</td>\n",
       "      <td>2024-08-22</td>\n",
       "      <td>1.0</td>\n",
       "      <td>3</td>\n",
       "      <td>Foo</td>\n",
       "    </tr>\n",
       "    <tr>\n",
       "      <th>1</th>\n",
       "      <td>1.0</td>\n",
       "      <td>2024-08-22</td>\n",
       "      <td>1.0</td>\n",
       "      <td>3</td>\n",
       "      <td>Foo</td>\n",
       "    </tr>\n",
       "    <tr>\n",
       "      <th>2</th>\n",
       "      <td>1.0</td>\n",
       "      <td>2024-08-22</td>\n",
       "      <td>1.0</td>\n",
       "      <td>3</td>\n",
       "      <td>Foo</td>\n",
       "    </tr>\n",
       "    <tr>\n",
       "      <th>3</th>\n",
       "      <td>1.0</td>\n",
       "      <td>2024-08-22</td>\n",
       "      <td>1.0</td>\n",
       "      <td>3</td>\n",
       "      <td>Foo</td>\n",
       "    </tr>\n",
       "  </tbody>\n",
       "</table>\n",
       "</div>"
      ],
      "text/plain": [
       "     A          B    C  D    F\n",
       "0  1.0 2024-08-22  1.0  3  Foo\n",
       "1  1.0 2024-08-22  1.0  3  Foo\n",
       "2  1.0 2024-08-22  1.0  3  Foo\n",
       "3  1.0 2024-08-22  1.0  3  Foo"
      ]
     },
     "execution_count": 27,
     "metadata": {},
     "output_type": "execute_result"
    }
   ],
   "source": [
    "df2"
   ]
  },
  {
   "cell_type": "code",
   "execution_count": 28,
   "id": "f94f7301-2361-4aa6-919b-844a7b4d00ab",
   "metadata": {},
   "outputs": [
    {
     "data": {
      "text/plain": [
       "A          float64\n",
       "B    datetime64[s]\n",
       "C          float32\n",
       "D            int32\n",
       "F           object\n",
       "dtype: object"
      ]
     },
     "execution_count": 28,
     "metadata": {},
     "output_type": "execute_result"
    }
   ],
   "source": [
    "df2.dtypes"
   ]
  },
  {
   "cell_type": "markdown",
   "id": "742ef357-6c69-47c8-b8e1-b7aa74c47631",
   "metadata": {},
   "source": [
    "# Viewing data"
   ]
  },
  {
   "cell_type": "markdown",
   "id": "7b96cc19-6cc7-4f7e-8f09-bdb125c13e1f",
   "metadata": {},
   "source": [
    "# Use DataFrame.head()  to view the top rows of frame"
   ]
  },
  {
   "cell_type": "code",
   "execution_count": 29,
   "id": "b5f187b3-535b-4325-a306-71eb563fa7aa",
   "metadata": {},
   "outputs": [
    {
     "data": {
      "text/plain": [
       "<bound method NDFrame.head of                    A         B         C         D\n",
       "2024-08-24 -0.271736 -0.489213 -1.905769  0.604402\n",
       "2024-08-25 -0.417909  0.153747  0.816140  2.077354\n",
       "2024-08-26 -0.707825 -0.101105  0.107873 -0.582570\n",
       "2024-08-27 -1.323593 -0.341142 -1.228217  0.246336\n",
       "2024-08-28  1.813231 -0.503493  0.765582 -1.735425\n",
       "2024-08-29  1.476087  1.068679 -0.855993  1.176333\n",
       "2024-08-30  0.641927 -0.505017  0.978035 -0.221271\n",
       "2024-08-31 -0.620606 -1.555799 -0.358539  1.095704>"
      ]
     },
     "execution_count": 29,
     "metadata": {},
     "output_type": "execute_result"
    }
   ],
   "source": [
    "df.head"
   ]
  },
  {
   "cell_type": "code",
   "execution_count": 30,
   "id": "183e7705-cd48-457e-890f-e931ded958ef",
   "metadata": {},
   "outputs": [
    {
     "data": {
      "text/html": [
       "<div>\n",
       "<style scoped>\n",
       "    .dataframe tbody tr th:only-of-type {\n",
       "        vertical-align: middle;\n",
       "    }\n",
       "\n",
       "    .dataframe tbody tr th {\n",
       "        vertical-align: top;\n",
       "    }\n",
       "\n",
       "    .dataframe thead th {\n",
       "        text-align: right;\n",
       "    }\n",
       "</style>\n",
       "<table border=\"1\" class=\"dataframe\">\n",
       "  <thead>\n",
       "    <tr style=\"text-align: right;\">\n",
       "      <th></th>\n",
       "      <th>A</th>\n",
       "      <th>B</th>\n",
       "      <th>C</th>\n",
       "      <th>D</th>\n",
       "    </tr>\n",
       "  </thead>\n",
       "  <tbody>\n",
       "    <tr>\n",
       "      <th>2024-08-24</th>\n",
       "      <td>-0.271736</td>\n",
       "      <td>-0.489213</td>\n",
       "      <td>-1.905769</td>\n",
       "      <td>0.604402</td>\n",
       "    </tr>\n",
       "    <tr>\n",
       "      <th>2024-08-25</th>\n",
       "      <td>-0.417909</td>\n",
       "      <td>0.153747</td>\n",
       "      <td>0.816140</td>\n",
       "      <td>2.077354</td>\n",
       "    </tr>\n",
       "    <tr>\n",
       "      <th>2024-08-26</th>\n",
       "      <td>-0.707825</td>\n",
       "      <td>-0.101105</td>\n",
       "      <td>0.107873</td>\n",
       "      <td>-0.582570</td>\n",
       "    </tr>\n",
       "  </tbody>\n",
       "</table>\n",
       "</div>"
      ],
      "text/plain": [
       "                   A         B         C         D\n",
       "2024-08-24 -0.271736 -0.489213 -1.905769  0.604402\n",
       "2024-08-25 -0.417909  0.153747  0.816140  2.077354\n",
       "2024-08-26 -0.707825 -0.101105  0.107873 -0.582570"
      ]
     },
     "execution_count": 30,
     "metadata": {},
     "output_type": "execute_result"
    }
   ],
   "source": [
    "df.head(3)"
   ]
  },
  {
   "cell_type": "markdown",
   "id": "58126b30-47b5-4fed-92fe-50a2923ecb1c",
   "metadata": {},
   "source": [
    "# Use  DataFrame.tail() to view the botoom rows of frame"
   ]
  },
  {
   "cell_type": "code",
   "execution_count": 31,
   "id": "9f9d9cb5-0613-47ff-be15-17f61fc69025",
   "metadata": {},
   "outputs": [
    {
     "data": {
      "text/plain": [
       "<bound method NDFrame.tail of                    A         B         C         D\n",
       "2024-08-24 -0.271736 -0.489213 -1.905769  0.604402\n",
       "2024-08-25 -0.417909  0.153747  0.816140  2.077354\n",
       "2024-08-26 -0.707825 -0.101105  0.107873 -0.582570\n",
       "2024-08-27 -1.323593 -0.341142 -1.228217  0.246336\n",
       "2024-08-28  1.813231 -0.503493  0.765582 -1.735425\n",
       "2024-08-29  1.476087  1.068679 -0.855993  1.176333\n",
       "2024-08-30  0.641927 -0.505017  0.978035 -0.221271\n",
       "2024-08-31 -0.620606 -1.555799 -0.358539  1.095704>"
      ]
     },
     "execution_count": 31,
     "metadata": {},
     "output_type": "execute_result"
    }
   ],
   "source": [
    "df.tail"
   ]
  },
  {
   "cell_type": "code",
   "execution_count": 32,
   "id": "85ccff62-1832-4311-999e-4b25e6e7a86e",
   "metadata": {},
   "outputs": [
    {
     "data": {
      "text/html": [
       "<div>\n",
       "<style scoped>\n",
       "    .dataframe tbody tr th:only-of-type {\n",
       "        vertical-align: middle;\n",
       "    }\n",
       "\n",
       "    .dataframe tbody tr th {\n",
       "        vertical-align: top;\n",
       "    }\n",
       "\n",
       "    .dataframe thead th {\n",
       "        text-align: right;\n",
       "    }\n",
       "</style>\n",
       "<table border=\"1\" class=\"dataframe\">\n",
       "  <thead>\n",
       "    <tr style=\"text-align: right;\">\n",
       "      <th></th>\n",
       "      <th>A</th>\n",
       "      <th>B</th>\n",
       "      <th>C</th>\n",
       "      <th>D</th>\n",
       "    </tr>\n",
       "  </thead>\n",
       "  <tbody>\n",
       "    <tr>\n",
       "      <th>2024-08-28</th>\n",
       "      <td>1.813231</td>\n",
       "      <td>-0.503493</td>\n",
       "      <td>0.765582</td>\n",
       "      <td>-1.735425</td>\n",
       "    </tr>\n",
       "    <tr>\n",
       "      <th>2024-08-29</th>\n",
       "      <td>1.476087</td>\n",
       "      <td>1.068679</td>\n",
       "      <td>-0.855993</td>\n",
       "      <td>1.176333</td>\n",
       "    </tr>\n",
       "    <tr>\n",
       "      <th>2024-08-30</th>\n",
       "      <td>0.641927</td>\n",
       "      <td>-0.505017</td>\n",
       "      <td>0.978035</td>\n",
       "      <td>-0.221271</td>\n",
       "    </tr>\n",
       "    <tr>\n",
       "      <th>2024-08-31</th>\n",
       "      <td>-0.620606</td>\n",
       "      <td>-1.555799</td>\n",
       "      <td>-0.358539</td>\n",
       "      <td>1.095704</td>\n",
       "    </tr>\n",
       "  </tbody>\n",
       "</table>\n",
       "</div>"
      ],
      "text/plain": [
       "                   A         B         C         D\n",
       "2024-08-28  1.813231 -0.503493  0.765582 -1.735425\n",
       "2024-08-29  1.476087  1.068679 -0.855993  1.176333\n",
       "2024-08-30  0.641927 -0.505017  0.978035 -0.221271\n",
       "2024-08-31 -0.620606 -1.555799 -0.358539  1.095704"
      ]
     },
     "execution_count": 32,
     "metadata": {},
     "output_type": "execute_result"
    }
   ],
   "source": [
    "df.tail(4)"
   ]
  },
  {
   "cell_type": "markdown",
   "id": "7025984b-006c-48de-822c-2493f1a75212",
   "metadata": {},
   "source": [
    "# To Display the DataFrame.index"
   ]
  },
  {
   "cell_type": "code",
   "execution_count": 33,
   "id": "9743c93a-1e1a-4b15-becb-a319be23efd3",
   "metadata": {},
   "outputs": [
    {
     "data": {
      "text/plain": [
       "DatetimeIndex(['2024-08-24', '2024-08-25', '2024-08-26', '2024-08-27',\n",
       "               '2024-08-28', '2024-08-29', '2024-08-30', '2024-08-31'],\n",
       "              dtype='datetime64[ns]', freq='D')"
      ]
     },
     "execution_count": 33,
     "metadata": {},
     "output_type": "execute_result"
    }
   ],
   "source": [
    "df.index"
   ]
  },
  {
   "cell_type": "markdown",
   "id": "a7c31ea2-4833-4114-b753-dea57b539ef4",
   "metadata": {},
   "source": [
    "# To Display the DataFrame.columns"
   ]
  },
  {
   "cell_type": "code",
   "execution_count": 34,
   "id": "716353ce-b5c1-4a35-a49e-00a7c218acb3",
   "metadata": {},
   "outputs": [
    {
     "data": {
      "text/plain": [
       "Index(['A', 'B', 'C', 'D'], dtype='object')"
      ]
     },
     "execution_count": 34,
     "metadata": {},
     "output_type": "execute_result"
    }
   ],
   "source": [
    "df.columns"
   ]
  },
  {
   "cell_type": "markdown",
   "id": "39bde0dd-051f-462d-88bc-e668e5106e65",
   "metadata": {},
   "source": [
    "# Return a NumPy representation of the underlying data with DataFrame.to_numpy() without the index or column labels:\r",
    "()"
   ]
  },
  {
   "cell_type": "code",
   "execution_count": 35,
   "id": "ac01980d-d060-4699-9375-d288fe6827c1",
   "metadata": {},
   "outputs": [
    {
     "data": {
      "text/plain": [
       "array([[-0.27173625, -0.48921347, -1.9057692 ,  0.60440215],\n",
       "       [-0.41790881,  0.15374669,  0.81614015,  2.07735363],\n",
       "       [-0.70782541, -0.10110512,  0.10787273, -0.58257   ],\n",
       "       [-1.32359279, -0.34114155, -1.22821687,  0.24633594],\n",
       "       [ 1.81323126, -0.50349287,  0.7655825 , -1.73542493],\n",
       "       [ 1.4760875 ,  1.06867912, -0.85599286,  1.17633343],\n",
       "       [ 0.64192674, -0.50501681,  0.97803454, -0.22127124],\n",
       "       [-0.62060561, -1.55579859, -0.35853857,  1.09570366]])"
      ]
     },
     "execution_count": 35,
     "metadata": {},
     "output_type": "execute_result"
    }
   ],
   "source": [
    "df.to_numpy()"
   ]
  },
  {
   "cell_type": "markdown",
   "id": "7b71775e-74ad-4fe1-850b-0721e67edb59",
   "metadata": {},
   "source": [
    "# NumPy arrays have one dtype for the entire array while pandas DataFrames have one dtype per column\n",
    " When you call DataFrame.to_numpy(), pandas will find the NumPy dtype that can hold all of the dtypes in the DataFrame. If the common data type is object, DataFrame.to_numpy() will require copying data.\n"
   ]
  },
  {
   "cell_type": "code",
   "execution_count": 36,
   "id": "b586fe26-0c8f-45de-9483-4282a454554b",
   "metadata": {},
   "outputs": [
    {
     "data": {
      "text/plain": [
       "A          float64\n",
       "B    datetime64[s]\n",
       "C          float32\n",
       "D            int32\n",
       "F           object\n",
       "dtype: object"
      ]
     },
     "execution_count": 36,
     "metadata": {},
     "output_type": "execute_result"
    }
   ],
   "source": [
    "df2.dtypes"
   ]
  },
  {
   "cell_type": "markdown",
   "id": "8f4d18fa-8d82-4eeb-bf3c-223f5618184e",
   "metadata": {},
   "source": [
    "# describe() shows a quick statistic summary of your data"
   ]
  },
  {
   "cell_type": "code",
   "execution_count": 37,
   "id": "b39da49e-8edf-4d05-8ad5-49ac2055f4fc",
   "metadata": {},
   "outputs": [
    {
     "data": {
      "text/html": [
       "<div>\n",
       "<style scoped>\n",
       "    .dataframe tbody tr th:only-of-type {\n",
       "        vertical-align: middle;\n",
       "    }\n",
       "\n",
       "    .dataframe tbody tr th {\n",
       "        vertical-align: top;\n",
       "    }\n",
       "\n",
       "    .dataframe thead th {\n",
       "        text-align: right;\n",
       "    }\n",
       "</style>\n",
       "<table border=\"1\" class=\"dataframe\">\n",
       "  <thead>\n",
       "    <tr style=\"text-align: right;\">\n",
       "      <th></th>\n",
       "      <th>A</th>\n",
       "      <th>B</th>\n",
       "      <th>C</th>\n",
       "      <th>D</th>\n",
       "    </tr>\n",
       "  </thead>\n",
       "  <tbody>\n",
       "    <tr>\n",
       "      <th>count</th>\n",
       "      <td>8.000000</td>\n",
       "      <td>8.000000</td>\n",
       "      <td>8.000000</td>\n",
       "      <td>8.000000</td>\n",
       "    </tr>\n",
       "    <tr>\n",
       "      <th>mean</th>\n",
       "      <td>0.073697</td>\n",
       "      <td>-0.284168</td>\n",
       "      <td>-0.210111</td>\n",
       "      <td>0.332608</td>\n",
       "    </tr>\n",
       "    <tr>\n",
       "      <th>std</th>\n",
       "      <td>1.116232</td>\n",
       "      <td>0.738211</td>\n",
       "      <td>1.060254</td>\n",
       "      <td>1.185672</td>\n",
       "    </tr>\n",
       "    <tr>\n",
       "      <th>min</th>\n",
       "      <td>-1.323593</td>\n",
       "      <td>-1.555799</td>\n",
       "      <td>-1.905769</td>\n",
       "      <td>-1.735425</td>\n",
       "    </tr>\n",
       "    <tr>\n",
       "      <th>25%</th>\n",
       "      <td>-0.642411</td>\n",
       "      <td>-0.503874</td>\n",
       "      <td>-0.949049</td>\n",
       "      <td>-0.311596</td>\n",
       "    </tr>\n",
       "    <tr>\n",
       "      <th>50%</th>\n",
       "      <td>-0.344823</td>\n",
       "      <td>-0.415178</td>\n",
       "      <td>-0.125333</td>\n",
       "      <td>0.425369</td>\n",
       "    </tr>\n",
       "    <tr>\n",
       "      <th>75%</th>\n",
       "      <td>0.850467</td>\n",
       "      <td>-0.037392</td>\n",
       "      <td>0.778222</td>\n",
       "      <td>1.115861</td>\n",
       "    </tr>\n",
       "    <tr>\n",
       "      <th>max</th>\n",
       "      <td>1.813231</td>\n",
       "      <td>1.068679</td>\n",
       "      <td>0.978035</td>\n",
       "      <td>2.077354</td>\n",
       "    </tr>\n",
       "  </tbody>\n",
       "</table>\n",
       "</div>"
      ],
      "text/plain": [
       "              A         B         C         D\n",
       "count  8.000000  8.000000  8.000000  8.000000\n",
       "mean   0.073697 -0.284168 -0.210111  0.332608\n",
       "std    1.116232  0.738211  1.060254  1.185672\n",
       "min   -1.323593 -1.555799 -1.905769 -1.735425\n",
       "25%   -0.642411 -0.503874 -0.949049 -0.311596\n",
       "50%   -0.344823 -0.415178 -0.125333  0.425369\n",
       "75%    0.850467 -0.037392  0.778222  1.115861\n",
       "max    1.813231  1.068679  0.978035  2.077354"
      ]
     },
     "execution_count": 37,
     "metadata": {},
     "output_type": "execute_result"
    }
   ],
   "source": [
    "df.describe()"
   ]
  },
  {
   "cell_type": "markdown",
   "id": "55f62789-55af-44c3-8b89-80610cdfc20f",
   "metadata": {},
   "source": [
    "# Transposing your data:"
   ]
  },
  {
   "cell_type": "code",
   "execution_count": 38,
   "id": "4d012687-9f9d-425d-a5ba-fe25f34d85e6",
   "metadata": {},
   "outputs": [
    {
     "data": {
      "text/html": [
       "<div>\n",
       "<style scoped>\n",
       "    .dataframe tbody tr th:only-of-type {\n",
       "        vertical-align: middle;\n",
       "    }\n",
       "\n",
       "    .dataframe tbody tr th {\n",
       "        vertical-align: top;\n",
       "    }\n",
       "\n",
       "    .dataframe thead th {\n",
       "        text-align: right;\n",
       "    }\n",
       "</style>\n",
       "<table border=\"1\" class=\"dataframe\">\n",
       "  <thead>\n",
       "    <tr style=\"text-align: right;\">\n",
       "      <th></th>\n",
       "      <th>2024-08-24</th>\n",
       "      <th>2024-08-25</th>\n",
       "      <th>2024-08-26</th>\n",
       "      <th>2024-08-27</th>\n",
       "      <th>2024-08-28</th>\n",
       "      <th>2024-08-29</th>\n",
       "      <th>2024-08-30</th>\n",
       "      <th>2024-08-31</th>\n",
       "    </tr>\n",
       "  </thead>\n",
       "  <tbody>\n",
       "    <tr>\n",
       "      <th>A</th>\n",
       "      <td>-0.271736</td>\n",
       "      <td>-0.417909</td>\n",
       "      <td>-0.707825</td>\n",
       "      <td>-1.323593</td>\n",
       "      <td>1.813231</td>\n",
       "      <td>1.476087</td>\n",
       "      <td>0.641927</td>\n",
       "      <td>-0.620606</td>\n",
       "    </tr>\n",
       "    <tr>\n",
       "      <th>B</th>\n",
       "      <td>-0.489213</td>\n",
       "      <td>0.153747</td>\n",
       "      <td>-0.101105</td>\n",
       "      <td>-0.341142</td>\n",
       "      <td>-0.503493</td>\n",
       "      <td>1.068679</td>\n",
       "      <td>-0.505017</td>\n",
       "      <td>-1.555799</td>\n",
       "    </tr>\n",
       "    <tr>\n",
       "      <th>C</th>\n",
       "      <td>-1.905769</td>\n",
       "      <td>0.816140</td>\n",
       "      <td>0.107873</td>\n",
       "      <td>-1.228217</td>\n",
       "      <td>0.765582</td>\n",
       "      <td>-0.855993</td>\n",
       "      <td>0.978035</td>\n",
       "      <td>-0.358539</td>\n",
       "    </tr>\n",
       "    <tr>\n",
       "      <th>D</th>\n",
       "      <td>0.604402</td>\n",
       "      <td>2.077354</td>\n",
       "      <td>-0.582570</td>\n",
       "      <td>0.246336</td>\n",
       "      <td>-1.735425</td>\n",
       "      <td>1.176333</td>\n",
       "      <td>-0.221271</td>\n",
       "      <td>1.095704</td>\n",
       "    </tr>\n",
       "  </tbody>\n",
       "</table>\n",
       "</div>"
      ],
      "text/plain": [
       "   2024-08-24  2024-08-25  2024-08-26  2024-08-27  2024-08-28  2024-08-29  \\\n",
       "A   -0.271736   -0.417909   -0.707825   -1.323593    1.813231    1.476087   \n",
       "B   -0.489213    0.153747   -0.101105   -0.341142   -0.503493    1.068679   \n",
       "C   -1.905769    0.816140    0.107873   -1.228217    0.765582   -0.855993   \n",
       "D    0.604402    2.077354   -0.582570    0.246336   -1.735425    1.176333   \n",
       "\n",
       "   2024-08-30  2024-08-31  \n",
       "A    0.641927   -0.620606  \n",
       "B   -0.505017   -1.555799  \n",
       "C    0.978035   -0.358539  \n",
       "D   -0.221271    1.095704  "
      ]
     },
     "execution_count": 38,
     "metadata": {},
     "output_type": "execute_result"
    }
   ],
   "source": [
    "df.T"
   ]
  },
  {
   "cell_type": "markdown",
   "id": "f1f0881a-e9ec-478e-bdcb-838976ba7f12",
   "metadata": {},
   "source": [
    "# DataFrame.sort_index() sorts by an axis:"
   ]
  },
  {
   "cell_type": "code",
   "execution_count": 39,
   "id": "ca611ec8-c160-4220-8081-1b14c53f7869",
   "metadata": {},
   "outputs": [
    {
     "data": {
      "text/html": [
       "<div>\n",
       "<style scoped>\n",
       "    .dataframe tbody tr th:only-of-type {\n",
       "        vertical-align: middle;\n",
       "    }\n",
       "\n",
       "    .dataframe tbody tr th {\n",
       "        vertical-align: top;\n",
       "    }\n",
       "\n",
       "    .dataframe thead th {\n",
       "        text-align: right;\n",
       "    }\n",
       "</style>\n",
       "<table border=\"1\" class=\"dataframe\">\n",
       "  <thead>\n",
       "    <tr style=\"text-align: right;\">\n",
       "      <th></th>\n",
       "      <th>D</th>\n",
       "      <th>C</th>\n",
       "      <th>B</th>\n",
       "      <th>A</th>\n",
       "    </tr>\n",
       "  </thead>\n",
       "  <tbody>\n",
       "    <tr>\n",
       "      <th>2024-08-24</th>\n",
       "      <td>0.604402</td>\n",
       "      <td>-1.905769</td>\n",
       "      <td>-0.489213</td>\n",
       "      <td>-0.271736</td>\n",
       "    </tr>\n",
       "    <tr>\n",
       "      <th>2024-08-25</th>\n",
       "      <td>2.077354</td>\n",
       "      <td>0.816140</td>\n",
       "      <td>0.153747</td>\n",
       "      <td>-0.417909</td>\n",
       "    </tr>\n",
       "    <tr>\n",
       "      <th>2024-08-26</th>\n",
       "      <td>-0.582570</td>\n",
       "      <td>0.107873</td>\n",
       "      <td>-0.101105</td>\n",
       "      <td>-0.707825</td>\n",
       "    </tr>\n",
       "    <tr>\n",
       "      <th>2024-08-27</th>\n",
       "      <td>0.246336</td>\n",
       "      <td>-1.228217</td>\n",
       "      <td>-0.341142</td>\n",
       "      <td>-1.323593</td>\n",
       "    </tr>\n",
       "    <tr>\n",
       "      <th>2024-08-28</th>\n",
       "      <td>-1.735425</td>\n",
       "      <td>0.765582</td>\n",
       "      <td>-0.503493</td>\n",
       "      <td>1.813231</td>\n",
       "    </tr>\n",
       "    <tr>\n",
       "      <th>2024-08-29</th>\n",
       "      <td>1.176333</td>\n",
       "      <td>-0.855993</td>\n",
       "      <td>1.068679</td>\n",
       "      <td>1.476087</td>\n",
       "    </tr>\n",
       "    <tr>\n",
       "      <th>2024-08-30</th>\n",
       "      <td>-0.221271</td>\n",
       "      <td>0.978035</td>\n",
       "      <td>-0.505017</td>\n",
       "      <td>0.641927</td>\n",
       "    </tr>\n",
       "    <tr>\n",
       "      <th>2024-08-31</th>\n",
       "      <td>1.095704</td>\n",
       "      <td>-0.358539</td>\n",
       "      <td>-1.555799</td>\n",
       "      <td>-0.620606</td>\n",
       "    </tr>\n",
       "  </tbody>\n",
       "</table>\n",
       "</div>"
      ],
      "text/plain": [
       "                   D         C         B         A\n",
       "2024-08-24  0.604402 -1.905769 -0.489213 -0.271736\n",
       "2024-08-25  2.077354  0.816140  0.153747 -0.417909\n",
       "2024-08-26 -0.582570  0.107873 -0.101105 -0.707825\n",
       "2024-08-27  0.246336 -1.228217 -0.341142 -1.323593\n",
       "2024-08-28 -1.735425  0.765582 -0.503493  1.813231\n",
       "2024-08-29  1.176333 -0.855993  1.068679  1.476087\n",
       "2024-08-30 -0.221271  0.978035 -0.505017  0.641927\n",
       "2024-08-31  1.095704 -0.358539 -1.555799 -0.620606"
      ]
     },
     "execution_count": 39,
     "metadata": {},
     "output_type": "execute_result"
    }
   ],
   "source": [
    "df.sort_index(axis=1, ascending=False)"
   ]
  },
  {
   "cell_type": "markdown",
   "id": "0a1bb5fd-c446-4e65-921e-d57fe76e2f47",
   "metadata": {},
   "source": [
    "# Dataframe.sort_values() sorts by values:"
   ]
  },
  {
   "cell_type": "code",
   "execution_count": 41,
   "id": "8be6cff4-b62d-4672-916e-d8474c8b504f",
   "metadata": {},
   "outputs": [
    {
     "data": {
      "text/html": [
       "<div>\n",
       "<style scoped>\n",
       "    .dataframe tbody tr th:only-of-type {\n",
       "        vertical-align: middle;\n",
       "    }\n",
       "\n",
       "    .dataframe tbody tr th {\n",
       "        vertical-align: top;\n",
       "    }\n",
       "\n",
       "    .dataframe thead th {\n",
       "        text-align: right;\n",
       "    }\n",
       "</style>\n",
       "<table border=\"1\" class=\"dataframe\">\n",
       "  <thead>\n",
       "    <tr style=\"text-align: right;\">\n",
       "      <th></th>\n",
       "      <th>A</th>\n",
       "      <th>B</th>\n",
       "      <th>C</th>\n",
       "      <th>D</th>\n",
       "    </tr>\n",
       "  </thead>\n",
       "  <tbody>\n",
       "    <tr>\n",
       "      <th>2024-08-31</th>\n",
       "      <td>-0.620606</td>\n",
       "      <td>-1.555799</td>\n",
       "      <td>-0.358539</td>\n",
       "      <td>1.095704</td>\n",
       "    </tr>\n",
       "    <tr>\n",
       "      <th>2024-08-30</th>\n",
       "      <td>0.641927</td>\n",
       "      <td>-0.505017</td>\n",
       "      <td>0.978035</td>\n",
       "      <td>-0.221271</td>\n",
       "    </tr>\n",
       "    <tr>\n",
       "      <th>2024-08-28</th>\n",
       "      <td>1.813231</td>\n",
       "      <td>-0.503493</td>\n",
       "      <td>0.765582</td>\n",
       "      <td>-1.735425</td>\n",
       "    </tr>\n",
       "    <tr>\n",
       "      <th>2024-08-24</th>\n",
       "      <td>-0.271736</td>\n",
       "      <td>-0.489213</td>\n",
       "      <td>-1.905769</td>\n",
       "      <td>0.604402</td>\n",
       "    </tr>\n",
       "    <tr>\n",
       "      <th>2024-08-27</th>\n",
       "      <td>-1.323593</td>\n",
       "      <td>-0.341142</td>\n",
       "      <td>-1.228217</td>\n",
       "      <td>0.246336</td>\n",
       "    </tr>\n",
       "    <tr>\n",
       "      <th>2024-08-26</th>\n",
       "      <td>-0.707825</td>\n",
       "      <td>-0.101105</td>\n",
       "      <td>0.107873</td>\n",
       "      <td>-0.582570</td>\n",
       "    </tr>\n",
       "    <tr>\n",
       "      <th>2024-08-25</th>\n",
       "      <td>-0.417909</td>\n",
       "      <td>0.153747</td>\n",
       "      <td>0.816140</td>\n",
       "      <td>2.077354</td>\n",
       "    </tr>\n",
       "    <tr>\n",
       "      <th>2024-08-29</th>\n",
       "      <td>1.476087</td>\n",
       "      <td>1.068679</td>\n",
       "      <td>-0.855993</td>\n",
       "      <td>1.176333</td>\n",
       "    </tr>\n",
       "  </tbody>\n",
       "</table>\n",
       "</div>"
      ],
      "text/plain": [
       "                   A         B         C         D\n",
       "2024-08-31 -0.620606 -1.555799 -0.358539  1.095704\n",
       "2024-08-30  0.641927 -0.505017  0.978035 -0.221271\n",
       "2024-08-28  1.813231 -0.503493  0.765582 -1.735425\n",
       "2024-08-24 -0.271736 -0.489213 -1.905769  0.604402\n",
       "2024-08-27 -1.323593 -0.341142 -1.228217  0.246336\n",
       "2024-08-26 -0.707825 -0.101105  0.107873 -0.582570\n",
       "2024-08-25 -0.417909  0.153747  0.816140  2.077354\n",
       "2024-08-29  1.476087  1.068679 -0.855993  1.176333"
      ]
     },
     "execution_count": 41,
     "metadata": {},
     "output_type": "execute_result"
    }
   ],
   "source": [
    "df.sort_values(by=\"B\")"
   ]
  },
  {
   "cell_type": "code",
   "execution_count": null,
   "id": "9fa8f3ed-d4c2-4c34-9fa6-478dc65e7764",
   "metadata": {},
   "outputs": [],
   "source": []
  }
 ],
 "metadata": {
  "kernelspec": {
   "display_name": "Python 3 (ipykernel)",
   "language": "python",
   "name": "python3"
  },
  "language_info": {
   "codemirror_mode": {
    "name": "ipython",
    "version": 3
   },
   "file_extension": ".py",
   "mimetype": "text/x-python",
   "name": "python",
   "nbconvert_exporter": "python",
   "pygments_lexer": "ipython3",
   "version": "3.12.4"
  }
 },
 "nbformat": 4,
 "nbformat_minor": 5
}
