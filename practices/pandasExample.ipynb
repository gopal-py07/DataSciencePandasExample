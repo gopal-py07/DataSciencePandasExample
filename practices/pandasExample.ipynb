{
 "cells": [
  {
   "cell_type": "code",
   "execution_count": 1,
   "id": "dd6dd6c6-efad-417d-882f-e6a7de26a1e1",
   "metadata": {},
   "outputs": [],
   "source": [
    "import pandas as pd"
   ]
  },
  {
   "cell_type": "code",
   "execution_count": 3,
   "id": "d94c41c5-a358-4dad-8d06-ff76e45473cb",
   "metadata": {},
   "outputs": [
    {
     "data": {
      "text/plain": [
       "'2.2.2'"
      ]
     },
     "execution_count": 3,
     "metadata": {},
     "output_type": "execute_result"
    }
   ],
   "source": [
    "(pd.__version__)"
   ]
  },
  {
   "cell_type": "code",
   "execution_count": 5,
   "id": "a680f933-a8fb-4b7b-8d90-2f8f6ece1f91",
   "metadata": {},
   "outputs": [
    {
     "name": "stdout",
     "output_type": "stream",
     "text": [
      "    X   Y   Z\n",
      "0  78  84  86\n",
      "1  75  94  86\n",
      "2  79  89  97\n",
      "3  65  83  48\n",
      "4  28  82  24\n"
     ]
    }
   ],
   "source": [
    "df  = pd.DataFrame({'X':[78,75,79,65,28], 'Y': [84,94,89,83,82], 'Z': [86,86,97,48,24]})\n",
    "print(df)"
   ]
  },
  {
   "cell_type": "code",
   "execution_count": 6,
   "id": "aba71318-9816-4f03-82b2-daa4f0cce043",
   "metadata": {},
   "outputs": [],
   "source": [
    "s = pd.Series([2,4,6,8,10])"
   ]
  },
  {
   "cell_type": "code",
   "execution_count": 7,
   "id": "55579f90-b0fc-42a9-9ef8-38051b9b17de",
   "metadata": {},
   "outputs": [
    {
     "name": "stdout",
     "output_type": "stream",
     "text": [
      "0     2\n",
      "1     4\n",
      "2     6\n",
      "3     8\n",
      "4    10\n",
      "dtype: int64\n"
     ]
    }
   ],
   "source": [
    "print(s)"
   ]
  },
  {
   "cell_type": "markdown",
   "id": "9c436fd2-a4b2-47f9-b493-af35e940016a",
   "metadata": {},
   "source": [
    "=======================================\n",
    "Data Stucture\n",
    ":-- Series,\n",
    "Dataframes,\n",
    "Panel ================================="
   ]
  },
  {
   "cell_type": "markdown",
   "id": "edcaaaac-b1ee-47bc-9150-70e61a15c2dd",
   "metadata": {},
   "source": [
    "===========================================Series==================================================="
   ]
  },
  {
   "cell_type": "markdown",
   "id": "b9bfc505-c58e-4159-830a-7bfcb836e2d8",
   "metadata": {},
   "source": [
    " create series such as \n",
    " \n",
    " pandas.Series( data, index, dtype, copy)"
   ]
  },
  {
   "cell_type": "markdown",
   "id": "6710cc28-9ab3-4e92-9d5a-195a35079214",
   "metadata": {},
   "source": [
    "#creating empty series"
   ]
  },
  {
   "cell_type": "code",
   "execution_count": 12,
   "id": "f288e3a7-5feb-4bb9-8001-639146ccdc58",
   "metadata": {},
   "outputs": [
    {
     "name": "stdout",
     "output_type": "stream",
     "text": [
      "Series([], dtype: object)\n"
     ]
    }
   ],
   "source": [
    "#import pandas liabrary and aliase it as pd\n",
    "import pandas as pd\n",
    "s = pd.Series()\n",
    "type(s)\n",
    "print(s)"
   ]
  },
  {
   "cell_type": "code",
   "execution_count": 13,
   "id": "78aa9249-0521-4673-b28c-1307bb4190e2",
   "metadata": {},
   "outputs": [],
   "source": [
    "#creating series using ndarray\n",
    "#if data is ndarray then index passed be of the same length if no index passed then by default index will be range(n) n is array lenth i.e [0,1,2...range[len(array-1)]]\n"
   ]
  },
  {
   "cell_type": "code",
   "execution_count": 15,
   "id": "c189b6e6-5ee4-49f9-b2eb-7d588924bab2",
   "metadata": {},
   "outputs": [
    {
     "name": "stdout",
     "output_type": "stream",
     "text": [
      "0    a\n",
      "1    b\n",
      "2    c\n",
      "3    d\n",
      "dtype: object\n"
     ]
    }
   ],
   "source": [
    "#import the pandas liabrary and aliasing as pd\n",
    "import pandas as pd\n",
    "import numpy as np\n",
    "data = np.array(['a','b','c','d'])\n",
    "s = pd.Series(data)\n",
    "print(s)"
   ]
  },
  {
   "cell_type": "code",
   "execution_count": 16,
   "id": "2c065a92-f3f9-4f87-b6c9-badadf054ed4",
   "metadata": {},
   "outputs": [
    {
     "name": "stdout",
     "output_type": "stream",
     "text": [
      "b    1.0\n",
      "c    2.0\n",
      "d    NaN\n",
      "a    0.0\n",
      "dtype: float64\n"
     ]
    }
   ],
   "source": [
    "#ex:2\n",
    "#impoerting pandas liabrary as pd\n",
    "import pandas as pd\n",
    "import numpy as np\n",
    "data = {'a':0.,'b':1.,'c':2.}\n",
    "s = pd.Series(data, index=['b','c','d','a'])\n",
    "print(s)"
   ]
  },
  {
   "cell_type": "code",
   "execution_count": 17,
   "id": "67a77642-7ad1-45ae-8d9d-8855a3ccdcc4",
   "metadata": {},
   "outputs": [],
   "source": [
    "#ndex order is persisted and the missing element is filled with NaN (Not a Number).\n"
   ]
  },
  {
   "cell_type": "code",
   "execution_count": null,
   "id": "c3a9aa51-7e58-48ad-afb2-c3a9604a2121",
   "metadata": {},
   "outputs": [],
   "source": []
  }
 ],
 "metadata": {
  "kernelspec": {
   "display_name": "Python 3 (ipykernel)",
   "language": "python",
   "name": "python3"
  },
  "language_info": {
   "codemirror_mode": {
    "name": "ipython",
    "version": 3
   },
   "file_extension": ".py",
   "mimetype": "text/x-python",
   "name": "python",
   "nbconvert_exporter": "python",
   "pygments_lexer": "ipython3",
   "version": "3.12.4"
  }
 },
 "nbformat": 4,
 "nbformat_minor": 5
}
