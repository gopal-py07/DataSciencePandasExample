{
 "cells": [
  {
   "cell_type": "markdown",
   "id": "32eaadf5-e3b2-4258-a0e1-eb996f3ce854",
   "metadata": {},
   "source": [
    "#DataFrame\n",
    "\n",
    "#Constructor\n",
    "\n",
    "#DataFrame([data, index, columns, dtype, copy])\n",
    "\n",
    "#Two-dimensional, size-mutable, potentially heterogeneous tabular data.\n",
    "\n",
    "\n",
    "\n",
    "\n",
    "\n",
    "\n",
    "\n",
    "DataFrame.index | The index (row labels) of the DataFrame.\n",
    "\n",
    "DataFrame.columns | The column labels of the DataFrame.\n",
    "\n",
    "DataFrame.dtypes | Return the dtypes in the DataFrame.\n",
    "\n",
    "DataFrame.info([verbose, buf, max_cols, ...]) | Print a concise summary of a DataFrame.\n",
    "\n",
    "DataFrame.copy([deep]) Make a copy of this object's indices and data"
   ]
  },
  {
   "cell_type": "code",
   "execution_count": null,
   "id": "aa543ed8-b47f-46f0-a786-8a4183eda775",
   "metadata": {},
   "outputs": [],
   "source": []
  }
 ],
 "metadata": {
  "kernelspec": {
   "display_name": "Python 3 (ipykernel)",
   "language": "python",
   "name": "python3"
  },
  "language_info": {
   "codemirror_mode": {
    "name": "ipython",
    "version": 3
   },
   "file_extension": ".py",
   "mimetype": "text/x-python",
   "name": "python",
   "nbconvert_exporter": "python",
   "pygments_lexer": "ipython3",
   "version": "3.12.4"
  }
 },
 "nbformat": 4,
 "nbformat_minor": 5
}
