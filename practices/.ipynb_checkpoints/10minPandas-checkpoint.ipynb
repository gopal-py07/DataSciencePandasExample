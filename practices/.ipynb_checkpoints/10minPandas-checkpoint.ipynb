{
 "cells": [
  {
   "cell_type": "markdown",
   "id": "a479be16-a313-4fb7-8d85-bcab26d2f194",
   "metadata": {},
   "source": [
    "# Basic data structures in pandas"
   ]
  },
  {
   "cell_type": "code",
   "execution_count": 3,
   "id": "535c479c-c57e-44b1-a37a-352c2725ffa7",
   "metadata": {},
   "outputs": [],
   "source": [
    "import pandas as pd\n",
    "import numpy as np"
   ]
  },
  {
   "cell_type": "markdown",
   "id": "e5dac33a-f89e-41b9-a4d8-1d4024cf7db9",
   "metadata": {},
   "source": [
    "Pandas provides two types of classes for handling data:\n",
    "\n",
    "# Series: \n",
    "    A one-dimensional labeled array holding data of any type such as integers, strings, Python objects etc.\n",
    "\n",
    "# DataFrame:\n",
    "    A two-dimensional data structure that holds data like a two-dimension array or a table with rows and columns."
   ]
  },
  {
   "cell_type": "markdown",
   "id": "30469968-04c7-4629-8594-5de13eecd115",
   "metadata": {},
   "source": [
    "# Object Creation\n"
   ]
  },
  {
   "cell_type": "markdown",
   "id": "dacb4c70-849b-4289-a1ba-d59624481181",
   "metadata": {},
   "source": [
    "Creating a Series by passing a list of values, letting pandas create a default RangeIndex."
   ]
  },
  {
   "cell_type": "code",
   "execution_count": 4,
   "id": "532d2c1f-058d-4615-b00c-cb2aa8c7693f",
   "metadata": {},
   "outputs": [],
   "source": [
    "s = pd.Series([1,3,5,np.nan,6,8])"
   ]
  },
  {
   "cell_type": "code",
   "execution_count": 5,
   "id": "fb72cee5-3199-49b0-aabd-ccd7538406ec",
   "metadata": {},
   "outputs": [
    {
     "data": {
      "text/plain": [
       "0    1.0\n",
       "1    3.0\n",
       "2    5.0\n",
       "3    NaN\n",
       "4    6.0\n",
       "5    8.0\n",
       "dtype: float64"
      ]
     },
     "execution_count": 5,
     "metadata": {},
     "output_type": "execute_result"
    }
   ],
   "source": [
    "s"
   ]
  },
  {
   "cell_type": "markdown",
   "id": "2b1324e2-7f6e-4c97-b4df-62a38ac9dce6",
   "metadata": {},
   "source": [
    "Creating a DataFrame by passing a NumPy array with a datetime index using date_range() and labeled columns:"
   ]
  },
  {
   "cell_type": "code",
   "execution_count": 6,
   "id": "a530c624-28e4-4ee5-ab51-929f561968d4",
   "metadata": {},
   "outputs": [],
   "source": [
    "dates = pd.date_range(\"20240824\",periods=8)"
   ]
  },
  {
   "cell_type": "code",
   "execution_count": 7,
   "id": "323b8576-1256-4c99-8935-1e4ce47a5f37",
   "metadata": {},
   "outputs": [
    {
     "data": {
      "text/plain": [
       "DatetimeIndex(['2024-08-24', '2024-08-25', '2024-08-26', '2024-08-27',\n",
       "               '2024-08-28', '2024-08-29', '2024-08-30', '2024-08-31'],\n",
       "              dtype='datetime64[ns]', freq='D')"
      ]
     },
     "execution_count": 7,
     "metadata": {},
     "output_type": "execute_result"
    }
   ],
   "source": [
    "dates"
   ]
  },
  {
   "cell_type": "code",
   "execution_count": 20,
   "id": "e5c9c154-8c58-475e-845c-80d589b81f8a",
   "metadata": {},
   "outputs": [
    {
     "ename": "ValueError",
     "evalue": "Shape of passed values is (6, 4), indices imply (8, 4)",
     "output_type": "error",
     "traceback": [
      "\u001b[1;31m---------------------------------------------------------------------------\u001b[0m",
      "\u001b[1;31mValueError\u001b[0m                                Traceback (most recent call last)",
      "Cell \u001b[1;32mIn[20], line 1\u001b[0m\n\u001b[1;32m----> 1\u001b[0m df \u001b[38;5;241m=\u001b[39m pd\u001b[38;5;241m.\u001b[39mDataFrame(np\u001b[38;5;241m.\u001b[39mrandom\u001b[38;5;241m.\u001b[39mrandn(\u001b[38;5;241m6\u001b[39m,\u001b[38;5;241m4\u001b[39m), index\u001b[38;5;241m=\u001b[39mdates, columns\u001b[38;5;241m=\u001b[39m\u001b[38;5;28mlist\u001b[39m(\u001b[38;5;124m\"\u001b[39m\u001b[38;5;124mABCD\u001b[39m\u001b[38;5;124m\"\u001b[39m))\n",
      "File \u001b[1;32m~\\AppData\\Local\\anaconda3\\Lib\\site-packages\\pandas\\core\\frame.py:827\u001b[0m, in \u001b[0;36mDataFrame.__init__\u001b[1;34m(self, data, index, columns, dtype, copy)\u001b[0m\n\u001b[0;32m    816\u001b[0m         mgr \u001b[38;5;241m=\u001b[39m dict_to_mgr(\n\u001b[0;32m    817\u001b[0m             \u001b[38;5;66;03m# error: Item \"ndarray\" of \"Union[ndarray, Series, Index]\" has no\u001b[39;00m\n\u001b[0;32m    818\u001b[0m             \u001b[38;5;66;03m# attribute \"name\"\u001b[39;00m\n\u001b[1;32m   (...)\u001b[0m\n\u001b[0;32m    824\u001b[0m             copy\u001b[38;5;241m=\u001b[39m_copy,\n\u001b[0;32m    825\u001b[0m         )\n\u001b[0;32m    826\u001b[0m     \u001b[38;5;28;01melse\u001b[39;00m:\n\u001b[1;32m--> 827\u001b[0m         mgr \u001b[38;5;241m=\u001b[39m ndarray_to_mgr(\n\u001b[0;32m    828\u001b[0m             data,\n\u001b[0;32m    829\u001b[0m             index,\n\u001b[0;32m    830\u001b[0m             columns,\n\u001b[0;32m    831\u001b[0m             dtype\u001b[38;5;241m=\u001b[39mdtype,\n\u001b[0;32m    832\u001b[0m             copy\u001b[38;5;241m=\u001b[39mcopy,\n\u001b[0;32m    833\u001b[0m             typ\u001b[38;5;241m=\u001b[39mmanager,\n\u001b[0;32m    834\u001b[0m         )\n\u001b[0;32m    836\u001b[0m \u001b[38;5;66;03m# For data is list-like, or Iterable (will consume into list)\u001b[39;00m\n\u001b[0;32m    837\u001b[0m \u001b[38;5;28;01melif\u001b[39;00m is_list_like(data):\n",
      "File \u001b[1;32m~\\AppData\\Local\\anaconda3\\Lib\\site-packages\\pandas\\core\\internals\\construction.py:336\u001b[0m, in \u001b[0;36mndarray_to_mgr\u001b[1;34m(values, index, columns, dtype, copy, typ)\u001b[0m\n\u001b[0;32m    331\u001b[0m \u001b[38;5;66;03m# _prep_ndarraylike ensures that values.ndim == 2 at this point\u001b[39;00m\n\u001b[0;32m    332\u001b[0m index, columns \u001b[38;5;241m=\u001b[39m _get_axes(\n\u001b[0;32m    333\u001b[0m     values\u001b[38;5;241m.\u001b[39mshape[\u001b[38;5;241m0\u001b[39m], values\u001b[38;5;241m.\u001b[39mshape[\u001b[38;5;241m1\u001b[39m], index\u001b[38;5;241m=\u001b[39mindex, columns\u001b[38;5;241m=\u001b[39mcolumns\n\u001b[0;32m    334\u001b[0m )\n\u001b[1;32m--> 336\u001b[0m _check_values_indices_shape_match(values, index, columns)\n\u001b[0;32m    338\u001b[0m \u001b[38;5;28;01mif\u001b[39;00m typ \u001b[38;5;241m==\u001b[39m \u001b[38;5;124m\"\u001b[39m\u001b[38;5;124marray\u001b[39m\u001b[38;5;124m\"\u001b[39m:\n\u001b[0;32m    339\u001b[0m     \u001b[38;5;28;01mif\u001b[39;00m \u001b[38;5;28missubclass\u001b[39m(values\u001b[38;5;241m.\u001b[39mdtype\u001b[38;5;241m.\u001b[39mtype, \u001b[38;5;28mstr\u001b[39m):\n",
      "File \u001b[1;32m~\\AppData\\Local\\anaconda3\\Lib\\site-packages\\pandas\\core\\internals\\construction.py:420\u001b[0m, in \u001b[0;36m_check_values_indices_shape_match\u001b[1;34m(values, index, columns)\u001b[0m\n\u001b[0;32m    418\u001b[0m passed \u001b[38;5;241m=\u001b[39m values\u001b[38;5;241m.\u001b[39mshape\n\u001b[0;32m    419\u001b[0m implied \u001b[38;5;241m=\u001b[39m (\u001b[38;5;28mlen\u001b[39m(index), \u001b[38;5;28mlen\u001b[39m(columns))\n\u001b[1;32m--> 420\u001b[0m \u001b[38;5;28;01mraise\u001b[39;00m \u001b[38;5;167;01mValueError\u001b[39;00m(\u001b[38;5;124mf\u001b[39m\u001b[38;5;124m\"\u001b[39m\u001b[38;5;124mShape of passed values is \u001b[39m\u001b[38;5;132;01m{\u001b[39;00mpassed\u001b[38;5;132;01m}\u001b[39;00m\u001b[38;5;124m, indices imply \u001b[39m\u001b[38;5;132;01m{\u001b[39;00mimplied\u001b[38;5;132;01m}\u001b[39;00m\u001b[38;5;124m\"\u001b[39m)\n",
      "\u001b[1;31mValueError\u001b[0m: Shape of passed values is (6, 4), indices imply (8, 4)"
     ]
    }
   ],
   "source": [
    "    df = pd.DataFrame(np.random.randn(6,4), index=dates, columns=list(\"ABCD\"))"
   ]
  },
  {
   "cell_type": "code",
   "execution_count": 8,
   "id": "0de77d12-9d24-4619-b22a-a6addb0cef2d",
   "metadata": {},
   "outputs": [],
   "source": [
    "    df = pd.DataFrame(np.random.randn(8,4), index=dates, columns=list(\"ABCD\"))"
   ]
  },
  {
   "cell_type": "code",
   "execution_count": 9,
   "id": "a99645c9-afb0-4063-bca7-84c7b41f5f3c",
   "metadata": {},
   "outputs": [
    {
     "data": {
      "text/html": [
       "<div>\n",
       "<style scoped>\n",
       "    .dataframe tbody tr th:only-of-type {\n",
       "        vertical-align: middle;\n",
       "    }\n",
       "\n",
       "    .dataframe tbody tr th {\n",
       "        vertical-align: top;\n",
       "    }\n",
       "\n",
       "    .dataframe thead th {\n",
       "        text-align: right;\n",
       "    }\n",
       "</style>\n",
       "<table border=\"1\" class=\"dataframe\">\n",
       "  <thead>\n",
       "    <tr style=\"text-align: right;\">\n",
       "      <th></th>\n",
       "      <th>A</th>\n",
       "      <th>B</th>\n",
       "      <th>C</th>\n",
       "      <th>D</th>\n",
       "    </tr>\n",
       "  </thead>\n",
       "  <tbody>\n",
       "    <tr>\n",
       "      <th>2024-08-24</th>\n",
       "      <td>1.841859</td>\n",
       "      <td>-2.095025</td>\n",
       "      <td>-1.599813</td>\n",
       "      <td>0.290403</td>\n",
       "    </tr>\n",
       "    <tr>\n",
       "      <th>2024-08-25</th>\n",
       "      <td>-0.901205</td>\n",
       "      <td>-0.059963</td>\n",
       "      <td>0.951438</td>\n",
       "      <td>-1.657837</td>\n",
       "    </tr>\n",
       "    <tr>\n",
       "      <th>2024-08-26</th>\n",
       "      <td>-0.604463</td>\n",
       "      <td>2.526805</td>\n",
       "      <td>1.006789</td>\n",
       "      <td>0.980797</td>\n",
       "    </tr>\n",
       "    <tr>\n",
       "      <th>2024-08-27</th>\n",
       "      <td>0.891978</td>\n",
       "      <td>-0.717233</td>\n",
       "      <td>-0.890150</td>\n",
       "      <td>1.381870</td>\n",
       "    </tr>\n",
       "    <tr>\n",
       "      <th>2024-08-28</th>\n",
       "      <td>0.491197</td>\n",
       "      <td>1.038402</td>\n",
       "      <td>-1.111967</td>\n",
       "      <td>-0.764854</td>\n",
       "    </tr>\n",
       "    <tr>\n",
       "      <th>2024-08-29</th>\n",
       "      <td>0.000603</td>\n",
       "      <td>-1.184322</td>\n",
       "      <td>1.700566</td>\n",
       "      <td>0.300647</td>\n",
       "    </tr>\n",
       "    <tr>\n",
       "      <th>2024-08-30</th>\n",
       "      <td>0.493169</td>\n",
       "      <td>-0.295767</td>\n",
       "      <td>-1.592250</td>\n",
       "      <td>0.124464</td>\n",
       "    </tr>\n",
       "    <tr>\n",
       "      <th>2024-08-31</th>\n",
       "      <td>1.065619</td>\n",
       "      <td>1.143730</td>\n",
       "      <td>1.789567</td>\n",
       "      <td>1.522113</td>\n",
       "    </tr>\n",
       "  </tbody>\n",
       "</table>\n",
       "</div>"
      ],
      "text/plain": [
       "                   A         B         C         D\n",
       "2024-08-24  1.841859 -2.095025 -1.599813  0.290403\n",
       "2024-08-25 -0.901205 -0.059963  0.951438 -1.657837\n",
       "2024-08-26 -0.604463  2.526805  1.006789  0.980797\n",
       "2024-08-27  0.891978 -0.717233 -0.890150  1.381870\n",
       "2024-08-28  0.491197  1.038402 -1.111967 -0.764854\n",
       "2024-08-29  0.000603 -1.184322  1.700566  0.300647\n",
       "2024-08-30  0.493169 -0.295767 -1.592250  0.124464\n",
       "2024-08-31  1.065619  1.143730  1.789567  1.522113"
      ]
     },
     "execution_count": 9,
     "metadata": {},
     "output_type": "execute_result"
    }
   ],
   "source": [
    "df"
   ]
  },
  {
   "cell_type": "markdown",
   "id": "47509cac-cba4-4ee9-aed7-0e247abf7760",
   "metadata": {},
   "source": [
    "Creating a DataFrame by passing a dictionary of objects where the keys are the column labels and the values are the column values."
   ]
  },
  {
   "cell_type": "code",
   "execution_count": 10,
   "id": "4ac07d26-4ee7-4fbc-98cf-1d3a00ed35bd",
   "metadata": {},
   "outputs": [
    {
     "ename": "ValueError",
     "evalue": "If using all scalar values, you must pass an index",
     "output_type": "error",
     "traceback": [
      "\u001b[1;31m---------------------------------------------------------------------------\u001b[0m",
      "\u001b[1;31mValueError\u001b[0m                                Traceback (most recent call last)",
      "Cell \u001b[1;32mIn[10], line 1\u001b[0m\n\u001b[1;32m----> 1\u001b[0m df2 \u001b[38;5;241m=\u001b[39m pd\u001b[38;5;241m.\u001b[39mDataFrame({\n\u001b[0;32m      2\u001b[0m     \u001b[38;5;124m\"\u001b[39m\u001b[38;5;124mA\u001b[39m\u001b[38;5;124m\"\u001b[39m:\u001b[38;5;241m1.0\u001b[39m,\n\u001b[0;32m      3\u001b[0m })\n",
      "File \u001b[1;32m~\\AppData\\Local\\anaconda3\\Lib\\site-packages\\pandas\\core\\frame.py:778\u001b[0m, in \u001b[0;36mDataFrame.__init__\u001b[1;34m(self, data, index, columns, dtype, copy)\u001b[0m\n\u001b[0;32m    772\u001b[0m     mgr \u001b[38;5;241m=\u001b[39m \u001b[38;5;28mself\u001b[39m\u001b[38;5;241m.\u001b[39m_init_mgr(\n\u001b[0;32m    773\u001b[0m         data, axes\u001b[38;5;241m=\u001b[39m{\u001b[38;5;124m\"\u001b[39m\u001b[38;5;124mindex\u001b[39m\u001b[38;5;124m\"\u001b[39m: index, \u001b[38;5;124m\"\u001b[39m\u001b[38;5;124mcolumns\u001b[39m\u001b[38;5;124m\"\u001b[39m: columns}, dtype\u001b[38;5;241m=\u001b[39mdtype, copy\u001b[38;5;241m=\u001b[39mcopy\n\u001b[0;32m    774\u001b[0m     )\n\u001b[0;32m    776\u001b[0m \u001b[38;5;28;01melif\u001b[39;00m \u001b[38;5;28misinstance\u001b[39m(data, \u001b[38;5;28mdict\u001b[39m):\n\u001b[0;32m    777\u001b[0m     \u001b[38;5;66;03m# GH#38939 de facto copy defaults to False only in non-dict cases\u001b[39;00m\n\u001b[1;32m--> 778\u001b[0m     mgr \u001b[38;5;241m=\u001b[39m dict_to_mgr(data, index, columns, dtype\u001b[38;5;241m=\u001b[39mdtype, copy\u001b[38;5;241m=\u001b[39mcopy, typ\u001b[38;5;241m=\u001b[39mmanager)\n\u001b[0;32m    779\u001b[0m \u001b[38;5;28;01melif\u001b[39;00m \u001b[38;5;28misinstance\u001b[39m(data, ma\u001b[38;5;241m.\u001b[39mMaskedArray):\n\u001b[0;32m    780\u001b[0m     \u001b[38;5;28;01mfrom\u001b[39;00m \u001b[38;5;21;01mnumpy\u001b[39;00m\u001b[38;5;21;01m.\u001b[39;00m\u001b[38;5;21;01mma\u001b[39;00m \u001b[38;5;28;01mimport\u001b[39;00m mrecords\n",
      "File \u001b[1;32m~\\AppData\\Local\\anaconda3\\Lib\\site-packages\\pandas\\core\\internals\\construction.py:503\u001b[0m, in \u001b[0;36mdict_to_mgr\u001b[1;34m(data, index, columns, dtype, typ, copy)\u001b[0m\n\u001b[0;32m    499\u001b[0m     \u001b[38;5;28;01melse\u001b[39;00m:\n\u001b[0;32m    500\u001b[0m         \u001b[38;5;66;03m# dtype check to exclude e.g. range objects, scalars\u001b[39;00m\n\u001b[0;32m    501\u001b[0m         arrays \u001b[38;5;241m=\u001b[39m [x\u001b[38;5;241m.\u001b[39mcopy() \u001b[38;5;28;01mif\u001b[39;00m \u001b[38;5;28mhasattr\u001b[39m(x, \u001b[38;5;124m\"\u001b[39m\u001b[38;5;124mdtype\u001b[39m\u001b[38;5;124m\"\u001b[39m) \u001b[38;5;28;01melse\u001b[39;00m x \u001b[38;5;28;01mfor\u001b[39;00m x \u001b[38;5;129;01min\u001b[39;00m arrays]\n\u001b[1;32m--> 503\u001b[0m \u001b[38;5;28;01mreturn\u001b[39;00m arrays_to_mgr(arrays, columns, index, dtype\u001b[38;5;241m=\u001b[39mdtype, typ\u001b[38;5;241m=\u001b[39mtyp, consolidate\u001b[38;5;241m=\u001b[39mcopy)\n",
      "File \u001b[1;32m~\\AppData\\Local\\anaconda3\\Lib\\site-packages\\pandas\\core\\internals\\construction.py:114\u001b[0m, in \u001b[0;36marrays_to_mgr\u001b[1;34m(arrays, columns, index, dtype, verify_integrity, typ, consolidate)\u001b[0m\n\u001b[0;32m    111\u001b[0m \u001b[38;5;28;01mif\u001b[39;00m verify_integrity:\n\u001b[0;32m    112\u001b[0m     \u001b[38;5;66;03m# figure out the index, if necessary\u001b[39;00m\n\u001b[0;32m    113\u001b[0m     \u001b[38;5;28;01mif\u001b[39;00m index \u001b[38;5;129;01mis\u001b[39;00m \u001b[38;5;28;01mNone\u001b[39;00m:\n\u001b[1;32m--> 114\u001b[0m         index \u001b[38;5;241m=\u001b[39m _extract_index(arrays)\n\u001b[0;32m    115\u001b[0m     \u001b[38;5;28;01melse\u001b[39;00m:\n\u001b[0;32m    116\u001b[0m         index \u001b[38;5;241m=\u001b[39m ensure_index(index)\n",
      "File \u001b[1;32m~\\AppData\\Local\\anaconda3\\Lib\\site-packages\\pandas\\core\\internals\\construction.py:667\u001b[0m, in \u001b[0;36m_extract_index\u001b[1;34m(data)\u001b[0m\n\u001b[0;32m    664\u001b[0m         \u001b[38;5;28;01mraise\u001b[39;00m \u001b[38;5;167;01mValueError\u001b[39;00m(\u001b[38;5;124m\"\u001b[39m\u001b[38;5;124mPer-column arrays must each be 1-dimensional\u001b[39m\u001b[38;5;124m\"\u001b[39m)\n\u001b[0;32m    666\u001b[0m \u001b[38;5;28;01mif\u001b[39;00m \u001b[38;5;129;01mnot\u001b[39;00m indexes \u001b[38;5;129;01mand\u001b[39;00m \u001b[38;5;129;01mnot\u001b[39;00m raw_lengths:\n\u001b[1;32m--> 667\u001b[0m     \u001b[38;5;28;01mraise\u001b[39;00m \u001b[38;5;167;01mValueError\u001b[39;00m(\u001b[38;5;124m\"\u001b[39m\u001b[38;5;124mIf using all scalar values, you must pass an index\u001b[39m\u001b[38;5;124m\"\u001b[39m)\n\u001b[0;32m    669\u001b[0m \u001b[38;5;28;01mif\u001b[39;00m have_series:\n\u001b[0;32m    670\u001b[0m     index \u001b[38;5;241m=\u001b[39m union_indexes(indexes)\n",
      "\u001b[1;31mValueError\u001b[0m: If using all scalar values, you must pass an index"
     ]
    }
   ],
   "source": [
    "df2 = pd.DataFrame({\n",
    "    \"A\":1.0,\n",
    "})"
   ]
  },
  {
   "cell_type": "code",
   "execution_count": 11,
   "id": "e6a087a7-a42c-4168-addb-6c284d14a716",
   "metadata": {},
   "outputs": [
    {
     "ename": "AttributeError",
     "evalue": "module 'pandas' has no attribute 'TimeStamp'",
     "output_type": "error",
     "traceback": [
      "\u001b[1;31m---------------------------------------------------------------------------\u001b[0m",
      "\u001b[1;31mAttributeError\u001b[0m                            Traceback (most recent call last)",
      "Cell \u001b[1;32mIn[11], line 3\u001b[0m\n\u001b[0;32m      1\u001b[0m df2 \u001b[38;5;241m=\u001b[39m pd\u001b[38;5;241m.\u001b[39mDataFrame({\n\u001b[0;32m      2\u001b[0m     \u001b[38;5;124m\"\u001b[39m\u001b[38;5;124mA\u001b[39m\u001b[38;5;124m\"\u001b[39m:\u001b[38;5;241m1.0\u001b[39m,\n\u001b[1;32m----> 3\u001b[0m     \u001b[38;5;124m\"\u001b[39m\u001b[38;5;124mB\u001b[39m\u001b[38;5;124m\"\u001b[39m:pd\u001b[38;5;241m.\u001b[39mTimeStamp(\u001b[38;5;124m\"\u001b[39m\u001b[38;5;124m20240822\u001b[39m\u001b[38;5;124m\"\u001b[39m),\n\u001b[0;32m      4\u001b[0m })\n",
      "\u001b[1;31mAttributeError\u001b[0m: module 'pandas' has no attribute 'TimeStamp'"
     ]
    }
   ],
   "source": [
    "df2 = pd.DataFrame({\n",
    "    \"A\":1.0,\n",
    "    \"B\":pd.TimeStamp(\"20240822\"),\n",
    "})"
   ]
  },
  {
   "cell_type": "code",
   "execution_count": 12,
   "id": "9fadb7b9-fc99-4a92-ade0-ec8cdfbe461d",
   "metadata": {},
   "outputs": [
    {
     "ename": "SyntaxError",
     "evalue": "closing parenthesis '}' does not match opening parenthesis '(' on line 4 (3630114223.py, line 7)",
     "output_type": "error",
     "traceback": [
      "\u001b[1;36m  Cell \u001b[1;32mIn[12], line 7\u001b[1;36m\u001b[0m\n\u001b[1;33m    })\u001b[0m\n\u001b[1;37m    ^\u001b[0m\n\u001b[1;31mSyntaxError\u001b[0m\u001b[1;31m:\u001b[0m closing parenthesis '}' does not match opening parenthesis '(' on line 4\n"
     ]
    }
   ],
   "source": [
    "df2 = pd.DataFrame({\n",
    "    \"A\":1.0,\n",
    "    \"B\":pd.Timestamp(\"20240822\"),\n",
    "    \"C\":pd.Series(1,index=list(range(4),dtype=\"float32\"),\n",
    "    \"D\":np.array([3]*4, dtype=\"int32\"),\n",
    "    \"F\":\"Foo\"\n",
    "})"
   ]
  },
  {
   "cell_type": "code",
   "execution_count": 13,
   "id": "72f6ac6b-8a4e-4885-84a4-a362c14b7021",
   "metadata": {},
   "outputs": [],
   "source": [
    "df2 = pd.DataFrame({\n",
    "    \"A\":1.0,\n",
    "    \"B\":pd.Timestamp(\"20240822\"),\n",
    "    \"C\":pd.Series(1,index=list(range(4)),dtype=\"float32\"),\n",
    "    \"D\":np.array([3]*4, dtype=\"int32\"),\n",
    "    \"F\":\"Foo\"\n",
    "})"
   ]
  },
  {
   "cell_type": "code",
   "execution_count": 27,
   "id": "cbf21b68-1833-47ca-942c-46f04937b4bb",
   "metadata": {},
   "outputs": [
    {
     "data": {
      "text/html": [
       "<div>\n",
       "<style scoped>\n",
       "    .dataframe tbody tr th:only-of-type {\n",
       "        vertical-align: middle;\n",
       "    }\n",
       "\n",
       "    .dataframe tbody tr th {\n",
       "        vertical-align: top;\n",
       "    }\n",
       "\n",
       "    .dataframe thead th {\n",
       "        text-align: right;\n",
       "    }\n",
       "</style>\n",
       "<table border=\"1\" class=\"dataframe\">\n",
       "  <thead>\n",
       "    <tr style=\"text-align: right;\">\n",
       "      <th></th>\n",
       "      <th>A</th>\n",
       "      <th>B</th>\n",
       "      <th>C</th>\n",
       "      <th>D</th>\n",
       "      <th>F</th>\n",
       "    </tr>\n",
       "  </thead>\n",
       "  <tbody>\n",
       "    <tr>\n",
       "      <th>0</th>\n",
       "      <td>1.0</td>\n",
       "      <td>2024-08-22</td>\n",
       "      <td>1.0</td>\n",
       "      <td>3</td>\n",
       "      <td>Foo</td>\n",
       "    </tr>\n",
       "    <tr>\n",
       "      <th>1</th>\n",
       "      <td>1.0</td>\n",
       "      <td>2024-08-22</td>\n",
       "      <td>1.0</td>\n",
       "      <td>3</td>\n",
       "      <td>Foo</td>\n",
       "    </tr>\n",
       "    <tr>\n",
       "      <th>2</th>\n",
       "      <td>1.0</td>\n",
       "      <td>2024-08-22</td>\n",
       "      <td>1.0</td>\n",
       "      <td>3</td>\n",
       "      <td>Foo</td>\n",
       "    </tr>\n",
       "    <tr>\n",
       "      <th>3</th>\n",
       "      <td>1.0</td>\n",
       "      <td>2024-08-22</td>\n",
       "      <td>1.0</td>\n",
       "      <td>3</td>\n",
       "      <td>Foo</td>\n",
       "    </tr>\n",
       "  </tbody>\n",
       "</table>\n",
       "</div>"
      ],
      "text/plain": [
       "     A          B    C  D    F\n",
       "0  1.0 2024-08-22  1.0  3  Foo\n",
       "1  1.0 2024-08-22  1.0  3  Foo\n",
       "2  1.0 2024-08-22  1.0  3  Foo\n",
       "3  1.0 2024-08-22  1.0  3  Foo"
      ]
     },
     "execution_count": 27,
     "metadata": {},
     "output_type": "execute_result"
    }
   ],
   "source": [
    "df2"
   ]
  },
  {
   "cell_type": "code",
   "execution_count": 14,
   "id": "f94f7301-2361-4aa6-919b-844a7b4d00ab",
   "metadata": {},
   "outputs": [
    {
     "data": {
      "text/plain": [
       "A          float64\n",
       "B    datetime64[s]\n",
       "C          float32\n",
       "D            int32\n",
       "F           object\n",
       "dtype: object"
      ]
     },
     "execution_count": 14,
     "metadata": {},
     "output_type": "execute_result"
    }
   ],
   "source": [
    "df2.dtypes"
   ]
  },
  {
   "cell_type": "markdown",
   "id": "742ef357-6c69-47c8-b8e1-b7aa74c47631",
   "metadata": {},
   "source": [
    "# Viewing data"
   ]
  },
  {
   "cell_type": "markdown",
   "id": "7b96cc19-6cc7-4f7e-8f09-bdb125c13e1f",
   "metadata": {},
   "source": [
    "# Use DataFrame.head()  to view the top rows of frame"
   ]
  },
  {
   "cell_type": "code",
   "execution_count": 15,
   "id": "b5f187b3-535b-4325-a306-71eb563fa7aa",
   "metadata": {},
   "outputs": [
    {
     "data": {
      "text/plain": [
       "<bound method NDFrame.head of                    A         B         C         D\n",
       "2024-08-24  1.841859 -2.095025 -1.599813  0.290403\n",
       "2024-08-25 -0.901205 -0.059963  0.951438 -1.657837\n",
       "2024-08-26 -0.604463  2.526805  1.006789  0.980797\n",
       "2024-08-27  0.891978 -0.717233 -0.890150  1.381870\n",
       "2024-08-28  0.491197  1.038402 -1.111967 -0.764854\n",
       "2024-08-29  0.000603 -1.184322  1.700566  0.300647\n",
       "2024-08-30  0.493169 -0.295767 -1.592250  0.124464\n",
       "2024-08-31  1.065619  1.143730  1.789567  1.522113>"
      ]
     },
     "execution_count": 15,
     "metadata": {},
     "output_type": "execute_result"
    }
   ],
   "source": [
    "df.head"
   ]
  },
  {
   "cell_type": "code",
   "execution_count": 16,
   "id": "183e7705-cd48-457e-890f-e931ded958ef",
   "metadata": {},
   "outputs": [
    {
     "data": {
      "text/html": [
       "<div>\n",
       "<style scoped>\n",
       "    .dataframe tbody tr th:only-of-type {\n",
       "        vertical-align: middle;\n",
       "    }\n",
       "\n",
       "    .dataframe tbody tr th {\n",
       "        vertical-align: top;\n",
       "    }\n",
       "\n",
       "    .dataframe thead th {\n",
       "        text-align: right;\n",
       "    }\n",
       "</style>\n",
       "<table border=\"1\" class=\"dataframe\">\n",
       "  <thead>\n",
       "    <tr style=\"text-align: right;\">\n",
       "      <th></th>\n",
       "      <th>A</th>\n",
       "      <th>B</th>\n",
       "      <th>C</th>\n",
       "      <th>D</th>\n",
       "    </tr>\n",
       "  </thead>\n",
       "  <tbody>\n",
       "    <tr>\n",
       "      <th>2024-08-24</th>\n",
       "      <td>1.841859</td>\n",
       "      <td>-2.095025</td>\n",
       "      <td>-1.599813</td>\n",
       "      <td>0.290403</td>\n",
       "    </tr>\n",
       "    <tr>\n",
       "      <th>2024-08-25</th>\n",
       "      <td>-0.901205</td>\n",
       "      <td>-0.059963</td>\n",
       "      <td>0.951438</td>\n",
       "      <td>-1.657837</td>\n",
       "    </tr>\n",
       "    <tr>\n",
       "      <th>2024-08-26</th>\n",
       "      <td>-0.604463</td>\n",
       "      <td>2.526805</td>\n",
       "      <td>1.006789</td>\n",
       "      <td>0.980797</td>\n",
       "    </tr>\n",
       "  </tbody>\n",
       "</table>\n",
       "</div>"
      ],
      "text/plain": [
       "                   A         B         C         D\n",
       "2024-08-24  1.841859 -2.095025 -1.599813  0.290403\n",
       "2024-08-25 -0.901205 -0.059963  0.951438 -1.657837\n",
       "2024-08-26 -0.604463  2.526805  1.006789  0.980797"
      ]
     },
     "execution_count": 16,
     "metadata": {},
     "output_type": "execute_result"
    }
   ],
   "source": [
    "df.head(3)"
   ]
  },
  {
   "cell_type": "markdown",
   "id": "58126b30-47b5-4fed-92fe-50a2923ecb1c",
   "metadata": {},
   "source": [
    "# Use  DataFrame.tail() to view the botoom rows of frame"
   ]
  },
  {
   "cell_type": "code",
   "execution_count": 17,
   "id": "9f9d9cb5-0613-47ff-be15-17f61fc69025",
   "metadata": {},
   "outputs": [
    {
     "data": {
      "text/plain": [
       "<bound method NDFrame.tail of                    A         B         C         D\n",
       "2024-08-24  1.841859 -2.095025 -1.599813  0.290403\n",
       "2024-08-25 -0.901205 -0.059963  0.951438 -1.657837\n",
       "2024-08-26 -0.604463  2.526805  1.006789  0.980797\n",
       "2024-08-27  0.891978 -0.717233 -0.890150  1.381870\n",
       "2024-08-28  0.491197  1.038402 -1.111967 -0.764854\n",
       "2024-08-29  0.000603 -1.184322  1.700566  0.300647\n",
       "2024-08-30  0.493169 -0.295767 -1.592250  0.124464\n",
       "2024-08-31  1.065619  1.143730  1.789567  1.522113>"
      ]
     },
     "execution_count": 17,
     "metadata": {},
     "output_type": "execute_result"
    }
   ],
   "source": [
    "df.tail"
   ]
  },
  {
   "cell_type": "code",
   "execution_count": 18,
   "id": "85ccff62-1832-4311-999e-4b25e6e7a86e",
   "metadata": {},
   "outputs": [
    {
     "data": {
      "text/html": [
       "<div>\n",
       "<style scoped>\n",
       "    .dataframe tbody tr th:only-of-type {\n",
       "        vertical-align: middle;\n",
       "    }\n",
       "\n",
       "    .dataframe tbody tr th {\n",
       "        vertical-align: top;\n",
       "    }\n",
       "\n",
       "    .dataframe thead th {\n",
       "        text-align: right;\n",
       "    }\n",
       "</style>\n",
       "<table border=\"1\" class=\"dataframe\">\n",
       "  <thead>\n",
       "    <tr style=\"text-align: right;\">\n",
       "      <th></th>\n",
       "      <th>A</th>\n",
       "      <th>B</th>\n",
       "      <th>C</th>\n",
       "      <th>D</th>\n",
       "    </tr>\n",
       "  </thead>\n",
       "  <tbody>\n",
       "    <tr>\n",
       "      <th>2024-08-28</th>\n",
       "      <td>0.491197</td>\n",
       "      <td>1.038402</td>\n",
       "      <td>-1.111967</td>\n",
       "      <td>-0.764854</td>\n",
       "    </tr>\n",
       "    <tr>\n",
       "      <th>2024-08-29</th>\n",
       "      <td>0.000603</td>\n",
       "      <td>-1.184322</td>\n",
       "      <td>1.700566</td>\n",
       "      <td>0.300647</td>\n",
       "    </tr>\n",
       "    <tr>\n",
       "      <th>2024-08-30</th>\n",
       "      <td>0.493169</td>\n",
       "      <td>-0.295767</td>\n",
       "      <td>-1.592250</td>\n",
       "      <td>0.124464</td>\n",
       "    </tr>\n",
       "    <tr>\n",
       "      <th>2024-08-31</th>\n",
       "      <td>1.065619</td>\n",
       "      <td>1.143730</td>\n",
       "      <td>1.789567</td>\n",
       "      <td>1.522113</td>\n",
       "    </tr>\n",
       "  </tbody>\n",
       "</table>\n",
       "</div>"
      ],
      "text/plain": [
       "                   A         B         C         D\n",
       "2024-08-28  0.491197  1.038402 -1.111967 -0.764854\n",
       "2024-08-29  0.000603 -1.184322  1.700566  0.300647\n",
       "2024-08-30  0.493169 -0.295767 -1.592250  0.124464\n",
       "2024-08-31  1.065619  1.143730  1.789567  1.522113"
      ]
     },
     "execution_count": 18,
     "metadata": {},
     "output_type": "execute_result"
    }
   ],
   "source": [
    "df.tail(4)"
   ]
  },
  {
   "cell_type": "markdown",
   "id": "7025984b-006c-48de-822c-2493f1a75212",
   "metadata": {},
   "source": [
    "# To Display the DataFrame.index"
   ]
  },
  {
   "cell_type": "code",
   "execution_count": 19,
   "id": "9743c93a-1e1a-4b15-becb-a319be23efd3",
   "metadata": {},
   "outputs": [
    {
     "data": {
      "text/plain": [
       "DatetimeIndex(['2024-08-24', '2024-08-25', '2024-08-26', '2024-08-27',\n",
       "               '2024-08-28', '2024-08-29', '2024-08-30', '2024-08-31'],\n",
       "              dtype='datetime64[ns]', freq='D')"
      ]
     },
     "execution_count": 19,
     "metadata": {},
     "output_type": "execute_result"
    }
   ],
   "source": [
    "df.index"
   ]
  },
  {
   "cell_type": "markdown",
   "id": "a7c31ea2-4833-4114-b753-dea57b539ef4",
   "metadata": {},
   "source": [
    "# To Display the DataFrame.columns"
   ]
  },
  {
   "cell_type": "code",
   "execution_count": 20,
   "id": "716353ce-b5c1-4a35-a49e-00a7c218acb3",
   "metadata": {},
   "outputs": [
    {
     "data": {
      "text/plain": [
       "Index(['A', 'B', 'C', 'D'], dtype='object')"
      ]
     },
     "execution_count": 20,
     "metadata": {},
     "output_type": "execute_result"
    }
   ],
   "source": [
    "df.columns"
   ]
  },
  {
   "cell_type": "markdown",
   "id": "39bde0dd-051f-462d-88bc-e668e5106e65",
   "metadata": {},
   "source": [
    "# Return a NumPy representation of the underlying data with DataFrame.to_numpy() without the index or column labels:\r",
    "()"
   ]
  },
  {
   "cell_type": "code",
   "execution_count": 21,
   "id": "ac01980d-d060-4699-9375-d288fe6827c1",
   "metadata": {},
   "outputs": [
    {
     "data": {
      "text/plain": [
       "array([[ 1.84185914e+00, -2.09502529e+00, -1.59981304e+00,\n",
       "         2.90402605e-01],\n",
       "       [-9.01204556e-01, -5.99627709e-02,  9.51437542e-01,\n",
       "        -1.65783709e+00],\n",
       "       [-6.04462763e-01,  2.52680546e+00,  1.00678947e+00,\n",
       "         9.80796891e-01],\n",
       "       [ 8.91978268e-01, -7.17233296e-01, -8.90149790e-01,\n",
       "         1.38186984e+00],\n",
       "       [ 4.91197023e-01,  1.03840194e+00, -1.11196719e+00,\n",
       "        -7.64854015e-01],\n",
       "       [ 6.02959145e-04, -1.18432217e+00,  1.70056618e+00,\n",
       "         3.00646986e-01],\n",
       "       [ 4.93169207e-01, -2.95767104e-01, -1.59224968e+00,\n",
       "         1.24464489e-01],\n",
       "       [ 1.06561925e+00,  1.14372986e+00,  1.78956742e+00,\n",
       "         1.52211315e+00]])"
      ]
     },
     "execution_count": 21,
     "metadata": {},
     "output_type": "execute_result"
    }
   ],
   "source": [
    "df.to_numpy()"
   ]
  },
  {
   "cell_type": "markdown",
   "id": "7b71775e-74ad-4fe1-850b-0721e67edb59",
   "metadata": {},
   "source": [
    "# NumPy arrays have one dtype for the entire array while pandas DataFrames have one dtype per column\n",
    " When you call DataFrame.to_numpy(), pandas will find the NumPy dtype that can hold all of the dtypes in the DataFrame. If the common data type is object, DataFrame.to_numpy() will require copying data.\n"
   ]
  },
  {
   "cell_type": "code",
   "execution_count": 22,
   "id": "b586fe26-0c8f-45de-9483-4282a454554b",
   "metadata": {},
   "outputs": [
    {
     "data": {
      "text/plain": [
       "A          float64\n",
       "B    datetime64[s]\n",
       "C          float32\n",
       "D            int32\n",
       "F           object\n",
       "dtype: object"
      ]
     },
     "execution_count": 22,
     "metadata": {},
     "output_type": "execute_result"
    }
   ],
   "source": [
    "df2.dtypes"
   ]
  },
  {
   "cell_type": "markdown",
   "id": "8f4d18fa-8d82-4eeb-bf3c-223f5618184e",
   "metadata": {},
   "source": [
    "# describe() shows a quick statistic summary of your data"
   ]
  },
  {
   "cell_type": "code",
   "execution_count": 23,
   "id": "b39da49e-8edf-4d05-8ad5-49ac2055f4fc",
   "metadata": {},
   "outputs": [
    {
     "data": {
      "text/html": [
       "<div>\n",
       "<style scoped>\n",
       "    .dataframe tbody tr th:only-of-type {\n",
       "        vertical-align: middle;\n",
       "    }\n",
       "\n",
       "    .dataframe tbody tr th {\n",
       "        vertical-align: top;\n",
       "    }\n",
       "\n",
       "    .dataframe thead th {\n",
       "        text-align: right;\n",
       "    }\n",
       "</style>\n",
       "<table border=\"1\" class=\"dataframe\">\n",
       "  <thead>\n",
       "    <tr style=\"text-align: right;\">\n",
       "      <th></th>\n",
       "      <th>A</th>\n",
       "      <th>B</th>\n",
       "      <th>C</th>\n",
       "      <th>D</th>\n",
       "    </tr>\n",
       "  </thead>\n",
       "  <tbody>\n",
       "    <tr>\n",
       "      <th>count</th>\n",
       "      <td>8.000000</td>\n",
       "      <td>8.000000</td>\n",
       "      <td>8.000000</td>\n",
       "      <td>8.000000</td>\n",
       "    </tr>\n",
       "    <tr>\n",
       "      <th>mean</th>\n",
       "      <td>0.409845</td>\n",
       "      <td>0.044578</td>\n",
       "      <td>0.031773</td>\n",
       "      <td>0.272200</td>\n",
       "    </tr>\n",
       "    <tr>\n",
       "      <th>std</th>\n",
       "      <td>0.897765</td>\n",
       "      <td>1.471272</td>\n",
       "      <td>1.470119</td>\n",
       "      <td>1.076983</td>\n",
       "    </tr>\n",
       "    <tr>\n",
       "      <th>min</th>\n",
       "      <td>-0.901205</td>\n",
       "      <td>-2.095025</td>\n",
       "      <td>-1.599813</td>\n",
       "      <td>-1.657837</td>\n",
       "    </tr>\n",
       "    <tr>\n",
       "      <th>25%</th>\n",
       "      <td>-0.150663</td>\n",
       "      <td>-0.834006</td>\n",
       "      <td>-1.232038</td>\n",
       "      <td>-0.097865</td>\n",
       "    </tr>\n",
       "    <tr>\n",
       "      <th>50%</th>\n",
       "      <td>0.492183</td>\n",
       "      <td>-0.177865</td>\n",
       "      <td>0.030644</td>\n",
       "      <td>0.295525</td>\n",
       "    </tr>\n",
       "    <tr>\n",
       "      <th>75%</th>\n",
       "      <td>0.935389</td>\n",
       "      <td>1.064734</td>\n",
       "      <td>1.180234</td>\n",
       "      <td>1.081065</td>\n",
       "    </tr>\n",
       "    <tr>\n",
       "      <th>max</th>\n",
       "      <td>1.841859</td>\n",
       "      <td>2.526805</td>\n",
       "      <td>1.789567</td>\n",
       "      <td>1.522113</td>\n",
       "    </tr>\n",
       "  </tbody>\n",
       "</table>\n",
       "</div>"
      ],
      "text/plain": [
       "              A         B         C         D\n",
       "count  8.000000  8.000000  8.000000  8.000000\n",
       "mean   0.409845  0.044578  0.031773  0.272200\n",
       "std    0.897765  1.471272  1.470119  1.076983\n",
       "min   -0.901205 -2.095025 -1.599813 -1.657837\n",
       "25%   -0.150663 -0.834006 -1.232038 -0.097865\n",
       "50%    0.492183 -0.177865  0.030644  0.295525\n",
       "75%    0.935389  1.064734  1.180234  1.081065\n",
       "max    1.841859  2.526805  1.789567  1.522113"
      ]
     },
     "execution_count": 23,
     "metadata": {},
     "output_type": "execute_result"
    }
   ],
   "source": [
    "df.describe()"
   ]
  },
  {
   "cell_type": "markdown",
   "id": "55f62789-55af-44c3-8b89-80610cdfc20f",
   "metadata": {},
   "source": [
    "# Transposing your data:"
   ]
  },
  {
   "cell_type": "code",
   "execution_count": 24,
   "id": "4d012687-9f9d-425d-a5ba-fe25f34d85e6",
   "metadata": {},
   "outputs": [
    {
     "data": {
      "text/html": [
       "<div>\n",
       "<style scoped>\n",
       "    .dataframe tbody tr th:only-of-type {\n",
       "        vertical-align: middle;\n",
       "    }\n",
       "\n",
       "    .dataframe tbody tr th {\n",
       "        vertical-align: top;\n",
       "    }\n",
       "\n",
       "    .dataframe thead th {\n",
       "        text-align: right;\n",
       "    }\n",
       "</style>\n",
       "<table border=\"1\" class=\"dataframe\">\n",
       "  <thead>\n",
       "    <tr style=\"text-align: right;\">\n",
       "      <th></th>\n",
       "      <th>2024-08-24</th>\n",
       "      <th>2024-08-25</th>\n",
       "      <th>2024-08-26</th>\n",
       "      <th>2024-08-27</th>\n",
       "      <th>2024-08-28</th>\n",
       "      <th>2024-08-29</th>\n",
       "      <th>2024-08-30</th>\n",
       "      <th>2024-08-31</th>\n",
       "    </tr>\n",
       "  </thead>\n",
       "  <tbody>\n",
       "    <tr>\n",
       "      <th>A</th>\n",
       "      <td>1.841859</td>\n",
       "      <td>-0.901205</td>\n",
       "      <td>-0.604463</td>\n",
       "      <td>0.891978</td>\n",
       "      <td>0.491197</td>\n",
       "      <td>0.000603</td>\n",
       "      <td>0.493169</td>\n",
       "      <td>1.065619</td>\n",
       "    </tr>\n",
       "    <tr>\n",
       "      <th>B</th>\n",
       "      <td>-2.095025</td>\n",
       "      <td>-0.059963</td>\n",
       "      <td>2.526805</td>\n",
       "      <td>-0.717233</td>\n",
       "      <td>1.038402</td>\n",
       "      <td>-1.184322</td>\n",
       "      <td>-0.295767</td>\n",
       "      <td>1.143730</td>\n",
       "    </tr>\n",
       "    <tr>\n",
       "      <th>C</th>\n",
       "      <td>-1.599813</td>\n",
       "      <td>0.951438</td>\n",
       "      <td>1.006789</td>\n",
       "      <td>-0.890150</td>\n",
       "      <td>-1.111967</td>\n",
       "      <td>1.700566</td>\n",
       "      <td>-1.592250</td>\n",
       "      <td>1.789567</td>\n",
       "    </tr>\n",
       "    <tr>\n",
       "      <th>D</th>\n",
       "      <td>0.290403</td>\n",
       "      <td>-1.657837</td>\n",
       "      <td>0.980797</td>\n",
       "      <td>1.381870</td>\n",
       "      <td>-0.764854</td>\n",
       "      <td>0.300647</td>\n",
       "      <td>0.124464</td>\n",
       "      <td>1.522113</td>\n",
       "    </tr>\n",
       "  </tbody>\n",
       "</table>\n",
       "</div>"
      ],
      "text/plain": [
       "   2024-08-24  2024-08-25  2024-08-26  2024-08-27  2024-08-28  2024-08-29  \\\n",
       "A    1.841859   -0.901205   -0.604463    0.891978    0.491197    0.000603   \n",
       "B   -2.095025   -0.059963    2.526805   -0.717233    1.038402   -1.184322   \n",
       "C   -1.599813    0.951438    1.006789   -0.890150   -1.111967    1.700566   \n",
       "D    0.290403   -1.657837    0.980797    1.381870   -0.764854    0.300647   \n",
       "\n",
       "   2024-08-30  2024-08-31  \n",
       "A    0.493169    1.065619  \n",
       "B   -0.295767    1.143730  \n",
       "C   -1.592250    1.789567  \n",
       "D    0.124464    1.522113  "
      ]
     },
     "execution_count": 24,
     "metadata": {},
     "output_type": "execute_result"
    }
   ],
   "source": [
    "df.T"
   ]
  },
  {
   "cell_type": "markdown",
   "id": "f1f0881a-e9ec-478e-bdcb-838976ba7f12",
   "metadata": {},
   "source": [
    "# DataFrame.sort_index() sorts by an axis:"
   ]
  },
  {
   "cell_type": "code",
   "execution_count": 25,
   "id": "ca611ec8-c160-4220-8081-1b14c53f7869",
   "metadata": {},
   "outputs": [
    {
     "data": {
      "text/html": [
       "<div>\n",
       "<style scoped>\n",
       "    .dataframe tbody tr th:only-of-type {\n",
       "        vertical-align: middle;\n",
       "    }\n",
       "\n",
       "    .dataframe tbody tr th {\n",
       "        vertical-align: top;\n",
       "    }\n",
       "\n",
       "    .dataframe thead th {\n",
       "        text-align: right;\n",
       "    }\n",
       "</style>\n",
       "<table border=\"1\" class=\"dataframe\">\n",
       "  <thead>\n",
       "    <tr style=\"text-align: right;\">\n",
       "      <th></th>\n",
       "      <th>D</th>\n",
       "      <th>C</th>\n",
       "      <th>B</th>\n",
       "      <th>A</th>\n",
       "    </tr>\n",
       "  </thead>\n",
       "  <tbody>\n",
       "    <tr>\n",
       "      <th>2024-08-24</th>\n",
       "      <td>0.290403</td>\n",
       "      <td>-1.599813</td>\n",
       "      <td>-2.095025</td>\n",
       "      <td>1.841859</td>\n",
       "    </tr>\n",
       "    <tr>\n",
       "      <th>2024-08-25</th>\n",
       "      <td>-1.657837</td>\n",
       "      <td>0.951438</td>\n",
       "      <td>-0.059963</td>\n",
       "      <td>-0.901205</td>\n",
       "    </tr>\n",
       "    <tr>\n",
       "      <th>2024-08-26</th>\n",
       "      <td>0.980797</td>\n",
       "      <td>1.006789</td>\n",
       "      <td>2.526805</td>\n",
       "      <td>-0.604463</td>\n",
       "    </tr>\n",
       "    <tr>\n",
       "      <th>2024-08-27</th>\n",
       "      <td>1.381870</td>\n",
       "      <td>-0.890150</td>\n",
       "      <td>-0.717233</td>\n",
       "      <td>0.891978</td>\n",
       "    </tr>\n",
       "    <tr>\n",
       "      <th>2024-08-28</th>\n",
       "      <td>-0.764854</td>\n",
       "      <td>-1.111967</td>\n",
       "      <td>1.038402</td>\n",
       "      <td>0.491197</td>\n",
       "    </tr>\n",
       "    <tr>\n",
       "      <th>2024-08-29</th>\n",
       "      <td>0.300647</td>\n",
       "      <td>1.700566</td>\n",
       "      <td>-1.184322</td>\n",
       "      <td>0.000603</td>\n",
       "    </tr>\n",
       "    <tr>\n",
       "      <th>2024-08-30</th>\n",
       "      <td>0.124464</td>\n",
       "      <td>-1.592250</td>\n",
       "      <td>-0.295767</td>\n",
       "      <td>0.493169</td>\n",
       "    </tr>\n",
       "    <tr>\n",
       "      <th>2024-08-31</th>\n",
       "      <td>1.522113</td>\n",
       "      <td>1.789567</td>\n",
       "      <td>1.143730</td>\n",
       "      <td>1.065619</td>\n",
       "    </tr>\n",
       "  </tbody>\n",
       "</table>\n",
       "</div>"
      ],
      "text/plain": [
       "                   D         C         B         A\n",
       "2024-08-24  0.290403 -1.599813 -2.095025  1.841859\n",
       "2024-08-25 -1.657837  0.951438 -0.059963 -0.901205\n",
       "2024-08-26  0.980797  1.006789  2.526805 -0.604463\n",
       "2024-08-27  1.381870 -0.890150 -0.717233  0.891978\n",
       "2024-08-28 -0.764854 -1.111967  1.038402  0.491197\n",
       "2024-08-29  0.300647  1.700566 -1.184322  0.000603\n",
       "2024-08-30  0.124464 -1.592250 -0.295767  0.493169\n",
       "2024-08-31  1.522113  1.789567  1.143730  1.065619"
      ]
     },
     "execution_count": 25,
     "metadata": {},
     "output_type": "execute_result"
    }
   ],
   "source": [
    "df.sort_index(axis=1, ascending=False)"
   ]
  },
  {
   "cell_type": "markdown",
   "id": "0a1bb5fd-c446-4e65-921e-d57fe76e2f47",
   "metadata": {},
   "source": [
    "# Dataframe.sort_values() sorts by values:"
   ]
  },
  {
   "cell_type": "code",
   "execution_count": 26,
   "id": "8be6cff4-b62d-4672-916e-d8474c8b504f",
   "metadata": {},
   "outputs": [
    {
     "data": {
      "text/html": [
       "<div>\n",
       "<style scoped>\n",
       "    .dataframe tbody tr th:only-of-type {\n",
       "        vertical-align: middle;\n",
       "    }\n",
       "\n",
       "    .dataframe tbody tr th {\n",
       "        vertical-align: top;\n",
       "    }\n",
       "\n",
       "    .dataframe thead th {\n",
       "        text-align: right;\n",
       "    }\n",
       "</style>\n",
       "<table border=\"1\" class=\"dataframe\">\n",
       "  <thead>\n",
       "    <tr style=\"text-align: right;\">\n",
       "      <th></th>\n",
       "      <th>A</th>\n",
       "      <th>B</th>\n",
       "      <th>C</th>\n",
       "      <th>D</th>\n",
       "    </tr>\n",
       "  </thead>\n",
       "  <tbody>\n",
       "    <tr>\n",
       "      <th>2024-08-24</th>\n",
       "      <td>1.841859</td>\n",
       "      <td>-2.095025</td>\n",
       "      <td>-1.599813</td>\n",
       "      <td>0.290403</td>\n",
       "    </tr>\n",
       "    <tr>\n",
       "      <th>2024-08-29</th>\n",
       "      <td>0.000603</td>\n",
       "      <td>-1.184322</td>\n",
       "      <td>1.700566</td>\n",
       "      <td>0.300647</td>\n",
       "    </tr>\n",
       "    <tr>\n",
       "      <th>2024-08-27</th>\n",
       "      <td>0.891978</td>\n",
       "      <td>-0.717233</td>\n",
       "      <td>-0.890150</td>\n",
       "      <td>1.381870</td>\n",
       "    </tr>\n",
       "    <tr>\n",
       "      <th>2024-08-30</th>\n",
       "      <td>0.493169</td>\n",
       "      <td>-0.295767</td>\n",
       "      <td>-1.592250</td>\n",
       "      <td>0.124464</td>\n",
       "    </tr>\n",
       "    <tr>\n",
       "      <th>2024-08-25</th>\n",
       "      <td>-0.901205</td>\n",
       "      <td>-0.059963</td>\n",
       "      <td>0.951438</td>\n",
       "      <td>-1.657837</td>\n",
       "    </tr>\n",
       "    <tr>\n",
       "      <th>2024-08-28</th>\n",
       "      <td>0.491197</td>\n",
       "      <td>1.038402</td>\n",
       "      <td>-1.111967</td>\n",
       "      <td>-0.764854</td>\n",
       "    </tr>\n",
       "    <tr>\n",
       "      <th>2024-08-31</th>\n",
       "      <td>1.065619</td>\n",
       "      <td>1.143730</td>\n",
       "      <td>1.789567</td>\n",
       "      <td>1.522113</td>\n",
       "    </tr>\n",
       "    <tr>\n",
       "      <th>2024-08-26</th>\n",
       "      <td>-0.604463</td>\n",
       "      <td>2.526805</td>\n",
       "      <td>1.006789</td>\n",
       "      <td>0.980797</td>\n",
       "    </tr>\n",
       "  </tbody>\n",
       "</table>\n",
       "</div>"
      ],
      "text/plain": [
       "                   A         B         C         D\n",
       "2024-08-24  1.841859 -2.095025 -1.599813  0.290403\n",
       "2024-08-29  0.000603 -1.184322  1.700566  0.300647\n",
       "2024-08-27  0.891978 -0.717233 -0.890150  1.381870\n",
       "2024-08-30  0.493169 -0.295767 -1.592250  0.124464\n",
       "2024-08-25 -0.901205 -0.059963  0.951438 -1.657837\n",
       "2024-08-28  0.491197  1.038402 -1.111967 -0.764854\n",
       "2024-08-31  1.065619  1.143730  1.789567  1.522113\n",
       "2024-08-26 -0.604463  2.526805  1.006789  0.980797"
      ]
     },
     "execution_count": 26,
     "metadata": {},
     "output_type": "execute_result"
    }
   ],
   "source": [
    "df.sort_values(by=\"B\")"
   ]
  },
  {
   "cell_type": "markdown",
   "id": "e3a623d6-63aa-4b32-8b5b-4aa1df9dec57",
   "metadata": {},
   "source": [
    "# Selection"
   ]
  },
  {
   "cell_type": "markdown",
   "id": "798844d0-ce3d-4c0d-8cd1-ddc2cb82ca7c",
   "metadata": {},
   "source": [
    "# Note\n",
    "     standard Python / NumPy expressions for selecting and setting are intuitive and come in handy for interactive work, for production code, we recommend the optimized pandas data access methods, DataFrame.at(), DataFrame.iat(), DataFrame.loc() and DataFrame.iloc()."
   ]
  },
  {
   "cell_type": "markdown",
   "id": "076346cc-02fa-4614-a615-322ed5283c75",
   "metadata": {},
   "source": [
    "for more use See the indexing documentation Indexing and Selecting Data and MultiIndex / Advanced Indexing."
   ]
  },
  {
   "cell_type": "markdown",
   "id": "03b3c690-0a3f-498b-9ca3-ae7cf314817f",
   "metadata": {},
   "source": [
    "# Getitem ([])"
   ]
  },
  {
   "cell_type": "markdown",
   "id": "df7207f4-e48b-430d-9cdb-1e5dd601f8df",
   "metadata": {},
   "source": [
    "For a DataFrame, passing a single label selects a columns and yields a Series equivalent to df.A:"
   ]
  },
  {
   "cell_type": "code",
   "execution_count": 27,
   "id": "89c7a871-a722-4896-b093-21ee263be6b0",
   "metadata": {},
   "outputs": [
    {
     "data": {
      "text/plain": [
       "2024-08-24    1.841859\n",
       "2024-08-25   -0.901205\n",
       "2024-08-26   -0.604463\n",
       "2024-08-27    0.891978\n",
       "2024-08-28    0.491197\n",
       "2024-08-29    0.000603\n",
       "2024-08-30    0.493169\n",
       "2024-08-31    1.065619\n",
       "Freq: D, Name: A, dtype: float64"
      ]
     },
     "execution_count": 27,
     "metadata": {},
     "output_type": "execute_result"
    }
   ],
   "source": [
    "df[\"A\"]"
   ]
  },
  {
   "cell_type": "markdown",
   "id": "935e286d-f498-4bb4-abdd-77f880abf22d",
   "metadata": {},
   "source": [
    "# For a DataFrame, passing a slice : selects matching rows:"
   ]
  },
  {
   "cell_type": "code",
   "execution_count": 28,
   "id": "17492d62-444a-442b-912b-646fd98b1db9",
   "metadata": {},
   "outputs": [
    {
     "data": {
      "text/html": [
       "<div>\n",
       "<style scoped>\n",
       "    .dataframe tbody tr th:only-of-type {\n",
       "        vertical-align: middle;\n",
       "    }\n",
       "\n",
       "    .dataframe tbody tr th {\n",
       "        vertical-align: top;\n",
       "    }\n",
       "\n",
       "    .dataframe thead th {\n",
       "        text-align: right;\n",
       "    }\n",
       "</style>\n",
       "<table border=\"1\" class=\"dataframe\">\n",
       "  <thead>\n",
       "    <tr style=\"text-align: right;\">\n",
       "      <th></th>\n",
       "      <th>A</th>\n",
       "      <th>B</th>\n",
       "      <th>C</th>\n",
       "      <th>D</th>\n",
       "    </tr>\n",
       "  </thead>\n",
       "  <tbody>\n",
       "    <tr>\n",
       "      <th>2024-08-24</th>\n",
       "      <td>1.841859</td>\n",
       "      <td>-2.095025</td>\n",
       "      <td>-1.599813</td>\n",
       "      <td>0.290403</td>\n",
       "    </tr>\n",
       "    <tr>\n",
       "      <th>2024-08-25</th>\n",
       "      <td>-0.901205</td>\n",
       "      <td>-0.059963</td>\n",
       "      <td>0.951438</td>\n",
       "      <td>-1.657837</td>\n",
       "    </tr>\n",
       "    <tr>\n",
       "      <th>2024-08-26</th>\n",
       "      <td>-0.604463</td>\n",
       "      <td>2.526805</td>\n",
       "      <td>1.006789</td>\n",
       "      <td>0.980797</td>\n",
       "    </tr>\n",
       "  </tbody>\n",
       "</table>\n",
       "</div>"
      ],
      "text/plain": [
       "                   A         B         C         D\n",
       "2024-08-24  1.841859 -2.095025 -1.599813  0.290403\n",
       "2024-08-25 -0.901205 -0.059963  0.951438 -1.657837\n",
       "2024-08-26 -0.604463  2.526805  1.006789  0.980797"
      ]
     },
     "execution_count": 28,
     "metadata": {},
     "output_type": "execute_result"
    }
   ],
   "source": [
    "df[0:3]"
   ]
  },
  {
   "cell_type": "code",
   "execution_count": 29,
   "id": "7f014f51-dd93-4864-8ab6-ca6451669eb9",
   "metadata": {},
   "outputs": [
    {
     "data": {
      "text/html": [
       "<div>\n",
       "<style scoped>\n",
       "    .dataframe tbody tr th:only-of-type {\n",
       "        vertical-align: middle;\n",
       "    }\n",
       "\n",
       "    .dataframe tbody tr th {\n",
       "        vertical-align: top;\n",
       "    }\n",
       "\n",
       "    .dataframe thead th {\n",
       "        text-align: right;\n",
       "    }\n",
       "</style>\n",
       "<table border=\"1\" class=\"dataframe\">\n",
       "  <thead>\n",
       "    <tr style=\"text-align: right;\">\n",
       "      <th></th>\n",
       "      <th>A</th>\n",
       "      <th>B</th>\n",
       "      <th>C</th>\n",
       "      <th>D</th>\n",
       "    </tr>\n",
       "  </thead>\n",
       "  <tbody>\n",
       "    <tr>\n",
       "      <th>2024-08-25</th>\n",
       "      <td>-0.901205</td>\n",
       "      <td>-0.059963</td>\n",
       "      <td>0.951438</td>\n",
       "      <td>-1.657837</td>\n",
       "    </tr>\n",
       "    <tr>\n",
       "      <th>2024-08-26</th>\n",
       "      <td>-0.604463</td>\n",
       "      <td>2.526805</td>\n",
       "      <td>1.006789</td>\n",
       "      <td>0.980797</td>\n",
       "    </tr>\n",
       "    <tr>\n",
       "      <th>2024-08-27</th>\n",
       "      <td>0.891978</td>\n",
       "      <td>-0.717233</td>\n",
       "      <td>-0.890150</td>\n",
       "      <td>1.381870</td>\n",
       "    </tr>\n",
       "    <tr>\n",
       "      <th>2024-08-28</th>\n",
       "      <td>0.491197</td>\n",
       "      <td>1.038402</td>\n",
       "      <td>-1.111967</td>\n",
       "      <td>-0.764854</td>\n",
       "    </tr>\n",
       "    <tr>\n",
       "      <th>2024-08-29</th>\n",
       "      <td>0.000603</td>\n",
       "      <td>-1.184322</td>\n",
       "      <td>1.700566</td>\n",
       "      <td>0.300647</td>\n",
       "    </tr>\n",
       "    <tr>\n",
       "      <th>2024-08-30</th>\n",
       "      <td>0.493169</td>\n",
       "      <td>-0.295767</td>\n",
       "      <td>-1.592250</td>\n",
       "      <td>0.124464</td>\n",
       "    </tr>\n",
       "    <tr>\n",
       "      <th>2024-08-31</th>\n",
       "      <td>1.065619</td>\n",
       "      <td>1.143730</td>\n",
       "      <td>1.789567</td>\n",
       "      <td>1.522113</td>\n",
       "    </tr>\n",
       "  </tbody>\n",
       "</table>\n",
       "</div>"
      ],
      "text/plain": [
       "                   A         B         C         D\n",
       "2024-08-25 -0.901205 -0.059963  0.951438 -1.657837\n",
       "2024-08-26 -0.604463  2.526805  1.006789  0.980797\n",
       "2024-08-27  0.891978 -0.717233 -0.890150  1.381870\n",
       "2024-08-28  0.491197  1.038402 -1.111967 -0.764854\n",
       "2024-08-29  0.000603 -1.184322  1.700566  0.300647\n",
       "2024-08-30  0.493169 -0.295767 -1.592250  0.124464\n",
       "2024-08-31  1.065619  1.143730  1.789567  1.522113"
      ]
     },
     "execution_count": 29,
     "metadata": {},
     "output_type": "execute_result"
    }
   ],
   "source": [
    "df[\"2024-08-25\":\"2024-08-31\"]"
   ]
  },
  {
   "cell_type": "markdown",
   "id": "07849a4f-0681-4911-bcff-0ec9a652c570",
   "metadata": {},
   "source": [
    "# Selection by label"
   ]
  },
  {
   "cell_type": "markdown",
   "id": "3451ee84-1bf9-45de-8209-f0694c9aff7a",
   "metadata": {},
   "source": [
    "See more in Selection by Label using DataFrame.loc() or DataFrame.at()."
   ]
  },
  {
   "cell_type": "markdown",
   "id": "0bf40467-3e84-4660-a631-4fffb33668c1",
   "metadata": {},
   "source": [
    "# Selecting a row matching a label"
   ]
  },
  {
   "cell_type": "code",
   "execution_count": 30,
   "id": "da30b73b-d4b9-4e8b-bd29-7dad2c358f77",
   "metadata": {},
   "outputs": [
    {
     "ename": "NameError",
     "evalue": "name 'date' is not defined",
     "output_type": "error",
     "traceback": [
      "\u001b[1;31m---------------------------------------------------------------------------\u001b[0m",
      "\u001b[1;31mNameError\u001b[0m                                 Traceback (most recent call last)",
      "Cell \u001b[1;32mIn[30], line 1\u001b[0m\n\u001b[1;32m----> 1\u001b[0m df\u001b[38;5;241m.\u001b[39mloc(date[\u001b[38;5;241m0\u001b[39m])\n",
      "\u001b[1;31mNameError\u001b[0m: name 'date' is not defined"
     ]
    }
   ],
   "source": [
    "df.loc(date[0])"
   ]
  },
  {
   "cell_type": "code",
   "execution_count": 31,
   "id": "d7c583a0-c936-4cf0-a431-4367a4b4d4b9",
   "metadata": {},
   "outputs": [
    {
     "ename": "ValueError",
     "evalue": "No axis named 2024-08-24 00:00:00 for object type DataFrame",
     "output_type": "error",
     "traceback": [
      "\u001b[1;31m---------------------------------------------------------------------------\u001b[0m",
      "\u001b[1;31mKeyError\u001b[0m                                  Traceback (most recent call last)",
      "\u001b[1;32m~\\AppData\\Local\\anaconda3\\Lib\\site-packages\\pandas\\core\\generic.py\u001b[0m in \u001b[0;36m?\u001b[1;34m(cls, axis)\u001b[0m\n\u001b[0;32m    576\u001b[0m             \u001b[1;32mreturn\u001b[0m \u001b[0mcls\u001b[0m\u001b[1;33m.\u001b[0m\u001b[0m_AXIS_TO_AXIS_NUMBER\u001b[0m\u001b[1;33m[\u001b[0m\u001b[0maxis\u001b[0m\u001b[1;33m]\u001b[0m\u001b[1;33m\u001b[0m\u001b[1;33m\u001b[0m\u001b[0m\n\u001b[0;32m    577\u001b[0m         \u001b[1;32mexcept\u001b[0m \u001b[0mKeyError\u001b[0m\u001b[1;33m:\u001b[0m\u001b[1;33m\u001b[0m\u001b[1;33m\u001b[0m\u001b[0m\n\u001b[1;32m--> 578\u001b[1;33m             \u001b[1;32mraise\u001b[0m \u001b[0mValueError\u001b[0m\u001b[1;33m(\u001b[0m\u001b[1;33mf\"\u001b[0m\u001b[1;33mNo axis named \u001b[0m\u001b[1;33m{\u001b[0m\u001b[0maxis\u001b[0m\u001b[1;33m}\u001b[0m\u001b[1;33m for object type \u001b[0m\u001b[1;33m{\u001b[0m\u001b[0mcls\u001b[0m\u001b[1;33m.\u001b[0m\u001b[0m__name__\u001b[0m\u001b[1;33m}\u001b[0m\u001b[1;33m\"\u001b[0m\u001b[1;33m)\u001b[0m\u001b[1;33m\u001b[0m\u001b[1;33m\u001b[0m\u001b[0m\n\u001b[0m",
      "\u001b[1;31mKeyError\u001b[0m: Timestamp('2024-08-24 00:00:00')",
      "\nDuring handling of the above exception, another exception occurred:\n",
      "\u001b[1;31mValueError\u001b[0m                                Traceback (most recent call last)",
      "\u001b[1;32m~\\AppData\\Local\\Temp\\ipykernel_22520\\1720747199.py\u001b[0m in \u001b[0;36m?\u001b[1;34m()\u001b[0m\n\u001b[1;32m----> 1\u001b[1;33m \u001b[0mdf\u001b[0m\u001b[1;33m.\u001b[0m\u001b[0mloc\u001b[0m\u001b[1;33m(\u001b[0m\u001b[0mdates\u001b[0m\u001b[1;33m[\u001b[0m\u001b[1;36m0\u001b[0m\u001b[1;33m]\u001b[0m\u001b[1;33m)\u001b[0m\u001b[1;33m\u001b[0m\u001b[1;33m\u001b[0m\u001b[0m\n\u001b[0m",
      "\u001b[1;32m~\\AppData\\Local\\anaconda3\\Lib\\site-packages\\pandas\\core\\indexing.py\u001b[0m in \u001b[0;36m?\u001b[1;34m(self, axis)\u001b[0m\n\u001b[0;32m    734\u001b[0m         \u001b[1;31m# we need to return a copy of ourselves\u001b[0m\u001b[1;33m\u001b[0m\u001b[1;33m\u001b[0m\u001b[0m\n\u001b[0;32m    735\u001b[0m         \u001b[0mnew_self\u001b[0m \u001b[1;33m=\u001b[0m \u001b[0mtype\u001b[0m\u001b[1;33m(\u001b[0m\u001b[0mself\u001b[0m\u001b[1;33m)\u001b[0m\u001b[1;33m(\u001b[0m\u001b[0mself\u001b[0m\u001b[1;33m.\u001b[0m\u001b[0mname\u001b[0m\u001b[1;33m,\u001b[0m \u001b[0mself\u001b[0m\u001b[1;33m.\u001b[0m\u001b[0mobj\u001b[0m\u001b[1;33m)\u001b[0m\u001b[1;33m\u001b[0m\u001b[1;33m\u001b[0m\u001b[0m\n\u001b[0;32m    736\u001b[0m \u001b[1;33m\u001b[0m\u001b[0m\n\u001b[0;32m    737\u001b[0m         \u001b[1;32mif\u001b[0m \u001b[0maxis\u001b[0m \u001b[1;32mis\u001b[0m \u001b[1;32mnot\u001b[0m \u001b[1;32mNone\u001b[0m\u001b[1;33m:\u001b[0m\u001b[1;33m\u001b[0m\u001b[1;33m\u001b[0m\u001b[0m\n\u001b[1;32m--> 738\u001b[1;33m             \u001b[0maxis_int_none\u001b[0m \u001b[1;33m=\u001b[0m \u001b[0mself\u001b[0m\u001b[1;33m.\u001b[0m\u001b[0mobj\u001b[0m\u001b[1;33m.\u001b[0m\u001b[0m_get_axis_number\u001b[0m\u001b[1;33m(\u001b[0m\u001b[0maxis\u001b[0m\u001b[1;33m)\u001b[0m\u001b[1;33m\u001b[0m\u001b[1;33m\u001b[0m\u001b[0m\n\u001b[0m\u001b[0;32m    739\u001b[0m         \u001b[1;32melse\u001b[0m\u001b[1;33m:\u001b[0m\u001b[1;33m\u001b[0m\u001b[1;33m\u001b[0m\u001b[0m\n\u001b[0;32m    740\u001b[0m             \u001b[0maxis_int_none\u001b[0m \u001b[1;33m=\u001b[0m \u001b[0maxis\u001b[0m\u001b[1;33m\u001b[0m\u001b[1;33m\u001b[0m\u001b[0m\n\u001b[0;32m    741\u001b[0m         \u001b[0mnew_self\u001b[0m\u001b[1;33m.\u001b[0m\u001b[0maxis\u001b[0m \u001b[1;33m=\u001b[0m \u001b[0maxis_int_none\u001b[0m\u001b[1;33m\u001b[0m\u001b[1;33m\u001b[0m\u001b[0m\n",
      "\u001b[1;32m~\\AppData\\Local\\anaconda3\\Lib\\site-packages\\pandas\\core\\generic.py\u001b[0m in \u001b[0;36m?\u001b[1;34m(cls, axis)\u001b[0m\n\u001b[0;32m    574\u001b[0m     \u001b[1;32mdef\u001b[0m \u001b[0m_get_axis_number\u001b[0m\u001b[1;33m(\u001b[0m\u001b[0mcls\u001b[0m\u001b[1;33m,\u001b[0m \u001b[0maxis\u001b[0m\u001b[1;33m:\u001b[0m \u001b[0mAxis\u001b[0m\u001b[1;33m)\u001b[0m \u001b[1;33m->\u001b[0m \u001b[0mAxisInt\u001b[0m\u001b[1;33m:\u001b[0m\u001b[1;33m\u001b[0m\u001b[1;33m\u001b[0m\u001b[0m\n\u001b[0;32m    575\u001b[0m         \u001b[1;32mtry\u001b[0m\u001b[1;33m:\u001b[0m\u001b[1;33m\u001b[0m\u001b[1;33m\u001b[0m\u001b[0m\n\u001b[0;32m    576\u001b[0m             \u001b[1;32mreturn\u001b[0m \u001b[0mcls\u001b[0m\u001b[1;33m.\u001b[0m\u001b[0m_AXIS_TO_AXIS_NUMBER\u001b[0m\u001b[1;33m[\u001b[0m\u001b[0maxis\u001b[0m\u001b[1;33m]\u001b[0m\u001b[1;33m\u001b[0m\u001b[1;33m\u001b[0m\u001b[0m\n\u001b[0;32m    577\u001b[0m         \u001b[1;32mexcept\u001b[0m \u001b[0mKeyError\u001b[0m\u001b[1;33m:\u001b[0m\u001b[1;33m\u001b[0m\u001b[1;33m\u001b[0m\u001b[0m\n\u001b[1;32m--> 578\u001b[1;33m             \u001b[1;32mraise\u001b[0m \u001b[0mValueError\u001b[0m\u001b[1;33m(\u001b[0m\u001b[1;33mf\"\u001b[0m\u001b[1;33mNo axis named \u001b[0m\u001b[1;33m{\u001b[0m\u001b[0maxis\u001b[0m\u001b[1;33m}\u001b[0m\u001b[1;33m for object type \u001b[0m\u001b[1;33m{\u001b[0m\u001b[0mcls\u001b[0m\u001b[1;33m.\u001b[0m\u001b[0m__name__\u001b[0m\u001b[1;33m}\u001b[0m\u001b[1;33m\"\u001b[0m\u001b[1;33m)\u001b[0m\u001b[1;33m\u001b[0m\u001b[1;33m\u001b[0m\u001b[0m\n\u001b[0m",
      "\u001b[1;31mValueError\u001b[0m: No axis named 2024-08-24 00:00:00 for object type DataFrame"
     ]
    }
   ],
   "source": [
    "df.loc(dates[0])"
   ]
  },
  {
   "cell_type": "code",
   "execution_count": 32,
   "id": "a31e3de2-a9e9-40bb-be64-b3243396bb1b",
   "metadata": {},
   "outputs": [
    {
     "data": {
      "text/plain": [
       "A    1.841859\n",
       "B   -2.095025\n",
       "C   -1.599813\n",
       "D    0.290403\n",
       "Name: 2024-08-24 00:00:00, dtype: float64"
      ]
     },
     "execution_count": 32,
     "metadata": {},
     "output_type": "execute_result"
    }
   ],
   "source": [
    "df.loc[dates[0]]"
   ]
  },
  {
   "cell_type": "markdown",
   "id": "c5760a5e-6ccd-4f48-a0bd-a3adfa80cdce",
   "metadata": {},
   "source": [
    "# Selecting all rows (:) with a select column labels:"
   ]
  },
  {
   "cell_type": "code",
   "execution_count": 33,
   "id": "f6ab2aba-f8f9-4167-bfb9-a828bd2430f9",
   "metadata": {},
   "outputs": [
    {
     "data": {
      "text/html": [
       "<div>\n",
       "<style scoped>\n",
       "    .dataframe tbody tr th:only-of-type {\n",
       "        vertical-align: middle;\n",
       "    }\n",
       "\n",
       "    .dataframe tbody tr th {\n",
       "        vertical-align: top;\n",
       "    }\n",
       "\n",
       "    .dataframe thead th {\n",
       "        text-align: right;\n",
       "    }\n",
       "</style>\n",
       "<table border=\"1\" class=\"dataframe\">\n",
       "  <thead>\n",
       "    <tr style=\"text-align: right;\">\n",
       "      <th></th>\n",
       "      <th>A</th>\n",
       "      <th>B</th>\n",
       "    </tr>\n",
       "  </thead>\n",
       "  <tbody>\n",
       "    <tr>\n",
       "      <th>2024-08-24</th>\n",
       "      <td>1.841859</td>\n",
       "      <td>-2.095025</td>\n",
       "    </tr>\n",
       "    <tr>\n",
       "      <th>2024-08-25</th>\n",
       "      <td>-0.901205</td>\n",
       "      <td>-0.059963</td>\n",
       "    </tr>\n",
       "    <tr>\n",
       "      <th>2024-08-26</th>\n",
       "      <td>-0.604463</td>\n",
       "      <td>2.526805</td>\n",
       "    </tr>\n",
       "    <tr>\n",
       "      <th>2024-08-27</th>\n",
       "      <td>0.891978</td>\n",
       "      <td>-0.717233</td>\n",
       "    </tr>\n",
       "    <tr>\n",
       "      <th>2024-08-28</th>\n",
       "      <td>0.491197</td>\n",
       "      <td>1.038402</td>\n",
       "    </tr>\n",
       "    <tr>\n",
       "      <th>2024-08-29</th>\n",
       "      <td>0.000603</td>\n",
       "      <td>-1.184322</td>\n",
       "    </tr>\n",
       "    <tr>\n",
       "      <th>2024-08-30</th>\n",
       "      <td>0.493169</td>\n",
       "      <td>-0.295767</td>\n",
       "    </tr>\n",
       "    <tr>\n",
       "      <th>2024-08-31</th>\n",
       "      <td>1.065619</td>\n",
       "      <td>1.143730</td>\n",
       "    </tr>\n",
       "  </tbody>\n",
       "</table>\n",
       "</div>"
      ],
      "text/plain": [
       "                   A         B\n",
       "2024-08-24  1.841859 -2.095025\n",
       "2024-08-25 -0.901205 -0.059963\n",
       "2024-08-26 -0.604463  2.526805\n",
       "2024-08-27  0.891978 -0.717233\n",
       "2024-08-28  0.491197  1.038402\n",
       "2024-08-29  0.000603 -1.184322\n",
       "2024-08-30  0.493169 -0.295767\n",
       "2024-08-31  1.065619  1.143730"
      ]
     },
     "execution_count": 33,
     "metadata": {},
     "output_type": "execute_result"
    }
   ],
   "source": [
    "df.loc[:, [\"A\",\"B\"]]"
   ]
  },
  {
   "cell_type": "markdown",
   "id": "9f52d9c8-93c6-44b7-b0a6-cb8c33bd0da3",
   "metadata": {},
   "source": [
    "the : slice all row and the selecting the cloumn that we want to selecte(A,B)"
   ]
  },
  {
   "cell_type": "code",
   "execution_count": 34,
   "id": "5dfd8930-ac77-4eb8-8f9f-68d89610f661",
   "metadata": {},
   "outputs": [
    {
     "data": {
      "text/html": [
       "<div>\n",
       "<style scoped>\n",
       "    .dataframe tbody tr th:only-of-type {\n",
       "        vertical-align: middle;\n",
       "    }\n",
       "\n",
       "    .dataframe tbody tr th {\n",
       "        vertical-align: top;\n",
       "    }\n",
       "\n",
       "    .dataframe thead th {\n",
       "        text-align: right;\n",
       "    }\n",
       "</style>\n",
       "<table border=\"1\" class=\"dataframe\">\n",
       "  <thead>\n",
       "    <tr style=\"text-align: right;\">\n",
       "      <th></th>\n",
       "      <th>A</th>\n",
       "      <th>B</th>\n",
       "      <th>C</th>\n",
       "      <th>D</th>\n",
       "    </tr>\n",
       "  </thead>\n",
       "  <tbody>\n",
       "    <tr>\n",
       "      <th>2024-08-24</th>\n",
       "      <td>1.841859</td>\n",
       "      <td>-2.095025</td>\n",
       "      <td>-1.599813</td>\n",
       "      <td>0.290403</td>\n",
       "    </tr>\n",
       "    <tr>\n",
       "      <th>2024-08-25</th>\n",
       "      <td>-0.901205</td>\n",
       "      <td>-0.059963</td>\n",
       "      <td>0.951438</td>\n",
       "      <td>-1.657837</td>\n",
       "    </tr>\n",
       "    <tr>\n",
       "      <th>2024-08-26</th>\n",
       "      <td>-0.604463</td>\n",
       "      <td>2.526805</td>\n",
       "      <td>1.006789</td>\n",
       "      <td>0.980797</td>\n",
       "    </tr>\n",
       "    <tr>\n",
       "      <th>2024-08-27</th>\n",
       "      <td>0.891978</td>\n",
       "      <td>-0.717233</td>\n",
       "      <td>-0.890150</td>\n",
       "      <td>1.381870</td>\n",
       "    </tr>\n",
       "    <tr>\n",
       "      <th>2024-08-28</th>\n",
       "      <td>0.491197</td>\n",
       "      <td>1.038402</td>\n",
       "      <td>-1.111967</td>\n",
       "      <td>-0.764854</td>\n",
       "    </tr>\n",
       "    <tr>\n",
       "      <th>2024-08-29</th>\n",
       "      <td>0.000603</td>\n",
       "      <td>-1.184322</td>\n",
       "      <td>1.700566</td>\n",
       "      <td>0.300647</td>\n",
       "    </tr>\n",
       "    <tr>\n",
       "      <th>2024-08-30</th>\n",
       "      <td>0.493169</td>\n",
       "      <td>-0.295767</td>\n",
       "      <td>-1.592250</td>\n",
       "      <td>0.124464</td>\n",
       "    </tr>\n",
       "    <tr>\n",
       "      <th>2024-08-31</th>\n",
       "      <td>1.065619</td>\n",
       "      <td>1.143730</td>\n",
       "      <td>1.789567</td>\n",
       "      <td>1.522113</td>\n",
       "    </tr>\n",
       "  </tbody>\n",
       "</table>\n",
       "</div>"
      ],
      "text/plain": [
       "                   A         B         C         D\n",
       "2024-08-24  1.841859 -2.095025 -1.599813  0.290403\n",
       "2024-08-25 -0.901205 -0.059963  0.951438 -1.657837\n",
       "2024-08-26 -0.604463  2.526805  1.006789  0.980797\n",
       "2024-08-27  0.891978 -0.717233 -0.890150  1.381870\n",
       "2024-08-28  0.491197  1.038402 -1.111967 -0.764854\n",
       "2024-08-29  0.000603 -1.184322  1.700566  0.300647\n",
       "2024-08-30  0.493169 -0.295767 -1.592250  0.124464\n",
       "2024-08-31  1.065619  1.143730  1.789567  1.522113"
      ]
     },
     "execution_count": 34,
     "metadata": {},
     "output_type": "execute_result"
    }
   ],
   "source": [
    "df.loc[:, :]"
   ]
  },
  {
   "cell_type": "code",
   "execution_count": 35,
   "id": "96362c7d-e5ad-4880-ba66-5a0359e72bb6",
   "metadata": {},
   "outputs": [
    {
     "data": {
      "text/html": [
       "<div>\n",
       "<style scoped>\n",
       "    .dataframe tbody tr th:only-of-type {\n",
       "        vertical-align: middle;\n",
       "    }\n",
       "\n",
       "    .dataframe tbody tr th {\n",
       "        vertical-align: top;\n",
       "    }\n",
       "\n",
       "    .dataframe thead th {\n",
       "        text-align: right;\n",
       "    }\n",
       "</style>\n",
       "<table border=\"1\" class=\"dataframe\">\n",
       "  <thead>\n",
       "    <tr style=\"text-align: right;\">\n",
       "      <th></th>\n",
       "      <th>A</th>\n",
       "      <th>B</th>\n",
       "      <th>C</th>\n",
       "      <th>D</th>\n",
       "    </tr>\n",
       "  </thead>\n",
       "  <tbody>\n",
       "    <tr>\n",
       "      <th>2024-08-24</th>\n",
       "      <td>1.841859</td>\n",
       "      <td>-2.095025</td>\n",
       "      <td>-1.599813</td>\n",
       "      <td>0.290403</td>\n",
       "    </tr>\n",
       "    <tr>\n",
       "      <th>2024-08-26</th>\n",
       "      <td>-0.604463</td>\n",
       "      <td>2.526805</td>\n",
       "      <td>1.006789</td>\n",
       "      <td>0.980797</td>\n",
       "    </tr>\n",
       "  </tbody>\n",
       "</table>\n",
       "</div>"
      ],
      "text/plain": [
       "                   A         B         C         D\n",
       "2024-08-24  1.841859 -2.095025 -1.599813  0.290403\n",
       "2024-08-26 -0.604463  2.526805  1.006789  0.980797"
      ]
     },
     "execution_count": 35,
     "metadata": {},
     "output_type": "execute_result"
    }
   ],
   "source": [
    "df.loc[[\"2024-08-24\", \"2024-08-26\t\"], :]"
   ]
  },
  {
   "cell_type": "code",
   "execution_count": 36,
   "id": "3ee95caf-27a9-45f3-800d-59ddab187934",
   "metadata": {},
   "outputs": [
    {
     "data": {
      "text/html": [
       "<div>\n",
       "<style scoped>\n",
       "    .dataframe tbody tr th:only-of-type {\n",
       "        vertical-align: middle;\n",
       "    }\n",
       "\n",
       "    .dataframe tbody tr th {\n",
       "        vertical-align: top;\n",
       "    }\n",
       "\n",
       "    .dataframe thead th {\n",
       "        text-align: right;\n",
       "    }\n",
       "</style>\n",
       "<table border=\"1\" class=\"dataframe\">\n",
       "  <thead>\n",
       "    <tr style=\"text-align: right;\">\n",
       "      <th></th>\n",
       "      <th>C</th>\n",
       "      <th>D</th>\n",
       "    </tr>\n",
       "  </thead>\n",
       "  <tbody>\n",
       "    <tr>\n",
       "      <th>2024-08-24</th>\n",
       "      <td>-1.599813</td>\n",
       "      <td>0.290403</td>\n",
       "    </tr>\n",
       "    <tr>\n",
       "      <th>2024-08-26</th>\n",
       "      <td>1.006789</td>\n",
       "      <td>0.980797</td>\n",
       "    </tr>\n",
       "  </tbody>\n",
       "</table>\n",
       "</div>"
      ],
      "text/plain": [
       "                   C         D\n",
       "2024-08-24 -1.599813  0.290403\n",
       "2024-08-26  1.006789  0.980797"
      ]
     },
     "execution_count": 36,
     "metadata": {},
     "output_type": "execute_result"
    }
   ],
   "source": [
    "df.loc[[\"2024-08-24\", \"2024-08-26\"], [\"C\",\"D\"]]"
   ]
  },
  {
   "cell_type": "markdown",
   "id": "c2f17c6f-4a4a-4b1e-981d-fe4e14997474",
   "metadata": {},
   "source": [
    "# For label slicing, both endpoints are included:"
   ]
  },
  {
   "cell_type": "code",
   "execution_count": 37,
   "id": "f82229e9-2701-4e16-9932-d874fed7fda1",
   "metadata": {},
   "outputs": [
    {
     "data": {
      "text/html": [
       "<div>\n",
       "<style scoped>\n",
       "    .dataframe tbody tr th:only-of-type {\n",
       "        vertical-align: middle;\n",
       "    }\n",
       "\n",
       "    .dataframe tbody tr th {\n",
       "        vertical-align: top;\n",
       "    }\n",
       "\n",
       "    .dataframe thead th {\n",
       "        text-align: right;\n",
       "    }\n",
       "</style>\n",
       "<table border=\"1\" class=\"dataframe\">\n",
       "  <thead>\n",
       "    <tr style=\"text-align: right;\">\n",
       "      <th></th>\n",
       "      <th>A</th>\n",
       "      <th>D</th>\n",
       "    </tr>\n",
       "  </thead>\n",
       "  <tbody>\n",
       "    <tr>\n",
       "      <th>2024-08-24</th>\n",
       "      <td>1.841859</td>\n",
       "      <td>0.290403</td>\n",
       "    </tr>\n",
       "    <tr>\n",
       "      <th>2024-08-25</th>\n",
       "      <td>-0.901205</td>\n",
       "      <td>-1.657837</td>\n",
       "    </tr>\n",
       "    <tr>\n",
       "      <th>2024-08-26</th>\n",
       "      <td>-0.604463</td>\n",
       "      <td>0.980797</td>\n",
       "    </tr>\n",
       "    <tr>\n",
       "      <th>2024-08-27</th>\n",
       "      <td>0.891978</td>\n",
       "      <td>1.381870</td>\n",
       "    </tr>\n",
       "    <tr>\n",
       "      <th>2024-08-28</th>\n",
       "      <td>0.491197</td>\n",
       "      <td>-0.764854</td>\n",
       "    </tr>\n",
       "  </tbody>\n",
       "</table>\n",
       "</div>"
      ],
      "text/plain": [
       "                   A         D\n",
       "2024-08-24  1.841859  0.290403\n",
       "2024-08-25 -0.901205 -1.657837\n",
       "2024-08-26 -0.604463  0.980797\n",
       "2024-08-27  0.891978  1.381870\n",
       "2024-08-28  0.491197 -0.764854"
      ]
     },
     "execution_count": 37,
     "metadata": {},
     "output_type": "execute_result"
    }
   ],
   "source": [
    "df.loc[\"2024-08-24\":\"2024-08-28\", [\"A\",\"D\"]]"
   ]
  },
  {
   "cell_type": "markdown",
   "id": "aba0adc2-57bd-4c92-9094-b15d01b4378a",
   "metadata": {},
   "source": [
    "Selecting a single row and column label returns a scalar:"
   ]
  },
  {
   "cell_type": "code",
   "execution_count": 38,
   "id": "762df944-e234-4967-b8e2-6df54e6e9911",
   "metadata": {},
   "outputs": [
    {
     "data": {
      "text/plain": [
       "1.8418591444090773"
      ]
     },
     "execution_count": 38,
     "metadata": {},
     "output_type": "execute_result"
    }
   ],
   "source": [
    "df.loc[dates[0], \"A\"]"
   ]
  },
  {
   "cell_type": "markdown",
   "id": "d92e14c8-c942-4d0a-8821-52f8b0fea00d",
   "metadata": {},
   "source": [
    "# For getting fast access to a scalar (equivalent to the prior method):"
   ]
  },
  {
   "cell_type": "code",
   "execution_count": 39,
   "id": "a390e8b4-1284-42d5-bfeb-259638743837",
   "metadata": {},
   "outputs": [
    {
     "data": {
      "text/plain": [
       "1.8418591444090773"
      ]
     },
     "execution_count": 39,
     "metadata": {},
     "output_type": "execute_result"
    }
   ],
   "source": [
    "df.at[dates[0], \"A\"]"
   ]
  },
  {
   "cell_type": "markdown",
   "id": "8cae4983-639b-4b65-b8b8-49af1ac8ddae",
   "metadata": {},
   "source": [
    "# Selection by position"
   ]
  },
  {
   "cell_type": "markdown",
   "id": "a4dcfc32-74f4-4bd3-b232-82d45d4b458c",
   "metadata": {},
   "source": [
    "See more in Selection by Position using DataFrame.iloc() or DataFrame.iat()."
   ]
  },
  {
   "cell_type": "markdown",
   "id": "8517beac-7cd2-4441-889b-adcffc24603c",
   "metadata": {},
   "source": [
    "# Select via the position of the passed integers:"
   ]
  },
  {
   "cell_type": "code",
   "execution_count": 40,
   "id": "3f5458c8-750f-44ab-86f5-d6ab0da56d30",
   "metadata": {},
   "outputs": [
    {
     "ename": "AttributeError",
     "evalue": "'DataFrame' object has no attribute 'ioc'",
     "output_type": "error",
     "traceback": [
      "\u001b[1;31m---------------------------------------------------------------------------\u001b[0m",
      "\u001b[1;31mAttributeError\u001b[0m                            Traceback (most recent call last)",
      "\u001b[1;32m~\\AppData\\Local\\Temp\\ipykernel_22520\\4256100742.py\u001b[0m in \u001b[0;36m?\u001b[1;34m()\u001b[0m\n\u001b[1;32m----> 1\u001b[1;33m \u001b[0mdf\u001b[0m\u001b[1;33m.\u001b[0m\u001b[0mioc\u001b[0m\u001b[1;33m[\u001b[0m\u001b[1;36m3\u001b[0m\u001b[1;33m]\u001b[0m\u001b[1;33m\u001b[0m\u001b[1;33m\u001b[0m\u001b[0m\n\u001b[0m",
      "\u001b[1;32m~\\AppData\\Local\\anaconda3\\Lib\\site-packages\\pandas\\core\\generic.py\u001b[0m in \u001b[0;36m?\u001b[1;34m(self, name)\u001b[0m\n\u001b[0;32m   6295\u001b[0m             \u001b[1;32mand\u001b[0m \u001b[0mname\u001b[0m \u001b[1;32mnot\u001b[0m \u001b[1;32min\u001b[0m \u001b[0mself\u001b[0m\u001b[1;33m.\u001b[0m\u001b[0m_accessors\u001b[0m\u001b[1;33m\u001b[0m\u001b[1;33m\u001b[0m\u001b[0m\n\u001b[0;32m   6296\u001b[0m             \u001b[1;32mand\u001b[0m \u001b[0mself\u001b[0m\u001b[1;33m.\u001b[0m\u001b[0m_info_axis\u001b[0m\u001b[1;33m.\u001b[0m\u001b[0m_can_hold_identifiers_and_holds_name\u001b[0m\u001b[1;33m(\u001b[0m\u001b[0mname\u001b[0m\u001b[1;33m)\u001b[0m\u001b[1;33m\u001b[0m\u001b[1;33m\u001b[0m\u001b[0m\n\u001b[0;32m   6297\u001b[0m         \u001b[1;33m)\u001b[0m\u001b[1;33m:\u001b[0m\u001b[1;33m\u001b[0m\u001b[1;33m\u001b[0m\u001b[0m\n\u001b[0;32m   6298\u001b[0m             \u001b[1;32mreturn\u001b[0m \u001b[0mself\u001b[0m\u001b[1;33m[\u001b[0m\u001b[0mname\u001b[0m\u001b[1;33m]\u001b[0m\u001b[1;33m\u001b[0m\u001b[1;33m\u001b[0m\u001b[0m\n\u001b[1;32m-> 6299\u001b[1;33m         \u001b[1;32mreturn\u001b[0m \u001b[0mobject\u001b[0m\u001b[1;33m.\u001b[0m\u001b[0m__getattribute__\u001b[0m\u001b[1;33m(\u001b[0m\u001b[0mself\u001b[0m\u001b[1;33m,\u001b[0m \u001b[0mname\u001b[0m\u001b[1;33m)\u001b[0m\u001b[1;33m\u001b[0m\u001b[1;33m\u001b[0m\u001b[0m\n\u001b[0m",
      "\u001b[1;31mAttributeError\u001b[0m: 'DataFrame' object has no attribute 'ioc'"
     ]
    }
   ],
   "source": [
    "df.ioc[3]"
   ]
  },
  {
   "cell_type": "code",
   "execution_count": 41,
   "id": "84f291bc-0355-4bd8-b1ee-d59d8fac65b6",
   "metadata": {},
   "outputs": [
    {
     "data": {
      "text/plain": [
       "A    0.891978\n",
       "B   -0.717233\n",
       "C   -0.890150\n",
       "D    1.381870\n",
       "Name: 2024-08-27 00:00:00, dtype: float64"
      ]
     },
     "execution_count": 41,
     "metadata": {},
     "output_type": "execute_result"
    }
   ],
   "source": [
    "df.iloc[3]"
   ]
  },
  {
   "cell_type": "markdown",
   "id": "4f1af257-6042-45de-a568-e23815bc74c5",
   "metadata": {},
   "source": [
    "# Integer slices acts similar to NumPy/Python:"
   ]
  },
  {
   "cell_type": "code",
   "execution_count": 42,
   "id": "b64d07a8-d7ab-42ff-b8bb-c6cd0bc00a81",
   "metadata": {},
   "outputs": [
    {
     "data": {
      "text/html": [
       "<div>\n",
       "<style scoped>\n",
       "    .dataframe tbody tr th:only-of-type {\n",
       "        vertical-align: middle;\n",
       "    }\n",
       "\n",
       "    .dataframe tbody tr th {\n",
       "        vertical-align: top;\n",
       "    }\n",
       "\n",
       "    .dataframe thead th {\n",
       "        text-align: right;\n",
       "    }\n",
       "</style>\n",
       "<table border=\"1\" class=\"dataframe\">\n",
       "  <thead>\n",
       "    <tr style=\"text-align: right;\">\n",
       "      <th></th>\n",
       "      <th>A</th>\n",
       "      <th>B</th>\n",
       "    </tr>\n",
       "  </thead>\n",
       "  <tbody>\n",
       "    <tr>\n",
       "      <th>2024-08-27</th>\n",
       "      <td>0.891978</td>\n",
       "      <td>-0.717233</td>\n",
       "    </tr>\n",
       "    <tr>\n",
       "      <th>2024-08-28</th>\n",
       "      <td>0.491197</td>\n",
       "      <td>1.038402</td>\n",
       "    </tr>\n",
       "  </tbody>\n",
       "</table>\n",
       "</div>"
      ],
      "text/plain": [
       "                   A         B\n",
       "2024-08-27  0.891978 -0.717233\n",
       "2024-08-28  0.491197  1.038402"
      ]
     },
     "execution_count": 42,
     "metadata": {},
     "output_type": "execute_result"
    }
   ],
   "source": [
    "df.iloc[3:5, 0:2]"
   ]
  },
  {
   "cell_type": "markdown",
   "id": "6d6c72e0-479e-4072-a249-1492678251b2",
   "metadata": {},
   "source": [
    "# Lists of integer position locations:"
   ]
  },
  {
   "cell_type": "code",
   "execution_count": 43,
   "id": "eaf4b2fe-6f08-4a09-b658-7fdfb41e913c",
   "metadata": {},
   "outputs": [
    {
     "data": {
      "text/html": [
       "<div>\n",
       "<style scoped>\n",
       "    .dataframe tbody tr th:only-of-type {\n",
       "        vertical-align: middle;\n",
       "    }\n",
       "\n",
       "    .dataframe tbody tr th {\n",
       "        vertical-align: top;\n",
       "    }\n",
       "\n",
       "    .dataframe thead th {\n",
       "        text-align: right;\n",
       "    }\n",
       "</style>\n",
       "<table border=\"1\" class=\"dataframe\">\n",
       "  <thead>\n",
       "    <tr style=\"text-align: right;\">\n",
       "      <th></th>\n",
       "      <th>A</th>\n",
       "      <th>D</th>\n",
       "    </tr>\n",
       "  </thead>\n",
       "  <tbody>\n",
       "    <tr>\n",
       "      <th>2024-08-25</th>\n",
       "      <td>-0.901205</td>\n",
       "      <td>-1.657837</td>\n",
       "    </tr>\n",
       "    <tr>\n",
       "      <th>2024-08-26</th>\n",
       "      <td>-0.604463</td>\n",
       "      <td>0.980797</td>\n",
       "    </tr>\n",
       "    <tr>\n",
       "      <th>2024-08-27</th>\n",
       "      <td>0.891978</td>\n",
       "      <td>1.381870</td>\n",
       "    </tr>\n",
       "    <tr>\n",
       "      <th>2024-08-28</th>\n",
       "      <td>0.491197</td>\n",
       "      <td>-0.764854</td>\n",
       "    </tr>\n",
       "  </tbody>\n",
       "</table>\n",
       "</div>"
      ],
      "text/plain": [
       "                   A         D\n",
       "2024-08-25 -0.901205 -1.657837\n",
       "2024-08-26 -0.604463  0.980797\n",
       "2024-08-27  0.891978  1.381870\n",
       "2024-08-28  0.491197 -0.764854"
      ]
     },
     "execution_count": 43,
     "metadata": {},
     "output_type": "execute_result"
    }
   ],
   "source": [
    "df.iloc[[1,2,3,4],[0,3]]"
   ]
  },
  {
   "cell_type": "markdown",
   "id": "f2750842-78f3-47cc-aa71-f8bb700276a1",
   "metadata": {},
   "source": [
    "# For slicing rows explicitly"
   ]
  },
  {
   "cell_type": "code",
   "execution_count": 44,
   "id": "df067e48-3e77-4304-a9d4-abe59326101f",
   "metadata": {},
   "outputs": [
    {
     "data": {
      "text/html": [
       "<div>\n",
       "<style scoped>\n",
       "    .dataframe tbody tr th:only-of-type {\n",
       "        vertical-align: middle;\n",
       "    }\n",
       "\n",
       "    .dataframe tbody tr th {\n",
       "        vertical-align: top;\n",
       "    }\n",
       "\n",
       "    .dataframe thead th {\n",
       "        text-align: right;\n",
       "    }\n",
       "</style>\n",
       "<table border=\"1\" class=\"dataframe\">\n",
       "  <thead>\n",
       "    <tr style=\"text-align: right;\">\n",
       "      <th></th>\n",
       "      <th>A</th>\n",
       "      <th>B</th>\n",
       "      <th>C</th>\n",
       "      <th>D</th>\n",
       "    </tr>\n",
       "  </thead>\n",
       "  <tbody>\n",
       "    <tr>\n",
       "      <th>2024-08-25</th>\n",
       "      <td>-0.901205</td>\n",
       "      <td>-0.059963</td>\n",
       "      <td>0.951438</td>\n",
       "      <td>-1.657837</td>\n",
       "    </tr>\n",
       "    <tr>\n",
       "      <th>2024-08-26</th>\n",
       "      <td>-0.604463</td>\n",
       "      <td>2.526805</td>\n",
       "      <td>1.006789</td>\n",
       "      <td>0.980797</td>\n",
       "    </tr>\n",
       "  </tbody>\n",
       "</table>\n",
       "</div>"
      ],
      "text/plain": [
       "                   A         B         C         D\n",
       "2024-08-25 -0.901205 -0.059963  0.951438 -1.657837\n",
       "2024-08-26 -0.604463  2.526805  1.006789  0.980797"
      ]
     },
     "execution_count": 44,
     "metadata": {},
     "output_type": "execute_result"
    }
   ],
   "source": [
    "df.iloc[1:3, :]"
   ]
  },
  {
   "cell_type": "markdown",
   "id": "780ee9a2-e00f-46f2-a0e5-8769777446dc",
   "metadata": {},
   "source": [
    "# For slicing columns explicitly:"
   ]
  },
  {
   "cell_type": "code",
   "execution_count": 45,
   "id": "d4269da7-a283-46ff-8ae9-25a7ceb9ce22",
   "metadata": {},
   "outputs": [
    {
     "data": {
      "text/html": [
       "<div>\n",
       "<style scoped>\n",
       "    .dataframe tbody tr th:only-of-type {\n",
       "        vertical-align: middle;\n",
       "    }\n",
       "\n",
       "    .dataframe tbody tr th {\n",
       "        vertical-align: top;\n",
       "    }\n",
       "\n",
       "    .dataframe thead th {\n",
       "        text-align: right;\n",
       "    }\n",
       "</style>\n",
       "<table border=\"1\" class=\"dataframe\">\n",
       "  <thead>\n",
       "    <tr style=\"text-align: right;\">\n",
       "      <th></th>\n",
       "      <th>B</th>\n",
       "      <th>C</th>\n",
       "    </tr>\n",
       "  </thead>\n",
       "  <tbody>\n",
       "    <tr>\n",
       "      <th>2024-08-24</th>\n",
       "      <td>-2.095025</td>\n",
       "      <td>-1.599813</td>\n",
       "    </tr>\n",
       "    <tr>\n",
       "      <th>2024-08-25</th>\n",
       "      <td>-0.059963</td>\n",
       "      <td>0.951438</td>\n",
       "    </tr>\n",
       "    <tr>\n",
       "      <th>2024-08-26</th>\n",
       "      <td>2.526805</td>\n",
       "      <td>1.006789</td>\n",
       "    </tr>\n",
       "    <tr>\n",
       "      <th>2024-08-27</th>\n",
       "      <td>-0.717233</td>\n",
       "      <td>-0.890150</td>\n",
       "    </tr>\n",
       "    <tr>\n",
       "      <th>2024-08-28</th>\n",
       "      <td>1.038402</td>\n",
       "      <td>-1.111967</td>\n",
       "    </tr>\n",
       "    <tr>\n",
       "      <th>2024-08-29</th>\n",
       "      <td>-1.184322</td>\n",
       "      <td>1.700566</td>\n",
       "    </tr>\n",
       "    <tr>\n",
       "      <th>2024-08-30</th>\n",
       "      <td>-0.295767</td>\n",
       "      <td>-1.592250</td>\n",
       "    </tr>\n",
       "    <tr>\n",
       "      <th>2024-08-31</th>\n",
       "      <td>1.143730</td>\n",
       "      <td>1.789567</td>\n",
       "    </tr>\n",
       "  </tbody>\n",
       "</table>\n",
       "</div>"
      ],
      "text/plain": [
       "                   B         C\n",
       "2024-08-24 -2.095025 -1.599813\n",
       "2024-08-25 -0.059963  0.951438\n",
       "2024-08-26  2.526805  1.006789\n",
       "2024-08-27 -0.717233 -0.890150\n",
       "2024-08-28  1.038402 -1.111967\n",
       "2024-08-29 -1.184322  1.700566\n",
       "2024-08-30 -0.295767 -1.592250\n",
       "2024-08-31  1.143730  1.789567"
      ]
     },
     "execution_count": 45,
     "metadata": {},
     "output_type": "execute_result"
    }
   ],
   "source": [
    "df.iloc[:, 1:3]"
   ]
  },
  {
   "cell_type": "markdown",
   "id": "063569a2-f033-4a3f-9b97-73b4ac8372dd",
   "metadata": {},
   "source": [
    "# For getting a value explicitly:"
   ]
  },
  {
   "cell_type": "code",
   "execution_count": 46,
   "id": "e7c790b6-2358-4368-8173-f40cac319787",
   "metadata": {},
   "outputs": [
    {
     "data": {
      "text/plain": [
       "-0.059962770930539894"
      ]
     },
     "execution_count": 46,
     "metadata": {},
     "output_type": "execute_result"
    }
   ],
   "source": [
    "df.iloc[1,1]"
   ]
  },
  {
   "cell_type": "code",
   "execution_count": 47,
   "id": "5c6c5376-696f-4d6b-bb17-aeac77f3cfe4",
   "metadata": {},
   "outputs": [
    {
     "data": {
      "text/plain": [
       "0.9807968913479774"
      ]
     },
     "execution_count": 47,
     "metadata": {},
     "output_type": "execute_result"
    }
   ],
   "source": [
    "df.iloc[2,3]"
   ]
  },
  {
   "cell_type": "code",
   "execution_count": 48,
   "id": "5617a599-2d91-4019-aeb9-ac75a3743321",
   "metadata": {},
   "outputs": [
    {
     "ename": "IndexError",
     "evalue": "index 9 is out of bounds for axis 0 with size 4",
     "output_type": "error",
     "traceback": [
      "\u001b[1;31m---------------------------------------------------------------------------\u001b[0m",
      "\u001b[1;31mIndexError\u001b[0m                                Traceback (most recent call last)",
      "Cell \u001b[1;32mIn[48], line 1\u001b[0m\n\u001b[1;32m----> 1\u001b[0m df\u001b[38;5;241m.\u001b[39miloc[\u001b[38;5;241m1\u001b[39m,\u001b[38;5;241m9\u001b[39m]\n",
      "File \u001b[1;32m~\\AppData\\Local\\anaconda3\\Lib\\site-packages\\pandas\\core\\indexing.py:1183\u001b[0m, in \u001b[0;36m_LocationIndexer.__getitem__\u001b[1;34m(self, key)\u001b[0m\n\u001b[0;32m   1181\u001b[0m     key \u001b[38;5;241m=\u001b[39m \u001b[38;5;28mtuple\u001b[39m(com\u001b[38;5;241m.\u001b[39mapply_if_callable(x, \u001b[38;5;28mself\u001b[39m\u001b[38;5;241m.\u001b[39mobj) \u001b[38;5;28;01mfor\u001b[39;00m x \u001b[38;5;129;01min\u001b[39;00m key)\n\u001b[0;32m   1182\u001b[0m     \u001b[38;5;28;01mif\u001b[39;00m \u001b[38;5;28mself\u001b[39m\u001b[38;5;241m.\u001b[39m_is_scalar_access(key):\n\u001b[1;32m-> 1183\u001b[0m         \u001b[38;5;28;01mreturn\u001b[39;00m \u001b[38;5;28mself\u001b[39m\u001b[38;5;241m.\u001b[39mobj\u001b[38;5;241m.\u001b[39m_get_value(\u001b[38;5;241m*\u001b[39mkey, takeable\u001b[38;5;241m=\u001b[39m\u001b[38;5;28mself\u001b[39m\u001b[38;5;241m.\u001b[39m_takeable)\n\u001b[0;32m   1184\u001b[0m     \u001b[38;5;28;01mreturn\u001b[39;00m \u001b[38;5;28mself\u001b[39m\u001b[38;5;241m.\u001b[39m_getitem_tuple(key)\n\u001b[0;32m   1185\u001b[0m \u001b[38;5;28;01melse\u001b[39;00m:\n\u001b[0;32m   1186\u001b[0m     \u001b[38;5;66;03m# we by definition only have the 0th axis\u001b[39;00m\n",
      "File \u001b[1;32m~\\AppData\\Local\\anaconda3\\Lib\\site-packages\\pandas\\core\\frame.py:4211\u001b[0m, in \u001b[0;36mDataFrame._get_value\u001b[1;34m(self, index, col, takeable)\u001b[0m\n\u001b[0;32m   4192\u001b[0m \u001b[38;5;250m\u001b[39m\u001b[38;5;124;03m\"\"\"\u001b[39;00m\n\u001b[0;32m   4193\u001b[0m \u001b[38;5;124;03mQuickly retrieve single value at passed column and index.\u001b[39;00m\n\u001b[0;32m   4194\u001b[0m \n\u001b[1;32m   (...)\u001b[0m\n\u001b[0;32m   4208\u001b[0m \u001b[38;5;124;03m`self.columns._index_as_unique`; Caller is responsible for checking.\u001b[39;00m\n\u001b[0;32m   4209\u001b[0m \u001b[38;5;124;03m\"\"\"\u001b[39;00m\n\u001b[0;32m   4210\u001b[0m \u001b[38;5;28;01mif\u001b[39;00m takeable:\n\u001b[1;32m-> 4211\u001b[0m     series \u001b[38;5;241m=\u001b[39m \u001b[38;5;28mself\u001b[39m\u001b[38;5;241m.\u001b[39m_ixs(col, axis\u001b[38;5;241m=\u001b[39m\u001b[38;5;241m1\u001b[39m)\n\u001b[0;32m   4212\u001b[0m     \u001b[38;5;28;01mreturn\u001b[39;00m series\u001b[38;5;241m.\u001b[39m_values[index]\n\u001b[0;32m   4214\u001b[0m series \u001b[38;5;241m=\u001b[39m \u001b[38;5;28mself\u001b[39m\u001b[38;5;241m.\u001b[39m_get_item_cache(col)\n",
      "File \u001b[1;32m~\\AppData\\Local\\anaconda3\\Lib\\site-packages\\pandas\\core\\frame.py:4008\u001b[0m, in \u001b[0;36mDataFrame._ixs\u001b[1;34m(self, i, axis)\u001b[0m\n\u001b[0;32m   4004\u001b[0m     \u001b[38;5;28;01mreturn\u001b[39;00m result\n\u001b[0;32m   4006\u001b[0m \u001b[38;5;66;03m# icol\u001b[39;00m\n\u001b[0;32m   4007\u001b[0m \u001b[38;5;28;01melse\u001b[39;00m:\n\u001b[1;32m-> 4008\u001b[0m     label \u001b[38;5;241m=\u001b[39m \u001b[38;5;28mself\u001b[39m\u001b[38;5;241m.\u001b[39mcolumns[i]\n\u001b[0;32m   4010\u001b[0m     col_mgr \u001b[38;5;241m=\u001b[39m \u001b[38;5;28mself\u001b[39m\u001b[38;5;241m.\u001b[39m_mgr\u001b[38;5;241m.\u001b[39miget(i)\n\u001b[0;32m   4011\u001b[0m     result \u001b[38;5;241m=\u001b[39m \u001b[38;5;28mself\u001b[39m\u001b[38;5;241m.\u001b[39m_box_col_values(col_mgr, i)\n",
      "File \u001b[1;32m~\\AppData\\Local\\anaconda3\\Lib\\site-packages\\pandas\\core\\indexes\\base.py:5389\u001b[0m, in \u001b[0;36mIndex.__getitem__\u001b[1;34m(self, key)\u001b[0m\n\u001b[0;32m   5386\u001b[0m \u001b[38;5;28;01mif\u001b[39;00m is_integer(key) \u001b[38;5;129;01mor\u001b[39;00m is_float(key):\n\u001b[0;32m   5387\u001b[0m     \u001b[38;5;66;03m# GH#44051 exclude bool, which would return a 2d ndarray\u001b[39;00m\n\u001b[0;32m   5388\u001b[0m     key \u001b[38;5;241m=\u001b[39m com\u001b[38;5;241m.\u001b[39mcast_scalar_indexer(key)\n\u001b[1;32m-> 5389\u001b[0m     \u001b[38;5;28;01mreturn\u001b[39;00m getitem(key)\n\u001b[0;32m   5391\u001b[0m \u001b[38;5;28;01mif\u001b[39;00m \u001b[38;5;28misinstance\u001b[39m(key, \u001b[38;5;28mslice\u001b[39m):\n\u001b[0;32m   5392\u001b[0m     \u001b[38;5;66;03m# This case is separated from the conditional above to avoid\u001b[39;00m\n\u001b[0;32m   5393\u001b[0m     \u001b[38;5;66;03m# pessimization com.is_bool_indexer and ndim checks.\u001b[39;00m\n\u001b[0;32m   5394\u001b[0m     \u001b[38;5;28;01mreturn\u001b[39;00m \u001b[38;5;28mself\u001b[39m\u001b[38;5;241m.\u001b[39m_getitem_slice(key)\n",
      "\u001b[1;31mIndexError\u001b[0m: index 9 is out of bounds for axis 0 with size 4"
     ]
    }
   ],
   "source": [
    "df.iloc[1,9]"
   ]
  },
  {
   "cell_type": "code",
   "execution_count": 49,
   "id": "23b4765c-eae1-4c5a-8d08-32b6a2cf820a",
   "metadata": {},
   "outputs": [
    {
     "data": {
      "text/plain": [
       "-0.7648540146684618"
      ]
     },
     "execution_count": 49,
     "metadata": {},
     "output_type": "execute_result"
    }
   ],
   "source": [
    "df.iloc[4,3]"
   ]
  },
  {
   "cell_type": "markdown",
   "id": "805ad61b-6cd7-4d39-97e4-f435f75ace14",
   "metadata": {},
   "source": [
    "# For getting fast access to a scalar (equivalent to the prior method):"
   ]
  },
  {
   "cell_type": "code",
   "execution_count": 50,
   "id": "136d2f0d-0fa9-4f4a-85cf-3c9fcd877ca5",
   "metadata": {},
   "outputs": [
    {
     "data": {
      "text/plain": [
       "-0.059962770930539894"
      ]
     },
     "execution_count": 50,
     "metadata": {},
     "output_type": "execute_result"
    }
   ],
   "source": [
    "df.iat[1,1]"
   ]
  },
  {
   "cell_type": "markdown",
   "id": "e6245756-c4cc-4f85-983f-3791624420c3",
   "metadata": {},
   "source": [
    "# Boolean indexing"
   ]
  },
  {
   "cell_type": "markdown",
   "id": "a53b18b3-da20-4d88-90e1-26c0b662b28b",
   "metadata": {},
   "source": [
    "# Select rows where df.A is greater than 0."
   ]
  },
  {
   "cell_type": "code",
   "execution_count": 51,
   "id": "584bb5d0-d9ab-42ce-9525-2e44a6953917",
   "metadata": {},
   "outputs": [
    {
     "data": {
      "text/html": [
       "<div>\n",
       "<style scoped>\n",
       "    .dataframe tbody tr th:only-of-type {\n",
       "        vertical-align: middle;\n",
       "    }\n",
       "\n",
       "    .dataframe tbody tr th {\n",
       "        vertical-align: top;\n",
       "    }\n",
       "\n",
       "    .dataframe thead th {\n",
       "        text-align: right;\n",
       "    }\n",
       "</style>\n",
       "<table border=\"1\" class=\"dataframe\">\n",
       "  <thead>\n",
       "    <tr style=\"text-align: right;\">\n",
       "      <th></th>\n",
       "      <th>A</th>\n",
       "      <th>B</th>\n",
       "      <th>C</th>\n",
       "      <th>D</th>\n",
       "    </tr>\n",
       "  </thead>\n",
       "  <tbody>\n",
       "    <tr>\n",
       "      <th>2024-08-24</th>\n",
       "      <td>1.841859</td>\n",
       "      <td>-2.095025</td>\n",
       "      <td>-1.599813</td>\n",
       "      <td>0.290403</td>\n",
       "    </tr>\n",
       "    <tr>\n",
       "      <th>2024-08-27</th>\n",
       "      <td>0.891978</td>\n",
       "      <td>-0.717233</td>\n",
       "      <td>-0.890150</td>\n",
       "      <td>1.381870</td>\n",
       "    </tr>\n",
       "    <tr>\n",
       "      <th>2024-08-28</th>\n",
       "      <td>0.491197</td>\n",
       "      <td>1.038402</td>\n",
       "      <td>-1.111967</td>\n",
       "      <td>-0.764854</td>\n",
       "    </tr>\n",
       "    <tr>\n",
       "      <th>2024-08-29</th>\n",
       "      <td>0.000603</td>\n",
       "      <td>-1.184322</td>\n",
       "      <td>1.700566</td>\n",
       "      <td>0.300647</td>\n",
       "    </tr>\n",
       "    <tr>\n",
       "      <th>2024-08-30</th>\n",
       "      <td>0.493169</td>\n",
       "      <td>-0.295767</td>\n",
       "      <td>-1.592250</td>\n",
       "      <td>0.124464</td>\n",
       "    </tr>\n",
       "    <tr>\n",
       "      <th>2024-08-31</th>\n",
       "      <td>1.065619</td>\n",
       "      <td>1.143730</td>\n",
       "      <td>1.789567</td>\n",
       "      <td>1.522113</td>\n",
       "    </tr>\n",
       "  </tbody>\n",
       "</table>\n",
       "</div>"
      ],
      "text/plain": [
       "                   A         B         C         D\n",
       "2024-08-24  1.841859 -2.095025 -1.599813  0.290403\n",
       "2024-08-27  0.891978 -0.717233 -0.890150  1.381870\n",
       "2024-08-28  0.491197  1.038402 -1.111967 -0.764854\n",
       "2024-08-29  0.000603 -1.184322  1.700566  0.300647\n",
       "2024-08-30  0.493169 -0.295767 -1.592250  0.124464\n",
       "2024-08-31  1.065619  1.143730  1.789567  1.522113"
      ]
     },
     "execution_count": 51,
     "metadata": {},
     "output_type": "execute_result"
    }
   ],
   "source": [
    "df[df[\"A\"] > 0]"
   ]
  },
  {
   "cell_type": "markdown",
   "id": "7c498397-374f-4d8d-aa84-9e56f85add31",
   "metadata": {},
   "source": [
    "# Selecting values from a DataFrame where a boolean condition is met:"
   ]
  },
  {
   "cell_type": "code",
   "execution_count": 52,
   "id": "4e24a09f-b1c8-4175-94ab-f34773510e3a",
   "metadata": {},
   "outputs": [
    {
     "data": {
      "text/html": [
       "<div>\n",
       "<style scoped>\n",
       "    .dataframe tbody tr th:only-of-type {\n",
       "        vertical-align: middle;\n",
       "    }\n",
       "\n",
       "    .dataframe tbody tr th {\n",
       "        vertical-align: top;\n",
       "    }\n",
       "\n",
       "    .dataframe thead th {\n",
       "        text-align: right;\n",
       "    }\n",
       "</style>\n",
       "<table border=\"1\" class=\"dataframe\">\n",
       "  <thead>\n",
       "    <tr style=\"text-align: right;\">\n",
       "      <th></th>\n",
       "      <th>A</th>\n",
       "      <th>B</th>\n",
       "      <th>C</th>\n",
       "      <th>D</th>\n",
       "    </tr>\n",
       "  </thead>\n",
       "  <tbody>\n",
       "    <tr>\n",
       "      <th>2024-08-24</th>\n",
       "      <td>1.841859</td>\n",
       "      <td>NaN</td>\n",
       "      <td>NaN</td>\n",
       "      <td>0.290403</td>\n",
       "    </tr>\n",
       "    <tr>\n",
       "      <th>2024-08-25</th>\n",
       "      <td>NaN</td>\n",
       "      <td>NaN</td>\n",
       "      <td>0.951438</td>\n",
       "      <td>NaN</td>\n",
       "    </tr>\n",
       "    <tr>\n",
       "      <th>2024-08-26</th>\n",
       "      <td>NaN</td>\n",
       "      <td>2.526805</td>\n",
       "      <td>1.006789</td>\n",
       "      <td>0.980797</td>\n",
       "    </tr>\n",
       "    <tr>\n",
       "      <th>2024-08-27</th>\n",
       "      <td>0.891978</td>\n",
       "      <td>NaN</td>\n",
       "      <td>NaN</td>\n",
       "      <td>1.381870</td>\n",
       "    </tr>\n",
       "    <tr>\n",
       "      <th>2024-08-28</th>\n",
       "      <td>0.491197</td>\n",
       "      <td>1.038402</td>\n",
       "      <td>NaN</td>\n",
       "      <td>NaN</td>\n",
       "    </tr>\n",
       "    <tr>\n",
       "      <th>2024-08-29</th>\n",
       "      <td>0.000603</td>\n",
       "      <td>NaN</td>\n",
       "      <td>1.700566</td>\n",
       "      <td>0.300647</td>\n",
       "    </tr>\n",
       "    <tr>\n",
       "      <th>2024-08-30</th>\n",
       "      <td>0.493169</td>\n",
       "      <td>NaN</td>\n",
       "      <td>NaN</td>\n",
       "      <td>0.124464</td>\n",
       "    </tr>\n",
       "    <tr>\n",
       "      <th>2024-08-31</th>\n",
       "      <td>1.065619</td>\n",
       "      <td>1.143730</td>\n",
       "      <td>1.789567</td>\n",
       "      <td>1.522113</td>\n",
       "    </tr>\n",
       "  </tbody>\n",
       "</table>\n",
       "</div>"
      ],
      "text/plain": [
       "                   A         B         C         D\n",
       "2024-08-24  1.841859       NaN       NaN  0.290403\n",
       "2024-08-25       NaN       NaN  0.951438       NaN\n",
       "2024-08-26       NaN  2.526805  1.006789  0.980797\n",
       "2024-08-27  0.891978       NaN       NaN  1.381870\n",
       "2024-08-28  0.491197  1.038402       NaN       NaN\n",
       "2024-08-29  0.000603       NaN  1.700566  0.300647\n",
       "2024-08-30  0.493169       NaN       NaN  0.124464\n",
       "2024-08-31  1.065619  1.143730  1.789567  1.522113"
      ]
     },
     "execution_count": 52,
     "metadata": {},
     "output_type": "execute_result"
    }
   ],
   "source": [
    "df[df > 0]"
   ]
  },
  {
   "cell_type": "markdown",
   "id": "7f25ff56-7059-4aa2-81fd-0b389538120b",
   "metadata": {},
   "source": [
    "# Using isin() method for filtering:"
   ]
  },
  {
   "cell_type": "code",
   "execution_count": 53,
   "id": "eebd70f3-aa8a-4db6-bc1e-54ed23229ea3",
   "metadata": {},
   "outputs": [],
   "source": [
    "df2 = df.copy()"
   ]
  },
  {
   "cell_type": "code",
   "execution_count": 81,
   "id": "b175592e-cb95-4dd8-bdc0-9f2e4ffd1835",
   "metadata": {},
   "outputs": [
    {
     "ename": "ValueError",
     "evalue": "Length of values (7) does not match length of index (8)",
     "output_type": "error",
     "traceback": [
      "\u001b[1;31m---------------------------------------------------------------------------\u001b[0m",
      "\u001b[1;31mValueError\u001b[0m                                Traceback (most recent call last)",
      "Cell \u001b[1;32mIn[81], line 1\u001b[0m\n\u001b[1;32m----> 1\u001b[0m df2[\u001b[38;5;124m\"\u001b[39m\u001b[38;5;124mE\u001b[39m\u001b[38;5;124m\"\u001b[39m] \u001b[38;5;241m=\u001b[39m [\u001b[38;5;124m\"\u001b[39m\u001b[38;5;124mone\u001b[39m\u001b[38;5;124m\"\u001b[39m, \u001b[38;5;124m\"\u001b[39m\u001b[38;5;124mtwo\u001b[39m\u001b[38;5;124m\"\u001b[39m, \u001b[38;5;124m\"\u001b[39m\u001b[38;5;124mthree\u001b[39m\u001b[38;5;124m\"\u001b[39m, \u001b[38;5;124m\"\u001b[39m\u001b[38;5;124mfoure\u001b[39m\u001b[38;5;124m\"\u001b[39m, \u001b[38;5;124m\"\u001b[39m\u001b[38;5;124mfive\u001b[39m\u001b[38;5;124m\"\u001b[39m, \u001b[38;5;124m\"\u001b[39m\u001b[38;5;124msix\u001b[39m\u001b[38;5;124m\"\u001b[39m, \u001b[38;5;124m\"\u001b[39m\u001b[38;5;124mseven\u001b[39m\u001b[38;5;124m\"\u001b[39m]\n",
      "File \u001b[1;32m~\\AppData\\Local\\anaconda3\\Lib\\site-packages\\pandas\\core\\frame.py:4311\u001b[0m, in \u001b[0;36mDataFrame.__setitem__\u001b[1;34m(self, key, value)\u001b[0m\n\u001b[0;32m   4308\u001b[0m     \u001b[38;5;28mself\u001b[39m\u001b[38;5;241m.\u001b[39m_setitem_array([key], value)\n\u001b[0;32m   4309\u001b[0m \u001b[38;5;28;01melse\u001b[39;00m:\n\u001b[0;32m   4310\u001b[0m     \u001b[38;5;66;03m# set column\u001b[39;00m\n\u001b[1;32m-> 4311\u001b[0m     \u001b[38;5;28mself\u001b[39m\u001b[38;5;241m.\u001b[39m_set_item(key, value)\n",
      "File \u001b[1;32m~\\AppData\\Local\\anaconda3\\Lib\\site-packages\\pandas\\core\\frame.py:4524\u001b[0m, in \u001b[0;36mDataFrame._set_item\u001b[1;34m(self, key, value)\u001b[0m\n\u001b[0;32m   4514\u001b[0m \u001b[38;5;28;01mdef\u001b[39;00m \u001b[38;5;21m_set_item\u001b[39m(\u001b[38;5;28mself\u001b[39m, key, value) \u001b[38;5;241m-\u001b[39m\u001b[38;5;241m>\u001b[39m \u001b[38;5;28;01mNone\u001b[39;00m:\n\u001b[0;32m   4515\u001b[0m \u001b[38;5;250m    \u001b[39m\u001b[38;5;124;03m\"\"\"\u001b[39;00m\n\u001b[0;32m   4516\u001b[0m \u001b[38;5;124;03m    Add series to DataFrame in specified column.\u001b[39;00m\n\u001b[0;32m   4517\u001b[0m \n\u001b[1;32m   (...)\u001b[0m\n\u001b[0;32m   4522\u001b[0m \u001b[38;5;124;03m    ensure homogeneity.\u001b[39;00m\n\u001b[0;32m   4523\u001b[0m \u001b[38;5;124;03m    \"\"\"\u001b[39;00m\n\u001b[1;32m-> 4524\u001b[0m     value, refs \u001b[38;5;241m=\u001b[39m \u001b[38;5;28mself\u001b[39m\u001b[38;5;241m.\u001b[39m_sanitize_column(value)\n\u001b[0;32m   4526\u001b[0m     \u001b[38;5;28;01mif\u001b[39;00m (\n\u001b[0;32m   4527\u001b[0m         key \u001b[38;5;129;01min\u001b[39;00m \u001b[38;5;28mself\u001b[39m\u001b[38;5;241m.\u001b[39mcolumns\n\u001b[0;32m   4528\u001b[0m         \u001b[38;5;129;01mand\u001b[39;00m value\u001b[38;5;241m.\u001b[39mndim \u001b[38;5;241m==\u001b[39m \u001b[38;5;241m1\u001b[39m\n\u001b[0;32m   4529\u001b[0m         \u001b[38;5;129;01mand\u001b[39;00m \u001b[38;5;129;01mnot\u001b[39;00m \u001b[38;5;28misinstance\u001b[39m(value\u001b[38;5;241m.\u001b[39mdtype, ExtensionDtype)\n\u001b[0;32m   4530\u001b[0m     ):\n\u001b[0;32m   4531\u001b[0m         \u001b[38;5;66;03m# broadcast across multiple columns if necessary\u001b[39;00m\n\u001b[0;32m   4532\u001b[0m         \u001b[38;5;28;01mif\u001b[39;00m \u001b[38;5;129;01mnot\u001b[39;00m \u001b[38;5;28mself\u001b[39m\u001b[38;5;241m.\u001b[39mcolumns\u001b[38;5;241m.\u001b[39mis_unique \u001b[38;5;129;01mor\u001b[39;00m \u001b[38;5;28misinstance\u001b[39m(\u001b[38;5;28mself\u001b[39m\u001b[38;5;241m.\u001b[39mcolumns, MultiIndex):\n",
      "File \u001b[1;32m~\\AppData\\Local\\anaconda3\\Lib\\site-packages\\pandas\\core\\frame.py:5266\u001b[0m, in \u001b[0;36mDataFrame._sanitize_column\u001b[1;34m(self, value)\u001b[0m\n\u001b[0;32m   5263\u001b[0m     \u001b[38;5;28;01mreturn\u001b[39;00m _reindex_for_setitem(value, \u001b[38;5;28mself\u001b[39m\u001b[38;5;241m.\u001b[39mindex)\n\u001b[0;32m   5265\u001b[0m \u001b[38;5;28;01mif\u001b[39;00m is_list_like(value):\n\u001b[1;32m-> 5266\u001b[0m     com\u001b[38;5;241m.\u001b[39mrequire_length_match(value, \u001b[38;5;28mself\u001b[39m\u001b[38;5;241m.\u001b[39mindex)\n\u001b[0;32m   5267\u001b[0m arr \u001b[38;5;241m=\u001b[39m sanitize_array(value, \u001b[38;5;28mself\u001b[39m\u001b[38;5;241m.\u001b[39mindex, copy\u001b[38;5;241m=\u001b[39m\u001b[38;5;28;01mTrue\u001b[39;00m, allow_2d\u001b[38;5;241m=\u001b[39m\u001b[38;5;28;01mTrue\u001b[39;00m)\n\u001b[0;32m   5268\u001b[0m \u001b[38;5;28;01mif\u001b[39;00m (\n\u001b[0;32m   5269\u001b[0m     \u001b[38;5;28misinstance\u001b[39m(value, Index)\n\u001b[0;32m   5270\u001b[0m     \u001b[38;5;129;01mand\u001b[39;00m value\u001b[38;5;241m.\u001b[39mdtype \u001b[38;5;241m==\u001b[39m \u001b[38;5;124m\"\u001b[39m\u001b[38;5;124mobject\u001b[39m\u001b[38;5;124m\"\u001b[39m\n\u001b[1;32m   (...)\u001b[0m\n\u001b[0;32m   5273\u001b[0m     \u001b[38;5;66;03m# TODO: Remove kludge in sanitize_array for string mode when enforcing\u001b[39;00m\n\u001b[0;32m   5274\u001b[0m     \u001b[38;5;66;03m# this deprecation\u001b[39;00m\n",
      "File \u001b[1;32m~\\AppData\\Local\\anaconda3\\Lib\\site-packages\\pandas\\core\\common.py:573\u001b[0m, in \u001b[0;36mrequire_length_match\u001b[1;34m(data, index)\u001b[0m\n\u001b[0;32m    569\u001b[0m \u001b[38;5;250m\u001b[39m\u001b[38;5;124;03m\"\"\"\u001b[39;00m\n\u001b[0;32m    570\u001b[0m \u001b[38;5;124;03mCheck the length of data matches the length of the index.\u001b[39;00m\n\u001b[0;32m    571\u001b[0m \u001b[38;5;124;03m\"\"\"\u001b[39;00m\n\u001b[0;32m    572\u001b[0m \u001b[38;5;28;01mif\u001b[39;00m \u001b[38;5;28mlen\u001b[39m(data) \u001b[38;5;241m!=\u001b[39m \u001b[38;5;28mlen\u001b[39m(index):\n\u001b[1;32m--> 573\u001b[0m     \u001b[38;5;28;01mraise\u001b[39;00m \u001b[38;5;167;01mValueError\u001b[39;00m(\n\u001b[0;32m    574\u001b[0m         \u001b[38;5;124m\"\u001b[39m\u001b[38;5;124mLength of values \u001b[39m\u001b[38;5;124m\"\u001b[39m\n\u001b[0;32m    575\u001b[0m         \u001b[38;5;124mf\u001b[39m\u001b[38;5;124m\"\u001b[39m\u001b[38;5;124m(\u001b[39m\u001b[38;5;132;01m{\u001b[39;00m\u001b[38;5;28mlen\u001b[39m(data)\u001b[38;5;132;01m}\u001b[39;00m\u001b[38;5;124m) \u001b[39m\u001b[38;5;124m\"\u001b[39m\n\u001b[0;32m    576\u001b[0m         \u001b[38;5;124m\"\u001b[39m\u001b[38;5;124mdoes not match length of index \u001b[39m\u001b[38;5;124m\"\u001b[39m\n\u001b[0;32m    577\u001b[0m         \u001b[38;5;124mf\u001b[39m\u001b[38;5;124m\"\u001b[39m\u001b[38;5;124m(\u001b[39m\u001b[38;5;132;01m{\u001b[39;00m\u001b[38;5;28mlen\u001b[39m(index)\u001b[38;5;132;01m}\u001b[39;00m\u001b[38;5;124m)\u001b[39m\u001b[38;5;124m\"\u001b[39m\n\u001b[0;32m    578\u001b[0m     )\n",
      "\u001b[1;31mValueError\u001b[0m: Length of values (7) does not match length of index (8)"
     ]
    }
   ],
   "source": [
    "df2[\"E\"] = [\"one\", \"two\", \"three\", \"foure\", \"five\", \"six\", \"seven\"]"
   ]
  },
  {
   "cell_type": "code",
   "execution_count": 54,
   "id": "244387fe-df55-4521-b82d-0c65c17788a1",
   "metadata": {},
   "outputs": [],
   "source": [
    "df2[\"E\"] = [\"Zero\",\"one\", \"two\", \"three\", \"foure\", \"five\", \"six\", \"seven\"]"
   ]
  },
  {
   "cell_type": "code",
   "execution_count": 55,
   "id": "b4c616b0-a678-4a46-b42b-eecfe8b4a204",
   "metadata": {},
   "outputs": [
    {
     "data": {
      "text/html": [
       "<div>\n",
       "<style scoped>\n",
       "    .dataframe tbody tr th:only-of-type {\n",
       "        vertical-align: middle;\n",
       "    }\n",
       "\n",
       "    .dataframe tbody tr th {\n",
       "        vertical-align: top;\n",
       "    }\n",
       "\n",
       "    .dataframe thead th {\n",
       "        text-align: right;\n",
       "    }\n",
       "</style>\n",
       "<table border=\"1\" class=\"dataframe\">\n",
       "  <thead>\n",
       "    <tr style=\"text-align: right;\">\n",
       "      <th></th>\n",
       "      <th>A</th>\n",
       "      <th>B</th>\n",
       "      <th>C</th>\n",
       "      <th>D</th>\n",
       "      <th>E</th>\n",
       "    </tr>\n",
       "  </thead>\n",
       "  <tbody>\n",
       "    <tr>\n",
       "      <th>2024-08-24</th>\n",
       "      <td>1.841859</td>\n",
       "      <td>-2.095025</td>\n",
       "      <td>-1.599813</td>\n",
       "      <td>0.290403</td>\n",
       "      <td>Zero</td>\n",
       "    </tr>\n",
       "    <tr>\n",
       "      <th>2024-08-25</th>\n",
       "      <td>-0.901205</td>\n",
       "      <td>-0.059963</td>\n",
       "      <td>0.951438</td>\n",
       "      <td>-1.657837</td>\n",
       "      <td>one</td>\n",
       "    </tr>\n",
       "    <tr>\n",
       "      <th>2024-08-26</th>\n",
       "      <td>-0.604463</td>\n",
       "      <td>2.526805</td>\n",
       "      <td>1.006789</td>\n",
       "      <td>0.980797</td>\n",
       "      <td>two</td>\n",
       "    </tr>\n",
       "    <tr>\n",
       "      <th>2024-08-27</th>\n",
       "      <td>0.891978</td>\n",
       "      <td>-0.717233</td>\n",
       "      <td>-0.890150</td>\n",
       "      <td>1.381870</td>\n",
       "      <td>three</td>\n",
       "    </tr>\n",
       "    <tr>\n",
       "      <th>2024-08-28</th>\n",
       "      <td>0.491197</td>\n",
       "      <td>1.038402</td>\n",
       "      <td>-1.111967</td>\n",
       "      <td>-0.764854</td>\n",
       "      <td>foure</td>\n",
       "    </tr>\n",
       "    <tr>\n",
       "      <th>2024-08-29</th>\n",
       "      <td>0.000603</td>\n",
       "      <td>-1.184322</td>\n",
       "      <td>1.700566</td>\n",
       "      <td>0.300647</td>\n",
       "      <td>five</td>\n",
       "    </tr>\n",
       "    <tr>\n",
       "      <th>2024-08-30</th>\n",
       "      <td>0.493169</td>\n",
       "      <td>-0.295767</td>\n",
       "      <td>-1.592250</td>\n",
       "      <td>0.124464</td>\n",
       "      <td>six</td>\n",
       "    </tr>\n",
       "    <tr>\n",
       "      <th>2024-08-31</th>\n",
       "      <td>1.065619</td>\n",
       "      <td>1.143730</td>\n",
       "      <td>1.789567</td>\n",
       "      <td>1.522113</td>\n",
       "      <td>seven</td>\n",
       "    </tr>\n",
       "  </tbody>\n",
       "</table>\n",
       "</div>"
      ],
      "text/plain": [
       "                   A         B         C         D      E\n",
       "2024-08-24  1.841859 -2.095025 -1.599813  0.290403   Zero\n",
       "2024-08-25 -0.901205 -0.059963  0.951438 -1.657837    one\n",
       "2024-08-26 -0.604463  2.526805  1.006789  0.980797    two\n",
       "2024-08-27  0.891978 -0.717233 -0.890150  1.381870  three\n",
       "2024-08-28  0.491197  1.038402 -1.111967 -0.764854  foure\n",
       "2024-08-29  0.000603 -1.184322  1.700566  0.300647   five\n",
       "2024-08-30  0.493169 -0.295767 -1.592250  0.124464    six\n",
       "2024-08-31  1.065619  1.143730  1.789567  1.522113  seven"
      ]
     },
     "execution_count": 55,
     "metadata": {},
     "output_type": "execute_result"
    }
   ],
   "source": [
    "df2"
   ]
  },
  {
   "cell_type": "code",
   "execution_count": 56,
   "id": "90b49ac3-1405-4a94-af83-b16b700075ff",
   "metadata": {},
   "outputs": [
    {
     "data": {
      "text/html": [
       "<div>\n",
       "<style scoped>\n",
       "    .dataframe tbody tr th:only-of-type {\n",
       "        vertical-align: middle;\n",
       "    }\n",
       "\n",
       "    .dataframe tbody tr th {\n",
       "        vertical-align: top;\n",
       "    }\n",
       "\n",
       "    .dataframe thead th {\n",
       "        text-align: right;\n",
       "    }\n",
       "</style>\n",
       "<table border=\"1\" class=\"dataframe\">\n",
       "  <thead>\n",
       "    <tr style=\"text-align: right;\">\n",
       "      <th></th>\n",
       "      <th>A</th>\n",
       "      <th>B</th>\n",
       "      <th>C</th>\n",
       "      <th>D</th>\n",
       "      <th>E</th>\n",
       "    </tr>\n",
       "  </thead>\n",
       "  <tbody>\n",
       "    <tr>\n",
       "      <th>2024-08-26</th>\n",
       "      <td>-0.604463</td>\n",
       "      <td>2.526805</td>\n",
       "      <td>1.006789</td>\n",
       "      <td>0.980797</td>\n",
       "      <td>two</td>\n",
       "    </tr>\n",
       "    <tr>\n",
       "      <th>2024-08-30</th>\n",
       "      <td>0.493169</td>\n",
       "      <td>-0.295767</td>\n",
       "      <td>-1.592250</td>\n",
       "      <td>0.124464</td>\n",
       "      <td>six</td>\n",
       "    </tr>\n",
       "  </tbody>\n",
       "</table>\n",
       "</div>"
      ],
      "text/plain": [
       "                   A         B         C         D    E\n",
       "2024-08-26 -0.604463  2.526805  1.006789  0.980797  two\n",
       "2024-08-30  0.493169 -0.295767 -1.592250  0.124464  six"
      ]
     },
     "execution_count": 56,
     "metadata": {},
     "output_type": "execute_result"
    }
   ],
   "source": [
    "df2[df2[\"E\"].isin([\"two\", \"six\"])]"
   ]
  },
  {
   "cell_type": "markdown",
   "id": "a4c3cc80-398c-4d13-b755-b09ee8c40abe",
   "metadata": {},
   "source": [
    "# Setting"
   ]
  },
  {
   "cell_type": "markdown",
   "id": "f47868ad-2457-4cf8-b5ad-63a5f0e63394",
   "metadata": {},
   "source": [
    "# Setting a new coloum automaticaly aligns the dara by the indexes"
   ]
  },
  {
   "cell_type": "code",
   "execution_count": 57,
   "id": "4595cc6e-dfa8-4b50-bfa5-c5a08c21a534",
   "metadata": {},
   "outputs": [],
   "source": [
    "s1 = pd.Series([1,2,3,4,5,6], index = pd.date_range(\"20240828\", periods=6 ))"
   ]
  },
  {
   "cell_type": "code",
   "execution_count": 58,
   "id": "190be09f-266f-404c-966b-955d3e74dc7d",
   "metadata": {},
   "outputs": [
    {
     "data": {
      "text/plain": [
       "2024-08-28    1\n",
       "2024-08-29    2\n",
       "2024-08-30    3\n",
       "2024-08-31    4\n",
       "2024-09-01    5\n",
       "2024-09-02    6\n",
       "Freq: D, dtype: int64"
      ]
     },
     "execution_count": 58,
     "metadata": {},
     "output_type": "execute_result"
    }
   ],
   "source": [
    "s1"
   ]
  },
  {
   "cell_type": "code",
   "execution_count": 59,
   "id": "c8f87212-98bf-46e9-80bc-fe7e7d6f49a6",
   "metadata": {},
   "outputs": [],
   "source": [
    "df[\"f\"]  = s1"
   ]
  },
  {
   "cell_type": "code",
   "execution_count": 60,
   "id": "732ab862-3d2a-4652-b063-b3e25d2d5d11",
   "metadata": {},
   "outputs": [
    {
     "data": {
      "text/html": [
       "<div>\n",
       "<style scoped>\n",
       "    .dataframe tbody tr th:only-of-type {\n",
       "        vertical-align: middle;\n",
       "    }\n",
       "\n",
       "    .dataframe tbody tr th {\n",
       "        vertical-align: top;\n",
       "    }\n",
       "\n",
       "    .dataframe thead th {\n",
       "        text-align: right;\n",
       "    }\n",
       "</style>\n",
       "<table border=\"1\" class=\"dataframe\">\n",
       "  <thead>\n",
       "    <tr style=\"text-align: right;\">\n",
       "      <th></th>\n",
       "      <th>A</th>\n",
       "      <th>B</th>\n",
       "      <th>C</th>\n",
       "      <th>D</th>\n",
       "      <th>f</th>\n",
       "    </tr>\n",
       "  </thead>\n",
       "  <tbody>\n",
       "    <tr>\n",
       "      <th>2024-08-24</th>\n",
       "      <td>1.841859</td>\n",
       "      <td>-2.095025</td>\n",
       "      <td>-1.599813</td>\n",
       "      <td>0.290403</td>\n",
       "      <td>NaN</td>\n",
       "    </tr>\n",
       "    <tr>\n",
       "      <th>2024-08-25</th>\n",
       "      <td>-0.901205</td>\n",
       "      <td>-0.059963</td>\n",
       "      <td>0.951438</td>\n",
       "      <td>-1.657837</td>\n",
       "      <td>NaN</td>\n",
       "    </tr>\n",
       "    <tr>\n",
       "      <th>2024-08-26</th>\n",
       "      <td>-0.604463</td>\n",
       "      <td>2.526805</td>\n",
       "      <td>1.006789</td>\n",
       "      <td>0.980797</td>\n",
       "      <td>NaN</td>\n",
       "    </tr>\n",
       "    <tr>\n",
       "      <th>2024-08-27</th>\n",
       "      <td>0.891978</td>\n",
       "      <td>-0.717233</td>\n",
       "      <td>-0.890150</td>\n",
       "      <td>1.381870</td>\n",
       "      <td>NaN</td>\n",
       "    </tr>\n",
       "    <tr>\n",
       "      <th>2024-08-28</th>\n",
       "      <td>0.491197</td>\n",
       "      <td>1.038402</td>\n",
       "      <td>-1.111967</td>\n",
       "      <td>-0.764854</td>\n",
       "      <td>1.0</td>\n",
       "    </tr>\n",
       "    <tr>\n",
       "      <th>2024-08-29</th>\n",
       "      <td>0.000603</td>\n",
       "      <td>-1.184322</td>\n",
       "      <td>1.700566</td>\n",
       "      <td>0.300647</td>\n",
       "      <td>2.0</td>\n",
       "    </tr>\n",
       "    <tr>\n",
       "      <th>2024-08-30</th>\n",
       "      <td>0.493169</td>\n",
       "      <td>-0.295767</td>\n",
       "      <td>-1.592250</td>\n",
       "      <td>0.124464</td>\n",
       "      <td>3.0</td>\n",
       "    </tr>\n",
       "    <tr>\n",
       "      <th>2024-08-31</th>\n",
       "      <td>1.065619</td>\n",
       "      <td>1.143730</td>\n",
       "      <td>1.789567</td>\n",
       "      <td>1.522113</td>\n",
       "      <td>4.0</td>\n",
       "    </tr>\n",
       "  </tbody>\n",
       "</table>\n",
       "</div>"
      ],
      "text/plain": [
       "                   A         B         C         D    f\n",
       "2024-08-24  1.841859 -2.095025 -1.599813  0.290403  NaN\n",
       "2024-08-25 -0.901205 -0.059963  0.951438 -1.657837  NaN\n",
       "2024-08-26 -0.604463  2.526805  1.006789  0.980797  NaN\n",
       "2024-08-27  0.891978 -0.717233 -0.890150  1.381870  NaN\n",
       "2024-08-28  0.491197  1.038402 -1.111967 -0.764854  1.0\n",
       "2024-08-29  0.000603 -1.184322  1.700566  0.300647  2.0\n",
       "2024-08-30  0.493169 -0.295767 -1.592250  0.124464  3.0\n",
       "2024-08-31  1.065619  1.143730  1.789567  1.522113  4.0"
      ]
     },
     "execution_count": 60,
     "metadata": {},
     "output_type": "execute_result"
    }
   ],
   "source": [
    "df"
   ]
  },
  {
   "cell_type": "markdown",
   "id": "285d65d3-fda0-4643-b364-33fc5d4962b7",
   "metadata": {},
   "source": [
    "# Setting values by label:"
   ]
  },
  {
   "cell_type": "code",
   "execution_count": 61,
   "id": "18b626af-933a-4957-89af-7487d2f6dc15",
   "metadata": {},
   "outputs": [],
   "source": [
    "df.at[dates[0], \"A\"] = 0"
   ]
  },
  {
   "cell_type": "code",
   "execution_count": 62,
   "id": "a9f69a45-1137-499b-b224-949813440527",
   "metadata": {},
   "outputs": [
    {
     "data": {
      "text/html": [
       "<div>\n",
       "<style scoped>\n",
       "    .dataframe tbody tr th:only-of-type {\n",
       "        vertical-align: middle;\n",
       "    }\n",
       "\n",
       "    .dataframe tbody tr th {\n",
       "        vertical-align: top;\n",
       "    }\n",
       "\n",
       "    .dataframe thead th {\n",
       "        text-align: right;\n",
       "    }\n",
       "</style>\n",
       "<table border=\"1\" class=\"dataframe\">\n",
       "  <thead>\n",
       "    <tr style=\"text-align: right;\">\n",
       "      <th></th>\n",
       "      <th>A</th>\n",
       "      <th>B</th>\n",
       "      <th>C</th>\n",
       "      <th>D</th>\n",
       "      <th>f</th>\n",
       "    </tr>\n",
       "  </thead>\n",
       "  <tbody>\n",
       "    <tr>\n",
       "      <th>2024-08-24</th>\n",
       "      <td>0.000000</td>\n",
       "      <td>-2.095025</td>\n",
       "      <td>-1.599813</td>\n",
       "      <td>0.290403</td>\n",
       "      <td>NaN</td>\n",
       "    </tr>\n",
       "    <tr>\n",
       "      <th>2024-08-25</th>\n",
       "      <td>-0.901205</td>\n",
       "      <td>-0.059963</td>\n",
       "      <td>0.951438</td>\n",
       "      <td>-1.657837</td>\n",
       "      <td>NaN</td>\n",
       "    </tr>\n",
       "    <tr>\n",
       "      <th>2024-08-26</th>\n",
       "      <td>-0.604463</td>\n",
       "      <td>2.526805</td>\n",
       "      <td>1.006789</td>\n",
       "      <td>0.980797</td>\n",
       "      <td>NaN</td>\n",
       "    </tr>\n",
       "    <tr>\n",
       "      <th>2024-08-27</th>\n",
       "      <td>0.891978</td>\n",
       "      <td>-0.717233</td>\n",
       "      <td>-0.890150</td>\n",
       "      <td>1.381870</td>\n",
       "      <td>NaN</td>\n",
       "    </tr>\n",
       "    <tr>\n",
       "      <th>2024-08-28</th>\n",
       "      <td>0.491197</td>\n",
       "      <td>1.038402</td>\n",
       "      <td>-1.111967</td>\n",
       "      <td>-0.764854</td>\n",
       "      <td>1.0</td>\n",
       "    </tr>\n",
       "    <tr>\n",
       "      <th>2024-08-29</th>\n",
       "      <td>0.000603</td>\n",
       "      <td>-1.184322</td>\n",
       "      <td>1.700566</td>\n",
       "      <td>0.300647</td>\n",
       "      <td>2.0</td>\n",
       "    </tr>\n",
       "    <tr>\n",
       "      <th>2024-08-30</th>\n",
       "      <td>0.493169</td>\n",
       "      <td>-0.295767</td>\n",
       "      <td>-1.592250</td>\n",
       "      <td>0.124464</td>\n",
       "      <td>3.0</td>\n",
       "    </tr>\n",
       "    <tr>\n",
       "      <th>2024-08-31</th>\n",
       "      <td>1.065619</td>\n",
       "      <td>1.143730</td>\n",
       "      <td>1.789567</td>\n",
       "      <td>1.522113</td>\n",
       "      <td>4.0</td>\n",
       "    </tr>\n",
       "  </tbody>\n",
       "</table>\n",
       "</div>"
      ],
      "text/plain": [
       "                   A         B         C         D    f\n",
       "2024-08-24  0.000000 -2.095025 -1.599813  0.290403  NaN\n",
       "2024-08-25 -0.901205 -0.059963  0.951438 -1.657837  NaN\n",
       "2024-08-26 -0.604463  2.526805  1.006789  0.980797  NaN\n",
       "2024-08-27  0.891978 -0.717233 -0.890150  1.381870  NaN\n",
       "2024-08-28  0.491197  1.038402 -1.111967 -0.764854  1.0\n",
       "2024-08-29  0.000603 -1.184322  1.700566  0.300647  2.0\n",
       "2024-08-30  0.493169 -0.295767 -1.592250  0.124464  3.0\n",
       "2024-08-31  1.065619  1.143730  1.789567  1.522113  4.0"
      ]
     },
     "execution_count": 62,
     "metadata": {},
     "output_type": "execute_result"
    }
   ],
   "source": [
    "df"
   ]
  },
  {
   "cell_type": "markdown",
   "id": "3b73df5d-2253-475c-ba9b-35e7c4451c29",
   "metadata": {},
   "source": [
    "# Setting values by position:"
   ]
  },
  {
   "cell_type": "code",
   "execution_count": 63,
   "id": "aa7bedbb-6a78-450b-a1f6-9f506206c323",
   "metadata": {},
   "outputs": [],
   "source": [
    "df.iat[0 , 1] = 0"
   ]
  },
  {
   "cell_type": "code",
   "execution_count": 64,
   "id": "b58d9deb-b188-49ee-9dcb-75acb9d2037b",
   "metadata": {},
   "outputs": [
    {
     "data": {
      "text/html": [
       "<div>\n",
       "<style scoped>\n",
       "    .dataframe tbody tr th:only-of-type {\n",
       "        vertical-align: middle;\n",
       "    }\n",
       "\n",
       "    .dataframe tbody tr th {\n",
       "        vertical-align: top;\n",
       "    }\n",
       "\n",
       "    .dataframe thead th {\n",
       "        text-align: right;\n",
       "    }\n",
       "</style>\n",
       "<table border=\"1\" class=\"dataframe\">\n",
       "  <thead>\n",
       "    <tr style=\"text-align: right;\">\n",
       "      <th></th>\n",
       "      <th>A</th>\n",
       "      <th>B</th>\n",
       "      <th>C</th>\n",
       "      <th>D</th>\n",
       "      <th>f</th>\n",
       "    </tr>\n",
       "  </thead>\n",
       "  <tbody>\n",
       "    <tr>\n",
       "      <th>2024-08-24</th>\n",
       "      <td>0.000000</td>\n",
       "      <td>0.000000</td>\n",
       "      <td>-1.599813</td>\n",
       "      <td>0.290403</td>\n",
       "      <td>NaN</td>\n",
       "    </tr>\n",
       "    <tr>\n",
       "      <th>2024-08-25</th>\n",
       "      <td>-0.901205</td>\n",
       "      <td>-0.059963</td>\n",
       "      <td>0.951438</td>\n",
       "      <td>-1.657837</td>\n",
       "      <td>NaN</td>\n",
       "    </tr>\n",
       "    <tr>\n",
       "      <th>2024-08-26</th>\n",
       "      <td>-0.604463</td>\n",
       "      <td>2.526805</td>\n",
       "      <td>1.006789</td>\n",
       "      <td>0.980797</td>\n",
       "      <td>NaN</td>\n",
       "    </tr>\n",
       "    <tr>\n",
       "      <th>2024-08-27</th>\n",
       "      <td>0.891978</td>\n",
       "      <td>-0.717233</td>\n",
       "      <td>-0.890150</td>\n",
       "      <td>1.381870</td>\n",
       "      <td>NaN</td>\n",
       "    </tr>\n",
       "    <tr>\n",
       "      <th>2024-08-28</th>\n",
       "      <td>0.491197</td>\n",
       "      <td>1.038402</td>\n",
       "      <td>-1.111967</td>\n",
       "      <td>-0.764854</td>\n",
       "      <td>1.0</td>\n",
       "    </tr>\n",
       "    <tr>\n",
       "      <th>2024-08-29</th>\n",
       "      <td>0.000603</td>\n",
       "      <td>-1.184322</td>\n",
       "      <td>1.700566</td>\n",
       "      <td>0.300647</td>\n",
       "      <td>2.0</td>\n",
       "    </tr>\n",
       "    <tr>\n",
       "      <th>2024-08-30</th>\n",
       "      <td>0.493169</td>\n",
       "      <td>-0.295767</td>\n",
       "      <td>-1.592250</td>\n",
       "      <td>0.124464</td>\n",
       "      <td>3.0</td>\n",
       "    </tr>\n",
       "    <tr>\n",
       "      <th>2024-08-31</th>\n",
       "      <td>1.065619</td>\n",
       "      <td>1.143730</td>\n",
       "      <td>1.789567</td>\n",
       "      <td>1.522113</td>\n",
       "      <td>4.0</td>\n",
       "    </tr>\n",
       "  </tbody>\n",
       "</table>\n",
       "</div>"
      ],
      "text/plain": [
       "                   A         B         C         D    f\n",
       "2024-08-24  0.000000  0.000000 -1.599813  0.290403  NaN\n",
       "2024-08-25 -0.901205 -0.059963  0.951438 -1.657837  NaN\n",
       "2024-08-26 -0.604463  2.526805  1.006789  0.980797  NaN\n",
       "2024-08-27  0.891978 -0.717233 -0.890150  1.381870  NaN\n",
       "2024-08-28  0.491197  1.038402 -1.111967 -0.764854  1.0\n",
       "2024-08-29  0.000603 -1.184322  1.700566  0.300647  2.0\n",
       "2024-08-30  0.493169 -0.295767 -1.592250  0.124464  3.0\n",
       "2024-08-31  1.065619  1.143730  1.789567  1.522113  4.0"
      ]
     },
     "execution_count": 64,
     "metadata": {},
     "output_type": "execute_result"
    }
   ],
   "source": [
    "df"
   ]
  },
  {
   "cell_type": "markdown",
   "id": "81b6481a-bd95-4e27-968a-7b91b042a2c2",
   "metadata": {},
   "source": [
    "# Setting by assigning with a NumPy array:"
   ]
  },
  {
   "cell_type": "code",
   "execution_count": 65,
   "id": "f8f15574-8809-4f32-97a7-870b2edd1e96",
   "metadata": {},
   "outputs": [],
   "source": [
    "df.loc[:, \"D\"]= np.array([5]*len(df))"
   ]
  },
  {
   "cell_type": "code",
   "execution_count": 66,
   "id": "03443776-9a5c-4b2f-a6ec-0fd52ad589a5",
   "metadata": {},
   "outputs": [
    {
     "data": {
      "text/html": [
       "<div>\n",
       "<style scoped>\n",
       "    .dataframe tbody tr th:only-of-type {\n",
       "        vertical-align: middle;\n",
       "    }\n",
       "\n",
       "    .dataframe tbody tr th {\n",
       "        vertical-align: top;\n",
       "    }\n",
       "\n",
       "    .dataframe thead th {\n",
       "        text-align: right;\n",
       "    }\n",
       "</style>\n",
       "<table border=\"1\" class=\"dataframe\">\n",
       "  <thead>\n",
       "    <tr style=\"text-align: right;\">\n",
       "      <th></th>\n",
       "      <th>A</th>\n",
       "      <th>B</th>\n",
       "      <th>C</th>\n",
       "      <th>D</th>\n",
       "      <th>f</th>\n",
       "    </tr>\n",
       "  </thead>\n",
       "  <tbody>\n",
       "    <tr>\n",
       "      <th>2024-08-24</th>\n",
       "      <td>0.000000</td>\n",
       "      <td>0.000000</td>\n",
       "      <td>-1.599813</td>\n",
       "      <td>5.0</td>\n",
       "      <td>NaN</td>\n",
       "    </tr>\n",
       "    <tr>\n",
       "      <th>2024-08-25</th>\n",
       "      <td>-0.901205</td>\n",
       "      <td>-0.059963</td>\n",
       "      <td>0.951438</td>\n",
       "      <td>5.0</td>\n",
       "      <td>NaN</td>\n",
       "    </tr>\n",
       "    <tr>\n",
       "      <th>2024-08-26</th>\n",
       "      <td>-0.604463</td>\n",
       "      <td>2.526805</td>\n",
       "      <td>1.006789</td>\n",
       "      <td>5.0</td>\n",
       "      <td>NaN</td>\n",
       "    </tr>\n",
       "    <tr>\n",
       "      <th>2024-08-27</th>\n",
       "      <td>0.891978</td>\n",
       "      <td>-0.717233</td>\n",
       "      <td>-0.890150</td>\n",
       "      <td>5.0</td>\n",
       "      <td>NaN</td>\n",
       "    </tr>\n",
       "    <tr>\n",
       "      <th>2024-08-28</th>\n",
       "      <td>0.491197</td>\n",
       "      <td>1.038402</td>\n",
       "      <td>-1.111967</td>\n",
       "      <td>5.0</td>\n",
       "      <td>1.0</td>\n",
       "    </tr>\n",
       "    <tr>\n",
       "      <th>2024-08-29</th>\n",
       "      <td>0.000603</td>\n",
       "      <td>-1.184322</td>\n",
       "      <td>1.700566</td>\n",
       "      <td>5.0</td>\n",
       "      <td>2.0</td>\n",
       "    </tr>\n",
       "    <tr>\n",
       "      <th>2024-08-30</th>\n",
       "      <td>0.493169</td>\n",
       "      <td>-0.295767</td>\n",
       "      <td>-1.592250</td>\n",
       "      <td>5.0</td>\n",
       "      <td>3.0</td>\n",
       "    </tr>\n",
       "    <tr>\n",
       "      <th>2024-08-31</th>\n",
       "      <td>1.065619</td>\n",
       "      <td>1.143730</td>\n",
       "      <td>1.789567</td>\n",
       "      <td>5.0</td>\n",
       "      <td>4.0</td>\n",
       "    </tr>\n",
       "  </tbody>\n",
       "</table>\n",
       "</div>"
      ],
      "text/plain": [
       "                   A         B         C    D    f\n",
       "2024-08-24  0.000000  0.000000 -1.599813  5.0  NaN\n",
       "2024-08-25 -0.901205 -0.059963  0.951438  5.0  NaN\n",
       "2024-08-26 -0.604463  2.526805  1.006789  5.0  NaN\n",
       "2024-08-27  0.891978 -0.717233 -0.890150  5.0  NaN\n",
       "2024-08-28  0.491197  1.038402 -1.111967  5.0  1.0\n",
       "2024-08-29  0.000603 -1.184322  1.700566  5.0  2.0\n",
       "2024-08-30  0.493169 -0.295767 -1.592250  5.0  3.0\n",
       "2024-08-31  1.065619  1.143730  1.789567  5.0  4.0"
      ]
     },
     "execution_count": 66,
     "metadata": {},
     "output_type": "execute_result"
    }
   ],
   "source": [
    "df"
   ]
  },
  {
   "cell_type": "markdown",
   "id": "888da7ab-e198-4927-8289-1b35339200f9",
   "metadata": {},
   "source": [
    "# where operation with setting:"
   ]
  },
  {
   "cell_type": "code",
   "execution_count": 67,
   "id": "3176a953-69e4-4cba-aa1f-b350743e1c21",
   "metadata": {},
   "outputs": [],
   "source": [
    "df2 = df.copy()"
   ]
  },
  {
   "cell_type": "code",
   "execution_count": 68,
   "id": "3129b981-7f83-4d13-b2c2-e725afc77f0f",
   "metadata": {},
   "outputs": [],
   "source": [
    "df2[df2>0] = -df2"
   ]
  },
  {
   "cell_type": "code",
   "execution_count": 69,
   "id": "8850b4e7-fc80-45fa-a70b-f5937394fbe8",
   "metadata": {},
   "outputs": [
    {
     "data": {
      "text/html": [
       "<div>\n",
       "<style scoped>\n",
       "    .dataframe tbody tr th:only-of-type {\n",
       "        vertical-align: middle;\n",
       "    }\n",
       "\n",
       "    .dataframe tbody tr th {\n",
       "        vertical-align: top;\n",
       "    }\n",
       "\n",
       "    .dataframe thead th {\n",
       "        text-align: right;\n",
       "    }\n",
       "</style>\n",
       "<table border=\"1\" class=\"dataframe\">\n",
       "  <thead>\n",
       "    <tr style=\"text-align: right;\">\n",
       "      <th></th>\n",
       "      <th>A</th>\n",
       "      <th>B</th>\n",
       "      <th>C</th>\n",
       "      <th>D</th>\n",
       "      <th>f</th>\n",
       "    </tr>\n",
       "  </thead>\n",
       "  <tbody>\n",
       "    <tr>\n",
       "      <th>2024-08-24</th>\n",
       "      <td>0.000000</td>\n",
       "      <td>0.000000</td>\n",
       "      <td>-1.599813</td>\n",
       "      <td>-5.0</td>\n",
       "      <td>NaN</td>\n",
       "    </tr>\n",
       "    <tr>\n",
       "      <th>2024-08-25</th>\n",
       "      <td>-0.901205</td>\n",
       "      <td>-0.059963</td>\n",
       "      <td>-0.951438</td>\n",
       "      <td>-5.0</td>\n",
       "      <td>NaN</td>\n",
       "    </tr>\n",
       "    <tr>\n",
       "      <th>2024-08-26</th>\n",
       "      <td>-0.604463</td>\n",
       "      <td>-2.526805</td>\n",
       "      <td>-1.006789</td>\n",
       "      <td>-5.0</td>\n",
       "      <td>NaN</td>\n",
       "    </tr>\n",
       "    <tr>\n",
       "      <th>2024-08-27</th>\n",
       "      <td>-0.891978</td>\n",
       "      <td>-0.717233</td>\n",
       "      <td>-0.890150</td>\n",
       "      <td>-5.0</td>\n",
       "      <td>NaN</td>\n",
       "    </tr>\n",
       "    <tr>\n",
       "      <th>2024-08-28</th>\n",
       "      <td>-0.491197</td>\n",
       "      <td>-1.038402</td>\n",
       "      <td>-1.111967</td>\n",
       "      <td>-5.0</td>\n",
       "      <td>-1.0</td>\n",
       "    </tr>\n",
       "    <tr>\n",
       "      <th>2024-08-29</th>\n",
       "      <td>-0.000603</td>\n",
       "      <td>-1.184322</td>\n",
       "      <td>-1.700566</td>\n",
       "      <td>-5.0</td>\n",
       "      <td>-2.0</td>\n",
       "    </tr>\n",
       "    <tr>\n",
       "      <th>2024-08-30</th>\n",
       "      <td>-0.493169</td>\n",
       "      <td>-0.295767</td>\n",
       "      <td>-1.592250</td>\n",
       "      <td>-5.0</td>\n",
       "      <td>-3.0</td>\n",
       "    </tr>\n",
       "    <tr>\n",
       "      <th>2024-08-31</th>\n",
       "      <td>-1.065619</td>\n",
       "      <td>-1.143730</td>\n",
       "      <td>-1.789567</td>\n",
       "      <td>-5.0</td>\n",
       "      <td>-4.0</td>\n",
       "    </tr>\n",
       "  </tbody>\n",
       "</table>\n",
       "</div>"
      ],
      "text/plain": [
       "                   A         B         C    D    f\n",
       "2024-08-24  0.000000  0.000000 -1.599813 -5.0  NaN\n",
       "2024-08-25 -0.901205 -0.059963 -0.951438 -5.0  NaN\n",
       "2024-08-26 -0.604463 -2.526805 -1.006789 -5.0  NaN\n",
       "2024-08-27 -0.891978 -0.717233 -0.890150 -5.0  NaN\n",
       "2024-08-28 -0.491197 -1.038402 -1.111967 -5.0 -1.0\n",
       "2024-08-29 -0.000603 -1.184322 -1.700566 -5.0 -2.0\n",
       "2024-08-30 -0.493169 -0.295767 -1.592250 -5.0 -3.0\n",
       "2024-08-31 -1.065619 -1.143730 -1.789567 -5.0 -4.0"
      ]
     },
     "execution_count": 69,
     "metadata": {},
     "output_type": "execute_result"
    }
   ],
   "source": [
    "df2"
   ]
  },
  {
   "cell_type": "markdown",
   "id": "26540b13-96b8-4b35-8296-edd91d4e70a8",
   "metadata": {},
   "source": [
    "# -------------------------------------------------------"
   ]
  },
  {
   "cell_type": "markdown",
   "id": "b6b20b34-1ede-4acc-9910-c1dce2c268be",
   "metadata": {},
   "source": [
    "# Missing data"
   ]
  },
  {
   "cell_type": "markdown",
   "id": "4098111c-e295-485e-9ad1-cde0c37015e6",
   "metadata": {},
   "source": [
    "For NumPy data types, np.nan represents missing data. It is by default not included in computations. See the Missing Data section."
   ]
  },
  {
   "cell_type": "markdown",
   "id": "901d013e-2f0b-4820-8993-88206ae906c2",
   "metadata": {},
   "source": [
    "# Reindexing allows you to change/add/delete the index on a specified axis. This returns a copy of the data:"
   ]
  },
  {
   "cell_type": "code",
   "execution_count": 70,
   "id": "63fe788a-1dca-4c6d-a192-000a2c056270",
   "metadata": {},
   "outputs": [],
   "source": [
    "df1 = df.reindex(index=dates[0:4], columns=list(df.columns) + [\"E\"])"
   ]
  },
  {
   "cell_type": "code",
   "execution_count": 71,
   "id": "328b6c45-52d7-4dcc-8e7c-f1fb86578f1c",
   "metadata": {},
   "outputs": [
    {
     "data": {
      "text/html": [
       "<div>\n",
       "<style scoped>\n",
       "    .dataframe tbody tr th:only-of-type {\n",
       "        vertical-align: middle;\n",
       "    }\n",
       "\n",
       "    .dataframe tbody tr th {\n",
       "        vertical-align: top;\n",
       "    }\n",
       "\n",
       "    .dataframe thead th {\n",
       "        text-align: right;\n",
       "    }\n",
       "</style>\n",
       "<table border=\"1\" class=\"dataframe\">\n",
       "  <thead>\n",
       "    <tr style=\"text-align: right;\">\n",
       "      <th></th>\n",
       "      <th>A</th>\n",
       "      <th>B</th>\n",
       "      <th>C</th>\n",
       "      <th>D</th>\n",
       "      <th>f</th>\n",
       "      <th>E</th>\n",
       "    </tr>\n",
       "  </thead>\n",
       "  <tbody>\n",
       "    <tr>\n",
       "      <th>2024-08-24</th>\n",
       "      <td>0.000000</td>\n",
       "      <td>0.000000</td>\n",
       "      <td>-1.599813</td>\n",
       "      <td>5.0</td>\n",
       "      <td>NaN</td>\n",
       "      <td>NaN</td>\n",
       "    </tr>\n",
       "    <tr>\n",
       "      <th>2024-08-25</th>\n",
       "      <td>-0.901205</td>\n",
       "      <td>-0.059963</td>\n",
       "      <td>0.951438</td>\n",
       "      <td>5.0</td>\n",
       "      <td>NaN</td>\n",
       "      <td>NaN</td>\n",
       "    </tr>\n",
       "    <tr>\n",
       "      <th>2024-08-26</th>\n",
       "      <td>-0.604463</td>\n",
       "      <td>2.526805</td>\n",
       "      <td>1.006789</td>\n",
       "      <td>5.0</td>\n",
       "      <td>NaN</td>\n",
       "      <td>NaN</td>\n",
       "    </tr>\n",
       "    <tr>\n",
       "      <th>2024-08-27</th>\n",
       "      <td>0.891978</td>\n",
       "      <td>-0.717233</td>\n",
       "      <td>-0.890150</td>\n",
       "      <td>5.0</td>\n",
       "      <td>NaN</td>\n",
       "      <td>NaN</td>\n",
       "    </tr>\n",
       "  </tbody>\n",
       "</table>\n",
       "</div>"
      ],
      "text/plain": [
       "                   A         B         C    D   f   E\n",
       "2024-08-24  0.000000  0.000000 -1.599813  5.0 NaN NaN\n",
       "2024-08-25 -0.901205 -0.059963  0.951438  5.0 NaN NaN\n",
       "2024-08-26 -0.604463  2.526805  1.006789  5.0 NaN NaN\n",
       "2024-08-27  0.891978 -0.717233 -0.890150  5.0 NaN NaN"
      ]
     },
     "execution_count": 71,
     "metadata": {},
     "output_type": "execute_result"
    }
   ],
   "source": [
    "df1"
   ]
  },
  {
   "cell_type": "code",
   "execution_count": 72,
   "id": "f5a4eba5-0bc2-4836-b0ac-ed8230b99a74",
   "metadata": {},
   "outputs": [],
   "source": [
    "df1.loc[dates[0] : dates[1], \"E\"]=1"
   ]
  },
  {
   "cell_type": "code",
   "execution_count": 73,
   "id": "965f24a6-0b39-4b1b-9998-9ab4b79174cd",
   "metadata": {},
   "outputs": [
    {
     "data": {
      "text/html": [
       "<div>\n",
       "<style scoped>\n",
       "    .dataframe tbody tr th:only-of-type {\n",
       "        vertical-align: middle;\n",
       "    }\n",
       "\n",
       "    .dataframe tbody tr th {\n",
       "        vertical-align: top;\n",
       "    }\n",
       "\n",
       "    .dataframe thead th {\n",
       "        text-align: right;\n",
       "    }\n",
       "</style>\n",
       "<table border=\"1\" class=\"dataframe\">\n",
       "  <thead>\n",
       "    <tr style=\"text-align: right;\">\n",
       "      <th></th>\n",
       "      <th>A</th>\n",
       "      <th>B</th>\n",
       "      <th>C</th>\n",
       "      <th>D</th>\n",
       "      <th>f</th>\n",
       "      <th>E</th>\n",
       "    </tr>\n",
       "  </thead>\n",
       "  <tbody>\n",
       "    <tr>\n",
       "      <th>2024-08-24</th>\n",
       "      <td>0.000000</td>\n",
       "      <td>0.000000</td>\n",
       "      <td>-1.599813</td>\n",
       "      <td>5.0</td>\n",
       "      <td>NaN</td>\n",
       "      <td>1.0</td>\n",
       "    </tr>\n",
       "    <tr>\n",
       "      <th>2024-08-25</th>\n",
       "      <td>-0.901205</td>\n",
       "      <td>-0.059963</td>\n",
       "      <td>0.951438</td>\n",
       "      <td>5.0</td>\n",
       "      <td>NaN</td>\n",
       "      <td>1.0</td>\n",
       "    </tr>\n",
       "    <tr>\n",
       "      <th>2024-08-26</th>\n",
       "      <td>-0.604463</td>\n",
       "      <td>2.526805</td>\n",
       "      <td>1.006789</td>\n",
       "      <td>5.0</td>\n",
       "      <td>NaN</td>\n",
       "      <td>NaN</td>\n",
       "    </tr>\n",
       "    <tr>\n",
       "      <th>2024-08-27</th>\n",
       "      <td>0.891978</td>\n",
       "      <td>-0.717233</td>\n",
       "      <td>-0.890150</td>\n",
       "      <td>5.0</td>\n",
       "      <td>NaN</td>\n",
       "      <td>NaN</td>\n",
       "    </tr>\n",
       "  </tbody>\n",
       "</table>\n",
       "</div>"
      ],
      "text/plain": [
       "                   A         B         C    D   f    E\n",
       "2024-08-24  0.000000  0.000000 -1.599813  5.0 NaN  1.0\n",
       "2024-08-25 -0.901205 -0.059963  0.951438  5.0 NaN  1.0\n",
       "2024-08-26 -0.604463  2.526805  1.006789  5.0 NaN  NaN\n",
       "2024-08-27  0.891978 -0.717233 -0.890150  5.0 NaN  NaN"
      ]
     },
     "execution_count": 73,
     "metadata": {},
     "output_type": "execute_result"
    }
   ],
   "source": [
    "df1"
   ]
  },
  {
   "cell_type": "markdown",
   "id": "f3bd2268-f7a2-43c3-b047-ee1bc9727cb9",
   "metadata": {},
   "source": [
    "# DataFrame.dropna() drops any rows that have missing data:"
   ]
  },
  {
   "cell_type": "code",
   "execution_count": 74,
   "id": "5d1688fe-b8c0-4815-8a60-b23ce80235bc",
   "metadata": {},
   "outputs": [
    {
     "data": {
      "text/html": [
       "<div>\n",
       "<style scoped>\n",
       "    .dataframe tbody tr th:only-of-type {\n",
       "        vertical-align: middle;\n",
       "    }\n",
       "\n",
       "    .dataframe tbody tr th {\n",
       "        vertical-align: top;\n",
       "    }\n",
       "\n",
       "    .dataframe thead th {\n",
       "        text-align: right;\n",
       "    }\n",
       "</style>\n",
       "<table border=\"1\" class=\"dataframe\">\n",
       "  <thead>\n",
       "    <tr style=\"text-align: right;\">\n",
       "      <th></th>\n",
       "      <th>A</th>\n",
       "      <th>B</th>\n",
       "      <th>C</th>\n",
       "      <th>D</th>\n",
       "      <th>f</th>\n",
       "      <th>E</th>\n",
       "    </tr>\n",
       "  </thead>\n",
       "  <tbody>\n",
       "  </tbody>\n",
       "</table>\n",
       "</div>"
      ],
      "text/plain": [
       "Empty DataFrame\n",
       "Columns: [A, B, C, D, f, E]\n",
       "Index: []"
      ]
     },
     "execution_count": 74,
     "metadata": {},
     "output_type": "execute_result"
    }
   ],
   "source": [
    "df1.dropna(how='any')"
   ]
  },
  {
   "cell_type": "markdown",
   "id": "9512a0fd-8912-40d1-a4f8-2802446cc0be",
   "metadata": {},
   "source": [
    "# DataFrame.fillna() fills missing data:"
   ]
  },
  {
   "cell_type": "code",
   "execution_count": 75,
   "id": "55dbf00b-89ec-4969-aa0c-969334ae7080",
   "metadata": {},
   "outputs": [
    {
     "data": {
      "text/html": [
       "<div>\n",
       "<style scoped>\n",
       "    .dataframe tbody tr th:only-of-type {\n",
       "        vertical-align: middle;\n",
       "    }\n",
       "\n",
       "    .dataframe tbody tr th {\n",
       "        vertical-align: top;\n",
       "    }\n",
       "\n",
       "    .dataframe thead th {\n",
       "        text-align: right;\n",
       "    }\n",
       "</style>\n",
       "<table border=\"1\" class=\"dataframe\">\n",
       "  <thead>\n",
       "    <tr style=\"text-align: right;\">\n",
       "      <th></th>\n",
       "      <th>A</th>\n",
       "      <th>B</th>\n",
       "      <th>C</th>\n",
       "      <th>D</th>\n",
       "      <th>f</th>\n",
       "      <th>E</th>\n",
       "    </tr>\n",
       "  </thead>\n",
       "  <tbody>\n",
       "    <tr>\n",
       "      <th>2024-08-24</th>\n",
       "      <td>0.000000</td>\n",
       "      <td>0.000000</td>\n",
       "      <td>-1.599813</td>\n",
       "      <td>5.0</td>\n",
       "      <td>5.0</td>\n",
       "      <td>1.0</td>\n",
       "    </tr>\n",
       "    <tr>\n",
       "      <th>2024-08-25</th>\n",
       "      <td>-0.901205</td>\n",
       "      <td>-0.059963</td>\n",
       "      <td>0.951438</td>\n",
       "      <td>5.0</td>\n",
       "      <td>5.0</td>\n",
       "      <td>1.0</td>\n",
       "    </tr>\n",
       "    <tr>\n",
       "      <th>2024-08-26</th>\n",
       "      <td>-0.604463</td>\n",
       "      <td>2.526805</td>\n",
       "      <td>1.006789</td>\n",
       "      <td>5.0</td>\n",
       "      <td>5.0</td>\n",
       "      <td>5.0</td>\n",
       "    </tr>\n",
       "    <tr>\n",
       "      <th>2024-08-27</th>\n",
       "      <td>0.891978</td>\n",
       "      <td>-0.717233</td>\n",
       "      <td>-0.890150</td>\n",
       "      <td>5.0</td>\n",
       "      <td>5.0</td>\n",
       "      <td>5.0</td>\n",
       "    </tr>\n",
       "  </tbody>\n",
       "</table>\n",
       "</div>"
      ],
      "text/plain": [
       "                   A         B         C    D    f    E\n",
       "2024-08-24  0.000000  0.000000 -1.599813  5.0  5.0  1.0\n",
       "2024-08-25 -0.901205 -0.059963  0.951438  5.0  5.0  1.0\n",
       "2024-08-26 -0.604463  2.526805  1.006789  5.0  5.0  5.0\n",
       "2024-08-27  0.891978 -0.717233 -0.890150  5.0  5.0  5.0"
      ]
     },
     "execution_count": 75,
     "metadata": {},
     "output_type": "execute_result"
    }
   ],
   "source": [
    "df1.fillna(value=5)"
   ]
  },
  {
   "cell_type": "markdown",
   "id": "8d168fe0-f233-49cc-8516-f4363dbd70d0",
   "metadata": {},
   "source": [
    "# isna() gets the boolean mask where values are nan:"
   ]
  },
  {
   "cell_type": "code",
   "execution_count": 76,
   "id": "6103db7b-13e2-4c66-8695-0c0c5691e25c",
   "metadata": {},
   "outputs": [
    {
     "data": {
      "text/html": [
       "<div>\n",
       "<style scoped>\n",
       "    .dataframe tbody tr th:only-of-type {\n",
       "        vertical-align: middle;\n",
       "    }\n",
       "\n",
       "    .dataframe tbody tr th {\n",
       "        vertical-align: top;\n",
       "    }\n",
       "\n",
       "    .dataframe thead th {\n",
       "        text-align: right;\n",
       "    }\n",
       "</style>\n",
       "<table border=\"1\" class=\"dataframe\">\n",
       "  <thead>\n",
       "    <tr style=\"text-align: right;\">\n",
       "      <th></th>\n",
       "      <th>A</th>\n",
       "      <th>B</th>\n",
       "      <th>C</th>\n",
       "      <th>D</th>\n",
       "      <th>f</th>\n",
       "      <th>E</th>\n",
       "    </tr>\n",
       "  </thead>\n",
       "  <tbody>\n",
       "    <tr>\n",
       "      <th>2024-08-24</th>\n",
       "      <td>False</td>\n",
       "      <td>False</td>\n",
       "      <td>False</td>\n",
       "      <td>False</td>\n",
       "      <td>True</td>\n",
       "      <td>False</td>\n",
       "    </tr>\n",
       "    <tr>\n",
       "      <th>2024-08-25</th>\n",
       "      <td>False</td>\n",
       "      <td>False</td>\n",
       "      <td>False</td>\n",
       "      <td>False</td>\n",
       "      <td>True</td>\n",
       "      <td>False</td>\n",
       "    </tr>\n",
       "    <tr>\n",
       "      <th>2024-08-26</th>\n",
       "      <td>False</td>\n",
       "      <td>False</td>\n",
       "      <td>False</td>\n",
       "      <td>False</td>\n",
       "      <td>True</td>\n",
       "      <td>True</td>\n",
       "    </tr>\n",
       "    <tr>\n",
       "      <th>2024-08-27</th>\n",
       "      <td>False</td>\n",
       "      <td>False</td>\n",
       "      <td>False</td>\n",
       "      <td>False</td>\n",
       "      <td>True</td>\n",
       "      <td>True</td>\n",
       "    </tr>\n",
       "  </tbody>\n",
       "</table>\n",
       "</div>"
      ],
      "text/plain": [
       "                A      B      C      D     f      E\n",
       "2024-08-24  False  False  False  False  True  False\n",
       "2024-08-25  False  False  False  False  True  False\n",
       "2024-08-26  False  False  False  False  True   True\n",
       "2024-08-27  False  False  False  False  True   True"
      ]
     },
     "execution_count": 76,
     "metadata": {},
     "output_type": "execute_result"
    }
   ],
   "source": [
    "pd.isna(df1)"
   ]
  },
  {
   "cell_type": "markdown",
   "id": "038e35af-8b16-4f7b-81cd-b1aaef01c22d",
   "metadata": {},
   "source": [
    "# Operations"
   ]
  },
  {
   "cell_type": "markdown",
   "id": "10f939f8-a676-4115-bd67-514aa105a678",
   "metadata": {},
   "source": [
    "# Stats\n",
    "\n",
    "Operations in general exclude missing data"
   ]
  },
  {
   "cell_type": "markdown",
   "id": "33d2fac4-7d07-4f3c-bea5-0dd2bdba3c45",
   "metadata": {},
   "source": [
    "# Calculate the mean value for each column:"
   ]
  },
  {
   "cell_type": "code",
   "execution_count": 77,
   "id": "5be3fffd-231c-43a8-a366-6456bb8da8a8",
   "metadata": {},
   "outputs": [
    {
     "data": {
      "text/plain": [
       "A    0.179612\n",
       "B    0.306456\n",
       "C    0.031773\n",
       "D    5.000000\n",
       "f    2.500000\n",
       "dtype: float64"
      ]
     },
     "execution_count": 77,
     "metadata": {},
     "output_type": "execute_result"
    }
   ],
   "source": [
    "df.mean()"
   ]
  },
  {
   "cell_type": "markdown",
   "id": "49cdda03-4b96-452a-978c-cd1614080cc8",
   "metadata": {},
   "source": [
    "# Calculate the mean value for each row:"
   ]
  },
  {
   "cell_type": "code",
   "execution_count": 78,
   "id": "4f4400fc-303e-4897-be2e-f48daaf6818c",
   "metadata": {},
   "outputs": [
    {
     "data": {
      "text/plain": [
       "2024-08-24    0.850047\n",
       "2024-08-25    1.247568\n",
       "2024-08-26    1.982283\n",
       "2024-08-27    1.071149\n",
       "2024-08-28    1.283526\n",
       "2024-08-29    1.503369\n",
       "2024-08-30    1.321030\n",
       "2024-08-31    2.599783\n",
       "Freq: D, dtype: float64"
      ]
     },
     "execution_count": 78,
     "metadata": {},
     "output_type": "execute_result"
    }
   ],
   "source": [
    "df.mean(axis=1)"
   ]
  },
  {
   "cell_type": "markdown",
   "id": "0a2146f4-4466-4d13-b7f6-458bd8480500",
   "metadata": {},
   "source": [
    "When operating with another dataframe with diffent index and column will align result with union of the index or column lable ,in adding pandas brodcast alog the specified dimenstion and filed lable with unline labled with np.nan"
   ]
  },
  {
   "cell_type": "code",
   "execution_count": 85,
   "id": "7b8db28c-538d-4f57-a816-7f8e5ba9735b",
   "metadata": {},
   "outputs": [],
   "source": [
    "s = pd.Series([1,3,5,np.nan,6,8,7,8], index=dates).shift(2)"
   ]
  },
  {
   "cell_type": "code",
   "execution_count": 86,
   "id": "c5682995-08b4-4263-9565-0327d97fa399",
   "metadata": {},
   "outputs": [
    {
     "data": {
      "text/plain": [
       "2024-08-24    NaN\n",
       "2024-08-25    NaN\n",
       "2024-08-26    1.0\n",
       "2024-08-27    3.0\n",
       "2024-08-28    5.0\n",
       "2024-08-29    NaN\n",
       "2024-08-30    6.0\n",
       "2024-08-31    8.0\n",
       "Freq: D, dtype: float64"
      ]
     },
     "execution_count": 86,
     "metadata": {},
     "output_type": "execute_result"
    }
   ],
   "source": [
    "s"
   ]
  },
  {
   "cell_type": "code",
   "execution_count": 87,
   "id": "b11960ca-40c4-4dbf-a8d5-c24305abbd40",
   "metadata": {},
   "outputs": [
    {
     "data": {
      "text/html": [
       "<div>\n",
       "<style scoped>\n",
       "    .dataframe tbody tr th:only-of-type {\n",
       "        vertical-align: middle;\n",
       "    }\n",
       "\n",
       "    .dataframe tbody tr th {\n",
       "        vertical-align: top;\n",
       "    }\n",
       "\n",
       "    .dataframe thead th {\n",
       "        text-align: right;\n",
       "    }\n",
       "</style>\n",
       "<table border=\"1\" class=\"dataframe\">\n",
       "  <thead>\n",
       "    <tr style=\"text-align: right;\">\n",
       "      <th></th>\n",
       "      <th>A</th>\n",
       "      <th>B</th>\n",
       "      <th>C</th>\n",
       "      <th>D</th>\n",
       "      <th>f</th>\n",
       "    </tr>\n",
       "  </thead>\n",
       "  <tbody>\n",
       "    <tr>\n",
       "      <th>2024-08-24</th>\n",
       "      <td>NaN</td>\n",
       "      <td>NaN</td>\n",
       "      <td>NaN</td>\n",
       "      <td>NaN</td>\n",
       "      <td>NaN</td>\n",
       "    </tr>\n",
       "    <tr>\n",
       "      <th>2024-08-25</th>\n",
       "      <td>NaN</td>\n",
       "      <td>NaN</td>\n",
       "      <td>NaN</td>\n",
       "      <td>NaN</td>\n",
       "      <td>NaN</td>\n",
       "    </tr>\n",
       "    <tr>\n",
       "      <th>2024-08-26</th>\n",
       "      <td>-1.604463</td>\n",
       "      <td>1.526805</td>\n",
       "      <td>0.006789</td>\n",
       "      <td>4.0</td>\n",
       "      <td>NaN</td>\n",
       "    </tr>\n",
       "    <tr>\n",
       "      <th>2024-08-27</th>\n",
       "      <td>-2.108022</td>\n",
       "      <td>-3.717233</td>\n",
       "      <td>-3.890150</td>\n",
       "      <td>2.0</td>\n",
       "      <td>NaN</td>\n",
       "    </tr>\n",
       "    <tr>\n",
       "      <th>2024-08-28</th>\n",
       "      <td>-4.508803</td>\n",
       "      <td>-3.961598</td>\n",
       "      <td>-6.111967</td>\n",
       "      <td>0.0</td>\n",
       "      <td>-4.0</td>\n",
       "    </tr>\n",
       "    <tr>\n",
       "      <th>2024-08-29</th>\n",
       "      <td>NaN</td>\n",
       "      <td>NaN</td>\n",
       "      <td>NaN</td>\n",
       "      <td>NaN</td>\n",
       "      <td>NaN</td>\n",
       "    </tr>\n",
       "    <tr>\n",
       "      <th>2024-08-30</th>\n",
       "      <td>-5.506831</td>\n",
       "      <td>-6.295767</td>\n",
       "      <td>-7.592250</td>\n",
       "      <td>-1.0</td>\n",
       "      <td>-3.0</td>\n",
       "    </tr>\n",
       "    <tr>\n",
       "      <th>2024-08-31</th>\n",
       "      <td>-6.934381</td>\n",
       "      <td>-6.856270</td>\n",
       "      <td>-6.210433</td>\n",
       "      <td>-3.0</td>\n",
       "      <td>-4.0</td>\n",
       "    </tr>\n",
       "  </tbody>\n",
       "</table>\n",
       "</div>"
      ],
      "text/plain": [
       "                   A         B         C    D    f\n",
       "2024-08-24       NaN       NaN       NaN  NaN  NaN\n",
       "2024-08-25       NaN       NaN       NaN  NaN  NaN\n",
       "2024-08-26 -1.604463  1.526805  0.006789  4.0  NaN\n",
       "2024-08-27 -2.108022 -3.717233 -3.890150  2.0  NaN\n",
       "2024-08-28 -4.508803 -3.961598 -6.111967  0.0 -4.0\n",
       "2024-08-29       NaN       NaN       NaN  NaN  NaN\n",
       "2024-08-30 -5.506831 -6.295767 -7.592250 -1.0 -3.0\n",
       "2024-08-31 -6.934381 -6.856270 -6.210433 -3.0 -4.0"
      ]
     },
     "execution_count": 87,
     "metadata": {},
     "output_type": "execute_result"
    }
   ],
   "source": [
    "df.sub(s,axis=\"index\")"
   ]
  },
  {
   "cell_type": "markdown",
   "id": "64987648-beae-4bf2-82e3-a4bbbe424428",
   "metadata": {},
   "source": [
    "# User defined functions"
   ]
  },
  {
   "cell_type": "markdown",
   "id": "351471de-4662-4414-a777-e6054191e301",
   "metadata": {},
   "source": [
    "# DateFrame.agg() and DateFrame.transform()  apply a user defined funtion tha reduced or braodcast it result respectively."
   ]
  },
  {
   "cell_type": "code",
   "execution_count": 90,
   "id": "0dcd2b7d-381a-42a8-a4c8-ca1d748cedea",
   "metadata": {},
   "outputs": [
    {
     "data": {
      "text/plain": [
       "A     1.005830\n",
       "B     1.716156\n",
       "C     0.177927\n",
       "D    28.000000\n",
       "f    14.000000\n",
       "dtype: float64"
      ]
     },
     "execution_count": 90,
     "metadata": {},
     "output_type": "execute_result"
    }
   ],
   "source": [
    "df.agg(lambda x : np.mean(x) *5.6)"
   ]
  },
  {
   "cell_type": "code",
   "execution_count": 92,
   "id": "0a876f23-6898-4cb3-8c25-fc9d702ac2d8",
   "metadata": {},
   "outputs": [
    {
     "data": {
      "text/html": [
       "<div>\n",
       "<style scoped>\n",
       "    .dataframe tbody tr th:only-of-type {\n",
       "        vertical-align: middle;\n",
       "    }\n",
       "\n",
       "    .dataframe tbody tr th {\n",
       "        vertical-align: top;\n",
       "    }\n",
       "\n",
       "    .dataframe thead th {\n",
       "        text-align: right;\n",
       "    }\n",
       "</style>\n",
       "<table border=\"1\" class=\"dataframe\">\n",
       "  <thead>\n",
       "    <tr style=\"text-align: right;\">\n",
       "      <th></th>\n",
       "      <th>A</th>\n",
       "      <th>B</th>\n",
       "      <th>C</th>\n",
       "      <th>D</th>\n",
       "      <th>f</th>\n",
       "    </tr>\n",
       "  </thead>\n",
       "  <tbody>\n",
       "    <tr>\n",
       "      <th>2024-08-24</th>\n",
       "      <td>0.000000</td>\n",
       "      <td>0.000000</td>\n",
       "      <td>-161.901079</td>\n",
       "      <td>506.0</td>\n",
       "      <td>NaN</td>\n",
       "    </tr>\n",
       "    <tr>\n",
       "      <th>2024-08-25</th>\n",
       "      <td>-91.201901</td>\n",
       "      <td>-6.068232</td>\n",
       "      <td>96.285479</td>\n",
       "      <td>506.0</td>\n",
       "      <td>NaN</td>\n",
       "    </tr>\n",
       "    <tr>\n",
       "      <th>2024-08-26</th>\n",
       "      <td>-61.171632</td>\n",
       "      <td>255.712712</td>\n",
       "      <td>101.887095</td>\n",
       "      <td>506.0</td>\n",
       "      <td>NaN</td>\n",
       "    </tr>\n",
       "    <tr>\n",
       "      <th>2024-08-27</th>\n",
       "      <td>90.268201</td>\n",
       "      <td>-72.584010</td>\n",
       "      <td>-90.083159</td>\n",
       "      <td>506.0</td>\n",
       "      <td>NaN</td>\n",
       "    </tr>\n",
       "    <tr>\n",
       "      <th>2024-08-28</th>\n",
       "      <td>49.709139</td>\n",
       "      <td>105.086276</td>\n",
       "      <td>-112.531079</td>\n",
       "      <td>506.0</td>\n",
       "      <td>101.2</td>\n",
       "    </tr>\n",
       "    <tr>\n",
       "      <th>2024-08-29</th>\n",
       "      <td>0.061019</td>\n",
       "      <td>-119.853404</td>\n",
       "      <td>172.097298</td>\n",
       "      <td>506.0</td>\n",
       "      <td>202.4</td>\n",
       "    </tr>\n",
       "    <tr>\n",
       "      <th>2024-08-30</th>\n",
       "      <td>49.908724</td>\n",
       "      <td>-29.931631</td>\n",
       "      <td>-161.135668</td>\n",
       "      <td>506.0</td>\n",
       "      <td>303.6</td>\n",
       "    </tr>\n",
       "    <tr>\n",
       "      <th>2024-08-31</th>\n",
       "      <td>107.840669</td>\n",
       "      <td>115.745461</td>\n",
       "      <td>181.104223</td>\n",
       "      <td>506.0</td>\n",
       "      <td>404.8</td>\n",
       "    </tr>\n",
       "  </tbody>\n",
       "</table>\n",
       "</div>"
      ],
      "text/plain": [
       "                     A           B           C      D      f\n",
       "2024-08-24    0.000000    0.000000 -161.901079  506.0    NaN\n",
       "2024-08-25  -91.201901   -6.068232   96.285479  506.0    NaN\n",
       "2024-08-26  -61.171632  255.712712  101.887095  506.0    NaN\n",
       "2024-08-27   90.268201  -72.584010  -90.083159  506.0    NaN\n",
       "2024-08-28   49.709139  105.086276 -112.531079  506.0  101.2\n",
       "2024-08-29    0.061019 -119.853404  172.097298  506.0  202.4\n",
       "2024-08-30   49.908724  -29.931631 -161.135668  506.0  303.6\n",
       "2024-08-31  107.840669  115.745461  181.104223  506.0  404.8"
      ]
     },
     "execution_count": 92,
     "metadata": {},
     "output_type": "execute_result"
    }
   ],
   "source": [
    "df.transform(lambda x : x * 101.2 )"
   ]
  },
  {
   "cell_type": "markdown",
   "id": "dbd6790f-7dec-4cae-b6b0-c14126731800",
   "metadata": {},
   "source": [
    "# Value Counts"
   ]
  },
  {
   "cell_type": "code",
   "execution_count": 94,
   "id": "37964ed4-2378-469b-a98b-76a1634b089f",
   "metadata": {},
   "outputs": [],
   "source": [
    "s = pd.Series(np.random.randint(0, 7 , size=10))"
   ]
  },
  {
   "cell_type": "code",
   "execution_count": 95,
   "id": "9593f84e-6a2d-43fe-bcb9-a1d0b7ca1c28",
   "metadata": {},
   "outputs": [
    {
     "data": {
      "text/plain": [
       "0    0\n",
       "1    2\n",
       "2    4\n",
       "3    6\n",
       "4    5\n",
       "5    6\n",
       "6    6\n",
       "7    5\n",
       "8    1\n",
       "9    5\n",
       "dtype: int32"
      ]
     },
     "execution_count": 95,
     "metadata": {},
     "output_type": "execute_result"
    }
   ],
   "source": [
    "s"
   ]
  },
  {
   "cell_type": "code",
   "execution_count": 96,
   "id": "27ffad36-3153-48ca-8310-3312a4b121a2",
   "metadata": {},
   "outputs": [
    {
     "data": {
      "text/plain": [
       "6    3\n",
       "5    3\n",
       "0    1\n",
       "2    1\n",
       "4    1\n",
       "1    1\n",
       "Name: count, dtype: int64"
      ]
     },
     "execution_count": 96,
     "metadata": {},
     "output_type": "execute_result"
    }
   ],
   "source": [
    "s.value_counts()"
   ]
  },
  {
   "cell_type": "markdown",
   "id": "05d691ed-fccf-45dd-937e-71d6db992a24",
   "metadata": {},
   "source": [
    "# String Methods"
   ]
  },
  {
   "cell_type": "markdown",
   "id": "019c712d-0568-4db7-a07b-65cfa7c5e38c",
   "metadata": {},
   "source": [
    "series has some set of methods in str attribue that will easy to operate on each and every element of array"
   ]
  },
  {
   "cell_type": "code",
   "execution_count": 99,
   "id": "bfab1f96-143c-48b2-b48d-65da2fdca2f8",
   "metadata": {},
   "outputs": [],
   "source": [
    "s = pd.Series([\"A\", \"B\", \"C\", \"ABC\", np.nan, \"cddfe\", \"CBA\", \"cba\" ])"
   ]
  },
  {
   "cell_type": "code",
   "execution_count": 100,
   "id": "aa11a2f4-3832-4ba1-835c-f2b491496399",
   "metadata": {},
   "outputs": [
    {
     "data": {
      "text/plain": [
       "0        A\n",
       "1        B\n",
       "2        C\n",
       "3      ABC\n",
       "4      NaN\n",
       "5    cddfe\n",
       "6      CBA\n",
       "7      cba\n",
       "dtype: object"
      ]
     },
     "execution_count": 100,
     "metadata": {},
     "output_type": "execute_result"
    }
   ],
   "source": [
    "s"
   ]
  },
  {
   "cell_type": "code",
   "execution_count": 103,
   "id": "5b95372a-9d58-49d7-b14f-caeaecf35f7c",
   "metadata": {},
   "outputs": [
    {
     "data": {
      "text/plain": [
       "0        a\n",
       "1        b\n",
       "2        c\n",
       "3      abc\n",
       "4      NaN\n",
       "5    cddfe\n",
       "6      cba\n",
       "7      cba\n",
       "dtype: object"
      ]
     },
     "execution_count": 103,
     "metadata": {},
     "output_type": "execute_result"
    }
   ],
   "source": [
    "s.str.lower()"
   ]
  },
  {
   "cell_type": "markdown",
   "id": "a39e7470-d84f-4727-9b3e-50d48adb0f36",
   "metadata": {},
   "source": [
    "# Merge"
   ]
  },
  {
   "cell_type": "markdown",
   "id": "2a3738bf-8f62-45dd-a8f2-cffb11008585",
   "metadata": {},
   "source": [
    "# concat"
   ]
  },
  {
   "cell_type": "markdown",
   "id": "e9bf5498-0b0d-49a0-9b1e-803761766dff",
   "metadata": {},
   "source": [
    " pandas provide facility to easly combine series datframe object wihr set of some logics the indexes and relational algebra functionality in the case of join / merge-type operations."
   ]
  },
  {
   "cell_type": "markdown",
   "id": "62f2ce9d-cd04-4538-9fcd-f4a9f409574c",
   "metadata": {},
   "source": [
    "# Concatenating pandas objects together row-wise with concat():"
   ]
  },
  {
   "cell_type": "code",
   "execution_count": 108,
   "id": "2d015e6c-d951-4b33-b976-3df28171b5d9",
   "metadata": {},
   "outputs": [],
   "source": [
    "df  = pd.DataFrame(np.random.randn(10, 4))"
   ]
  },
  {
   "cell_type": "code",
   "execution_count": 109,
   "id": "49ce8418-6e73-42eb-b99c-ac9661420e5a",
   "metadata": {},
   "outputs": [
    {
     "data": {
      "text/html": [
       "<div>\n",
       "<style scoped>\n",
       "    .dataframe tbody tr th:only-of-type {\n",
       "        vertical-align: middle;\n",
       "    }\n",
       "\n",
       "    .dataframe tbody tr th {\n",
       "        vertical-align: top;\n",
       "    }\n",
       "\n",
       "    .dataframe thead th {\n",
       "        text-align: right;\n",
       "    }\n",
       "</style>\n",
       "<table border=\"1\" class=\"dataframe\">\n",
       "  <thead>\n",
       "    <tr style=\"text-align: right;\">\n",
       "      <th></th>\n",
       "      <th>0</th>\n",
       "      <th>1</th>\n",
       "      <th>2</th>\n",
       "      <th>3</th>\n",
       "    </tr>\n",
       "  </thead>\n",
       "  <tbody>\n",
       "    <tr>\n",
       "      <th>0</th>\n",
       "      <td>-0.071814</td>\n",
       "      <td>-0.612279</td>\n",
       "      <td>0.322156</td>\n",
       "      <td>0.415585</td>\n",
       "    </tr>\n",
       "    <tr>\n",
       "      <th>1</th>\n",
       "      <td>1.231201</td>\n",
       "      <td>-0.457510</td>\n",
       "      <td>1.284668</td>\n",
       "      <td>-1.297932</td>\n",
       "    </tr>\n",
       "    <tr>\n",
       "      <th>2</th>\n",
       "      <td>-0.391149</td>\n",
       "      <td>-1.184092</td>\n",
       "      <td>-0.728769</td>\n",
       "      <td>-0.982916</td>\n",
       "    </tr>\n",
       "    <tr>\n",
       "      <th>3</th>\n",
       "      <td>1.697974</td>\n",
       "      <td>0.133883</td>\n",
       "      <td>0.036336</td>\n",
       "      <td>-0.894380</td>\n",
       "    </tr>\n",
       "    <tr>\n",
       "      <th>4</th>\n",
       "      <td>0.409857</td>\n",
       "      <td>0.121369</td>\n",
       "      <td>1.380200</td>\n",
       "      <td>-0.608622</td>\n",
       "    </tr>\n",
       "    <tr>\n",
       "      <th>5</th>\n",
       "      <td>-1.111009</td>\n",
       "      <td>0.860319</td>\n",
       "      <td>0.449106</td>\n",
       "      <td>0.669546</td>\n",
       "    </tr>\n",
       "    <tr>\n",
       "      <th>6</th>\n",
       "      <td>-0.249387</td>\n",
       "      <td>-1.058879</td>\n",
       "      <td>-0.867911</td>\n",
       "      <td>1.212816</td>\n",
       "    </tr>\n",
       "    <tr>\n",
       "      <th>7</th>\n",
       "      <td>-1.250153</td>\n",
       "      <td>0.013087</td>\n",
       "      <td>-3.108597</td>\n",
       "      <td>-0.330030</td>\n",
       "    </tr>\n",
       "    <tr>\n",
       "      <th>8</th>\n",
       "      <td>-0.759271</td>\n",
       "      <td>1.344320</td>\n",
       "      <td>-1.719139</td>\n",
       "      <td>-1.139743</td>\n",
       "    </tr>\n",
       "    <tr>\n",
       "      <th>9</th>\n",
       "      <td>-0.054863</td>\n",
       "      <td>-0.691003</td>\n",
       "      <td>-0.243311</td>\n",
       "      <td>-0.143789</td>\n",
       "    </tr>\n",
       "  </tbody>\n",
       "</table>\n",
       "</div>"
      ],
      "text/plain": [
       "          0         1         2         3\n",
       "0 -0.071814 -0.612279  0.322156  0.415585\n",
       "1  1.231201 -0.457510  1.284668 -1.297932\n",
       "2 -0.391149 -1.184092 -0.728769 -0.982916\n",
       "3  1.697974  0.133883  0.036336 -0.894380\n",
       "4  0.409857  0.121369  1.380200 -0.608622\n",
       "5 -1.111009  0.860319  0.449106  0.669546\n",
       "6 -0.249387 -1.058879 -0.867911  1.212816\n",
       "7 -1.250153  0.013087 -3.108597 -0.330030\n",
       "8 -0.759271  1.344320 -1.719139 -1.139743\n",
       "9 -0.054863 -0.691003 -0.243311 -0.143789"
      ]
     },
     "execution_count": 109,
     "metadata": {},
     "output_type": "execute_result"
    }
   ],
   "source": [
    "df"
   ]
  },
  {
   "cell_type": "code",
   "execution_count": 112,
   "id": "a9ed2727-c137-47f0-aa63-23e94fd6d414",
   "metadata": {},
   "outputs": [],
   "source": [
    "# Breck into pices\n",
    "pieces = [df[:3], df[3:7], df[7:]]"
   ]
  },
  {
   "cell_type": "code",
   "execution_count": 113,
   "id": "de3e9c0f-c9b6-4e57-a767-a5a4497bdd6d",
   "metadata": {},
   "outputs": [
    {
     "data": {
      "text/plain": [
       "[          0         1         2         3\n",
       " 0 -0.071814 -0.612279  0.322156  0.415585\n",
       " 1  1.231201 -0.457510  1.284668 -1.297932\n",
       " 2 -0.391149 -1.184092 -0.728769 -0.982916,\n",
       "           0         1         2         3\n",
       " 3  1.697974  0.133883  0.036336 -0.894380\n",
       " 4  0.409857  0.121369  1.380200 -0.608622\n",
       " 5 -1.111009  0.860319  0.449106  0.669546\n",
       " 6 -0.249387 -1.058879 -0.867911  1.212816,\n",
       "           0         1         2         3\n",
       " 7 -1.250153  0.013087 -3.108597 -0.330030\n",
       " 8 -0.759271  1.344320 -1.719139 -1.139743\n",
       " 9 -0.054863 -0.691003 -0.243311 -0.143789]"
      ]
     },
     "execution_count": 113,
     "metadata": {},
     "output_type": "execute_result"
    }
   ],
   "source": [
    "pieces"
   ]
  },
  {
   "cell_type": "code",
   "execution_count": 114,
   "id": "92fbf13a-2edc-4517-81e9-688bc0db3268",
   "metadata": {},
   "outputs": [
    {
     "data": {
      "text/html": [
       "<div>\n",
       "<style scoped>\n",
       "    .dataframe tbody tr th:only-of-type {\n",
       "        vertical-align: middle;\n",
       "    }\n",
       "\n",
       "    .dataframe tbody tr th {\n",
       "        vertical-align: top;\n",
       "    }\n",
       "\n",
       "    .dataframe thead th {\n",
       "        text-align: right;\n",
       "    }\n",
       "</style>\n",
       "<table border=\"1\" class=\"dataframe\">\n",
       "  <thead>\n",
       "    <tr style=\"text-align: right;\">\n",
       "      <th></th>\n",
       "      <th>0</th>\n",
       "      <th>1</th>\n",
       "      <th>2</th>\n",
       "      <th>3</th>\n",
       "    </tr>\n",
       "  </thead>\n",
       "  <tbody>\n",
       "    <tr>\n",
       "      <th>0</th>\n",
       "      <td>-0.071814</td>\n",
       "      <td>-0.612279</td>\n",
       "      <td>0.322156</td>\n",
       "      <td>0.415585</td>\n",
       "    </tr>\n",
       "    <tr>\n",
       "      <th>1</th>\n",
       "      <td>1.231201</td>\n",
       "      <td>-0.457510</td>\n",
       "      <td>1.284668</td>\n",
       "      <td>-1.297932</td>\n",
       "    </tr>\n",
       "    <tr>\n",
       "      <th>2</th>\n",
       "      <td>-0.391149</td>\n",
       "      <td>-1.184092</td>\n",
       "      <td>-0.728769</td>\n",
       "      <td>-0.982916</td>\n",
       "    </tr>\n",
       "    <tr>\n",
       "      <th>3</th>\n",
       "      <td>1.697974</td>\n",
       "      <td>0.133883</td>\n",
       "      <td>0.036336</td>\n",
       "      <td>-0.894380</td>\n",
       "    </tr>\n",
       "    <tr>\n",
       "      <th>4</th>\n",
       "      <td>0.409857</td>\n",
       "      <td>0.121369</td>\n",
       "      <td>1.380200</td>\n",
       "      <td>-0.608622</td>\n",
       "    </tr>\n",
       "    <tr>\n",
       "      <th>5</th>\n",
       "      <td>-1.111009</td>\n",
       "      <td>0.860319</td>\n",
       "      <td>0.449106</td>\n",
       "      <td>0.669546</td>\n",
       "    </tr>\n",
       "    <tr>\n",
       "      <th>6</th>\n",
       "      <td>-0.249387</td>\n",
       "      <td>-1.058879</td>\n",
       "      <td>-0.867911</td>\n",
       "      <td>1.212816</td>\n",
       "    </tr>\n",
       "    <tr>\n",
       "      <th>7</th>\n",
       "      <td>-1.250153</td>\n",
       "      <td>0.013087</td>\n",
       "      <td>-3.108597</td>\n",
       "      <td>-0.330030</td>\n",
       "    </tr>\n",
       "    <tr>\n",
       "      <th>8</th>\n",
       "      <td>-0.759271</td>\n",
       "      <td>1.344320</td>\n",
       "      <td>-1.719139</td>\n",
       "      <td>-1.139743</td>\n",
       "    </tr>\n",
       "    <tr>\n",
       "      <th>9</th>\n",
       "      <td>-0.054863</td>\n",
       "      <td>-0.691003</td>\n",
       "      <td>-0.243311</td>\n",
       "      <td>-0.143789</td>\n",
       "    </tr>\n",
       "  </tbody>\n",
       "</table>\n",
       "</div>"
      ],
      "text/plain": [
       "          0         1         2         3\n",
       "0 -0.071814 -0.612279  0.322156  0.415585\n",
       "1  1.231201 -0.457510  1.284668 -1.297932\n",
       "2 -0.391149 -1.184092 -0.728769 -0.982916\n",
       "3  1.697974  0.133883  0.036336 -0.894380\n",
       "4  0.409857  0.121369  1.380200 -0.608622\n",
       "5 -1.111009  0.860319  0.449106  0.669546\n",
       "6 -0.249387 -1.058879 -0.867911  1.212816\n",
       "7 -1.250153  0.013087 -3.108597 -0.330030\n",
       "8 -0.759271  1.344320 -1.719139 -1.139743\n",
       "9 -0.054863 -0.691003 -0.243311 -0.143789"
      ]
     },
     "execution_count": 114,
     "metadata": {},
     "output_type": "execute_result"
    }
   ],
   "source": [
    "pd.concat(pieces)"
   ]
  },
  {
   "cell_type": "markdown",
   "id": "1490c15a-7d6d-4097-a967-e53af04f70d1",
   "metadata": {},
   "source": [
    "# Note\n",
    "    Adding a column to a DataFrame is relatively fast. However, adding a row requires a copy, and may be expensive and  recommend passing a pre-built list of records to the DataFrame constructor instead of building a DataFrame by iteratively appending records to it"
   ]
  },
  {
   "cell_type": "markdown",
   "id": "f95fc18f-9829-44bd-bb20-378244861e71",
   "metadata": {},
   "source": [
    "# Join"
   ]
  },
  {
   "cell_type": "markdown",
   "id": "cb1a0518-e4d4-404a-aa38-a12f013ecf8e",
   "metadata": {},
   "source": [
    "# merge() enable sql style join types alog with specific column "
   ]
  },
  {
   "cell_type": "code",
   "execution_count": 120,
   "id": "71f3fcb6-e2ba-490b-a879-1dba3a007a0b",
   "metadata": {},
   "outputs": [],
   "source": [
    "left = pd.DataFrame({\"key\": [\"foo\", \"foo\"], \"lval\": [1, 2]})\n",
    "\n",
    "right = pd.DataFrame({\"key\": [\"foo\", \"foo\"], \"rval\": [4, 5]})\n"
   ]
  },
  {
   "cell_type": "code",
   "execution_count": 121,
   "id": "92b7b9e8-0bcb-4a8e-b217-6e6907cc8f9d",
   "metadata": {},
   "outputs": [
    {
     "data": {
      "text/html": [
       "<div>\n",
       "<style scoped>\n",
       "    .dataframe tbody tr th:only-of-type {\n",
       "        vertical-align: middle;\n",
       "    }\n",
       "\n",
       "    .dataframe tbody tr th {\n",
       "        vertical-align: top;\n",
       "    }\n",
       "\n",
       "    .dataframe thead th {\n",
       "        text-align: right;\n",
       "    }\n",
       "</style>\n",
       "<table border=\"1\" class=\"dataframe\">\n",
       "  <thead>\n",
       "    <tr style=\"text-align: right;\">\n",
       "      <th></th>\n",
       "      <th>key</th>\n",
       "      <th>lval</th>\n",
       "    </tr>\n",
       "  </thead>\n",
       "  <tbody>\n",
       "    <tr>\n",
       "      <th>0</th>\n",
       "      <td>foo</td>\n",
       "      <td>1</td>\n",
       "    </tr>\n",
       "    <tr>\n",
       "      <th>1</th>\n",
       "      <td>foo</td>\n",
       "      <td>2</td>\n",
       "    </tr>\n",
       "  </tbody>\n",
       "</table>\n",
       "</div>"
      ],
      "text/plain": [
       "   key  lval\n",
       "0  foo     1\n",
       "1  foo     2"
      ]
     },
     "execution_count": 121,
     "metadata": {},
     "output_type": "execute_result"
    }
   ],
   "source": [
    "left"
   ]
  },
  {
   "cell_type": "code",
   "execution_count": 122,
   "id": "5675b1df-5e2f-47f8-8a47-9a051b7b8dc6",
   "metadata": {},
   "outputs": [
    {
     "data": {
      "text/html": [
       "<div>\n",
       "<style scoped>\n",
       "    .dataframe tbody tr th:only-of-type {\n",
       "        vertical-align: middle;\n",
       "    }\n",
       "\n",
       "    .dataframe tbody tr th {\n",
       "        vertical-align: top;\n",
       "    }\n",
       "\n",
       "    .dataframe thead th {\n",
       "        text-align: right;\n",
       "    }\n",
       "</style>\n",
       "<table border=\"1\" class=\"dataframe\">\n",
       "  <thead>\n",
       "    <tr style=\"text-align: right;\">\n",
       "      <th></th>\n",
       "      <th>key</th>\n",
       "      <th>rval</th>\n",
       "    </tr>\n",
       "  </thead>\n",
       "  <tbody>\n",
       "    <tr>\n",
       "      <th>0</th>\n",
       "      <td>foo</td>\n",
       "      <td>4</td>\n",
       "    </tr>\n",
       "    <tr>\n",
       "      <th>1</th>\n",
       "      <td>foo</td>\n",
       "      <td>5</td>\n",
       "    </tr>\n",
       "  </tbody>\n",
       "</table>\n",
       "</div>"
      ],
      "text/plain": [
       "   key  rval\n",
       "0  foo     4\n",
       "1  foo     5"
      ]
     },
     "execution_count": 122,
     "metadata": {},
     "output_type": "execute_result"
    }
   ],
   "source": [
    "right"
   ]
  },
  {
   "cell_type": "code",
   "execution_count": 123,
   "id": "695eb269-4c05-4fe7-a4a5-f7c5fdecb105",
   "metadata": {},
   "outputs": [
    {
     "data": {
      "text/html": [
       "<div>\n",
       "<style scoped>\n",
       "    .dataframe tbody tr th:only-of-type {\n",
       "        vertical-align: middle;\n",
       "    }\n",
       "\n",
       "    .dataframe tbody tr th {\n",
       "        vertical-align: top;\n",
       "    }\n",
       "\n",
       "    .dataframe thead th {\n",
       "        text-align: right;\n",
       "    }\n",
       "</style>\n",
       "<table border=\"1\" class=\"dataframe\">\n",
       "  <thead>\n",
       "    <tr style=\"text-align: right;\">\n",
       "      <th></th>\n",
       "      <th>key</th>\n",
       "      <th>lval</th>\n",
       "      <th>rval</th>\n",
       "    </tr>\n",
       "  </thead>\n",
       "  <tbody>\n",
       "    <tr>\n",
       "      <th>0</th>\n",
       "      <td>foo</td>\n",
       "      <td>1</td>\n",
       "      <td>4</td>\n",
       "    </tr>\n",
       "    <tr>\n",
       "      <th>1</th>\n",
       "      <td>foo</td>\n",
       "      <td>1</td>\n",
       "      <td>5</td>\n",
       "    </tr>\n",
       "    <tr>\n",
       "      <th>2</th>\n",
       "      <td>foo</td>\n",
       "      <td>2</td>\n",
       "      <td>4</td>\n",
       "    </tr>\n",
       "    <tr>\n",
       "      <th>3</th>\n",
       "      <td>foo</td>\n",
       "      <td>2</td>\n",
       "      <td>5</td>\n",
       "    </tr>\n",
       "  </tbody>\n",
       "</table>\n",
       "</div>"
      ],
      "text/plain": [
       "   key  lval  rval\n",
       "0  foo     1     4\n",
       "1  foo     1     5\n",
       "2  foo     2     4\n",
       "3  foo     2     5"
      ]
     },
     "execution_count": 123,
     "metadata": {},
     "output_type": "execute_result"
    }
   ],
   "source": [
    "pd.merge(left, right, on=\"key\")"
   ]
  },
  {
   "cell_type": "markdown",
   "id": "5352c30f-5072-411b-9e67-f4ae177c7420",
   "metadata": {},
   "source": [
    "# merge() on unique keys:"
   ]
  },
  {
   "cell_type": "code",
   "execution_count": 125,
   "id": "766fe4d2-00e5-42ce-becd-96fbe3ba066d",
   "metadata": {},
   "outputs": [],
   "source": [
    "left = pd.DataFrame({\"key\": [\"foo\", \"bar\"], \"lval\": [1, 2]})\n",
    "right = pd.DataFrame({\"key\": [\"foo\", \"bar\"], \"rval\": [4, 5]})"
   ]
  },
  {
   "cell_type": "code",
   "execution_count": 126,
   "id": "bf117261-c1dd-4d68-a102-1b44a57aec50",
   "metadata": {},
   "outputs": [
    {
     "data": {
      "text/html": [
       "<div>\n",
       "<style scoped>\n",
       "    .dataframe tbody tr th:only-of-type {\n",
       "        vertical-align: middle;\n",
       "    }\n",
       "\n",
       "    .dataframe tbody tr th {\n",
       "        vertical-align: top;\n",
       "    }\n",
       "\n",
       "    .dataframe thead th {\n",
       "        text-align: right;\n",
       "    }\n",
       "</style>\n",
       "<table border=\"1\" class=\"dataframe\">\n",
       "  <thead>\n",
       "    <tr style=\"text-align: right;\">\n",
       "      <th></th>\n",
       "      <th>key</th>\n",
       "      <th>lval</th>\n",
       "    </tr>\n",
       "  </thead>\n",
       "  <tbody>\n",
       "    <tr>\n",
       "      <th>0</th>\n",
       "      <td>foo</td>\n",
       "      <td>1</td>\n",
       "    </tr>\n",
       "    <tr>\n",
       "      <th>1</th>\n",
       "      <td>bar</td>\n",
       "      <td>2</td>\n",
       "    </tr>\n",
       "  </tbody>\n",
       "</table>\n",
       "</div>"
      ],
      "text/plain": [
       "   key  lval\n",
       "0  foo     1\n",
       "1  bar     2"
      ]
     },
     "execution_count": 126,
     "metadata": {},
     "output_type": "execute_result"
    }
   ],
   "source": [
    "left"
   ]
  },
  {
   "cell_type": "code",
   "execution_count": 127,
   "id": "57364881-93db-42a5-bb53-e92bcf629e14",
   "metadata": {},
   "outputs": [
    {
     "data": {
      "text/html": [
       "<div>\n",
       "<style scoped>\n",
       "    .dataframe tbody tr th:only-of-type {\n",
       "        vertical-align: middle;\n",
       "    }\n",
       "\n",
       "    .dataframe tbody tr th {\n",
       "        vertical-align: top;\n",
       "    }\n",
       "\n",
       "    .dataframe thead th {\n",
       "        text-align: right;\n",
       "    }\n",
       "</style>\n",
       "<table border=\"1\" class=\"dataframe\">\n",
       "  <thead>\n",
       "    <tr style=\"text-align: right;\">\n",
       "      <th></th>\n",
       "      <th>key</th>\n",
       "      <th>rval</th>\n",
       "    </tr>\n",
       "  </thead>\n",
       "  <tbody>\n",
       "    <tr>\n",
       "      <th>0</th>\n",
       "      <td>foo</td>\n",
       "      <td>4</td>\n",
       "    </tr>\n",
       "    <tr>\n",
       "      <th>1</th>\n",
       "      <td>bar</td>\n",
       "      <td>5</td>\n",
       "    </tr>\n",
       "  </tbody>\n",
       "</table>\n",
       "</div>"
      ],
      "text/plain": [
       "   key  rval\n",
       "0  foo     4\n",
       "1  bar     5"
      ]
     },
     "execution_count": 127,
     "metadata": {},
     "output_type": "execute_result"
    }
   ],
   "source": [
    "right"
   ]
  },
  {
   "cell_type": "code",
   "execution_count": 128,
   "id": "2e3c6a4c-718d-4575-a106-6d182ccc6777",
   "metadata": {},
   "outputs": [
    {
     "data": {
      "text/html": [
       "<div>\n",
       "<style scoped>\n",
       "    .dataframe tbody tr th:only-of-type {\n",
       "        vertical-align: middle;\n",
       "    }\n",
       "\n",
       "    .dataframe tbody tr th {\n",
       "        vertical-align: top;\n",
       "    }\n",
       "\n",
       "    .dataframe thead th {\n",
       "        text-align: right;\n",
       "    }\n",
       "</style>\n",
       "<table border=\"1\" class=\"dataframe\">\n",
       "  <thead>\n",
       "    <tr style=\"text-align: right;\">\n",
       "      <th></th>\n",
       "      <th>key</th>\n",
       "      <th>lval</th>\n",
       "      <th>rval</th>\n",
       "    </tr>\n",
       "  </thead>\n",
       "  <tbody>\n",
       "    <tr>\n",
       "      <th>0</th>\n",
       "      <td>foo</td>\n",
       "      <td>1</td>\n",
       "      <td>4</td>\n",
       "    </tr>\n",
       "    <tr>\n",
       "      <th>1</th>\n",
       "      <td>bar</td>\n",
       "      <td>2</td>\n",
       "      <td>5</td>\n",
       "    </tr>\n",
       "  </tbody>\n",
       "</table>\n",
       "</div>"
      ],
      "text/plain": [
       "   key  lval  rval\n",
       "0  foo     1     4\n",
       "1  bar     2     5"
      ]
     },
     "execution_count": 128,
     "metadata": {},
     "output_type": "execute_result"
    }
   ],
   "source": [
    "pd.merge(left, right, on=\"key\")"
   ]
  },
  {
   "cell_type": "markdown",
   "id": "4bea26c5-025b-4de3-8c28-b3421a4e798d",
   "metadata": {},
   "source": [
    "# Grouping "
   ]
  },
  {
   "cell_type": "markdown",
   "id": "90a67dea-9021-40b4-9588-f61a75d4a35c",
   "metadata": {},
   "source": [
    "By “group by” we are referring to a process involving one or more of the following steps:\n",
    "    \n",
    "Splitting the data into groups based on some criteria\n",
    "\n",
    "Applying a function to each group independently\n",
    "\n",
    "Combining the results into a data structure"
   ]
  },
  {
   "cell_type": "code",
   "execution_count": 132,
   "id": "2374f9d0-4eed-4da3-b6d5-4bbed2fa2e9f",
   "metadata": {},
   "outputs": [],
   "source": [
    "df = pd.DataFrame(\n",
    "    {\n",
    "        \"A\" : [\"foo\", \"bar\", \"foo\", \"bar\", \"foo\", \"bar\", \"foo\", \"fod\"],    \n",
    "        \"B\": [\"one\", \"two\", \"three\", \"two\", \"one\", \"two\", \"one\", \"three\"],\n",
    "        \"C\": np.random.randn(8),\n",
    "        \"D\": np.random.randn(8)\n",
    "    }\n",
    ")"
   ]
  },
  {
   "cell_type": "code",
   "execution_count": 133,
   "id": "702d2279-e6cb-4a5c-a82c-16bf3f79dce4",
   "metadata": {},
   "outputs": [
    {
     "data": {
      "text/html": [
       "<div>\n",
       "<style scoped>\n",
       "    .dataframe tbody tr th:only-of-type {\n",
       "        vertical-align: middle;\n",
       "    }\n",
       "\n",
       "    .dataframe tbody tr th {\n",
       "        vertical-align: top;\n",
       "    }\n",
       "\n",
       "    .dataframe thead th {\n",
       "        text-align: right;\n",
       "    }\n",
       "</style>\n",
       "<table border=\"1\" class=\"dataframe\">\n",
       "  <thead>\n",
       "    <tr style=\"text-align: right;\">\n",
       "      <th></th>\n",
       "      <th>A</th>\n",
       "      <th>B</th>\n",
       "      <th>C</th>\n",
       "      <th>D</th>\n",
       "    </tr>\n",
       "  </thead>\n",
       "  <tbody>\n",
       "    <tr>\n",
       "      <th>0</th>\n",
       "      <td>foo</td>\n",
       "      <td>one</td>\n",
       "      <td>0.046349</td>\n",
       "      <td>1.187331</td>\n",
       "    </tr>\n",
       "    <tr>\n",
       "      <th>1</th>\n",
       "      <td>bar</td>\n",
       "      <td>two</td>\n",
       "      <td>-0.767999</td>\n",
       "      <td>1.439198</td>\n",
       "    </tr>\n",
       "    <tr>\n",
       "      <th>2</th>\n",
       "      <td>foo</td>\n",
       "      <td>three</td>\n",
       "      <td>-0.361995</td>\n",
       "      <td>-0.478264</td>\n",
       "    </tr>\n",
       "    <tr>\n",
       "      <th>3</th>\n",
       "      <td>bar</td>\n",
       "      <td>two</td>\n",
       "      <td>1.547868</td>\n",
       "      <td>0.022889</td>\n",
       "    </tr>\n",
       "    <tr>\n",
       "      <th>4</th>\n",
       "      <td>foo</td>\n",
       "      <td>one</td>\n",
       "      <td>-1.346767</td>\n",
       "      <td>-1.752230</td>\n",
       "    </tr>\n",
       "    <tr>\n",
       "      <th>5</th>\n",
       "      <td>bar</td>\n",
       "      <td>two</td>\n",
       "      <td>-0.109695</td>\n",
       "      <td>-0.195742</td>\n",
       "    </tr>\n",
       "    <tr>\n",
       "      <th>6</th>\n",
       "      <td>foo</td>\n",
       "      <td>one</td>\n",
       "      <td>0.169742</td>\n",
       "      <td>0.551144</td>\n",
       "    </tr>\n",
       "    <tr>\n",
       "      <th>7</th>\n",
       "      <td>fod</td>\n",
       "      <td>three</td>\n",
       "      <td>0.338828</td>\n",
       "      <td>-0.367399</td>\n",
       "    </tr>\n",
       "  </tbody>\n",
       "</table>\n",
       "</div>"
      ],
      "text/plain": [
       "     A      B         C         D\n",
       "0  foo    one  0.046349  1.187331\n",
       "1  bar    two -0.767999  1.439198\n",
       "2  foo  three -0.361995 -0.478264\n",
       "3  bar    two  1.547868  0.022889\n",
       "4  foo    one -1.346767 -1.752230\n",
       "5  bar    two -0.109695 -0.195742\n",
       "6  foo    one  0.169742  0.551144\n",
       "7  fod  three  0.338828 -0.367399"
      ]
     },
     "execution_count": 133,
     "metadata": {},
     "output_type": "execute_result"
    }
   ],
   "source": [
    "df"
   ]
  },
  {
   "cell_type": "markdown",
   "id": "61b3c7f3-b082-4802-9a31-b5ee77b22833",
   "metadata": {},
   "source": [
    "# Grouping by a column label, selecting column labels, and then applying the DataFrameGroupBy.sum() function to the resulting groups:"
   ]
  },
  {
   "cell_type": "code",
   "execution_count": 140,
   "id": "398e65be-e6bc-47c3-8e54-2fae9d1c70d4",
   "metadata": {},
   "outputs": [
    {
     "data": {
      "text/plain": [
       "<pandas.core.groupby.generic.DataFrameGroupBy object at 0x000002197ADE9DF0>"
      ]
     },
     "execution_count": 140,
     "metadata": {},
     "output_type": "execute_result"
    }
   ],
   "source": [
    "df.groupby(\"A\")"
   ]
  },
  {
   "cell_type": "code",
   "execution_count": 141,
   "id": "3ceb6874-e292-4e5a-bfca-5ce426437c1f",
   "metadata": {},
   "outputs": [
    {
     "data": {
      "text/plain": [
       "<pandas.core.groupby.generic.DataFrameGroupBy object at 0x000002197ADE9F70>"
      ]
     },
     "execution_count": 141,
     "metadata": {},
     "output_type": "execute_result"
    }
   ],
   "source": [
    "df.groupby(\"A\")[[\"C\", \"D\"]]"
   ]
  },
  {
   "cell_type": "code",
   "execution_count": 142,
   "id": "320f8e1e-11aa-49db-b148-b53b9f84f7bc",
   "metadata": {},
   "outputs": [
    {
     "data": {
      "text/html": [
       "<div>\n",
       "<style scoped>\n",
       "    .dataframe tbody tr th:only-of-type {\n",
       "        vertical-align: middle;\n",
       "    }\n",
       "\n",
       "    .dataframe tbody tr th {\n",
       "        vertical-align: top;\n",
       "    }\n",
       "\n",
       "    .dataframe thead th {\n",
       "        text-align: right;\n",
       "    }\n",
       "</style>\n",
       "<table border=\"1\" class=\"dataframe\">\n",
       "  <thead>\n",
       "    <tr style=\"text-align: right;\">\n",
       "      <th></th>\n",
       "      <th>C</th>\n",
       "      <th>D</th>\n",
       "    </tr>\n",
       "    <tr>\n",
       "      <th>A</th>\n",
       "      <th></th>\n",
       "      <th></th>\n",
       "    </tr>\n",
       "  </thead>\n",
       "  <tbody>\n",
       "    <tr>\n",
       "      <th>bar</th>\n",
       "      <td>0.670174</td>\n",
       "      <td>1.266345</td>\n",
       "    </tr>\n",
       "    <tr>\n",
       "      <th>fod</th>\n",
       "      <td>0.338828</td>\n",
       "      <td>-0.367399</td>\n",
       "    </tr>\n",
       "    <tr>\n",
       "      <th>foo</th>\n",
       "      <td>-1.492672</td>\n",
       "      <td>-0.492020</td>\n",
       "    </tr>\n",
       "  </tbody>\n",
       "</table>\n",
       "</div>"
      ],
      "text/plain": [
       "            C         D\n",
       "A                      \n",
       "bar  0.670174  1.266345\n",
       "fod  0.338828 -0.367399\n",
       "foo -1.492672 -0.492020"
      ]
     },
     "execution_count": 142,
     "metadata": {},
     "output_type": "execute_result"
    }
   ],
   "source": [
    "df.groupby(\"A\")[[\"C\", \"D\"]].sum()"
   ]
  },
  {
   "cell_type": "markdown",
   "id": "3794c1c5-628a-4f30-889e-5b713957d0db",
   "metadata": {},
   "source": [
    "# Grouping by multiple columns label forms MultiIndex."
   ]
  },
  {
   "cell_type": "code",
   "execution_count": 144,
   "id": "b27c8d1a-e230-4251-b976-e13a6c5de486",
   "metadata": {},
   "outputs": [
    {
     "data": {
      "text/html": [
       "<div>\n",
       "<style scoped>\n",
       "    .dataframe tbody tr th:only-of-type {\n",
       "        vertical-align: middle;\n",
       "    }\n",
       "\n",
       "    .dataframe tbody tr th {\n",
       "        vertical-align: top;\n",
       "    }\n",
       "\n",
       "    .dataframe thead th {\n",
       "        text-align: right;\n",
       "    }\n",
       "</style>\n",
       "<table border=\"1\" class=\"dataframe\">\n",
       "  <thead>\n",
       "    <tr style=\"text-align: right;\">\n",
       "      <th></th>\n",
       "      <th></th>\n",
       "      <th>C</th>\n",
       "      <th>D</th>\n",
       "    </tr>\n",
       "    <tr>\n",
       "      <th>A</th>\n",
       "      <th>B</th>\n",
       "      <th></th>\n",
       "      <th></th>\n",
       "    </tr>\n",
       "  </thead>\n",
       "  <tbody>\n",
       "    <tr>\n",
       "      <th>bar</th>\n",
       "      <th>two</th>\n",
       "      <td>0.670174</td>\n",
       "      <td>1.266345</td>\n",
       "    </tr>\n",
       "    <tr>\n",
       "      <th>fod</th>\n",
       "      <th>three</th>\n",
       "      <td>0.338828</td>\n",
       "      <td>-0.367399</td>\n",
       "    </tr>\n",
       "    <tr>\n",
       "      <th rowspan=\"2\" valign=\"top\">foo</th>\n",
       "      <th>one</th>\n",
       "      <td>-1.130677</td>\n",
       "      <td>-0.013756</td>\n",
       "    </tr>\n",
       "    <tr>\n",
       "      <th>three</th>\n",
       "      <td>-0.361995</td>\n",
       "      <td>-0.478264</td>\n",
       "    </tr>\n",
       "  </tbody>\n",
       "</table>\n",
       "</div>"
      ],
      "text/plain": [
       "                  C         D\n",
       "A   B                        \n",
       "bar two    0.670174  1.266345\n",
       "fod three  0.338828 -0.367399\n",
       "foo one   -1.130677 -0.013756\n",
       "    three -0.361995 -0.478264"
      ]
     },
     "execution_count": 144,
     "metadata": {},
     "output_type": "execute_result"
    }
   ],
   "source": [
    "df.groupby([\"A\", \"B\"]).sum()"
   ]
  },
  {
   "cell_type": "code",
   "execution_count": 145,
   "id": "b0503c03-6d50-47f5-a367-6233e2ead4c1",
   "metadata": {},
   "outputs": [
    {
     "data": {
      "text/html": [
       "<div>\n",
       "<style scoped>\n",
       "    .dataframe tbody tr th:only-of-type {\n",
       "        vertical-align: middle;\n",
       "    }\n",
       "\n",
       "    .dataframe tbody tr th {\n",
       "        vertical-align: top;\n",
       "    }\n",
       "\n",
       "    .dataframe thead th {\n",
       "        text-align: right;\n",
       "    }\n",
       "</style>\n",
       "<table border=\"1\" class=\"dataframe\">\n",
       "  <thead>\n",
       "    <tr style=\"text-align: right;\">\n",
       "      <th></th>\n",
       "      <th>B</th>\n",
       "      <th>C</th>\n",
       "      <th>D</th>\n",
       "    </tr>\n",
       "    <tr>\n",
       "      <th>A</th>\n",
       "      <th></th>\n",
       "      <th></th>\n",
       "      <th></th>\n",
       "    </tr>\n",
       "  </thead>\n",
       "  <tbody>\n",
       "    <tr>\n",
       "      <th>bar</th>\n",
       "      <td>twotwotwo</td>\n",
       "      <td>0.670174</td>\n",
       "      <td>1.266345</td>\n",
       "    </tr>\n",
       "    <tr>\n",
       "      <th>fod</th>\n",
       "      <td>three</td>\n",
       "      <td>0.338828</td>\n",
       "      <td>-0.367399</td>\n",
       "    </tr>\n",
       "    <tr>\n",
       "      <th>foo</th>\n",
       "      <td>onethreeoneone</td>\n",
       "      <td>-1.492672</td>\n",
       "      <td>-0.492020</td>\n",
       "    </tr>\n",
       "  </tbody>\n",
       "</table>\n",
       "</div>"
      ],
      "text/plain": [
       "                  B         C         D\n",
       "A                                      \n",
       "bar       twotwotwo  0.670174  1.266345\n",
       "fod           three  0.338828 -0.367399\n",
       "foo  onethreeoneone -1.492672 -0.492020"
      ]
     },
     "execution_count": 145,
     "metadata": {},
     "output_type": "execute_result"
    }
   ],
   "source": [
    "df.groupby(\"A\").sum()"
   ]
  },
  {
   "cell_type": "markdown",
   "id": "8d3bda9a-b79a-4c78-b120-e0c4a5f7c89e",
   "metadata": {},
   "source": [
    "# Reshaping"
   ]
  },
  {
   "cell_type": "markdown",
   "id": "d9c6e85e-8404-44dd-889e-424219679066",
   "metadata": {},
   "source": [
    "# Stack"
   ]
  },
  {
   "cell_type": "code",
   "execution_count": 172,
   "id": "9c772d23-9f17-4e0f-a5b2-92c69bd0d010",
   "metadata": {},
   "outputs": [],
   "source": [
    "arrays = [\n",
    "    [\"bar\", \"bar\", \"baz\", \"baz\", \"foo\", \"foo\", \"qux\", \"qux\"],\n",
    "    [\"one\", \"two\",\"one\", \"two\", \"one\", \"two\", \"one\", \"two\" ],\n",
    "]"
   ]
  },
  {
   "cell_type": "code",
   "execution_count": 173,
   "id": "a5bb21ea-eb06-4f8f-b301-10ace62d51b7",
   "metadata": {},
   "outputs": [
    {
     "data": {
      "text/plain": [
       "[['bar', 'bar', 'baz', 'baz', 'foo', 'foo', 'qux', 'qux'],\n",
       " ['one', 'two', 'one', 'two', 'one', 'two', 'one', 'two']]"
      ]
     },
     "execution_count": 173,
     "metadata": {},
     "output_type": "execute_result"
    }
   ],
   "source": [
    "arrays"
   ]
  },
  {
   "cell_type": "code",
   "execution_count": 174,
   "id": "ced66eca-3742-4868-8546-f96bdcc4a0de",
   "metadata": {},
   "outputs": [],
   "source": [
    "index = pd.MultiIndex.from_arrays(arrays, names= [\"first\", \"second\"])"
   ]
  },
  {
   "cell_type": "code",
   "execution_count": 175,
   "id": "eeba3ce0-761c-4df7-86c6-3cd61756965c",
   "metadata": {},
   "outputs": [
    {
     "data": {
      "text/plain": [
       "MultiIndex([('bar', 'one'),\n",
       "            ('bar', 'two'),\n",
       "            ('baz', 'one'),\n",
       "            ('baz', 'two'),\n",
       "            ('foo', 'one'),\n",
       "            ('foo', 'two'),\n",
       "            ('qux', 'one'),\n",
       "            ('qux', 'two')],\n",
       "           names=['first', 'second'])"
      ]
     },
     "execution_count": 175,
     "metadata": {},
     "output_type": "execute_result"
    }
   ],
   "source": [
    "index"
   ]
  },
  {
   "cell_type": "code",
   "execution_count": 176,
   "id": "8d8b23ef-2182-4e12-8b8f-3b0114a47d4d",
   "metadata": {},
   "outputs": [],
   "source": [
    "df = pd.DataFrame(np.random.randn(8,2), index=arrays, columns=[\"A\",\"B\"])"
   ]
  },
  {
   "cell_type": "code",
   "execution_count": 177,
   "id": "0ad13f68-b492-4edf-af39-b0fdba7a7218",
   "metadata": {},
   "outputs": [
    {
     "data": {
      "text/html": [
       "<div>\n",
       "<style scoped>\n",
       "    .dataframe tbody tr th:only-of-type {\n",
       "        vertical-align: middle;\n",
       "    }\n",
       "\n",
       "    .dataframe tbody tr th {\n",
       "        vertical-align: top;\n",
       "    }\n",
       "\n",
       "    .dataframe thead th {\n",
       "        text-align: right;\n",
       "    }\n",
       "</style>\n",
       "<table border=\"1\" class=\"dataframe\">\n",
       "  <thead>\n",
       "    <tr style=\"text-align: right;\">\n",
       "      <th></th>\n",
       "      <th></th>\n",
       "      <th>A</th>\n",
       "      <th>B</th>\n",
       "    </tr>\n",
       "  </thead>\n",
       "  <tbody>\n",
       "    <tr>\n",
       "      <th rowspan=\"2\" valign=\"top\">bar</th>\n",
       "      <th>one</th>\n",
       "      <td>1.345208</td>\n",
       "      <td>-0.735096</td>\n",
       "    </tr>\n",
       "    <tr>\n",
       "      <th>two</th>\n",
       "      <td>-1.040937</td>\n",
       "      <td>0.114636</td>\n",
       "    </tr>\n",
       "    <tr>\n",
       "      <th rowspan=\"2\" valign=\"top\">baz</th>\n",
       "      <th>one</th>\n",
       "      <td>1.825886</td>\n",
       "      <td>1.005167</td>\n",
       "    </tr>\n",
       "    <tr>\n",
       "      <th>two</th>\n",
       "      <td>-0.802986</td>\n",
       "      <td>1.281225</td>\n",
       "    </tr>\n",
       "    <tr>\n",
       "      <th rowspan=\"2\" valign=\"top\">foo</th>\n",
       "      <th>one</th>\n",
       "      <td>2.044666</td>\n",
       "      <td>1.368549</td>\n",
       "    </tr>\n",
       "    <tr>\n",
       "      <th>two</th>\n",
       "      <td>-0.218142</td>\n",
       "      <td>0.183896</td>\n",
       "    </tr>\n",
       "    <tr>\n",
       "      <th rowspan=\"2\" valign=\"top\">qux</th>\n",
       "      <th>one</th>\n",
       "      <td>-0.688521</td>\n",
       "      <td>-0.040270</td>\n",
       "    </tr>\n",
       "    <tr>\n",
       "      <th>two</th>\n",
       "      <td>-1.438696</td>\n",
       "      <td>0.628251</td>\n",
       "    </tr>\n",
       "  </tbody>\n",
       "</table>\n",
       "</div>"
      ],
      "text/plain": [
       "                A         B\n",
       "bar one  1.345208 -0.735096\n",
       "    two -1.040937  0.114636\n",
       "baz one  1.825886  1.005167\n",
       "    two -0.802986  1.281225\n",
       "foo one  2.044666  1.368549\n",
       "    two -0.218142  0.183896\n",
       "qux one -0.688521 -0.040270\n",
       "    two -1.438696  0.628251"
      ]
     },
     "execution_count": 177,
     "metadata": {},
     "output_type": "execute_result"
    }
   ],
   "source": [
    "df"
   ]
  },
  {
   "cell_type": "code",
   "execution_count": 178,
   "id": "167cec47-8653-446a-aff9-9f7add1283bd",
   "metadata": {},
   "outputs": [],
   "source": [
    "df2 = df[:4]"
   ]
  },
  {
   "cell_type": "code",
   "execution_count": 179,
   "id": "280ec2ac-5836-4a0b-81a4-aa2ddb84b8b3",
   "metadata": {},
   "outputs": [
    {
     "data": {
      "text/html": [
       "<div>\n",
       "<style scoped>\n",
       "    .dataframe tbody tr th:only-of-type {\n",
       "        vertical-align: middle;\n",
       "    }\n",
       "\n",
       "    .dataframe tbody tr th {\n",
       "        vertical-align: top;\n",
       "    }\n",
       "\n",
       "    .dataframe thead th {\n",
       "        text-align: right;\n",
       "    }\n",
       "</style>\n",
       "<table border=\"1\" class=\"dataframe\">\n",
       "  <thead>\n",
       "    <tr style=\"text-align: right;\">\n",
       "      <th></th>\n",
       "      <th></th>\n",
       "      <th>A</th>\n",
       "      <th>B</th>\n",
       "    </tr>\n",
       "  </thead>\n",
       "  <tbody>\n",
       "    <tr>\n",
       "      <th rowspan=\"2\" valign=\"top\">bar</th>\n",
       "      <th>one</th>\n",
       "      <td>1.345208</td>\n",
       "      <td>-0.735096</td>\n",
       "    </tr>\n",
       "    <tr>\n",
       "      <th>two</th>\n",
       "      <td>-1.040937</td>\n",
       "      <td>0.114636</td>\n",
       "    </tr>\n",
       "    <tr>\n",
       "      <th rowspan=\"2\" valign=\"top\">baz</th>\n",
       "      <th>one</th>\n",
       "      <td>1.825886</td>\n",
       "      <td>1.005167</td>\n",
       "    </tr>\n",
       "    <tr>\n",
       "      <th>two</th>\n",
       "      <td>-0.802986</td>\n",
       "      <td>1.281225</td>\n",
       "    </tr>\n",
       "  </tbody>\n",
       "</table>\n",
       "</div>"
      ],
      "text/plain": [
       "                A         B\n",
       "bar one  1.345208 -0.735096\n",
       "    two -1.040937  0.114636\n",
       "baz one  1.825886  1.005167\n",
       "    two -0.802986  1.281225"
      ]
     },
     "execution_count": 179,
     "metadata": {},
     "output_type": "execute_result"
    }
   ],
   "source": [
    "df2"
   ]
  },
  {
   "cell_type": "markdown",
   "id": "4972c5c2-49e8-41b3-8ab0-a7227da413b6",
   "metadata": {},
   "source": [
    "# The stack() method “compresses” a level in the DataFrame’s columns:"
   ]
  },
  {
   "cell_type": "code",
   "execution_count": 181,
   "id": "4eb933e4-37c0-43c5-b2f1-9d9777d911ee",
   "metadata": {},
   "outputs": [],
   "source": [
    "staked  = df.stack()"
   ]
  },
  {
   "cell_type": "code",
   "execution_count": 182,
   "id": "d66e1e99-8fcc-41d2-94b0-a7e60a05f6f3",
   "metadata": {},
   "outputs": [
    {
     "data": {
      "text/plain": [
       "bar  one  A    1.345208\n",
       "          B   -0.735096\n",
       "     two  A   -1.040937\n",
       "          B    0.114636\n",
       "baz  one  A    1.825886\n",
       "          B    1.005167\n",
       "     two  A   -0.802986\n",
       "          B    1.281225\n",
       "foo  one  A    2.044666\n",
       "          B    1.368549\n",
       "     two  A   -0.218142\n",
       "          B    0.183896\n",
       "qux  one  A   -0.688521\n",
       "          B   -0.040270\n",
       "     two  A   -1.438696\n",
       "          B    0.628251\n",
       "dtype: float64"
      ]
     },
     "execution_count": 182,
     "metadata": {},
     "output_type": "execute_result"
    }
   ],
   "source": [
    "staked"
   ]
  },
  {
   "cell_type": "code",
   "execution_count": 183,
   "id": "abdaf222-697a-4f7d-8234-6c0d69aadcd2",
   "metadata": {},
   "outputs": [],
   "source": [
    "staked1 = df.stack(future_stack=False)"
   ]
  },
  {
   "cell_type": "code",
   "execution_count": 185,
   "id": "26ef962e-b80b-409b-8248-712be1c8936c",
   "metadata": {},
   "outputs": [
    {
     "data": {
      "text/plain": [
       "bar  one  A    1.345208\n",
       "          B   -0.735096\n",
       "     two  A   -1.040937\n",
       "          B    0.114636\n",
       "baz  one  A    1.825886\n",
       "          B    1.005167\n",
       "     two  A   -0.802986\n",
       "          B    1.281225\n",
       "foo  one  A    2.044666\n",
       "          B    1.368549\n",
       "     two  A   -0.218142\n",
       "          B    0.183896\n",
       "qux  one  A   -0.688521\n",
       "          B   -0.040270\n",
       "     two  A   -1.438696\n",
       "          B    0.628251\n",
       "dtype: float64"
      ]
     },
     "execution_count": 185,
     "metadata": {},
     "output_type": "execute_result"
    }
   ],
   "source": [
    "staked1"
   ]
  },
  {
   "cell_type": "code",
   "execution_count": 186,
   "id": "375696a8-a0b9-4e7b-932e-365c6f0fd0e0",
   "metadata": {},
   "outputs": [],
   "source": [
    "staked2 = df.stack(future_stack=True)"
   ]
  },
  {
   "cell_type": "code",
   "execution_count": 187,
   "id": "99608dfd-562d-4aad-844e-09002749c247",
   "metadata": {},
   "outputs": [
    {
     "data": {
      "text/plain": [
       "bar  one  A    1.345208\n",
       "          B   -0.735096\n",
       "     two  A   -1.040937\n",
       "          B    0.114636\n",
       "baz  one  A    1.825886\n",
       "          B    1.005167\n",
       "     two  A   -0.802986\n",
       "          B    1.281225\n",
       "foo  one  A    2.044666\n",
       "          B    1.368549\n",
       "     two  A   -0.218142\n",
       "          B    0.183896\n",
       "qux  one  A   -0.688521\n",
       "          B   -0.040270\n",
       "     two  A   -1.438696\n",
       "          B    0.628251\n",
       "dtype: float64"
      ]
     },
     "execution_count": 187,
     "metadata": {},
     "output_type": "execute_result"
    }
   ],
   "source": [
    "staked2"
   ]
  },
  {
   "cell_type": "code",
   "execution_count": 188,
   "id": "c965bc68-5b2c-48d8-b43e-3d684bd3ae94",
   "metadata": {},
   "outputs": [],
   "source": [
    "staked3 = df2.stack(future_stack=True)"
   ]
  },
  {
   "cell_type": "code",
   "execution_count": 189,
   "id": "ad0c09a1-8c03-45cb-a765-5285b6ed90b7",
   "metadata": {},
   "outputs": [
    {
     "data": {
      "text/plain": [
       "bar  one  A    1.345208\n",
       "          B   -0.735096\n",
       "     two  A   -1.040937\n",
       "          B    0.114636\n",
       "baz  one  A    1.825886\n",
       "          B    1.005167\n",
       "     two  A   -0.802986\n",
       "          B    1.281225\n",
       "dtype: float64"
      ]
     },
     "execution_count": 189,
     "metadata": {},
     "output_type": "execute_result"
    }
   ],
   "source": [
    "staked3"
   ]
  },
  {
   "cell_type": "markdown",
   "id": "f1cac5d2-0b08-4874-9a13-824b22ca0396",
   "metadata": {},
   "source": [
    "# a “stacked” DataFrame or Series (having a MultiIndex as the index), the inverse operation of stack() is unstack(), which by default unstacks the last level:"
   ]
  },
  {
   "cell_type": "code",
   "execution_count": 192,
   "id": "035fdeee-a257-42c1-9439-1fa39adfe113",
   "metadata": {},
   "outputs": [
    {
     "data": {
      "text/html": [
       "<div>\n",
       "<style scoped>\n",
       "    .dataframe tbody tr th:only-of-type {\n",
       "        vertical-align: middle;\n",
       "    }\n",
       "\n",
       "    .dataframe tbody tr th {\n",
       "        vertical-align: top;\n",
       "    }\n",
       "\n",
       "    .dataframe thead th {\n",
       "        text-align: right;\n",
       "    }\n",
       "</style>\n",
       "<table border=\"1\" class=\"dataframe\">\n",
       "  <thead>\n",
       "    <tr style=\"text-align: right;\">\n",
       "      <th></th>\n",
       "      <th></th>\n",
       "      <th>A</th>\n",
       "      <th>B</th>\n",
       "    </tr>\n",
       "  </thead>\n",
       "  <tbody>\n",
       "    <tr>\n",
       "      <th rowspan=\"2\" valign=\"top\">bar</th>\n",
       "      <th>one</th>\n",
       "      <td>1.345208</td>\n",
       "      <td>-0.735096</td>\n",
       "    </tr>\n",
       "    <tr>\n",
       "      <th>two</th>\n",
       "      <td>-1.040937</td>\n",
       "      <td>0.114636</td>\n",
       "    </tr>\n",
       "    <tr>\n",
       "      <th rowspan=\"2\" valign=\"top\">baz</th>\n",
       "      <th>one</th>\n",
       "      <td>1.825886</td>\n",
       "      <td>1.005167</td>\n",
       "    </tr>\n",
       "    <tr>\n",
       "      <th>two</th>\n",
       "      <td>-0.802986</td>\n",
       "      <td>1.281225</td>\n",
       "    </tr>\n",
       "  </tbody>\n",
       "</table>\n",
       "</div>"
      ],
      "text/plain": [
       "                A         B\n",
       "bar one  1.345208 -0.735096\n",
       "    two -1.040937  0.114636\n",
       "baz one  1.825886  1.005167\n",
       "    two -0.802986  1.281225"
      ]
     },
     "execution_count": 192,
     "metadata": {},
     "output_type": "execute_result"
    }
   ],
   "source": [
    "staked3.unstack()"
   ]
  },
  {
   "cell_type": "code",
   "execution_count": 193,
   "id": "7a6a89cf-a9fe-4cf8-8cc2-16405fc8af4d",
   "metadata": {},
   "outputs": [
    {
     "data": {
      "text/html": [
       "<div>\n",
       "<style scoped>\n",
       "    .dataframe tbody tr th:only-of-type {\n",
       "        vertical-align: middle;\n",
       "    }\n",
       "\n",
       "    .dataframe tbody tr th {\n",
       "        vertical-align: top;\n",
       "    }\n",
       "\n",
       "    .dataframe thead th {\n",
       "        text-align: right;\n",
       "    }\n",
       "</style>\n",
       "<table border=\"1\" class=\"dataframe\">\n",
       "  <thead>\n",
       "    <tr style=\"text-align: right;\">\n",
       "      <th></th>\n",
       "      <th></th>\n",
       "      <th>bar</th>\n",
       "      <th>baz</th>\n",
       "    </tr>\n",
       "  </thead>\n",
       "  <tbody>\n",
       "    <tr>\n",
       "      <th rowspan=\"2\" valign=\"top\">one</th>\n",
       "      <th>A</th>\n",
       "      <td>1.345208</td>\n",
       "      <td>1.825886</td>\n",
       "    </tr>\n",
       "    <tr>\n",
       "      <th>B</th>\n",
       "      <td>-0.735096</td>\n",
       "      <td>1.005167</td>\n",
       "    </tr>\n",
       "    <tr>\n",
       "      <th rowspan=\"2\" valign=\"top\">two</th>\n",
       "      <th>A</th>\n",
       "      <td>-1.040937</td>\n",
       "      <td>-0.802986</td>\n",
       "    </tr>\n",
       "    <tr>\n",
       "      <th>B</th>\n",
       "      <td>0.114636</td>\n",
       "      <td>1.281225</td>\n",
       "    </tr>\n",
       "  </tbody>\n",
       "</table>\n",
       "</div>"
      ],
      "text/plain": [
       "            bar       baz\n",
       "one A  1.345208  1.825886\n",
       "    B -0.735096  1.005167\n",
       "two A -1.040937 -0.802986\n",
       "    B  0.114636  1.281225"
      ]
     },
     "execution_count": 193,
     "metadata": {},
     "output_type": "execute_result"
    }
   ],
   "source": [
    "staked3.unstack(0)"
   ]
  },
  {
   "cell_type": "code",
   "execution_count": 194,
   "id": "88ef119b-77cb-42bb-85fa-1b8ff12be7f4",
   "metadata": {},
   "outputs": [
    {
     "data": {
      "text/html": [
       "<div>\n",
       "<style scoped>\n",
       "    .dataframe tbody tr th:only-of-type {\n",
       "        vertical-align: middle;\n",
       "    }\n",
       "\n",
       "    .dataframe tbody tr th {\n",
       "        vertical-align: top;\n",
       "    }\n",
       "\n",
       "    .dataframe thead th {\n",
       "        text-align: right;\n",
       "    }\n",
       "</style>\n",
       "<table border=\"1\" class=\"dataframe\">\n",
       "  <thead>\n",
       "    <tr style=\"text-align: right;\">\n",
       "      <th></th>\n",
       "      <th></th>\n",
       "      <th>one</th>\n",
       "      <th>two</th>\n",
       "    </tr>\n",
       "  </thead>\n",
       "  <tbody>\n",
       "    <tr>\n",
       "      <th rowspan=\"2\" valign=\"top\">bar</th>\n",
       "      <th>A</th>\n",
       "      <td>1.345208</td>\n",
       "      <td>-1.040937</td>\n",
       "    </tr>\n",
       "    <tr>\n",
       "      <th>B</th>\n",
       "      <td>-0.735096</td>\n",
       "      <td>0.114636</td>\n",
       "    </tr>\n",
       "    <tr>\n",
       "      <th rowspan=\"2\" valign=\"top\">baz</th>\n",
       "      <th>A</th>\n",
       "      <td>1.825886</td>\n",
       "      <td>-0.802986</td>\n",
       "    </tr>\n",
       "    <tr>\n",
       "      <th>B</th>\n",
       "      <td>1.005167</td>\n",
       "      <td>1.281225</td>\n",
       "    </tr>\n",
       "  </tbody>\n",
       "</table>\n",
       "</div>"
      ],
      "text/plain": [
       "            one       two\n",
       "bar A  1.345208 -1.040937\n",
       "    B -0.735096  0.114636\n",
       "baz A  1.825886 -0.802986\n",
       "    B  1.005167  1.281225"
      ]
     },
     "execution_count": 194,
     "metadata": {},
     "output_type": "execute_result"
    }
   ],
   "source": [
    "staked3.unstack(1)"
   ]
  },
  {
   "cell_type": "markdown",
   "id": "b739339b-777b-4023-9738-913d56e49478",
   "metadata": {},
   "source": [
    "# Pivot tables"
   ]
  },
  {
   "cell_type": "code",
   "execution_count": 196,
   "id": "89d2354d-7e8e-4d86-95c0-55fd772592dd",
   "metadata": {},
   "outputs": [],
   "source": [
    "df = pd.DataFrame(\n",
    "    {\n",
    "        \"A\":[\"one\", \"one\", \"two\", \"three\"]*3,\n",
    "        \"B\":[\"A\", \"B\", \"C\"]*4,\n",
    "        \"C\":[\"foo\", \"foo\", \"foo\", \"bar\", \"bar\", \"bar\"]*2,\n",
    "        \"D\":np.random.randn(12),\n",
    "        \"D\":np.random.randn(12)\n",
    "        \n",
    "    }\n",
    ")"
   ]
  },
  {
   "cell_type": "code",
   "execution_count": 197,
   "id": "120b5f43-e11c-4f64-b05f-c56ea594e4a8",
   "metadata": {},
   "outputs": [
    {
     "data": {
      "text/html": [
       "<div>\n",
       "<style scoped>\n",
       "    .dataframe tbody tr th:only-of-type {\n",
       "        vertical-align: middle;\n",
       "    }\n",
       "\n",
       "    .dataframe tbody tr th {\n",
       "        vertical-align: top;\n",
       "    }\n",
       "\n",
       "    .dataframe thead th {\n",
       "        text-align: right;\n",
       "    }\n",
       "</style>\n",
       "<table border=\"1\" class=\"dataframe\">\n",
       "  <thead>\n",
       "    <tr style=\"text-align: right;\">\n",
       "      <th></th>\n",
       "      <th>A</th>\n",
       "      <th>B</th>\n",
       "      <th>C</th>\n",
       "      <th>D</th>\n",
       "    </tr>\n",
       "  </thead>\n",
       "  <tbody>\n",
       "    <tr>\n",
       "      <th>0</th>\n",
       "      <td>one</td>\n",
       "      <td>A</td>\n",
       "      <td>foo</td>\n",
       "      <td>1.188594</td>\n",
       "    </tr>\n",
       "    <tr>\n",
       "      <th>1</th>\n",
       "      <td>one</td>\n",
       "      <td>B</td>\n",
       "      <td>foo</td>\n",
       "      <td>0.351129</td>\n",
       "    </tr>\n",
       "    <tr>\n",
       "      <th>2</th>\n",
       "      <td>two</td>\n",
       "      <td>C</td>\n",
       "      <td>foo</td>\n",
       "      <td>-0.460853</td>\n",
       "    </tr>\n",
       "    <tr>\n",
       "      <th>3</th>\n",
       "      <td>three</td>\n",
       "      <td>A</td>\n",
       "      <td>bar</td>\n",
       "      <td>-0.451653</td>\n",
       "    </tr>\n",
       "    <tr>\n",
       "      <th>4</th>\n",
       "      <td>one</td>\n",
       "      <td>B</td>\n",
       "      <td>bar</td>\n",
       "      <td>0.445753</td>\n",
       "    </tr>\n",
       "    <tr>\n",
       "      <th>5</th>\n",
       "      <td>one</td>\n",
       "      <td>C</td>\n",
       "      <td>bar</td>\n",
       "      <td>-0.701167</td>\n",
       "    </tr>\n",
       "    <tr>\n",
       "      <th>6</th>\n",
       "      <td>two</td>\n",
       "      <td>A</td>\n",
       "      <td>foo</td>\n",
       "      <td>0.189399</td>\n",
       "    </tr>\n",
       "    <tr>\n",
       "      <th>7</th>\n",
       "      <td>three</td>\n",
       "      <td>B</td>\n",
       "      <td>foo</td>\n",
       "      <td>-0.477153</td>\n",
       "    </tr>\n",
       "    <tr>\n",
       "      <th>8</th>\n",
       "      <td>one</td>\n",
       "      <td>C</td>\n",
       "      <td>foo</td>\n",
       "      <td>0.301726</td>\n",
       "    </tr>\n",
       "    <tr>\n",
       "      <th>9</th>\n",
       "      <td>one</td>\n",
       "      <td>A</td>\n",
       "      <td>bar</td>\n",
       "      <td>1.092810</td>\n",
       "    </tr>\n",
       "    <tr>\n",
       "      <th>10</th>\n",
       "      <td>two</td>\n",
       "      <td>B</td>\n",
       "      <td>bar</td>\n",
       "      <td>-0.669142</td>\n",
       "    </tr>\n",
       "    <tr>\n",
       "      <th>11</th>\n",
       "      <td>three</td>\n",
       "      <td>C</td>\n",
       "      <td>bar</td>\n",
       "      <td>-0.821645</td>\n",
       "    </tr>\n",
       "  </tbody>\n",
       "</table>\n",
       "</div>"
      ],
      "text/plain": [
       "        A  B    C         D\n",
       "0     one  A  foo  1.188594\n",
       "1     one  B  foo  0.351129\n",
       "2     two  C  foo -0.460853\n",
       "3   three  A  bar -0.451653\n",
       "4     one  B  bar  0.445753\n",
       "5     one  C  bar -0.701167\n",
       "6     two  A  foo  0.189399\n",
       "7   three  B  foo -0.477153\n",
       "8     one  C  foo  0.301726\n",
       "9     one  A  bar  1.092810\n",
       "10    two  B  bar -0.669142\n",
       "11  three  C  bar -0.821645"
      ]
     },
     "execution_count": 197,
     "metadata": {},
     "output_type": "execute_result"
    }
   ],
   "source": [
    "df"
   ]
  },
  {
   "cell_type": "markdown",
   "id": "67766ad2-3684-4800-a57a-618dc8853609",
   "metadata": {},
   "source": [
    "# pivot_table() pivots a DataFrame specifying the values, index and columns"
   ]
  },
  {
   "cell_type": "code",
   "execution_count": 199,
   "id": "0e247f96-7b4a-491e-959f-09985f9370c3",
   "metadata": {},
   "outputs": [
    {
     "data": {
      "text/html": [
       "<div>\n",
       "<style scoped>\n",
       "    .dataframe tbody tr th:only-of-type {\n",
       "        vertical-align: middle;\n",
       "    }\n",
       "\n",
       "    .dataframe tbody tr th {\n",
       "        vertical-align: top;\n",
       "    }\n",
       "\n",
       "    .dataframe thead th {\n",
       "        text-align: right;\n",
       "    }\n",
       "</style>\n",
       "<table border=\"1\" class=\"dataframe\">\n",
       "  <thead>\n",
       "    <tr style=\"text-align: right;\">\n",
       "      <th></th>\n",
       "      <th>C</th>\n",
       "      <th>bar</th>\n",
       "      <th>foo</th>\n",
       "    </tr>\n",
       "    <tr>\n",
       "      <th>A</th>\n",
       "      <th>B</th>\n",
       "      <th></th>\n",
       "      <th></th>\n",
       "    </tr>\n",
       "  </thead>\n",
       "  <tbody>\n",
       "    <tr>\n",
       "      <th rowspan=\"3\" valign=\"top\">one</th>\n",
       "      <th>A</th>\n",
       "      <td>1.092810</td>\n",
       "      <td>1.188594</td>\n",
       "    </tr>\n",
       "    <tr>\n",
       "      <th>B</th>\n",
       "      <td>0.445753</td>\n",
       "      <td>0.351129</td>\n",
       "    </tr>\n",
       "    <tr>\n",
       "      <th>C</th>\n",
       "      <td>-0.701167</td>\n",
       "      <td>0.301726</td>\n",
       "    </tr>\n",
       "    <tr>\n",
       "      <th rowspan=\"3\" valign=\"top\">three</th>\n",
       "      <th>A</th>\n",
       "      <td>-0.451653</td>\n",
       "      <td>NaN</td>\n",
       "    </tr>\n",
       "    <tr>\n",
       "      <th>B</th>\n",
       "      <td>NaN</td>\n",
       "      <td>-0.477153</td>\n",
       "    </tr>\n",
       "    <tr>\n",
       "      <th>C</th>\n",
       "      <td>-0.821645</td>\n",
       "      <td>NaN</td>\n",
       "    </tr>\n",
       "    <tr>\n",
       "      <th rowspan=\"3\" valign=\"top\">two</th>\n",
       "      <th>A</th>\n",
       "      <td>NaN</td>\n",
       "      <td>0.189399</td>\n",
       "    </tr>\n",
       "    <tr>\n",
       "      <th>B</th>\n",
       "      <td>-0.669142</td>\n",
       "      <td>NaN</td>\n",
       "    </tr>\n",
       "    <tr>\n",
       "      <th>C</th>\n",
       "      <td>NaN</td>\n",
       "      <td>-0.460853</td>\n",
       "    </tr>\n",
       "  </tbody>\n",
       "</table>\n",
       "</div>"
      ],
      "text/plain": [
       "C             bar       foo\n",
       "A     B                    \n",
       "one   A  1.092810  1.188594\n",
       "      B  0.445753  0.351129\n",
       "      C -0.701167  0.301726\n",
       "three A -0.451653       NaN\n",
       "      B       NaN -0.477153\n",
       "      C -0.821645       NaN\n",
       "two   A       NaN  0.189399\n",
       "      B -0.669142       NaN\n",
       "      C       NaN -0.460853"
      ]
     },
     "execution_count": 199,
     "metadata": {},
     "output_type": "execute_result"
    }
   ],
   "source": [
    "pd.pivot_table(df, values=\"D\", index = [\"A\" ,\"B\"], columns=[\"C\"])"
   ]
  },
  {
   "cell_type": "code",
   "execution_count": null,
   "id": "ddc26e97-7098-4f35-a322-34525e81ee3e",
   "metadata": {},
   "outputs": [],
   "source": []
  }
 ],
 "metadata": {
  "kernelspec": {
   "display_name": "Python 3 (ipykernel)",
   "language": "python",
   "name": "python3"
  },
  "language_info": {
   "codemirror_mode": {
    "name": "ipython",
    "version": 3
   },
   "file_extension": ".py",
   "mimetype": "text/x-python",
   "name": "python",
   "nbconvert_exporter": "python",
   "pygments_lexer": "ipython3",
   "version": "3.12.4"
  }
 },
 "nbformat": 4,
 "nbformat_minor": 5
}
