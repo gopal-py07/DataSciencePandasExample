{
 "cells": [
  {
   "cell_type": "markdown",
   "id": "7336dcc9-423e-4b67-bcdd-c6fb2a003321",
   "metadata": {},
   "source": [
    "# Essential basic functionality"
   ]
  },
  {
   "cell_type": "code",
   "execution_count": 5,
   "id": "1d8aed45-2f40-4385-b0a6-83210632fd9a",
   "metadata": {
    "execution": {
     "iopub.execute_input": "2024-09-10T05:20:10.815037Z",
     "iopub.status.busy": "2024-09-10T05:20:10.815037Z",
     "iopub.status.idle": "2024-09-10T05:20:10.823896Z",
     "shell.execute_reply": "2024-09-10T05:20:10.822808Z",
     "shell.execute_reply.started": "2024-09-10T05:20:10.815037Z"
    }
   },
   "outputs": [],
   "source": [
    "import pandas as pd\n",
    "import numpy as np"
   ]
  },
  {
   "cell_type": "code",
   "execution_count": 207,
   "id": "b6deb517-9f4b-45c5-98c9-966b98904304",
   "metadata": {
    "execution": {
     "iopub.execute_input": "2024-09-05T12:04:11.044075Z",
     "iopub.status.busy": "2024-09-05T12:04:11.033834Z",
     "iopub.status.idle": "2024-09-05T12:04:11.105106Z",
     "shell.execute_reply": "2024-09-05T12:04:11.071783Z",
     "shell.execute_reply.started": "2024-09-05T12:04:11.044075Z"
    }
   },
   "outputs": [],
   "source": [
    "Index = pd.date_range(\"05/09/2024\" , periods=8)"
   ]
  },
  {
   "cell_type": "code",
   "execution_count": 209,
   "id": "4802a3cd-0774-4a93-862e-27eb5d6aa53f",
   "metadata": {
    "execution": {
     "iopub.execute_input": "2024-09-05T12:04:15.277052Z",
     "iopub.status.busy": "2024-09-05T12:04:15.274055Z",
     "iopub.status.idle": "2024-09-05T12:04:15.361057Z",
     "shell.execute_reply": "2024-09-05T12:04:15.339553Z",
     "shell.execute_reply.started": "2024-09-05T12:04:15.277052Z"
    }
   },
   "outputs": [
    {
     "data": {
      "text/plain": [
       "DatetimeIndex(['2024-05-09', '2024-05-10', '2024-05-11', '2024-05-12',\n",
       "               '2024-05-13', '2024-05-14', '2024-05-15', '2024-05-16'],\n",
       "              dtype='datetime64[ns]', freq='D')"
      ]
     },
     "execution_count": 209,
     "metadata": {},
     "output_type": "execute_result"
    }
   ],
   "source": [
    "Index"
   ]
  },
  {
   "cell_type": "code",
   "execution_count": 211,
   "id": "10d5f222-fc4c-4eb4-98c9-e29bf85b5f6f",
   "metadata": {
    "execution": {
     "iopub.execute_input": "2024-09-05T12:04:19.127714Z",
     "iopub.status.busy": "2024-09-05T12:04:19.126714Z",
     "iopub.status.idle": "2024-09-05T12:04:19.290605Z",
     "shell.execute_reply": "2024-09-05T12:04:19.238404Z",
     "shell.execute_reply.started": "2024-09-05T12:04:19.127714Z"
    }
   },
   "outputs": [
    {
     "ename": "TypeError",
     "evalue": "'module' object is not callable",
     "output_type": "error",
     "traceback": [
      "\u001b[1;31m---------------------------------------------------------------------------\u001b[0m",
      "\u001b[1;31mTypeError\u001b[0m                                 Traceback (most recent call last)",
      "Cell \u001b[1;32mIn[211], line 1\u001b[0m\n\u001b[1;32m----> 1\u001b[0m s \u001b[38;5;241m=\u001b[39m pd\u001b[38;5;241m.\u001b[39mSeries(np\u001b[38;5;241m.\u001b[39mrandom(\u001b[38;5;241m5\u001b[39m), index\u001b[38;5;241m=\u001b[39m[\u001b[38;5;124m\"\u001b[39m\u001b[38;5;124ma\u001b[39m\u001b[38;5;124m\"\u001b[39m,\u001b[38;5;124m\"\u001b[39m\u001b[38;5;124mb\u001b[39m\u001b[38;5;124m\"\u001b[39m,\u001b[38;5;124m\"\u001b[39m\u001b[38;5;124mc\u001b[39m\u001b[38;5;124m\"\u001b[39m,\u001b[38;5;124m\"\u001b[39m\u001b[38;5;124md\u001b[39m\u001b[38;5;124m\"\u001b[39m,\u001b[38;5;124m\"\u001b[39m\u001b[38;5;124me\u001b[39m\u001b[38;5;124m\"\u001b[39m])\n",
      "\u001b[1;31mTypeError\u001b[0m: 'module' object is not callable"
     ]
    }
   ],
   "source": [
    "s = pd.Series(np.random(5), index=[\"a\",\"b\",\"c\",\"d\",\"e\"])"
   ]
  },
  {
   "cell_type": "code",
   "execution_count": 213,
   "id": "753713b2-3ec1-4a32-9690-7a6f7f055021",
   "metadata": {
    "execution": {
     "iopub.execute_input": "2024-09-05T12:04:28.143825Z",
     "iopub.status.busy": "2024-09-05T12:04:28.143825Z",
     "iopub.status.idle": "2024-09-05T12:04:28.152907Z",
     "shell.execute_reply": "2024-09-05T12:04:28.151341Z",
     "shell.execute_reply.started": "2024-09-05T12:04:28.143825Z"
    }
   },
   "outputs": [],
   "source": [
    "s = pd.Series(np.random.randn(5), index=[\"a\",\"b\",\"c\",\"d\",\"e\"])"
   ]
  },
  {
   "cell_type": "code",
   "execution_count": 215,
   "id": "f7bf4b2f-97e4-49da-bcbb-4dc86d0895f3",
   "metadata": {
    "execution": {
     "iopub.execute_input": "2024-09-05T12:04:31.511814Z",
     "iopub.status.busy": "2024-09-05T12:04:31.510813Z",
     "iopub.status.idle": "2024-09-05T12:04:31.526043Z",
     "shell.execute_reply": "2024-09-05T12:04:31.524599Z",
     "shell.execute_reply.started": "2024-09-05T12:04:31.511814Z"
    }
   },
   "outputs": [
    {
     "data": {
      "text/plain": [
       "a   -0.278786\n",
       "b    0.707601\n",
       "c   -1.262127\n",
       "d   -0.825999\n",
       "e    0.502408\n",
       "dtype: float64"
      ]
     },
     "execution_count": 215,
     "metadata": {},
     "output_type": "execute_result"
    }
   ],
   "source": [
    "s"
   ]
  },
  {
   "cell_type": "code",
   "execution_count": 217,
   "id": "244af1fa-56c3-44b3-b9a6-3f94f0c721e1",
   "metadata": {
    "execution": {
     "iopub.execute_input": "2024-09-05T12:04:36.289654Z",
     "iopub.status.busy": "2024-09-05T12:04:36.289654Z",
     "iopub.status.idle": "2024-09-05T12:04:36.302477Z",
     "shell.execute_reply": "2024-09-05T12:04:36.302477Z",
     "shell.execute_reply.started": "2024-09-05T12:04:36.289654Z"
    }
   },
   "outputs": [],
   "source": [
    "df = pd.DataFrame(np.random.randn(8,3), index=Index, columns=[\"A\",\"B\",\"C\"])"
   ]
  },
  {
   "cell_type": "code",
   "execution_count": 219,
   "id": "80caaf45-af14-4dca-a922-f76f55af1e27",
   "metadata": {
    "execution": {
     "iopub.execute_input": "2024-09-05T12:04:39.462591Z",
     "iopub.status.busy": "2024-09-05T12:04:39.458592Z",
     "iopub.status.idle": "2024-09-05T12:04:39.588103Z",
     "shell.execute_reply": "2024-09-05T12:04:39.546803Z",
     "shell.execute_reply.started": "2024-09-05T12:04:39.461597Z"
    }
   },
   "outputs": [
    {
     "data": {
      "text/html": [
       "<div>\n",
       "<style scoped>\n",
       "    .dataframe tbody tr th:only-of-type {\n",
       "        vertical-align: middle;\n",
       "    }\n",
       "\n",
       "    .dataframe tbody tr th {\n",
       "        vertical-align: top;\n",
       "    }\n",
       "\n",
       "    .dataframe thead th {\n",
       "        text-align: right;\n",
       "    }\n",
       "</style>\n",
       "<table border=\"1\" class=\"dataframe\">\n",
       "  <thead>\n",
       "    <tr style=\"text-align: right;\">\n",
       "      <th></th>\n",
       "      <th>A</th>\n",
       "      <th>B</th>\n",
       "      <th>C</th>\n",
       "    </tr>\n",
       "  </thead>\n",
       "  <tbody>\n",
       "    <tr>\n",
       "      <th>2024-05-09</th>\n",
       "      <td>-0.669373</td>\n",
       "      <td>-0.897791</td>\n",
       "      <td>-2.039007</td>\n",
       "    </tr>\n",
       "    <tr>\n",
       "      <th>2024-05-10</th>\n",
       "      <td>0.474056</td>\n",
       "      <td>-2.301712</td>\n",
       "      <td>0.012047</td>\n",
       "    </tr>\n",
       "    <tr>\n",
       "      <th>2024-05-11</th>\n",
       "      <td>-0.651026</td>\n",
       "      <td>-0.109305</td>\n",
       "      <td>0.475347</td>\n",
       "    </tr>\n",
       "    <tr>\n",
       "      <th>2024-05-12</th>\n",
       "      <td>1.079372</td>\n",
       "      <td>0.858243</td>\n",
       "      <td>1.103918</td>\n",
       "    </tr>\n",
       "    <tr>\n",
       "      <th>2024-05-13</th>\n",
       "      <td>0.367591</td>\n",
       "      <td>1.496114</td>\n",
       "      <td>-0.591148</td>\n",
       "    </tr>\n",
       "    <tr>\n",
       "      <th>2024-05-14</th>\n",
       "      <td>0.222514</td>\n",
       "      <td>-0.772699</td>\n",
       "      <td>0.642954</td>\n",
       "    </tr>\n",
       "    <tr>\n",
       "      <th>2024-05-15</th>\n",
       "      <td>0.495095</td>\n",
       "      <td>-1.283508</td>\n",
       "      <td>-0.112395</td>\n",
       "    </tr>\n",
       "    <tr>\n",
       "      <th>2024-05-16</th>\n",
       "      <td>2.551928</td>\n",
       "      <td>1.247187</td>\n",
       "      <td>1.468325</td>\n",
       "    </tr>\n",
       "  </tbody>\n",
       "</table>\n",
       "</div>"
      ],
      "text/plain": [
       "                   A         B         C\n",
       "2024-05-09 -0.669373 -0.897791 -2.039007\n",
       "2024-05-10  0.474056 -2.301712  0.012047\n",
       "2024-05-11 -0.651026 -0.109305  0.475347\n",
       "2024-05-12  1.079372  0.858243  1.103918\n",
       "2024-05-13  0.367591  1.496114 -0.591148\n",
       "2024-05-14  0.222514 -0.772699  0.642954\n",
       "2024-05-15  0.495095 -1.283508 -0.112395\n",
       "2024-05-16  2.551928  1.247187  1.468325"
      ]
     },
     "execution_count": 219,
     "metadata": {},
     "output_type": "execute_result"
    }
   ],
   "source": [
    "df"
   ]
  },
  {
   "cell_type": "markdown",
   "id": "8f53433f-7d64-4bac-bc42-5a93c83a05a2",
   "metadata": {},
   "source": [
    "# Head and tail"
   ]
  },
  {
   "cell_type": "markdown",
   "id": "13683f26-f630-4ab5-bb67-1c1179e965e7",
   "metadata": {},
   "source": [
    "To view a small sample of a Series or DataFrame object, use the head() and tail() methods. The default number of elements to display is five, but you may pass a custom number."
   ]
  },
  {
   "cell_type": "code",
   "execution_count": 222,
   "id": "d269f9b5-cb1e-436b-a5b0-d0ae4584df7e",
   "metadata": {
    "execution": {
     "iopub.execute_input": "2024-09-05T12:04:49.925549Z",
     "iopub.status.busy": "2024-09-05T12:04:49.925549Z",
     "iopub.status.idle": "2024-09-05T12:04:49.941905Z",
     "shell.execute_reply": "2024-09-05T12:04:49.939852Z",
     "shell.execute_reply.started": "2024-09-05T12:04:49.925549Z"
    }
   },
   "outputs": [],
   "source": [
    "series = pd.Series(np.random.randn(1000))"
   ]
  },
  {
   "cell_type": "code",
   "execution_count": 224,
   "id": "c482e011-6527-4767-887f-2e0e7773cca6",
   "metadata": {
    "execution": {
     "iopub.execute_input": "2024-09-05T12:04:52.262903Z",
     "iopub.status.busy": "2024-09-05T12:04:52.261905Z",
     "iopub.status.idle": "2024-09-05T12:04:52.365648Z",
     "shell.execute_reply": "2024-09-05T12:04:52.327692Z",
     "shell.execute_reply.started": "2024-09-05T12:04:52.262903Z"
    }
   },
   "outputs": [
    {
     "data": {
      "text/plain": [
       "0     -0.603932\n",
       "1      0.825112\n",
       "2      1.703419\n",
       "3      0.358948\n",
       "4      0.413435\n",
       "         ...   \n",
       "995    1.972014\n",
       "996   -0.300611\n",
       "997    1.290141\n",
       "998   -0.100424\n",
       "999   -0.343887\n",
       "Length: 1000, dtype: float64"
      ]
     },
     "execution_count": 224,
     "metadata": {},
     "output_type": "execute_result"
    }
   ],
   "source": [
    "series"
   ]
  },
  {
   "cell_type": "code",
   "execution_count": 226,
   "id": "608be898-0820-4f46-a23b-5bf8dc5ddf76",
   "metadata": {
    "execution": {
     "iopub.execute_input": "2024-09-05T12:04:55.731301Z",
     "iopub.status.busy": "2024-09-05T12:04:55.731301Z",
     "iopub.status.idle": "2024-09-05T12:04:55.752906Z",
     "shell.execute_reply": "2024-09-05T12:04:55.751249Z",
     "shell.execute_reply.started": "2024-09-05T12:04:55.731301Z"
    }
   },
   "outputs": [
    {
     "data": {
      "text/plain": [
       "0   -0.603932\n",
       "1    0.825112\n",
       "2    1.703419\n",
       "3    0.358948\n",
       "4    0.413435\n",
       "dtype: float64"
      ]
     },
     "execution_count": 226,
     "metadata": {},
     "output_type": "execute_result"
    }
   ],
   "source": [
    "series.head()"
   ]
  },
  {
   "cell_type": "code",
   "execution_count": 228,
   "id": "eba6da42-6a9e-472f-ac15-0cf1dd424043",
   "metadata": {
    "execution": {
     "iopub.execute_input": "2024-09-05T12:04:59.006472Z",
     "iopub.status.busy": "2024-09-05T12:04:59.004556Z",
     "iopub.status.idle": "2024-09-05T12:04:59.021925Z",
     "shell.execute_reply": "2024-09-05T12:04:59.020259Z",
     "shell.execute_reply.started": "2024-09-05T12:04:59.006472Z"
    }
   },
   "outputs": [
    {
     "data": {
      "text/plain": [
       "995    1.972014\n",
       "996   -0.300611\n",
       "997    1.290141\n",
       "998   -0.100424\n",
       "999   -0.343887\n",
       "dtype: float64"
      ]
     },
     "execution_count": 228,
     "metadata": {},
     "output_type": "execute_result"
    }
   ],
   "source": [
    "series.tail()"
   ]
  },
  {
   "cell_type": "markdown",
   "id": "4e41586c-f4b2-4b47-9dd4-430a9dd840a3",
   "metadata": {},
   "source": [
    "# Attributes and underlying data"
   ]
  },
  {
   "cell_type": "markdown",
   "id": "74115e1a-b343-475c-aaa7-7db5f5bcdac6",
   "metadata": {},
   "source": [
    "pandas object have no of attibute eanbling to acesss you metadata"
   ]
  },
  {
   "cell_type": "markdown",
   "id": "79ac71df-06f6-4145-9dc0-0af642b6a941",
   "metadata": {},
   "source": [
    "shape: gives the axis dimensions of the object, consistent with ndarray"
   ]
  },
  {
   "cell_type": "markdown",
   "id": "3ab09236-728e-4d4c-ac70-a3276e7557d1",
   "metadata": {},
   "source": [
    "Axis labels\n",
    "    Series: index (only axis)\n",
    "\n",
    "    DataFrame: index (rows) and columns"
   ]
  },
  {
   "cell_type": "markdown",
   "id": "33f6988d-b3c1-49a3-bcff-e4e713051caa",
   "metadata": {},
   "source": [
    "Note, these attributes can be safely assigned to!\n",
    "\n"
   ]
  },
  {
   "cell_type": "code",
   "execution_count": 230,
   "id": "a4d6e0de-0d87-4e89-945f-aca4e3e4ea49",
   "metadata": {
    "execution": {
     "iopub.execute_input": "2024-09-05T12:05:03.905487Z",
     "iopub.status.busy": "2024-09-05T12:05:03.902996Z",
     "iopub.status.idle": "2024-09-05T12:05:03.988519Z",
     "shell.execute_reply": "2024-09-05T12:05:03.934780Z",
     "shell.execute_reply.started": "2024-09-05T12:05:03.905487Z"
    }
   },
   "outputs": [
    {
     "data": {
      "text/html": [
       "<div>\n",
       "<style scoped>\n",
       "    .dataframe tbody tr th:only-of-type {\n",
       "        vertical-align: middle;\n",
       "    }\n",
       "\n",
       "    .dataframe tbody tr th {\n",
       "        vertical-align: top;\n",
       "    }\n",
       "\n",
       "    .dataframe thead th {\n",
       "        text-align: right;\n",
       "    }\n",
       "</style>\n",
       "<table border=\"1\" class=\"dataframe\">\n",
       "  <thead>\n",
       "    <tr style=\"text-align: right;\">\n",
       "      <th></th>\n",
       "      <th>A</th>\n",
       "      <th>B</th>\n",
       "      <th>C</th>\n",
       "    </tr>\n",
       "  </thead>\n",
       "  <tbody>\n",
       "    <tr>\n",
       "      <th>2024-05-09</th>\n",
       "      <td>-0.669373</td>\n",
       "      <td>-0.897791</td>\n",
       "      <td>-2.039007</td>\n",
       "    </tr>\n",
       "    <tr>\n",
       "      <th>2024-05-10</th>\n",
       "      <td>0.474056</td>\n",
       "      <td>-2.301712</td>\n",
       "      <td>0.012047</td>\n",
       "    </tr>\n",
       "  </tbody>\n",
       "</table>\n",
       "</div>"
      ],
      "text/plain": [
       "                   A         B         C\n",
       "2024-05-09 -0.669373 -0.897791 -2.039007\n",
       "2024-05-10  0.474056 -2.301712  0.012047"
      ]
     },
     "execution_count": 230,
     "metadata": {},
     "output_type": "execute_result"
    }
   ],
   "source": [
    "df[:2]"
   ]
  },
  {
   "cell_type": "code",
   "execution_count": 232,
   "id": "e6293d11-6d1f-4b50-911a-f898b06cecfe",
   "metadata": {
    "execution": {
     "iopub.execute_input": "2024-09-05T12:05:16.243480Z",
     "iopub.status.busy": "2024-09-05T12:05:16.243480Z",
     "iopub.status.idle": "2024-09-05T12:05:16.259959Z",
     "shell.execute_reply": "2024-09-05T12:05:16.258436Z",
     "shell.execute_reply.started": "2024-09-05T12:05:16.243480Z"
    }
   },
   "outputs": [],
   "source": [
    "df.columns = [x.lower() for x in df.columns]"
   ]
  },
  {
   "cell_type": "code",
   "execution_count": 234,
   "id": "893dfe32-f1f1-4ff9-a95b-fa3d8d78983e",
   "metadata": {
    "execution": {
     "iopub.execute_input": "2024-09-05T12:05:20.430276Z",
     "iopub.status.busy": "2024-09-05T12:05:20.430276Z",
     "iopub.status.idle": "2024-09-05T12:05:20.459239Z",
     "shell.execute_reply": "2024-09-05T12:05:20.457496Z",
     "shell.execute_reply.started": "2024-09-05T12:05:20.430276Z"
    }
   },
   "outputs": [
    {
     "data": {
      "text/html": [
       "<div>\n",
       "<style scoped>\n",
       "    .dataframe tbody tr th:only-of-type {\n",
       "        vertical-align: middle;\n",
       "    }\n",
       "\n",
       "    .dataframe tbody tr th {\n",
       "        vertical-align: top;\n",
       "    }\n",
       "\n",
       "    .dataframe thead th {\n",
       "        text-align: right;\n",
       "    }\n",
       "</style>\n",
       "<table border=\"1\" class=\"dataframe\">\n",
       "  <thead>\n",
       "    <tr style=\"text-align: right;\">\n",
       "      <th></th>\n",
       "      <th>a</th>\n",
       "      <th>b</th>\n",
       "      <th>c</th>\n",
       "    </tr>\n",
       "  </thead>\n",
       "  <tbody>\n",
       "    <tr>\n",
       "      <th>2024-05-09</th>\n",
       "      <td>-0.669373</td>\n",
       "      <td>-0.897791</td>\n",
       "      <td>-2.039007</td>\n",
       "    </tr>\n",
       "    <tr>\n",
       "      <th>2024-05-10</th>\n",
       "      <td>0.474056</td>\n",
       "      <td>-2.301712</td>\n",
       "      <td>0.012047</td>\n",
       "    </tr>\n",
       "    <tr>\n",
       "      <th>2024-05-11</th>\n",
       "      <td>-0.651026</td>\n",
       "      <td>-0.109305</td>\n",
       "      <td>0.475347</td>\n",
       "    </tr>\n",
       "    <tr>\n",
       "      <th>2024-05-12</th>\n",
       "      <td>1.079372</td>\n",
       "      <td>0.858243</td>\n",
       "      <td>1.103918</td>\n",
       "    </tr>\n",
       "    <tr>\n",
       "      <th>2024-05-13</th>\n",
       "      <td>0.367591</td>\n",
       "      <td>1.496114</td>\n",
       "      <td>-0.591148</td>\n",
       "    </tr>\n",
       "    <tr>\n",
       "      <th>2024-05-14</th>\n",
       "      <td>0.222514</td>\n",
       "      <td>-0.772699</td>\n",
       "      <td>0.642954</td>\n",
       "    </tr>\n",
       "    <tr>\n",
       "      <th>2024-05-15</th>\n",
       "      <td>0.495095</td>\n",
       "      <td>-1.283508</td>\n",
       "      <td>-0.112395</td>\n",
       "    </tr>\n",
       "    <tr>\n",
       "      <th>2024-05-16</th>\n",
       "      <td>2.551928</td>\n",
       "      <td>1.247187</td>\n",
       "      <td>1.468325</td>\n",
       "    </tr>\n",
       "  </tbody>\n",
       "</table>\n",
       "</div>"
      ],
      "text/plain": [
       "                   a         b         c\n",
       "2024-05-09 -0.669373 -0.897791 -2.039007\n",
       "2024-05-10  0.474056 -2.301712  0.012047\n",
       "2024-05-11 -0.651026 -0.109305  0.475347\n",
       "2024-05-12  1.079372  0.858243  1.103918\n",
       "2024-05-13  0.367591  1.496114 -0.591148\n",
       "2024-05-14  0.222514 -0.772699  0.642954\n",
       "2024-05-15  0.495095 -1.283508 -0.112395\n",
       "2024-05-16  2.551928  1.247187  1.468325"
      ]
     },
     "execution_count": 234,
     "metadata": {},
     "output_type": "execute_result"
    }
   ],
   "source": [
    "df"
   ]
  },
  {
   "cell_type": "markdown",
   "id": "f3a15109-1bc8-459e-9453-ef80958f5ec5",
   "metadata": {},
   "source": [
    "pandas objects (Index, Series, DataFrame) can be thought of as containers for arrays, which hold the actual da\n",
    "ta and do the actual computation. For many types, the underlying array is a numpy.ndarray"
   ]
  },
  {
   "cell_type": "markdown",
   "id": "c2ab02ce-8faf-4354-b8fe-61882d6dbf5b",
   "metadata": {},
   "source": [
    "To get the actual data inside a Index or Series, use the .array property"
   ]
  },
  {
   "cell_type": "code",
   "execution_count": 236,
   "id": "40934971-3278-4a07-9835-aec9f94b5396",
   "metadata": {
    "execution": {
     "iopub.execute_input": "2024-09-05T12:05:26.597861Z",
     "iopub.status.busy": "2024-09-05T12:05:26.595439Z",
     "iopub.status.idle": "2024-09-05T12:05:26.616020Z",
     "shell.execute_reply": "2024-09-05T12:05:26.615011Z",
     "shell.execute_reply.started": "2024-09-05T12:05:26.596949Z"
    }
   },
   "outputs": [
    {
     "data": {
      "text/plain": [
       "<NumpyExtensionArray>\n",
       "[-0.2787855784414722,  0.7076012105159336, -1.2621274011981924,\n",
       " -0.8259987993942098,  0.5024081835470091]\n",
       "Length: 5, dtype: float64"
      ]
     },
     "execution_count": 236,
     "metadata": {},
     "output_type": "execute_result"
    }
   ],
   "source": [
    "s.array"
   ]
  },
  {
   "cell_type": "code",
   "execution_count": 238,
   "id": "e15ab39a-be73-46a8-8c05-3d09dd0ea1e8",
   "metadata": {
    "execution": {
     "iopub.execute_input": "2024-09-05T12:05:41.232275Z",
     "iopub.status.busy": "2024-09-05T12:05:41.230689Z",
     "iopub.status.idle": "2024-09-05T12:05:41.245763Z",
     "shell.execute_reply": "2024-09-05T12:05:41.244063Z",
     "shell.execute_reply.started": "2024-09-05T12:05:41.232275Z"
    }
   },
   "outputs": [
    {
     "data": {
      "text/plain": [
       "<NumpyExtensionArray>\n",
       "['a', 'b', 'c', 'd', 'e']\n",
       "Length: 5, dtype: object"
      ]
     },
     "execution_count": 238,
     "metadata": {},
     "output_type": "execute_result"
    }
   ],
   "source": [
    "s.index.array"
   ]
  },
  {
   "cell_type": "markdown",
   "id": "99d1e8e4-7d2c-4781-8532-c4f4a9b49d0e",
   "metadata": {},
   "source": [
    "array will always be an ExtensionArray. The exact details of what an ExtensionArray is and why pandas uses them are a bit beyond the scope of this introduction. See dtypes for more."
   ]
  },
  {
   "cell_type": "code",
   "execution_count": 240,
   "id": "9ad583f6-c665-4959-b568-a43e2796be7c",
   "metadata": {
    "execution": {
     "iopub.execute_input": "2024-09-05T12:05:44.329086Z",
     "iopub.status.busy": "2024-09-05T12:05:44.328086Z",
     "iopub.status.idle": "2024-09-05T12:05:44.340342Z",
     "shell.execute_reply": "2024-09-05T12:05:44.338533Z",
     "shell.execute_reply.started": "2024-09-05T12:05:44.328086Z"
    }
   },
   "outputs": [
    {
     "data": {
      "text/plain": [
       "array([-0.27878558,  0.70760121, -1.2621274 , -0.8259988 ,  0.50240818])"
      ]
     },
     "execution_count": 240,
     "metadata": {},
     "output_type": "execute_result"
    }
   ],
   "source": [
    "s.to_numpy()"
   ]
  },
  {
   "cell_type": "code",
   "execution_count": 242,
   "id": "ec96a643-25f2-4349-bfdf-635a0baab0dc",
   "metadata": {
    "execution": {
     "iopub.execute_input": "2024-09-05T12:05:46.978945Z",
     "iopub.status.busy": "2024-09-05T12:05:46.978945Z",
     "iopub.status.idle": "2024-09-05T12:05:47.001628Z",
     "shell.execute_reply": "2024-09-05T12:05:47.000011Z",
     "shell.execute_reply.started": "2024-09-05T12:05:46.978945Z"
    }
   },
   "outputs": [
    {
     "data": {
      "text/plain": [
       "<function numpy.array>"
      ]
     },
     "execution_count": 242,
     "metadata": {},
     "output_type": "execute_result"
    }
   ],
   "source": [
    "np.array"
   ]
  },
  {
   "cell_type": "code",
   "execution_count": 244,
   "id": "0fb90d2c-f3a7-4e7d-a12d-2993af734b86",
   "metadata": {
    "execution": {
     "iopub.execute_input": "2024-09-05T12:05:57.781607Z",
     "iopub.status.busy": "2024-09-05T12:05:57.781607Z",
     "iopub.status.idle": "2024-09-05T12:05:57.798821Z",
     "shell.execute_reply": "2024-09-05T12:05:57.797730Z",
     "shell.execute_reply.started": "2024-09-05T12:05:57.781607Z"
    }
   },
   "outputs": [
    {
     "data": {
      "text/plain": [
       "array([-0.27878558,  0.70760121, -1.2621274 , -0.8259988 ,  0.50240818])"
      ]
     },
     "execution_count": 244,
     "metadata": {},
     "output_type": "execute_result"
    }
   ],
   "source": [
    "np.asarray(s)"
   ]
  },
  {
   "cell_type": "markdown",
   "id": "83a9ea35-f645-4b31-8630-b297748611b6",
   "metadata": {},
   "source": [
    "When the Series or Index is backed by an ExtensionArray, to_numpy() may involve copying data and coercing values"
   ]
  },
  {
   "cell_type": "markdown",
   "id": "4fa7854a-e729-4827-bf16-43c325b5193e",
   "metadata": {},
   "source": [
    "to_numpy() gives some control over the dtype of the resulting numpy.ndarray. For example, consider datetimes with timezones. "
   ]
  },
  {
   "cell_type": "markdown",
   "id": "d131b34f-0586-47ff-ae47-58c230564c4c",
   "metadata": {},
   "source": [
    "NumPy doesn’t have a dtype to represent timezone-aware datetimes, so there are two possibly useful representations:"
   ]
  },
  {
   "cell_type": "markdown",
   "id": "2c111cf9-f389-43f7-922b-75936fb47667",
   "metadata": {},
   "source": [
    "An object-dtype numpy.ndarray with Timestamp objects, each with the correct tz\n",
    "\n",
    "A datetime64[ns] -dtype numpy.ndarray, where the values have been converted to UTC and the timezone discarded"
   ]
  },
  {
   "cell_type": "markdown",
   "id": "a4efbfdb-b639-426f-a27d-f428d731c388",
   "metadata": {},
   "source": [
    "Timezones may be preserved with dtype=object\n",
    "\n"
   ]
  },
  {
   "cell_type": "code",
   "execution_count": 246,
   "id": "df83838e-f9da-4e3b-89c6-83b76f4680c7",
   "metadata": {
    "execution": {
     "iopub.execute_input": "2024-09-05T12:06:02.684048Z",
     "iopub.status.busy": "2024-09-05T12:06:02.684048Z",
     "iopub.status.idle": "2024-09-05T12:06:02.700584Z",
     "shell.execute_reply": "2024-09-05T12:06:02.699051Z",
     "shell.execute_reply.started": "2024-09-05T12:06:02.684048Z"
    }
   },
   "outputs": [],
   "source": [
    "ser = pd.Series(pd.date_range(\"2024\", periods=2, tz=\"CET\" ))"
   ]
  },
  {
   "cell_type": "code",
   "execution_count": 248,
   "id": "580e6994-4d30-45dd-b455-828458971839",
   "metadata": {
    "execution": {
     "iopub.execute_input": "2024-09-05T12:06:06.174878Z",
     "iopub.status.busy": "2024-09-05T12:06:06.173835Z",
     "iopub.status.idle": "2024-09-05T12:06:06.187996Z",
     "shell.execute_reply": "2024-09-05T12:06:06.186955Z",
     "shell.execute_reply.started": "2024-09-05T12:06:06.174878Z"
    }
   },
   "outputs": [
    {
     "data": {
      "text/plain": [
       "0   2024-01-01 00:00:00+01:00\n",
       "1   2024-01-02 00:00:00+01:00\n",
       "dtype: datetime64[ns, CET]"
      ]
     },
     "execution_count": 248,
     "metadata": {},
     "output_type": "execute_result"
    }
   ],
   "source": [
    "ser"
   ]
  },
  {
   "cell_type": "code",
   "execution_count": 250,
   "id": "029328d5-8774-44b2-8dd1-3df409bcbb1c",
   "metadata": {
    "execution": {
     "iopub.execute_input": "2024-09-05T12:06:09.214167Z",
     "iopub.status.busy": "2024-09-05T12:06:09.214167Z",
     "iopub.status.idle": "2024-09-05T12:06:09.230762Z",
     "shell.execute_reply": "2024-09-05T12:06:09.229415Z",
     "shell.execute_reply.started": "2024-09-05T12:06:09.214167Z"
    }
   },
   "outputs": [
    {
     "data": {
      "text/plain": [
       "array([Timestamp('2024-01-01 00:00:00+0100', tz='CET'),\n",
       "       Timestamp('2024-01-02 00:00:00+0100', tz='CET')], dtype=object)"
      ]
     },
     "execution_count": 250,
     "metadata": {},
     "output_type": "execute_result"
    }
   ],
   "source": [
    "ser.to_numpy(dtype=object)"
   ]
  },
  {
   "cell_type": "markdown",
   "id": "b49a4dcf-ccbc-41b6-ace3-e4e2ceab0ee8",
   "metadata": {},
   "source": [
    "Or thrown away with dtype='datetime64[ns]'"
   ]
  },
  {
   "cell_type": "code",
   "execution_count": 252,
   "id": "377d6918-0804-4739-92a3-6d06a1bb4671",
   "metadata": {
    "execution": {
     "iopub.execute_input": "2024-09-05T12:06:13.212308Z",
     "iopub.status.busy": "2024-09-05T12:06:13.212308Z",
     "iopub.status.idle": "2024-09-05T12:06:13.231956Z",
     "shell.execute_reply": "2024-09-05T12:06:13.230950Z",
     "shell.execute_reply.started": "2024-09-05T12:06:13.212308Z"
    }
   },
   "outputs": [
    {
     "data": {
      "text/plain": [
       "array(['2023-12-31T23:00:00.000000000', '2024-01-01T23:00:00.000000000'],\n",
       "      dtype='datetime64[ns]')"
      ]
     },
     "execution_count": 252,
     "metadata": {},
     "output_type": "execute_result"
    }
   ],
   "source": [
    "ser.to_numpy(dtype = \"datetime64[ns]\")"
   ]
  },
  {
   "cell_type": "markdown",
   "id": "b415d38e-00ed-4e19-9ead-58c2f837b5a0",
   "metadata": {},
   "source": [
    "Getting the “raw data” inside a DataFrame is possibly a bit more complex. When your DataFrame only has a single data type for all the columns, DataFrame.to_numpy() will return the underlying data:"
   ]
  },
  {
   "cell_type": "code",
   "execution_count": 254,
   "id": "f986e682-17f1-4033-b5ba-b9a93e48a1d6",
   "metadata": {
    "execution": {
     "iopub.execute_input": "2024-09-05T12:06:16.066217Z",
     "iopub.status.busy": "2024-09-05T12:06:16.063653Z",
     "iopub.status.idle": "2024-09-05T12:06:16.081176Z",
     "shell.execute_reply": "2024-09-05T12:06:16.080363Z",
     "shell.execute_reply.started": "2024-09-05T12:06:16.066217Z"
    }
   },
   "outputs": [
    {
     "data": {
      "text/plain": [
       "array([[-0.66937338, -0.89779063, -2.03900744],\n",
       "       [ 0.4740555 , -2.30171153,  0.01204717],\n",
       "       [-0.65102576, -0.10930545,  0.47534673],\n",
       "       [ 1.07937209,  0.85824326,  1.10391811],\n",
       "       [ 0.36759109,  1.49611382, -0.59114759],\n",
       "       [ 0.22251376, -0.77269936,  0.64295446],\n",
       "       [ 0.49509489, -1.28350795, -0.11239501],\n",
       "       [ 2.55192804,  1.24718716,  1.46832454]])"
      ]
     },
     "execution_count": 254,
     "metadata": {},
     "output_type": "execute_result"
    }
   ],
   "source": [
    "df.to_numpy()"
   ]
  },
  {
   "cell_type": "markdown",
   "id": "32434212-f9aa-48b4-aca0-b1e020a4a360",
   "metadata": {},
   "source": [
    "If a DataFrame contains homogeneously-typed data, the ndarray can actually be modified in-place, and the changes will be reflected in the data structure. For heterogeneous data (e.g. some of the DataFrame’s columns are not all the same dtype), this will not be the case. The values attribute itself, unlike the axis labels, cannot be assigned to."
   ]
  },
  {
   "cell_type": "markdown",
   "id": "eadae2ad-d911-4160-aa77-b9a76cc82f42",
   "metadata": {},
   "source": [
    "# IN the past, Pandas recommended to use Series.values and DataFrame.values to extract data from series or dataframe,\n",
    "# its recommanded to not use .values insted of use a .array() .to_numpy() "
   ]
  },
  {
   "cell_type": "markdown",
   "id": "84806d1b-bfe4-49dc-8d1d-c34d759631e4",
   "metadata": {},
   "source": [
    "# Drowsback of .values()\n",
    "    When Series contain an extention type and if used series.values() to extarct the then data or it returns Numpy array or extention array. \n",
    "    Series.array alwasy return extention array & did not copy the data\n",
    "    series.to_numpy() always return numpy array & did copy/corsing the value.\n",
    "\n",
    "\n",
    "\n",
    "    DataFrame contains a mixture of data type, DataFrame.values copy the data and corsing the value to commomn type and its reletivly it expensive operation.\n",
    "    DataFrame.to_numpy() makes it cleared that return  Numpyarray "
   ]
  },
  {
   "cell_type": "markdown",
   "id": "1441541d-bf73-4690-835c-0a27408e1b3b",
   "metadata": {},
   "source": [
    "# Accelerated operations\n"
   ]
  },
  {
   "cell_type": "markdown",
   "id": "9bde60c7-17a9-4175-b0fd-97b397c92493",
   "metadata": {},
   "source": [
    "Pandas has support certain types of binary numerical and boolean operations using the  <b>numexpr</b>  and <b>bottleneck</b> liabraries.\n",
    "\n",
    "<b>numexpr</b> uses smart chunking, caching, and multiple cores.\n",
    "\n",
    "<b>bottleneck</b> is a set of specialized cython routines that are especially fast when dealing with arrays that have nans.\n",
    "\n",
    "\n",
    "Here is a sample (using 100 column x 100,000 row DataFrames): df2\r\n",
    "\r\n",
    "22.04\r\n",
    "\r\n",
    "36.50\r\n",
    "\r\n",
    "0.6039"
   ]
  },
  {
   "cell_type": "markdown",
   "id": "15c5bca1-20e4-4de3-bf60-aa561a7953b4",
   "metadata": {},
   "source": [
    "b>Operation</b>  <b>0.11.0 (ms)</b> <b>Prior Version (ms)</b> <b>Ratio to Prior</b>\n",
    "\n",
    "df1 > df           2 13.32             125.35                   0.1063\n",
    "\n",
    "df1 * df2           21.71              36.63                    0.5928\n",
    "\n",
    "df1 + df2          22.04               36.50                     0.6039"
   ]
  },
  {
   "cell_type": "markdown",
   "id": "189a6865-6d66-4e87-a079-1dd0cd0fba0a",
   "metadata": {},
   "source": [
    "These are both enabled to be used by default, you can control this by setting the options:"
   ]
  },
  {
   "cell_type": "code",
   "execution_count": 256,
   "id": "923abbcd-4ca4-4910-9020-dc360f26f3ce",
   "metadata": {
    "execution": {
     "iopub.execute_input": "2024-09-05T12:06:24.481768Z",
     "iopub.status.busy": "2024-09-05T12:06:24.481643Z",
     "iopub.status.idle": "2024-09-05T12:06:24.495756Z",
     "shell.execute_reply": "2024-09-05T12:06:24.493647Z",
     "shell.execute_reply.started": "2024-09-05T12:06:24.481768Z"
    }
   },
   "outputs": [],
   "source": [
    "bottleneckf = pd.set_option(\"compute.use_bottleneck\", False)"
   ]
  },
  {
   "cell_type": "code",
   "execution_count": 258,
   "id": "0cfcea66-1e87-4bb4-a83a-bad9131aafc9",
   "metadata": {
    "execution": {
     "iopub.execute_input": "2024-09-05T12:06:27.344205Z",
     "iopub.status.busy": "2024-09-05T12:06:27.344205Z",
     "iopub.status.idle": "2024-09-05T12:06:27.354788Z",
     "shell.execute_reply": "2024-09-05T12:06:27.352870Z",
     "shell.execute_reply.started": "2024-09-05T12:06:27.344205Z"
    }
   },
   "outputs": [
    {
     "name": "stdout",
     "output_type": "stream",
     "text": [
      "None\n"
     ]
    }
   ],
   "source": [
    "print(bottleneckf)"
   ]
  },
  {
   "cell_type": "code",
   "execution_count": 260,
   "id": "0ce650df-8c5f-425b-a54f-c67cbe3b2008",
   "metadata": {
    "execution": {
     "iopub.execute_input": "2024-09-05T12:06:31.850046Z",
     "iopub.status.busy": "2024-09-05T12:06:31.850046Z",
     "iopub.status.idle": "2024-09-05T12:06:31.858925Z",
     "shell.execute_reply": "2024-09-05T12:06:31.857914Z",
     "shell.execute_reply.started": "2024-09-05T12:06:31.850046Z"
    }
   },
   "outputs": [],
   "source": [
    "bottleneckt = pd.set_option(\"compute.use_bottleneck\", True)"
   ]
  },
  {
   "cell_type": "code",
   "execution_count": 262,
   "id": "2fcf86a5-05aa-4d38-90e3-028715c6aeba",
   "metadata": {
    "execution": {
     "iopub.execute_input": "2024-09-05T12:06:35.645678Z",
     "iopub.status.busy": "2024-09-05T12:06:35.643680Z",
     "iopub.status.idle": "2024-09-05T12:06:35.653233Z",
     "shell.execute_reply": "2024-09-05T12:06:35.651713Z",
     "shell.execute_reply.started": "2024-09-05T12:06:35.645678Z"
    }
   },
   "outputs": [
    {
     "name": "stdout",
     "output_type": "stream",
     "text": [
      "None\n"
     ]
    }
   ],
   "source": [
    "print(bottleneckt)"
   ]
  },
  {
   "cell_type": "code",
   "execution_count": 264,
   "id": "8e5ad444-f089-4924-beff-97ba4f898979",
   "metadata": {
    "execution": {
     "iopub.execute_input": "2024-09-05T12:06:48.665845Z",
     "iopub.status.busy": "2024-09-05T12:06:48.664838Z",
     "iopub.status.idle": "2024-09-05T12:06:48.673792Z",
     "shell.execute_reply": "2024-09-05T12:06:48.672056Z",
     "shell.execute_reply.started": "2024-09-05T12:06:48.665845Z"
    }
   },
   "outputs": [],
   "source": [
    "numexprf = pd.set_option(\"compute.use_numexpr\",False)"
   ]
  },
  {
   "cell_type": "code",
   "execution_count": 266,
   "id": "86f1e141-abc5-432f-9c6d-181618078e6c",
   "metadata": {
    "execution": {
     "iopub.execute_input": "2024-09-05T12:06:51.293584Z",
     "iopub.status.busy": "2024-09-05T12:06:51.291584Z",
     "iopub.status.idle": "2024-09-05T12:06:51.304250Z",
     "shell.execute_reply": "2024-09-05T12:06:51.302239Z",
     "shell.execute_reply.started": "2024-09-05T12:06:51.293584Z"
    }
   },
   "outputs": [
    {
     "name": "stdout",
     "output_type": "stream",
     "text": [
      "None\n"
     ]
    }
   ],
   "source": [
    "print(numexprf)"
   ]
  },
  {
   "cell_type": "code",
   "execution_count": 268,
   "id": "9f8dff34-d587-4f5d-ab62-780b692b8b18",
   "metadata": {
    "execution": {
     "iopub.execute_input": "2024-09-05T12:06:56.111079Z",
     "iopub.status.busy": "2024-09-05T12:06:56.110079Z",
     "iopub.status.idle": "2024-09-05T12:06:56.119613Z",
     "shell.execute_reply": "2024-09-05T12:06:56.118052Z",
     "shell.execute_reply.started": "2024-09-05T12:06:56.111079Z"
    }
   },
   "outputs": [],
   "source": [
    "numexprt = pd.set_option(\"compute.use_numexpr\",True)"
   ]
  },
  {
   "cell_type": "code",
   "execution_count": 270,
   "id": "acede5c9-24d7-4f57-9309-304852b31809",
   "metadata": {
    "execution": {
     "iopub.execute_input": "2024-09-05T12:06:58.462878Z",
     "iopub.status.busy": "2024-09-05T12:06:58.461252Z",
     "iopub.status.idle": "2024-09-05T12:06:58.476389Z",
     "shell.execute_reply": "2024-09-05T12:06:58.474365Z",
     "shell.execute_reply.started": "2024-09-05T12:06:58.462878Z"
    }
   },
   "outputs": [
    {
     "name": "stdout",
     "output_type": "stream",
     "text": [
      "None\n"
     ]
    }
   ],
   "source": [
    "print(numexprt)"
   ]
  },
  {
   "cell_type": "markdown",
   "id": "d5d4b45a-fd1a-4ab5-a912-7114995671ba",
   "metadata": {},
   "source": [
    "# Flexible binary operations"
   ]
  },
  {
   "cell_type": "markdown",
   "id": "691b56f4-179b-4c54-8e3b-5aeb2570590a",
   "metadata": {},
   "source": [
    "With binary operations between pandas data structures, there are two key points of interest:\n",
    "\n",
    "<b> Broadcasting behavior between higher- (e.g. DataFrame)</b> and <b>lower-dimensional (e.g. Series) objects</b>.\n",
    "\n",
    "<b>Missing data in computations</b>.\n",
    "\n",
    "We will demonstrate how to manage these issues independently, though they can be handled simultaneously."
   ]
  },
  {
   "cell_type": "markdown",
   "id": "219d2443-593f-4813-8b7f-4ac3e053bebe",
   "metadata": {},
   "source": [
    "# Matching / broadcasting behavior"
   ]
  },
  {
   "cell_type": "markdown",
   "id": "f848137a-523c-47c0-844d-ddb3d225d06a",
   "metadata": {},
   "source": [
    "\n",
    "DataFrame has the methods <br> add(), sub(), mul(), div() and related functions radd(), rsub(),</br> … for carrying out binary operations. \n",
    "\n",
    "\n",
    "or broadcasting behavior, Series input is of primary interest. Using these functions, you can use to either match on the index or columns via the <br> axis </br> keyword:"
   ]
  },
  {
   "cell_type": "code",
   "execution_count": 7,
   "id": "62ffb12c-1f56-4dd4-8d5f-2b3e1167e427",
   "metadata": {
    "execution": {
     "iopub.execute_input": "2024-09-10T05:20:30.883093Z",
     "iopub.status.busy": "2024-09-10T05:20:30.883093Z",
     "iopub.status.idle": "2024-09-10T05:20:30.912189Z",
     "shell.execute_reply": "2024-09-10T05:20:30.912189Z",
     "shell.execute_reply.started": "2024-09-10T05:20:30.883093Z"
    }
   },
   "outputs": [],
   "source": [
    "df = pd.DataFrame({\n",
    "    \"one\": pd.Series(np.random.randn(3), index=[\"a\",\"b\",\"c\"]),\n",
    "    \"two\": pd.Series(np.random.randn(4), index=[\"a\",\"b\",\"c\",\"d\"]),\n",
    "    \"three\": pd.Series(np.random.randn(3), index=[\"b\",\"c\",\"d\"])\n",
    "    \n",
    "    \n",
    "})"
   ]
  },
  {
   "cell_type": "code",
   "execution_count": 9,
   "id": "1f248ef1-61f9-463f-baaf-ac15bd496c19",
   "metadata": {
    "execution": {
     "iopub.execute_input": "2024-09-10T05:20:34.020352Z",
     "iopub.status.busy": "2024-09-10T05:20:34.020352Z",
     "iopub.status.idle": "2024-09-10T05:20:34.052654Z",
     "shell.execute_reply": "2024-09-10T05:20:34.051138Z",
     "shell.execute_reply.started": "2024-09-10T05:20:34.020352Z"
    }
   },
   "outputs": [
    {
     "data": {
      "text/html": [
       "<div>\n",
       "<style scoped>\n",
       "    .dataframe tbody tr th:only-of-type {\n",
       "        vertical-align: middle;\n",
       "    }\n",
       "\n",
       "    .dataframe tbody tr th {\n",
       "        vertical-align: top;\n",
       "    }\n",
       "\n",
       "    .dataframe thead th {\n",
       "        text-align: right;\n",
       "    }\n",
       "</style>\n",
       "<table border=\"1\" class=\"dataframe\">\n",
       "  <thead>\n",
       "    <tr style=\"text-align: right;\">\n",
       "      <th></th>\n",
       "      <th>one</th>\n",
       "      <th>two</th>\n",
       "      <th>three</th>\n",
       "    </tr>\n",
       "  </thead>\n",
       "  <tbody>\n",
       "    <tr>\n",
       "      <th>a</th>\n",
       "      <td>0.197182</td>\n",
       "      <td>-0.097513</td>\n",
       "      <td>NaN</td>\n",
       "    </tr>\n",
       "    <tr>\n",
       "      <th>b</th>\n",
       "      <td>-0.969735</td>\n",
       "      <td>1.171266</td>\n",
       "      <td>0.230784</td>\n",
       "    </tr>\n",
       "    <tr>\n",
       "      <th>c</th>\n",
       "      <td>0.202477</td>\n",
       "      <td>1.000609</td>\n",
       "      <td>1.324386</td>\n",
       "    </tr>\n",
       "    <tr>\n",
       "      <th>d</th>\n",
       "      <td>NaN</td>\n",
       "      <td>-0.434550</td>\n",
       "      <td>0.241848</td>\n",
       "    </tr>\n",
       "  </tbody>\n",
       "</table>\n",
       "</div>"
      ],
      "text/plain": [
       "        one       two     three\n",
       "a  0.197182 -0.097513       NaN\n",
       "b -0.969735  1.171266  0.230784\n",
       "c  0.202477  1.000609  1.324386\n",
       "d       NaN -0.434550  0.241848"
      ]
     },
     "execution_count": 9,
     "metadata": {},
     "output_type": "execute_result"
    }
   ],
   "source": [
    "df"
   ]
  },
  {
   "cell_type": "code",
   "execution_count": 13,
   "id": "6bdb4add-6bcb-4f8d-b056-32635011028d",
   "metadata": {
    "execution": {
     "iopub.execute_input": "2024-09-10T05:21:49.255206Z",
     "iopub.status.busy": "2024-09-10T05:21:49.254198Z",
     "iopub.status.idle": "2024-09-10T05:21:49.260410Z",
     "shell.execute_reply": "2024-09-10T05:21:49.259375Z",
     "shell.execute_reply.started": "2024-09-10T05:21:49.255206Z"
    }
   },
   "outputs": [],
   "source": [
    "row =  df.iloc[1]"
   ]
  },
  {
   "cell_type": "code",
   "execution_count": 15,
   "id": "d4695aea-d995-4de8-a7de-70e8b739f5aa",
   "metadata": {
    "execution": {
     "iopub.execute_input": "2024-09-10T05:21:52.382912Z",
     "iopub.status.busy": "2024-09-10T05:21:52.379438Z",
     "iopub.status.idle": "2024-09-10T05:21:52.394637Z",
     "shell.execute_reply": "2024-09-10T05:21:52.393068Z",
     "shell.execute_reply.started": "2024-09-10T05:21:52.382460Z"
    }
   },
   "outputs": [
    {
     "data": {
      "text/plain": [
       "one     -0.969735\n",
       "two      1.171266\n",
       "three    0.230784\n",
       "Name: b, dtype: float64"
      ]
     },
     "execution_count": 15,
     "metadata": {},
     "output_type": "execute_result"
    }
   ],
   "source": [
    "row"
   ]
  },
  {
   "cell_type": "code",
   "execution_count": 17,
   "id": "f621deba-b451-41c6-920b-77726bd1a892",
   "metadata": {
    "execution": {
     "iopub.execute_input": "2024-09-10T05:22:18.724867Z",
     "iopub.status.busy": "2024-09-10T05:22:18.724867Z",
     "iopub.status.idle": "2024-09-10T05:22:18.737397Z",
     "shell.execute_reply": "2024-09-10T05:22:18.736266Z",
     "shell.execute_reply.started": "2024-09-10T05:22:18.724867Z"
    }
   },
   "outputs": [],
   "source": [
    "column= df[\"two\"]"
   ]
  },
  {
   "cell_type": "code",
   "execution_count": 19,
   "id": "6e8a915a-5b12-40f4-bd66-7ff07f4a8c5e",
   "metadata": {
    "execution": {
     "iopub.execute_input": "2024-09-10T05:22:22.039716Z",
     "iopub.status.busy": "2024-09-10T05:22:22.039716Z",
     "iopub.status.idle": "2024-09-10T05:22:22.052403Z",
     "shell.execute_reply": "2024-09-10T05:22:22.052403Z",
     "shell.execute_reply.started": "2024-09-10T05:22:22.039716Z"
    }
   },
   "outputs": [
    {
     "data": {
      "text/plain": [
       "a   -0.097513\n",
       "b    1.171266\n",
       "c    1.000609\n",
       "d   -0.434550\n",
       "Name: two, dtype: float64"
      ]
     },
     "execution_count": 19,
     "metadata": {},
     "output_type": "execute_result"
    }
   ],
   "source": [
    "column"
   ]
  },
  {
   "cell_type": "code",
   "execution_count": 29,
   "id": "253edf2b-a5e6-4cf1-b349-fdbb6b5b5590",
   "metadata": {
    "execution": {
     "iopub.execute_input": "2024-09-10T05:23:45.234742Z",
     "iopub.status.busy": "2024-09-10T05:23:45.226682Z",
     "iopub.status.idle": "2024-09-10T05:23:45.251447Z",
     "shell.execute_reply": "2024-09-10T05:23:45.250216Z",
     "shell.execute_reply.started": "2024-09-10T05:23:45.234742Z"
    }
   },
   "outputs": [
    {
     "data": {
      "text/html": [
       "<div>\n",
       "<style scoped>\n",
       "    .dataframe tbody tr th:only-of-type {\n",
       "        vertical-align: middle;\n",
       "    }\n",
       "\n",
       "    .dataframe tbody tr th {\n",
       "        vertical-align: top;\n",
       "    }\n",
       "\n",
       "    .dataframe thead th {\n",
       "        text-align: right;\n",
       "    }\n",
       "</style>\n",
       "<table border=\"1\" class=\"dataframe\">\n",
       "  <thead>\n",
       "    <tr style=\"text-align: right;\">\n",
       "      <th></th>\n",
       "      <th>one</th>\n",
       "      <th>two</th>\n",
       "      <th>three</th>\n",
       "    </tr>\n",
       "  </thead>\n",
       "  <tbody>\n",
       "    <tr>\n",
       "      <th>a</th>\n",
       "      <td>1.166917</td>\n",
       "      <td>-1.268779</td>\n",
       "      <td>NaN</td>\n",
       "    </tr>\n",
       "    <tr>\n",
       "      <th>b</th>\n",
       "      <td>0.000000</td>\n",
       "      <td>0.000000</td>\n",
       "      <td>0.000000</td>\n",
       "    </tr>\n",
       "    <tr>\n",
       "      <th>c</th>\n",
       "      <td>1.172212</td>\n",
       "      <td>-0.170657</td>\n",
       "      <td>1.093601</td>\n",
       "    </tr>\n",
       "    <tr>\n",
       "      <th>d</th>\n",
       "      <td>NaN</td>\n",
       "      <td>-1.605816</td>\n",
       "      <td>0.011064</td>\n",
       "    </tr>\n",
       "  </tbody>\n",
       "</table>\n",
       "</div>"
      ],
      "text/plain": [
       "        one       two     three\n",
       "a  1.166917 -1.268779       NaN\n",
       "b  0.000000  0.000000  0.000000\n",
       "c  1.172212 -0.170657  1.093601\n",
       "d       NaN -1.605816  0.011064"
      ]
     },
     "execution_count": 29,
     "metadata": {},
     "output_type": "execute_result"
    }
   ],
   "source": [
    "df.sub(row, axis=\"columns\")"
   ]
  },
  {
   "cell_type": "code",
   "execution_count": 31,
   "id": "b8b576d3-39c5-41f2-aaad-f0a3d6d0928a",
   "metadata": {
    "execution": {
     "iopub.execute_input": "2024-09-10T05:24:33.205268Z",
     "iopub.status.busy": "2024-09-10T05:24:33.205268Z",
     "iopub.status.idle": "2024-09-10T05:24:33.227873Z",
     "shell.execute_reply": "2024-09-10T05:24:33.225758Z",
     "shell.execute_reply.started": "2024-09-10T05:24:33.205268Z"
    }
   },
   "outputs": [
    {
     "data": {
      "text/html": [
       "<div>\n",
       "<style scoped>\n",
       "    .dataframe tbody tr th:only-of-type {\n",
       "        vertical-align: middle;\n",
       "    }\n",
       "\n",
       "    .dataframe tbody tr th {\n",
       "        vertical-align: top;\n",
       "    }\n",
       "\n",
       "    .dataframe thead th {\n",
       "        text-align: right;\n",
       "    }\n",
       "</style>\n",
       "<table border=\"1\" class=\"dataframe\">\n",
       "  <thead>\n",
       "    <tr style=\"text-align: right;\">\n",
       "      <th></th>\n",
       "      <th>one</th>\n",
       "      <th>two</th>\n",
       "      <th>three</th>\n",
       "    </tr>\n",
       "  </thead>\n",
       "  <tbody>\n",
       "    <tr>\n",
       "      <th>a</th>\n",
       "      <td>1.166917</td>\n",
       "      <td>-1.268779</td>\n",
       "      <td>NaN</td>\n",
       "    </tr>\n",
       "    <tr>\n",
       "      <th>b</th>\n",
       "      <td>0.000000</td>\n",
       "      <td>0.000000</td>\n",
       "      <td>0.000000</td>\n",
       "    </tr>\n",
       "    <tr>\n",
       "      <th>c</th>\n",
       "      <td>1.172212</td>\n",
       "      <td>-0.170657</td>\n",
       "      <td>1.093601</td>\n",
       "    </tr>\n",
       "    <tr>\n",
       "      <th>d</th>\n",
       "      <td>NaN</td>\n",
       "      <td>-1.605816</td>\n",
       "      <td>0.011064</td>\n",
       "    </tr>\n",
       "  </tbody>\n",
       "</table>\n",
       "</div>"
      ],
      "text/plain": [
       "        one       two     three\n",
       "a  1.166917 -1.268779       NaN\n",
       "b  0.000000  0.000000  0.000000\n",
       "c  1.172212 -0.170657  1.093601\n",
       "d       NaN -1.605816  0.011064"
      ]
     },
     "execution_count": 31,
     "metadata": {},
     "output_type": "execute_result"
    }
   ],
   "source": [
    "df.sub(row, axis=1)"
   ]
  },
  {
   "cell_type": "code",
   "execution_count": 33,
   "id": "0971c565-d3c3-40c4-bfcb-145efda725ff",
   "metadata": {
    "execution": {
     "iopub.execute_input": "2024-09-10T05:24:55.942168Z",
     "iopub.status.busy": "2024-09-10T05:24:55.942168Z",
     "iopub.status.idle": "2024-09-10T05:24:55.964359Z",
     "shell.execute_reply": "2024-09-10T05:24:55.962495Z",
     "shell.execute_reply.started": "2024-09-10T05:24:55.942168Z"
    }
   },
   "outputs": [
    {
     "data": {
      "text/html": [
       "<div>\n",
       "<style scoped>\n",
       "    .dataframe tbody tr th:only-of-type {\n",
       "        vertical-align: middle;\n",
       "    }\n",
       "\n",
       "    .dataframe tbody tr th {\n",
       "        vertical-align: top;\n",
       "    }\n",
       "\n",
       "    .dataframe thead th {\n",
       "        text-align: right;\n",
       "    }\n",
       "</style>\n",
       "<table border=\"1\" class=\"dataframe\">\n",
       "  <thead>\n",
       "    <tr style=\"text-align: right;\">\n",
       "      <th></th>\n",
       "      <th>one</th>\n",
       "      <th>two</th>\n",
       "      <th>three</th>\n",
       "    </tr>\n",
       "  </thead>\n",
       "  <tbody>\n",
       "    <tr>\n",
       "      <th>a</th>\n",
       "      <td>0.294696</td>\n",
       "      <td>0.0</td>\n",
       "      <td>NaN</td>\n",
       "    </tr>\n",
       "    <tr>\n",
       "      <th>b</th>\n",
       "      <td>-2.141001</td>\n",
       "      <td>0.0</td>\n",
       "      <td>-0.940481</td>\n",
       "    </tr>\n",
       "    <tr>\n",
       "      <th>c</th>\n",
       "      <td>-0.798131</td>\n",
       "      <td>0.0</td>\n",
       "      <td>0.323777</td>\n",
       "    </tr>\n",
       "    <tr>\n",
       "      <th>d</th>\n",
       "      <td>NaN</td>\n",
       "      <td>0.0</td>\n",
       "      <td>0.676399</td>\n",
       "    </tr>\n",
       "  </tbody>\n",
       "</table>\n",
       "</div>"
      ],
      "text/plain": [
       "        one  two     three\n",
       "a  0.294696  0.0       NaN\n",
       "b -2.141001  0.0 -0.940481\n",
       "c -0.798131  0.0  0.323777\n",
       "d       NaN  0.0  0.676399"
      ]
     },
     "execution_count": 33,
     "metadata": {},
     "output_type": "execute_result"
    }
   ],
   "source": [
    "df.sub(column, axis=\"index\")"
   ]
  },
  {
   "cell_type": "code",
   "execution_count": 35,
   "id": "f86526f2-2fbc-47e5-b869-5efe670bb496",
   "metadata": {
    "execution": {
     "iopub.execute_input": "2024-09-10T05:25:21.788603Z",
     "iopub.status.busy": "2024-09-10T05:25:21.788603Z",
     "iopub.status.idle": "2024-09-10T05:25:21.812470Z",
     "shell.execute_reply": "2024-09-10T05:25:21.810754Z",
     "shell.execute_reply.started": "2024-09-10T05:25:21.788603Z"
    }
   },
   "outputs": [
    {
     "data": {
      "text/html": [
       "<div>\n",
       "<style scoped>\n",
       "    .dataframe tbody tr th:only-of-type {\n",
       "        vertical-align: middle;\n",
       "    }\n",
       "\n",
       "    .dataframe tbody tr th {\n",
       "        vertical-align: top;\n",
       "    }\n",
       "\n",
       "    .dataframe thead th {\n",
       "        text-align: right;\n",
       "    }\n",
       "</style>\n",
       "<table border=\"1\" class=\"dataframe\">\n",
       "  <thead>\n",
       "    <tr style=\"text-align: right;\">\n",
       "      <th></th>\n",
       "      <th>one</th>\n",
       "      <th>two</th>\n",
       "      <th>three</th>\n",
       "    </tr>\n",
       "  </thead>\n",
       "  <tbody>\n",
       "    <tr>\n",
       "      <th>a</th>\n",
       "      <td>0.294696</td>\n",
       "      <td>0.0</td>\n",
       "      <td>NaN</td>\n",
       "    </tr>\n",
       "    <tr>\n",
       "      <th>b</th>\n",
       "      <td>-2.141001</td>\n",
       "      <td>0.0</td>\n",
       "      <td>-0.940481</td>\n",
       "    </tr>\n",
       "    <tr>\n",
       "      <th>c</th>\n",
       "      <td>-0.798131</td>\n",
       "      <td>0.0</td>\n",
       "      <td>0.323777</td>\n",
       "    </tr>\n",
       "    <tr>\n",
       "      <th>d</th>\n",
       "      <td>NaN</td>\n",
       "      <td>0.0</td>\n",
       "      <td>0.676399</td>\n",
       "    </tr>\n",
       "  </tbody>\n",
       "</table>\n",
       "</div>"
      ],
      "text/plain": [
       "        one  two     three\n",
       "a  0.294696  0.0       NaN\n",
       "b -2.141001  0.0 -0.940481\n",
       "c -0.798131  0.0  0.323777\n",
       "d       NaN  0.0  0.676399"
      ]
     },
     "execution_count": 35,
     "metadata": {},
     "output_type": "execute_result"
    }
   ],
   "source": [
    "df.sub(column, axis=0)"
   ]
  },
  {
   "cell_type": "markdown",
   "id": "4398733e-98de-41fb-8bcc-44d9021c27ee",
   "metadata": {
    "execution": {
     "iopub.execute_input": "2024-09-10T05:27:41.071407Z",
     "iopub.status.busy": "2024-09-10T05:27:41.071407Z",
     "iopub.status.idle": "2024-09-10T05:27:41.091856Z",
     "shell.execute_reply": "2024-09-10T05:27:41.091332Z",
     "shell.execute_reply.started": "2024-09-10T05:27:41.071407Z"
    }
   },
   "source": [
    "you can align a level of a MultiIndexed DataFrame with a Series."
   ]
  },
  {
   "cell_type": "code",
   "execution_count": 42,
   "id": "276ebeae-5c6f-4db5-b732-9aa36db4cd28",
   "metadata": {
    "execution": {
     "iopub.execute_input": "2024-09-10T05:30:01.417887Z",
     "iopub.status.busy": "2024-09-10T05:30:01.417887Z",
     "iopub.status.idle": "2024-09-10T05:30:01.424553Z",
     "shell.execute_reply": "2024-09-10T05:30:01.423974Z",
     "shell.execute_reply.started": "2024-09-10T05:30:01.417887Z"
    }
   },
   "outputs": [],
   "source": [
    "dfmi = df.copy()"
   ]
  },
  {
   "cell_type": "code",
   "execution_count": 48,
   "id": "d5414295-c471-4c32-8e50-03ef1bc4797a",
   "metadata": {
    "execution": {
     "iopub.execute_input": "2024-09-10T05:34:45.783207Z",
     "iopub.status.busy": "2024-09-10T05:34:45.783207Z",
     "iopub.status.idle": "2024-09-10T05:34:45.802466Z",
     "shell.execute_reply": "2024-09-10T05:34:45.800825Z",
     "shell.execute_reply.started": "2024-09-10T05:34:45.783207Z"
    }
   },
   "outputs": [
    {
     "ename": "SyntaxError",
     "evalue": "cannot assign to expression here. Maybe you meant '==' instead of '='? (2558599893.py, line 1)",
     "output_type": "error",
     "traceback": [
      "\u001b[1;36m  Cell \u001b[1;32mIn[48], line 1\u001b[1;36m\u001b[0m\n\u001b[1;33m    df.index- pd.m=MultiIndex.from_tuples(\u001b[0m\n\u001b[1;37m    ^\u001b[0m\n\u001b[1;31mSyntaxError\u001b[0m\u001b[1;31m:\u001b[0m cannot assign to expression here. Maybe you meant '==' instead of '='?\n"
     ]
    }
   ],
   "source": [
    "df.index- pd.m=MultiIndex.from_tuples(\n",
    "    [(\"1\", a),(\"1\",\"b\"),(1,\"c\"),(2,\"a\")], names=[\"first\",\"second\"] \n",
    ")"
   ]
  },
  {
   "cell_type": "code",
   "execution_count": 50,
   "id": "a7876a8b-89fa-4988-a521-e31e3b194156",
   "metadata": {
    "execution": {
     "iopub.execute_input": "2024-09-10T05:35:43.438676Z",
     "iopub.status.busy": "2024-09-10T05:35:43.435656Z",
     "iopub.status.idle": "2024-09-10T05:35:43.455811Z",
     "shell.execute_reply": "2024-09-10T05:35:43.454413Z",
     "shell.execute_reply.started": "2024-09-10T05:35:43.438676Z"
    }
   },
   "outputs": [
    {
     "data": {
      "text/html": [
       "<div>\n",
       "<style scoped>\n",
       "    .dataframe tbody tr th:only-of-type {\n",
       "        vertical-align: middle;\n",
       "    }\n",
       "\n",
       "    .dataframe tbody tr th {\n",
       "        vertical-align: top;\n",
       "    }\n",
       "\n",
       "    .dataframe thead th {\n",
       "        text-align: right;\n",
       "    }\n",
       "</style>\n",
       "<table border=\"1\" class=\"dataframe\">\n",
       "  <thead>\n",
       "    <tr style=\"text-align: right;\">\n",
       "      <th></th>\n",
       "      <th>one</th>\n",
       "      <th>two</th>\n",
       "      <th>three</th>\n",
       "    </tr>\n",
       "  </thead>\n",
       "  <tbody>\n",
       "    <tr>\n",
       "      <th>a</th>\n",
       "      <td>0.294696</td>\n",
       "      <td>0.0</td>\n",
       "      <td>NaN</td>\n",
       "    </tr>\n",
       "    <tr>\n",
       "      <th>b</th>\n",
       "      <td>-2.141001</td>\n",
       "      <td>0.0</td>\n",
       "      <td>-0.940481</td>\n",
       "    </tr>\n",
       "    <tr>\n",
       "      <th>c</th>\n",
       "      <td>-0.798131</td>\n",
       "      <td>0.0</td>\n",
       "      <td>0.323777</td>\n",
       "    </tr>\n",
       "    <tr>\n",
       "      <th>d</th>\n",
       "      <td>NaN</td>\n",
       "      <td>0.0</td>\n",
       "      <td>0.676399</td>\n",
       "    </tr>\n",
       "  </tbody>\n",
       "</table>\n",
       "</div>"
      ],
      "text/plain": [
       "        one  two     three\n",
       "a  0.294696  0.0       NaN\n",
       "b -2.141001  0.0 -0.940481\n",
       "c -0.798131  0.0  0.323777\n",
       "d       NaN  0.0  0.676399"
      ]
     },
     "execution_count": 50,
     "metadata": {},
     "output_type": "execute_result"
    }
   ],
   "source": [
    "dfmi.sub(column, axis=0, level=\"second\")"
   ]
  },
  {
   "cell_type": "markdown",
   "id": "54908d05-0dc0-4a6c-ac8e-a1308e288956",
   "metadata": {
    "execution": {
     "iopub.execute_input": "2024-09-10T05:37:16.570075Z",
     "iopub.status.busy": "2024-09-10T05:37:16.568480Z",
     "iopub.status.idle": "2024-09-10T05:37:16.581239Z",
     "shell.execute_reply": "2024-09-10T05:37:16.579651Z",
     "shell.execute_reply.started": "2024-09-10T05:37:16.569999Z"
    }
   },
   "source": [
    "Series and Index also support the divmod() builtin. This function takes the floor division and modulo operation at the same time returning a two-tuple of the same type as the left hand sid"
   ]
  },
  {
   "cell_type": "code",
   "execution_count": 59,
   "id": "de0522c4-7bed-495d-bde1-b718d940fc24",
   "metadata": {
    "execution": {
     "iopub.execute_input": "2024-09-10T05:39:21.422267Z",
     "iopub.status.busy": "2024-09-10T05:39:21.422267Z",
     "iopub.status.idle": "2024-09-10T05:39:21.435718Z",
     "shell.execute_reply": "2024-09-10T05:39:21.434708Z",
     "shell.execute_reply.started": "2024-09-10T05:39:21.422267Z"
    }
   },
   "outputs": [],
   "source": [
    "s = pd.Series(np.arange(10))"
   ]
  },
  {
   "cell_type": "code",
   "execution_count": 61,
   "id": "a1f8ccf0-bdb4-448e-be2e-ee72e7609afa",
   "metadata": {
    "execution": {
     "iopub.execute_input": "2024-09-10T05:39:23.897094Z",
     "iopub.status.busy": "2024-09-10T05:39:23.897094Z",
     "iopub.status.idle": "2024-09-10T05:39:23.912563Z",
     "shell.execute_reply": "2024-09-10T05:39:23.910639Z",
     "shell.execute_reply.started": "2024-09-10T05:39:23.897094Z"
    }
   },
   "outputs": [
    {
     "data": {
      "text/plain": [
       "0    0\n",
       "1    1\n",
       "2    2\n",
       "3    3\n",
       "4    4\n",
       "5    5\n",
       "6    6\n",
       "7    7\n",
       "8    8\n",
       "9    9\n",
       "dtype: int32"
      ]
     },
     "execution_count": 61,
     "metadata": {},
     "output_type": "execute_result"
    }
   ],
   "source": [
    "s"
   ]
  },
  {
   "cell_type": "code",
   "execution_count": 65,
   "id": "3c2ac795-eff5-411d-bd82-ab9d3b06398c",
   "metadata": {
    "execution": {
     "iopub.execute_input": "2024-09-10T05:40:04.706125Z",
     "iopub.status.busy": "2024-09-10T05:40:04.699000Z",
     "iopub.status.idle": "2024-09-10T05:40:04.715087Z",
     "shell.execute_reply": "2024-09-10T05:40:04.714019Z",
     "shell.execute_reply.started": "2024-09-10T05:40:04.706125Z"
    }
   },
   "outputs": [],
   "source": [
    "div, rem= divmod(s,3)"
   ]
  },
  {
   "cell_type": "code",
   "execution_count": 67,
   "id": "a6dcac7c-e34b-4908-88fd-67c4f990eebd",
   "metadata": {
    "execution": {
     "iopub.execute_input": "2024-09-10T05:40:14.002407Z",
     "iopub.status.busy": "2024-09-10T05:40:13.999436Z",
     "iopub.status.idle": "2024-09-10T05:40:14.013031Z",
     "shell.execute_reply": "2024-09-10T05:40:14.011997Z",
     "shell.execute_reply.started": "2024-09-10T05:40:14.002407Z"
    }
   },
   "outputs": [
    {
     "data": {
      "text/plain": [
       "0    0\n",
       "1    0\n",
       "2    0\n",
       "3    1\n",
       "4    1\n",
       "5    1\n",
       "6    2\n",
       "7    2\n",
       "8    2\n",
       "9    3\n",
       "dtype: int32"
      ]
     },
     "execution_count": 67,
     "metadata": {},
     "output_type": "execute_result"
    }
   ],
   "source": [
    "div"
   ]
  },
  {
   "cell_type": "code",
   "execution_count": 69,
   "id": "ccbc9e1a-8443-4c4b-a7b4-ea4251ee5536",
   "metadata": {
    "execution": {
     "iopub.execute_input": "2024-09-10T05:40:19.384139Z",
     "iopub.status.busy": "2024-09-10T05:40:19.384139Z",
     "iopub.status.idle": "2024-09-10T05:40:19.397463Z",
     "shell.execute_reply": "2024-09-10T05:40:19.395965Z",
     "shell.execute_reply.started": "2024-09-10T05:40:19.384139Z"
    }
   },
   "outputs": [
    {
     "data": {
      "text/plain": [
       "0    0\n",
       "1    1\n",
       "2    2\n",
       "3    0\n",
       "4    1\n",
       "5    2\n",
       "6    0\n",
       "7    1\n",
       "8    2\n",
       "9    0\n",
       "dtype: int32"
      ]
     },
     "execution_count": 69,
     "metadata": {},
     "output_type": "execute_result"
    }
   ],
   "source": [
    "rem"
   ]
  },
  {
   "cell_type": "code",
   "execution_count": 75,
   "id": "6336395a-a9ef-4ba3-9184-01afba2ba8d6",
   "metadata": {
    "execution": {
     "iopub.execute_input": "2024-09-10T05:41:41.529263Z",
     "iopub.status.busy": "2024-09-10T05:41:41.529263Z",
     "iopub.status.idle": "2024-09-10T05:41:41.538869Z",
     "shell.execute_reply": "2024-09-10T05:41:41.537244Z",
     "shell.execute_reply.started": "2024-09-10T05:41:41.529263Z"
    }
   },
   "outputs": [],
   "source": [
    "idx= pd.Index(np.arange(10))"
   ]
  },
  {
   "cell_type": "markdown",
   "id": "b5cbc03f-2379-47dd-83de-4c8ab7b374fc",
   "metadata": {
    "execution": {
     "iopub.execute_input": "2024-09-10T05:41:51.237026Z",
     "iopub.status.busy": "2024-09-10T05:41:51.234785Z",
     "iopub.status.idle": "2024-09-10T05:41:51.245802Z",
     "shell.execute_reply": "2024-09-10T05:41:51.244777Z",
     "shell.execute_reply.started": "2024-09-10T05:41:51.237026Z"
    }
   },
   "source": [
    "idx"
   ]
  },
  {
   "cell_type": "code",
   "execution_count": 79,
   "id": "a81c13c2-3b1f-4a7f-98f8-58cad412f2bf",
   "metadata": {
    "execution": {
     "iopub.execute_input": "2024-09-10T05:42:37.709382Z",
     "iopub.status.busy": "2024-09-10T05:42:37.709382Z",
     "iopub.status.idle": "2024-09-10T05:42:37.722715Z",
     "shell.execute_reply": "2024-09-10T05:42:37.721633Z",
     "shell.execute_reply.started": "2024-09-10T05:42:37.709382Z"
    }
   },
   "outputs": [],
   "source": [
    "dev ,rem = divmod(idx ,3)"
   ]
  },
  {
   "cell_type": "code",
   "execution_count": 81,
   "id": "aa5a029f-4242-46d5-b6f1-bca1b554020e",
   "metadata": {
    "execution": {
     "iopub.execute_input": "2024-09-10T05:42:40.082157Z",
     "iopub.status.busy": "2024-09-10T05:42:40.078933Z",
     "iopub.status.idle": "2024-09-10T05:42:40.092602Z",
     "shell.execute_reply": "2024-09-10T05:42:40.091006Z",
     "shell.execute_reply.started": "2024-09-10T05:42:40.082157Z"
    }
   },
   "outputs": [
    {
     "data": {
      "text/plain": [
       "Index([0, 0, 0, 1, 1, 1, 2, 2, 2, 3], dtype='int32')"
      ]
     },
     "execution_count": 81,
     "metadata": {},
     "output_type": "execute_result"
    }
   ],
   "source": [
    "dev"
   ]
  },
  {
   "cell_type": "code",
   "execution_count": 83,
   "id": "a9561518-8586-4bed-af6f-6eb24dba4433",
   "metadata": {
    "execution": {
     "iopub.execute_input": "2024-09-10T05:42:42.015473Z",
     "iopub.status.busy": "2024-09-10T05:42:42.015473Z",
     "iopub.status.idle": "2024-09-10T05:42:42.026744Z",
     "shell.execute_reply": "2024-09-10T05:42:42.025598Z",
     "shell.execute_reply.started": "2024-09-10T05:42:42.015473Z"
    }
   },
   "outputs": [
    {
     "data": {
      "text/plain": [
       "Index([0, 1, 2, 0, 1, 2, 0, 1, 2, 0], dtype='int32')"
      ]
     },
     "execution_count": 83,
     "metadata": {},
     "output_type": "execute_result"
    }
   ],
   "source": [
    "rem"
   ]
  },
  {
   "cell_type": "code",
   "execution_count": 89,
   "id": "55e10c5e-812f-4ce3-aec2-ab79ab82d747",
   "metadata": {
    "execution": {
     "iopub.execute_input": "2024-09-10T05:44:51.701565Z",
     "iopub.status.busy": "2024-09-10T05:44:51.701565Z",
     "iopub.status.idle": "2024-09-10T05:44:51.706907Z",
     "shell.execute_reply": "2024-09-10T05:44:51.706907Z",
     "shell.execute_reply.started": "2024-09-10T05:44:51.701565Z"
    }
   },
   "outputs": [],
   "source": [
    "div, rem = divmod(s ,[2,2,3,3,4,4,5,5,6,6])"
   ]
  },
  {
   "cell_type": "code",
   "execution_count": 91,
   "id": "2b041746-83c1-4503-bc26-82947ae4849c",
   "metadata": {
    "execution": {
     "iopub.execute_input": "2024-09-10T05:44:54.361318Z",
     "iopub.status.busy": "2024-09-10T05:44:54.361318Z",
     "iopub.status.idle": "2024-09-10T05:44:54.374492Z",
     "shell.execute_reply": "2024-09-10T05:44:54.373886Z",
     "shell.execute_reply.started": "2024-09-10T05:44:54.361318Z"
    }
   },
   "outputs": [
    {
     "data": {
      "text/plain": [
       "0    0\n",
       "1    0\n",
       "2    0\n",
       "3    1\n",
       "4    1\n",
       "5    1\n",
       "6    1\n",
       "7    1\n",
       "8    1\n",
       "9    1\n",
       "dtype: int32"
      ]
     },
     "execution_count": 91,
     "metadata": {},
     "output_type": "execute_result"
    }
   ],
   "source": [
    "div"
   ]
  },
  {
   "cell_type": "code",
   "execution_count": 93,
   "id": "7f37a296-54bd-4dde-aebd-e59f1e1656f7",
   "metadata": {
    "execution": {
     "iopub.execute_input": "2024-09-10T05:44:56.023606Z",
     "iopub.status.busy": "2024-09-10T05:44:56.023606Z",
     "iopub.status.idle": "2024-09-10T05:44:56.039649Z",
     "shell.execute_reply": "2024-09-10T05:44:56.038546Z",
     "shell.execute_reply.started": "2024-09-10T05:44:56.023606Z"
    }
   },
   "outputs": [
    {
     "data": {
      "text/plain": [
       "0    0\n",
       "1    1\n",
       "2    2\n",
       "3    0\n",
       "4    0\n",
       "5    1\n",
       "6    1\n",
       "7    2\n",
       "8    2\n",
       "9    3\n",
       "dtype: int32"
      ]
     },
     "execution_count": 93,
     "metadata": {},
     "output_type": "execute_result"
    }
   ],
   "source": [
    "rem"
   ]
  },
  {
   "cell_type": "markdown",
   "id": "aa87cdc9-042e-4169-8098-26a2c074a351",
   "metadata": {},
   "source": [
    "# Missing data / operations with fill values\n"
   ]
  },
  {
   "cell_type": "markdown",
   "id": "91fc4b97-0b1f-402d-8ceb-60b2aca4eac5",
   "metadata": {},
   "source": [
    "in Series and DataFrame, the arithmetic functions have the option of inputting a fill_value, namely a value to substitute when at most one of the values at a location are missing\n",
    "\n",
    "\n",
    "For example, when adding two DataFrame objects, you may wish to treat NaN as 0 unless both DataFrames are missing that value, in which case the result will be NaN (you can later replace NaN with some other value using fillna if you wish)."
   ]
  },
  {
   "cell_type": "code",
   "execution_count": 97,
   "id": "a9562007-b0f1-4def-843a-29d36802a062",
   "metadata": {
    "execution": {
     "iopub.execute_input": "2024-09-10T06:00:28.874911Z",
     "iopub.status.busy": "2024-09-10T06:00:28.874911Z",
     "iopub.status.idle": "2024-09-10T06:00:28.885206Z",
     "shell.execute_reply": "2024-09-10T06:00:28.884123Z",
     "shell.execute_reply.started": "2024-09-10T06:00:28.874911Z"
    }
   },
   "outputs": [],
   "source": [
    "df2 = df.copy()"
   ]
  },
  {
   "cell_type": "code",
   "execution_count": 99,
   "id": "ddd9eb57-6c3d-4b56-9340-13ba772860ba",
   "metadata": {
    "execution": {
     "iopub.execute_input": "2024-09-10T06:00:32.610432Z",
     "iopub.status.busy": "2024-09-10T06:00:32.610432Z",
     "iopub.status.idle": "2024-09-10T06:00:32.624062Z",
     "shell.execute_reply": "2024-09-10T06:00:32.622771Z",
     "shell.execute_reply.started": "2024-09-10T06:00:32.610432Z"
    }
   },
   "outputs": [
    {
     "data": {
      "text/html": [
       "<div>\n",
       "<style scoped>\n",
       "    .dataframe tbody tr th:only-of-type {\n",
       "        vertical-align: middle;\n",
       "    }\n",
       "\n",
       "    .dataframe tbody tr th {\n",
       "        vertical-align: top;\n",
       "    }\n",
       "\n",
       "    .dataframe thead th {\n",
       "        text-align: right;\n",
       "    }\n",
       "</style>\n",
       "<table border=\"1\" class=\"dataframe\">\n",
       "  <thead>\n",
       "    <tr style=\"text-align: right;\">\n",
       "      <th></th>\n",
       "      <th>one</th>\n",
       "      <th>two</th>\n",
       "      <th>three</th>\n",
       "    </tr>\n",
       "  </thead>\n",
       "  <tbody>\n",
       "    <tr>\n",
       "      <th>a</th>\n",
       "      <td>0.197182</td>\n",
       "      <td>-0.097513</td>\n",
       "      <td>NaN</td>\n",
       "    </tr>\n",
       "    <tr>\n",
       "      <th>b</th>\n",
       "      <td>-0.969735</td>\n",
       "      <td>1.171266</td>\n",
       "      <td>0.230784</td>\n",
       "    </tr>\n",
       "    <tr>\n",
       "      <th>c</th>\n",
       "      <td>0.202477</td>\n",
       "      <td>1.000609</td>\n",
       "      <td>1.324386</td>\n",
       "    </tr>\n",
       "    <tr>\n",
       "      <th>d</th>\n",
       "      <td>NaN</td>\n",
       "      <td>-0.434550</td>\n",
       "      <td>0.241848</td>\n",
       "    </tr>\n",
       "  </tbody>\n",
       "</table>\n",
       "</div>"
      ],
      "text/plain": [
       "        one       two     three\n",
       "a  0.197182 -0.097513       NaN\n",
       "b -0.969735  1.171266  0.230784\n",
       "c  0.202477  1.000609  1.324386\n",
       "d       NaN -0.434550  0.241848"
      ]
     },
     "execution_count": 99,
     "metadata": {},
     "output_type": "execute_result"
    }
   ],
   "source": [
    "df"
   ]
  },
  {
   "cell_type": "code",
   "execution_count": 101,
   "id": "fe7f53e9-7429-486a-a609-d37298e62a11",
   "metadata": {
    "execution": {
     "iopub.execute_input": "2024-09-10T06:01:05.445544Z",
     "iopub.status.busy": "2024-09-10T06:01:05.445544Z",
     "iopub.status.idle": "2024-09-10T06:01:05.452957Z",
     "shell.execute_reply": "2024-09-10T06:01:05.451854Z",
     "shell.execute_reply.started": "2024-09-10T06:01:05.445544Z"
    }
   },
   "outputs": [],
   "source": [
    "df2.loc[\"a\", \"three\"]= 1.0"
   ]
  },
  {
   "cell_type": "code",
   "execution_count": 103,
   "id": "2ff174ed-3ddb-4b62-bf2e-4637b9b9a5e8",
   "metadata": {
    "execution": {
     "iopub.execute_input": "2024-09-10T06:01:07.530137Z",
     "iopub.status.busy": "2024-09-10T06:01:07.528499Z",
     "iopub.status.idle": "2024-09-10T06:01:07.540556Z",
     "shell.execute_reply": "2024-09-10T06:01:07.540293Z",
     "shell.execute_reply.started": "2024-09-10T06:01:07.530137Z"
    }
   },
   "outputs": [
    {
     "data": {
      "text/html": [
       "<div>\n",
       "<style scoped>\n",
       "    .dataframe tbody tr th:only-of-type {\n",
       "        vertical-align: middle;\n",
       "    }\n",
       "\n",
       "    .dataframe tbody tr th {\n",
       "        vertical-align: top;\n",
       "    }\n",
       "\n",
       "    .dataframe thead th {\n",
       "        text-align: right;\n",
       "    }\n",
       "</style>\n",
       "<table border=\"1\" class=\"dataframe\">\n",
       "  <thead>\n",
       "    <tr style=\"text-align: right;\">\n",
       "      <th></th>\n",
       "      <th>one</th>\n",
       "      <th>two</th>\n",
       "      <th>three</th>\n",
       "    </tr>\n",
       "  </thead>\n",
       "  <tbody>\n",
       "    <tr>\n",
       "      <th>a</th>\n",
       "      <td>0.197182</td>\n",
       "      <td>-0.097513</td>\n",
       "      <td>1.000000</td>\n",
       "    </tr>\n",
       "    <tr>\n",
       "      <th>b</th>\n",
       "      <td>-0.969735</td>\n",
       "      <td>1.171266</td>\n",
       "      <td>0.230784</td>\n",
       "    </tr>\n",
       "    <tr>\n",
       "      <th>c</th>\n",
       "      <td>0.202477</td>\n",
       "      <td>1.000609</td>\n",
       "      <td>1.324386</td>\n",
       "    </tr>\n",
       "    <tr>\n",
       "      <th>d</th>\n",
       "      <td>NaN</td>\n",
       "      <td>-0.434550</td>\n",
       "      <td>0.241848</td>\n",
       "    </tr>\n",
       "  </tbody>\n",
       "</table>\n",
       "</div>"
      ],
      "text/plain": [
       "        one       two     three\n",
       "a  0.197182 -0.097513  1.000000\n",
       "b -0.969735  1.171266  0.230784\n",
       "c  0.202477  1.000609  1.324386\n",
       "d       NaN -0.434550  0.241848"
      ]
     },
     "execution_count": 103,
     "metadata": {},
     "output_type": "execute_result"
    }
   ],
   "source": [
    "df2"
   ]
  },
  {
   "cell_type": "code",
   "execution_count": 105,
   "id": "098d09a2-7cf9-4a30-997e-bfb2b0d95646",
   "metadata": {
    "execution": {
     "iopub.execute_input": "2024-09-10T06:01:59.515168Z",
     "iopub.status.busy": "2024-09-10T06:01:59.513399Z",
     "iopub.status.idle": "2024-09-10T06:01:59.534285Z",
     "shell.execute_reply": "2024-09-10T06:01:59.534285Z",
     "shell.execute_reply.started": "2024-09-10T06:01:59.515168Z"
    }
   },
   "outputs": [
    {
     "data": {
      "text/html": [
       "<div>\n",
       "<style scoped>\n",
       "    .dataframe tbody tr th:only-of-type {\n",
       "        vertical-align: middle;\n",
       "    }\n",
       "\n",
       "    .dataframe tbody tr th {\n",
       "        vertical-align: top;\n",
       "    }\n",
       "\n",
       "    .dataframe thead th {\n",
       "        text-align: right;\n",
       "    }\n",
       "</style>\n",
       "<table border=\"1\" class=\"dataframe\">\n",
       "  <thead>\n",
       "    <tr style=\"text-align: right;\">\n",
       "      <th></th>\n",
       "      <th>one</th>\n",
       "      <th>two</th>\n",
       "      <th>three</th>\n",
       "    </tr>\n",
       "  </thead>\n",
       "  <tbody>\n",
       "    <tr>\n",
       "      <th>a</th>\n",
       "      <td>0.197182</td>\n",
       "      <td>-0.097513</td>\n",
       "      <td>NaN</td>\n",
       "    </tr>\n",
       "    <tr>\n",
       "      <th>b</th>\n",
       "      <td>-0.969735</td>\n",
       "      <td>1.171266</td>\n",
       "      <td>0.230784</td>\n",
       "    </tr>\n",
       "    <tr>\n",
       "      <th>c</th>\n",
       "      <td>0.202477</td>\n",
       "      <td>1.000609</td>\n",
       "      <td>1.324386</td>\n",
       "    </tr>\n",
       "    <tr>\n",
       "      <th>d</th>\n",
       "      <td>NaN</td>\n",
       "      <td>-0.434550</td>\n",
       "      <td>0.241848</td>\n",
       "    </tr>\n",
       "  </tbody>\n",
       "</table>\n",
       "</div>"
      ],
      "text/plain": [
       "        one       two     three\n",
       "a  0.197182 -0.097513       NaN\n",
       "b -0.969735  1.171266  0.230784\n",
       "c  0.202477  1.000609  1.324386\n",
       "d       NaN -0.434550  0.241848"
      ]
     },
     "execution_count": 105,
     "metadata": {},
     "output_type": "execute_result"
    }
   ],
   "source": [
    "df"
   ]
  },
  {
   "cell_type": "code",
   "execution_count": 107,
   "id": "b61fe971-8ced-4c9c-90a1-8cc203784e83",
   "metadata": {
    "execution": {
     "iopub.execute_input": "2024-09-10T06:02:12.962873Z",
     "iopub.status.busy": "2024-09-10T06:02:12.962873Z",
     "iopub.status.idle": "2024-09-10T06:02:12.977997Z",
     "shell.execute_reply": "2024-09-10T06:02:12.977997Z",
     "shell.execute_reply.started": "2024-09-10T06:02:12.962873Z"
    }
   },
   "outputs": [
    {
     "data": {
      "text/html": [
       "<div>\n",
       "<style scoped>\n",
       "    .dataframe tbody tr th:only-of-type {\n",
       "        vertical-align: middle;\n",
       "    }\n",
       "\n",
       "    .dataframe tbody tr th {\n",
       "        vertical-align: top;\n",
       "    }\n",
       "\n",
       "    .dataframe thead th {\n",
       "        text-align: right;\n",
       "    }\n",
       "</style>\n",
       "<table border=\"1\" class=\"dataframe\">\n",
       "  <thead>\n",
       "    <tr style=\"text-align: right;\">\n",
       "      <th></th>\n",
       "      <th>one</th>\n",
       "      <th>two</th>\n",
       "      <th>three</th>\n",
       "    </tr>\n",
       "  </thead>\n",
       "  <tbody>\n",
       "    <tr>\n",
       "      <th>a</th>\n",
       "      <td>0.394365</td>\n",
       "      <td>-0.195027</td>\n",
       "      <td>NaN</td>\n",
       "    </tr>\n",
       "    <tr>\n",
       "      <th>b</th>\n",
       "      <td>-1.939470</td>\n",
       "      <td>2.342532</td>\n",
       "      <td>0.461569</td>\n",
       "    </tr>\n",
       "    <tr>\n",
       "      <th>c</th>\n",
       "      <td>0.404955</td>\n",
       "      <td>2.001217</td>\n",
       "      <td>2.648771</td>\n",
       "    </tr>\n",
       "    <tr>\n",
       "      <th>d</th>\n",
       "      <td>NaN</td>\n",
       "      <td>-0.869101</td>\n",
       "      <td>0.483697</td>\n",
       "    </tr>\n",
       "  </tbody>\n",
       "</table>\n",
       "</div>"
      ],
      "text/plain": [
       "        one       two     three\n",
       "a  0.394365 -0.195027       NaN\n",
       "b -1.939470  2.342532  0.461569\n",
       "c  0.404955  2.001217  2.648771\n",
       "d       NaN -0.869101  0.483697"
      ]
     },
     "execution_count": 107,
     "metadata": {},
     "output_type": "execute_result"
    }
   ],
   "source": [
    "df+df2"
   ]
  },
  {
   "cell_type": "code",
   "execution_count": 109,
   "id": "343cf0b7-4f8e-44ba-ab44-0b784a61554b",
   "metadata": {
    "execution": {
     "iopub.execute_input": "2024-09-10T06:02:57.165471Z",
     "iopub.status.busy": "2024-09-10T06:02:57.163473Z",
     "iopub.status.idle": "2024-09-10T06:02:57.182090Z",
     "shell.execute_reply": "2024-09-10T06:02:57.180439Z",
     "shell.execute_reply.started": "2024-09-10T06:02:57.165471Z"
    }
   },
   "outputs": [
    {
     "data": {
      "text/html": [
       "<div>\n",
       "<style scoped>\n",
       "    .dataframe tbody tr th:only-of-type {\n",
       "        vertical-align: middle;\n",
       "    }\n",
       "\n",
       "    .dataframe tbody tr th {\n",
       "        vertical-align: top;\n",
       "    }\n",
       "\n",
       "    .dataframe thead th {\n",
       "        text-align: right;\n",
       "    }\n",
       "</style>\n",
       "<table border=\"1\" class=\"dataframe\">\n",
       "  <thead>\n",
       "    <tr style=\"text-align: right;\">\n",
       "      <th></th>\n",
       "      <th>one</th>\n",
       "      <th>two</th>\n",
       "      <th>three</th>\n",
       "    </tr>\n",
       "  </thead>\n",
       "  <tbody>\n",
       "    <tr>\n",
       "      <th>a</th>\n",
       "      <td>0.394365</td>\n",
       "      <td>-0.195027</td>\n",
       "      <td>1.000000</td>\n",
       "    </tr>\n",
       "    <tr>\n",
       "      <th>b</th>\n",
       "      <td>-1.939470</td>\n",
       "      <td>2.342532</td>\n",
       "      <td>0.461569</td>\n",
       "    </tr>\n",
       "    <tr>\n",
       "      <th>c</th>\n",
       "      <td>0.404955</td>\n",
       "      <td>2.001217</td>\n",
       "      <td>2.648771</td>\n",
       "    </tr>\n",
       "    <tr>\n",
       "      <th>d</th>\n",
       "      <td>NaN</td>\n",
       "      <td>-0.869101</td>\n",
       "      <td>0.483697</td>\n",
       "    </tr>\n",
       "  </tbody>\n",
       "</table>\n",
       "</div>"
      ],
      "text/plain": [
       "        one       two     three\n",
       "a  0.394365 -0.195027  1.000000\n",
       "b -1.939470  2.342532  0.461569\n",
       "c  0.404955  2.001217  2.648771\n",
       "d       NaN -0.869101  0.483697"
      ]
     },
     "execution_count": 109,
     "metadata": {},
     "output_type": "execute_result"
    }
   ],
   "source": [
    "df.add(df2, fill_value=0)"
   ]
  },
  {
   "cell_type": "markdown",
   "id": "10b76535-c722-44d7-bb9f-35d0c3f8dbbc",
   "metadata": {},
   "source": [
    "# Flexible comparisons"
   ]
  },
  {
   "cell_type": "markdown",
   "id": "6e511a50-a024-4a5c-83f6-79ab8812738c",
   "metadata": {},
   "source": [
    "Series and DataFrame have the binary comparison methods <br> eq, ne, lt, gt, le, and ge </br>"
   ]
  },
  {
   "cell_type": "code",
   "execution_count": 113,
   "id": "2c92a70a-d24a-4d5d-8219-eaa249a610b4",
   "metadata": {
    "execution": {
     "iopub.execute_input": "2024-09-10T06:05:32.511514Z",
     "iopub.status.busy": "2024-09-10T06:05:32.509377Z",
     "iopub.status.idle": "2024-09-10T06:05:32.527617Z",
     "shell.execute_reply": "2024-09-10T06:05:32.526034Z",
     "shell.execute_reply.started": "2024-09-10T06:05:32.511514Z"
    }
   },
   "outputs": [
    {
     "data": {
      "text/html": [
       "<div>\n",
       "<style scoped>\n",
       "    .dataframe tbody tr th:only-of-type {\n",
       "        vertical-align: middle;\n",
       "    }\n",
       "\n",
       "    .dataframe tbody tr th {\n",
       "        vertical-align: top;\n",
       "    }\n",
       "\n",
       "    .dataframe thead th {\n",
       "        text-align: right;\n",
       "    }\n",
       "</style>\n",
       "<table border=\"1\" class=\"dataframe\">\n",
       "  <thead>\n",
       "    <tr style=\"text-align: right;\">\n",
       "      <th></th>\n",
       "      <th>one</th>\n",
       "      <th>two</th>\n",
       "      <th>three</th>\n",
       "    </tr>\n",
       "  </thead>\n",
       "  <tbody>\n",
       "    <tr>\n",
       "      <th>a</th>\n",
       "      <td>False</td>\n",
       "      <td>False</td>\n",
       "      <td>False</td>\n",
       "    </tr>\n",
       "    <tr>\n",
       "      <th>b</th>\n",
       "      <td>False</td>\n",
       "      <td>False</td>\n",
       "      <td>False</td>\n",
       "    </tr>\n",
       "    <tr>\n",
       "      <th>c</th>\n",
       "      <td>False</td>\n",
       "      <td>False</td>\n",
       "      <td>False</td>\n",
       "    </tr>\n",
       "    <tr>\n",
       "      <th>d</th>\n",
       "      <td>False</td>\n",
       "      <td>False</td>\n",
       "      <td>False</td>\n",
       "    </tr>\n",
       "  </tbody>\n",
       "</table>\n",
       "</div>"
      ],
      "text/plain": [
       "     one    two  three\n",
       "a  False  False  False\n",
       "b  False  False  False\n",
       "c  False  False  False\n",
       "d  False  False  False"
      ]
     },
     "execution_count": 113,
     "metadata": {},
     "output_type": "execute_result"
    }
   ],
   "source": [
    "df.gt(df2)"
   ]
  },
  {
   "cell_type": "code",
   "execution_count": 115,
   "id": "8973b60b-7471-4b91-8c06-f510bd701ac4",
   "metadata": {
    "execution": {
     "iopub.execute_input": "2024-09-10T06:05:54.712621Z",
     "iopub.status.busy": "2024-09-10T06:05:54.712621Z",
     "iopub.status.idle": "2024-09-10T06:05:54.729392Z",
     "shell.execute_reply": "2024-09-10T06:05:54.728235Z",
     "shell.execute_reply.started": "2024-09-10T06:05:54.712621Z"
    }
   },
   "outputs": [
    {
     "data": {
      "text/html": [
       "<div>\n",
       "<style scoped>\n",
       "    .dataframe tbody tr th:only-of-type {\n",
       "        vertical-align: middle;\n",
       "    }\n",
       "\n",
       "    .dataframe tbody tr th {\n",
       "        vertical-align: top;\n",
       "    }\n",
       "\n",
       "    .dataframe thead th {\n",
       "        text-align: right;\n",
       "    }\n",
       "</style>\n",
       "<table border=\"1\" class=\"dataframe\">\n",
       "  <thead>\n",
       "    <tr style=\"text-align: right;\">\n",
       "      <th></th>\n",
       "      <th>one</th>\n",
       "      <th>two</th>\n",
       "      <th>three</th>\n",
       "    </tr>\n",
       "  </thead>\n",
       "  <tbody>\n",
       "    <tr>\n",
       "      <th>a</th>\n",
       "      <td>False</td>\n",
       "      <td>False</td>\n",
       "      <td>True</td>\n",
       "    </tr>\n",
       "    <tr>\n",
       "      <th>b</th>\n",
       "      <td>False</td>\n",
       "      <td>False</td>\n",
       "      <td>False</td>\n",
       "    </tr>\n",
       "    <tr>\n",
       "      <th>c</th>\n",
       "      <td>False</td>\n",
       "      <td>False</td>\n",
       "      <td>False</td>\n",
       "    </tr>\n",
       "    <tr>\n",
       "      <th>d</th>\n",
       "      <td>True</td>\n",
       "      <td>False</td>\n",
       "      <td>False</td>\n",
       "    </tr>\n",
       "  </tbody>\n",
       "</table>\n",
       "</div>"
      ],
      "text/plain": [
       "     one    two  three\n",
       "a  False  False   True\n",
       "b  False  False  False\n",
       "c  False  False  False\n",
       "d   True  False  False"
      ]
     },
     "execution_count": 115,
     "metadata": {},
     "output_type": "execute_result"
    }
   ],
   "source": [
    "df2.ne(df)"
   ]
  },
  {
   "cell_type": "markdown",
   "id": "54d12755-f7a6-4636-a01b-3a3cc77c8af7",
   "metadata": {},
   "source": [
    "These operations produce a pandas object of the same type as the left-hand-side input that is of dtype bool. These boolean objects can be used in indexing operations"
   ]
  },
  {
   "cell_type": "markdown",
   "id": "34b0ffcd-d358-471d-8978-054aecca1f42",
   "metadata": {},
   "source": [
    "# Boolean reductions"
   ]
  },
  {
   "cell_type": "markdown",
   "id": "75aa2b47-50dc-4c49-adfc-e44bcd19a629",
   "metadata": {},
   "source": [
    "for summerise boolen result can apply the reductions: empty, any(), all(), and bool()"
   ]
  },
  {
   "cell_type": "code",
   "execution_count": 122,
   "id": "a14d329d-0451-4bca-8b85-76bf0d76866d",
   "metadata": {
    "execution": {
     "iopub.execute_input": "2024-09-10T06:09:11.862737Z",
     "iopub.status.busy": "2024-09-10T06:09:11.862737Z",
     "iopub.status.idle": "2024-09-10T06:09:11.874540Z",
     "shell.execute_reply": "2024-09-10T06:09:11.873443Z",
     "shell.execute_reply.started": "2024-09-10T06:09:11.862737Z"
    }
   },
   "outputs": [
    {
     "data": {
      "text/plain": [
       "one      False\n",
       "two      False\n",
       "three    False\n",
       "dtype: bool"
      ]
     },
     "execution_count": 122,
     "metadata": {},
     "output_type": "execute_result"
    }
   ],
   "source": [
    "(df > 0).all()"
   ]
  },
  {
   "cell_type": "code",
   "execution_count": 124,
   "id": "15887260-042e-4e69-91d6-bae973717902",
   "metadata": {
    "execution": {
     "iopub.execute_input": "2024-09-10T06:09:29.333584Z",
     "iopub.status.busy": "2024-09-10T06:09:29.333584Z",
     "iopub.status.idle": "2024-09-10T06:09:29.351769Z",
     "shell.execute_reply": "2024-09-10T06:09:29.349977Z",
     "shell.execute_reply.started": "2024-09-10T06:09:29.333584Z"
    }
   },
   "outputs": [
    {
     "data": {
      "text/plain": [
       "one      True\n",
       "two      True\n",
       "three    True\n",
       "dtype: bool"
      ]
     },
     "execution_count": 124,
     "metadata": {},
     "output_type": "execute_result"
    }
   ],
   "source": [
    "(df > 0 ).any()"
   ]
  },
  {
   "cell_type": "markdown",
   "id": "02d39cc3-98d2-45d3-bdea-27aa1d2746bc",
   "metadata": {},
   "source": [
    "can reduce to a final boolean value."
   ]
  },
  {
   "cell_type": "code",
   "execution_count": 127,
   "id": "83f04c06-cc90-471d-a981-80f37d8ad149",
   "metadata": {
    "execution": {
     "iopub.execute_input": "2024-09-10T06:10:17.938021Z",
     "iopub.status.busy": "2024-09-10T06:10:17.938021Z",
     "iopub.status.idle": "2024-09-10T06:10:17.948966Z",
     "shell.execute_reply": "2024-09-10T06:10:17.948447Z",
     "shell.execute_reply.started": "2024-09-10T06:10:17.938021Z"
    }
   },
   "outputs": [
    {
     "data": {
      "text/plain": [
       "True"
      ]
     },
     "execution_count": 127,
     "metadata": {},
     "output_type": "execute_result"
    }
   ],
   "source": [
    "(df > 0).any().any()"
   ]
  },
  {
   "cell_type": "markdown",
   "id": "0f4bf7b6-6b6b-4af9-8f5a-a4bb70dfc4f8",
   "metadata": {},
   "source": [
    "can test if a pandas object is empty, via the empty property"
   ]
  },
  {
   "cell_type": "code",
   "execution_count": 130,
   "id": "33622765-d687-4488-8601-2f5fb8fcdff8",
   "metadata": {
    "execution": {
     "iopub.execute_input": "2024-09-10T06:10:50.213514Z",
     "iopub.status.busy": "2024-09-10T06:10:50.213514Z",
     "iopub.status.idle": "2024-09-10T06:10:50.221351Z",
     "shell.execute_reply": "2024-09-10T06:10:50.220275Z",
     "shell.execute_reply.started": "2024-09-10T06:10:50.213514Z"
    }
   },
   "outputs": [
    {
     "data": {
      "text/plain": [
       "False"
      ]
     },
     "execution_count": 130,
     "metadata": {},
     "output_type": "execute_result"
    }
   ],
   "source": [
    "df.empty"
   ]
  },
  {
   "cell_type": "code",
   "execution_count": 134,
   "id": "a45b729f-7698-4004-ae59-9212d3837f15",
   "metadata": {
    "execution": {
     "iopub.execute_input": "2024-09-10T06:11:43.960081Z",
     "iopub.status.busy": "2024-09-10T06:11:43.959838Z",
     "iopub.status.idle": "2024-09-10T06:11:43.971577Z",
     "shell.execute_reply": "2024-09-10T06:11:43.970434Z",
     "shell.execute_reply.started": "2024-09-10T06:11:43.960081Z"
    }
   },
   "outputs": [
    {
     "data": {
      "text/plain": [
       "True"
      ]
     },
     "execution_count": 134,
     "metadata": {},
     "output_type": "execute_result"
    }
   ],
   "source": [
    "pd.DataFrame(columns=list(\"ABC\")).empty"
   ]
  },
  {
   "cell_type": "markdown",
   "id": "d1a0e255-ed22-4c2f-88ee-fadf88e27b9d",
   "metadata": {
    "execution": {
     "iopub.execute_input": "2024-09-10T06:12:17.919183Z",
     "iopub.status.busy": "2024-09-10T06:12:17.919183Z",
     "iopub.status.idle": "2024-09-10T06:12:17.931526Z",
     "shell.execute_reply": "2024-09-10T06:12:17.930491Z",
     "shell.execute_reply.started": "2024-09-10T06:12:17.919183Z"
    }
   },
   "source": [
    "# Warning\n",
    "    Asserting the truthiness of a pandas object will raise an error, as the testing of the emptiness or values is ambiguous."
   ]
  },
  {
   "cell_type": "code",
   "execution_count": 139,
   "id": "5cb4da8a-6964-431e-9876-8b663e2e204b",
   "metadata": {
    "execution": {
     "iopub.execute_input": "2024-09-10T06:12:48.229130Z",
     "iopub.status.busy": "2024-09-10T06:12:48.228120Z",
     "iopub.status.idle": "2024-09-10T06:12:48.248704Z",
     "shell.execute_reply": "2024-09-10T06:12:48.248704Z",
     "shell.execute_reply.started": "2024-09-10T06:12:48.229130Z"
    }
   },
   "outputs": [
    {
     "ename": "ValueError",
     "evalue": "The truth value of a DataFrame is ambiguous. Use a.empty, a.bool(), a.item(), a.any() or a.all().",
     "output_type": "error",
     "traceback": [
      "\u001b[1;31m---------------------------------------------------------------------------\u001b[0m",
      "\u001b[1;31mValueError\u001b[0m                                Traceback (most recent call last)",
      "\u001b[1;32m~\\AppData\\Local\\Temp\\ipykernel_17244\\65339078.py\u001b[0m in \u001b[0;36m?\u001b[1;34m()\u001b[0m\n\u001b[1;32m----> 1\u001b[1;33m \u001b[1;32mif\u001b[0m \u001b[0mdf\u001b[0m\u001b[1;33m:\u001b[0m\u001b[1;33m\u001b[0m\u001b[1;33m\u001b[0m\u001b[0m\n\u001b[0m\u001b[0;32m      2\u001b[0m     \u001b[0mprint\u001b[0m\u001b[1;33m(\u001b[0m\u001b[1;32mTrue\u001b[0m\u001b[1;33m)\u001b[0m\u001b[1;33m\u001b[0m\u001b[1;33m\u001b[0m\u001b[0m\n",
      "\u001b[1;32m~\\AppData\\Local\\anaconda3\\Lib\\site-packages\\pandas\\core\\generic.py\u001b[0m in \u001b[0;36m?\u001b[1;34m(self)\u001b[0m\n\u001b[0;32m   1574\u001b[0m     \u001b[1;33m@\u001b[0m\u001b[0mfinal\u001b[0m\u001b[1;33m\u001b[0m\u001b[1;33m\u001b[0m\u001b[0m\n\u001b[0;32m   1575\u001b[0m     \u001b[1;32mdef\u001b[0m \u001b[0m__nonzero__\u001b[0m\u001b[1;33m(\u001b[0m\u001b[0mself\u001b[0m\u001b[1;33m)\u001b[0m \u001b[1;33m->\u001b[0m \u001b[0mNoReturn\u001b[0m\u001b[1;33m:\u001b[0m\u001b[1;33m\u001b[0m\u001b[1;33m\u001b[0m\u001b[0m\n\u001b[1;32m-> 1576\u001b[1;33m         raise ValueError(\n\u001b[0m\u001b[0;32m   1577\u001b[0m             \u001b[1;33mf\"\u001b[0m\u001b[1;33mThe truth value of a \u001b[0m\u001b[1;33m{\u001b[0m\u001b[0mtype\u001b[0m\u001b[1;33m(\u001b[0m\u001b[0mself\u001b[0m\u001b[1;33m)\u001b[0m\u001b[1;33m.\u001b[0m\u001b[0m__name__\u001b[0m\u001b[1;33m}\u001b[0m\u001b[1;33m is ambiguous. \u001b[0m\u001b[1;33m\"\u001b[0m\u001b[1;33m\u001b[0m\u001b[1;33m\u001b[0m\u001b[0m\n\u001b[0;32m   1578\u001b[0m             \u001b[1;34m\"Use a.empty, a.bool(), a.item(), a.any() or a.all().\"\u001b[0m\u001b[1;33m\u001b[0m\u001b[1;33m\u001b[0m\u001b[0m\n\u001b[0;32m   1579\u001b[0m         \u001b[1;33m)\u001b[0m\u001b[1;33m\u001b[0m\u001b[1;33m\u001b[0m\u001b[0m\n",
      "\u001b[1;31mValueError\u001b[0m: The truth value of a DataFrame is ambiguous. Use a.empty, a.bool(), a.item(), a.any() or a.all()."
     ]
    }
   ],
   "source": [
    "if df:\n",
    "    print(True)"
   ]
  },
  {
   "cell_type": "code",
   "execution_count": 141,
   "id": "ac42139e-2ddc-4626-8a8e-7bc4fe5738f7",
   "metadata": {
    "execution": {
     "iopub.execute_input": "2024-09-10T06:13:06.495392Z",
     "iopub.status.busy": "2024-09-10T06:13:06.495392Z",
     "iopub.status.idle": "2024-09-10T06:13:06.525093Z",
     "shell.execute_reply": "2024-09-10T06:13:06.522405Z",
     "shell.execute_reply.started": "2024-09-10T06:13:06.495392Z"
    }
   },
   "outputs": [
    {
     "ename": "ValueError",
     "evalue": "The truth value of a DataFrame is ambiguous. Use a.empty, a.bool(), a.item(), a.any() or a.all().",
     "output_type": "error",
     "traceback": [
      "\u001b[1;31m---------------------------------------------------------------------------\u001b[0m",
      "\u001b[1;31mValueError\u001b[0m                                Traceback (most recent call last)",
      "\u001b[1;32m~\\AppData\\Local\\Temp\\ipykernel_17244\\3354542707.py\u001b[0m in \u001b[0;36m?\u001b[1;34m()\u001b[0m\n\u001b[1;32m----> 1\u001b[1;33m \u001b[0mdf\u001b[0m \u001b[1;32mand\u001b[0m \u001b[0mdf2\u001b[0m\u001b[1;33m\u001b[0m\u001b[1;33m\u001b[0m\u001b[0m\n\u001b[0m",
      "\u001b[1;32m~\\AppData\\Local\\anaconda3\\Lib\\site-packages\\pandas\\core\\generic.py\u001b[0m in \u001b[0;36m?\u001b[1;34m(self)\u001b[0m\n\u001b[0;32m   1574\u001b[0m     \u001b[1;33m@\u001b[0m\u001b[0mfinal\u001b[0m\u001b[1;33m\u001b[0m\u001b[1;33m\u001b[0m\u001b[0m\n\u001b[0;32m   1575\u001b[0m     \u001b[1;32mdef\u001b[0m \u001b[0m__nonzero__\u001b[0m\u001b[1;33m(\u001b[0m\u001b[0mself\u001b[0m\u001b[1;33m)\u001b[0m \u001b[1;33m->\u001b[0m \u001b[0mNoReturn\u001b[0m\u001b[1;33m:\u001b[0m\u001b[1;33m\u001b[0m\u001b[1;33m\u001b[0m\u001b[0m\n\u001b[1;32m-> 1576\u001b[1;33m         raise ValueError(\n\u001b[0m\u001b[0;32m   1577\u001b[0m             \u001b[1;33mf\"\u001b[0m\u001b[1;33mThe truth value of a \u001b[0m\u001b[1;33m{\u001b[0m\u001b[0mtype\u001b[0m\u001b[1;33m(\u001b[0m\u001b[0mself\u001b[0m\u001b[1;33m)\u001b[0m\u001b[1;33m.\u001b[0m\u001b[0m__name__\u001b[0m\u001b[1;33m}\u001b[0m\u001b[1;33m is ambiguous. \u001b[0m\u001b[1;33m\"\u001b[0m\u001b[1;33m\u001b[0m\u001b[1;33m\u001b[0m\u001b[0m\n\u001b[0;32m   1578\u001b[0m             \u001b[1;34m\"Use a.empty, a.bool(), a.item(), a.any() or a.all().\"\u001b[0m\u001b[1;33m\u001b[0m\u001b[1;33m\u001b[0m\u001b[0m\n\u001b[0;32m   1579\u001b[0m         \u001b[1;33m)\u001b[0m\u001b[1;33m\u001b[0m\u001b[1;33m\u001b[0m\u001b[0m\n",
      "\u001b[1;31mValueError\u001b[0m: The truth value of a DataFrame is ambiguous. Use a.empty, a.bool(), a.item(), a.any() or a.all()."
     ]
    }
   ],
   "source": [
    "df and df2"
   ]
  },
  {
   "cell_type": "markdown",
   "id": "b78ee81f-91c8-4add-8f5b-ad7b941b0c61",
   "metadata": {},
   "source": [
    "# Comparing if objects are equivalent"
   ]
  },
  {
   "cell_type": "markdown",
   "id": "0d487ba5-fc7c-4d1b-92ff-f724ffe5d2be",
   "metadata": {},
   "source": [
    "may find that there is more than one way to compute the same result\n",
    "\n",
    "example, consider df + df and df * 2\n",
    "    o test that these two computations produce the same result, given the tools shown above, you might imagine using (df + df == df * 2).all(). But in fact, this expression is False:\n",
    "    "
   ]
  },
  {
   "cell_type": "code",
   "execution_count": 146,
   "id": "6b91b746-acc2-42d1-95ff-7b1e74022ec6",
   "metadata": {
    "execution": {
     "iopub.execute_input": "2024-09-10T06:19:18.704511Z",
     "iopub.status.busy": "2024-09-10T06:19:18.703468Z",
     "iopub.status.idle": "2024-09-10T06:19:18.720188Z",
     "shell.execute_reply": "2024-09-10T06:19:18.718706Z",
     "shell.execute_reply.started": "2024-09-10T06:19:18.704511Z"
    }
   },
   "outputs": [
    {
     "data": {
      "text/html": [
       "<div>\n",
       "<style scoped>\n",
       "    .dataframe tbody tr th:only-of-type {\n",
       "        vertical-align: middle;\n",
       "    }\n",
       "\n",
       "    .dataframe tbody tr th {\n",
       "        vertical-align: top;\n",
       "    }\n",
       "\n",
       "    .dataframe thead th {\n",
       "        text-align: right;\n",
       "    }\n",
       "</style>\n",
       "<table border=\"1\" class=\"dataframe\">\n",
       "  <thead>\n",
       "    <tr style=\"text-align: right;\">\n",
       "      <th></th>\n",
       "      <th>one</th>\n",
       "      <th>two</th>\n",
       "      <th>three</th>\n",
       "    </tr>\n",
       "  </thead>\n",
       "  <tbody>\n",
       "    <tr>\n",
       "      <th>a</th>\n",
       "      <td>True</td>\n",
       "      <td>True</td>\n",
       "      <td>False</td>\n",
       "    </tr>\n",
       "    <tr>\n",
       "      <th>b</th>\n",
       "      <td>True</td>\n",
       "      <td>True</td>\n",
       "      <td>True</td>\n",
       "    </tr>\n",
       "    <tr>\n",
       "      <th>c</th>\n",
       "      <td>True</td>\n",
       "      <td>True</td>\n",
       "      <td>True</td>\n",
       "    </tr>\n",
       "    <tr>\n",
       "      <th>d</th>\n",
       "      <td>False</td>\n",
       "      <td>True</td>\n",
       "      <td>True</td>\n",
       "    </tr>\n",
       "  </tbody>\n",
       "</table>\n",
       "</div>"
      ],
      "text/plain": [
       "     one   two  three\n",
       "a   True  True  False\n",
       "b   True  True   True\n",
       "c   True  True   True\n",
       "d  False  True   True"
      ]
     },
     "execution_count": 146,
     "metadata": {},
     "output_type": "execute_result"
    }
   ],
   "source": [
    "df+df==df*2"
   ]
  },
  {
   "cell_type": "code",
   "execution_count": 148,
   "id": "28345ef8-fdf2-4451-b6e5-05e8d9047ce6",
   "metadata": {
    "execution": {
     "iopub.execute_input": "2024-09-10T06:19:48.311264Z",
     "iopub.status.busy": "2024-09-10T06:19:48.309156Z",
     "iopub.status.idle": "2024-09-10T06:19:48.324686Z",
     "shell.execute_reply": "2024-09-10T06:19:48.323647Z",
     "shell.execute_reply.started": "2024-09-10T06:19:48.310711Z"
    }
   },
   "outputs": [
    {
     "data": {
      "text/plain": [
       "one      False\n",
       "two       True\n",
       "three    False\n",
       "dtype: bool"
      ]
     },
     "execution_count": 148,
     "metadata": {},
     "output_type": "execute_result"
    }
   ],
   "source": [
    "(df+df==df*2).all()"
   ]
  },
  {
   "cell_type": "markdown",
   "id": "b9abe17b-85fe-45a7-ae42-65bcfe80c0f5",
   "metadata": {},
   "source": [
    "Notice that the boolean DataFrame df + df == df * 2 contains some False values! This is because NaNs do not compare as equals:"
   ]
  },
  {
   "cell_type": "code",
   "execution_count": 151,
   "id": "21caf01d-6823-46ef-a190-634b35eccd19",
   "metadata": {
    "execution": {
     "iopub.execute_input": "2024-09-10T06:20:47.460619Z",
     "iopub.status.busy": "2024-09-10T06:20:47.457040Z",
     "iopub.status.idle": "2024-09-10T06:20:47.470125Z",
     "shell.execute_reply": "2024-09-10T06:20:47.469048Z",
     "shell.execute_reply.started": "2024-09-10T06:20:47.460619Z"
    }
   },
   "outputs": [
    {
     "data": {
      "text/plain": [
       "False"
      ]
     },
     "execution_count": 151,
     "metadata": {},
     "output_type": "execute_result"
    }
   ],
   "source": [
    "np.nan == np.nan"
   ]
  },
  {
   "cell_type": "markdown",
   "id": "5a559b25-e0b7-4188-8ee9-d6c76301f7df",
   "metadata": {
    "execution": {
     "iopub.execute_input": "2024-09-10T06:22:22.110993Z",
     "iopub.status.busy": "2024-09-10T06:22:22.110993Z",
     "iopub.status.idle": "2024-09-10T06:22:22.121644Z",
     "shell.execute_reply": "2024-09-10T06:22:22.119934Z",
     "shell.execute_reply.started": "2024-09-10T06:22:22.110993Z"
    }
   },
   "source": [
    "but to test equality nDframes have <br> equals() </br> method"
   ]
  },
  {
   "cell_type": "code",
   "execution_count": 163,
   "id": "840c77cc-cae2-42bf-8aee-846a342cb4ec",
   "metadata": {
    "execution": {
     "iopub.execute_input": "2024-09-10T06:23:29.382517Z",
     "iopub.status.busy": "2024-09-10T06:23:29.380008Z",
     "iopub.status.idle": "2024-09-10T06:23:29.389204Z",
     "shell.execute_reply": "2024-09-10T06:23:29.388687Z",
     "shell.execute_reply.started": "2024-09-10T06:23:29.382517Z"
    }
   },
   "outputs": [
    {
     "data": {
      "text/plain": [
       "False"
      ]
     },
     "execution_count": 163,
     "metadata": {},
     "output_type": "execute_result"
    }
   ],
   "source": [
    "(df+df).equals(df2*2)"
   ]
  },
  {
   "cell_type": "markdown",
   "id": "7cff1eea-50a8-4680-b42d-f098b8da3790",
   "metadata": {},
   "source": [
    "# Note:\n",
    "    for equallity test series or Dataframe  need to be in same order"
   ]
  },
  {
   "cell_type": "code",
   "execution_count": 166,
   "id": "c91ed426-db44-49fb-818c-a8dbf71ae059",
   "metadata": {
    "execution": {
     "iopub.execute_input": "2024-09-10T06:26:01.600421Z",
     "iopub.status.busy": "2024-09-10T06:26:01.600421Z",
     "iopub.status.idle": "2024-09-10T06:26:01.609145Z",
     "shell.execute_reply": "2024-09-10T06:26:01.607588Z",
     "shell.execute_reply.started": "2024-09-10T06:26:01.600421Z"
    }
   },
   "outputs": [],
   "source": [
    "df1= pd.DataFrame({\n",
    "    \"col\":[\"foo\", 0, np.nan]\n",
    "})\n"
   ]
  },
  {
   "cell_type": "code",
   "execution_count": 168,
   "id": "d322bc76-99bb-4a60-93b2-6c44dde2301b",
   "metadata": {
    "execution": {
     "iopub.execute_input": "2024-09-10T06:26:08.285179Z",
     "iopub.status.busy": "2024-09-10T06:26:08.284109Z",
     "iopub.status.idle": "2024-09-10T06:26:08.297879Z",
     "shell.execute_reply": "2024-09-10T06:26:08.296866Z",
     "shell.execute_reply.started": "2024-09-10T06:26:08.285179Z"
    }
   },
   "outputs": [
    {
     "data": {
      "text/html": [
       "<div>\n",
       "<style scoped>\n",
       "    .dataframe tbody tr th:only-of-type {\n",
       "        vertical-align: middle;\n",
       "    }\n",
       "\n",
       "    .dataframe tbody tr th {\n",
       "        vertical-align: top;\n",
       "    }\n",
       "\n",
       "    .dataframe thead th {\n",
       "        text-align: right;\n",
       "    }\n",
       "</style>\n",
       "<table border=\"1\" class=\"dataframe\">\n",
       "  <thead>\n",
       "    <tr style=\"text-align: right;\">\n",
       "      <th></th>\n",
       "      <th>col</th>\n",
       "    </tr>\n",
       "  </thead>\n",
       "  <tbody>\n",
       "    <tr>\n",
       "      <th>0</th>\n",
       "      <td>foo</td>\n",
       "    </tr>\n",
       "    <tr>\n",
       "      <th>1</th>\n",
       "      <td>0</td>\n",
       "    </tr>\n",
       "    <tr>\n",
       "      <th>2</th>\n",
       "      <td>NaN</td>\n",
       "    </tr>\n",
       "  </tbody>\n",
       "</table>\n",
       "</div>"
      ],
      "text/plain": [
       "   col\n",
       "0  foo\n",
       "1    0\n",
       "2  NaN"
      ]
     },
     "execution_count": 168,
     "metadata": {},
     "output_type": "execute_result"
    }
   ],
   "source": [
    "df1"
   ]
  },
  {
   "cell_type": "code",
   "execution_count": 170,
   "id": "9faec857-eb02-4e1d-9ff1-438a3e860c7c",
   "metadata": {
    "execution": {
     "iopub.execute_input": "2024-09-10T06:27:15.018768Z",
     "iopub.status.busy": "2024-09-10T06:27:15.018768Z",
     "iopub.status.idle": "2024-09-10T06:27:15.029529Z",
     "shell.execute_reply": "2024-09-10T06:27:15.027725Z",
     "shell.execute_reply.started": "2024-09-10T06:27:15.018768Z"
    }
   },
   "outputs": [],
   "source": [
    "df2 = pd.DataFrame({\n",
    "    \"col\":[np.nan, 0, \"foo\"]\n",
    "}, index=[2,1, 0])"
   ]
  },
  {
   "cell_type": "code",
   "execution_count": 172,
   "id": "4bca6ee5-a8cf-4d4a-b6db-86584fa7a26c",
   "metadata": {
    "execution": {
     "iopub.execute_input": "2024-09-10T06:27:17.336496Z",
     "iopub.status.busy": "2024-09-10T06:27:17.336496Z",
     "iopub.status.idle": "2024-09-10T06:27:17.356679Z",
     "shell.execute_reply": "2024-09-10T06:27:17.355091Z",
     "shell.execute_reply.started": "2024-09-10T06:27:17.336496Z"
    }
   },
   "outputs": [
    {
     "data": {
      "text/html": [
       "<div>\n",
       "<style scoped>\n",
       "    .dataframe tbody tr th:only-of-type {\n",
       "        vertical-align: middle;\n",
       "    }\n",
       "\n",
       "    .dataframe tbody tr th {\n",
       "        vertical-align: top;\n",
       "    }\n",
       "\n",
       "    .dataframe thead th {\n",
       "        text-align: right;\n",
       "    }\n",
       "</style>\n",
       "<table border=\"1\" class=\"dataframe\">\n",
       "  <thead>\n",
       "    <tr style=\"text-align: right;\">\n",
       "      <th></th>\n",
       "      <th>col</th>\n",
       "    </tr>\n",
       "  </thead>\n",
       "  <tbody>\n",
       "    <tr>\n",
       "      <th>2</th>\n",
       "      <td>NaN</td>\n",
       "    </tr>\n",
       "    <tr>\n",
       "      <th>1</th>\n",
       "      <td>0</td>\n",
       "    </tr>\n",
       "    <tr>\n",
       "      <th>0</th>\n",
       "      <td>foo</td>\n",
       "    </tr>\n",
       "  </tbody>\n",
       "</table>\n",
       "</div>"
      ],
      "text/plain": [
       "   col\n",
       "2  NaN\n",
       "1    0\n",
       "0  foo"
      ]
     },
     "execution_count": 172,
     "metadata": {},
     "output_type": "execute_result"
    }
   ],
   "source": [
    "df2"
   ]
  },
  {
   "cell_type": "code",
   "execution_count": 174,
   "id": "4dc45c93-e83c-46ed-b801-e359e004ab8a",
   "metadata": {
    "execution": {
     "iopub.execute_input": "2024-09-10T06:27:36.812147Z",
     "iopub.status.busy": "2024-09-10T06:27:36.812147Z",
     "iopub.status.idle": "2024-09-10T06:27:36.823861Z",
     "shell.execute_reply": "2024-09-10T06:27:36.822848Z",
     "shell.execute_reply.started": "2024-09-10T06:27:36.812147Z"
    }
   },
   "outputs": [
    {
     "data": {
      "text/plain": [
       "False"
      ]
     },
     "execution_count": 174,
     "metadata": {},
     "output_type": "execute_result"
    }
   ],
   "source": [
    "df1.equals(df2)"
   ]
  },
  {
   "cell_type": "code",
   "execution_count": 176,
   "id": "9b779ffd-e583-4274-b903-6769f93095be",
   "metadata": {
    "execution": {
     "iopub.execute_input": "2024-09-10T06:28:09.317255Z",
     "iopub.status.busy": "2024-09-10T06:28:09.317255Z",
     "iopub.status.idle": "2024-09-10T06:28:09.338288Z",
     "shell.execute_reply": "2024-09-10T06:28:09.338288Z",
     "shell.execute_reply.started": "2024-09-10T06:28:09.317255Z"
    }
   },
   "outputs": [
    {
     "data": {
      "text/plain": [
       "True"
      ]
     },
     "execution_count": 176,
     "metadata": {},
     "output_type": "execute_result"
    }
   ],
   "source": [
    "df1.equals(df2.sort_index())"
   ]
  },
  {
   "cell_type": "code",
   "execution_count": null,
   "id": "a1fd46c1-dd24-4937-8a2c-7eca555162d3",
   "metadata": {},
   "outputs": [],
   "source": []
  }
 ],
 "metadata": {
  "kernelspec": {
   "display_name": "Python 3 (ipykernel)",
   "language": "python",
   "name": "python3"
  },
  "language_info": {
   "codemirror_mode": {
    "name": "ipython",
    "version": 3
   },
   "file_extension": ".py",
   "mimetype": "text/x-python",
   "name": "python",
   "nbconvert_exporter": "python",
   "pygments_lexer": "ipython3",
   "version": "3.12.3"
  }
 },
 "nbformat": 4,
 "nbformat_minor": 5
}
