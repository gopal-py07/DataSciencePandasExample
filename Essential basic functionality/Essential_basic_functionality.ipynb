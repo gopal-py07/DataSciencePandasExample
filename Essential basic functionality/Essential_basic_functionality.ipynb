{
 "cells": [
  {
   "cell_type": "markdown",
   "id": "7336dcc9-423e-4b67-bcdd-c6fb2a003321",
   "metadata": {},
   "source": [
    "# Essential basic functionality"
   ]
  },
  {
   "cell_type": "code",
   "execution_count": null,
   "id": "1d8aed45-2f40-4385-b0a6-83210632fd9a",
   "metadata": {},
   "outputs": [],
   "source": []
  }
 ],
 "metadata": {
  "kernelspec": {
   "display_name": "Python 3 (ipykernel)",
   "language": "python",
   "name": "python3"
  },
  "language_info": {
   "codemirror_mode": {
    "name": "ipython",
    "version": 3
   },
   "file_extension": ".py",
   "mimetype": "text/x-python",
   "name": "python",
   "nbconvert_exporter": "python",
   "pygments_lexer": "ipython3",
   "version": "3.12.4"
  }
 },
 "nbformat": 4,
 "nbformat_minor": 5
}
