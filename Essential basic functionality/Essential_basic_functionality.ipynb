{
 "cells": [
  {
   "cell_type": "markdown",
   "id": "7336dcc9-423e-4b67-bcdd-c6fb2a003321",
   "metadata": {},
   "source": [
    "# Essential basic functionality"
   ]
  },
  {
   "cell_type": "code",
   "execution_count": 10,
   "id": "1d8aed45-2f40-4385-b0a6-83210632fd9a",
   "metadata": {},
   "outputs": [],
   "source": [
    "import pandas as pd\n",
    "import numpy as np"
   ]
  },
  {
   "cell_type": "code",
   "execution_count": 4,
   "id": "184e09f1-368d-472e-be62-05b73c0397be",
   "metadata": {},
   "outputs": [
    {
     "ename": "ValueError",
     "evalue": "Of the four parameters: start, end, periods, and freq, exactly three must be specified",
     "output_type": "error",
     "traceback": [
      "\u001b[1;31m---------------------------------------------------------------------------\u001b[0m",
      "\u001b[1;31mValueError\u001b[0m                                Traceback (most recent call last)",
      "Cell \u001b[1;32mIn[4], line 1\u001b[0m\n\u001b[1;32m----> 1\u001b[0m Index \u001b[38;5;241m=\u001b[39m pd\u001b[38;5;241m.\u001b[39mdate_range(\u001b[38;5;124m\"\u001b[39m\u001b[38;5;124m05/09/2024\u001b[39m\u001b[38;5;124m\"\u001b[39m)\n",
      "File \u001b[1;32m~\\AppData\\Local\\anaconda3\\Lib\\site-packages\\pandas\\core\\indexes\\datetimes.py:1008\u001b[0m, in \u001b[0;36mdate_range\u001b[1;34m(start, end, periods, freq, tz, normalize, name, inclusive, unit, **kwargs)\u001b[0m\n\u001b[0;32m   1005\u001b[0m \u001b[38;5;28;01mif\u001b[39;00m freq \u001b[38;5;129;01mis\u001b[39;00m \u001b[38;5;28;01mNone\u001b[39;00m \u001b[38;5;129;01mand\u001b[39;00m com\u001b[38;5;241m.\u001b[39many_none(periods, start, end):\n\u001b[0;32m   1006\u001b[0m     freq \u001b[38;5;241m=\u001b[39m \u001b[38;5;124m\"\u001b[39m\u001b[38;5;124mD\u001b[39m\u001b[38;5;124m\"\u001b[39m\n\u001b[1;32m-> 1008\u001b[0m dtarr \u001b[38;5;241m=\u001b[39m DatetimeArray\u001b[38;5;241m.\u001b[39m_generate_range(\n\u001b[0;32m   1009\u001b[0m     start\u001b[38;5;241m=\u001b[39mstart,\n\u001b[0;32m   1010\u001b[0m     end\u001b[38;5;241m=\u001b[39mend,\n\u001b[0;32m   1011\u001b[0m     periods\u001b[38;5;241m=\u001b[39mperiods,\n\u001b[0;32m   1012\u001b[0m     freq\u001b[38;5;241m=\u001b[39mfreq,\n\u001b[0;32m   1013\u001b[0m     tz\u001b[38;5;241m=\u001b[39mtz,\n\u001b[0;32m   1014\u001b[0m     normalize\u001b[38;5;241m=\u001b[39mnormalize,\n\u001b[0;32m   1015\u001b[0m     inclusive\u001b[38;5;241m=\u001b[39minclusive,\n\u001b[0;32m   1016\u001b[0m     unit\u001b[38;5;241m=\u001b[39munit,\n\u001b[0;32m   1017\u001b[0m     \u001b[38;5;241m*\u001b[39m\u001b[38;5;241m*\u001b[39mkwargs,\n\u001b[0;32m   1018\u001b[0m )\n\u001b[0;32m   1019\u001b[0m \u001b[38;5;28;01mreturn\u001b[39;00m DatetimeIndex\u001b[38;5;241m.\u001b[39m_simple_new(dtarr, name\u001b[38;5;241m=\u001b[39mname)\n",
      "File \u001b[1;32m~\\AppData\\Local\\anaconda3\\Lib\\site-packages\\pandas\\core\\arrays\\datetimes.py:417\u001b[0m, in \u001b[0;36mDatetimeArray._generate_range\u001b[1;34m(cls, start, end, periods, freq, tz, normalize, ambiguous, nonexistent, inclusive, unit)\u001b[0m\n\u001b[0;32m    414\u001b[0m     \u001b[38;5;28;01mraise\u001b[39;00m \u001b[38;5;167;01mValueError\u001b[39;00m(\u001b[38;5;124m\"\u001b[39m\u001b[38;5;124mMust provide freq argument if no data is supplied\u001b[39m\u001b[38;5;124m\"\u001b[39m)\n\u001b[0;32m    416\u001b[0m \u001b[38;5;28;01mif\u001b[39;00m com\u001b[38;5;241m.\u001b[39mcount_not_none(start, end, periods, freq) \u001b[38;5;241m!=\u001b[39m \u001b[38;5;241m3\u001b[39m:\n\u001b[1;32m--> 417\u001b[0m     \u001b[38;5;28;01mraise\u001b[39;00m \u001b[38;5;167;01mValueError\u001b[39;00m(\n\u001b[0;32m    418\u001b[0m         \u001b[38;5;124m\"\u001b[39m\u001b[38;5;124mOf the four parameters: start, end, periods, \u001b[39m\u001b[38;5;124m\"\u001b[39m\n\u001b[0;32m    419\u001b[0m         \u001b[38;5;124m\"\u001b[39m\u001b[38;5;124mand freq, exactly three must be specified\u001b[39m\u001b[38;5;124m\"\u001b[39m\n\u001b[0;32m    420\u001b[0m     )\n\u001b[0;32m    421\u001b[0m freq \u001b[38;5;241m=\u001b[39m to_offset(freq)\n\u001b[0;32m    423\u001b[0m \u001b[38;5;28;01mif\u001b[39;00m start \u001b[38;5;129;01mis\u001b[39;00m \u001b[38;5;129;01mnot\u001b[39;00m \u001b[38;5;28;01mNone\u001b[39;00m:\n",
      "\u001b[1;31mValueError\u001b[0m: Of the four parameters: start, end, periods, and freq, exactly three must be specified"
     ]
    }
   ],
   "source": [
    "Index = pd.date_range(\"05/09/2024\")"
   ]
  },
  {
   "cell_type": "code",
   "execution_count": 7,
   "id": "b6deb517-9f4b-45c5-98c9-966b98904304",
   "metadata": {},
   "outputs": [],
   "source": [
    "Index = pd.date_range(\"05/09/2024\" , periods=8)"
   ]
  },
  {
   "cell_type": "code",
   "execution_count": 8,
   "id": "4802a3cd-0774-4a93-862e-27eb5d6aa53f",
   "metadata": {},
   "outputs": [
    {
     "data": {
      "text/plain": [
       "DatetimeIndex(['2024-05-09', '2024-05-10', '2024-05-11', '2024-05-12',\n",
       "               '2024-05-13', '2024-05-14', '2024-05-15', '2024-05-16'],\n",
       "              dtype='datetime64[ns]', freq='D')"
      ]
     },
     "execution_count": 8,
     "metadata": {},
     "output_type": "execute_result"
    }
   ],
   "source": [
    "Index"
   ]
  },
  {
   "cell_type": "code",
   "execution_count": 12,
   "id": "10d5f222-fc4c-4eb4-98c9-e29bf85b5f6f",
   "metadata": {},
   "outputs": [
    {
     "ename": "TypeError",
     "evalue": "'module' object is not callable",
     "output_type": "error",
     "traceback": [
      "\u001b[1;31m---------------------------------------------------------------------------\u001b[0m",
      "\u001b[1;31mTypeError\u001b[0m                                 Traceback (most recent call last)",
      "Cell \u001b[1;32mIn[12], line 1\u001b[0m\n\u001b[1;32m----> 1\u001b[0m s \u001b[38;5;241m=\u001b[39m pd\u001b[38;5;241m.\u001b[39mSeries(np\u001b[38;5;241m.\u001b[39mrandom(\u001b[38;5;241m5\u001b[39m), index\u001b[38;5;241m=\u001b[39m[\u001b[38;5;124m\"\u001b[39m\u001b[38;5;124ma\u001b[39m\u001b[38;5;124m\"\u001b[39m,\u001b[38;5;124m\"\u001b[39m\u001b[38;5;124mb\u001b[39m\u001b[38;5;124m\"\u001b[39m,\u001b[38;5;124m\"\u001b[39m\u001b[38;5;124mc\u001b[39m\u001b[38;5;124m\"\u001b[39m,\u001b[38;5;124m\"\u001b[39m\u001b[38;5;124md\u001b[39m\u001b[38;5;124m\"\u001b[39m,\u001b[38;5;124m\"\u001b[39m\u001b[38;5;124me\u001b[39m\u001b[38;5;124m\"\u001b[39m])\n",
      "\u001b[1;31mTypeError\u001b[0m: 'module' object is not callable"
     ]
    }
   ],
   "source": [
    "s = pd.Series(np.random(5), index=[\"a\",\"b\",\"c\",\"d\",\"e\"])"
   ]
  },
  {
   "cell_type": "code",
   "execution_count": 15,
   "id": "753713b2-3ec1-4a32-9690-7a6f7f055021",
   "metadata": {},
   "outputs": [],
   "source": [
    "s = pd.Series(np.random.randn(5), index=[\"a\",\"b\",\"c\",\"d\",\"e\"])"
   ]
  },
  {
   "cell_type": "code",
   "execution_count": 16,
   "id": "f7bf4b2f-97e4-49da-bcbb-4dc86d0895f3",
   "metadata": {},
   "outputs": [
    {
     "data": {
      "text/plain": [
       "a    0.034311\n",
       "b   -0.127555\n",
       "c    1.379252\n",
       "d   -1.235054\n",
       "e   -0.184127\n",
       "dtype: float64"
      ]
     },
     "execution_count": 16,
     "metadata": {},
     "output_type": "execute_result"
    }
   ],
   "source": [
    "s"
   ]
  },
  {
   "cell_type": "code",
   "execution_count": 19,
   "id": "244af1fa-56c3-44b3-b9a6-3f94f0c721e1",
   "metadata": {},
   "outputs": [],
   "source": [
    "df = pd.DataFrame(np.random.randn(8,3), index=Index, columns=[\"A\",\"B\",\"C\"])"
   ]
  },
  {
   "cell_type": "code",
   "execution_count": 20,
   "id": "80caaf45-af14-4dca-a922-f76f55af1e27",
   "metadata": {},
   "outputs": [
    {
     "data": {
      "text/html": [
       "<div>\n",
       "<style scoped>\n",
       "    .dataframe tbody tr th:only-of-type {\n",
       "        vertical-align: middle;\n",
       "    }\n",
       "\n",
       "    .dataframe tbody tr th {\n",
       "        vertical-align: top;\n",
       "    }\n",
       "\n",
       "    .dataframe thead th {\n",
       "        text-align: right;\n",
       "    }\n",
       "</style>\n",
       "<table border=\"1\" class=\"dataframe\">\n",
       "  <thead>\n",
       "    <tr style=\"text-align: right;\">\n",
       "      <th></th>\n",
       "      <th>A</th>\n",
       "      <th>B</th>\n",
       "      <th>C</th>\n",
       "    </tr>\n",
       "  </thead>\n",
       "  <tbody>\n",
       "    <tr>\n",
       "      <th>2024-05-09</th>\n",
       "      <td>1.194649</td>\n",
       "      <td>-1.022221</td>\n",
       "      <td>0.287236</td>\n",
       "    </tr>\n",
       "    <tr>\n",
       "      <th>2024-05-10</th>\n",
       "      <td>-1.421366</td>\n",
       "      <td>-0.767551</td>\n",
       "      <td>2.272302</td>\n",
       "    </tr>\n",
       "    <tr>\n",
       "      <th>2024-05-11</th>\n",
       "      <td>0.538915</td>\n",
       "      <td>0.706642</td>\n",
       "      <td>0.908632</td>\n",
       "    </tr>\n",
       "    <tr>\n",
       "      <th>2024-05-12</th>\n",
       "      <td>-1.006558</td>\n",
       "      <td>-0.154825</td>\n",
       "      <td>-0.755527</td>\n",
       "    </tr>\n",
       "    <tr>\n",
       "      <th>2024-05-13</th>\n",
       "      <td>0.826105</td>\n",
       "      <td>-0.388073</td>\n",
       "      <td>0.361420</td>\n",
       "    </tr>\n",
       "    <tr>\n",
       "      <th>2024-05-14</th>\n",
       "      <td>0.080057</td>\n",
       "      <td>1.409322</td>\n",
       "      <td>0.667180</td>\n",
       "    </tr>\n",
       "    <tr>\n",
       "      <th>2024-05-15</th>\n",
       "      <td>-2.494931</td>\n",
       "      <td>-0.752174</td>\n",
       "      <td>-0.087260</td>\n",
       "    </tr>\n",
       "    <tr>\n",
       "      <th>2024-05-16</th>\n",
       "      <td>-2.890577</td>\n",
       "      <td>0.347505</td>\n",
       "      <td>-0.814468</td>\n",
       "    </tr>\n",
       "  </tbody>\n",
       "</table>\n",
       "</div>"
      ],
      "text/plain": [
       "                   A         B         C\n",
       "2024-05-09  1.194649 -1.022221  0.287236\n",
       "2024-05-10 -1.421366 -0.767551  2.272302\n",
       "2024-05-11  0.538915  0.706642  0.908632\n",
       "2024-05-12 -1.006558 -0.154825 -0.755527\n",
       "2024-05-13  0.826105 -0.388073  0.361420\n",
       "2024-05-14  0.080057  1.409322  0.667180\n",
       "2024-05-15 -2.494931 -0.752174 -0.087260\n",
       "2024-05-16 -2.890577  0.347505 -0.814468"
      ]
     },
     "execution_count": 20,
     "metadata": {},
     "output_type": "execute_result"
    }
   ],
   "source": [
    "df"
   ]
  },
  {
   "cell_type": "code",
   "execution_count": null,
   "id": "d0a8c175-d53f-47e8-b6f0-4bf1d84422ca",
   "metadata": {},
   "outputs": [],
   "source": []
  }
 ],
 "metadata": {
  "kernelspec": {
   "display_name": "Python 3 (ipykernel)",
   "language": "python",
   "name": "python3"
  },
  "language_info": {
   "codemirror_mode": {
    "name": "ipython",
    "version": 3
   },
   "file_extension": ".py",
   "mimetype": "text/x-python",
   "name": "python",
   "nbconvert_exporter": "python",
   "pygments_lexer": "ipython3",
   "version": "3.12.4"
  }
 },
 "nbformat": 4,
 "nbformat_minor": 5
}
