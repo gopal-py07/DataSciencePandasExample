{
 "cells": [
  {
   "cell_type": "markdown",
   "id": "7336dcc9-423e-4b67-bcdd-c6fb2a003321",
   "metadata": {},
   "source": [
    "# Essential basic functionality"
   ]
  },
  {
   "cell_type": "code",
   "execution_count": 10,
   "id": "1d8aed45-2f40-4385-b0a6-83210632fd9a",
   "metadata": {},
   "outputs": [],
   "source": [
    "import pandas as pd\n",
    "import numpy as np"
   ]
  },
  {
   "cell_type": "code",
   "execution_count": 4,
   "id": "184e09f1-368d-472e-be62-05b73c0397be",
   "metadata": {},
   "outputs": [
    {
     "ename": "ValueError",
     "evalue": "Of the four parameters: start, end, periods, and freq, exactly three must be specified",
     "output_type": "error",
     "traceback": [
      "\u001b[1;31m---------------------------------------------------------------------------\u001b[0m",
      "\u001b[1;31mValueError\u001b[0m                                Traceback (most recent call last)",
      "Cell \u001b[1;32mIn[4], line 1\u001b[0m\n\u001b[1;32m----> 1\u001b[0m Index \u001b[38;5;241m=\u001b[39m pd\u001b[38;5;241m.\u001b[39mdate_range(\u001b[38;5;124m\"\u001b[39m\u001b[38;5;124m05/09/2024\u001b[39m\u001b[38;5;124m\"\u001b[39m)\n",
      "File \u001b[1;32m~\\AppData\\Local\\anaconda3\\Lib\\site-packages\\pandas\\core\\indexes\\datetimes.py:1008\u001b[0m, in \u001b[0;36mdate_range\u001b[1;34m(start, end, periods, freq, tz, normalize, name, inclusive, unit, **kwargs)\u001b[0m\n\u001b[0;32m   1005\u001b[0m \u001b[38;5;28;01mif\u001b[39;00m freq \u001b[38;5;129;01mis\u001b[39;00m \u001b[38;5;28;01mNone\u001b[39;00m \u001b[38;5;129;01mand\u001b[39;00m com\u001b[38;5;241m.\u001b[39many_none(periods, start, end):\n\u001b[0;32m   1006\u001b[0m     freq \u001b[38;5;241m=\u001b[39m \u001b[38;5;124m\"\u001b[39m\u001b[38;5;124mD\u001b[39m\u001b[38;5;124m\"\u001b[39m\n\u001b[1;32m-> 1008\u001b[0m dtarr \u001b[38;5;241m=\u001b[39m DatetimeArray\u001b[38;5;241m.\u001b[39m_generate_range(\n\u001b[0;32m   1009\u001b[0m     start\u001b[38;5;241m=\u001b[39mstart,\n\u001b[0;32m   1010\u001b[0m     end\u001b[38;5;241m=\u001b[39mend,\n\u001b[0;32m   1011\u001b[0m     periods\u001b[38;5;241m=\u001b[39mperiods,\n\u001b[0;32m   1012\u001b[0m     freq\u001b[38;5;241m=\u001b[39mfreq,\n\u001b[0;32m   1013\u001b[0m     tz\u001b[38;5;241m=\u001b[39mtz,\n\u001b[0;32m   1014\u001b[0m     normalize\u001b[38;5;241m=\u001b[39mnormalize,\n\u001b[0;32m   1015\u001b[0m     inclusive\u001b[38;5;241m=\u001b[39minclusive,\n\u001b[0;32m   1016\u001b[0m     unit\u001b[38;5;241m=\u001b[39munit,\n\u001b[0;32m   1017\u001b[0m     \u001b[38;5;241m*\u001b[39m\u001b[38;5;241m*\u001b[39mkwargs,\n\u001b[0;32m   1018\u001b[0m )\n\u001b[0;32m   1019\u001b[0m \u001b[38;5;28;01mreturn\u001b[39;00m DatetimeIndex\u001b[38;5;241m.\u001b[39m_simple_new(dtarr, name\u001b[38;5;241m=\u001b[39mname)\n",
      "File \u001b[1;32m~\\AppData\\Local\\anaconda3\\Lib\\site-packages\\pandas\\core\\arrays\\datetimes.py:417\u001b[0m, in \u001b[0;36mDatetimeArray._generate_range\u001b[1;34m(cls, start, end, periods, freq, tz, normalize, ambiguous, nonexistent, inclusive, unit)\u001b[0m\n\u001b[0;32m    414\u001b[0m     \u001b[38;5;28;01mraise\u001b[39;00m \u001b[38;5;167;01mValueError\u001b[39;00m(\u001b[38;5;124m\"\u001b[39m\u001b[38;5;124mMust provide freq argument if no data is supplied\u001b[39m\u001b[38;5;124m\"\u001b[39m)\n\u001b[0;32m    416\u001b[0m \u001b[38;5;28;01mif\u001b[39;00m com\u001b[38;5;241m.\u001b[39mcount_not_none(start, end, periods, freq) \u001b[38;5;241m!=\u001b[39m \u001b[38;5;241m3\u001b[39m:\n\u001b[1;32m--> 417\u001b[0m     \u001b[38;5;28;01mraise\u001b[39;00m \u001b[38;5;167;01mValueError\u001b[39;00m(\n\u001b[0;32m    418\u001b[0m         \u001b[38;5;124m\"\u001b[39m\u001b[38;5;124mOf the four parameters: start, end, periods, \u001b[39m\u001b[38;5;124m\"\u001b[39m\n\u001b[0;32m    419\u001b[0m         \u001b[38;5;124m\"\u001b[39m\u001b[38;5;124mand freq, exactly three must be specified\u001b[39m\u001b[38;5;124m\"\u001b[39m\n\u001b[0;32m    420\u001b[0m     )\n\u001b[0;32m    421\u001b[0m freq \u001b[38;5;241m=\u001b[39m to_offset(freq)\n\u001b[0;32m    423\u001b[0m \u001b[38;5;28;01mif\u001b[39;00m start \u001b[38;5;129;01mis\u001b[39;00m \u001b[38;5;129;01mnot\u001b[39;00m \u001b[38;5;28;01mNone\u001b[39;00m:\n",
      "\u001b[1;31mValueError\u001b[0m: Of the four parameters: start, end, periods, and freq, exactly three must be specified"
     ]
    }
   ],
   "source": [
    "Index = pd.date_range(\"05/09/2024\")"
   ]
  },
  {
   "cell_type": "code",
   "execution_count": 7,
   "id": "b6deb517-9f4b-45c5-98c9-966b98904304",
   "metadata": {},
   "outputs": [],
   "source": [
    "Index = pd.date_range(\"05/09/2024\" , periods=8)"
   ]
  },
  {
   "cell_type": "code",
   "execution_count": 8,
   "id": "4802a3cd-0774-4a93-862e-27eb5d6aa53f",
   "metadata": {},
   "outputs": [
    {
     "data": {
      "text/plain": [
       "DatetimeIndex(['2024-05-09', '2024-05-10', '2024-05-11', '2024-05-12',\n",
       "               '2024-05-13', '2024-05-14', '2024-05-15', '2024-05-16'],\n",
       "              dtype='datetime64[ns]', freq='D')"
      ]
     },
     "execution_count": 8,
     "metadata": {},
     "output_type": "execute_result"
    }
   ],
   "source": [
    "Index"
   ]
  },
  {
   "cell_type": "code",
   "execution_count": 12,
   "id": "10d5f222-fc4c-4eb4-98c9-e29bf85b5f6f",
   "metadata": {},
   "outputs": [
    {
     "ename": "TypeError",
     "evalue": "'module' object is not callable",
     "output_type": "error",
     "traceback": [
      "\u001b[1;31m---------------------------------------------------------------------------\u001b[0m",
      "\u001b[1;31mTypeError\u001b[0m                                 Traceback (most recent call last)",
      "Cell \u001b[1;32mIn[12], line 1\u001b[0m\n\u001b[1;32m----> 1\u001b[0m s \u001b[38;5;241m=\u001b[39m pd\u001b[38;5;241m.\u001b[39mSeries(np\u001b[38;5;241m.\u001b[39mrandom(\u001b[38;5;241m5\u001b[39m), index\u001b[38;5;241m=\u001b[39m[\u001b[38;5;124m\"\u001b[39m\u001b[38;5;124ma\u001b[39m\u001b[38;5;124m\"\u001b[39m,\u001b[38;5;124m\"\u001b[39m\u001b[38;5;124mb\u001b[39m\u001b[38;5;124m\"\u001b[39m,\u001b[38;5;124m\"\u001b[39m\u001b[38;5;124mc\u001b[39m\u001b[38;5;124m\"\u001b[39m,\u001b[38;5;124m\"\u001b[39m\u001b[38;5;124md\u001b[39m\u001b[38;5;124m\"\u001b[39m,\u001b[38;5;124m\"\u001b[39m\u001b[38;5;124me\u001b[39m\u001b[38;5;124m\"\u001b[39m])\n",
      "\u001b[1;31mTypeError\u001b[0m: 'module' object is not callable"
     ]
    }
   ],
   "source": [
    "s = pd.Series(np.random(5), index=[\"a\",\"b\",\"c\",\"d\",\"e\"])"
   ]
  },
  {
   "cell_type": "code",
   "execution_count": 15,
   "id": "753713b2-3ec1-4a32-9690-7a6f7f055021",
   "metadata": {},
   "outputs": [],
   "source": [
    "s = pd.Series(np.random.randn(5), index=[\"a\",\"b\",\"c\",\"d\",\"e\"])"
   ]
  },
  {
   "cell_type": "code",
   "execution_count": 16,
   "id": "f7bf4b2f-97e4-49da-bcbb-4dc86d0895f3",
   "metadata": {},
   "outputs": [
    {
     "data": {
      "text/plain": [
       "a    0.034311\n",
       "b   -0.127555\n",
       "c    1.379252\n",
       "d   -1.235054\n",
       "e   -0.184127\n",
       "dtype: float64"
      ]
     },
     "execution_count": 16,
     "metadata": {},
     "output_type": "execute_result"
    }
   ],
   "source": [
    "s"
   ]
  },
  {
   "cell_type": "code",
   "execution_count": 19,
   "id": "244af1fa-56c3-44b3-b9a6-3f94f0c721e1",
   "metadata": {},
   "outputs": [],
   "source": [
    "df = pd.DataFrame(np.random.randn(8,3), index=Index, columns=[\"A\",\"B\",\"C\"])"
   ]
  },
  {
   "cell_type": "code",
   "execution_count": 20,
   "id": "80caaf45-af14-4dca-a922-f76f55af1e27",
   "metadata": {},
   "outputs": [
    {
     "data": {
      "text/html": [
       "<div>\n",
       "<style scoped>\n",
       "    .dataframe tbody tr th:only-of-type {\n",
       "        vertical-align: middle;\n",
       "    }\n",
       "\n",
       "    .dataframe tbody tr th {\n",
       "        vertical-align: top;\n",
       "    }\n",
       "\n",
       "    .dataframe thead th {\n",
       "        text-align: right;\n",
       "    }\n",
       "</style>\n",
       "<table border=\"1\" class=\"dataframe\">\n",
       "  <thead>\n",
       "    <tr style=\"text-align: right;\">\n",
       "      <th></th>\n",
       "      <th>A</th>\n",
       "      <th>B</th>\n",
       "      <th>C</th>\n",
       "    </tr>\n",
       "  </thead>\n",
       "  <tbody>\n",
       "    <tr>\n",
       "      <th>2024-05-09</th>\n",
       "      <td>1.194649</td>\n",
       "      <td>-1.022221</td>\n",
       "      <td>0.287236</td>\n",
       "    </tr>\n",
       "    <tr>\n",
       "      <th>2024-05-10</th>\n",
       "      <td>-1.421366</td>\n",
       "      <td>-0.767551</td>\n",
       "      <td>2.272302</td>\n",
       "    </tr>\n",
       "    <tr>\n",
       "      <th>2024-05-11</th>\n",
       "      <td>0.538915</td>\n",
       "      <td>0.706642</td>\n",
       "      <td>0.908632</td>\n",
       "    </tr>\n",
       "    <tr>\n",
       "      <th>2024-05-12</th>\n",
       "      <td>-1.006558</td>\n",
       "      <td>-0.154825</td>\n",
       "      <td>-0.755527</td>\n",
       "    </tr>\n",
       "    <tr>\n",
       "      <th>2024-05-13</th>\n",
       "      <td>0.826105</td>\n",
       "      <td>-0.388073</td>\n",
       "      <td>0.361420</td>\n",
       "    </tr>\n",
       "    <tr>\n",
       "      <th>2024-05-14</th>\n",
       "      <td>0.080057</td>\n",
       "      <td>1.409322</td>\n",
       "      <td>0.667180</td>\n",
       "    </tr>\n",
       "    <tr>\n",
       "      <th>2024-05-15</th>\n",
       "      <td>-2.494931</td>\n",
       "      <td>-0.752174</td>\n",
       "      <td>-0.087260</td>\n",
       "    </tr>\n",
       "    <tr>\n",
       "      <th>2024-05-16</th>\n",
       "      <td>-2.890577</td>\n",
       "      <td>0.347505</td>\n",
       "      <td>-0.814468</td>\n",
       "    </tr>\n",
       "  </tbody>\n",
       "</table>\n",
       "</div>"
      ],
      "text/plain": [
       "                   A         B         C\n",
       "2024-05-09  1.194649 -1.022221  0.287236\n",
       "2024-05-10 -1.421366 -0.767551  2.272302\n",
       "2024-05-11  0.538915  0.706642  0.908632\n",
       "2024-05-12 -1.006558 -0.154825 -0.755527\n",
       "2024-05-13  0.826105 -0.388073  0.361420\n",
       "2024-05-14  0.080057  1.409322  0.667180\n",
       "2024-05-15 -2.494931 -0.752174 -0.087260\n",
       "2024-05-16 -2.890577  0.347505 -0.814468"
      ]
     },
     "execution_count": 20,
     "metadata": {},
     "output_type": "execute_result"
    }
   ],
   "source": [
    "df"
   ]
  },
  {
   "cell_type": "markdown",
   "id": "8f53433f-7d64-4bac-bc42-5a93c83a05a2",
   "metadata": {},
   "source": [
    "# Head and tail"
   ]
  },
  {
   "cell_type": "markdown",
   "id": "13683f26-f630-4ab5-bb67-1c1179e965e7",
   "metadata": {},
   "source": [
    "To view a small sample of a Series or DataFrame object, use the head() and tail() methods. The default number of elements to display is five, but you may pass a custom number."
   ]
  },
  {
   "cell_type": "code",
   "execution_count": 22,
   "id": "d269f9b5-cb1e-436b-a5b0-d0ae4584df7e",
   "metadata": {},
   "outputs": [],
   "source": [
    "series = pd.Series(np.random.randn(1000))"
   ]
  },
  {
   "cell_type": "code",
   "execution_count": 23,
   "id": "c482e011-6527-4767-887f-2e0e7773cca6",
   "metadata": {},
   "outputs": [
    {
     "data": {
      "text/plain": [
       "0     -0.590928\n",
       "1     -2.801617\n",
       "2     -0.037419\n",
       "3      0.383765\n",
       "4      0.185884\n",
       "         ...   \n",
       "995    0.781974\n",
       "996    0.020362\n",
       "997   -0.035957\n",
       "998    1.116456\n",
       "999    1.266377\n",
       "Length: 1000, dtype: float64"
      ]
     },
     "execution_count": 23,
     "metadata": {},
     "output_type": "execute_result"
    }
   ],
   "source": [
    "series"
   ]
  },
  {
   "cell_type": "code",
   "execution_count": 24,
   "id": "608be898-0820-4f46-a23b-5bf8dc5ddf76",
   "metadata": {},
   "outputs": [
    {
     "data": {
      "text/plain": [
       "0   -0.590928\n",
       "1   -2.801617\n",
       "2   -0.037419\n",
       "3    0.383765\n",
       "4    0.185884\n",
       "dtype: float64"
      ]
     },
     "execution_count": 24,
     "metadata": {},
     "output_type": "execute_result"
    }
   ],
   "source": [
    "series.head()"
   ]
  },
  {
   "cell_type": "code",
   "execution_count": 25,
   "id": "eba6da42-6a9e-472f-ac15-0cf1dd424043",
   "metadata": {},
   "outputs": [
    {
     "data": {
      "text/plain": [
       "995    0.781974\n",
       "996    0.020362\n",
       "997   -0.035957\n",
       "998    1.116456\n",
       "999    1.266377\n",
       "dtype: float64"
      ]
     },
     "execution_count": 25,
     "metadata": {},
     "output_type": "execute_result"
    }
   ],
   "source": [
    "series.tail()"
   ]
  },
  {
   "cell_type": "markdown",
   "id": "4e41586c-f4b2-4b47-9dd4-430a9dd840a3",
   "metadata": {},
   "source": [
    "# Attributes and underlying data"
   ]
  },
  {
   "cell_type": "markdown",
   "id": "74115e1a-b343-475c-aaa7-7db5f5bcdac6",
   "metadata": {},
   "source": [
    "pandas object have no of attibute eanbling to acesss you metadata"
   ]
  },
  {
   "cell_type": "markdown",
   "id": "79ac71df-06f6-4145-9dc0-0af642b6a941",
   "metadata": {},
   "source": [
    "shape: gives the axis dimensions of the object, consistent with ndarray"
   ]
  },
  {
   "cell_type": "markdown",
   "id": "3ab09236-728e-4d4c-ac70-a3276e7557d1",
   "metadata": {},
   "source": [
    "Axis labels\n",
    "    Series: index (only axis)\n",
    "\n",
    "    DataFrame: index (rows) and columns"
   ]
  },
  {
   "cell_type": "markdown",
   "id": "33f6988d-b3c1-49a3-bcff-e4e713051caa",
   "metadata": {},
   "source": [
    "Note, these attributes can be safely assigned to!\n",
    "\n"
   ]
  },
  {
   "cell_type": "code",
   "execution_count": 28,
   "id": "a4d6e0de-0d87-4e89-945f-aca4e3e4ea49",
   "metadata": {},
   "outputs": [
    {
     "data": {
      "text/html": [
       "<div>\n",
       "<style scoped>\n",
       "    .dataframe tbody tr th:only-of-type {\n",
       "        vertical-align: middle;\n",
       "    }\n",
       "\n",
       "    .dataframe tbody tr th {\n",
       "        vertical-align: top;\n",
       "    }\n",
       "\n",
       "    .dataframe thead th {\n",
       "        text-align: right;\n",
       "    }\n",
       "</style>\n",
       "<table border=\"1\" class=\"dataframe\">\n",
       "  <thead>\n",
       "    <tr style=\"text-align: right;\">\n",
       "      <th></th>\n",
       "      <th>A</th>\n",
       "      <th>B</th>\n",
       "      <th>C</th>\n",
       "    </tr>\n",
       "  </thead>\n",
       "  <tbody>\n",
       "    <tr>\n",
       "      <th>2024-05-09</th>\n",
       "      <td>1.194649</td>\n",
       "      <td>-1.022221</td>\n",
       "      <td>0.287236</td>\n",
       "    </tr>\n",
       "    <tr>\n",
       "      <th>2024-05-10</th>\n",
       "      <td>-1.421366</td>\n",
       "      <td>-0.767551</td>\n",
       "      <td>2.272302</td>\n",
       "    </tr>\n",
       "  </tbody>\n",
       "</table>\n",
       "</div>"
      ],
      "text/plain": [
       "                   A         B         C\n",
       "2024-05-09  1.194649 -1.022221  0.287236\n",
       "2024-05-10 -1.421366 -0.767551  2.272302"
      ]
     },
     "execution_count": 28,
     "metadata": {},
     "output_type": "execute_result"
    }
   ],
   "source": [
    "df[:2]"
   ]
  },
  {
   "cell_type": "code",
   "execution_count": 29,
   "id": "e6293d11-6d1f-4b50-911a-f898b06cecfe",
   "metadata": {},
   "outputs": [],
   "source": [
    "df.columns = [x.lower() for x in df.columns]"
   ]
  },
  {
   "cell_type": "code",
   "execution_count": 30,
   "id": "893dfe32-f1f1-4ff9-a95b-fa3d8d78983e",
   "metadata": {},
   "outputs": [
    {
     "data": {
      "text/html": [
       "<div>\n",
       "<style scoped>\n",
       "    .dataframe tbody tr th:only-of-type {\n",
       "        vertical-align: middle;\n",
       "    }\n",
       "\n",
       "    .dataframe tbody tr th {\n",
       "        vertical-align: top;\n",
       "    }\n",
       "\n",
       "    .dataframe thead th {\n",
       "        text-align: right;\n",
       "    }\n",
       "</style>\n",
       "<table border=\"1\" class=\"dataframe\">\n",
       "  <thead>\n",
       "    <tr style=\"text-align: right;\">\n",
       "      <th></th>\n",
       "      <th>a</th>\n",
       "      <th>b</th>\n",
       "      <th>c</th>\n",
       "    </tr>\n",
       "  </thead>\n",
       "  <tbody>\n",
       "    <tr>\n",
       "      <th>2024-05-09</th>\n",
       "      <td>1.194649</td>\n",
       "      <td>-1.022221</td>\n",
       "      <td>0.287236</td>\n",
       "    </tr>\n",
       "    <tr>\n",
       "      <th>2024-05-10</th>\n",
       "      <td>-1.421366</td>\n",
       "      <td>-0.767551</td>\n",
       "      <td>2.272302</td>\n",
       "    </tr>\n",
       "    <tr>\n",
       "      <th>2024-05-11</th>\n",
       "      <td>0.538915</td>\n",
       "      <td>0.706642</td>\n",
       "      <td>0.908632</td>\n",
       "    </tr>\n",
       "    <tr>\n",
       "      <th>2024-05-12</th>\n",
       "      <td>-1.006558</td>\n",
       "      <td>-0.154825</td>\n",
       "      <td>-0.755527</td>\n",
       "    </tr>\n",
       "    <tr>\n",
       "      <th>2024-05-13</th>\n",
       "      <td>0.826105</td>\n",
       "      <td>-0.388073</td>\n",
       "      <td>0.361420</td>\n",
       "    </tr>\n",
       "    <tr>\n",
       "      <th>2024-05-14</th>\n",
       "      <td>0.080057</td>\n",
       "      <td>1.409322</td>\n",
       "      <td>0.667180</td>\n",
       "    </tr>\n",
       "    <tr>\n",
       "      <th>2024-05-15</th>\n",
       "      <td>-2.494931</td>\n",
       "      <td>-0.752174</td>\n",
       "      <td>-0.087260</td>\n",
       "    </tr>\n",
       "    <tr>\n",
       "      <th>2024-05-16</th>\n",
       "      <td>-2.890577</td>\n",
       "      <td>0.347505</td>\n",
       "      <td>-0.814468</td>\n",
       "    </tr>\n",
       "  </tbody>\n",
       "</table>\n",
       "</div>"
      ],
      "text/plain": [
       "                   a         b         c\n",
       "2024-05-09  1.194649 -1.022221  0.287236\n",
       "2024-05-10 -1.421366 -0.767551  2.272302\n",
       "2024-05-11  0.538915  0.706642  0.908632\n",
       "2024-05-12 -1.006558 -0.154825 -0.755527\n",
       "2024-05-13  0.826105 -0.388073  0.361420\n",
       "2024-05-14  0.080057  1.409322  0.667180\n",
       "2024-05-15 -2.494931 -0.752174 -0.087260\n",
       "2024-05-16 -2.890577  0.347505 -0.814468"
      ]
     },
     "execution_count": 30,
     "metadata": {},
     "output_type": "execute_result"
    }
   ],
   "source": [
    "df"
   ]
  },
  {
   "cell_type": "markdown",
   "id": "f3a15109-1bc8-459e-9453-ef80958f5ec5",
   "metadata": {},
   "source": [
    "pandas objects (Index, Series, DataFrame) can be thought of as containers for arrays, which hold the actual da\n",
    "ta and do the actual computation. For many types, the underlying array is a numpy.ndarray"
   ]
  },
  {
   "cell_type": "markdown",
   "id": "c2ab02ce-8faf-4354-b8fe-61882d6dbf5b",
   "metadata": {},
   "source": [
    "To get the actual data inside a Index or Series, use the .array property"
   ]
  },
  {
   "cell_type": "code",
   "execution_count": 31,
   "id": "40934971-3278-4a07-9835-aec9f94b5396",
   "metadata": {},
   "outputs": [
    {
     "data": {
      "text/plain": [
       "<NumpyExtensionArray>\n",
       "[0.034311237914647984, -0.12755500913328432,   1.3792517632603642,\n",
       "  -1.2350542291825803, -0.18412739736155095]\n",
       "Length: 5, dtype: float64"
      ]
     },
     "execution_count": 31,
     "metadata": {},
     "output_type": "execute_result"
    }
   ],
   "source": [
    "s.array"
   ]
  },
  {
   "cell_type": "code",
   "execution_count": 32,
   "id": "e15ab39a-be73-46a8-8c05-3d09dd0ea1e8",
   "metadata": {},
   "outputs": [
    {
     "data": {
      "text/plain": [
       "<NumpyExtensionArray>\n",
       "['a', 'b', 'c', 'd', 'e']\n",
       "Length: 5, dtype: object"
      ]
     },
     "execution_count": 32,
     "metadata": {},
     "output_type": "execute_result"
    }
   ],
   "source": [
    "s.index.array"
   ]
  },
  {
   "cell_type": "markdown",
   "id": "99d1e8e4-7d2c-4781-8532-c4f4a9b49d0e",
   "metadata": {},
   "source": [
    "array will always be an ExtensionArray. The exact details of what an ExtensionArray is and why pandas uses them are a bit beyond the scope of this introduction. See dtypes for more."
   ]
  },
  {
   "cell_type": "code",
   "execution_count": 33,
   "id": "9ad583f6-c665-4959-b568-a43e2796be7c",
   "metadata": {},
   "outputs": [
    {
     "data": {
      "text/plain": [
       "array([ 0.03431124, -0.12755501,  1.37925176, -1.23505423, -0.1841274 ])"
      ]
     },
     "execution_count": 33,
     "metadata": {},
     "output_type": "execute_result"
    }
   ],
   "source": [
    "s.to_numpy()"
   ]
  },
  {
   "cell_type": "code",
   "execution_count": 34,
   "id": "ec96a643-25f2-4349-bfdf-635a0baab0dc",
   "metadata": {},
   "outputs": [
    {
     "data": {
      "text/plain": [
       "<function numpy.array>"
      ]
     },
     "execution_count": 34,
     "metadata": {},
     "output_type": "execute_result"
    }
   ],
   "source": [
    "np.array"
   ]
  },
  {
   "cell_type": "code",
   "execution_count": 39,
   "id": "0fb90d2c-f3a7-4e7d-a12d-2993af734b86",
   "metadata": {},
   "outputs": [
    {
     "data": {
      "text/plain": [
       "array([ 0.03431124, -0.12755501,  1.37925176, -1.23505423, -0.1841274 ])"
      ]
     },
     "execution_count": 39,
     "metadata": {},
     "output_type": "execute_result"
    }
   ],
   "source": [
    "np.asarray(s)"
   ]
  },
  {
   "cell_type": "markdown",
   "id": "83a9ea35-f645-4b31-8630-b297748611b6",
   "metadata": {},
   "source": [
    "When the Series or Index is backed by an ExtensionArray, to_numpy() may involve copying data and coercing values"
   ]
  },
  {
   "cell_type": "markdown",
   "id": "4fa7854a-e729-4827-bf16-43c325b5193e",
   "metadata": {},
   "source": [
    "to_numpy() gives some control over the dtype of the resulting numpy.ndarray. For example, consider datetimes with timezones. "
   ]
  },
  {
   "cell_type": "markdown",
   "id": "d131b34f-0586-47ff-ae47-58c230564c4c",
   "metadata": {},
   "source": [
    "NumPy doesn’t have a dtype to represent timezone-aware datetimes, so there are two possibly useful representations:"
   ]
  },
  {
   "cell_type": "markdown",
   "id": "2c111cf9-f389-43f7-922b-75936fb47667",
   "metadata": {},
   "source": [
    "An object-dtype numpy.ndarray with Timestamp objects, each with the correct tz\n",
    "\n",
    "A datetime64[ns] -dtype numpy.ndarray, where the values have been converted to UTC and the timezone discarded"
   ]
  },
  {
   "cell_type": "markdown",
   "id": "a4efbfdb-b639-426f-a27d-f428d731c388",
   "metadata": {},
   "source": [
    "Timezones may be preserved with dtype=object\n",
    "\n"
   ]
  },
  {
   "cell_type": "code",
   "execution_count": 41,
   "id": "df83838e-f9da-4e3b-89c6-83b76f4680c7",
   "metadata": {},
   "outputs": [],
   "source": [
    "ser = pd.Series(pd.date_range(\"2024\", periods=2, tz=\"CET\" ))"
   ]
  },
  {
   "cell_type": "code",
   "execution_count": 42,
   "id": "580e6994-4d30-45dd-b455-828458971839",
   "metadata": {},
   "outputs": [
    {
     "data": {
      "text/plain": [
       "0   2024-01-01 00:00:00+01:00\n",
       "1   2024-01-02 00:00:00+01:00\n",
       "dtype: datetime64[ns, CET]"
      ]
     },
     "execution_count": 42,
     "metadata": {},
     "output_type": "execute_result"
    }
   ],
   "source": [
    "ser"
   ]
  },
  {
   "cell_type": "code",
   "execution_count": 43,
   "id": "029328d5-8774-44b2-8dd1-3df409bcbb1c",
   "metadata": {},
   "outputs": [
    {
     "data": {
      "text/plain": [
       "array([Timestamp('2024-01-01 00:00:00+0100', tz='CET'),\n",
       "       Timestamp('2024-01-02 00:00:00+0100', tz='CET')], dtype=object)"
      ]
     },
     "execution_count": 43,
     "metadata": {},
     "output_type": "execute_result"
    }
   ],
   "source": [
    "ser.to_numpy(dtype=object)"
   ]
  },
  {
   "cell_type": "markdown",
   "id": "b49a4dcf-ccbc-41b6-ace3-e4e2ceab0ee8",
   "metadata": {},
   "source": [
    "Or thrown away with dtype='datetime64[ns]'"
   ]
  },
  {
   "cell_type": "code",
   "execution_count": 47,
   "id": "377d6918-0804-4739-92a3-6d06a1bb4671",
   "metadata": {},
   "outputs": [
    {
     "data": {
      "text/plain": [
       "array(['2023-12-31T23:00:00.000000000', '2024-01-01T23:00:00.000000000'],\n",
       "      dtype='datetime64[ns]')"
      ]
     },
     "execution_count": 47,
     "metadata": {},
     "output_type": "execute_result"
    }
   ],
   "source": [
    "ser.to_numpy(dtype = \"datetime64[ns]\")"
   ]
  },
  {
   "cell_type": "markdown",
   "id": "b415d38e-00ed-4e19-9ead-58c2f837b5a0",
   "metadata": {},
   "source": [
    "Getting the “raw data” inside a DataFrame is possibly a bit more complex. When your DataFrame only has a single data type for all the columns, DataFrame.to_numpy() will return the underlying data:"
   ]
  },
  {
   "cell_type": "code",
   "execution_count": 48,
   "id": "f986e682-17f1-4033-b5ba-b9a93e48a1d6",
   "metadata": {},
   "outputs": [
    {
     "data": {
      "text/plain": [
       "array([[ 1.19464939, -1.0222209 ,  0.28723636],\n",
       "       [-1.42136617, -0.76755113,  2.2723024 ],\n",
       "       [ 0.53891496,  0.70664205,  0.90863195],\n",
       "       [-1.00655806, -0.15482476, -0.75552692],\n",
       "       [ 0.82610519, -0.38807318,  0.36142005],\n",
       "       [ 0.08005725,  1.40932207,  0.66718026],\n",
       "       [-2.49493076, -0.75217442, -0.08726001],\n",
       "       [-2.89057721,  0.34750474, -0.81446806]])"
      ]
     },
     "execution_count": 48,
     "metadata": {},
     "output_type": "execute_result"
    }
   ],
   "source": [
    "df.to_numpy()"
   ]
  },
  {
   "cell_type": "markdown",
   "id": "32434212-f9aa-48b4-aca0-b1e020a4a360",
   "metadata": {},
   "source": [
    "If a DataFrame contains homogeneously-typed data, the ndarray can actually be modified in-place, and the changes will be reflected in the data structure. For heterogeneous data (e.g. some of the DataFrame’s columns are not all the same dtype), this will not be the case. The values attribute itself, unlike the axis labels, cannot be assigned to."
   ]
  },
  {
   "cell_type": "markdown",
   "id": "eadae2ad-d911-4160-aa77-b9a76cc82f42",
   "metadata": {},
   "source": [
    "# IN the past, Pandas recommended to use Series.values and DataFrame.values to extract data from series or dataframe,\n",
    "# its recommanded to not use .values insted of use a .array() .to_numpy() "
   ]
  },
  {
   "cell_type": "markdown",
   "id": "84806d1b-bfe4-49dc-8d1d-c34d759631e4",
   "metadata": {},
   "source": [
    "# Drowsback of .values()\n",
    "    When Series contain an extention type and if used series.values() to extarct the then data or it returns Numpy array or extention array. \n",
    "    Series.array alwasy return extention array & did not copy the data\n",
    "    series.to_numpy() always return numpy array & did copy/corsing the value.\n",
    "\n",
    "\n",
    "\n",
    "    DataFrame contains a mixture of data type, DataFrame.values copy the data and corsing the value to commomn type and its reletivly it expensive operation.\n",
    "    DataFrame.to_numpy() makes it cleared that return  Numpyarray "
   ]
  },
  {
   "cell_type": "markdown",
   "id": "1441541d-bf73-4690-835c-0a27408e1b3b",
   "metadata": {},
   "source": [
    "# Accelerated operations\n"
   ]
  },
  {
   "cell_type": "markdown",
   "id": "9bde60c7-17a9-4175-b0fd-97b397c92493",
   "metadata": {},
   "source": [
    "Pandas has support certain types of binary numerical and boolean operations using the  <b>numexpr</b>  and <b>bottleneck</b> liabraries.\n",
    "\n",
    "<b>numexpr</b> uses smart chunking, caching, and multiple cores.\n",
    "\n",
    "<b>bottleneck</b> is a set of specialized cython routines that are especially fast when dealing with arrays that have nans.\n",
    "\n",
    "\n",
    "Here is a sample (using 100 column x 100,000 row DataFrames): df2\r\n",
    "\r\n",
    "22.04\r\n",
    "\r\n",
    "36.50\r\n",
    "\r\n",
    "0.6039"
   ]
  },
  {
   "cell_type": "markdown",
   "id": "15c5bca1-20e4-4de3-bf60-aa561a7953b4",
   "metadata": {},
   "source": [
    "b>Operation</b>  <b>0.11.0 (ms)</b> <b>Prior Version (ms)</b> <b>Ratio to Prior</b>\n",
    "\n",
    "df1 > df           2 13.32             125.35                   0.1063\n",
    "\n",
    "df1 * df2           21.71              36.63                    0.5928\n",
    "\n",
    "df1 + df2          22.04               36.50                     0.6039"
   ]
  },
  {
   "cell_type": "markdown",
   "id": "189a6865-6d66-4e87-a079-1dd0cd0fba0a",
   "metadata": {},
   "source": [
    "These are both enabled to be used by default, you can control this by setting the options:"
   ]
  },
  {
   "cell_type": "code",
   "execution_count": 53,
   "id": "923abbcd-4ca4-4910-9020-dc360f26f3ce",
   "metadata": {},
   "outputs": [],
   "source": [
    "bottleneckf = pd.set_option(\"compute.use_bottleneck\", False)"
   ]
  },
  {
   "cell_type": "code",
   "execution_count": 56,
   "id": "0cfcea66-1e87-4bb4-a83a-bad9131aafc9",
   "metadata": {},
   "outputs": [
    {
     "name": "stdout",
     "output_type": "stream",
     "text": [
      "None\n"
     ]
    }
   ],
   "source": [
    "print(bottleneckf)"
   ]
  },
  {
   "cell_type": "code",
   "execution_count": 59,
   "id": "0ce650df-8c5f-425b-a54f-c67cbe3b2008",
   "metadata": {},
   "outputs": [],
   "source": [
    "bottleneckt = pd.set_option(\"compute.use_bottleneck\", True)"
   ]
  },
  {
   "cell_type": "code",
   "execution_count": 60,
   "id": "2fcf86a5-05aa-4d38-90e3-028715c6aeba",
   "metadata": {},
   "outputs": [
    {
     "name": "stdout",
     "output_type": "stream",
     "text": [
      "None\n"
     ]
    }
   ],
   "source": [
    "print(bottleneckt)"
   ]
  },
  {
   "cell_type": "code",
   "execution_count": 63,
   "id": "8e5ad444-f089-4924-beff-97ba4f898979",
   "metadata": {},
   "outputs": [],
   "source": [
    "numexprf = pd.set_option(\"compute.use_numexpr\",False)"
   ]
  },
  {
   "cell_type": "code",
   "execution_count": 64,
   "id": "86f1e141-abc5-432f-9c6d-181618078e6c",
   "metadata": {},
   "outputs": [
    {
     "name": "stdout",
     "output_type": "stream",
     "text": [
      "None\n"
     ]
    }
   ],
   "source": [
    "print(numexprf)"
   ]
  },
  {
   "cell_type": "code",
   "execution_count": 65,
   "id": "9f8dff34-d587-4f5d-ab62-780b692b8b18",
   "metadata": {},
   "outputs": [],
   "source": [
    "numexprt = pd.set_option(\"compute.use_numexpr\",True)"
   ]
  },
  {
   "cell_type": "code",
   "execution_count": 66,
   "id": "acede5c9-24d7-4f57-9309-304852b31809",
   "metadata": {},
   "outputs": [
    {
     "name": "stdout",
     "output_type": "stream",
     "text": [
      "None\n"
     ]
    }
   ],
   "source": [
    "print(numexprt)"
   ]
  },
  {
   "cell_type": "code",
   "execution_count": null,
   "id": "666a02cf-d66b-4e8c-80e7-553fa6905f8a",
   "metadata": {},
   "outputs": [],
   "source": []
  }
 ],
 "metadata": {
  "kernelspec": {
   "display_name": "Python 3 (ipykernel)",
   "language": "python",
   "name": "python3"
  },
  "language_info": {
   "codemirror_mode": {
    "name": "ipython",
    "version": 3
   },
   "file_extension": ".py",
   "mimetype": "text/x-python",
   "name": "python",
   "nbconvert_exporter": "python",
   "pygments_lexer": "ipython3",
   "version": "3.12.4"
  }
 },
 "nbformat": 4,
 "nbformat_minor": 5
}
