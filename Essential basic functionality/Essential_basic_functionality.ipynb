{
 "cells": [
  {
   "cell_type": "markdown",
   "id": "7336dcc9-423e-4b67-bcdd-c6fb2a003321",
   "metadata": {},
   "source": [
    "# Essential basic functionality"
   ]
  },
  {
   "cell_type": "code",
   "execution_count": 203,
   "id": "1d8aed45-2f40-4385-b0a6-83210632fd9a",
   "metadata": {
    "execution": {
     "iopub.execute_input": "2024-09-05T12:04:03.155364Z",
     "iopub.status.busy": "2024-09-05T12:04:03.155364Z",
     "iopub.status.idle": "2024-09-05T12:04:03.175764Z",
     "shell.execute_reply": "2024-09-05T12:04:03.172764Z",
     "shell.execute_reply.started": "2024-09-05T12:04:03.155364Z"
    }
   },
   "outputs": [],
   "source": [
    "import pandas as pd\n",
    "import numpy as np"
   ]
  },
  {
   "cell_type": "code",
   "execution_count": 205,
   "id": "184e09f1-368d-472e-be62-05b73c0397be",
   "metadata": {
    "editable": true,
    "execution": {
     "iopub.execute_input": "2024-09-05T12:04:05.562807Z",
     "iopub.status.busy": "2024-09-05T12:04:05.561886Z",
     "iopub.status.idle": "2024-09-05T12:04:05.895509Z",
     "shell.execute_reply": "2024-09-05T12:04:05.847822Z",
     "shell.execute_reply.started": "2024-09-05T12:04:05.562807Z"
    },
    "slideshow": {
     "slide_type": ""
    },
    "tags": []
   },
   "outputs": [
    {
     "ename": "ValueError",
     "evalue": "Of the four parameters: start, end, periods, and freq, exactly three must be specified",
     "output_type": "error",
     "traceback": [
      "\u001b[1;31m---------------------------------------------------------------------------\u001b[0m",
      "\u001b[1;31mValueError\u001b[0m                                Traceback (most recent call last)",
      "Cell \u001b[1;32mIn[205], line 1\u001b[0m\n\u001b[1;32m----> 1\u001b[0m Index \u001b[38;5;241m=\u001b[39m pd\u001b[38;5;241m.\u001b[39mdate_range(\u001b[38;5;124m\"\u001b[39m\u001b[38;5;124m05/09/2024\u001b[39m\u001b[38;5;124m\"\u001b[39m)\n",
      "File \u001b[1;32m~\\AppData\\Local\\anaconda3\\Lib\\site-packages\\pandas\\core\\indexes\\datetimes.py:1008\u001b[0m, in \u001b[0;36mdate_range\u001b[1;34m(start, end, periods, freq, tz, normalize, name, inclusive, unit, **kwargs)\u001b[0m\n\u001b[0;32m   1005\u001b[0m \u001b[38;5;28;01mif\u001b[39;00m freq \u001b[38;5;129;01mis\u001b[39;00m \u001b[38;5;28;01mNone\u001b[39;00m \u001b[38;5;129;01mand\u001b[39;00m com\u001b[38;5;241m.\u001b[39many_none(periods, start, end):\n\u001b[0;32m   1006\u001b[0m     freq \u001b[38;5;241m=\u001b[39m \u001b[38;5;124m\"\u001b[39m\u001b[38;5;124mD\u001b[39m\u001b[38;5;124m\"\u001b[39m\n\u001b[1;32m-> 1008\u001b[0m dtarr \u001b[38;5;241m=\u001b[39m DatetimeArray\u001b[38;5;241m.\u001b[39m_generate_range(\n\u001b[0;32m   1009\u001b[0m     start\u001b[38;5;241m=\u001b[39mstart,\n\u001b[0;32m   1010\u001b[0m     end\u001b[38;5;241m=\u001b[39mend,\n\u001b[0;32m   1011\u001b[0m     periods\u001b[38;5;241m=\u001b[39mperiods,\n\u001b[0;32m   1012\u001b[0m     freq\u001b[38;5;241m=\u001b[39mfreq,\n\u001b[0;32m   1013\u001b[0m     tz\u001b[38;5;241m=\u001b[39mtz,\n\u001b[0;32m   1014\u001b[0m     normalize\u001b[38;5;241m=\u001b[39mnormalize,\n\u001b[0;32m   1015\u001b[0m     inclusive\u001b[38;5;241m=\u001b[39minclusive,\n\u001b[0;32m   1016\u001b[0m     unit\u001b[38;5;241m=\u001b[39munit,\n\u001b[0;32m   1017\u001b[0m     \u001b[38;5;241m*\u001b[39m\u001b[38;5;241m*\u001b[39mkwargs,\n\u001b[0;32m   1018\u001b[0m )\n\u001b[0;32m   1019\u001b[0m \u001b[38;5;28;01mreturn\u001b[39;00m DatetimeIndex\u001b[38;5;241m.\u001b[39m_simple_new(dtarr, name\u001b[38;5;241m=\u001b[39mname)\n",
      "File \u001b[1;32m~\\AppData\\Local\\anaconda3\\Lib\\site-packages\\pandas\\core\\arrays\\datetimes.py:417\u001b[0m, in \u001b[0;36mDatetimeArray._generate_range\u001b[1;34m(cls, start, end, periods, freq, tz, normalize, ambiguous, nonexistent, inclusive, unit)\u001b[0m\n\u001b[0;32m    414\u001b[0m     \u001b[38;5;28;01mraise\u001b[39;00m \u001b[38;5;167;01mValueError\u001b[39;00m(\u001b[38;5;124m\"\u001b[39m\u001b[38;5;124mMust provide freq argument if no data is supplied\u001b[39m\u001b[38;5;124m\"\u001b[39m)\n\u001b[0;32m    416\u001b[0m \u001b[38;5;28;01mif\u001b[39;00m com\u001b[38;5;241m.\u001b[39mcount_not_none(start, end, periods, freq) \u001b[38;5;241m!=\u001b[39m \u001b[38;5;241m3\u001b[39m:\n\u001b[1;32m--> 417\u001b[0m     \u001b[38;5;28;01mraise\u001b[39;00m \u001b[38;5;167;01mValueError\u001b[39;00m(\n\u001b[0;32m    418\u001b[0m         \u001b[38;5;124m\"\u001b[39m\u001b[38;5;124mOf the four parameters: start, end, periods, \u001b[39m\u001b[38;5;124m\"\u001b[39m\n\u001b[0;32m    419\u001b[0m         \u001b[38;5;124m\"\u001b[39m\u001b[38;5;124mand freq, exactly three must be specified\u001b[39m\u001b[38;5;124m\"\u001b[39m\n\u001b[0;32m    420\u001b[0m     )\n\u001b[0;32m    421\u001b[0m freq \u001b[38;5;241m=\u001b[39m to_offset(freq)\n\u001b[0;32m    423\u001b[0m \u001b[38;5;28;01mif\u001b[39;00m start \u001b[38;5;129;01mis\u001b[39;00m \u001b[38;5;129;01mnot\u001b[39;00m \u001b[38;5;28;01mNone\u001b[39;00m:\n",
      "\u001b[1;31mValueError\u001b[0m: Of the four parameters: start, end, periods, and freq, exactly three must be specified"
     ]
    }
   ],
   "source": [
    "Index = pd.date_range(\"05/09/2024\")"
   ]
  },
  {
   "cell_type": "code",
   "execution_count": 207,
   "id": "b6deb517-9f4b-45c5-98c9-966b98904304",
   "metadata": {
    "execution": {
     "iopub.execute_input": "2024-09-05T12:04:11.044075Z",
     "iopub.status.busy": "2024-09-05T12:04:11.033834Z",
     "iopub.status.idle": "2024-09-05T12:04:11.105106Z",
     "shell.execute_reply": "2024-09-05T12:04:11.071783Z",
     "shell.execute_reply.started": "2024-09-05T12:04:11.044075Z"
    }
   },
   "outputs": [],
   "source": [
    "Index = pd.date_range(\"05/09/2024\" , periods=8)"
   ]
  },
  {
   "cell_type": "code",
   "execution_count": 209,
   "id": "4802a3cd-0774-4a93-862e-27eb5d6aa53f",
   "metadata": {
    "execution": {
     "iopub.execute_input": "2024-09-05T12:04:15.277052Z",
     "iopub.status.busy": "2024-09-05T12:04:15.274055Z",
     "iopub.status.idle": "2024-09-05T12:04:15.361057Z",
     "shell.execute_reply": "2024-09-05T12:04:15.339553Z",
     "shell.execute_reply.started": "2024-09-05T12:04:15.277052Z"
    }
   },
   "outputs": [
    {
     "data": {
      "text/plain": [
       "DatetimeIndex(['2024-05-09', '2024-05-10', '2024-05-11', '2024-05-12',\n",
       "               '2024-05-13', '2024-05-14', '2024-05-15', '2024-05-16'],\n",
       "              dtype='datetime64[ns]', freq='D')"
      ]
     },
     "execution_count": 209,
     "metadata": {},
     "output_type": "execute_result"
    }
   ],
   "source": [
    "Index"
   ]
  },
  {
   "cell_type": "code",
   "execution_count": 211,
   "id": "10d5f222-fc4c-4eb4-98c9-e29bf85b5f6f",
   "metadata": {
    "execution": {
     "iopub.execute_input": "2024-09-05T12:04:19.127714Z",
     "iopub.status.busy": "2024-09-05T12:04:19.126714Z",
     "iopub.status.idle": "2024-09-05T12:04:19.290605Z",
     "shell.execute_reply": "2024-09-05T12:04:19.238404Z",
     "shell.execute_reply.started": "2024-09-05T12:04:19.127714Z"
    }
   },
   "outputs": [
    {
     "ename": "TypeError",
     "evalue": "'module' object is not callable",
     "output_type": "error",
     "traceback": [
      "\u001b[1;31m---------------------------------------------------------------------------\u001b[0m",
      "\u001b[1;31mTypeError\u001b[0m                                 Traceback (most recent call last)",
      "Cell \u001b[1;32mIn[211], line 1\u001b[0m\n\u001b[1;32m----> 1\u001b[0m s \u001b[38;5;241m=\u001b[39m pd\u001b[38;5;241m.\u001b[39mSeries(np\u001b[38;5;241m.\u001b[39mrandom(\u001b[38;5;241m5\u001b[39m), index\u001b[38;5;241m=\u001b[39m[\u001b[38;5;124m\"\u001b[39m\u001b[38;5;124ma\u001b[39m\u001b[38;5;124m\"\u001b[39m,\u001b[38;5;124m\"\u001b[39m\u001b[38;5;124mb\u001b[39m\u001b[38;5;124m\"\u001b[39m,\u001b[38;5;124m\"\u001b[39m\u001b[38;5;124mc\u001b[39m\u001b[38;5;124m\"\u001b[39m,\u001b[38;5;124m\"\u001b[39m\u001b[38;5;124md\u001b[39m\u001b[38;5;124m\"\u001b[39m,\u001b[38;5;124m\"\u001b[39m\u001b[38;5;124me\u001b[39m\u001b[38;5;124m\"\u001b[39m])\n",
      "\u001b[1;31mTypeError\u001b[0m: 'module' object is not callable"
     ]
    }
   ],
   "source": [
    "s = pd.Series(np.random(5), index=[\"a\",\"b\",\"c\",\"d\",\"e\"])"
   ]
  },
  {
   "cell_type": "code",
   "execution_count": 213,
   "id": "753713b2-3ec1-4a32-9690-7a6f7f055021",
   "metadata": {
    "execution": {
     "iopub.execute_input": "2024-09-05T12:04:28.143825Z",
     "iopub.status.busy": "2024-09-05T12:04:28.143825Z",
     "iopub.status.idle": "2024-09-05T12:04:28.152907Z",
     "shell.execute_reply": "2024-09-05T12:04:28.151341Z",
     "shell.execute_reply.started": "2024-09-05T12:04:28.143825Z"
    }
   },
   "outputs": [],
   "source": [
    "s = pd.Series(np.random.randn(5), index=[\"a\",\"b\",\"c\",\"d\",\"e\"])"
   ]
  },
  {
   "cell_type": "code",
   "execution_count": 215,
   "id": "f7bf4b2f-97e4-49da-bcbb-4dc86d0895f3",
   "metadata": {
    "execution": {
     "iopub.execute_input": "2024-09-05T12:04:31.511814Z",
     "iopub.status.busy": "2024-09-05T12:04:31.510813Z",
     "iopub.status.idle": "2024-09-05T12:04:31.526043Z",
     "shell.execute_reply": "2024-09-05T12:04:31.524599Z",
     "shell.execute_reply.started": "2024-09-05T12:04:31.511814Z"
    }
   },
   "outputs": [
    {
     "data": {
      "text/plain": [
       "a   -0.278786\n",
       "b    0.707601\n",
       "c   -1.262127\n",
       "d   -0.825999\n",
       "e    0.502408\n",
       "dtype: float64"
      ]
     },
     "execution_count": 215,
     "metadata": {},
     "output_type": "execute_result"
    }
   ],
   "source": [
    "s"
   ]
  },
  {
   "cell_type": "code",
   "execution_count": 217,
   "id": "244af1fa-56c3-44b3-b9a6-3f94f0c721e1",
   "metadata": {
    "execution": {
     "iopub.execute_input": "2024-09-05T12:04:36.289654Z",
     "iopub.status.busy": "2024-09-05T12:04:36.289654Z",
     "iopub.status.idle": "2024-09-05T12:04:36.302477Z",
     "shell.execute_reply": "2024-09-05T12:04:36.302477Z",
     "shell.execute_reply.started": "2024-09-05T12:04:36.289654Z"
    }
   },
   "outputs": [],
   "source": [
    "df = pd.DataFrame(np.random.randn(8,3), index=Index, columns=[\"A\",\"B\",\"C\"])"
   ]
  },
  {
   "cell_type": "code",
   "execution_count": 219,
   "id": "80caaf45-af14-4dca-a922-f76f55af1e27",
   "metadata": {
    "execution": {
     "iopub.execute_input": "2024-09-05T12:04:39.462591Z",
     "iopub.status.busy": "2024-09-05T12:04:39.458592Z",
     "iopub.status.idle": "2024-09-05T12:04:39.588103Z",
     "shell.execute_reply": "2024-09-05T12:04:39.546803Z",
     "shell.execute_reply.started": "2024-09-05T12:04:39.461597Z"
    }
   },
   "outputs": [
    {
     "data": {
      "text/html": [
       "<div>\n",
       "<style scoped>\n",
       "    .dataframe tbody tr th:only-of-type {\n",
       "        vertical-align: middle;\n",
       "    }\n",
       "\n",
       "    .dataframe tbody tr th {\n",
       "        vertical-align: top;\n",
       "    }\n",
       "\n",
       "    .dataframe thead th {\n",
       "        text-align: right;\n",
       "    }\n",
       "</style>\n",
       "<table border=\"1\" class=\"dataframe\">\n",
       "  <thead>\n",
       "    <tr style=\"text-align: right;\">\n",
       "      <th></th>\n",
       "      <th>A</th>\n",
       "      <th>B</th>\n",
       "      <th>C</th>\n",
       "    </tr>\n",
       "  </thead>\n",
       "  <tbody>\n",
       "    <tr>\n",
       "      <th>2024-05-09</th>\n",
       "      <td>-0.669373</td>\n",
       "      <td>-0.897791</td>\n",
       "      <td>-2.039007</td>\n",
       "    </tr>\n",
       "    <tr>\n",
       "      <th>2024-05-10</th>\n",
       "      <td>0.474056</td>\n",
       "      <td>-2.301712</td>\n",
       "      <td>0.012047</td>\n",
       "    </tr>\n",
       "    <tr>\n",
       "      <th>2024-05-11</th>\n",
       "      <td>-0.651026</td>\n",
       "      <td>-0.109305</td>\n",
       "      <td>0.475347</td>\n",
       "    </tr>\n",
       "    <tr>\n",
       "      <th>2024-05-12</th>\n",
       "      <td>1.079372</td>\n",
       "      <td>0.858243</td>\n",
       "      <td>1.103918</td>\n",
       "    </tr>\n",
       "    <tr>\n",
       "      <th>2024-05-13</th>\n",
       "      <td>0.367591</td>\n",
       "      <td>1.496114</td>\n",
       "      <td>-0.591148</td>\n",
       "    </tr>\n",
       "    <tr>\n",
       "      <th>2024-05-14</th>\n",
       "      <td>0.222514</td>\n",
       "      <td>-0.772699</td>\n",
       "      <td>0.642954</td>\n",
       "    </tr>\n",
       "    <tr>\n",
       "      <th>2024-05-15</th>\n",
       "      <td>0.495095</td>\n",
       "      <td>-1.283508</td>\n",
       "      <td>-0.112395</td>\n",
       "    </tr>\n",
       "    <tr>\n",
       "      <th>2024-05-16</th>\n",
       "      <td>2.551928</td>\n",
       "      <td>1.247187</td>\n",
       "      <td>1.468325</td>\n",
       "    </tr>\n",
       "  </tbody>\n",
       "</table>\n",
       "</div>"
      ],
      "text/plain": [
       "                   A         B         C\n",
       "2024-05-09 -0.669373 -0.897791 -2.039007\n",
       "2024-05-10  0.474056 -2.301712  0.012047\n",
       "2024-05-11 -0.651026 -0.109305  0.475347\n",
       "2024-05-12  1.079372  0.858243  1.103918\n",
       "2024-05-13  0.367591  1.496114 -0.591148\n",
       "2024-05-14  0.222514 -0.772699  0.642954\n",
       "2024-05-15  0.495095 -1.283508 -0.112395\n",
       "2024-05-16  2.551928  1.247187  1.468325"
      ]
     },
     "execution_count": 219,
     "metadata": {},
     "output_type": "execute_result"
    }
   ],
   "source": [
    "df"
   ]
  },
  {
   "cell_type": "markdown",
   "id": "8f53433f-7d64-4bac-bc42-5a93c83a05a2",
   "metadata": {},
   "source": [
    "# Head and tail"
   ]
  },
  {
   "cell_type": "markdown",
   "id": "13683f26-f630-4ab5-bb67-1c1179e965e7",
   "metadata": {},
   "source": [
    "To view a small sample of a Series or DataFrame object, use the head() and tail() methods. The default number of elements to display is five, but you may pass a custom number."
   ]
  },
  {
   "cell_type": "code",
   "execution_count": 222,
   "id": "d269f9b5-cb1e-436b-a5b0-d0ae4584df7e",
   "metadata": {
    "execution": {
     "iopub.execute_input": "2024-09-05T12:04:49.925549Z",
     "iopub.status.busy": "2024-09-05T12:04:49.925549Z",
     "iopub.status.idle": "2024-09-05T12:04:49.941905Z",
     "shell.execute_reply": "2024-09-05T12:04:49.939852Z",
     "shell.execute_reply.started": "2024-09-05T12:04:49.925549Z"
    }
   },
   "outputs": [],
   "source": [
    "series = pd.Series(np.random.randn(1000))"
   ]
  },
  {
   "cell_type": "code",
   "execution_count": 224,
   "id": "c482e011-6527-4767-887f-2e0e7773cca6",
   "metadata": {
    "execution": {
     "iopub.execute_input": "2024-09-05T12:04:52.262903Z",
     "iopub.status.busy": "2024-09-05T12:04:52.261905Z",
     "iopub.status.idle": "2024-09-05T12:04:52.365648Z",
     "shell.execute_reply": "2024-09-05T12:04:52.327692Z",
     "shell.execute_reply.started": "2024-09-05T12:04:52.262903Z"
    }
   },
   "outputs": [
    {
     "data": {
      "text/plain": [
       "0     -0.603932\n",
       "1      0.825112\n",
       "2      1.703419\n",
       "3      0.358948\n",
       "4      0.413435\n",
       "         ...   \n",
       "995    1.972014\n",
       "996   -0.300611\n",
       "997    1.290141\n",
       "998   -0.100424\n",
       "999   -0.343887\n",
       "Length: 1000, dtype: float64"
      ]
     },
     "execution_count": 224,
     "metadata": {},
     "output_type": "execute_result"
    }
   ],
   "source": [
    "series"
   ]
  },
  {
   "cell_type": "code",
   "execution_count": 226,
   "id": "608be898-0820-4f46-a23b-5bf8dc5ddf76",
   "metadata": {
    "execution": {
     "iopub.execute_input": "2024-09-05T12:04:55.731301Z",
     "iopub.status.busy": "2024-09-05T12:04:55.731301Z",
     "iopub.status.idle": "2024-09-05T12:04:55.752906Z",
     "shell.execute_reply": "2024-09-05T12:04:55.751249Z",
     "shell.execute_reply.started": "2024-09-05T12:04:55.731301Z"
    }
   },
   "outputs": [
    {
     "data": {
      "text/plain": [
       "0   -0.603932\n",
       "1    0.825112\n",
       "2    1.703419\n",
       "3    0.358948\n",
       "4    0.413435\n",
       "dtype: float64"
      ]
     },
     "execution_count": 226,
     "metadata": {},
     "output_type": "execute_result"
    }
   ],
   "source": [
    "series.head()"
   ]
  },
  {
   "cell_type": "code",
   "execution_count": 228,
   "id": "eba6da42-6a9e-472f-ac15-0cf1dd424043",
   "metadata": {
    "execution": {
     "iopub.execute_input": "2024-09-05T12:04:59.006472Z",
     "iopub.status.busy": "2024-09-05T12:04:59.004556Z",
     "iopub.status.idle": "2024-09-05T12:04:59.021925Z",
     "shell.execute_reply": "2024-09-05T12:04:59.020259Z",
     "shell.execute_reply.started": "2024-09-05T12:04:59.006472Z"
    }
   },
   "outputs": [
    {
     "data": {
      "text/plain": [
       "995    1.972014\n",
       "996   -0.300611\n",
       "997    1.290141\n",
       "998   -0.100424\n",
       "999   -0.343887\n",
       "dtype: float64"
      ]
     },
     "execution_count": 228,
     "metadata": {},
     "output_type": "execute_result"
    }
   ],
   "source": [
    "series.tail()"
   ]
  },
  {
   "cell_type": "markdown",
   "id": "4e41586c-f4b2-4b47-9dd4-430a9dd840a3",
   "metadata": {},
   "source": [
    "# Attributes and underlying data"
   ]
  },
  {
   "cell_type": "markdown",
   "id": "74115e1a-b343-475c-aaa7-7db5f5bcdac6",
   "metadata": {},
   "source": [
    "pandas object have no of attibute eanbling to acesss you metadata"
   ]
  },
  {
   "cell_type": "markdown",
   "id": "79ac71df-06f6-4145-9dc0-0af642b6a941",
   "metadata": {},
   "source": [
    "shape: gives the axis dimensions of the object, consistent with ndarray"
   ]
  },
  {
   "cell_type": "markdown",
   "id": "3ab09236-728e-4d4c-ac70-a3276e7557d1",
   "metadata": {},
   "source": [
    "Axis labels\n",
    "    Series: index (only axis)\n",
    "\n",
    "    DataFrame: index (rows) and columns"
   ]
  },
  {
   "cell_type": "markdown",
   "id": "33f6988d-b3c1-49a3-bcff-e4e713051caa",
   "metadata": {},
   "source": [
    "Note, these attributes can be safely assigned to!\n",
    "\n"
   ]
  },
  {
   "cell_type": "code",
   "execution_count": 230,
   "id": "a4d6e0de-0d87-4e89-945f-aca4e3e4ea49",
   "metadata": {
    "execution": {
     "iopub.execute_input": "2024-09-05T12:05:03.905487Z",
     "iopub.status.busy": "2024-09-05T12:05:03.902996Z",
     "iopub.status.idle": "2024-09-05T12:05:03.988519Z",
     "shell.execute_reply": "2024-09-05T12:05:03.934780Z",
     "shell.execute_reply.started": "2024-09-05T12:05:03.905487Z"
    }
   },
   "outputs": [
    {
     "data": {
      "text/html": [
       "<div>\n",
       "<style scoped>\n",
       "    .dataframe tbody tr th:only-of-type {\n",
       "        vertical-align: middle;\n",
       "    }\n",
       "\n",
       "    .dataframe tbody tr th {\n",
       "        vertical-align: top;\n",
       "    }\n",
       "\n",
       "    .dataframe thead th {\n",
       "        text-align: right;\n",
       "    }\n",
       "</style>\n",
       "<table border=\"1\" class=\"dataframe\">\n",
       "  <thead>\n",
       "    <tr style=\"text-align: right;\">\n",
       "      <th></th>\n",
       "      <th>A</th>\n",
       "      <th>B</th>\n",
       "      <th>C</th>\n",
       "    </tr>\n",
       "  </thead>\n",
       "  <tbody>\n",
       "    <tr>\n",
       "      <th>2024-05-09</th>\n",
       "      <td>-0.669373</td>\n",
       "      <td>-0.897791</td>\n",
       "      <td>-2.039007</td>\n",
       "    </tr>\n",
       "    <tr>\n",
       "      <th>2024-05-10</th>\n",
       "      <td>0.474056</td>\n",
       "      <td>-2.301712</td>\n",
       "      <td>0.012047</td>\n",
       "    </tr>\n",
       "  </tbody>\n",
       "</table>\n",
       "</div>"
      ],
      "text/plain": [
       "                   A         B         C\n",
       "2024-05-09 -0.669373 -0.897791 -2.039007\n",
       "2024-05-10  0.474056 -2.301712  0.012047"
      ]
     },
     "execution_count": 230,
     "metadata": {},
     "output_type": "execute_result"
    }
   ],
   "source": [
    "df[:2]"
   ]
  },
  {
   "cell_type": "code",
   "execution_count": 232,
   "id": "e6293d11-6d1f-4b50-911a-f898b06cecfe",
   "metadata": {
    "execution": {
     "iopub.execute_input": "2024-09-05T12:05:16.243480Z",
     "iopub.status.busy": "2024-09-05T12:05:16.243480Z",
     "iopub.status.idle": "2024-09-05T12:05:16.259959Z",
     "shell.execute_reply": "2024-09-05T12:05:16.258436Z",
     "shell.execute_reply.started": "2024-09-05T12:05:16.243480Z"
    }
   },
   "outputs": [],
   "source": [
    "df.columns = [x.lower() for x in df.columns]"
   ]
  },
  {
   "cell_type": "code",
   "execution_count": 234,
   "id": "893dfe32-f1f1-4ff9-a95b-fa3d8d78983e",
   "metadata": {
    "execution": {
     "iopub.execute_input": "2024-09-05T12:05:20.430276Z",
     "iopub.status.busy": "2024-09-05T12:05:20.430276Z",
     "iopub.status.idle": "2024-09-05T12:05:20.459239Z",
     "shell.execute_reply": "2024-09-05T12:05:20.457496Z",
     "shell.execute_reply.started": "2024-09-05T12:05:20.430276Z"
    }
   },
   "outputs": [
    {
     "data": {
      "text/html": [
       "<div>\n",
       "<style scoped>\n",
       "    .dataframe tbody tr th:only-of-type {\n",
       "        vertical-align: middle;\n",
       "    }\n",
       "\n",
       "    .dataframe tbody tr th {\n",
       "        vertical-align: top;\n",
       "    }\n",
       "\n",
       "    .dataframe thead th {\n",
       "        text-align: right;\n",
       "    }\n",
       "</style>\n",
       "<table border=\"1\" class=\"dataframe\">\n",
       "  <thead>\n",
       "    <tr style=\"text-align: right;\">\n",
       "      <th></th>\n",
       "      <th>a</th>\n",
       "      <th>b</th>\n",
       "      <th>c</th>\n",
       "    </tr>\n",
       "  </thead>\n",
       "  <tbody>\n",
       "    <tr>\n",
       "      <th>2024-05-09</th>\n",
       "      <td>-0.669373</td>\n",
       "      <td>-0.897791</td>\n",
       "      <td>-2.039007</td>\n",
       "    </tr>\n",
       "    <tr>\n",
       "      <th>2024-05-10</th>\n",
       "      <td>0.474056</td>\n",
       "      <td>-2.301712</td>\n",
       "      <td>0.012047</td>\n",
       "    </tr>\n",
       "    <tr>\n",
       "      <th>2024-05-11</th>\n",
       "      <td>-0.651026</td>\n",
       "      <td>-0.109305</td>\n",
       "      <td>0.475347</td>\n",
       "    </tr>\n",
       "    <tr>\n",
       "      <th>2024-05-12</th>\n",
       "      <td>1.079372</td>\n",
       "      <td>0.858243</td>\n",
       "      <td>1.103918</td>\n",
       "    </tr>\n",
       "    <tr>\n",
       "      <th>2024-05-13</th>\n",
       "      <td>0.367591</td>\n",
       "      <td>1.496114</td>\n",
       "      <td>-0.591148</td>\n",
       "    </tr>\n",
       "    <tr>\n",
       "      <th>2024-05-14</th>\n",
       "      <td>0.222514</td>\n",
       "      <td>-0.772699</td>\n",
       "      <td>0.642954</td>\n",
       "    </tr>\n",
       "    <tr>\n",
       "      <th>2024-05-15</th>\n",
       "      <td>0.495095</td>\n",
       "      <td>-1.283508</td>\n",
       "      <td>-0.112395</td>\n",
       "    </tr>\n",
       "    <tr>\n",
       "      <th>2024-05-16</th>\n",
       "      <td>2.551928</td>\n",
       "      <td>1.247187</td>\n",
       "      <td>1.468325</td>\n",
       "    </tr>\n",
       "  </tbody>\n",
       "</table>\n",
       "</div>"
      ],
      "text/plain": [
       "                   a         b         c\n",
       "2024-05-09 -0.669373 -0.897791 -2.039007\n",
       "2024-05-10  0.474056 -2.301712  0.012047\n",
       "2024-05-11 -0.651026 -0.109305  0.475347\n",
       "2024-05-12  1.079372  0.858243  1.103918\n",
       "2024-05-13  0.367591  1.496114 -0.591148\n",
       "2024-05-14  0.222514 -0.772699  0.642954\n",
       "2024-05-15  0.495095 -1.283508 -0.112395\n",
       "2024-05-16  2.551928  1.247187  1.468325"
      ]
     },
     "execution_count": 234,
     "metadata": {},
     "output_type": "execute_result"
    }
   ],
   "source": [
    "df"
   ]
  },
  {
   "cell_type": "markdown",
   "id": "f3a15109-1bc8-459e-9453-ef80958f5ec5",
   "metadata": {},
   "source": [
    "pandas objects (Index, Series, DataFrame) can be thought of as containers for arrays, which hold the actual da\n",
    "ta and do the actual computation. For many types, the underlying array is a numpy.ndarray"
   ]
  },
  {
   "cell_type": "markdown",
   "id": "c2ab02ce-8faf-4354-b8fe-61882d6dbf5b",
   "metadata": {},
   "source": [
    "To get the actual data inside a Index or Series, use the .array property"
   ]
  },
  {
   "cell_type": "code",
   "execution_count": 236,
   "id": "40934971-3278-4a07-9835-aec9f94b5396",
   "metadata": {
    "execution": {
     "iopub.execute_input": "2024-09-05T12:05:26.597861Z",
     "iopub.status.busy": "2024-09-05T12:05:26.595439Z",
     "iopub.status.idle": "2024-09-05T12:05:26.616020Z",
     "shell.execute_reply": "2024-09-05T12:05:26.615011Z",
     "shell.execute_reply.started": "2024-09-05T12:05:26.596949Z"
    }
   },
   "outputs": [
    {
     "data": {
      "text/plain": [
       "<NumpyExtensionArray>\n",
       "[-0.2787855784414722,  0.7076012105159336, -1.2621274011981924,\n",
       " -0.8259987993942098,  0.5024081835470091]\n",
       "Length: 5, dtype: float64"
      ]
     },
     "execution_count": 236,
     "metadata": {},
     "output_type": "execute_result"
    }
   ],
   "source": [
    "s.array"
   ]
  },
  {
   "cell_type": "code",
   "execution_count": 238,
   "id": "e15ab39a-be73-46a8-8c05-3d09dd0ea1e8",
   "metadata": {
    "execution": {
     "iopub.execute_input": "2024-09-05T12:05:41.232275Z",
     "iopub.status.busy": "2024-09-05T12:05:41.230689Z",
     "iopub.status.idle": "2024-09-05T12:05:41.245763Z",
     "shell.execute_reply": "2024-09-05T12:05:41.244063Z",
     "shell.execute_reply.started": "2024-09-05T12:05:41.232275Z"
    }
   },
   "outputs": [
    {
     "data": {
      "text/plain": [
       "<NumpyExtensionArray>\n",
       "['a', 'b', 'c', 'd', 'e']\n",
       "Length: 5, dtype: object"
      ]
     },
     "execution_count": 238,
     "metadata": {},
     "output_type": "execute_result"
    }
   ],
   "source": [
    "s.index.array"
   ]
  },
  {
   "cell_type": "markdown",
   "id": "99d1e8e4-7d2c-4781-8532-c4f4a9b49d0e",
   "metadata": {},
   "source": [
    "array will always be an ExtensionArray. The exact details of what an ExtensionArray is and why pandas uses them are a bit beyond the scope of this introduction. See dtypes for more."
   ]
  },
  {
   "cell_type": "code",
   "execution_count": 240,
   "id": "9ad583f6-c665-4959-b568-a43e2796be7c",
   "metadata": {
    "execution": {
     "iopub.execute_input": "2024-09-05T12:05:44.329086Z",
     "iopub.status.busy": "2024-09-05T12:05:44.328086Z",
     "iopub.status.idle": "2024-09-05T12:05:44.340342Z",
     "shell.execute_reply": "2024-09-05T12:05:44.338533Z",
     "shell.execute_reply.started": "2024-09-05T12:05:44.328086Z"
    }
   },
   "outputs": [
    {
     "data": {
      "text/plain": [
       "array([-0.27878558,  0.70760121, -1.2621274 , -0.8259988 ,  0.50240818])"
      ]
     },
     "execution_count": 240,
     "metadata": {},
     "output_type": "execute_result"
    }
   ],
   "source": [
    "s.to_numpy()"
   ]
  },
  {
   "cell_type": "code",
   "execution_count": 242,
   "id": "ec96a643-25f2-4349-bfdf-635a0baab0dc",
   "metadata": {
    "execution": {
     "iopub.execute_input": "2024-09-05T12:05:46.978945Z",
     "iopub.status.busy": "2024-09-05T12:05:46.978945Z",
     "iopub.status.idle": "2024-09-05T12:05:47.001628Z",
     "shell.execute_reply": "2024-09-05T12:05:47.000011Z",
     "shell.execute_reply.started": "2024-09-05T12:05:46.978945Z"
    }
   },
   "outputs": [
    {
     "data": {
      "text/plain": [
       "<function numpy.array>"
      ]
     },
     "execution_count": 242,
     "metadata": {},
     "output_type": "execute_result"
    }
   ],
   "source": [
    "np.array"
   ]
  },
  {
   "cell_type": "code",
   "execution_count": 244,
   "id": "0fb90d2c-f3a7-4e7d-a12d-2993af734b86",
   "metadata": {
    "execution": {
     "iopub.execute_input": "2024-09-05T12:05:57.781607Z",
     "iopub.status.busy": "2024-09-05T12:05:57.781607Z",
     "iopub.status.idle": "2024-09-05T12:05:57.798821Z",
     "shell.execute_reply": "2024-09-05T12:05:57.797730Z",
     "shell.execute_reply.started": "2024-09-05T12:05:57.781607Z"
    }
   },
   "outputs": [
    {
     "data": {
      "text/plain": [
       "array([-0.27878558,  0.70760121, -1.2621274 , -0.8259988 ,  0.50240818])"
      ]
     },
     "execution_count": 244,
     "metadata": {},
     "output_type": "execute_result"
    }
   ],
   "source": [
    "np.asarray(s)"
   ]
  },
  {
   "cell_type": "markdown",
   "id": "83a9ea35-f645-4b31-8630-b297748611b6",
   "metadata": {},
   "source": [
    "When the Series or Index is backed by an ExtensionArray, to_numpy() may involve copying data and coercing values"
   ]
  },
  {
   "cell_type": "markdown",
   "id": "4fa7854a-e729-4827-bf16-43c325b5193e",
   "metadata": {},
   "source": [
    "to_numpy() gives some control over the dtype of the resulting numpy.ndarray. For example, consider datetimes with timezones. "
   ]
  },
  {
   "cell_type": "markdown",
   "id": "d131b34f-0586-47ff-ae47-58c230564c4c",
   "metadata": {},
   "source": [
    "NumPy doesn’t have a dtype to represent timezone-aware datetimes, so there are two possibly useful representations:"
   ]
  },
  {
   "cell_type": "markdown",
   "id": "2c111cf9-f389-43f7-922b-75936fb47667",
   "metadata": {},
   "source": [
    "An object-dtype numpy.ndarray with Timestamp objects, each with the correct tz\n",
    "\n",
    "A datetime64[ns] -dtype numpy.ndarray, where the values have been converted to UTC and the timezone discarded"
   ]
  },
  {
   "cell_type": "markdown",
   "id": "a4efbfdb-b639-426f-a27d-f428d731c388",
   "metadata": {},
   "source": [
    "Timezones may be preserved with dtype=object\n",
    "\n"
   ]
  },
  {
   "cell_type": "code",
   "execution_count": 246,
   "id": "df83838e-f9da-4e3b-89c6-83b76f4680c7",
   "metadata": {
    "execution": {
     "iopub.execute_input": "2024-09-05T12:06:02.684048Z",
     "iopub.status.busy": "2024-09-05T12:06:02.684048Z",
     "iopub.status.idle": "2024-09-05T12:06:02.700584Z",
     "shell.execute_reply": "2024-09-05T12:06:02.699051Z",
     "shell.execute_reply.started": "2024-09-05T12:06:02.684048Z"
    }
   },
   "outputs": [],
   "source": [
    "ser = pd.Series(pd.date_range(\"2024\", periods=2, tz=\"CET\" ))"
   ]
  },
  {
   "cell_type": "code",
   "execution_count": 248,
   "id": "580e6994-4d30-45dd-b455-828458971839",
   "metadata": {
    "execution": {
     "iopub.execute_input": "2024-09-05T12:06:06.174878Z",
     "iopub.status.busy": "2024-09-05T12:06:06.173835Z",
     "iopub.status.idle": "2024-09-05T12:06:06.187996Z",
     "shell.execute_reply": "2024-09-05T12:06:06.186955Z",
     "shell.execute_reply.started": "2024-09-05T12:06:06.174878Z"
    }
   },
   "outputs": [
    {
     "data": {
      "text/plain": [
       "0   2024-01-01 00:00:00+01:00\n",
       "1   2024-01-02 00:00:00+01:00\n",
       "dtype: datetime64[ns, CET]"
      ]
     },
     "execution_count": 248,
     "metadata": {},
     "output_type": "execute_result"
    }
   ],
   "source": [
    "ser"
   ]
  },
  {
   "cell_type": "code",
   "execution_count": 250,
   "id": "029328d5-8774-44b2-8dd1-3df409bcbb1c",
   "metadata": {
    "execution": {
     "iopub.execute_input": "2024-09-05T12:06:09.214167Z",
     "iopub.status.busy": "2024-09-05T12:06:09.214167Z",
     "iopub.status.idle": "2024-09-05T12:06:09.230762Z",
     "shell.execute_reply": "2024-09-05T12:06:09.229415Z",
     "shell.execute_reply.started": "2024-09-05T12:06:09.214167Z"
    }
   },
   "outputs": [
    {
     "data": {
      "text/plain": [
       "array([Timestamp('2024-01-01 00:00:00+0100', tz='CET'),\n",
       "       Timestamp('2024-01-02 00:00:00+0100', tz='CET')], dtype=object)"
      ]
     },
     "execution_count": 250,
     "metadata": {},
     "output_type": "execute_result"
    }
   ],
   "source": [
    "ser.to_numpy(dtype=object)"
   ]
  },
  {
   "cell_type": "markdown",
   "id": "b49a4dcf-ccbc-41b6-ace3-e4e2ceab0ee8",
   "metadata": {},
   "source": [
    "Or thrown away with dtype='datetime64[ns]'"
   ]
  },
  {
   "cell_type": "code",
   "execution_count": 252,
   "id": "377d6918-0804-4739-92a3-6d06a1bb4671",
   "metadata": {
    "execution": {
     "iopub.execute_input": "2024-09-05T12:06:13.212308Z",
     "iopub.status.busy": "2024-09-05T12:06:13.212308Z",
     "iopub.status.idle": "2024-09-05T12:06:13.231956Z",
     "shell.execute_reply": "2024-09-05T12:06:13.230950Z",
     "shell.execute_reply.started": "2024-09-05T12:06:13.212308Z"
    }
   },
   "outputs": [
    {
     "data": {
      "text/plain": [
       "array(['2023-12-31T23:00:00.000000000', '2024-01-01T23:00:00.000000000'],\n",
       "      dtype='datetime64[ns]')"
      ]
     },
     "execution_count": 252,
     "metadata": {},
     "output_type": "execute_result"
    }
   ],
   "source": [
    "ser.to_numpy(dtype = \"datetime64[ns]\")"
   ]
  },
  {
   "cell_type": "markdown",
   "id": "b415d38e-00ed-4e19-9ead-58c2f837b5a0",
   "metadata": {},
   "source": [
    "Getting the “raw data” inside a DataFrame is possibly a bit more complex. When your DataFrame only has a single data type for all the columns, DataFrame.to_numpy() will return the underlying data:"
   ]
  },
  {
   "cell_type": "code",
   "execution_count": 254,
   "id": "f986e682-17f1-4033-b5ba-b9a93e48a1d6",
   "metadata": {
    "execution": {
     "iopub.execute_input": "2024-09-05T12:06:16.066217Z",
     "iopub.status.busy": "2024-09-05T12:06:16.063653Z",
     "iopub.status.idle": "2024-09-05T12:06:16.081176Z",
     "shell.execute_reply": "2024-09-05T12:06:16.080363Z",
     "shell.execute_reply.started": "2024-09-05T12:06:16.066217Z"
    }
   },
   "outputs": [
    {
     "data": {
      "text/plain": [
       "array([[-0.66937338, -0.89779063, -2.03900744],\n",
       "       [ 0.4740555 , -2.30171153,  0.01204717],\n",
       "       [-0.65102576, -0.10930545,  0.47534673],\n",
       "       [ 1.07937209,  0.85824326,  1.10391811],\n",
       "       [ 0.36759109,  1.49611382, -0.59114759],\n",
       "       [ 0.22251376, -0.77269936,  0.64295446],\n",
       "       [ 0.49509489, -1.28350795, -0.11239501],\n",
       "       [ 2.55192804,  1.24718716,  1.46832454]])"
      ]
     },
     "execution_count": 254,
     "metadata": {},
     "output_type": "execute_result"
    }
   ],
   "source": [
    "df.to_numpy()"
   ]
  },
  {
   "cell_type": "markdown",
   "id": "32434212-f9aa-48b4-aca0-b1e020a4a360",
   "metadata": {},
   "source": [
    "If a DataFrame contains homogeneously-typed data, the ndarray can actually be modified in-place, and the changes will be reflected in the data structure. For heterogeneous data (e.g. some of the DataFrame’s columns are not all the same dtype), this will not be the case. The values attribute itself, unlike the axis labels, cannot be assigned to."
   ]
  },
  {
   "cell_type": "markdown",
   "id": "eadae2ad-d911-4160-aa77-b9a76cc82f42",
   "metadata": {},
   "source": [
    "# IN the past, Pandas recommended to use Series.values and DataFrame.values to extract data from series or dataframe,\n",
    "# its recommanded to not use .values insted of use a .array() .to_numpy() "
   ]
  },
  {
   "cell_type": "markdown",
   "id": "84806d1b-bfe4-49dc-8d1d-c34d759631e4",
   "metadata": {},
   "source": [
    "# Drowsback of .values()\n",
    "    When Series contain an extention type and if used series.values() to extarct the then data or it returns Numpy array or extention array. \n",
    "    Series.array alwasy return extention array & did not copy the data\n",
    "    series.to_numpy() always return numpy array & did copy/corsing the value.\n",
    "\n",
    "\n",
    "\n",
    "    DataFrame contains a mixture of data type, DataFrame.values copy the data and corsing the value to commomn type and its reletivly it expensive operation.\n",
    "    DataFrame.to_numpy() makes it cleared that return  Numpyarray "
   ]
  },
  {
   "cell_type": "markdown",
   "id": "1441541d-bf73-4690-835c-0a27408e1b3b",
   "metadata": {},
   "source": [
    "# Accelerated operations\n"
   ]
  },
  {
   "cell_type": "markdown",
   "id": "9bde60c7-17a9-4175-b0fd-97b397c92493",
   "metadata": {},
   "source": [
    "Pandas has support certain types of binary numerical and boolean operations using the  <b>numexpr</b>  and <b>bottleneck</b> liabraries.\n",
    "\n",
    "<b>numexpr</b> uses smart chunking, caching, and multiple cores.\n",
    "\n",
    "<b>bottleneck</b> is a set of specialized cython routines that are especially fast when dealing with arrays that have nans.\n",
    "\n",
    "\n",
    "Here is a sample (using 100 column x 100,000 row DataFrames): df2\r\n",
    "\r\n",
    "22.04\r\n",
    "\r\n",
    "36.50\r\n",
    "\r\n",
    "0.6039"
   ]
  },
  {
   "cell_type": "markdown",
   "id": "15c5bca1-20e4-4de3-bf60-aa561a7953b4",
   "metadata": {},
   "source": [
    "b>Operation</b>  <b>0.11.0 (ms)</b> <b>Prior Version (ms)</b> <b>Ratio to Prior</b>\n",
    "\n",
    "df1 > df           2 13.32             125.35                   0.1063\n",
    "\n",
    "df1 * df2           21.71              36.63                    0.5928\n",
    "\n",
    "df1 + df2          22.04               36.50                     0.6039"
   ]
  },
  {
   "cell_type": "markdown",
   "id": "189a6865-6d66-4e87-a079-1dd0cd0fba0a",
   "metadata": {},
   "source": [
    "These are both enabled to be used by default, you can control this by setting the options:"
   ]
  },
  {
   "cell_type": "code",
   "execution_count": 256,
   "id": "923abbcd-4ca4-4910-9020-dc360f26f3ce",
   "metadata": {
    "execution": {
     "iopub.execute_input": "2024-09-05T12:06:24.481768Z",
     "iopub.status.busy": "2024-09-05T12:06:24.481643Z",
     "iopub.status.idle": "2024-09-05T12:06:24.495756Z",
     "shell.execute_reply": "2024-09-05T12:06:24.493647Z",
     "shell.execute_reply.started": "2024-09-05T12:06:24.481768Z"
    }
   },
   "outputs": [],
   "source": [
    "bottleneckf = pd.set_option(\"compute.use_bottleneck\", False)"
   ]
  },
  {
   "cell_type": "code",
   "execution_count": 258,
   "id": "0cfcea66-1e87-4bb4-a83a-bad9131aafc9",
   "metadata": {
    "execution": {
     "iopub.execute_input": "2024-09-05T12:06:27.344205Z",
     "iopub.status.busy": "2024-09-05T12:06:27.344205Z",
     "iopub.status.idle": "2024-09-05T12:06:27.354788Z",
     "shell.execute_reply": "2024-09-05T12:06:27.352870Z",
     "shell.execute_reply.started": "2024-09-05T12:06:27.344205Z"
    }
   },
   "outputs": [
    {
     "name": "stdout",
     "output_type": "stream",
     "text": [
      "None\n"
     ]
    }
   ],
   "source": [
    "print(bottleneckf)"
   ]
  },
  {
   "cell_type": "code",
   "execution_count": 260,
   "id": "0ce650df-8c5f-425b-a54f-c67cbe3b2008",
   "metadata": {
    "execution": {
     "iopub.execute_input": "2024-09-05T12:06:31.850046Z",
     "iopub.status.busy": "2024-09-05T12:06:31.850046Z",
     "iopub.status.idle": "2024-09-05T12:06:31.858925Z",
     "shell.execute_reply": "2024-09-05T12:06:31.857914Z",
     "shell.execute_reply.started": "2024-09-05T12:06:31.850046Z"
    }
   },
   "outputs": [],
   "source": [
    "bottleneckt = pd.set_option(\"compute.use_bottleneck\", True)"
   ]
  },
  {
   "cell_type": "code",
   "execution_count": 262,
   "id": "2fcf86a5-05aa-4d38-90e3-028715c6aeba",
   "metadata": {
    "execution": {
     "iopub.execute_input": "2024-09-05T12:06:35.645678Z",
     "iopub.status.busy": "2024-09-05T12:06:35.643680Z",
     "iopub.status.idle": "2024-09-05T12:06:35.653233Z",
     "shell.execute_reply": "2024-09-05T12:06:35.651713Z",
     "shell.execute_reply.started": "2024-09-05T12:06:35.645678Z"
    }
   },
   "outputs": [
    {
     "name": "stdout",
     "output_type": "stream",
     "text": [
      "None\n"
     ]
    }
   ],
   "source": [
    "print(bottleneckt)"
   ]
  },
  {
   "cell_type": "code",
   "execution_count": 264,
   "id": "8e5ad444-f089-4924-beff-97ba4f898979",
   "metadata": {
    "execution": {
     "iopub.execute_input": "2024-09-05T12:06:48.665845Z",
     "iopub.status.busy": "2024-09-05T12:06:48.664838Z",
     "iopub.status.idle": "2024-09-05T12:06:48.673792Z",
     "shell.execute_reply": "2024-09-05T12:06:48.672056Z",
     "shell.execute_reply.started": "2024-09-05T12:06:48.665845Z"
    }
   },
   "outputs": [],
   "source": [
    "numexprf = pd.set_option(\"compute.use_numexpr\",False)"
   ]
  },
  {
   "cell_type": "code",
   "execution_count": 266,
   "id": "86f1e141-abc5-432f-9c6d-181618078e6c",
   "metadata": {
    "execution": {
     "iopub.execute_input": "2024-09-05T12:06:51.293584Z",
     "iopub.status.busy": "2024-09-05T12:06:51.291584Z",
     "iopub.status.idle": "2024-09-05T12:06:51.304250Z",
     "shell.execute_reply": "2024-09-05T12:06:51.302239Z",
     "shell.execute_reply.started": "2024-09-05T12:06:51.293584Z"
    }
   },
   "outputs": [
    {
     "name": "stdout",
     "output_type": "stream",
     "text": [
      "None\n"
     ]
    }
   ],
   "source": [
    "print(numexprf)"
   ]
  },
  {
   "cell_type": "code",
   "execution_count": 268,
   "id": "9f8dff34-d587-4f5d-ab62-780b692b8b18",
   "metadata": {
    "execution": {
     "iopub.execute_input": "2024-09-05T12:06:56.111079Z",
     "iopub.status.busy": "2024-09-05T12:06:56.110079Z",
     "iopub.status.idle": "2024-09-05T12:06:56.119613Z",
     "shell.execute_reply": "2024-09-05T12:06:56.118052Z",
     "shell.execute_reply.started": "2024-09-05T12:06:56.111079Z"
    }
   },
   "outputs": [],
   "source": [
    "numexprt = pd.set_option(\"compute.use_numexpr\",True)"
   ]
  },
  {
   "cell_type": "code",
   "execution_count": 270,
   "id": "acede5c9-24d7-4f57-9309-304852b31809",
   "metadata": {
    "execution": {
     "iopub.execute_input": "2024-09-05T12:06:58.462878Z",
     "iopub.status.busy": "2024-09-05T12:06:58.461252Z",
     "iopub.status.idle": "2024-09-05T12:06:58.476389Z",
     "shell.execute_reply": "2024-09-05T12:06:58.474365Z",
     "shell.execute_reply.started": "2024-09-05T12:06:58.462878Z"
    }
   },
   "outputs": [
    {
     "name": "stdout",
     "output_type": "stream",
     "text": [
      "None\n"
     ]
    }
   ],
   "source": [
    "print(numexprt)"
   ]
  },
  {
   "cell_type": "markdown",
   "id": "d5d4b45a-fd1a-4ab5-a912-7114995671ba",
   "metadata": {},
   "source": [
    "# Flexible binary operations"
   ]
  },
  {
   "cell_type": "markdown",
   "id": "691b56f4-179b-4c54-8e3b-5aeb2570590a",
   "metadata": {},
   "source": [
    "With binary operations between pandas data structures, there are two key points of interest:\n",
    "\n",
    "<b> Broadcasting behavior between higher- (e.g. DataFrame)</b> and <b>lower-dimensional (e.g. Series) objects</b>.\n",
    "\n",
    "<b>Missing data in computations</b>.\n",
    "\n",
    "We will demonstrate how to manage these issues independently, though they can be handled simultaneously."
   ]
  },
  {
   "cell_type": "markdown",
   "id": "219d2443-593f-4813-8b7f-4ac3e053bebe",
   "metadata": {},
   "source": [
    "# Matching / broadcasting behavior"
   ]
  },
  {
   "cell_type": "code",
   "execution_count": null,
   "id": "5e9f81a7-6438-46de-9eab-f5f0a5f2c09b",
   "metadata": {},
   "outputs": [],
   "source": [
    "\n"
   ]
  }
 ],
 "metadata": {
  "kernelspec": {
   "display_name": "Python 3 (ipykernel)",
   "language": "python",
   "name": "python3"
  },
  "language_info": {
   "codemirror_mode": {
    "name": "ipython",
    "version": 3
   },
   "file_extension": ".py",
   "mimetype": "text/x-python",
   "name": "python",
   "nbconvert_exporter": "python",
   "pygments_lexer": "ipython3",
   "version": "3.12.3"
  }
 },
 "nbformat": 4,
 "nbformat_minor": 5
}
